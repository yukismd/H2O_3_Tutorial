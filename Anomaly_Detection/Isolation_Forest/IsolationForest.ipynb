{
 "cells": [
  {
   "cell_type": "markdown",
   "metadata": {},
   "source": [
    "## Isolation ForestによるAnomaly Detection"
   ]
  },
  {
   "cell_type": "markdown",
   "metadata": {},
   "source": [
    "参考\n",
    "- Blog: [Anomaly Detection with Isolation Forests using H2O](https://www.h2o.ai/blog/anomaly-detection-with-isolation-forests-using-h2o/)\n",
    "- Notebook sample: [Anomaly Detection](https://github.com/h2oai/h2o-tutorials/blob/master/best-practices/anomaly-detection/anomaly_detection.ipynb)"
   ]
  },
  {
   "cell_type": "code",
   "execution_count": 1,
   "metadata": {},
   "outputs": [
    {
     "name": "stdout",
     "output_type": "stream",
     "text": [
      "3.30.0.1\n"
     ]
    }
   ],
   "source": [
    "import h2o\n",
    "print(h2o.__version__)"
   ]
  },
  {
   "cell_type": "code",
   "execution_count": 3,
   "metadata": {},
   "outputs": [
    {
     "name": "stdout",
     "output_type": "stream",
     "text": [
      "Checking whether there is an H2O instance running at http://54.236.239.208:54321 . connected.\n",
      "Warning: Your H2O cluster version is too old (1 year, 1 month and 17 days)! Please download and install the latest version from http://h2o.ai/download/\n"
     ]
    },
    {
     "data": {
      "text/html": [
       "<div style=\"overflow:auto\"><table style=\"width:50%\"><tr><td>H2O_cluster_uptime:</td>\n",
       "<td>4 mins 00 secs</td></tr>\n",
       "<tr><td>H2O_cluster_timezone:</td>\n",
       "<td>Etc/UTC</td></tr>\n",
       "<tr><td>H2O_data_parsing_timezone:</td>\n",
       "<td>UTC</td></tr>\n",
       "<tr><td>H2O_cluster_version:</td>\n",
       "<td>3.30.0.1</td></tr>\n",
       "<tr><td>H2O_cluster_version_age:</td>\n",
       "<td>1 year, 1 month and 17 days !!!</td></tr>\n",
       "<tr><td>H2O_cluster_name:</td>\n",
       "<td>Puddle</td></tr>\n",
       "<tr><td>H2O_cluster_total_nodes:</td>\n",
       "<td>1</td></tr>\n",
       "<tr><td>H2O_cluster_free_memory:</td>\n",
       "<td>49.72 Gb</td></tr>\n",
       "<tr><td>H2O_cluster_total_cores:</td>\n",
       "<td>16</td></tr>\n",
       "<tr><td>H2O_cluster_allowed_cores:</td>\n",
       "<td>16</td></tr>\n",
       "<tr><td>H2O_cluster_status:</td>\n",
       "<td>locked, healthy</td></tr>\n",
       "<tr><td>H2O_connection_url:</td>\n",
       "<td>http://54.236.239.208:54321</td></tr>\n",
       "<tr><td>H2O_connection_proxy:</td>\n",
       "<td>null</td></tr>\n",
       "<tr><td>H2O_internal_security:</td>\n",
       "<td>False</td></tr>\n",
       "<tr><td>H2O_API_Extensions:</td>\n",
       "<td>Amazon S3, XGBoost, Algos, AutoML, Core V3, TargetEncoder, Core V4</td></tr>\n",
       "<tr><td>Python_version:</td>\n",
       "<td>3.6.12 final</td></tr></table></div>"
      ],
      "text/plain": [
       "--------------------------  ------------------------------------------------------------------\n",
       "H2O_cluster_uptime:         4 mins 00 secs\n",
       "H2O_cluster_timezone:       Etc/UTC\n",
       "H2O_data_parsing_timezone:  UTC\n",
       "H2O_cluster_version:        3.30.0.1\n",
       "H2O_cluster_version_age:    1 year, 1 month and 17 days !!!\n",
       "H2O_cluster_name:           Puddle\n",
       "H2O_cluster_total_nodes:    1\n",
       "H2O_cluster_free_memory:    49.72 Gb\n",
       "H2O_cluster_total_cores:    16\n",
       "H2O_cluster_allowed_cores:  16\n",
       "H2O_cluster_status:         locked, healthy\n",
       "H2O_connection_url:         http://54.236.239.208:54321\n",
       "H2O_connection_proxy:       null\n",
       "H2O_internal_security:      False\n",
       "H2O_API_Extensions:         Amazon S3, XGBoost, Algos, AutoML, Core V3, TargetEncoder, Core V4\n",
       "Python_version:             3.6.12 final\n",
       "--------------------------  ------------------------------------------------------------------"
      ]
     },
     "metadata": {},
     "output_type": "display_data"
    }
   ],
   "source": [
    "h2o.init(url='http://54.236.239.208:54321')"
   ]
  },
  {
   "cell_type": "markdown",
   "metadata": {},
   "source": [
    "### データ"
   ]
  },
  {
   "cell_type": "markdown",
   "metadata": {},
   "source": [
    "利用データ: [Credit Card Fraud Detection](https://www.kaggle.com/mlg-ulb/creditcardfraud)\n",
    "- The dataset contains transactions made by credit cards in September 2013 by European cardholders. This dataset presents transactions that occurred in two days, where we have 492 frauds out of 284,807 transactions. "
   ]
  },
  {
   "cell_type": "markdown",
   "metadata": {},
   "source": [
    "特徴量\n",
    "- Time : Seconds elapsed between each transaction\n",
    "- V1~V28 : Principal components obtained with PCA (秘匿情報にPCAを実施したもの)\n",
    "- Amount : Transaction Amount"
   ]
  },
  {
   "cell_type": "markdown",
   "metadata": {},
   "source": [
    "ターゲット\n",
    "- Class : 1:Fraud, 0:Not Fraud"
   ]
  },
  {
   "cell_type": "markdown",
   "metadata": {},
   "source": [
    "284,807のトランザクション中、492件のみがFraud（0.17%）の不均衡データ"
   ]
  },
  {
   "cell_type": "code",
   "execution_count": 81,
   "metadata": {},
   "outputs": [
    {
     "name": "stdout",
     "output_type": "stream",
     "text": [
      "Parse progress: |█████████████████████████████████████████████████████████| 100%\n"
     ]
    },
    {
     "data": {
      "text/plain": [
       "(284807, 31)"
      ]
     },
     "execution_count": 81,
     "metadata": {},
     "output_type": "execute_result"
    }
   ],
   "source": [
    "frame = h2o.import_file(\"/data/my_sample/creditcard.csv\")\n",
    "frame.shape"
   ]
  },
  {
   "cell_type": "code",
   "execution_count": 82,
   "metadata": {},
   "outputs": [
    {
     "data": {
      "text/plain": [
       "h2o.frame.H2OFrame"
      ]
     },
     "execution_count": 82,
     "metadata": {},
     "output_type": "execute_result"
    }
   ],
   "source": [
    "type(frame)"
   ]
  },
  {
   "cell_type": "markdown",
   "metadata": {},
   "source": [
    "[H2OFrame](http://docs.h2o.ai/h2o/latest-stable/h2o-py/docs/frame.html#h2oframe)"
   ]
  },
  {
   "cell_type": "code",
   "execution_count": 83,
   "metadata": {},
   "outputs": [
    {
     "data": {
      "text/html": [
       "<table>\n",
       "<thead>\n",
       "<tr><th style=\"text-align: right;\">  Time</th><th style=\"text-align: right;\">       V1</th><th style=\"text-align: right;\">        V2</th><th style=\"text-align: right;\">        V3</th><th style=\"text-align: right;\">       V4</th><th style=\"text-align: right;\">        V5</th><th style=\"text-align: right;\">        V6</th><th style=\"text-align: right;\">       V7</th><th style=\"text-align: right;\">        V8</th><th style=\"text-align: right;\">       V9</th><th style=\"text-align: right;\">       V10</th><th style=\"text-align: right;\">      V11</th><th style=\"text-align: right;\">       V12</th><th style=\"text-align: right;\">      V13</th><th style=\"text-align: right;\">       V14</th><th style=\"text-align: right;\">       V15</th><th style=\"text-align: right;\">      V16</th><th style=\"text-align: right;\">        V17</th><th style=\"text-align: right;\">       V18</th><th style=\"text-align: right;\">       V19</th><th style=\"text-align: right;\">       V20</th><th style=\"text-align: right;\">       V21</th><th style=\"text-align: right;\">       V22</th><th style=\"text-align: right;\">       V23</th><th style=\"text-align: right;\">       V24</th><th style=\"text-align: right;\">      V25</th><th style=\"text-align: right;\">       V26</th><th style=\"text-align: right;\">       V27</th><th style=\"text-align: right;\">        V28</th><th style=\"text-align: right;\">  Amount</th><th style=\"text-align: right;\">  Class</th></tr>\n",
       "</thead>\n",
       "<tbody>\n",
       "<tr><td style=\"text-align: right;\">     0</td><td style=\"text-align: right;\">-1.35981 </td><td style=\"text-align: right;\">-0.0727812</td><td style=\"text-align: right;\"> 2.53635  </td><td style=\"text-align: right;\"> 1.37816 </td><td style=\"text-align: right;\">-0.338321 </td><td style=\"text-align: right;\"> 0.462388 </td><td style=\"text-align: right;\"> 0.239599</td><td style=\"text-align: right;\"> 0.0986979</td><td style=\"text-align: right;\"> 0.363787</td><td style=\"text-align: right;\"> 0.0907942</td><td style=\"text-align: right;\">-0.5516  </td><td style=\"text-align: right;\">-0.617801 </td><td style=\"text-align: right;\">-0.99139 </td><td style=\"text-align: right;\">-0.311169 </td><td style=\"text-align: right;\"> 1.46818  </td><td style=\"text-align: right;\">-0.470401</td><td style=\"text-align: right;\"> 0.207971  </td><td style=\"text-align: right;\"> 0.0257906</td><td style=\"text-align: right;\"> 0.403993 </td><td style=\"text-align: right;\"> 0.251412 </td><td style=\"text-align: right;\">-0.0183068</td><td style=\"text-align: right;\"> 0.277838 </td><td style=\"text-align: right;\">-0.110474 </td><td style=\"text-align: right;\"> 0.0669281</td><td style=\"text-align: right;\"> 0.128539</td><td style=\"text-align: right;\">-0.189115 </td><td style=\"text-align: right;\"> 0.133558 </td><td style=\"text-align: right;\">-0.0210531 </td><td style=\"text-align: right;\">  149.62</td><td style=\"text-align: right;\">      0</td></tr>\n",
       "<tr><td style=\"text-align: right;\">     0</td><td style=\"text-align: right;\"> 1.19186 </td><td style=\"text-align: right;\"> 0.266151 </td><td style=\"text-align: right;\"> 0.16648  </td><td style=\"text-align: right;\"> 0.448154</td><td style=\"text-align: right;\"> 0.0600176</td><td style=\"text-align: right;\">-0.0823608</td><td style=\"text-align: right;\">-0.078803</td><td style=\"text-align: right;\"> 0.0851017</td><td style=\"text-align: right;\">-0.255425</td><td style=\"text-align: right;\">-0.166974 </td><td style=\"text-align: right;\"> 1.61273 </td><td style=\"text-align: right;\"> 1.06524  </td><td style=\"text-align: right;\"> 0.489095</td><td style=\"text-align: right;\">-0.143772 </td><td style=\"text-align: right;\"> 0.635558 </td><td style=\"text-align: right;\"> 0.463917</td><td style=\"text-align: right;\">-0.114805  </td><td style=\"text-align: right;\">-0.183361 </td><td style=\"text-align: right;\">-0.145783 </td><td style=\"text-align: right;\">-0.0690831</td><td style=\"text-align: right;\">-0.225775 </td><td style=\"text-align: right;\">-0.638672 </td><td style=\"text-align: right;\"> 0.101288 </td><td style=\"text-align: right;\">-0.339846 </td><td style=\"text-align: right;\"> 0.16717 </td><td style=\"text-align: right;\"> 0.125895 </td><td style=\"text-align: right;\">-0.0089831</td><td style=\"text-align: right;\"> 0.0147242 </td><td style=\"text-align: right;\">    2.69</td><td style=\"text-align: right;\">      0</td></tr>\n",
       "<tr><td style=\"text-align: right;\">     1</td><td style=\"text-align: right;\">-1.35835 </td><td style=\"text-align: right;\">-1.34016  </td><td style=\"text-align: right;\"> 1.77321  </td><td style=\"text-align: right;\"> 0.37978 </td><td style=\"text-align: right;\">-0.503198 </td><td style=\"text-align: right;\"> 1.8005   </td><td style=\"text-align: right;\"> 0.791461</td><td style=\"text-align: right;\"> 0.247676 </td><td style=\"text-align: right;\">-1.51465 </td><td style=\"text-align: right;\"> 0.207643 </td><td style=\"text-align: right;\"> 0.624501</td><td style=\"text-align: right;\"> 0.0660837</td><td style=\"text-align: right;\"> 0.717293</td><td style=\"text-align: right;\">-0.165946 </td><td style=\"text-align: right;\"> 2.34586  </td><td style=\"text-align: right;\">-2.89008 </td><td style=\"text-align: right;\"> 1.10997   </td><td style=\"text-align: right;\">-0.121359 </td><td style=\"text-align: right;\">-2.26186  </td><td style=\"text-align: right;\"> 0.52498  </td><td style=\"text-align: right;\"> 0.247998 </td><td style=\"text-align: right;\"> 0.771679 </td><td style=\"text-align: right;\"> 0.909412 </td><td style=\"text-align: right;\">-0.689281 </td><td style=\"text-align: right;\">-0.327642</td><td style=\"text-align: right;\">-0.139097 </td><td style=\"text-align: right;\">-0.0553528</td><td style=\"text-align: right;\">-0.0597518 </td><td style=\"text-align: right;\">  378.66</td><td style=\"text-align: right;\">      0</td></tr>\n",
       "<tr><td style=\"text-align: right;\">     1</td><td style=\"text-align: right;\">-0.966272</td><td style=\"text-align: right;\">-0.185226 </td><td style=\"text-align: right;\"> 1.79299  </td><td style=\"text-align: right;\">-0.863291</td><td style=\"text-align: right;\">-0.0103089</td><td style=\"text-align: right;\"> 1.2472   </td><td style=\"text-align: right;\"> 0.237609</td><td style=\"text-align: right;\"> 0.377436 </td><td style=\"text-align: right;\">-1.38702 </td><td style=\"text-align: right;\">-0.0549519</td><td style=\"text-align: right;\">-0.226487</td><td style=\"text-align: right;\"> 0.178228 </td><td style=\"text-align: right;\"> 0.507757</td><td style=\"text-align: right;\">-0.287924 </td><td style=\"text-align: right;\">-0.631418 </td><td style=\"text-align: right;\">-1.05965 </td><td style=\"text-align: right;\">-0.684093  </td><td style=\"text-align: right;\"> 1.96578  </td><td style=\"text-align: right;\">-1.23262  </td><td style=\"text-align: right;\">-0.208038 </td><td style=\"text-align: right;\">-0.1083   </td><td style=\"text-align: right;\"> 0.0052736</td><td style=\"text-align: right;\">-0.190321 </td><td style=\"text-align: right;\">-1.17558  </td><td style=\"text-align: right;\"> 0.647376</td><td style=\"text-align: right;\">-0.221929 </td><td style=\"text-align: right;\"> 0.0627228</td><td style=\"text-align: right;\"> 0.0614576 </td><td style=\"text-align: right;\">  123.5 </td><td style=\"text-align: right;\">      0</td></tr>\n",
       "<tr><td style=\"text-align: right;\">     2</td><td style=\"text-align: right;\">-1.15823 </td><td style=\"text-align: right;\"> 0.877737 </td><td style=\"text-align: right;\"> 1.54872  </td><td style=\"text-align: right;\"> 0.403034</td><td style=\"text-align: right;\">-0.407193 </td><td style=\"text-align: right;\"> 0.0959215</td><td style=\"text-align: right;\"> 0.592941</td><td style=\"text-align: right;\">-0.270533 </td><td style=\"text-align: right;\"> 0.817739</td><td style=\"text-align: right;\"> 0.753074 </td><td style=\"text-align: right;\">-0.822843</td><td style=\"text-align: right;\"> 0.538196 </td><td style=\"text-align: right;\"> 1.34585 </td><td style=\"text-align: right;\">-1.11967  </td><td style=\"text-align: right;\"> 0.175121 </td><td style=\"text-align: right;\">-0.451449</td><td style=\"text-align: right;\">-0.237033  </td><td style=\"text-align: right;\">-0.0381948</td><td style=\"text-align: right;\"> 0.803487 </td><td style=\"text-align: right;\"> 0.408542 </td><td style=\"text-align: right;\">-0.0094307</td><td style=\"text-align: right;\"> 0.798278 </td><td style=\"text-align: right;\">-0.137458 </td><td style=\"text-align: right;\"> 0.141267 </td><td style=\"text-align: right;\">-0.20601 </td><td style=\"text-align: right;\"> 0.502292 </td><td style=\"text-align: right;\"> 0.219422 </td><td style=\"text-align: right;\"> 0.215153  </td><td style=\"text-align: right;\">   69.99</td><td style=\"text-align: right;\">      0</td></tr>\n",
       "<tr><td style=\"text-align: right;\">     2</td><td style=\"text-align: right;\">-0.425966</td><td style=\"text-align: right;\"> 0.960523 </td><td style=\"text-align: right;\"> 1.14111  </td><td style=\"text-align: right;\">-0.168252</td><td style=\"text-align: right;\"> 0.420987 </td><td style=\"text-align: right;\">-0.0297276</td><td style=\"text-align: right;\"> 0.476201</td><td style=\"text-align: right;\"> 0.260314 </td><td style=\"text-align: right;\">-0.568671</td><td style=\"text-align: right;\">-0.371407 </td><td style=\"text-align: right;\"> 1.34126 </td><td style=\"text-align: right;\"> 0.359894 </td><td style=\"text-align: right;\">-0.358091</td><td style=\"text-align: right;\">-0.137134 </td><td style=\"text-align: right;\"> 0.517617 </td><td style=\"text-align: right;\"> 0.401726</td><td style=\"text-align: right;\">-0.0581328 </td><td style=\"text-align: right;\"> 0.0686531</td><td style=\"text-align: right;\">-0.0331938</td><td style=\"text-align: right;\"> 0.0849677</td><td style=\"text-align: right;\">-0.208254 </td><td style=\"text-align: right;\">-0.559825 </td><td style=\"text-align: right;\">-0.0263977</td><td style=\"text-align: right;\">-0.371427 </td><td style=\"text-align: right;\">-0.232794</td><td style=\"text-align: right;\"> 0.105915 </td><td style=\"text-align: right;\"> 0.253844 </td><td style=\"text-align: right;\"> 0.0810803 </td><td style=\"text-align: right;\">    3.67</td><td style=\"text-align: right;\">      0</td></tr>\n",
       "<tr><td style=\"text-align: right;\">     4</td><td style=\"text-align: right;\"> 1.22966 </td><td style=\"text-align: right;\"> 0.141004 </td><td style=\"text-align: right;\"> 0.0453708</td><td style=\"text-align: right;\"> 1.20261 </td><td style=\"text-align: right;\"> 0.191881 </td><td style=\"text-align: right;\"> 0.272708 </td><td style=\"text-align: right;\">-0.005159</td><td style=\"text-align: right;\"> 0.0812129</td><td style=\"text-align: right;\"> 0.46496 </td><td style=\"text-align: right;\">-0.0992543</td><td style=\"text-align: right;\">-1.41691 </td><td style=\"text-align: right;\">-0.153826 </td><td style=\"text-align: right;\">-0.751063</td><td style=\"text-align: right;\"> 0.167372 </td><td style=\"text-align: right;\"> 0.0501436</td><td style=\"text-align: right;\">-0.443587</td><td style=\"text-align: right;\"> 0.00282051</td><td style=\"text-align: right;\">-0.611987 </td><td style=\"text-align: right;\">-0.045575 </td><td style=\"text-align: right;\">-0.219633 </td><td style=\"text-align: right;\">-0.167716 </td><td style=\"text-align: right;\">-0.27071  </td><td style=\"text-align: right;\">-0.154104 </td><td style=\"text-align: right;\">-0.780055 </td><td style=\"text-align: right;\"> 0.750137</td><td style=\"text-align: right;\">-0.257237 </td><td style=\"text-align: right;\"> 0.0345074</td><td style=\"text-align: right;\"> 0.00516777</td><td style=\"text-align: right;\">    4.99</td><td style=\"text-align: right;\">      0</td></tr>\n",
       "<tr><td style=\"text-align: right;\">     7</td><td style=\"text-align: right;\">-0.644269</td><td style=\"text-align: right;\"> 1.41796  </td><td style=\"text-align: right;\"> 1.07438  </td><td style=\"text-align: right;\">-0.492199</td><td style=\"text-align: right;\"> 0.948934 </td><td style=\"text-align: right;\"> 0.428118 </td><td style=\"text-align: right;\"> 1.12063 </td><td style=\"text-align: right;\">-3.80786  </td><td style=\"text-align: right;\"> 0.615375</td><td style=\"text-align: right;\"> 1.24938  </td><td style=\"text-align: right;\">-0.619468</td><td style=\"text-align: right;\"> 0.291474 </td><td style=\"text-align: right;\"> 1.75796 </td><td style=\"text-align: right;\">-1.32387  </td><td style=\"text-align: right;\"> 0.686133 </td><td style=\"text-align: right;\">-0.076127</td><td style=\"text-align: right;\">-1.22213   </td><td style=\"text-align: right;\">-0.358222 </td><td style=\"text-align: right;\"> 0.324505 </td><td style=\"text-align: right;\">-0.156742 </td><td style=\"text-align: right;\"> 1.94347  </td><td style=\"text-align: right;\">-1.01545  </td><td style=\"text-align: right;\"> 0.0575035</td><td style=\"text-align: right;\">-0.649709 </td><td style=\"text-align: right;\">-0.415267</td><td style=\"text-align: right;\">-0.0516343</td><td style=\"text-align: right;\">-1.20692  </td><td style=\"text-align: right;\">-1.08534   </td><td style=\"text-align: right;\">   40.8 </td><td style=\"text-align: right;\">      0</td></tr>\n",
       "<tr><td style=\"text-align: right;\">     7</td><td style=\"text-align: right;\">-0.894286</td><td style=\"text-align: right;\"> 0.286157 </td><td style=\"text-align: right;\">-0.113192 </td><td style=\"text-align: right;\">-0.271526</td><td style=\"text-align: right;\"> 2.6696   </td><td style=\"text-align: right;\"> 3.72182  </td><td style=\"text-align: right;\"> 0.370145</td><td style=\"text-align: right;\"> 0.851084 </td><td style=\"text-align: right;\">-0.392048</td><td style=\"text-align: right;\">-0.41043  </td><td style=\"text-align: right;\">-0.705117</td><td style=\"text-align: right;\">-0.110452 </td><td style=\"text-align: right;\">-0.286254</td><td style=\"text-align: right;\"> 0.0743554</td><td style=\"text-align: right;\">-0.328783 </td><td style=\"text-align: right;\">-0.210077</td><td style=\"text-align: right;\">-0.499768  </td><td style=\"text-align: right;\"> 0.118765 </td><td style=\"text-align: right;\"> 0.570328 </td><td style=\"text-align: right;\"> 0.0527357</td><td style=\"text-align: right;\">-0.0734251</td><td style=\"text-align: right;\">-0.268092 </td><td style=\"text-align: right;\">-0.204233 </td><td style=\"text-align: right;\"> 1.01159  </td><td style=\"text-align: right;\"> 0.373205</td><td style=\"text-align: right;\">-0.384157 </td><td style=\"text-align: right;\"> 0.0117474</td><td style=\"text-align: right;\"> 0.142404  </td><td style=\"text-align: right;\">   93.2 </td><td style=\"text-align: right;\">      0</td></tr>\n",
       "<tr><td style=\"text-align: right;\">     9</td><td style=\"text-align: right;\">-0.338262</td><td style=\"text-align: right;\"> 1.11959  </td><td style=\"text-align: right;\"> 1.04437  </td><td style=\"text-align: right;\">-0.222187</td><td style=\"text-align: right;\"> 0.499361 </td><td style=\"text-align: right;\">-0.246761 </td><td style=\"text-align: right;\"> 0.651583</td><td style=\"text-align: right;\"> 0.0695386</td><td style=\"text-align: right;\">-0.736727</td><td style=\"text-align: right;\">-0.366846 </td><td style=\"text-align: right;\"> 1.01761 </td><td style=\"text-align: right;\"> 0.83639  </td><td style=\"text-align: right;\"> 1.00684 </td><td style=\"text-align: right;\">-0.443523 </td><td style=\"text-align: right;\"> 0.150219 </td><td style=\"text-align: right;\"> 0.739453</td><td style=\"text-align: right;\">-0.54098   </td><td style=\"text-align: right;\"> 0.476677 </td><td style=\"text-align: right;\"> 0.451773 </td><td style=\"text-align: right;\"> 0.203711 </td><td style=\"text-align: right;\">-0.246914 </td><td style=\"text-align: right;\">-0.633753 </td><td style=\"text-align: right;\">-0.120794 </td><td style=\"text-align: right;\">-0.38505  </td><td style=\"text-align: right;\">-0.069733</td><td style=\"text-align: right;\"> 0.0941988</td><td style=\"text-align: right;\"> 0.246219 </td><td style=\"text-align: right;\"> 0.0830756 </td><td style=\"text-align: right;\">    3.68</td><td style=\"text-align: right;\">      0</td></tr>\n",
       "</tbody>\n",
       "</table>"
      ]
     },
     "metadata": {},
     "output_type": "display_data"
    },
    {
     "data": {
      "text/plain": []
     },
     "execution_count": 83,
     "metadata": {},
     "output_type": "execute_result"
    }
   ],
   "source": [
    "frame.head()"
   ]
  },
  {
   "cell_type": "code",
   "execution_count": 84,
   "metadata": {
    "scrolled": true
   },
   "outputs": [],
   "source": [
    "feature_names = frame.col_names[:30]   # 特徴量カラム名（30変数）"
   ]
  },
  {
   "cell_type": "code",
   "execution_count": 85,
   "metadata": {},
   "outputs": [
    {
     "name": "stdout",
     "output_type": "stream",
     "text": [
      "Rows:284807\n",
      "Cols:31\n",
      "\n",
      "\n"
     ]
    },
    {
     "data": {
      "text/html": [
       "<table>\n",
       "<thead>\n",
       "<tr><th>       </th><th>Time             </th><th>V1                    </th><th>V2                    </th><th>V3                    </th><th>V4                   </th><th>V5                    </th><th>V6                   </th><th>V7                    </th><th>V8                  </th><th>V9                    </th><th>V10                  </th><th>V11                   </th><th>V12                    </th><th>V13                  </th><th>V14                   </th><th>V15                   </th><th>V16                   </th><th>V17                   </th><th>V18                   </th><th>V19                   </th><th>V20                  </th><th>V21                  </th><th>V22                    </th><th>V23                   </th><th>V24                  </th><th>V25                  </th><th>V26                   </th><th>V27                    </th><th>V28                   </th><th>Amount            </th><th>Class               </th></tr>\n",
       "</thead>\n",
       "<tbody>\n",
       "<tr><td>type   </td><td>int              </td><td>real                  </td><td>real                  </td><td>real                  </td><td>real                 </td><td>real                  </td><td>real                 </td><td>real                  </td><td>real                </td><td>real                  </td><td>real                 </td><td>real                  </td><td>real                   </td><td>real                 </td><td>real                  </td><td>real                  </td><td>real                  </td><td>real                  </td><td>real                  </td><td>real                  </td><td>real                 </td><td>real                 </td><td>real                   </td><td>real                  </td><td>real                 </td><td>real                 </td><td>real                  </td><td>real                   </td><td>real                  </td><td>real              </td><td>int                 </td></tr>\n",
       "<tr><td>mins   </td><td>0.0              </td><td>-56.407509631329      </td><td>-72.7157275629303     </td><td>-48.3255893623954     </td><td>-5.68317119816995    </td><td>-113.743306711146     </td><td>-26.1605059358433    </td><td>-43.5572415712451     </td><td>-73.2167184552674   </td><td>-13.4340663182301     </td><td>-24.5882624372475    </td><td>-4.79747346479757     </td><td>-18.6837146333443      </td><td>-5.79188120632084    </td><td>-19.2143254902614     </td><td>-4.49894467676621     </td><td>-14.1298545174931     </td><td>-25.1627993693248     </td><td>-9.49874592104677     </td><td>-7.21352743017759     </td><td>-54.497720494566     </td><td>-34.8303821448146    </td><td>-10.933143697655       </td><td>-44.8077352037913     </td><td>-2.83662691870341    </td><td>-10.2953970749851    </td><td>-2.60455055280817     </td><td>-22.5656793207827      </td><td>-15.4300839055349     </td><td>0.0               </td><td>0.0                 </td></tr>\n",
       "<tr><td>mean   </td><td>94813.85957508067</td><td>1.2262548514636384e-15</td><td>3.5446429300120796e-16</td><td>-1.328442755752275e-15</td><td>2.030984597736651e-15</td><td>1.0985199711028427e-15</td><td>1.500884844239349e-15</td><td>-5.875804496596601e-16</td><td>7.66409282164774e-17</td><td>-2.324774822566481e-15</td><td>2.213006802250785e-15</td><td>1.5328185643295479e-15</td><td>-1.2134813634275587e-15</td><td>9.037242785526292e-16</td><td>1.2214647934501085e-15</td><td>4.9561133579988715e-15</td><td>1.4465975200860108e-15</td><td>-3.704311530463074e-16</td><td>1.0154922988683254e-15</td><td>1.0490227049630343e-15</td><td>6.386744018039783e-16</td><td>1.532818564329548e-16</td><td>-3.4488417697414826e-16</td><td>2.5227638871257145e-16</td><td>4.469124126623338e-15</td><td>5.364864975153418e-16</td><td>1.6908904787760325e-15</td><td>-3.6434378765411323e-16</td><td>-1.241423368506483e-16</td><td>88.34961925093133 </td><td>0.001727485630620034</td></tr>\n",
       "<tr><td>maxs   </td><td>172792.0         </td><td>2.45492999121121      </td><td>22.0577289904909      </td><td>9.38255843282114      </td><td>16.8753440335975     </td><td>34.8016658766686      </td><td>73.3016255459646     </td><td>120.589493945238      </td><td>20.0072083651213    </td><td>15.5949946071278      </td><td>23.7451361206545     </td><td>12.0189131816199      </td><td>7.8483920756446        </td><td>7.12688295859376     </td><td>10.5267660517847      </td><td>8.87774159774277      </td><td>17.3151115176278      </td><td>9.25352625047285      </td><td>5.04106918541184      </td><td>5.59197142733558      </td><td>39.4209042482199     </td><td>27.2028391573154     </td><td>10.5030900899454       </td><td>22.5284116897749      </td><td>4.58454913689817     </td><td>7.51958867870916     </td><td>3.5173456116238       </td><td>31.6121981061363       </td><td>33.8478078188831      </td><td>25691.16          </td><td>1.0                 </td></tr>\n",
       "<tr><td>sigma  </td><td>47488.14595456615</td><td>1.958695803857486     </td><td>1.6513085794769975    </td><td>1.5162550051777715    </td><td>1.4158685749409203   </td><td>1.3802467340314393    </td><td>1.3322710897575754   </td><td>1.237093598182666     </td><td>1.1943529026692037  </td><td>1.098632089224319     </td><td>1.088849765402517    </td><td>1.0207130277115584    </td><td>0.9992013895301448     </td><td>0.9952742301251534   </td><td>0.958595611257064     </td><td>0.9153160116104392    </td><td>0.8762528873883701    </td><td>0.8493370636743892    </td><td>0.8381762095288414    </td><td>0.8140405007685786    </td><td>0.7709250248871169   </td><td>0.7345240143713132   </td><td>0.7257015604409116     </td><td>0.6244602955949902    </td><td>0.6056470678271602   </td><td>0.5212780705409424   </td><td>0.48222701326105727   </td><td>0.4036324949650307     </td><td>0.3300832641602509    </td><td>250.12010924018855</td><td>0.041527189635465055</td></tr>\n",
       "<tr><td>zeros  </td><td>2                </td><td>0                     </td><td>0                     </td><td>0                     </td><td>0                    </td><td>0                     </td><td>0                    </td><td>0                     </td><td>0                   </td><td>0                     </td><td>0                    </td><td>0                     </td><td>0                      </td><td>0                    </td><td>0                     </td><td>0                     </td><td>0                     </td><td>0                     </td><td>0                     </td><td>0                     </td><td>0                    </td><td>0                    </td><td>0                      </td><td>0                     </td><td>0                    </td><td>0                    </td><td>0                     </td><td>0                      </td><td>0                     </td><td>1825              </td><td>284315              </td></tr>\n",
       "<tr><td>missing</td><td>0                </td><td>0                     </td><td>0                     </td><td>0                     </td><td>0                    </td><td>0                     </td><td>0                    </td><td>0                     </td><td>0                   </td><td>0                     </td><td>0                    </td><td>0                     </td><td>0                      </td><td>0                    </td><td>0                     </td><td>0                     </td><td>0                     </td><td>0                     </td><td>0                     </td><td>0                     </td><td>0                    </td><td>0                    </td><td>0                      </td><td>0                     </td><td>0                    </td><td>0                    </td><td>0                     </td><td>0                      </td><td>0                     </td><td>0                 </td><td>0                   </td></tr>\n",
       "<tr><td>0      </td><td>0.0              </td><td>-1.3598071336738      </td><td>-0.0727811733098497   </td><td>2.53634673796914      </td><td>1.37815522427443     </td><td>-0.338320769942518    </td><td>0.462387777762292    </td><td>0.239598554061257     </td><td>0.0986979012610507  </td><td>0.363786969611213     </td><td>0.0907941719789316   </td><td>-0.551599533260813    </td><td>-0.617800855762348     </td><td>-0.991389847235408   </td><td>-0.311169353699879    </td><td>1.46817697209427      </td><td>-0.470400525259478    </td><td>0.207971241929242     </td><td>0.0257905801985591    </td><td>0.403992960255733     </td><td>0.251412098239705    </td><td>-0.018306777944153   </td><td>0.277837575558899      </td><td>-0.110473910188767    </td><td>0.0669280749146731   </td><td>0.128539358273528    </td><td>-0.189114843888824    </td><td>0.133558376740387      </td><td>-0.0210530534538215   </td><td>149.62            </td><td>0.0                 </td></tr>\n",
       "<tr><td>1      </td><td>0.0              </td><td>1.19185711131486      </td><td>0.26615071205963      </td><td>0.16648011335321      </td><td>0.448154078460911    </td><td>0.0600176492822243    </td><td>-0.0823608088155687  </td><td>-0.0788029833323113   </td><td>0.0851016549148104  </td><td>-0.255425128109186    </td><td>-0.166974414004614   </td><td>1.61272666105479      </td><td>1.06523531137287       </td><td>0.48909501589608     </td><td>-0.143772296441519    </td><td>0.635558093258208     </td><td>0.463917041022171     </td><td>-0.114804663102346    </td><td>-0.183361270123994    </td><td>-0.145783041325259    </td><td>-0.0690831352230203  </td><td>-0.225775248033138   </td><td>-0.638671952771851     </td><td>0.101288021253234     </td><td>-0.339846475529127   </td><td>0.167170404418143    </td><td>0.125894532368176     </td><td>-0.00898309914322813   </td><td>0.0147241691924927    </td><td>2.69              </td><td>0.0                 </td></tr>\n",
       "<tr><td>2      </td><td>1.0              </td><td>-1.35835406159823     </td><td>-1.34016307473609     </td><td>1.77320934263119      </td><td>0.379779593034328    </td><td>-0.503198133318193    </td><td>1.80049938079263     </td><td>0.791460956450422     </td><td>0.247675786588991   </td><td>-1.51465432260583     </td><td>0.207642865216696    </td><td>0.624501459424895     </td><td>0.066083685268831      </td><td>0.717292731410831    </td><td>-0.165945922763554    </td><td>2.34586494901581      </td><td>-2.89008319444231     </td><td>1.10996937869599      </td><td>-0.121359313195888    </td><td>-2.26185709530414     </td><td>0.524979725224404    </td><td>0.247998153469754    </td><td>0.771679401917229      </td><td>0.909412262347719     </td><td>-0.689280956490685   </td><td>-0.327641833735251   </td><td>-0.139096571514147    </td><td>-0.0553527940384261    </td><td>-0.0597518405929204   </td><td>378.66            </td><td>0.0                 </td></tr>\n",
       "<tr><td>3      </td><td>1.0              </td><td>-0.966271711572087    </td><td>-0.185226008082898    </td><td>1.79299333957872      </td><td>-0.863291275036453   </td><td>-0.0103088796030823   </td><td>1.24720316752486     </td><td>0.23760893977178      </td><td>0.377435874652262   </td><td>-1.38702406270197     </td><td>-0.0549519224713749  </td><td>-0.226487263835401    </td><td>0.178228225877303      </td><td>0.507756869957169    </td><td>-0.28792374549456     </td><td>-0.631418117709045    </td><td>-1.0596472454325      </td><td>-0.684092786345479    </td><td>1.96577500349538      </td><td>-1.2326219700892      </td><td>-0.208037781160366   </td><td>-0.108300452035545   </td><td>0.00527359678253453    </td><td>-0.190320518742841    </td><td>-1.17557533186321    </td><td>0.647376034602038    </td><td>-0.221928844458407    </td><td>0.0627228487293033     </td><td>0.0614576285006353    </td><td>123.5             </td><td>0.0                 </td></tr>\n",
       "<tr><td>4      </td><td>2.0              </td><td>-1.15823309349523     </td><td>0.877736754848451     </td><td>1.548717846511        </td><td>0.403033933955121    </td><td>-0.407193377311653    </td><td>0.0959214624684256   </td><td>0.592940745385545     </td><td>-0.270532677192282  </td><td>0.817739308235294     </td><td>0.753074431976354    </td><td>-0.822842877946363    </td><td>0.53819555014995       </td><td>1.3458515932154      </td><td>-1.11966983471731     </td><td>0.175121130008994     </td><td>-0.451449182813529    </td><td>-0.237033239362776    </td><td>-0.0381947870352842   </td><td>0.803486924960175     </td><td>0.408542360392758    </td><td>-0.00943069713232919 </td><td>0.79827849458971       </td><td>-0.137458079619063    </td><td>0.141266983824769    </td><td>-0.206009587619756   </td><td>0.502292224181569     </td><td>0.219422229513348      </td><td>0.215153147499206     </td><td>69.99             </td><td>0.0                 </td></tr>\n",
       "<tr><td>5      </td><td>2.0              </td><td>-0.425965884412454    </td><td>0.960523044882985     </td><td>1.14110934232219      </td><td>-0.168252079760302   </td><td>0.42098688077219      </td><td>-0.0297275516639742  </td><td>0.476200948720027     </td><td>0.260314333074874   </td><td>-0.56867137571251     </td><td>-0.371407196834471   </td><td>1.34126198001957      </td><td>0.359893837038039      </td><td>-0.358090652573631   </td><td>-0.137133700217612    </td><td>0.517616806555742     </td><td>0.401725895589603     </td><td>-0.0581328233640131   </td><td>0.0686531494425432    </td><td>-0.0331937877876282   </td><td>0.0849676720682049   </td><td>-0.208253514656728   </td><td>-0.559824796253248     </td><td>-0.0263976679795373   </td><td>-0.371426583174346   </td><td>-0.232793816737034   </td><td>0.105914779097957     </td><td>0.253844224739337      </td><td>0.0810802569229443    </td><td>3.67              </td><td>0.0                 </td></tr>\n",
       "<tr><td>6      </td><td>4.0              </td><td>1.22965763450793      </td><td>0.141003507049326     </td><td>0.0453707735899449    </td><td>1.20261273673594     </td><td>0.191880988597645     </td><td>0.272708122899098    </td><td>-0.00515900288250983  </td><td>0.0812129398830894  </td><td>0.464959994783886     </td><td>-0.0992543211289237  </td><td>-1.41690724314928     </td><td>-0.153825826253651     </td><td>-0.75106271556262    </td><td>0.16737196252175      </td><td>0.0501435942254188    </td><td>-0.443586797916727    </td><td>0.00282051247234708   </td><td>-0.61198733994012     </td><td>-0.0455750446637976   </td><td>-0.21963255278686    </td><td>-0.167716265815783   </td><td>-0.270709726172363     </td><td>-0.154103786809305    </td><td>-0.780055415004671   </td><td>0.75013693580659     </td><td>-0.257236845917139    </td><td>0.0345074297438413     </td><td>0.00516776890624916   </td><td>4.99              </td><td>0.0                 </td></tr>\n",
       "<tr><td>7      </td><td>7.0              </td><td>-0.644269442348146    </td><td>1.41796354547385      </td><td>1.0743803763556       </td><td>-0.492199018495015   </td><td>0.948934094764157     </td><td>0.428118462833089    </td><td>1.12063135838353      </td><td>-3.80786423873589   </td><td>0.615374730667027     </td><td>1.24937617815176     </td><td>-0.619467796121913    </td><td>0.291474353088705      </td><td>1.75796421396042     </td><td>-1.32386521970526     </td><td>0.686132504394383     </td><td>-0.0761269994382006   </td><td>-1.2221273453247      </td><td>-0.358221569869078    </td><td>0.324504731321494     </td><td>-0.156741852488285   </td><td>1.94346533978412     </td><td>-1.01545470979971      </td><td>0.057503529867291     </td><td>-0.649709005559993   </td><td>-0.415266566234811   </td><td>-0.0516342969262494   </td><td>-1.20692108094258      </td><td>-1.08533918832377     </td><td>40.8              </td><td>0.0                 </td></tr>\n",
       "<tr><td>8      </td><td>7.0              </td><td>-0.89428608220282     </td><td>0.286157196276544     </td><td>-0.113192212729871    </td><td>-0.271526130088604   </td><td>2.6695986595986       </td><td>3.72181806112751     </td><td>0.370145127676916     </td><td>0.851084443200905   </td><td>-0.392047586798604    </td><td>-0.410430432848439   </td><td>-0.705116586646536    </td><td>-0.110452261733098     </td><td>-0.286253632470583   </td><td>0.0743553603016731    </td><td>-0.328783050303565    </td><td>-0.210077268148783    </td><td>-0.499767968800267    </td><td>0.118764861004217     </td><td>0.57032816746536      </td><td>0.0527356691149697   </td><td>-0.0734251001059225  </td><td>-0.268091632235551     </td><td>-0.204232669947878    </td><td>1.0115918018785      </td><td>0.373204680146282    </td><td>-0.384157307702294    </td><td>0.0117473564581996     </td><td>0.14240432992147      </td><td>93.2              </td><td>0.0                 </td></tr>\n",
       "<tr><td>9      </td><td>9.0              </td><td>-0.33826175242575     </td><td>1.11959337641566      </td><td>1.04436655157316      </td><td>-0.222187276738296   </td><td>0.49936080649727      </td><td>-0.24676110061991    </td><td>0.651583206489972     </td><td>0.0695385865186387  </td><td>-0.736727316364109    </td><td>-0.366845639206541   </td><td>1.01761446783262      </td><td>0.836389570307029      </td><td>1.00684351373408     </td><td>-0.443522816876142    </td><td>0.150219101422635     </td><td>0.739452777052119     </td><td>-0.540979921943059    </td><td>0.47667726004282      </td><td>0.451772964394125     </td><td>0.203711454727929    </td><td>-0.246913936910008   </td><td>-0.633752642406113     </td><td>-0.12079408408185     </td><td>-0.385049925313426   </td><td>-0.0697330460416923  </td><td>0.0941988339514961    </td><td>0.246219304619926      </td><td>0.0830756493473326    </td><td>3.68              </td><td>0.0                 </td></tr>\n",
       "</tbody>\n",
       "</table>"
      ]
     },
     "metadata": {},
     "output_type": "display_data"
    }
   ],
   "source": [
    "frame.describe()"
   ]
  },
  {
   "cell_type": "code",
   "execution_count": 86,
   "metadata": {},
   "outputs": [
    {
     "data": {
      "text/plain": [
       "False"
      ]
     },
     "execution_count": 86,
     "metadata": {},
     "output_type": "execute_result"
    }
   ],
   "source": [
    "frame.isna().any()\n",
    "\n",
    "# 欠損なし"
   ]
  },
  {
   "cell_type": "code",
   "execution_count": 87,
   "metadata": {},
   "outputs": [
    {
     "data": {
      "text/plain": [
       "492.0"
      ]
     },
     "execution_count": 87,
     "metadata": {},
     "output_type": "execute_result"
    }
   ],
   "source": [
    "# Fraudの数\n",
    "frame['Class'].sum()"
   ]
  },
  {
   "cell_type": "code",
   "execution_count": 88,
   "metadata": {},
   "outputs": [
    {
     "data": {
      "text/plain": [
       "0.001727485630620034"
      ]
     },
     "execution_count": 88,
     "metadata": {},
     "output_type": "execute_result"
    }
   ],
   "source": [
    "# Fraudの割合\n",
    "frame['Class'].sum() / df.nrows"
   ]
  },
  {
   "cell_type": "markdown",
   "metadata": {},
   "source": [
    "### Isolation Forest"
   ]
  },
  {
   "cell_type": "markdown",
   "metadata": {},
   "source": [
    "Doc: [Isolation Forest](https://docs.h2o.ai/h2o/latest-stable/h2o-docs/data-science/if.html)  \n",
    "Python API: [H2OIsolationForestEstimator](http://docs.h2o.ai/h2o/latest-stable/h2o-py/docs/modeling.html#h2oisolationforestestimator)"
   ]
  },
  {
   "cell_type": "code",
   "execution_count": 89,
   "metadata": {},
   "outputs": [],
   "source": [
    "from h2o.estimators import H2OIsolationForestEstimator"
   ]
  },
  {
   "cell_type": "code",
   "execution_count": 90,
   "metadata": {},
   "outputs": [
    {
     "name": "stdout",
     "output_type": "stream",
     "text": [
      "No model trained yet\n"
     ]
    },
    {
     "data": {
      "text/plain": []
     },
     "execution_count": 90,
     "metadata": {},
     "output_type": "execute_result"
    }
   ],
   "source": [
    "mod_if = H2OIsolationForestEstimator()\n",
    "mod_if"
   ]
  },
  {
   "cell_type": "code",
   "execution_count": 91,
   "metadata": {},
   "outputs": [
    {
     "name": "stdout",
     "output_type": "stream",
     "text": [
      "isolationforest Model Build progress: |███████████████████████████████████| 100%\n"
     ]
    }
   ],
   "source": [
    "mod_if.train(training_frame=frame, x=feature_names)"
   ]
  },
  {
   "cell_type": "code",
   "execution_count": 92,
   "metadata": {},
   "outputs": [
    {
     "name": "stdout",
     "output_type": "stream",
     "text": [
      "Model Details\n",
      "=============\n",
      "H2OIsolationForestEstimator :  Isolation Forest\n",
      "Model Key:  IsolationForest_model_python_1621548352308_3\n",
      "\n",
      "\n",
      "Model Summary: \n"
     ]
    },
    {
     "data": {
      "text/html": [
       "<div>\n",
       "<style scoped>\n",
       "    .dataframe tbody tr th:only-of-type {\n",
       "        vertical-align: middle;\n",
       "    }\n",
       "\n",
       "    .dataframe tbody tr th {\n",
       "        vertical-align: top;\n",
       "    }\n",
       "\n",
       "    .dataframe thead th {\n",
       "        text-align: right;\n",
       "    }\n",
       "</style>\n",
       "<table border=\"1\" class=\"dataframe\">\n",
       "  <thead>\n",
       "    <tr style=\"text-align: right;\">\n",
       "      <th></th>\n",
       "      <th></th>\n",
       "      <th>number_of_trees</th>\n",
       "      <th>number_of_internal_trees</th>\n",
       "      <th>model_size_in_bytes</th>\n",
       "      <th>min_depth</th>\n",
       "      <th>max_depth</th>\n",
       "      <th>mean_depth</th>\n",
       "      <th>min_leaves</th>\n",
       "      <th>max_leaves</th>\n",
       "      <th>mean_leaves</th>\n",
       "    </tr>\n",
       "  </thead>\n",
       "  <tbody>\n",
       "    <tr>\n",
       "      <th>0</th>\n",
       "      <td></td>\n",
       "      <td>50.0</td>\n",
       "      <td>50.0</td>\n",
       "      <td>33613.0</td>\n",
       "      <td>8.0</td>\n",
       "      <td>8.0</td>\n",
       "      <td>8.0</td>\n",
       "      <td>26.0</td>\n",
       "      <td>85.0</td>\n",
       "      <td>48.8</td>\n",
       "    </tr>\n",
       "  </tbody>\n",
       "</table>\n",
       "</div>"
      ],
      "text/plain": [
       "     number_of_trees  number_of_internal_trees  model_size_in_bytes  \\\n",
       "0               50.0                      50.0              33613.0   \n",
       "\n",
       "   min_depth  max_depth  mean_depth  min_leaves  max_leaves  mean_leaves  \n",
       "0        8.0        8.0         8.0        26.0        85.0         48.8  "
      ]
     },
     "metadata": {},
     "output_type": "display_data"
    },
    {
     "name": "stdout",
     "output_type": "stream",
     "text": [
      "\n",
      "\n",
      "ModelMetricsAnomaly: isolationforest\n",
      "** Reported on train data. **\n",
      "\n",
      "Anomaly Score: 6.77997326038587\n",
      "Normalized Anomaly Score: 0.05556230798333812\n",
      "\n",
      "Scoring History: \n"
     ]
    },
    {
     "data": {
      "text/html": [
       "<div>\n",
       "<style scoped>\n",
       "    .dataframe tbody tr th:only-of-type {\n",
       "        vertical-align: middle;\n",
       "    }\n",
       "\n",
       "    .dataframe tbody tr th {\n",
       "        vertical-align: top;\n",
       "    }\n",
       "\n",
       "    .dataframe thead th {\n",
       "        text-align: right;\n",
       "    }\n",
       "</style>\n",
       "<table border=\"1\" class=\"dataframe\">\n",
       "  <thead>\n",
       "    <tr style=\"text-align: right;\">\n",
       "      <th></th>\n",
       "      <th></th>\n",
       "      <th>timestamp</th>\n",
       "      <th>duration</th>\n",
       "      <th>number_of_trees</th>\n",
       "      <th>mean_tree_path_length</th>\n",
       "      <th>mean_anomaly_score</th>\n",
       "    </tr>\n",
       "  </thead>\n",
       "  <tbody>\n",
       "    <tr>\n",
       "      <th>0</th>\n",
       "      <td></td>\n",
       "      <td>2021-05-20 22:55:49</td>\n",
       "      <td>0.007 sec</td>\n",
       "      <td>0.0</td>\n",
       "      <td>NaN</td>\n",
       "      <td>NaN</td>\n",
       "    </tr>\n",
       "    <tr>\n",
       "      <th>1</th>\n",
       "      <td></td>\n",
       "      <td>2021-05-20 22:55:49</td>\n",
       "      <td>0.076 sec</td>\n",
       "      <td>1.0</td>\n",
       "      <td>6.737098</td>\n",
       "      <td>0.052580</td>\n",
       "    </tr>\n",
       "    <tr>\n",
       "      <th>2</th>\n",
       "      <td></td>\n",
       "      <td>2021-05-20 22:55:49</td>\n",
       "      <td>0.120 sec</td>\n",
       "      <td>2.0</td>\n",
       "      <td>6.823679</td>\n",
       "      <td>0.029387</td>\n",
       "    </tr>\n",
       "    <tr>\n",
       "      <th>3</th>\n",
       "      <td></td>\n",
       "      <td>2021-05-20 22:55:49</td>\n",
       "      <td>0.164 sec</td>\n",
       "      <td>3.0</td>\n",
       "      <td>6.840176</td>\n",
       "      <td>0.034248</td>\n",
       "    </tr>\n",
       "    <tr>\n",
       "      <th>4</th>\n",
       "      <td></td>\n",
       "      <td>2021-05-20 22:55:49</td>\n",
       "      <td>0.211 sec</td>\n",
       "      <td>4.0</td>\n",
       "      <td>6.847873</td>\n",
       "      <td>0.030425</td>\n",
       "    </tr>\n",
       "    <tr>\n",
       "      <th>5</th>\n",
       "      <td></td>\n",
       "      <td>2021-05-20 22:55:49</td>\n",
       "      <td>0.260 sec</td>\n",
       "      <td>5.0</td>\n",
       "      <td>6.824881</td>\n",
       "      <td>0.033677</td>\n",
       "    </tr>\n",
       "    <tr>\n",
       "      <th>6</th>\n",
       "      <td></td>\n",
       "      <td>2021-05-20 22:55:49</td>\n",
       "      <td>0.306 sec</td>\n",
       "      <td>6.0</td>\n",
       "      <td>6.818659</td>\n",
       "      <td>0.032971</td>\n",
       "    </tr>\n",
       "    <tr>\n",
       "      <th>7</th>\n",
       "      <td></td>\n",
       "      <td>2021-05-20 22:55:49</td>\n",
       "      <td>0.349 sec</td>\n",
       "      <td>7.0</td>\n",
       "      <td>6.837813</td>\n",
       "      <td>0.030684</td>\n",
       "    </tr>\n",
       "    <tr>\n",
       "      <th>8</th>\n",
       "      <td></td>\n",
       "      <td>2021-05-20 22:55:49</td>\n",
       "      <td>0.394 sec</td>\n",
       "      <td>8.0</td>\n",
       "      <td>6.820855</td>\n",
       "      <td>0.036748</td>\n",
       "    </tr>\n",
       "    <tr>\n",
       "      <th>9</th>\n",
       "      <td></td>\n",
       "      <td>2021-05-20 22:55:49</td>\n",
       "      <td>0.444 sec</td>\n",
       "      <td>9.0</td>\n",
       "      <td>6.816773</td>\n",
       "      <td>0.035849</td>\n",
       "    </tr>\n",
       "    <tr>\n",
       "      <th>10</th>\n",
       "      <td></td>\n",
       "      <td>2021-05-20 22:55:49</td>\n",
       "      <td>0.486 sec</td>\n",
       "      <td>10.0</td>\n",
       "      <td>6.817041</td>\n",
       "      <td>0.034521</td>\n",
       "    </tr>\n",
       "    <tr>\n",
       "      <th>11</th>\n",
       "      <td></td>\n",
       "      <td>2021-05-20 22:55:49</td>\n",
       "      <td>0.529 sec</td>\n",
       "      <td>11.0</td>\n",
       "      <td>6.824245</td>\n",
       "      <td>0.032222</td>\n",
       "    </tr>\n",
       "    <tr>\n",
       "      <th>12</th>\n",
       "      <td></td>\n",
       "      <td>2021-05-20 22:55:49</td>\n",
       "      <td>0.577 sec</td>\n",
       "      <td>12.0</td>\n",
       "      <td>6.807730</td>\n",
       "      <td>0.036051</td>\n",
       "    </tr>\n",
       "    <tr>\n",
       "      <th>13</th>\n",
       "      <td></td>\n",
       "      <td>2021-05-20 22:55:49</td>\n",
       "      <td>0.626 sec</td>\n",
       "      <td>13.0</td>\n",
       "      <td>6.799977</td>\n",
       "      <td>0.038240</td>\n",
       "    </tr>\n",
       "    <tr>\n",
       "      <th>14</th>\n",
       "      <td></td>\n",
       "      <td>2021-05-20 22:55:49</td>\n",
       "      <td>0.672 sec</td>\n",
       "      <td>14.0</td>\n",
       "      <td>6.802763</td>\n",
       "      <td>0.036817</td>\n",
       "    </tr>\n",
       "    <tr>\n",
       "      <th>15</th>\n",
       "      <td></td>\n",
       "      <td>2021-05-20 22:55:49</td>\n",
       "      <td>0.720 sec</td>\n",
       "      <td>15.0</td>\n",
       "      <td>6.806690</td>\n",
       "      <td>0.036704</td>\n",
       "    </tr>\n",
       "    <tr>\n",
       "      <th>16</th>\n",
       "      <td></td>\n",
       "      <td>2021-05-20 22:55:49</td>\n",
       "      <td>0.781 sec</td>\n",
       "      <td>16.0</td>\n",
       "      <td>6.808210</td>\n",
       "      <td>0.036972</td>\n",
       "    </tr>\n",
       "    <tr>\n",
       "      <th>17</th>\n",
       "      <td></td>\n",
       "      <td>2021-05-20 22:55:49</td>\n",
       "      <td>0.833 sec</td>\n",
       "      <td>17.0</td>\n",
       "      <td>6.799849</td>\n",
       "      <td>0.040030</td>\n",
       "    </tr>\n",
       "    <tr>\n",
       "      <th>18</th>\n",
       "      <td></td>\n",
       "      <td>2021-05-20 22:55:49</td>\n",
       "      <td>0.879 sec</td>\n",
       "      <td>18.0</td>\n",
       "      <td>6.796818</td>\n",
       "      <td>0.041560</td>\n",
       "    </tr>\n",
       "    <tr>\n",
       "      <th>19</th>\n",
       "      <td></td>\n",
       "      <td>2021-05-20 22:55:49</td>\n",
       "      <td>0.922 sec</td>\n",
       "      <td>19.0</td>\n",
       "      <td>6.799699</td>\n",
       "      <td>0.042761</td>\n",
       "    </tr>\n",
       "  </tbody>\n",
       "</table>\n",
       "</div>"
      ],
      "text/plain": [
       "                timestamp    duration  number_of_trees  mean_tree_path_length  \\\n",
       "0     2021-05-20 22:55:49   0.007 sec              0.0                    NaN   \n",
       "1     2021-05-20 22:55:49   0.076 sec              1.0               6.737098   \n",
       "2     2021-05-20 22:55:49   0.120 sec              2.0               6.823679   \n",
       "3     2021-05-20 22:55:49   0.164 sec              3.0               6.840176   \n",
       "4     2021-05-20 22:55:49   0.211 sec              4.0               6.847873   \n",
       "5     2021-05-20 22:55:49   0.260 sec              5.0               6.824881   \n",
       "6     2021-05-20 22:55:49   0.306 sec              6.0               6.818659   \n",
       "7     2021-05-20 22:55:49   0.349 sec              7.0               6.837813   \n",
       "8     2021-05-20 22:55:49   0.394 sec              8.0               6.820855   \n",
       "9     2021-05-20 22:55:49   0.444 sec              9.0               6.816773   \n",
       "10    2021-05-20 22:55:49   0.486 sec             10.0               6.817041   \n",
       "11    2021-05-20 22:55:49   0.529 sec             11.0               6.824245   \n",
       "12    2021-05-20 22:55:49   0.577 sec             12.0               6.807730   \n",
       "13    2021-05-20 22:55:49   0.626 sec             13.0               6.799977   \n",
       "14    2021-05-20 22:55:49   0.672 sec             14.0               6.802763   \n",
       "15    2021-05-20 22:55:49   0.720 sec             15.0               6.806690   \n",
       "16    2021-05-20 22:55:49   0.781 sec             16.0               6.808210   \n",
       "17    2021-05-20 22:55:49   0.833 sec             17.0               6.799849   \n",
       "18    2021-05-20 22:55:49   0.879 sec             18.0               6.796818   \n",
       "19    2021-05-20 22:55:49   0.922 sec             19.0               6.799699   \n",
       "\n",
       "    mean_anomaly_score  \n",
       "0                  NaN  \n",
       "1             0.052580  \n",
       "2             0.029387  \n",
       "3             0.034248  \n",
       "4             0.030425  \n",
       "5             0.033677  \n",
       "6             0.032971  \n",
       "7             0.030684  \n",
       "8             0.036748  \n",
       "9             0.035849  \n",
       "10            0.034521  \n",
       "11            0.032222  \n",
       "12            0.036051  \n",
       "13            0.038240  \n",
       "14            0.036817  \n",
       "15            0.036704  \n",
       "16            0.036972  \n",
       "17            0.040030  \n",
       "18            0.041560  \n",
       "19            0.042761  "
      ]
     },
     "metadata": {},
     "output_type": "display_data"
    },
    {
     "name": "stdout",
     "output_type": "stream",
     "text": [
      "\n",
      "See the whole table with table.as_data_frame()\n"
     ]
    },
    {
     "data": {
      "text/plain": []
     },
     "execution_count": 92,
     "metadata": {},
     "output_type": "execute_result"
    }
   ],
   "source": [
    "mod_if"
   ]
  },
  {
   "cell_type": "code",
   "execution_count": 93,
   "metadata": {},
   "outputs": [
    {
     "name": "stdout",
     "output_type": "stream",
     "text": [
      "isolationforest prediction progress: |████████████████████████████████████| 100%\n"
     ]
    }
   ],
   "source": [
    "# 学習済みのモデルを用いたスコアリング（スコアリング用データは学習に用いたもの）\n",
    "score_if = mod_if.predict(frame)"
   ]
  },
  {
   "cell_type": "code",
   "execution_count": 94,
   "metadata": {},
   "outputs": [
    {
     "data": {
      "text/html": [
       "<table>\n",
       "<thead>\n",
       "<tr><th style=\"text-align: right;\">   predict</th><th style=\"text-align: right;\">  mean_length</th></tr>\n",
       "</thead>\n",
       "<tbody>\n",
       "<tr><td style=\"text-align: right;\">0.0252525 </td><td style=\"text-align: right;\">         6.9 </td></tr>\n",
       "<tr><td style=\"text-align: right;\">0.0252525 </td><td style=\"text-align: right;\">         6.9 </td></tr>\n",
       "<tr><td style=\"text-align: right;\">0.111111  </td><td style=\"text-align: right;\">         6.56</td></tr>\n",
       "<tr><td style=\"text-align: right;\">0.0606061 </td><td style=\"text-align: right;\">         6.76</td></tr>\n",
       "<tr><td style=\"text-align: right;\">0.00505051</td><td style=\"text-align: right;\">         6.98</td></tr>\n",
       "<tr><td style=\"text-align: right;\">0.0454545 </td><td style=\"text-align: right;\">         6.82</td></tr>\n",
       "<tr><td style=\"text-align: right;\">0.010101  </td><td style=\"text-align: right;\">         6.96</td></tr>\n",
       "<tr><td style=\"text-align: right;\">0.186869  </td><td style=\"text-align: right;\">         6.26</td></tr>\n",
       "<tr><td style=\"text-align: right;\">0.0959596 </td><td style=\"text-align: right;\">         6.62</td></tr>\n",
       "<tr><td style=\"text-align: right;\">0.020202  </td><td style=\"text-align: right;\">         6.92</td></tr>\n",
       "</tbody>\n",
       "</table>"
      ]
     },
     "metadata": {},
     "output_type": "display_data"
    },
    {
     "data": {
      "text/plain": []
     },
     "execution_count": 94,
     "metadata": {},
     "output_type": "execute_result"
    }
   ],
   "source": [
    "score_if"
   ]
  },
  {
   "cell_type": "markdown",
   "metadata": {},
   "source": [
    "predict: 正規化された異常値スコア（0~1の範囲）  \n",
    "mean_length: 分岐数の平均"
   ]
  },
  {
   "cell_type": "code",
   "execution_count": 95,
   "metadata": {},
   "outputs": [
    {
     "data": {
      "text/html": [
       "<table>\n",
       "<thead>\n",
       "<tr><th style=\"text-align: right;\">  predict</th><th style=\"text-align: right;\">  mean_length</th></tr>\n",
       "</thead>\n",
       "<tbody>\n",
       "<tr><td style=\"text-align: right;\">        1</td><td style=\"text-align: right;\">           -1</td></tr>\n",
       "<tr><td style=\"text-align: right;\">       -1</td><td style=\"text-align: right;\">            1</td></tr>\n",
       "</tbody>\n",
       "</table>"
      ]
     },
     "metadata": {},
     "output_type": "display_data"
    },
    {
     "data": {
      "text/plain": []
     },
     "execution_count": 95,
     "metadata": {},
     "output_type": "execute_result"
    }
   ],
   "source": [
    "score_if.cor()  # 2変数の相関\n",
    "\n",
    "# 両者は全く同じ情報を持つ"
   ]
  },
  {
   "cell_type": "code",
   "execution_count": 96,
   "metadata": {
    "scrolled": true
   },
   "outputs": [
    {
     "data": {
      "image/png": "[encoded data removed]",
      "text/plain": [
       "<Figure size 432x288 with 1 Axes>"
      ]
     },
     "metadata": {
      "needs_background": "light"
     },
     "output_type": "display_data"
    }
   ],
   "source": [
    "score_if['predict'].hist()"
   ]
  },
  {
   "cell_type": "code",
   "execution_count": 97,
   "metadata": {},
   "outputs": [
    {
     "data": {
      "text/html": [
       "<table>\n",
       "<thead>\n",
       "<tr><th style=\"text-align: right;\">  Probs</th><th style=\"text-align: right;\">  predictQuantiles</th></tr>\n",
       "</thead>\n",
       "<tbody>\n",
       "<tr><td style=\"text-align: right;\">  0.01 </td><td style=\"text-align: right;\">         0        </td></tr>\n",
       "<tr><td style=\"text-align: right;\">  0.1  </td><td style=\"text-align: right;\">         0        </td></tr>\n",
       "<tr><td style=\"text-align: right;\">  0.25 </td><td style=\"text-align: right;\">         0.010101 </td></tr>\n",
       "<tr><td style=\"text-align: right;\">  0.333</td><td style=\"text-align: right;\">         0.020202 </td></tr>\n",
       "<tr><td style=\"text-align: right;\">  0.5  </td><td style=\"text-align: right;\">         0.0353535</td></tr>\n",
       "<tr><td style=\"text-align: right;\">  0.667</td><td style=\"text-align: right;\">         0.0555556</td></tr>\n",
       "<tr><td style=\"text-align: right;\">  0.75 </td><td style=\"text-align: right;\">         0.0707071</td></tr>\n",
       "<tr><td style=\"text-align: right;\">  0.9  </td><td style=\"text-align: right;\">         0.131313 </td></tr>\n",
       "<tr><td style=\"text-align: right;\">  0.99 </td><td style=\"text-align: right;\">         0.348485 </td></tr>\n",
       "</tbody>\n",
       "</table>"
      ]
     },
     "metadata": {},
     "output_type": "display_data"
    },
    {
     "data": {
      "text/plain": []
     },
     "execution_count": 97,
     "metadata": {},
     "output_type": "execute_result"
    }
   ],
   "source": [
    "score_if['predict'].quantile()"
   ]
  },
  {
   "cell_type": "markdown",
   "metadata": {},
   "source": [
    "### 精度検証"
   ]
  },
  {
   "cell_type": "code",
   "execution_count": 31,
   "metadata": {},
   "outputs": [],
   "source": [
    "from sklearn.metrics import roc_curve, auc, precision_recall_curve\n",
    "import pandas as pd\n",
    "import numpy as np\n",
    "import matplotlib.pyplot as plt"
   ]
  },
  {
   "cell_type": "code",
   "execution_count": 98,
   "metadata": {},
   "outputs": [
    {
     "data": {
      "text/html": [
       "<div>\n",
       "<style scoped>\n",
       "    .dataframe tbody tr th:only-of-type {\n",
       "        vertical-align: middle;\n",
       "    }\n",
       "\n",
       "    .dataframe tbody tr th {\n",
       "        vertical-align: top;\n",
       "    }\n",
       "\n",
       "    .dataframe thead th {\n",
       "        text-align: right;\n",
       "    }\n",
       "</style>\n",
       "<table border=\"1\" class=\"dataframe\">\n",
       "  <thead>\n",
       "    <tr style=\"text-align: right;\">\n",
       "      <th></th>\n",
       "      <th>Class</th>\n",
       "      <th>predict</th>\n",
       "    </tr>\n",
       "  </thead>\n",
       "  <tbody>\n",
       "    <tr>\n",
       "      <th>0</th>\n",
       "      <td>0</td>\n",
       "      <td>0.025253</td>\n",
       "    </tr>\n",
       "    <tr>\n",
       "      <th>1</th>\n",
       "      <td>0</td>\n",
       "      <td>0.025253</td>\n",
       "    </tr>\n",
       "    <tr>\n",
       "      <th>2</th>\n",
       "      <td>0</td>\n",
       "      <td>0.111111</td>\n",
       "    </tr>\n",
       "    <tr>\n",
       "      <th>3</th>\n",
       "      <td>0</td>\n",
       "      <td>0.060606</td>\n",
       "    </tr>\n",
       "    <tr>\n",
       "      <th>4</th>\n",
       "      <td>0</td>\n",
       "      <td>0.005051</td>\n",
       "    </tr>\n",
       "    <tr>\n",
       "      <th>...</th>\n",
       "      <td>...</td>\n",
       "      <td>...</td>\n",
       "    </tr>\n",
       "    <tr>\n",
       "      <th>284802</th>\n",
       "      <td>0</td>\n",
       "      <td>0.449495</td>\n",
       "    </tr>\n",
       "    <tr>\n",
       "      <th>284803</th>\n",
       "      <td>0</td>\n",
       "      <td>0.050505</td>\n",
       "    </tr>\n",
       "    <tr>\n",
       "      <th>284804</th>\n",
       "      <td>0</td>\n",
       "      <td>0.030303</td>\n",
       "    </tr>\n",
       "    <tr>\n",
       "      <th>284805</th>\n",
       "      <td>0</td>\n",
       "      <td>0.106061</td>\n",
       "    </tr>\n",
       "    <tr>\n",
       "      <th>284806</th>\n",
       "      <td>0</td>\n",
       "      <td>0.030303</td>\n",
       "    </tr>\n",
       "  </tbody>\n",
       "</table>\n",
       "<p>284807 rows × 2 columns</p>\n",
       "</div>"
      ],
      "text/plain": [
       "        Class   predict\n",
       "0           0  0.025253\n",
       "1           0  0.025253\n",
       "2           0  0.111111\n",
       "3           0  0.060606\n",
       "4           0  0.005051\n",
       "...       ...       ...\n",
       "284802      0  0.449495\n",
       "284803      0  0.050505\n",
       "284804      0  0.030303\n",
       "284805      0  0.106061\n",
       "284806      0  0.030303\n",
       "\n",
       "[284807 rows x 2 columns]"
      ]
     },
     "execution_count": 98,
     "metadata": {},
     "output_type": "execute_result"
    }
   ],
   "source": [
    "# pandas.DataFrameへ変換（ローカル環境上のオブジェクトにロード）\n",
    "df_res = pd.concat([frame['Class'].as_data_frame(), score_if['predict'].as_data_frame()], axis=1)\n",
    "df_res"
   ]
  },
  {
   "cell_type": "code",
   "execution_count": 142,
   "metadata": {},
   "outputs": [],
   "source": [
    "actual = df_res['Class']   # 実測\n",
    "anomaly_score = df_res['predict']  # 予測"
   ]
  },
  {
   "cell_type": "code",
   "execution_count": 143,
   "metadata": {},
   "outputs": [
    {
     "data": {
      "text/plain": [
       "[]"
      ]
     },
     "execution_count": 143,
     "metadata": {},
     "output_type": "execute_result"
    },
    {
     "data": {
      "image/png": "[encoded data removed]",
      "text/plain": [
       "<Figure size 1080x72 with 1 Axes>"
      ]
     },
     "metadata": {
      "needs_background": "light"
     },
     "output_type": "display_data"
    }
   ],
   "source": [
    "# 予実プロット\n",
    "plt.figure(figsize=[15,1])\n",
    "plt.scatter(anomaly_score, actual, alpha=0.1)\n",
    "plt.xlabel('anomaly_score')\n",
    "plt.ylabel('actual')\n",
    "plt.plot()"
   ]
  },
  {
   "cell_type": "code",
   "execution_count": 119,
   "metadata": {},
   "outputs": [
    {
     "data": {
      "text/plain": [
       "1.0"
      ]
     },
     "execution_count": 119,
     "metadata": {},
     "output_type": "execute_result"
    }
   ],
   "source": [
    "anomaly_score.max()"
   ]
  },
  {
   "cell_type": "code",
   "execution_count": 113,
   "metadata": {},
   "outputs": [
    {
     "data": {
      "text/html": [
       "<table>\n",
       "<thead>\n",
       "<tr><th style=\"text-align: right;\">  Time</th><th style=\"text-align: right;\">      V1</th><th style=\"text-align: right;\">      V2</th><th style=\"text-align: right;\">      V3</th><th style=\"text-align: right;\">     V4</th><th style=\"text-align: right;\">      V5</th><th style=\"text-align: right;\">     V6</th><th style=\"text-align: right;\">     V7</th><th style=\"text-align: right;\">      V8</th><th style=\"text-align: right;\">      V9</th><th style=\"text-align: right;\">     V10</th><th style=\"text-align: right;\">   V11</th><th style=\"text-align: right;\">     V12</th><th style=\"text-align: right;\">    V13</th><th style=\"text-align: right;\">     V14</th><th style=\"text-align: right;\">    V15</th><th style=\"text-align: right;\">    V16</th><th style=\"text-align: right;\">     V17</th><th style=\"text-align: right;\">     V18</th><th style=\"text-align: right;\">    V19</th><th style=\"text-align: right;\">     V20</th><th style=\"text-align: right;\">     V21</th><th style=\"text-align: right;\">   V22</th><th style=\"text-align: right;\">    V23</th><th style=\"text-align: right;\">    V24</th><th style=\"text-align: right;\">    V25</th><th style=\"text-align: right;\">    V26</th><th style=\"text-align: right;\">    V27</th><th style=\"text-align: right;\">     V28</th><th style=\"text-align: right;\">  Amount</th><th style=\"text-align: right;\">  Class</th></tr>\n",
       "</thead>\n",
       "<tbody>\n",
       "<tr><td style=\"text-align: right;\">166198</td><td style=\"text-align: right;\">-35.5485</td><td style=\"text-align: right;\">-31.8505</td><td style=\"text-align: right;\">-48.3256</td><td style=\"text-align: right;\">15.3042</td><td style=\"text-align: right;\">-113.743</td><td style=\"text-align: right;\">73.3016</td><td style=\"text-align: right;\">120.589</td><td style=\"text-align: right;\">-27.3474</td><td style=\"text-align: right;\">-3.87242</td><td style=\"text-align: right;\">-12.0055</td><td style=\"text-align: right;\">6.8539</td><td style=\"text-align: right;\">-9.18942</td><td style=\"text-align: right;\">7.12688</td><td style=\"text-align: right;\">-6.79594</td><td style=\"text-align: right;\">8.87774</td><td style=\"text-align: right;\">17.3151</td><td style=\"text-align: right;\">-7.17381</td><td style=\"text-align: right;\">-1.96804</td><td style=\"text-align: right;\">5.50175</td><td style=\"text-align: right;\">-54.4977</td><td style=\"text-align: right;\">-21.6201</td><td style=\"text-align: right;\">5.7123</td><td style=\"text-align: right;\">-1.5811</td><td style=\"text-align: right;\">4.58455</td><td style=\"text-align: right;\">4.55468</td><td style=\"text-align: right;\">3.41564</td><td style=\"text-align: right;\">31.6122</td><td style=\"text-align: right;\">-15.4301</td><td style=\"text-align: right;\"> 25691.2</td><td style=\"text-align: right;\">      0</td></tr>\n",
       "</tbody>\n",
       "</table>"
      ]
     },
     "metadata": {},
     "output_type": "display_data"
    },
    {
     "data": {
      "text/plain": []
     },
     "execution_count": 113,
     "metadata": {},
     "output_type": "execute_result"
    }
   ],
   "source": [
    "# anomaly_score=1だが、actual=0のデータ\n",
    "frame[anomaly_score.idxmax(), :]"
   ]
  },
  {
   "cell_type": "markdown",
   "metadata": {},
   "source": [
    "#### ROC曲線"
   ]
  },
  {
   "cell_type": "code",
   "execution_count": 128,
   "metadata": {},
   "outputs": [],
   "source": [
    "fpr, tpr, threshold = roc_curve(actual, anomaly_score)"
   ]
  },
  {
   "cell_type": "code",
   "execution_count": 129,
   "metadata": {},
   "outputs": [
    {
     "data": {
      "text/plain": [
       "0.9450088423909757"
      ]
     },
     "execution_count": 129,
     "metadata": {},
     "output_type": "execute_result"
    }
   ],
   "source": [
    "# AUC\n",
    "auc_value = auc(fpr, tpr)\n",
    "auc_value"
   ]
  },
  {
   "cell_type": "code",
   "execution_count": 130,
   "metadata": {},
   "outputs": [
    {
     "data": {
      "text/plain": [
       "[]"
      ]
     },
     "execution_count": 130,
     "metadata": {},
     "output_type": "execute_result"
    },
    {
     "data": {
      "image/png": "[encoded data removed]",
      "text/plain": [
       "<Figure size 360x360 with 1 Axes>"
      ]
     },
     "metadata": {
      "needs_background": "light"
     },
     "output_type": "display_data"
    }
   ],
   "source": [
    "# ROC曲線\n",
    "plt.figure(figsize=[5,5])\n",
    "plt.plot(fpr, tpr, label=\"AUC:{:.3f}\".format(auc_value))\n",
    "plt.plot(np.arange(0,1.1,0.1), np.arange(0,1.1,0.1), '--', color='gray')    # 斜め４５度線\n",
    "plt.xlabel('FPR')\n",
    "plt.ylabel('TPR(Sensitivity)')\n",
    "plt.legend(loc='lower right')\n",
    "plt.plot()"
   ]
  },
  {
   "cell_type": "markdown",
   "metadata": {},
   "source": [
    "**True Positive Rate (Sensitivity):** 実際に1のものを、1と予測できた割合  \n",
    "**False Positive Rate:** 実際は0のものを、1と予測してしまった割合"
   ]
  },
  {
   "cell_type": "markdown",
   "metadata": {},
   "source": [
    "#### Precision-Recall曲線\n",
    "True Negative（0を0と予測）を考慮しないので、不均衡データに対して妥当なモデル評価方法となる"
   ]
  },
  {
   "cell_type": "code",
   "execution_count": 144,
   "metadata": {},
   "outputs": [],
   "source": [
    "precision, tpr, threshold = precision_recall_curve(actual, anomaly_score)"
   ]
  },
  {
   "cell_type": "code",
   "execution_count": 145,
   "metadata": {},
   "outputs": [
    {
     "data": {
      "text/html": [
       "<div>\n",
       "<style scoped>\n",
       "    .dataframe tbody tr th:only-of-type {\n",
       "        vertical-align: middle;\n",
       "    }\n",
       "\n",
       "    .dataframe tbody tr th {\n",
       "        vertical-align: top;\n",
       "    }\n",
       "\n",
       "    .dataframe thead th {\n",
       "        text-align: right;\n",
       "    }\n",
       "</style>\n",
       "<table border=\"1\" class=\"dataframe\">\n",
       "  <thead>\n",
       "    <tr style=\"text-align: right;\">\n",
       "      <th></th>\n",
       "      <th>precision</th>\n",
       "      <th>tpr</th>\n",
       "      <th>threshold</th>\n",
       "    </tr>\n",
       "  </thead>\n",
       "  <tbody>\n",
       "    <tr>\n",
       "      <th>0</th>\n",
       "      <td>0.001727</td>\n",
       "      <td>1.000000</td>\n",
       "      <td>0.000000</td>\n",
       "    </tr>\n",
       "    <tr>\n",
       "      <th>1</th>\n",
       "      <td>0.001964</td>\n",
       "      <td>0.993902</td>\n",
       "      <td>0.000000</td>\n",
       "    </tr>\n",
       "    <tr>\n",
       "      <th>2</th>\n",
       "      <td>0.002086</td>\n",
       "      <td>0.989837</td>\n",
       "      <td>0.005051</td>\n",
       "    </tr>\n",
       "    <tr>\n",
       "      <th>3</th>\n",
       "      <td>0.002276</td>\n",
       "      <td>0.979675</td>\n",
       "      <td>0.010101</td>\n",
       "    </tr>\n",
       "    <tr>\n",
       "      <th>4</th>\n",
       "      <td>0.002466</td>\n",
       "      <td>0.977642</td>\n",
       "      <td>0.015152</td>\n",
       "    </tr>\n",
       "    <tr>\n",
       "      <th>...</th>\n",
       "      <td>...</td>\n",
       "      <td>...</td>\n",
       "      <td>...</td>\n",
       "    </tr>\n",
       "    <tr>\n",
       "      <th>157</th>\n",
       "      <td>0.200000</td>\n",
       "      <td>0.002033</td>\n",
       "      <td>0.803030</td>\n",
       "    </tr>\n",
       "    <tr>\n",
       "      <th>158</th>\n",
       "      <td>0.250000</td>\n",
       "      <td>0.002033</td>\n",
       "      <td>0.813131</td>\n",
       "    </tr>\n",
       "    <tr>\n",
       "      <th>159</th>\n",
       "      <td>0.000000</td>\n",
       "      <td>0.000000</td>\n",
       "      <td>0.823232</td>\n",
       "    </tr>\n",
       "    <tr>\n",
       "      <th>160</th>\n",
       "      <td>0.000000</td>\n",
       "      <td>0.000000</td>\n",
       "      <td>0.843434</td>\n",
       "    </tr>\n",
       "    <tr>\n",
       "      <th>161</th>\n",
       "      <td>1.000000</td>\n",
       "      <td>0.000000</td>\n",
       "      <td>1.000000</td>\n",
       "    </tr>\n",
       "  </tbody>\n",
       "</table>\n",
       "<p>162 rows × 3 columns</p>\n",
       "</div>"
      ],
      "text/plain": [
       "     precision       tpr  threshold\n",
       "0     0.001727  1.000000   0.000000\n",
       "1     0.001964  0.993902   0.000000\n",
       "2     0.002086  0.989837   0.005051\n",
       "3     0.002276  0.979675   0.010101\n",
       "4     0.002466  0.977642   0.015152\n",
       "..         ...       ...        ...\n",
       "157   0.200000  0.002033   0.803030\n",
       "158   0.250000  0.002033   0.813131\n",
       "159   0.000000  0.000000   0.823232\n",
       "160   0.000000  0.000000   0.843434\n",
       "161   1.000000  0.000000   1.000000\n",
       "\n",
       "[162 rows x 3 columns]"
      ]
     },
     "execution_count": 145,
     "metadata": {},
     "output_type": "execute_result"
    }
   ],
   "source": [
    "pd.DataFrame({'precision':precision, 'tpr':tpr, 'threshold':[0, *threshold]})\n",
    "\n",
    "# threshold=1において、precision=1と設定されているため、値が飛んでいるようになっていると考えられる"
   ]
  },
  {
   "cell_type": "code",
   "execution_count": 133,
   "metadata": {},
   "outputs": [
    {
     "data": {
      "text/plain": [
       "0.16404374759282025"
      ]
     },
     "execution_count": 133,
     "metadata": {},
     "output_type": "execute_result"
    }
   ],
   "source": [
    "# AUCPR\n",
    "aucpr_score = np.trapz(y=precision, x=tpr)*-1     # x=tprが降順になっているので符号を入れ替える\n",
    "aucpr_score"
   ]
  },
  {
   "cell_type": "code",
   "execution_count": 134,
   "metadata": {},
   "outputs": [
    {
     "data": {
      "text/plain": [
       "[]"
      ]
     },
     "execution_count": 134,
     "metadata": {},
     "output_type": "execute_result"
    },
    {
     "data": {
      "image/png": "[encoded data removed]",
      "text/plain": [
       "<Figure size 360x360 with 1 Axes>"
      ]
     },
     "metadata": {
      "needs_background": "light"
     },
     "output_type": "display_data"
    }
   ],
   "source": [
    "# Precision-Recall曲線\n",
    "plt.figure(figsize=[5,5])\n",
    "plt.plot(tpr, precision, label=\"AUCPR:{:.3f}\".format(aucpr_score))\n",
    "plt.xlabel('TPR(Recall, Sensitivity)')\n",
    "plt.ylabel('Precision')\n",
    "plt.legend(loc='upper right')\n",
    "plt.plot()"
   ]
  },
  {
   "cell_type": "markdown",
   "metadata": {},
   "source": [
    "**Precision:** 1と予測して、実際に1だった割合  \n",
    "**True Positive Rate (Recall, Sensitivity):** 実際に1のものを、1と予測できた割合"
   ]
  },
  {
   "cell_type": "markdown",
   "metadata": {},
   "source": [
    "### モデルの解釈"
   ]
  },
  {
   "cell_type": "markdown",
   "metadata": {},
   "source": [
    "代理モデル/Surrogate Model（予測値を目的変数とし、元の特徴量で予測、どの特徴量が効いているかを確認）を用いた解釈"
   ]
  },
  {
   "cell_type": "code",
   "execution_count": 155,
   "metadata": {},
   "outputs": [
    {
     "name": "stdout",
     "output_type": "stream",
     "text": [
      "(284807, 32)\n"
     ]
    },
    {
     "data": {
      "text/html": [
       "<table>\n",
       "<thead>\n",
       "<tr><th style=\"text-align: right;\">  Time</th><th style=\"text-align: right;\">       V1</th><th style=\"text-align: right;\">        V2</th><th style=\"text-align: right;\">        V3</th><th style=\"text-align: right;\">       V4</th><th style=\"text-align: right;\">        V5</th><th style=\"text-align: right;\">        V6</th><th style=\"text-align: right;\">       V7</th><th style=\"text-align: right;\">        V8</th><th style=\"text-align: right;\">       V9</th><th style=\"text-align: right;\">       V10</th><th style=\"text-align: right;\">      V11</th><th style=\"text-align: right;\">       V12</th><th style=\"text-align: right;\">      V13</th><th style=\"text-align: right;\">       V14</th><th style=\"text-align: right;\">       V15</th><th style=\"text-align: right;\">      V16</th><th style=\"text-align: right;\">        V17</th><th style=\"text-align: right;\">       V18</th><th style=\"text-align: right;\">       V19</th><th style=\"text-align: right;\">       V20</th><th style=\"text-align: right;\">       V21</th><th style=\"text-align: right;\">       V22</th><th style=\"text-align: right;\">       V23</th><th style=\"text-align: right;\">       V24</th><th style=\"text-align: right;\">      V25</th><th style=\"text-align: right;\">       V26</th><th style=\"text-align: right;\">       V27</th><th style=\"text-align: right;\">        V28</th><th style=\"text-align: right;\">  Amount</th><th style=\"text-align: right;\">  Class</th><th style=\"text-align: right;\">  anomaly_score</th></tr>\n",
       "</thead>\n",
       "<tbody>\n",
       "<tr><td style=\"text-align: right;\">     0</td><td style=\"text-align: right;\">-1.35981 </td><td style=\"text-align: right;\">-0.0727812</td><td style=\"text-align: right;\"> 2.53635  </td><td style=\"text-align: right;\"> 1.37816 </td><td style=\"text-align: right;\">-0.338321 </td><td style=\"text-align: right;\"> 0.462388 </td><td style=\"text-align: right;\"> 0.239599</td><td style=\"text-align: right;\"> 0.0986979</td><td style=\"text-align: right;\"> 0.363787</td><td style=\"text-align: right;\"> 0.0907942</td><td style=\"text-align: right;\">-0.5516  </td><td style=\"text-align: right;\">-0.617801 </td><td style=\"text-align: right;\">-0.99139 </td><td style=\"text-align: right;\">-0.311169 </td><td style=\"text-align: right;\"> 1.46818  </td><td style=\"text-align: right;\">-0.470401</td><td style=\"text-align: right;\"> 0.207971  </td><td style=\"text-align: right;\"> 0.0257906</td><td style=\"text-align: right;\"> 0.403993 </td><td style=\"text-align: right;\"> 0.251412 </td><td style=\"text-align: right;\">-0.0183068</td><td style=\"text-align: right;\"> 0.277838 </td><td style=\"text-align: right;\">-0.110474 </td><td style=\"text-align: right;\"> 0.0669281</td><td style=\"text-align: right;\"> 0.128539</td><td style=\"text-align: right;\">-0.189115 </td><td style=\"text-align: right;\"> 0.133558 </td><td style=\"text-align: right;\">-0.0210531 </td><td style=\"text-align: right;\">  149.62</td><td style=\"text-align: right;\">      0</td><td style=\"text-align: right;\">     0.0252525 </td></tr>\n",
       "<tr><td style=\"text-align: right;\">     0</td><td style=\"text-align: right;\"> 1.19186 </td><td style=\"text-align: right;\"> 0.266151 </td><td style=\"text-align: right;\"> 0.16648  </td><td style=\"text-align: right;\"> 0.448154</td><td style=\"text-align: right;\"> 0.0600176</td><td style=\"text-align: right;\">-0.0823608</td><td style=\"text-align: right;\">-0.078803</td><td style=\"text-align: right;\"> 0.0851017</td><td style=\"text-align: right;\">-0.255425</td><td style=\"text-align: right;\">-0.166974 </td><td style=\"text-align: right;\"> 1.61273 </td><td style=\"text-align: right;\"> 1.06524  </td><td style=\"text-align: right;\"> 0.489095</td><td style=\"text-align: right;\">-0.143772 </td><td style=\"text-align: right;\"> 0.635558 </td><td style=\"text-align: right;\"> 0.463917</td><td style=\"text-align: right;\">-0.114805  </td><td style=\"text-align: right;\">-0.183361 </td><td style=\"text-align: right;\">-0.145783 </td><td style=\"text-align: right;\">-0.0690831</td><td style=\"text-align: right;\">-0.225775 </td><td style=\"text-align: right;\">-0.638672 </td><td style=\"text-align: right;\"> 0.101288 </td><td style=\"text-align: right;\">-0.339846 </td><td style=\"text-align: right;\"> 0.16717 </td><td style=\"text-align: right;\"> 0.125895 </td><td style=\"text-align: right;\">-0.0089831</td><td style=\"text-align: right;\"> 0.0147242 </td><td style=\"text-align: right;\">    2.69</td><td style=\"text-align: right;\">      0</td><td style=\"text-align: right;\">     0.0252525 </td></tr>\n",
       "<tr><td style=\"text-align: right;\">     1</td><td style=\"text-align: right;\">-1.35835 </td><td style=\"text-align: right;\">-1.34016  </td><td style=\"text-align: right;\"> 1.77321  </td><td style=\"text-align: right;\"> 0.37978 </td><td style=\"text-align: right;\">-0.503198 </td><td style=\"text-align: right;\"> 1.8005   </td><td style=\"text-align: right;\"> 0.791461</td><td style=\"text-align: right;\"> 0.247676 </td><td style=\"text-align: right;\">-1.51465 </td><td style=\"text-align: right;\"> 0.207643 </td><td style=\"text-align: right;\"> 0.624501</td><td style=\"text-align: right;\"> 0.0660837</td><td style=\"text-align: right;\"> 0.717293</td><td style=\"text-align: right;\">-0.165946 </td><td style=\"text-align: right;\"> 2.34586  </td><td style=\"text-align: right;\">-2.89008 </td><td style=\"text-align: right;\"> 1.10997   </td><td style=\"text-align: right;\">-0.121359 </td><td style=\"text-align: right;\">-2.26186  </td><td style=\"text-align: right;\"> 0.52498  </td><td style=\"text-align: right;\"> 0.247998 </td><td style=\"text-align: right;\"> 0.771679 </td><td style=\"text-align: right;\"> 0.909412 </td><td style=\"text-align: right;\">-0.689281 </td><td style=\"text-align: right;\">-0.327642</td><td style=\"text-align: right;\">-0.139097 </td><td style=\"text-align: right;\">-0.0553528</td><td style=\"text-align: right;\">-0.0597518 </td><td style=\"text-align: right;\">  378.66</td><td style=\"text-align: right;\">      0</td><td style=\"text-align: right;\">     0.111111  </td></tr>\n",
       "<tr><td style=\"text-align: right;\">     1</td><td style=\"text-align: right;\">-0.966272</td><td style=\"text-align: right;\">-0.185226 </td><td style=\"text-align: right;\"> 1.79299  </td><td style=\"text-align: right;\">-0.863291</td><td style=\"text-align: right;\">-0.0103089</td><td style=\"text-align: right;\"> 1.2472   </td><td style=\"text-align: right;\"> 0.237609</td><td style=\"text-align: right;\"> 0.377436 </td><td style=\"text-align: right;\">-1.38702 </td><td style=\"text-align: right;\">-0.0549519</td><td style=\"text-align: right;\">-0.226487</td><td style=\"text-align: right;\"> 0.178228 </td><td style=\"text-align: right;\"> 0.507757</td><td style=\"text-align: right;\">-0.287924 </td><td style=\"text-align: right;\">-0.631418 </td><td style=\"text-align: right;\">-1.05965 </td><td style=\"text-align: right;\">-0.684093  </td><td style=\"text-align: right;\"> 1.96578  </td><td style=\"text-align: right;\">-1.23262  </td><td style=\"text-align: right;\">-0.208038 </td><td style=\"text-align: right;\">-0.1083   </td><td style=\"text-align: right;\"> 0.0052736</td><td style=\"text-align: right;\">-0.190321 </td><td style=\"text-align: right;\">-1.17558  </td><td style=\"text-align: right;\"> 0.647376</td><td style=\"text-align: right;\">-0.221929 </td><td style=\"text-align: right;\"> 0.0627228</td><td style=\"text-align: right;\"> 0.0614576 </td><td style=\"text-align: right;\">  123.5 </td><td style=\"text-align: right;\">      0</td><td style=\"text-align: right;\">     0.0606061 </td></tr>\n",
       "<tr><td style=\"text-align: right;\">     2</td><td style=\"text-align: right;\">-1.15823 </td><td style=\"text-align: right;\"> 0.877737 </td><td style=\"text-align: right;\"> 1.54872  </td><td style=\"text-align: right;\"> 0.403034</td><td style=\"text-align: right;\">-0.407193 </td><td style=\"text-align: right;\"> 0.0959215</td><td style=\"text-align: right;\"> 0.592941</td><td style=\"text-align: right;\">-0.270533 </td><td style=\"text-align: right;\"> 0.817739</td><td style=\"text-align: right;\"> 0.753074 </td><td style=\"text-align: right;\">-0.822843</td><td style=\"text-align: right;\"> 0.538196 </td><td style=\"text-align: right;\"> 1.34585 </td><td style=\"text-align: right;\">-1.11967  </td><td style=\"text-align: right;\"> 0.175121 </td><td style=\"text-align: right;\">-0.451449</td><td style=\"text-align: right;\">-0.237033  </td><td style=\"text-align: right;\">-0.0381948</td><td style=\"text-align: right;\"> 0.803487 </td><td style=\"text-align: right;\"> 0.408542 </td><td style=\"text-align: right;\">-0.0094307</td><td style=\"text-align: right;\"> 0.798278 </td><td style=\"text-align: right;\">-0.137458 </td><td style=\"text-align: right;\"> 0.141267 </td><td style=\"text-align: right;\">-0.20601 </td><td style=\"text-align: right;\"> 0.502292 </td><td style=\"text-align: right;\"> 0.219422 </td><td style=\"text-align: right;\"> 0.215153  </td><td style=\"text-align: right;\">   69.99</td><td style=\"text-align: right;\">      0</td><td style=\"text-align: right;\">     0.00505051</td></tr>\n",
       "<tr><td style=\"text-align: right;\">     2</td><td style=\"text-align: right;\">-0.425966</td><td style=\"text-align: right;\"> 0.960523 </td><td style=\"text-align: right;\"> 1.14111  </td><td style=\"text-align: right;\">-0.168252</td><td style=\"text-align: right;\"> 0.420987 </td><td style=\"text-align: right;\">-0.0297276</td><td style=\"text-align: right;\"> 0.476201</td><td style=\"text-align: right;\"> 0.260314 </td><td style=\"text-align: right;\">-0.568671</td><td style=\"text-align: right;\">-0.371407 </td><td style=\"text-align: right;\"> 1.34126 </td><td style=\"text-align: right;\"> 0.359894 </td><td style=\"text-align: right;\">-0.358091</td><td style=\"text-align: right;\">-0.137134 </td><td style=\"text-align: right;\"> 0.517617 </td><td style=\"text-align: right;\"> 0.401726</td><td style=\"text-align: right;\">-0.0581328 </td><td style=\"text-align: right;\"> 0.0686531</td><td style=\"text-align: right;\">-0.0331938</td><td style=\"text-align: right;\"> 0.0849677</td><td style=\"text-align: right;\">-0.208254 </td><td style=\"text-align: right;\">-0.559825 </td><td style=\"text-align: right;\">-0.0263977</td><td style=\"text-align: right;\">-0.371427 </td><td style=\"text-align: right;\">-0.232794</td><td style=\"text-align: right;\"> 0.105915 </td><td style=\"text-align: right;\"> 0.253844 </td><td style=\"text-align: right;\"> 0.0810803 </td><td style=\"text-align: right;\">    3.67</td><td style=\"text-align: right;\">      0</td><td style=\"text-align: right;\">     0.0454545 </td></tr>\n",
       "<tr><td style=\"text-align: right;\">     4</td><td style=\"text-align: right;\"> 1.22966 </td><td style=\"text-align: right;\"> 0.141004 </td><td style=\"text-align: right;\"> 0.0453708</td><td style=\"text-align: right;\"> 1.20261 </td><td style=\"text-align: right;\"> 0.191881 </td><td style=\"text-align: right;\"> 0.272708 </td><td style=\"text-align: right;\">-0.005159</td><td style=\"text-align: right;\"> 0.0812129</td><td style=\"text-align: right;\"> 0.46496 </td><td style=\"text-align: right;\">-0.0992543</td><td style=\"text-align: right;\">-1.41691 </td><td style=\"text-align: right;\">-0.153826 </td><td style=\"text-align: right;\">-0.751063</td><td style=\"text-align: right;\"> 0.167372 </td><td style=\"text-align: right;\"> 0.0501436</td><td style=\"text-align: right;\">-0.443587</td><td style=\"text-align: right;\"> 0.00282051</td><td style=\"text-align: right;\">-0.611987 </td><td style=\"text-align: right;\">-0.045575 </td><td style=\"text-align: right;\">-0.219633 </td><td style=\"text-align: right;\">-0.167716 </td><td style=\"text-align: right;\">-0.27071  </td><td style=\"text-align: right;\">-0.154104 </td><td style=\"text-align: right;\">-0.780055 </td><td style=\"text-align: right;\"> 0.750137</td><td style=\"text-align: right;\">-0.257237 </td><td style=\"text-align: right;\"> 0.0345074</td><td style=\"text-align: right;\"> 0.00516777</td><td style=\"text-align: right;\">    4.99</td><td style=\"text-align: right;\">      0</td><td style=\"text-align: right;\">     0.010101  </td></tr>\n",
       "<tr><td style=\"text-align: right;\">     7</td><td style=\"text-align: right;\">-0.644269</td><td style=\"text-align: right;\"> 1.41796  </td><td style=\"text-align: right;\"> 1.07438  </td><td style=\"text-align: right;\">-0.492199</td><td style=\"text-align: right;\"> 0.948934 </td><td style=\"text-align: right;\"> 0.428118 </td><td style=\"text-align: right;\"> 1.12063 </td><td style=\"text-align: right;\">-3.80786  </td><td style=\"text-align: right;\"> 0.615375</td><td style=\"text-align: right;\"> 1.24938  </td><td style=\"text-align: right;\">-0.619468</td><td style=\"text-align: right;\"> 0.291474 </td><td style=\"text-align: right;\"> 1.75796 </td><td style=\"text-align: right;\">-1.32387  </td><td style=\"text-align: right;\"> 0.686133 </td><td style=\"text-align: right;\">-0.076127</td><td style=\"text-align: right;\">-1.22213   </td><td style=\"text-align: right;\">-0.358222 </td><td style=\"text-align: right;\"> 0.324505 </td><td style=\"text-align: right;\">-0.156742 </td><td style=\"text-align: right;\"> 1.94347  </td><td style=\"text-align: right;\">-1.01545  </td><td style=\"text-align: right;\"> 0.0575035</td><td style=\"text-align: right;\">-0.649709 </td><td style=\"text-align: right;\">-0.415267</td><td style=\"text-align: right;\">-0.0516343</td><td style=\"text-align: right;\">-1.20692  </td><td style=\"text-align: right;\">-1.08534   </td><td style=\"text-align: right;\">   40.8 </td><td style=\"text-align: right;\">      0</td><td style=\"text-align: right;\">     0.186869  </td></tr>\n",
       "<tr><td style=\"text-align: right;\">     7</td><td style=\"text-align: right;\">-0.894286</td><td style=\"text-align: right;\"> 0.286157 </td><td style=\"text-align: right;\">-0.113192 </td><td style=\"text-align: right;\">-0.271526</td><td style=\"text-align: right;\"> 2.6696   </td><td style=\"text-align: right;\"> 3.72182  </td><td style=\"text-align: right;\"> 0.370145</td><td style=\"text-align: right;\"> 0.851084 </td><td style=\"text-align: right;\">-0.392048</td><td style=\"text-align: right;\">-0.41043  </td><td style=\"text-align: right;\">-0.705117</td><td style=\"text-align: right;\">-0.110452 </td><td style=\"text-align: right;\">-0.286254</td><td style=\"text-align: right;\"> 0.0743554</td><td style=\"text-align: right;\">-0.328783 </td><td style=\"text-align: right;\">-0.210077</td><td style=\"text-align: right;\">-0.499768  </td><td style=\"text-align: right;\"> 0.118765 </td><td style=\"text-align: right;\"> 0.570328 </td><td style=\"text-align: right;\"> 0.0527357</td><td style=\"text-align: right;\">-0.0734251</td><td style=\"text-align: right;\">-0.268092 </td><td style=\"text-align: right;\">-0.204233 </td><td style=\"text-align: right;\"> 1.01159  </td><td style=\"text-align: right;\"> 0.373205</td><td style=\"text-align: right;\">-0.384157 </td><td style=\"text-align: right;\"> 0.0117474</td><td style=\"text-align: right;\"> 0.142404  </td><td style=\"text-align: right;\">   93.2 </td><td style=\"text-align: right;\">      0</td><td style=\"text-align: right;\">     0.0959596 </td></tr>\n",
       "<tr><td style=\"text-align: right;\">     9</td><td style=\"text-align: right;\">-0.338262</td><td style=\"text-align: right;\"> 1.11959  </td><td style=\"text-align: right;\"> 1.04437  </td><td style=\"text-align: right;\">-0.222187</td><td style=\"text-align: right;\"> 0.499361 </td><td style=\"text-align: right;\">-0.246761 </td><td style=\"text-align: right;\"> 0.651583</td><td style=\"text-align: right;\"> 0.0695386</td><td style=\"text-align: right;\">-0.736727</td><td style=\"text-align: right;\">-0.366846 </td><td style=\"text-align: right;\"> 1.01761 </td><td style=\"text-align: right;\"> 0.83639  </td><td style=\"text-align: right;\"> 1.00684 </td><td style=\"text-align: right;\">-0.443523 </td><td style=\"text-align: right;\"> 0.150219 </td><td style=\"text-align: right;\"> 0.739453</td><td style=\"text-align: right;\">-0.54098   </td><td style=\"text-align: right;\"> 0.476677 </td><td style=\"text-align: right;\"> 0.451773 </td><td style=\"text-align: right;\"> 0.203711 </td><td style=\"text-align: right;\">-0.246914 </td><td style=\"text-align: right;\">-0.633753 </td><td style=\"text-align: right;\">-0.120794 </td><td style=\"text-align: right;\">-0.38505  </td><td style=\"text-align: right;\">-0.069733</td><td style=\"text-align: right;\"> 0.0941988</td><td style=\"text-align: right;\"> 0.246219 </td><td style=\"text-align: right;\"> 0.0830756 </td><td style=\"text-align: right;\">    3.68</td><td style=\"text-align: right;\">      0</td><td style=\"text-align: right;\">     0.020202  </td></tr>\n",
       "</tbody>\n",
       "</table>"
      ]
     },
     "metadata": {},
     "output_type": "display_data"
    },
    {
     "data": {
      "text/plain": []
     },
     "execution_count": 155,
     "metadata": {},
     "output_type": "execute_result"
    }
   ],
   "source": [
    "# 正規化された異常値スコアを元データ（H2OFrame）に結合\n",
    "frame['anomaly_score'] = score_if['predict']\n",
    "print(frame.shape)\n",
    "frame.head()"
   ]
  },
  {
   "cell_type": "code",
   "execution_count": 156,
   "metadata": {},
   "outputs": [
    {
     "data": {
      "text/plain": [
       "30"
      ]
     },
     "execution_count": 156,
     "metadata": {},
     "output_type": "execute_result"
    }
   ],
   "source": [
    "len(feature_names)"
   ]
  },
  {
   "cell_type": "markdown",
   "metadata": {},
   "source": [
    "#### GLM\n",
    "[Python API](https://docs.h2o.ai/h2o/latest-stable/h2o-py/docs/modeling.html#h2ogeneralizedlinearestimator)"
   ]
  },
  {
   "cell_type": "code",
   "execution_count": 146,
   "metadata": {},
   "outputs": [],
   "source": [
    "from h2o.estimators.glm import H2OGeneralizedLinearEstimator"
   ]
  },
  {
   "cell_type": "code",
   "execution_count": 186,
   "metadata": {},
   "outputs": [],
   "source": [
    "surrogate_glm = H2OGeneralizedLinearEstimator(lambda_=0)  # lambda_=0: 正則化を実施しない"
   ]
  },
  {
   "cell_type": "code",
   "execution_count": 187,
   "metadata": {},
   "outputs": [
    {
     "name": "stdout",
     "output_type": "stream",
     "text": [
      "glm Model Build progress: |███████████████████████████████████████████████| 100%\n"
     ]
    }
   ],
   "source": [
    "surrogate_glm.train(training_frame=frame, x=feature_names, y='anomaly_score')"
   ]
  },
  {
   "cell_type": "code",
   "execution_count": 188,
   "metadata": {},
   "outputs": [
    {
     "name": "stdout",
     "output_type": "stream",
     "text": [
      "Model Details\n",
      "=============\n",
      "H2OGeneralizedLinearEstimator :  Generalized Linear Modeling\n",
      "Model Key:  GLM_model_python_1621548352308_9\n",
      "\n",
      "\n",
      "GLM Model: summary\n"
     ]
    },
    {
     "data": {
      "text/html": [
       "<div>\n",
       "<style scoped>\n",
       "    .dataframe tbody tr th:only-of-type {\n",
       "        vertical-align: middle;\n",
       "    }\n",
       "\n",
       "    .dataframe tbody tr th {\n",
       "        vertical-align: top;\n",
       "    }\n",
       "\n",
       "    .dataframe thead th {\n",
       "        text-align: right;\n",
       "    }\n",
       "</style>\n",
       "<table border=\"1\" class=\"dataframe\">\n",
       "  <thead>\n",
       "    <tr style=\"text-align: right;\">\n",
       "      <th></th>\n",
       "      <th></th>\n",
       "      <th>family</th>\n",
       "      <th>link</th>\n",
       "      <th>regularization</th>\n",
       "      <th>number_of_predictors_total</th>\n",
       "      <th>number_of_active_predictors</th>\n",
       "      <th>number_of_iterations</th>\n",
       "      <th>training_frame</th>\n",
       "    </tr>\n",
       "  </thead>\n",
       "  <tbody>\n",
       "    <tr>\n",
       "      <th>0</th>\n",
       "      <td></td>\n",
       "      <td>gaussian</td>\n",
       "      <td>identity</td>\n",
       "      <td>None</td>\n",
       "      <td>30</td>\n",
       "      <td>30</td>\n",
       "      <td>1</td>\n",
       "      <td>py_45_sid_8535</td>\n",
       "    </tr>\n",
       "  </tbody>\n",
       "</table>\n",
       "</div>"
      ],
      "text/plain": [
       "       family      link regularization  number_of_predictors_total  \\\n",
       "0    gaussian  identity           None                          30   \n",
       "\n",
       "  number_of_active_predictors  number_of_iterations  training_frame  \n",
       "0                          30                     1  py_45_sid_8535  "
      ]
     },
     "metadata": {},
     "output_type": "display_data"
    },
    {
     "name": "stdout",
     "output_type": "stream",
     "text": [
      "\n",
      "\n",
      "ModelMetricsRegressionGLM: glm\n",
      "** Reported on train data. **\n",
      "\n",
      "MSE: 0.0013853652816769042\n",
      "RMSE: 0.03722049545179247\n",
      "MAE: 0.02650366347727775\n",
      "RMSLE: 0.032882559657879465\n",
      "R^2: 0.7145215806555236\n",
      "Mean Residual Deviance: 0.0013853652816769042\n",
      "Null degrees of freedom: 284806\n",
      "Residual degrees of freedom: 284776\n",
      "Null deviance: 1382.107028210935\n",
      "Residual deviance: 394.5617297785541\n",
      "AIC: -1066229.0189581614\n",
      "\n",
      "Scoring History: \n"
     ]
    },
    {
     "data": {
      "text/html": [
       "<div>\n",
       "<style scoped>\n",
       "    .dataframe tbody tr th:only-of-type {\n",
       "        vertical-align: middle;\n",
       "    }\n",
       "\n",
       "    .dataframe tbody tr th {\n",
       "        vertical-align: top;\n",
       "    }\n",
       "\n",
       "    .dataframe thead th {\n",
       "        text-align: right;\n",
       "    }\n",
       "</style>\n",
       "<table border=\"1\" class=\"dataframe\">\n",
       "  <thead>\n",
       "    <tr style=\"text-align: right;\">\n",
       "      <th></th>\n",
       "      <th></th>\n",
       "      <th>timestamp</th>\n",
       "      <th>duration</th>\n",
       "      <th>iterations</th>\n",
       "      <th>negative_log_likelihood</th>\n",
       "      <th>objective</th>\n",
       "    </tr>\n",
       "  </thead>\n",
       "  <tbody>\n",
       "    <tr>\n",
       "      <th>0</th>\n",
       "      <td></td>\n",
       "      <td>2021-05-21 00:04:08</td>\n",
       "      <td>0.000 sec</td>\n",
       "      <td>0</td>\n",
       "      <td>1382.10703</td>\n",
       "      <td>0.004853</td>\n",
       "    </tr>\n",
       "  </tbody>\n",
       "</table>\n",
       "</div>"
      ],
      "text/plain": [
       "               timestamp    duration  iterations  negative_log_likelihood  \\\n",
       "0    2021-05-21 00:04:08   0.000 sec           0               1382.10703   \n",
       "\n",
       "   objective  \n",
       "0   0.004853  "
      ]
     },
     "metadata": {},
     "output_type": "display_data"
    },
    {
     "data": {
      "text/plain": []
     },
     "execution_count": 188,
     "metadata": {},
     "output_type": "execute_result"
    }
   ],
   "source": [
    "surrogate_glm"
   ]
  },
  {
   "cell_type": "markdown",
   "metadata": {},
   "source": [
    "代理モデルの当てはまりは、R2で見た場合71%"
   ]
  },
  {
   "cell_type": "code",
   "execution_count": 219,
   "metadata": {
    "scrolled": true
   },
   "outputs": [
    {
     "data": {
      "text/html": [
       "<div>\n",
       "<style scoped>\n",
       "    .dataframe tbody tr th:only-of-type {\n",
       "        vertical-align: middle;\n",
       "    }\n",
       "\n",
       "    .dataframe tbody tr th {\n",
       "        vertical-align: top;\n",
       "    }\n",
       "\n",
       "    .dataframe thead th {\n",
       "        text-align: right;\n",
       "    }\n",
       "</style>\n",
       "<table border=\"1\" class=\"dataframe\">\n",
       "  <thead>\n",
       "    <tr style=\"text-align: right;\">\n",
       "      <th></th>\n",
       "      <th>Feature</th>\n",
       "      <th>Coeff</th>\n",
       "    </tr>\n",
       "  </thead>\n",
       "  <tbody>\n",
       "    <tr>\n",
       "      <th>1</th>\n",
       "      <td>Time</td>\n",
       "      <td>0.001624</td>\n",
       "    </tr>\n",
       "    <tr>\n",
       "      <th>2</th>\n",
       "      <td>V1</td>\n",
       "      <td>-0.037150</td>\n",
       "    </tr>\n",
       "    <tr>\n",
       "      <th>3</th>\n",
       "      <td>V2</td>\n",
       "      <td>0.007307</td>\n",
       "    </tr>\n",
       "    <tr>\n",
       "      <th>4</th>\n",
       "      <td>V3</td>\n",
       "      <td>-0.013998</td>\n",
       "    </tr>\n",
       "    <tr>\n",
       "      <th>5</th>\n",
       "      <td>V4</td>\n",
       "      <td>0.006120</td>\n",
       "    </tr>\n",
       "  </tbody>\n",
       "</table>\n",
       "</div>"
      ],
      "text/plain": [
       "  Feature     Coeff\n",
       "1    Time  0.001624\n",
       "2      V1 -0.037150\n",
       "3      V2  0.007307\n",
       "4      V3 -0.013998\n",
       "5      V4  0.006120"
      ]
     },
     "execution_count": 219,
     "metadata": {},
     "output_type": "execute_result"
    }
   ],
   "source": [
    "# 回帰係数の取得\n",
    "# surrogate_glm.coef_norm()  ->  標準化された特徴量に対する回帰係数の推定結果\n",
    "df_coeff = pd.DataFrame.from_dict(surrogate_glm.coef_norm(), orient='index').reset_index()\n",
    "df_coeff.columns = ['Feature', 'Coeff']\n",
    "df_coeff = df_coeff.drop(0, axis=0)   # Interceptを削除\n",
    "df_coeff.head()"
   ]
  },
  {
   "cell_type": "code",
   "execution_count": 234,
   "metadata": {},
   "outputs": [
    {
     "data": {
      "text/plain": [
       "[]"
      ]
     },
     "execution_count": 234,
     "metadata": {},
     "output_type": "execute_result"
    },
    {
     "data": {
      "image/png": "[encoded data removed]",
      "text/plain": [
       "<Figure size 720x216 with 1 Axes>"
      ]
     },
     "metadata": {
      "needs_background": "light"
     },
     "output_type": "display_data"
    }
   ],
   "source": [
    "plt.figure(figsize=[10,3])\n",
    "plt.bar(df_coeff['Feature'], df_coeff['Coeff'])\n",
    "plt.xticks(rotation=90)\n",
    "plt.ylabel('Standardized Coefficient')\n",
    "plt.grid(linewidth=0.5, axis='y')\n",
    "plt.plot()"
   ]
  },
  {
   "cell_type": "markdown",
   "metadata": {},
   "source": [
    "V1（値が大きいと異常値スコアが低くなる）とAmount（値が大きいと異常値スコアが高くなる）が大きく貢献している"
   ]
  },
  {
   "cell_type": "markdown",
   "metadata": {},
   "source": [
    "#### Decision Tree\n",
    "[Python API](https://docs.h2o.ai/h2o/latest-stable/h2o-py/docs/modeling.html#h2orandomforestestimator)  \n",
    "Random Forrestを利用"
   ]
  },
  {
   "cell_type": "code",
   "execution_count": 358,
   "metadata": {},
   "outputs": [],
   "source": [
    "from h2o.estimators import H2ORandomForestEstimator"
   ]
  },
  {
   "cell_type": "code",
   "execution_count": 365,
   "metadata": {},
   "outputs": [],
   "source": [
    "surrogate_rf = H2ORandomForestEstimator(ntrees=1,     # 木１本\n",
    "                                        max_depth=3,      # 分岐の深さ\n",
    "                                        min_rows=10,      # リーフが必要とする最低データ数\n",
    "                                        sample_rate=1,     # データサンプリングは100%（サンプリングを実施しない）\n",
    "                                        mtries=len(feature_names))    # 分岐の候補変数の数（特徴量の数と同数にし、候補選択を実施しない）"
   ]
  },
  {
   "cell_type": "code",
   "execution_count": 367,
   "metadata": {},
   "outputs": [
    {
     "name": "stdout",
     "output_type": "stream",
     "text": [
      "drf Model Build progress: |███████████████████████████████████████████████| 100%\n"
     ]
    }
   ],
   "source": [
    "surrogate_rf.train(training_frame=frame, x=feature_names, y='anomaly_score')"
   ]
  },
  {
   "cell_type": "code",
   "execution_count": 368,
   "metadata": {},
   "outputs": [
    {
     "name": "stdout",
     "output_type": "stream",
     "text": [
      "Model Details\n",
      "=============\n",
      "H2ORandomForestEstimator :  Distributed Random Forest\n",
      "Model Key:  DRF_model_python_1621548352308_14\n",
      "\n",
      "\n",
      "Model Summary: \n"
     ]
    },
    {
     "data": {
      "text/html": [
       "<div>\n",
       "<style scoped>\n",
       "    .dataframe tbody tr th:only-of-type {\n",
       "        vertical-align: middle;\n",
       "    }\n",
       "\n",
       "    .dataframe tbody tr th {\n",
       "        vertical-align: top;\n",
       "    }\n",
       "\n",
       "    .dataframe thead th {\n",
       "        text-align: right;\n",
       "    }\n",
       "</style>\n",
       "<table border=\"1\" class=\"dataframe\">\n",
       "  <thead>\n",
       "    <tr style=\"text-align: right;\">\n",
       "      <th></th>\n",
       "      <th></th>\n",
       "      <th>number_of_trees</th>\n",
       "      <th>number_of_internal_trees</th>\n",
       "      <th>model_size_in_bytes</th>\n",
       "      <th>min_depth</th>\n",
       "      <th>max_depth</th>\n",
       "      <th>mean_depth</th>\n",
       "      <th>min_leaves</th>\n",
       "      <th>max_leaves</th>\n",
       "      <th>mean_leaves</th>\n",
       "    </tr>\n",
       "  </thead>\n",
       "  <tbody>\n",
       "    <tr>\n",
       "      <th>0</th>\n",
       "      <td></td>\n",
       "      <td>1.0</td>\n",
       "      <td>1.0</td>\n",
       "      <td>158.0</td>\n",
       "      <td>3.0</td>\n",
       "      <td>3.0</td>\n",
       "      <td>3.0</td>\n",
       "      <td>8.0</td>\n",
       "      <td>8.0</td>\n",
       "      <td>8.0</td>\n",
       "    </tr>\n",
       "  </tbody>\n",
       "</table>\n",
       "</div>"
      ],
      "text/plain": [
       "     number_of_trees  number_of_internal_trees  model_size_in_bytes  \\\n",
       "0                1.0                       1.0                158.0   \n",
       "\n",
       "   min_depth  max_depth  mean_depth  min_leaves  max_leaves  mean_leaves  \n",
       "0        3.0        3.0         3.0         8.0         8.0          8.0  "
      ]
     },
     "metadata": {},
     "output_type": "display_data"
    },
    {
     "name": "stdout",
     "output_type": "stream",
     "text": [
      "\n",
      "\n",
      "ModelMetricsRegression: drf\n",
      "** Reported on train data. **\n",
      "\n",
      "MSE: NaN\n",
      "RMSE: NaN\n",
      "MAE: NaN\n",
      "RMSLE: NaN\n",
      "Mean Residual Deviance: NaN\n",
      "\n",
      "Scoring History: \n"
     ]
    },
    {
     "data": {
      "text/html": [
       "<div>\n",
       "<style scoped>\n",
       "    .dataframe tbody tr th:only-of-type {\n",
       "        vertical-align: middle;\n",
       "    }\n",
       "\n",
       "    .dataframe tbody tr th {\n",
       "        vertical-align: top;\n",
       "    }\n",
       "\n",
       "    .dataframe thead th {\n",
       "        text-align: right;\n",
       "    }\n",
       "</style>\n",
       "<table border=\"1\" class=\"dataframe\">\n",
       "  <thead>\n",
       "    <tr style=\"text-align: right;\">\n",
       "      <th></th>\n",
       "      <th></th>\n",
       "      <th>timestamp</th>\n",
       "      <th>duration</th>\n",
       "      <th>number_of_trees</th>\n",
       "      <th>training_rmse</th>\n",
       "      <th>training_mae</th>\n",
       "      <th>training_deviance</th>\n",
       "    </tr>\n",
       "  </thead>\n",
       "  <tbody>\n",
       "    <tr>\n",
       "      <th>0</th>\n",
       "      <td></td>\n",
       "      <td>2021-05-21 02:10:31</td>\n",
       "      <td>0.001 sec</td>\n",
       "      <td>0.0</td>\n",
       "      <td>NaN</td>\n",
       "      <td>NaN</td>\n",
       "      <td>NaN</td>\n",
       "    </tr>\n",
       "  </tbody>\n",
       "</table>\n",
       "</div>"
      ],
      "text/plain": [
       "               timestamp    duration  number_of_trees  training_rmse  \\\n",
       "0    2021-05-21 02:10:31   0.001 sec              0.0            NaN   \n",
       "\n",
       "   training_mae  training_deviance  \n",
       "0           NaN                NaN  "
      ]
     },
     "metadata": {},
     "output_type": "display_data"
    },
    {
     "name": "stdout",
     "output_type": "stream",
     "text": [
      "\n",
      "Variable Importances: \n"
     ]
    },
    {
     "data": {
      "text/html": [
       "<div>\n",
       "<style scoped>\n",
       "    .dataframe tbody tr th:only-of-type {\n",
       "        vertical-align: middle;\n",
       "    }\n",
       "\n",
       "    .dataframe tbody tr th {\n",
       "        vertical-align: top;\n",
       "    }\n",
       "\n",
       "    .dataframe thead th {\n",
       "        text-align: right;\n",
       "    }\n",
       "</style>\n",
       "<table border=\"1\" class=\"dataframe\">\n",
       "  <thead>\n",
       "    <tr style=\"text-align: right;\">\n",
       "      <th></th>\n",
       "      <th>variable</th>\n",
       "      <th>relative_importance</th>\n",
       "      <th>scaled_importance</th>\n",
       "      <th>percentage</th>\n",
       "    </tr>\n",
       "  </thead>\n",
       "  <tbody>\n",
       "    <tr>\n",
       "      <th>0</th>\n",
       "      <td>V1</td>\n",
       "      <td>532.021179</td>\n",
       "      <td>1.000000</td>\n",
       "      <td>0.718342</td>\n",
       "    </tr>\n",
       "    <tr>\n",
       "      <th>1</th>\n",
       "      <td>V8</td>\n",
       "      <td>118.151207</td>\n",
       "      <td>0.222080</td>\n",
       "      <td>0.159529</td>\n",
       "    </tr>\n",
       "    <tr>\n",
       "      <th>2</th>\n",
       "      <td>V6</td>\n",
       "      <td>55.990719</td>\n",
       "      <td>0.105242</td>\n",
       "      <td>0.075599</td>\n",
       "    </tr>\n",
       "    <tr>\n",
       "      <th>3</th>\n",
       "      <td>V4</td>\n",
       "      <td>17.535746</td>\n",
       "      <td>0.032961</td>\n",
       "      <td>0.023677</td>\n",
       "    </tr>\n",
       "    <tr>\n",
       "      <th>4</th>\n",
       "      <td>V20</td>\n",
       "      <td>16.925137</td>\n",
       "      <td>0.031813</td>\n",
       "      <td>0.022853</td>\n",
       "    </tr>\n",
       "    <tr>\n",
       "      <th>5</th>\n",
       "      <td>Time</td>\n",
       "      <td>0.000000</td>\n",
       "      <td>0.000000</td>\n",
       "      <td>0.000000</td>\n",
       "    </tr>\n",
       "    <tr>\n",
       "      <th>6</th>\n",
       "      <td>V2</td>\n",
       "      <td>0.000000</td>\n",
       "      <td>0.000000</td>\n",
       "      <td>0.000000</td>\n",
       "    </tr>\n",
       "    <tr>\n",
       "      <th>7</th>\n",
       "      <td>V3</td>\n",
       "      <td>0.000000</td>\n",
       "      <td>0.000000</td>\n",
       "      <td>0.000000</td>\n",
       "    </tr>\n",
       "    <tr>\n",
       "      <th>8</th>\n",
       "      <td>V5</td>\n",
       "      <td>0.000000</td>\n",
       "      <td>0.000000</td>\n",
       "      <td>0.000000</td>\n",
       "    </tr>\n",
       "    <tr>\n",
       "      <th>9</th>\n",
       "      <td>V7</td>\n",
       "      <td>0.000000</td>\n",
       "      <td>0.000000</td>\n",
       "      <td>0.000000</td>\n",
       "    </tr>\n",
       "    <tr>\n",
       "      <th>10</th>\n",
       "      <td>V9</td>\n",
       "      <td>0.000000</td>\n",
       "      <td>0.000000</td>\n",
       "      <td>0.000000</td>\n",
       "    </tr>\n",
       "    <tr>\n",
       "      <th>11</th>\n",
       "      <td>V10</td>\n",
       "      <td>0.000000</td>\n",
       "      <td>0.000000</td>\n",
       "      <td>0.000000</td>\n",
       "    </tr>\n",
       "    <tr>\n",
       "      <th>12</th>\n",
       "      <td>V11</td>\n",
       "      <td>0.000000</td>\n",
       "      <td>0.000000</td>\n",
       "      <td>0.000000</td>\n",
       "    </tr>\n",
       "    <tr>\n",
       "      <th>13</th>\n",
       "      <td>V12</td>\n",
       "      <td>0.000000</td>\n",
       "      <td>0.000000</td>\n",
       "      <td>0.000000</td>\n",
       "    </tr>\n",
       "    <tr>\n",
       "      <th>14</th>\n",
       "      <td>V13</td>\n",
       "      <td>0.000000</td>\n",
       "      <td>0.000000</td>\n",
       "      <td>0.000000</td>\n",
       "    </tr>\n",
       "    <tr>\n",
       "      <th>15</th>\n",
       "      <td>V14</td>\n",
       "      <td>0.000000</td>\n",
       "      <td>0.000000</td>\n",
       "      <td>0.000000</td>\n",
       "    </tr>\n",
       "    <tr>\n",
       "      <th>16</th>\n",
       "      <td>V15</td>\n",
       "      <td>0.000000</td>\n",
       "      <td>0.000000</td>\n",
       "      <td>0.000000</td>\n",
       "    </tr>\n",
       "    <tr>\n",
       "      <th>17</th>\n",
       "      <td>V16</td>\n",
       "      <td>0.000000</td>\n",
       "      <td>0.000000</td>\n",
       "      <td>0.000000</td>\n",
       "    </tr>\n",
       "    <tr>\n",
       "      <th>18</th>\n",
       "      <td>V17</td>\n",
       "      <td>0.000000</td>\n",
       "      <td>0.000000</td>\n",
       "      <td>0.000000</td>\n",
       "    </tr>\n",
       "    <tr>\n",
       "      <th>19</th>\n",
       "      <td>V18</td>\n",
       "      <td>0.000000</td>\n",
       "      <td>0.000000</td>\n",
       "      <td>0.000000</td>\n",
       "    </tr>\n",
       "  </tbody>\n",
       "</table>\n",
       "</div>"
      ],
      "text/plain": [
       "   variable  relative_importance  scaled_importance  percentage\n",
       "0        V1           532.021179           1.000000    0.718342\n",
       "1        V8           118.151207           0.222080    0.159529\n",
       "2        V6            55.990719           0.105242    0.075599\n",
       "3        V4            17.535746           0.032961    0.023677\n",
       "4       V20            16.925137           0.031813    0.022853\n",
       "5      Time             0.000000           0.000000    0.000000\n",
       "6        V2             0.000000           0.000000    0.000000\n",
       "7        V3             0.000000           0.000000    0.000000\n",
       "8        V5             0.000000           0.000000    0.000000\n",
       "9        V7             0.000000           0.000000    0.000000\n",
       "10       V9             0.000000           0.000000    0.000000\n",
       "11      V10             0.000000           0.000000    0.000000\n",
       "12      V11             0.000000           0.000000    0.000000\n",
       "13      V12             0.000000           0.000000    0.000000\n",
       "14      V13             0.000000           0.000000    0.000000\n",
       "15      V14             0.000000           0.000000    0.000000\n",
       "16      V15             0.000000           0.000000    0.000000\n",
       "17      V16             0.000000           0.000000    0.000000\n",
       "18      V17             0.000000           0.000000    0.000000\n",
       "19      V18             0.000000           0.000000    0.000000"
      ]
     },
     "metadata": {},
     "output_type": "display_data"
    },
    {
     "name": "stdout",
     "output_type": "stream",
     "text": [
      "\n",
      "See the whole table with table.as_data_frame()\n"
     ]
    },
    {
     "data": {
      "text/plain": []
     },
     "execution_count": 368,
     "metadata": {},
     "output_type": "execute_result"
    }
   ],
   "source": [
    "surrogate_rf"
   ]
  },
  {
   "cell_type": "code",
   "execution_count": 369,
   "metadata": {},
   "outputs": [],
   "source": [
    "#surrogate_rf.varimp_plot()"
   ]
  },
  {
   "cell_type": "code",
   "execution_count": 370,
   "metadata": {},
   "outputs": [
    {
     "name": "stdout",
     "output_type": "stream",
     "text": [
      "drf prediction progress: |████████████████████████████████████████████████| 100%\n"
     ]
    },
    {
     "data": {
      "text/plain": [
       "0.5358658693538276"
      ]
     },
     "execution_count": 370,
     "metadata": {},
     "output_type": "execute_result"
    }
   ],
   "source": [
    "# 代理モデルのR2を計算\n",
    "predict_res = surrogate_rf.predict(frame)   # 学習データを予測\n",
    "dt_r = np.corrcoef(predict_res.as_data_frame().values.flatten(), frame['anomaly_score'].as_data_frame().values.flatten())  # 予測値と実測値（異常値スコア）の相関\n",
    "dt_R2 = dt_r[0,1]**2   # 2乗し、R2とする\n",
    "dt_R2"
   ]
  },
  {
   "cell_type": "markdown",
   "metadata": {},
   "source": [
    "分岐のパスを表示"
   ]
  },
  {
   "cell_type": "code",
   "execution_count": 371,
   "metadata": {},
   "outputs": [],
   "source": [
    "from h2o.tree import H2OTree"
   ]
  },
  {
   "cell_type": "code",
   "execution_count": 372,
   "metadata": {},
   "outputs": [],
   "source": [
    "tree = H2OTree(model = surrogate_rf, tree_number=0)"
   ]
  },
  {
   "cell_type": "code",
   "execution_count": 373,
   "metadata": {
    "scrolled": false
   },
   "outputs": [
    {
     "data": {
      "text/plain": [
       "[\"Root node has id 0 and splits on column 'V1'. Split threshold is  < -3.408321 to the left node (1),  >= -3.408321 to the right node (2).\",\n",
       " 'Node has id 1 and is a terminal node. Split threshold is  < -6.2032 to the left node (3),  >= -6.2032 to the right node (4). Parent node split threshold is -3.408321. Prediction: 0.26082984.',\n",
       " 'Node has id 2 and is a terminal node. Split threshold is  < -0.7496816 to the left node (5),  >= -0.7496816 to the right node (6). Parent node split threshold is -3.408321. Prediction: 0.047469925.',\n",
       " 'Node has id 3 and is a terminal node. Split threshold is  < 4.5070434 to the left node (15),  >= 4.5070434 to the right node (16). Parent node split threshold is -6.2032. Prediction: 0.372734.',\n",
       " 'Node has id 4 and is a terminal node. Split threshold is  < 2.7339416 to the left node (17),  >= 2.7339416 to the right node (18). Parent node split threshold is -6.2032. Prediction: 0.2117179.',\n",
       " 'Node has id 5 and is a terminal node. Split threshold is  < -3.5067332 to the left node (19),  >= -3.5067332 to the right node (20). Parent node split threshold is -0.7496816. Prediction: 0.1324518.',\n",
       " 'Node has id 6 and is a terminal node. Split threshold is  < 0.62694645 to the left node (21),  >= 0.62694645 to the right node (22). Parent node split threshold is -0.7496816. Prediction: 0.043196306.',\n",
       " 'Node has id 15 and is a terminal node.  Parent node split threshold is 4.5070434. Prediction: 0.34391668.',\n",
       " 'Node has id 16 and is a terminal node.  Parent node split threshold is 4.5070434. Prediction: 0.5575803.',\n",
       " 'Node has id 17 and is a terminal node.  Parent node split threshold is 2.7339416. Prediction: 0.19692686.',\n",
       " 'Node has id 18 and is a terminal node.  Parent node split threshold is 2.7339416. Prediction: 0.36426863.',\n",
       " 'Node has id 19 and is a terminal node.  Parent node split threshold is -3.5067332. Prediction: 0.21727446.',\n",
       " 'Node has id 20 and is a terminal node.  Parent node split threshold is -3.5067332. Prediction: 0.11570713.',\n",
       " 'Node has id 21 and is a terminal node.  Parent node split threshold is 0.62694645. Prediction: 0.03609966.',\n",
       " 'Node has id 22 and is a terminal node.  Parent node split threshold is 0.62694645. Prediction: 0.073437504.']"
      ]
     },
     "execution_count": 373,
     "metadata": {},
     "output_type": "execute_result"
    }
   ],
   "source": [
    "tree.descriptions"
   ]
  },
  {
   "cell_type": "code",
   "execution_count": null,
   "metadata": {},
   "outputs": [],
   "source": []
  }
 ],
 "metadata": {
  "kernelspec": {
   "display_name": "Python 3",
   "language": "python",
   "name": "python3"
  },
  "language_info": {
   "codemirror_mode": {
    "name": "ipython",
    "version": 3
   },
   "file_extension": ".py",
   "mimetype": "text/x-python",
   "name": "python",
   "nbconvert_exporter": "python",
   "pygments_lexer": "ipython3",
   "version": "3.6.12"
  }
 },
 "nbformat": 4,
 "nbformat_minor": 4
}
