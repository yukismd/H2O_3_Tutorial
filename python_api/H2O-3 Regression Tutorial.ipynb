{
 "cells": [
  {
   "cell_type": "markdown",
   "metadata": {},
   "source": [
    "## H2O-3 Regression Tutorial"
   ]
  },
  {
   "cell_type": "markdown",
   "metadata": {},
   "source": [
    "[**1B. Introduction to Machine Learning with H2O-3 - Regression**](https://training.h2o.ai/products/1b-introduction-to-machine-learning-with-h2o-3-regression)に沿ったチュートリアル"
   ]
  },
  {
   "cell_type": "markdown",
   "metadata": {},
   "source": [
    "[**H2O 3 - ドキュメント**](http://docs.h2o.ai/h2o/latest-stable/h2o-docs/index.html)  \n",
    "[**Python - APIドキュメント**](https://docs.h2o.ai/h2o/latest-stable/h2o-py/docs/index.html)"
   ]
  },
  {
   "cell_type": "markdown",
   "metadata": {},
   "source": [
    "注意：[XGBoost(H2OXGBoostEstimator)はWindows上で動作しない](http://docs.h2o.ai/h2o/latest-stable/h2o-docs/data-science/xgboost.html#limitations)"
   ]
  },
  {
   "cell_type": "markdown",
   "metadata": {},
   "source": [
    "#### 目次\n",
    "- [Initial Setup](#InitialSetup)\n",
    "    - パッケージのインポート\n",
    "    - H2Oクラスターの開始\n",
    "    - データのロード\n",
    "- [Start Experiment](#StartExperiment)\n",
    "    - データの確認\n",
    "    - 学習(train)/検証(valid)/テスト(test)データセットへの分割\n",
    "    - 利用変数の定義\n",
    "- [Build an XGBoost Model](#BuildXGBoostModel)\n",
    "    - XGBoostモデルの作成(デフォルト設定)と学習\n",
    "    - 学習の履歴の表示\n",
    "    - 学習結果の確認\n",
    "    - train/validデータにおける精度確認\n",
    "- [Build a Deep Learning Model](#BuildDeepLearningModel)\n",
    "    - Neural Networkモデルの作成(デフォルト設定)と学習\n",
    "    - 学習結果の確認\n",
    "    - train/validデータにおける精度確認\n",
    "- [Tune the XGBoost Model with H2O GridSearch](#TuneXGBoostModelGridSearch)\n",
    "    - ハイパーパラメータチューニング（グリッドサーチ・ランダムサーチ）\n",
    "    - チューニング結果の確認\n",
    "    - validデータにおけるデフォルト設定とチューニング結果の比較\n",
    "- [Tune the Deep Learning with H2O GridSearch](#TuneDeepLearningModelGridSearch)\n",
    "    - ハイパーパラメータチューニング（グリッドサーチ・ランダムサーチ）\n",
    "    - チューニング結果の確認\n",
    "    - Ckeckpoint機能\n",
    "    - validデータにおけるデフォルト設定とチューニング結果の比較\n",
    "- [Test Set Performance](#TestSetPerformance)\n",
    "    - testデータにおける、チューニング済み2モデルの結果の比較\n",
    "    - H2Oクラスターの停止"
   ]
  },
  {
   "cell_type": "markdown",
   "metadata": {},
   "source": [
    "***"
   ]
  },
  {
   "cell_type": "markdown",
   "metadata": {},
   "source": [
    "<a id='InitialSetup'></a>\n",
    "### Initial Setup"
   ]
  },
  {
   "cell_type": "code",
   "execution_count": 1,
   "metadata": {},
   "outputs": [],
   "source": [
    "#Import H2O and other libraries that will be used in this tutorial \n",
    "import h2o\n",
    "import matplotlib as plt\n",
    "%matplotlib inline\n",
    "\n",
    "#Import the Estimators\n",
    "from h2o.estimators.deeplearning import H2ODeepLearningEstimator\n",
    "from h2o.estimators import H2OXGBoostEstimator\n",
    "\n",
    "#Import h2o grid search \n",
    "import h2o.grid \n",
    "from h2o.grid.grid_search import H2OGridSearch"
   ]
  },
  {
   "cell_type": "code",
   "execution_count": 2,
   "metadata": {},
   "outputs": [
    {
     "name": "stdout",
     "output_type": "stream",
     "text": [
      "3.30.1.2\n"
     ]
    }
   ],
   "source": [
    "#> h2oパッケージのバージョン確認\n",
    "print(h2o.__version__)"
   ]
  },
  {
   "cell_type": "code",
   "execution_count": 3,
   "metadata": {},
   "outputs": [
    {
     "name": "stdout",
     "output_type": "stream",
     "text": [
      "Checking whether there is an H2O instance running at http://localhost:54321 ..... not found.\n",
      "Attempting to start a local H2O server...\n",
      "  Java Version: java version \"1.8.0_261\"; Java(TM) SE Runtime Environment (build 1.8.0_261-b12); Java HotSpot(TM) 64-Bit Server VM (build 25.261-b12, mixed mode)\n",
      "  Starting server from /home/ec2-user/anaconda3/envs/h2o_3/lib/python3.6/site-packages/h2o/backend/bin/h2o.jar\n",
      "  Ice root: /tmp/tmprqz4547v\n",
      "  JVM stdout: /tmp/tmprqz4547v/h2o_ec2_user_started_from_python.out\n",
      "  JVM stderr: /tmp/tmprqz4547v/h2o_ec2_user_started_from_python.err\n",
      "  Server is running at http://127.0.0.1:54321\n",
      "Connecting to H2O server at http://127.0.0.1:54321 ... successful.\n"
     ]
    },
    {
     "data": {
      "text/html": [
       "<div style=\"overflow:auto\"><table style=\"width:50%\"><tr><td>H2O_cluster_uptime:</td>\n",
       "<td>02 secs</td></tr>\n",
       "<tr><td>H2O_cluster_timezone:</td>\n",
       "<td>Asia/Tokyo</td></tr>\n",
       "<tr><td>H2O_data_parsing_timezone:</td>\n",
       "<td>UTC</td></tr>\n",
       "<tr><td>H2O_cluster_version:</td>\n",
       "<td>3.30.1.2</td></tr>\n",
       "<tr><td>H2O_cluster_version_age:</td>\n",
       "<td>12 days </td></tr>\n",
       "<tr><td>H2O_cluster_name:</td>\n",
       "<td>H2O_from_python_ec2_user_fk4186</td></tr>\n",
       "<tr><td>H2O_cluster_total_nodes:</td>\n",
       "<td>1</td></tr>\n",
       "<tr><td>H2O_cluster_free_memory:</td>\n",
       "<td>1.677 Gb</td></tr>\n",
       "<tr><td>H2O_cluster_total_cores:</td>\n",
       "<td>2</td></tr>\n",
       "<tr><td>H2O_cluster_allowed_cores:</td>\n",
       "<td>2</td></tr>\n",
       "<tr><td>H2O_cluster_status:</td>\n",
       "<td>accepting new members, healthy</td></tr>\n",
       "<tr><td>H2O_connection_url:</td>\n",
       "<td>http://127.0.0.1:54321</td></tr>\n",
       "<tr><td>H2O_connection_proxy:</td>\n",
       "<td>{\"http\": null, \"https\": null}</td></tr>\n",
       "<tr><td>H2O_internal_security:</td>\n",
       "<td>False</td></tr>\n",
       "<tr><td>H2O_API_Extensions:</td>\n",
       "<td>Amazon S3, XGBoost, Algos, AutoML, Core V3, TargetEncoder, Core V4</td></tr>\n",
       "<tr><td>Python_version:</td>\n",
       "<td>3.6.12 final</td></tr></table></div>"
      ],
      "text/plain": [
       "--------------------------  ------------------------------------------------------------------\n",
       "H2O_cluster_uptime:         02 secs\n",
       "H2O_cluster_timezone:       Asia/Tokyo\n",
       "H2O_data_parsing_timezone:  UTC\n",
       "H2O_cluster_version:        3.30.1.2\n",
       "H2O_cluster_version_age:    12 days\n",
       "H2O_cluster_name:           H2O_from_python_ec2_user_fk4186\n",
       "H2O_cluster_total_nodes:    1\n",
       "H2O_cluster_free_memory:    1.677 Gb\n",
       "H2O_cluster_total_cores:    2\n",
       "H2O_cluster_allowed_cores:  2\n",
       "H2O_cluster_status:         accepting new members, healthy\n",
       "H2O_connection_url:         http://127.0.0.1:54321\n",
       "H2O_connection_proxy:       {\"http\": null, \"https\": null}\n",
       "H2O_internal_security:      False\n",
       "H2O_API_Extensions:         Amazon S3, XGBoost, Algos, AutoML, Core V3, TargetEncoder, Core V4\n",
       "Python_version:             3.6.12 final\n",
       "--------------------------  ------------------------------------------------------------------"
      ]
     },
     "metadata": {},
     "output_type": "display_data"
    }
   ],
   "source": [
    "#> H2Oクラスターの開始\n",
    "h2o.init(url='http://localhost:54321')"
   ]
  },
  {
   "cell_type": "code",
   "execution_count": 4,
   "metadata": {},
   "outputs": [
    {
     "name": "stdout",
     "output_type": "stream",
     "text": [
      "Parse progress: |█████████████████████████████████████████████████████████| 100%\n"
     ]
    }
   ],
   "source": [
    "#> データのロード\n",
    "loan_level = h2o.import_file(\"https://s3.amazonaws.com/data.h2o.ai/DAI-Tutorials/loan_level_500k.csv\")"
   ]
  },
  {
   "cell_type": "markdown",
   "metadata": {},
   "source": [
    "連邦住宅金融抵当公庫(Freddie Mac)が提供する約20年間(1999/1-2018/12)の住宅ローン(Fixed-Rate Mortgages)の履歴データ。金利をターゲット変数として回帰の説明に使用する。  \n",
    "  \n",
    "[Data Reference](http://www.freddiemac.com/research/datasets/sf_loanlevel_dataset.page)  \n",
    "[変数等データ詳細に関して](http://www.freddiemac.com/fmac-resources/research/pdf/user_guide.pdf)  \n",
    "  \n",
    "行数:500,137、列数:27（約80MB）"
   ]
  },
  {
   "cell_type": "markdown",
   "metadata": {},
   "source": [
    "***"
   ]
  },
  {
   "cell_type": "markdown",
   "metadata": {},
   "source": [
    "<a id='StartExperiment'></a>\n",
    "### Start Experiment"
   ]
  },
  {
   "cell_type": "code",
   "execution_count": 5,
   "metadata": {},
   "outputs": [
    {
     "data": {
      "text/html": [
       "<table>\n",
       "<thead>\n",
       "<tr><th style=\"text-align: right;\">  CREDIT_SCORE</th><th style=\"text-align: right;\">  FIRST_PAYMENT_DATE</th><th>FIRST_TIME_HOMEBUYER_FLAG  </th><th style=\"text-align: right;\">  MATURITY_DATE</th><th style=\"text-align: right;\">  METROPOLITAN_STATISTICAL_AREA</th><th style=\"text-align: right;\">  MORTGAGE_INSURANCE_PERCENTAGE</th><th style=\"text-align: right;\">  NUMBER_OF_UNITS</th><th>OCCUPANCY_STATUS  </th><th style=\"text-align: right;\">  ORIGINAL_COMBINED_LOAN_TO_VALUE</th><th style=\"text-align: right;\">  ORIGINAL_DEBT_TO_INCOME_RATIO</th><th style=\"text-align: right;\">  ORIGINAL_UPB</th><th style=\"text-align: right;\">  ORIGINAL_LOAN_TO_VALUE</th><th style=\"text-align: right;\">  ORIGINAL_INTEREST_RATE</th><th>CHANNEL  </th><th>PREPAYMENT_PENALTY_MORTGAGE_FLAG  </th><th>PRODUCT_TYPE  </th><th>PROPERTY_STATE  </th><th>PROPERTY_TYPE  </th><th style=\"text-align: right;\">  POSTAL_CODE</th><th>LOAN_SEQUENCE_NUMBER  </th><th>LOAN_PURPOSE  </th><th style=\"text-align: right;\">  ORIGINAL_LOAN_TERM</th><th style=\"text-align: right;\">  NUMBER_OF_BORROWERS</th><th>SELLER_NAME  </th><th>SERVICER_NAME  </th><th>PREPAID  </th><th>DELINQUENT  </th></tr>\n",
       "</thead>\n",
       "<tbody>\n",
       "<tr><td style=\"text-align: right;\">           669</td><td style=\"text-align: right;\">              200206</td><td>N                          </td><td style=\"text-align: right;\">         202901</td><td style=\"text-align: right;\">                            nan</td><td style=\"text-align: right;\">                              0</td><td style=\"text-align: right;\">                1</td><td>O                 </td><td style=\"text-align: right;\">                               80</td><td style=\"text-align: right;\">                             33</td><td style=\"text-align: right;\">        162000</td><td style=\"text-align: right;\">                      80</td><td style=\"text-align: right;\">                   7.12 </td><td>R        </td><td>N                                 </td><td>FRM           </td><td>WV              </td><td>SF             </td><td style=\"text-align: right;\">        26100</td><td>F199Q1000004          </td><td>P             </td><td style=\"text-align: right;\">                 320</td><td style=\"text-align: right;\">                    2</td><td>Other sellers</td><td>Other servicers</td><td>TRUE     </td><td>FALSE       </td></tr>\n",
       "<tr><td style=\"text-align: right;\">           732</td><td style=\"text-align: right;\">              199904</td><td>N                          </td><td style=\"text-align: right;\">         202903</td><td style=\"text-align: right;\">                          17140</td><td style=\"text-align: right;\">                              0</td><td style=\"text-align: right;\">                1</td><td>O                 </td><td style=\"text-align: right;\">                               25</td><td style=\"text-align: right;\">                             10</td><td style=\"text-align: right;\">         53000</td><td style=\"text-align: right;\">                      25</td><td style=\"text-align: right;\">                   6.5  </td><td>R        </td><td>N                                 </td><td>FRM           </td><td>OH              </td><td>SF             </td><td style=\"text-align: right;\">        45200</td><td>F199Q1000005          </td><td>N             </td><td style=\"text-align: right;\">                 360</td><td style=\"text-align: right;\">                    1</td><td>Other sellers</td><td>Other servicers</td><td>TRUE     </td><td>FALSE       </td></tr>\n",
       "<tr><td style=\"text-align: right;\">           679</td><td style=\"text-align: right;\">              200208</td><td>N                          </td><td style=\"text-align: right;\">         202902</td><td style=\"text-align: right;\">                          15940</td><td style=\"text-align: right;\">                             30</td><td style=\"text-align: right;\">                1</td><td>O                 </td><td style=\"text-align: right;\">                               91</td><td style=\"text-align: right;\">                             48</td><td style=\"text-align: right;\">        133000</td><td style=\"text-align: right;\">                      91</td><td style=\"text-align: right;\">                   6.75 </td><td>R        </td><td>N                                 </td><td>FRM           </td><td>OH              </td><td>SF             </td><td style=\"text-align: right;\">        44700</td><td>F199Q1000007          </td><td>P             </td><td style=\"text-align: right;\">                 319</td><td style=\"text-align: right;\">                    1</td><td>Other sellers</td><td>Other servicers</td><td>TRUE     </td><td>FALSE       </td></tr>\n",
       "<tr><td style=\"text-align: right;\">           721</td><td style=\"text-align: right;\">              200209</td><td>N                          </td><td style=\"text-align: right;\">         202902</td><td style=\"text-align: right;\">                          38060</td><td style=\"text-align: right;\">                              0</td><td style=\"text-align: right;\">                1</td><td>O                 </td><td style=\"text-align: right;\">                               39</td><td style=\"text-align: right;\">                             13</td><td style=\"text-align: right;\">        174000</td><td style=\"text-align: right;\">                      39</td><td style=\"text-align: right;\">                   6.625</td><td>T        </td><td>N                                 </td><td>FRM           </td><td>AZ              </td><td>SF             </td><td style=\"text-align: right;\">        85200</td><td>F199Q1000013          </td><td>N             </td><td style=\"text-align: right;\">                 318</td><td style=\"text-align: right;\">                    2</td><td>Other sellers</td><td>Other servicers</td><td>TRUE     </td><td>FALSE       </td></tr>\n",
       "<tr><td style=\"text-align: right;\">           618</td><td style=\"text-align: right;\">              200210</td><td>N                          </td><td style=\"text-align: right;\">         202902</td><td style=\"text-align: right;\">                          10420</td><td style=\"text-align: right;\">                             25</td><td style=\"text-align: right;\">                1</td><td>O                 </td><td style=\"text-align: right;\">                               85</td><td style=\"text-align: right;\">                             24</td><td style=\"text-align: right;\">        122000</td><td style=\"text-align: right;\">                      85</td><td style=\"text-align: right;\">                   6.375</td><td>R        </td><td>N                                 </td><td>FRM           </td><td>OH              </td><td>SF             </td><td style=\"text-align: right;\">        44200</td><td>F199Q1000015          </td><td>N             </td><td style=\"text-align: right;\">                 317</td><td style=\"text-align: right;\">                    2</td><td>Other sellers</td><td>Other servicers</td><td>TRUE     </td><td>FALSE       </td></tr>\n",
       "<tr><td style=\"text-align: right;\">           738</td><td style=\"text-align: right;\">              200211</td><td>N                          </td><td style=\"text-align: right;\">         202903</td><td style=\"text-align: right;\">                          10420</td><td style=\"text-align: right;\">                              0</td><td style=\"text-align: right;\">                1</td><td>O                 </td><td style=\"text-align: right;\">                               73</td><td style=\"text-align: right;\">                             44</td><td style=\"text-align: right;\">        218000</td><td style=\"text-align: right;\">                      73</td><td style=\"text-align: right;\">                   6    </td><td>R        </td><td>N                                 </td><td>FRM           </td><td>OH              </td><td>SF             </td><td style=\"text-align: right;\">        44300</td><td>F199Q1000016          </td><td>P             </td><td style=\"text-align: right;\">                 317</td><td style=\"text-align: right;\">                    2</td><td>Other sellers</td><td>Other servicers</td><td>TRUE     </td><td>FALSE       </td></tr>\n",
       "<tr><td style=\"text-align: right;\">           761</td><td style=\"text-align: right;\">              200211</td><td>N                          </td><td style=\"text-align: right;\">         202904</td><td style=\"text-align: right;\">                            nan</td><td style=\"text-align: right;\">                              0</td><td style=\"text-align: right;\">                1</td><td>O                 </td><td style=\"text-align: right;\">                               73</td><td style=\"text-align: right;\">                             31</td><td style=\"text-align: right;\">        138000</td><td style=\"text-align: right;\">                      73</td><td style=\"text-align: right;\">                   6.375</td><td>R        </td><td>N                                 </td><td>FRM           </td><td>SC              </td><td>PU             </td><td style=\"text-align: right;\">        29500</td><td>F199Q1000017          </td><td>P             </td><td style=\"text-align: right;\">                 318</td><td style=\"text-align: right;\">                    2</td><td>Other sellers</td><td>Other servicers</td><td>TRUE     </td><td>FALSE       </td></tr>\n",
       "<tr><td style=\"text-align: right;\">           707</td><td style=\"text-align: right;\">              200211</td><td>N                          </td><td style=\"text-align: right;\">         202903</td><td style=\"text-align: right;\">                          33340</td><td style=\"text-align: right;\">                              0</td><td style=\"text-align: right;\">                1</td><td>O                 </td><td style=\"text-align: right;\">                               60</td><td style=\"text-align: right;\">                             57</td><td style=\"text-align: right;\">        136000</td><td style=\"text-align: right;\">                      60</td><td style=\"text-align: right;\">                   6.25 </td><td>R        </td><td>N                                 </td><td>FRM           </td><td>WI              </td><td>SF             </td><td style=\"text-align: right;\">        53000</td><td>F199Q1000018          </td><td>C             </td><td style=\"text-align: right;\">                 317</td><td style=\"text-align: right;\">                    2</td><td>Other sellers</td><td>Other servicers</td><td>TRUE     </td><td>FALSE       </td></tr>\n",
       "<tr><td style=\"text-align: right;\">           760</td><td style=\"text-align: right;\">              200211</td><td>N                          </td><td style=\"text-align: right;\">         202903</td><td style=\"text-align: right;\">                          33340</td><td style=\"text-align: right;\">                              0</td><td style=\"text-align: right;\">                1</td><td>O                 </td><td style=\"text-align: right;\">                               63</td><td style=\"text-align: right;\">                             30</td><td style=\"text-align: right;\">         79000</td><td style=\"text-align: right;\">                      63</td><td style=\"text-align: right;\">                   6.125</td><td>R        </td><td>N                                 </td><td>FRM           </td><td>WI              </td><td>SF             </td><td style=\"text-align: right;\">        53000</td><td>F199Q1000019          </td><td>N             </td><td style=\"text-align: right;\">                 317</td><td style=\"text-align: right;\">                    2</td><td>Other sellers</td><td>Other servicers</td><td>TRUE     </td><td>FALSE       </td></tr>\n",
       "<tr><td style=\"text-align: right;\">           691</td><td style=\"text-align: right;\">              200302</td><td>N                          </td><td style=\"text-align: right;\">         202901</td><td style=\"text-align: right;\">                          15940</td><td style=\"text-align: right;\">                              0</td><td style=\"text-align: right;\">                1</td><td>O                 </td><td style=\"text-align: right;\">                               65</td><td style=\"text-align: right;\">                             25</td><td style=\"text-align: right;\">        130000</td><td style=\"text-align: right;\">                      65</td><td style=\"text-align: right;\">                   5.875</td><td>R        </td><td>N                                 </td><td>FRM           </td><td>OH              </td><td>SF             </td><td style=\"text-align: right;\">        44700</td><td>F199Q1000023          </td><td>P             </td><td style=\"text-align: right;\">                 312</td><td style=\"text-align: right;\">                    2</td><td>Other sellers</td><td>Other servicers</td><td>TRUE     </td><td>FALSE       </td></tr>\n",
       "</tbody>\n",
       "</table>"
      ]
     },
     "metadata": {},
     "output_type": "display_data"
    },
    {
     "data": {
      "text/plain": []
     },
     "execution_count": 5,
     "metadata": {},
     "output_type": "execute_result"
    }
   ],
   "source": [
    "loan_level.head()"
   ]
  },
  {
   "cell_type": "markdown",
   "metadata": {},
   "source": [
    "ターゲット変数として利用する「金利(ORIGINAL_INTEREST_RATE)」の分布の確認"
   ]
  },
  {
   "cell_type": "code",
   "execution_count": 6,
   "metadata": {},
   "outputs": [
    {
     "name": "stdout",
     "output_type": "stream",
     "text": [
      "Rows:500137\n",
      "Cols:1\n",
      "\n",
      "\n"
     ]
    },
    {
     "data": {
      "text/html": [
       "<table>\n",
       "<thead>\n",
       "<tr><th>       </th><th>ORIGINAL_INTEREST_RATE  </th></tr>\n",
       "</thead>\n",
       "<tbody>\n",
       "<tr><td>type   </td><td>real                    </td></tr>\n",
       "<tr><td>mins   </td><td>4.625                   </td></tr>\n",
       "<tr><td>mean   </td><td>7.182686863799322       </td></tr>\n",
       "<tr><td>maxs   </td><td>11.5                    </td></tr>\n",
       "<tr><td>sigma  </td><td>0.5799408623980744      </td></tr>\n",
       "<tr><td>zeros  </td><td>0                       </td></tr>\n",
       "<tr><td>missing</td><td>0                       </td></tr>\n",
       "<tr><td>0      </td><td>7.12                    </td></tr>\n",
       "<tr><td>1      </td><td>6.5                     </td></tr>\n",
       "<tr><td>2      </td><td>6.75                    </td></tr>\n",
       "<tr><td>3      </td><td>6.625                   </td></tr>\n",
       "<tr><td>4      </td><td>6.375                   </td></tr>\n",
       "<tr><td>5      </td><td>6.0                     </td></tr>\n",
       "<tr><td>6      </td><td>6.375                   </td></tr>\n",
       "<tr><td>7      </td><td>6.25                    </td></tr>\n",
       "<tr><td>8      </td><td>6.125                   </td></tr>\n",
       "<tr><td>9      </td><td>5.875                   </td></tr>\n",
       "</tbody>\n",
       "</table>"
      ]
     },
     "metadata": {},
     "output_type": "display_data"
    }
   ],
   "source": [
    "loan_level[\"ORIGINAL_INTEREST_RATE\"].describe()"
   ]
  },
  {
   "cell_type": "code",
   "execution_count": 7,
   "metadata": {},
   "outputs": [
    {
     "data": {
      "image/png": "[encoded data removed]",
      "text/plain": [
       "<Figure size 432x288 with 1 Axes>"
      ]
     },
     "metadata": {
      "needs_background": "light"
     },
     "output_type": "display_data"
    }
   ],
   "source": [
    "#> ヒストグラムによる分布の確認\n",
    "loan_level[\"ORIGINAL_INTEREST_RATE\"].hist()"
   ]
  },
  {
   "cell_type": "code",
   "execution_count": 8,
   "metadata": {},
   "outputs": [
    {
     "name": "stdout",
     "output_type": "stream",
     "text": [
      "＜train/valid/testのデータ数＞\n",
      "train:350268 valid:74971 test:74898\n"
     ]
    }
   ],
   "source": [
    "#> 学習/検証/テストデータセットへの分割（学習 : 検証 : テスト = 70% : 15% : 15%）\n",
    "train, valid, test = loan_level.split_frame([0.7, 0.15], seed=42)\n",
    "print(\"＜train/valid/testのデータ数＞\")\n",
    "print( \"train:%d valid:%d test:%d\" % (train.nrows, valid.nrows, test.nrows ))"
   ]
  },
  {
   "cell_type": "code",
   "execution_count": 9,
   "metadata": {},
   "outputs": [
    {
     "name": "stdout",
     "output_type": "stream",
     "text": [
      "['ORIGINAL_UPB', 'ORIGINAL_LOAN_TERM', 'OCCUPANCY_STATUS', 'ORIGINAL_DEBT_TO_INCOME_RATIO', 'PROPERTY_TYPE', 'NUMBER_OF_BORROWERS', 'PROPERTY_STATE', 'METROPOLITAN_STATISTICAL_AREA', 'SERVICER_NAME', 'CHANNEL', 'POSTAL_CODE', 'ORIGINAL_COMBINED_LOAN_TO_VALUE', 'LOAN_PURPOSE', 'SELLER_NAME', 'CREDIT_SCORE', 'FIRST_TIME_HOMEBUYER_FLAG', 'ORIGINAL_LOAN_TO_VALUE', 'NUMBER_OF_UNITS']\n"
     ]
    }
   ],
   "source": [
    "#> ターゲット変数、特徴量の定義\n",
    "y = \"ORIGINAL_INTEREST_RATE\"\n",
    "\n",
    "ignore = [\"ORIGINAL_INTEREST_RATE\", \n",
    "          \"FIRST_PAYMENT_DATE\", \n",
    "          \"MATURITY_DATE\", \n",
    "          \"MORTGAGE_INSURANCE_PERCENTAGE\", \n",
    "          \"PREPAYMENT_PENALTY_MORTGAGE_FLAG\", \n",
    "          \"LOAN_SEQUENCE_NUMBER\", \n",
    "          \"PREPAID\", \n",
    "          \"DELINQUENT\", \n",
    "          \"PRODUCT_TYPE\"] \n",
    "\n",
    "x = list(set(train.names) - set(ignore))\n",
    "print(x)"
   ]
  },
  {
   "cell_type": "code",
   "execution_count": 10,
   "metadata": {},
   "outputs": [
    {
     "name": "stdout",
     "output_type": "stream",
     "text": [
      "Rows:500137\n",
      "Cols:18\n",
      "\n",
      "\n"
     ]
    },
    {
     "data": {
      "text/html": [
       "<table>\n",
       "<thead>\n",
       "<tr><th>       </th><th>ORIGINAL_UPB      </th><th>ORIGINAL_LOAN_TERM  </th><th>OCCUPANCY_STATUS  </th><th>ORIGINAL_DEBT_TO_INCOME_RATIO  </th><th>PROPERTY_TYPE  </th><th>NUMBER_OF_BORROWERS  </th><th>PROPERTY_STATE  </th><th>METROPOLITAN_STATISTICAL_AREA  </th><th>SERVICER_NAME  </th><th>CHANNEL  </th><th>POSTAL_CODE      </th><th>ORIGINAL_COMBINED_LOAN_TO_VALUE  </th><th>LOAN_PURPOSE  </th><th>SELLER_NAME  </th><th>CREDIT_SCORE     </th><th>FIRST_TIME_HOMEBUYER_FLAG  </th><th>ORIGINAL_LOAN_TO_VALUE  </th><th>NUMBER_OF_UNITS    </th></tr>\n",
       "</thead>\n",
       "<tbody>\n",
       "<tr><td>type   </td><td>int               </td><td>int                 </td><td>enum              </td><td>int                            </td><td>enum           </td><td>int                  </td><td>enum            </td><td>int                            </td><td>enum           </td><td>enum     </td><td>int              </td><td>int                              </td><td>enum          </td><td>enum         </td><td>int              </td><td>enum                       </td><td>int                     </td><td>int                </td></tr>\n",
       "<tr><td>mins   </td><td>8000.0            </td><td>301.0               </td><td>                  </td><td>1.0                            </td><td>               </td><td>1.0                  </td><td>                </td><td>10180.0                        </td><td>               </td><td>         </td><td>600.0            </td><td>6.0                              </td><td>              </td><td>             </td><td>300.0            </td><td>                           </td><td>6.0                     </td><td>1.0                </td></tr>\n",
       "<tr><td>mean   </td><td>136493.48478516805</td><td>359.8554696013299   </td><td>                  </td><td>32.91754051870545              </td><td>               </td><td>1.6302946648262713   </td><td>                </td><td>30777.82473929504              </td><td>               </td><td>         </td><td>55490.8571382869 </td><td>76.0535707144633                 </td><td>              </td><td>             </td><td>712.5362124215468</td><td>                           </td><td>75.71071405720141       </td><td>1.0288902574110184 </td></tr>\n",
       "<tr><td>maxs   </td><td>578000.0          </td><td>362.0               </td><td>                  </td><td>65.0                           </td><td>               </td><td>2.0                  </td><td>                </td><td>49740.0                        </td><td>               </td><td>         </td><td>99900.0          </td><td>180.0                            </td><td>              </td><td>             </td><td>839.0            </td><td>                           </td><td>100.0                   </td><td>4.0                </td></tr>\n",
       "<tr><td>sigma  </td><td>60968.74306564561 </td><td>1.9082507104186504  </td><td>                  </td><td>11.111799994455248             </td><td>               </td><td>0.48272535304031594  </td><td>                </td><td>11333.401144164478             </td><td>               </td><td>         </td><td>29505.38225880303</td><td>15.139986048512673               </td><td>              </td><td>             </td><td>54.79126197408813</td><td>                           </td><td>14.937717088968643      </td><td>0.21839057355939082</td></tr>\n",
       "<tr><td>zeros  </td><td>0                 </td><td>0                   </td><td>                  </td><td>0                              </td><td>               </td><td>0                    </td><td>                </td><td>0                              </td><td>               </td><td>         </td><td>0                </td><td>0                                </td><td>              </td><td>             </td><td>0                </td><td>                           </td><td>0                       </td><td>0                  </td></tr>\n",
       "<tr><td>missing</td><td>0                 </td><td>0                   </td><td>0                 </td><td>14929                          </td><td>0              </td><td>247                  </td><td>0               </td><td>70149                          </td><td>0              </td><td>0        </td><td>31               </td><td>13                               </td><td>0             </td><td>0            </td><td>2711             </td><td>0                          </td><td>9                       </td><td>3                  </td></tr>\n",
       "<tr><td>0      </td><td>162000.0          </td><td>320.0               </td><td>O                 </td><td>33.0                           </td><td>SF             </td><td>2.0                  </td><td>WV              </td><td>nan                            </td><td>Other servicers</td><td>R        </td><td>26100.0          </td><td>80.0                             </td><td>P             </td><td>Other sellers</td><td>669.0            </td><td>N                          </td><td>80.0                    </td><td>1.0                </td></tr>\n",
       "<tr><td>1      </td><td>53000.0           </td><td>360.0               </td><td>O                 </td><td>10.0                           </td><td>SF             </td><td>1.0                  </td><td>OH              </td><td>17140.0                        </td><td>Other servicers</td><td>R        </td><td>45200.0          </td><td>25.0                             </td><td>N             </td><td>Other sellers</td><td>732.0            </td><td>N                          </td><td>25.0                    </td><td>1.0                </td></tr>\n",
       "<tr><td>2      </td><td>133000.0          </td><td>319.0               </td><td>O                 </td><td>48.0                           </td><td>SF             </td><td>1.0                  </td><td>OH              </td><td>15940.0                        </td><td>Other servicers</td><td>R        </td><td>44700.0          </td><td>91.0                             </td><td>P             </td><td>Other sellers</td><td>679.0            </td><td>N                          </td><td>91.0                    </td><td>1.0                </td></tr>\n",
       "<tr><td>3      </td><td>174000.0          </td><td>318.0               </td><td>O                 </td><td>13.0                           </td><td>SF             </td><td>2.0                  </td><td>AZ              </td><td>38060.0                        </td><td>Other servicers</td><td>T        </td><td>85200.0          </td><td>39.0                             </td><td>N             </td><td>Other sellers</td><td>721.0            </td><td>N                          </td><td>39.0                    </td><td>1.0                </td></tr>\n",
       "<tr><td>4      </td><td>122000.0          </td><td>317.0               </td><td>O                 </td><td>24.0                           </td><td>SF             </td><td>2.0                  </td><td>OH              </td><td>10420.0                        </td><td>Other servicers</td><td>R        </td><td>44200.0          </td><td>85.0                             </td><td>N             </td><td>Other sellers</td><td>618.0            </td><td>N                          </td><td>85.0                    </td><td>1.0                </td></tr>\n",
       "<tr><td>5      </td><td>218000.0          </td><td>317.0               </td><td>O                 </td><td>44.0                           </td><td>SF             </td><td>2.0                  </td><td>OH              </td><td>10420.0                        </td><td>Other servicers</td><td>R        </td><td>44300.0          </td><td>73.0                             </td><td>P             </td><td>Other sellers</td><td>738.0            </td><td>N                          </td><td>73.0                    </td><td>1.0                </td></tr>\n",
       "<tr><td>6      </td><td>138000.0          </td><td>318.0               </td><td>O                 </td><td>31.0                           </td><td>PU             </td><td>2.0                  </td><td>SC              </td><td>nan                            </td><td>Other servicers</td><td>R        </td><td>29500.0          </td><td>73.0                             </td><td>P             </td><td>Other sellers</td><td>761.0            </td><td>N                          </td><td>73.0                    </td><td>1.0                </td></tr>\n",
       "<tr><td>7      </td><td>136000.0          </td><td>317.0               </td><td>O                 </td><td>57.0                           </td><td>SF             </td><td>2.0                  </td><td>WI              </td><td>33340.0                        </td><td>Other servicers</td><td>R        </td><td>53000.0          </td><td>60.0                             </td><td>C             </td><td>Other sellers</td><td>707.0            </td><td>N                          </td><td>60.0                    </td><td>1.0                </td></tr>\n",
       "<tr><td>8      </td><td>79000.0           </td><td>317.0               </td><td>O                 </td><td>30.0                           </td><td>SF             </td><td>2.0                  </td><td>WI              </td><td>33340.0                        </td><td>Other servicers</td><td>R        </td><td>53000.0          </td><td>63.0                             </td><td>N             </td><td>Other sellers</td><td>760.0            </td><td>N                          </td><td>63.0                    </td><td>1.0                </td></tr>\n",
       "<tr><td>9      </td><td>130000.0          </td><td>312.0               </td><td>O                 </td><td>25.0                           </td><td>SF             </td><td>2.0                  </td><td>OH              </td><td>15940.0                        </td><td>Other servicers</td><td>R        </td><td>44700.0          </td><td>65.0                             </td><td>P             </td><td>Other sellers</td><td>691.0            </td><td>N                          </td><td>65.0                    </td><td>1.0                </td></tr>\n",
       "</tbody>\n",
       "</table>"
      ]
     },
     "metadata": {},
     "output_type": "display_data"
    }
   ],
   "source": [
    "loan_level[x].describe()"
   ]
  },
  {
   "cell_type": "markdown",
   "metadata": {},
   "source": [
    "***"
   ]
  },
  {
   "cell_type": "markdown",
   "metadata": {},
   "source": [
    "<a id='BuildXGBoostModel'></a>\n",
    "### Build an XGBoost Model"
   ]
  },
  {
   "cell_type": "markdown",
   "metadata": {},
   "source": [
    "[**XGBoost - ドキュメント**](http://docs.h2o.ai/h2o/latest-stable/h2o-docs/data-science/xgboost.html#xgboost)  \n",
    "[**H2OXGBoostEstimator - APIドキュメント**](https://docs.h2o.ai/h2o/latest-stable/h2o-py/docs/modeling.html#h2oxgboostestimator)\n",
    "  \n",
    "H2O XGBoostはH2Oクラスター上でオリジナルのXGBoost動作させるようビルドされたもの。カテゴリ変数の自動Encodingといった処理も含まれている。"
   ]
  },
  {
   "cell_type": "markdown",
   "metadata": {},
   "source": [
    "オリジナルのXGBoostの[ドキュメンテーション](https://xgboost.readthedocs.io/en/latest/#)"
   ]
  },
  {
   "cell_type": "code",
   "execution_count": 11,
   "metadata": {
    "scrolled": true
   },
   "outputs": [
    {
     "name": "stdout",
     "output_type": "stream",
     "text": [
      "xgboost Model Build progress: |███████████████████████████████████████████| 100%\n",
      "CPU times: user 322 ms, sys: 21.2 ms, total: 344 ms\n",
      "Wall time: 27.3 s\n"
     ]
    }
   ],
   "source": [
    "xgb = H2OXGBoostEstimator(seed=42, \n",
    "                          model_id='XGBoost', \n",
    "                          nfolds=0, \n",
    "                          keep_cross_validation_predictions=False)\n",
    "\n",
    "%time xgb.train(x=x, y=y, training_frame=train, validation_frame=valid)    # 注：Windowsではサポートされていない"
   ]
  },
  {
   "cell_type": "markdown",
   "metadata": {},
   "source": [
    "- train時にvalidation_frameを指定してホールドアウト法になるので、nfolds=0、keep_cross_validation_predictions=False(それぞれデフォルト)としている"
   ]
  },
  {
   "cell_type": "code",
   "execution_count": 12,
   "metadata": {
    "scrolled": true
   },
   "outputs": [
    {
     "name": "stdout",
     "output_type": "stream",
     "text": [
      "Model Details\n",
      "=============\n",
      "H2OXGBoostEstimator :  XGBoost\n",
      "Model Key:  XGBoost\n",
      "\n",
      "\n",
      "Model Summary: \n"
     ]
    },
    {
     "data": {
      "text/html": [
       "<div style=\"overflow:auto\"><table style=\"width:50%\"><tr><td><b></b></td>\n",
       "<td><b>number_of_trees</b></td></tr>\n",
       "<tr><td></td>\n",
       "<td>50.0</td></tr></table></div>"
      ],
      "text/plain": [
       "    number_of_trees\n",
       "--  -----------------\n",
       "    50"
      ]
     },
     "metadata": {},
     "output_type": "display_data"
    },
    {
     "name": "stdout",
     "output_type": "stream",
     "text": [
      "\n",
      "\n",
      "ModelMetricsRegression: xgboost\n",
      "** Reported on train data. **\n",
      "\n",
      "MSE: 0.17744636323081306\n",
      "RMSE: 0.4212438287154045\n",
      "MAE: 0.30712844420662655\n",
      "RMSLE: 0.04987056256391179\n",
      "Mean Residual Deviance: 0.17744636323081306\n",
      "\n",
      "ModelMetricsRegression: xgboost\n",
      "** Reported on validation data. **\n",
      "\n",
      "MSE: 0.18013989282125126\n",
      "RMSE: 0.4244289019626859\n",
      "MAE: 0.3108204587914598\n",
      "RMSLE: 0.0503052982338251\n",
      "Mean Residual Deviance: 0.18013989282125126\n",
      "\n",
      "Scoring History: \n"
     ]
    },
    {
     "data": {
      "text/html": [
       "<div style=\"overflow:auto\"><table style=\"width:50%\"><tr><td><b></b></td>\n",
       "<td><b>timestamp</b></td>\n",
       "<td><b>duration</b></td>\n",
       "<td><b>number_of_trees</b></td>\n",
       "<td><b>training_rmse</b></td>\n",
       "<td><b>training_mae</b></td>\n",
       "<td><b>training_deviance</b></td>\n",
       "<td><b>validation_rmse</b></td>\n",
       "<td><b>validation_mae</b></td>\n",
       "<td><b>validation_deviance</b></td></tr>\n",
       "<tr><td></td>\n",
       "<td>2020-09-16 07:10:11</td>\n",
       "<td> 0.086 sec</td>\n",
       "<td>0.0</td>\n",
       "<td>6.7088631</td>\n",
       "<td>6.6836794</td>\n",
       "<td>45.0088439</td>\n",
       "<td>6.7047501</td>\n",
       "<td>6.6798046</td>\n",
       "<td>44.9536733</td></tr>\n",
       "<tr><td></td>\n",
       "<td>2020-09-16 07:10:14</td>\n",
       "<td> 2.386 sec</td>\n",
       "<td>1.0</td>\n",
       "<td>4.7104733</td>\n",
       "<td>4.6786978</td>\n",
       "<td>22.1885588</td>\n",
       "<td>4.7073544</td>\n",
       "<td>4.6757908</td>\n",
       "<td>22.1591850</td></tr>\n",
       "<tr><td></td>\n",
       "<td>2020-09-16 07:10:14</td>\n",
       "<td> 3.017 sec</td>\n",
       "<td>2.0</td>\n",
       "<td>3.3168272</td>\n",
       "<td>3.2752196</td>\n",
       "<td>11.0013425</td>\n",
       "<td>3.3139314</td>\n",
       "<td>3.2725993</td>\n",
       "<td>10.9821415</td></tr>\n",
       "<tr><td></td>\n",
       "<td>2020-09-16 07:10:15</td>\n",
       "<td> 3.734 sec</td>\n",
       "<td>3.0</td>\n",
       "<td>2.3488131</td>\n",
       "<td>2.2927392</td>\n",
       "<td>5.5169229</td>\n",
       "<td>2.3462673</td>\n",
       "<td>2.2904798</td>\n",
       "<td>5.5049702</td></tr>\n",
       "<tr><td></td>\n",
       "<td>2020-09-16 07:10:16</td>\n",
       "<td> 4.329 sec</td>\n",
       "<td>4.0</td>\n",
       "<td>1.6810353</td>\n",
       "<td>1.6051706</td>\n",
       "<td>2.8258796</td>\n",
       "<td>1.6786024</td>\n",
       "<td>1.6031085</td>\n",
       "<td>2.8177062</td></tr>\n",
       "<tr><td></td>\n",
       "<td>2020-09-16 07:10:16</td>\n",
       "<td> 4.951 sec</td>\n",
       "<td>5.0</td>\n",
       "<td>1.2265317</td>\n",
       "<td>1.1245445</td>\n",
       "<td>1.5043799</td>\n",
       "<td>1.2244424</td>\n",
       "<td>1.1227758</td>\n",
       "<td>1.4992593</td></tr>\n",
       "<tr><td></td>\n",
       "<td>2020-09-16 07:10:20</td>\n",
       "<td> 9.148 sec</td>\n",
       "<td>15.0</td>\n",
       "<td>0.4526525</td>\n",
       "<td>0.3278245</td>\n",
       "<td>0.2048943</td>\n",
       "<td>0.4522328</td>\n",
       "<td>0.3289853</td>\n",
       "<td>0.2045145</td></tr>\n",
       "<tr><td></td>\n",
       "<td>2020-09-16 07:10:24</td>\n",
       "<td>13.172 sec</td>\n",
       "<td>24.0</td>\n",
       "<td>0.4384250</td>\n",
       "<td>0.3211508</td>\n",
       "<td>0.1922165</td>\n",
       "<td>0.4389171</td>\n",
       "<td>0.3229872</td>\n",
       "<td>0.1926482</td></tr>\n",
       "<tr><td></td>\n",
       "<td>2020-09-16 07:10:29</td>\n",
       "<td>18.107 sec</td>\n",
       "<td>35.0</td>\n",
       "<td>0.4292344</td>\n",
       "<td>0.3136409</td>\n",
       "<td>0.1842421</td>\n",
       "<td>0.4305375</td>\n",
       "<td>0.3162474</td>\n",
       "<td>0.1853626</td></tr>\n",
       "<tr><td></td>\n",
       "<td>2020-09-16 07:10:36</td>\n",
       "<td>24.488 sec</td>\n",
       "<td>49.0</td>\n",
       "<td>0.4215230</td>\n",
       "<td>0.3073758</td>\n",
       "<td>0.1776816</td>\n",
       "<td>0.4246206</td>\n",
       "<td>0.3110081</td>\n",
       "<td>0.1803027</td></tr>\n",
       "<tr><td></td>\n",
       "<td>2020-09-16 07:10:37</td>\n",
       "<td>25.759 sec</td>\n",
       "<td>50.0</td>\n",
       "<td>0.4212438</td>\n",
       "<td>0.3071284</td>\n",
       "<td>0.1774464</td>\n",
       "<td>0.4244289</td>\n",
       "<td>0.3108205</td>\n",
       "<td>0.1801399</td></tr></table></div>"
      ],
      "text/plain": [
       "    timestamp            duration    number_of_trees    training_rmse    training_mae    training_deviance    validation_rmse    validation_mae    validation_deviance\n",
       "--  -------------------  ----------  -----------------  ---------------  --------------  -------------------  -----------------  ----------------  ---------------------\n",
       "    2020-09-16 07:10:11  0.086 sec   0                  6.70886          6.68368         45.0088              6.70475            6.6798            44.9537\n",
       "    2020-09-16 07:10:14  2.386 sec   1                  4.71047          4.6787          22.1886              4.70735            4.67579           22.1592\n",
       "    2020-09-16 07:10:14  3.017 sec   2                  3.31683          3.27522         11.0013              3.31393            3.2726            10.9821\n",
       "    2020-09-16 07:10:15  3.734 sec   3                  2.34881          2.29274         5.51692              2.34627            2.29048           5.50497\n",
       "    2020-09-16 07:10:16  4.329 sec   4                  1.68104          1.60517         2.82588              1.6786             1.60311           2.81771\n",
       "    2020-09-16 07:10:16  4.951 sec   5                  1.22653          1.12454         1.50438              1.22444            1.12278           1.49926\n",
       "    2020-09-16 07:10:20  9.148 sec   15                 0.452653         0.327825        0.204894             0.452233           0.328985          0.204514\n",
       "    2020-09-16 07:10:24  13.172 sec  24                 0.438425         0.321151        0.192216             0.438917           0.322987          0.192648\n",
       "    2020-09-16 07:10:29  18.107 sec  35                 0.429234         0.313641        0.184242             0.430538           0.316247          0.185363\n",
       "    2020-09-16 07:10:36  24.488 sec  49                 0.421523         0.307376        0.177682             0.424621           0.311008          0.180303\n",
       "    2020-09-16 07:10:37  25.759 sec  50                 0.421244         0.307128        0.177446             0.424429           0.31082           0.18014"
      ]
     },
     "metadata": {},
     "output_type": "display_data"
    },
    {
     "name": "stdout",
     "output_type": "stream",
     "text": [
      "\n",
      "Variable Importances: \n"
     ]
    },
    {
     "data": {
      "text/html": [
       "<div style=\"overflow:auto\"><table style=\"width:50%\"><tr><td><b>variable</b></td>\n",
       "<td><b>relative_importance</b></td>\n",
       "<td><b>scaled_importance</b></td>\n",
       "<td><b>percentage</b></td></tr>\n",
       "<tr><td>SELLER_NAME.NORWESTMORTGAGE,INC</td>\n",
       "<td>25657.9960938</td>\n",
       "<td>1.0</td>\n",
       "<td>0.2391252</td></tr>\n",
       "<tr><td>OCCUPANCY_STATUS.I</td>\n",
       "<td>7086.1391602</td>\n",
       "<td>0.2761766</td>\n",
       "<td>0.0660408</td></tr>\n",
       "<tr><td>ORIGINAL_UPB</td>\n",
       "<td>6440.5112305</td>\n",
       "<td>0.2510138</td>\n",
       "<td>0.0600237</td></tr>\n",
       "<tr><td>ORIGINAL_LOAN_TO_VALUE</td>\n",
       "<td>5813.7905273</td>\n",
       "<td>0.2265879</td>\n",
       "<td>0.0541829</td></tr>\n",
       "<tr><td>LOAN_PURPOSE.P</td>\n",
       "<td>4025.8632812</td>\n",
       "<td>0.1569048</td>\n",
       "<td>0.0375199</td></tr>\n",
       "<tr><td>---</td>\n",
       "<td>---</td>\n",
       "<td>---</td>\n",
       "<td>---</td></tr>\n",
       "<tr><td>PROPERTY_STATE.OK</td>\n",
       "<td>0.8522186</td>\n",
       "<td>0.0000332</td>\n",
       "<td>0.0000079</td></tr>\n",
       "<tr><td>PROPERTY_STATE.ME</td>\n",
       "<td>0.5269806</td>\n",
       "<td>0.0000205</td>\n",
       "<td>0.0000049</td></tr>\n",
       "<tr><td>PROPERTY_STATE.MT</td>\n",
       "<td>0.5000267</td>\n",
       "<td>0.0000195</td>\n",
       "<td>0.0000047</td></tr>\n",
       "<tr><td>PROPERTY_STATE.KS</td>\n",
       "<td>0.0765716</td>\n",
       "<td>0.0000030</td>\n",
       "<td>0.0000007</td></tr>\n",
       "<tr><td>PROPERTY_STATE.KY</td>\n",
       "<td>0.0001907</td>\n",
       "<td>0.0000000</td>\n",
       "<td>0.0000000</td></tr></table></div>"
      ],
      "text/plain": [
       "variable                         relative_importance     scaled_importance       percentage\n",
       "-------------------------------  ----------------------  ----------------------  ---------------------\n",
       "SELLER_NAME.NORWESTMORTGAGE,INC  25657.99609375          1.0                     0.2391252101842686\n",
       "OCCUPANCY_STATUS.I               7086.13916015625        0.2761766403839446      0.06604079717979593\n",
       "ORIGINAL_UPB                     6440.51123046875        0.25101380508969623     0.06002372890122664\n",
       "ORIGINAL_LOAN_TO_VALUE           5813.79052734375        0.2265878639197363      0.05418287058501139\n",
       "LOAN_PURPOSE.P                   4025.86328125           0.15690482088079571     0.03751989827204529\n",
       "---                              ---                     ---                     ---\n",
       "PROPERTY_STATE.OK                0.8522186279296875      3.321454352147471e-05   7.942434700747178e-06\n",
       "PROPERTY_STATE.ME                0.5269806385040283      2.0538651443336797e-05  4.911309343289343e-06\n",
       "PROPERTY_STATE.MT                0.5000267028808594      1.948814323043179e-05   4.660106346078133e-06\n",
       "PROPERTY_STATE.KS                0.07657158374786377     2.9843166032173395e-06  7.136253350007488e-07\n",
       "PROPERTY_STATE.KY                0.00019072741270065308  7.433449284338777e-09   1.777525122511611e-09"
      ]
     },
     "metadata": {},
     "output_type": "display_data"
    },
    {
     "data": {
      "text/plain": []
     },
     "execution_count": 12,
     "metadata": {},
     "output_type": "execute_result"
    }
   ],
   "source": [
    "xgb"
   ]
  },
  {
   "cell_type": "code",
   "execution_count": 13,
   "metadata": {
    "scrolled": true
   },
   "outputs": [
    {
     "data": {
      "text/plain": [
       "{'model_id': 'XGBoost',\n",
       " 'training_frame': 'py_10_sid_a0d0',\n",
       " 'validation_frame': 'py_11_sid_a0d0',\n",
       " 'nfolds': 0,\n",
       " 'keep_cross_validation_models': True,\n",
       " 'keep_cross_validation_predictions': False,\n",
       " 'keep_cross_validation_fold_assignment': False,\n",
       " 'score_each_iteration': False,\n",
       " 'fold_assignment': None,\n",
       " 'fold_column': None,\n",
       " 'response_column': 'ORIGINAL_INTEREST_RATE',\n",
       " 'ignored_columns': ['PREPAYMENT_PENALTY_MORTGAGE_FLAG',\n",
       "  'PREPAID',\n",
       "  'DELINQUENT',\n",
       "  'PRODUCT_TYPE',\n",
       "  'MORTGAGE_INSURANCE_PERCENTAGE',\n",
       "  'LOAN_SEQUENCE_NUMBER',\n",
       "  'MATURITY_DATE',\n",
       "  'FIRST_PAYMENT_DATE'],\n",
       " 'ignore_const_cols': True,\n",
       " 'offset_column': None,\n",
       " 'weights_column': None,\n",
       " 'stopping_rounds': 0,\n",
       " 'stopping_metric': None,\n",
       " 'stopping_tolerance': 0.001,\n",
       " 'max_runtime_secs': 0.0,\n",
       " 'seed': 42,\n",
       " 'distribution': 'gaussian',\n",
       " 'tweedie_power': 1.5,\n",
       " 'categorical_encoding': 'OneHotInternal',\n",
       " 'quiet_mode': True,\n",
       " 'checkpoint': None,\n",
       " 'export_checkpoints_dir': None,\n",
       " 'ntrees': 50,\n",
       " 'max_depth': 6,\n",
       " 'min_rows': 1.0,\n",
       " 'min_child_weight': 1.0,\n",
       " 'learn_rate': 0.3,\n",
       " 'eta': 0.3,\n",
       " 'sample_rate': 1.0,\n",
       " 'subsample': 1.0,\n",
       " 'col_sample_rate': 1.0,\n",
       " 'colsample_bylevel': 1.0,\n",
       " 'col_sample_rate_per_tree': 1.0,\n",
       " 'colsample_bytree': 1.0,\n",
       " 'colsample_bynode': 1.0,\n",
       " 'max_abs_leafnode_pred': 0.0,\n",
       " 'max_delta_step': 0.0,\n",
       " 'monotone_constraints': None,\n",
       " 'score_tree_interval': 0,\n",
       " 'min_split_improvement': 0.0,\n",
       " 'gamma': 0.0,\n",
       " 'nthread': -1,\n",
       " 'save_matrix_directory': None,\n",
       " 'build_tree_one_node': False,\n",
       " 'calibrate_model': False,\n",
       " 'calibration_frame': None,\n",
       " 'max_bins': 256,\n",
       " 'max_leaves': 0,\n",
       " 'sample_type': 'uniform',\n",
       " 'normalize_type': 'tree',\n",
       " 'rate_drop': 0.0,\n",
       " 'one_drop': False,\n",
       " 'skip_drop': 0.0,\n",
       " 'tree_method': 'exact',\n",
       " 'grow_policy': 'depthwise',\n",
       " 'booster': 'gbtree',\n",
       " 'reg_lambda': 1.0,\n",
       " 'reg_alpha': 0.0,\n",
       " 'dmatrix_type': 'sparse',\n",
       " 'backend': 'cpu',\n",
       " 'gpu_id': 0,\n",
       " 'gainslift_bins': -1}"
      ]
     },
     "execution_count": 13,
     "metadata": {},
     "output_type": "execute_result"
    }
   ],
   "source": [
    "#> 推定したモデルの設定やハイパーパラメータの確認\n",
    "xgb.actual_params"
   ]
  },
  {
   "cell_type": "markdown",
   "metadata": {},
   "source": [
    "- 各内容に関しての[ドキュメント](http://docs.h2o.ai/h2o/latest-stable/h2o-docs/data-science/xgboost.html#defining-an-xgboost-model)、[APIドキュメント](https://docs.h2o.ai/h2o/latest-stable/h2o-py/docs/modeling.html#h2oxgboostestimator)\n",
    "- デフォルト設定の確認の場合 `xgb.params`, `xgb.default_params`\n",
    "- [オリジナルのXGBoostのハイパーパラメーターに関するドキュメント](https://xgboost.readthedocs.io/en/latest/parameter.html#)"
   ]
  },
  {
   "cell_type": "code",
   "execution_count": 14,
   "metadata": {},
   "outputs": [
    {
     "data": {
      "image/png": "[encoded data removed]",
      "text/plain": [
       "<Figure size 1008x720 with 1 Axes>"
      ]
     },
     "metadata": {
      "needs_background": "light"
     },
     "output_type": "display_data"
    }
   ],
   "source": [
    "#> 変数重要度の表示\n",
    "xgb.varimp_plot(20)"
   ]
  },
  {
   "cell_type": "markdown",
   "metadata": {},
   "source": [
    "- 値自体を取得する場合 `xgb.varimp()`\n",
    "- H2ORandomForestEstimatorやH2OGradientBoostingEstimatorと異なり、カテゴリ変数はone-hot encodingされた形式で表示"
   ]
  },
  {
   "cell_type": "code",
   "execution_count": 15,
   "metadata": {},
   "outputs": [
    {
     "name": "stdout",
     "output_type": "stream",
     "text": [
      "xgboost prediction progress: |████████████████████████████████████████████| 100%\n"
     ]
    },
    {
     "data": {
      "text/html": [
       "<table>\n",
       "<thead>\n",
       "<tr><th style=\"text-align: right;\">  predict</th></tr>\n",
       "</thead>\n",
       "<tbody>\n",
       "<tr><td style=\"text-align: right;\">  7.20097</td></tr>\n",
       "<tr><td style=\"text-align: right;\">  6.87724</td></tr>\n",
       "<tr><td style=\"text-align: right;\">  7.0235 </td></tr>\n",
       "<tr><td style=\"text-align: right;\">  7.25526</td></tr>\n",
       "<tr><td style=\"text-align: right;\">  7.02648</td></tr>\n",
       "</tbody>\n",
       "</table>"
      ]
     },
     "metadata": {},
     "output_type": "display_data"
    },
    {
     "data": {
      "text/plain": []
     },
     "execution_count": 15,
     "metadata": {},
     "output_type": "execute_result"
    }
   ],
   "source": [
    "#> validデータに対する予測を実施\n",
    "xgb_def_pred = xgb.predict(valid)\n",
    "xgb_def_pred.head(5)"
   ]
  },
  {
   "cell_type": "code",
   "execution_count": 16,
   "metadata": {},
   "outputs": [
    {
     "data": {
      "text/html": [
       "<table>\n",
       "<thead>\n",
       "<tr><th style=\"text-align: right;\">  predict</th><th style=\"text-align: right;\">  ORIGINAL_INTEREST_RATE</th></tr>\n",
       "</thead>\n",
       "<tbody>\n",
       "<tr><td style=\"text-align: right;\">  7.20097</td><td style=\"text-align: right;\">                   5.875</td></tr>\n",
       "<tr><td style=\"text-align: right;\">  6.87724</td><td style=\"text-align: right;\">                   6.75 </td></tr>\n",
       "<tr><td style=\"text-align: right;\">  7.0235 </td><td style=\"text-align: right;\">                   7.75 </td></tr>\n",
       "<tr><td style=\"text-align: right;\">  7.25526</td><td style=\"text-align: right;\">                   6.625</td></tr>\n",
       "<tr><td style=\"text-align: right;\">  7.02648</td><td style=\"text-align: right;\">                   6.75 </td></tr>\n",
       "<tr><td style=\"text-align: right;\">  7.38137</td><td style=\"text-align: right;\">                   7    </td></tr>\n",
       "<tr><td style=\"text-align: right;\">  6.8168 </td><td style=\"text-align: right;\">                   7    </td></tr>\n",
       "<tr><td style=\"text-align: right;\">  7.40214</td><td style=\"text-align: right;\">                   7    </td></tr>\n",
       "<tr><td style=\"text-align: right;\">  7.06643</td><td style=\"text-align: right;\">                   7.25 </td></tr>\n",
       "<tr><td style=\"text-align: right;\">  7.00728</td><td style=\"text-align: right;\">                   7    </td></tr>\n",
       "</tbody>\n",
       "</table>"
      ]
     },
     "metadata": {},
     "output_type": "display_data"
    },
    {
     "data": {
      "text/plain": []
     },
     "execution_count": 16,
     "metadata": {},
     "output_type": "execute_result"
    }
   ],
   "source": [
    "#> 実測値との比較\n",
    "xgb_def_pred.cbind(valid['ORIGINAL_INTEREST_RATE'])"
   ]
  },
  {
   "cell_type": "code",
   "execution_count": 17,
   "metadata": {},
   "outputs": [],
   "source": [
    "#> validデータでの結果の取得\n",
    "default_xgb_per = xgb.model_performance(valid)"
   ]
  },
  {
   "cell_type": "code",
   "execution_count": 18,
   "metadata": {},
   "outputs": [
    {
     "name": "stdout",
     "output_type": "stream",
     "text": [
      "RMSE on train data:  0.4212438287154045\n",
      "RMSE on valid data:  0.4244289019626859\n"
     ]
    }
   ],
   "source": [
    "print('RMSE on train data: ', xgb.rmse())\n",
    "print('RMSE on valid data: ', default_xgb_per.rmse())"
   ]
  },
  {
   "cell_type": "markdown",
   "metadata": {},
   "source": [
    "***"
   ]
  },
  {
   "cell_type": "markdown",
   "metadata": {},
   "source": [
    "<a id='BuildDeepLearningModel'></a>\n",
    "### Build a Deep Learning Model"
   ]
  },
  {
   "cell_type": "markdown",
   "metadata": {},
   "source": [
    "[**Deep Learning (Neural Networks) - ドキュメント**](http://docs.h2o.ai/h2o/latest-stable/h2o-docs/data-science/deep-learning.html)  \n",
    "[**H2ODeepLearningEstimator - APIドキュメント**](https://docs.h2o.ai/h2o/latest-stable/h2o-py/docs/modeling.html#h2odeeplearningestimator)\n",
    "  \n",
    "H2O-3では通常のFeedforward Neural Networkのみサポート（CNNやRNNの実装はない）"
   ]
  },
  {
   "cell_type": "code",
   "execution_count": 19,
   "metadata": {},
   "outputs": [
    {
     "name": "stdout",
     "output_type": "stream",
     "text": [
      "deeplearning Model Build progress: |██████████████████████████████████████| 100%\n",
      "CPU times: user 1.51 s, sys: 111 ms, total: 1.62 s\n",
      "Wall time: 6min 5s\n"
     ]
    }
   ],
   "source": [
    "dl = H2ODeepLearningEstimator(seed=42, \n",
    "                              model_id='DL',\n",
    "                              nfolds= 0, \n",
    "                              keep_cross_validation_predictions = False)\n",
    "\n",
    "%time dl.train(x=x, y=y, training_frame=train, validation_frame=valid)"
   ]
  },
  {
   "cell_type": "code",
   "execution_count": 20,
   "metadata": {
    "scrolled": true
   },
   "outputs": [
    {
     "name": "stdout",
     "output_type": "stream",
     "text": [
      "Model Details\n",
      "=============\n",
      "H2ODeepLearningEstimator :  Deep Learning\n",
      "Model Key:  DL\n",
      "\n",
      "\n",
      "Status of Neuron Layers: predicting ORIGINAL_INTEREST_RATE, regression, gaussian distribution, Quadratic loss, 73,601 weights/biases, 880.4 KB, 3,504,991 training samples, mini-batch size 1\n"
     ]
    },
    {
     "data": {
      "text/html": [
       "<div style=\"overflow:auto\"><table style=\"width:50%\"><tr><td><b></b></td>\n",
       "<td><b>layer</b></td>\n",
       "<td><b>units</b></td>\n",
       "<td><b>type</b></td>\n",
       "<td><b>dropout</b></td>\n",
       "<td><b>l1</b></td>\n",
       "<td><b>l2</b></td>\n",
       "<td><b>mean_rate</b></td>\n",
       "<td><b>rate_rms</b></td>\n",
       "<td><b>momentum</b></td>\n",
       "<td><b>mean_weight</b></td>\n",
       "<td><b>weight_rms</b></td>\n",
       "<td><b>mean_bias</b></td>\n",
       "<td><b>bias_rms</b></td></tr>\n",
       "<tr><td></td>\n",
       "<td>1</td>\n",
       "<td>165</td>\n",
       "<td>Input</td>\n",
       "<td>0.0</td>\n",
       "<td></td>\n",
       "<td></td>\n",
       "<td></td>\n",
       "<td></td>\n",
       "<td></td>\n",
       "<td></td>\n",
       "<td></td>\n",
       "<td></td>\n",
       "<td></td></tr>\n",
       "<tr><td></td>\n",
       "<td>2</td>\n",
       "<td>200</td>\n",
       "<td>Rectifier</td>\n",
       "<td>0.0</td>\n",
       "<td>0.0</td>\n",
       "<td>0.0</td>\n",
       "<td>0.0549727</td>\n",
       "<td>0.2137097</td>\n",
       "<td>0.0</td>\n",
       "<td>-0.0194629</td>\n",
       "<td>0.1941271</td>\n",
       "<td>-0.1330396</td>\n",
       "<td>0.2906108</td></tr>\n",
       "<tr><td></td>\n",
       "<td>3</td>\n",
       "<td>200</td>\n",
       "<td>Rectifier</td>\n",
       "<td>0.0</td>\n",
       "<td>0.0</td>\n",
       "<td>0.0</td>\n",
       "<td>0.0498711</td>\n",
       "<td>0.0523487</td>\n",
       "<td>0.0</td>\n",
       "<td>-0.0473627</td>\n",
       "<td>0.1320981</td>\n",
       "<td>-0.1935309</td>\n",
       "<td>0.4387833</td></tr>\n",
       "<tr><td></td>\n",
       "<td>4</td>\n",
       "<td>1</td>\n",
       "<td>Linear</td>\n",
       "<td></td>\n",
       "<td>0.0</td>\n",
       "<td>0.0</td>\n",
       "<td>0.0013264</td>\n",
       "<td>0.0009336</td>\n",
       "<td>0.0</td>\n",
       "<td>0.0067345</td>\n",
       "<td>0.0955429</td>\n",
       "<td>1.3332626</td>\n",
       "<td>0.0000000</td></tr></table></div>"
      ],
      "text/plain": [
       "    layer    units    type       dropout    l1    l2    mean_rate              rate_rms               momentum    mean_weight           weight_rms           mean_bias             bias_rms\n",
       "--  -------  -------  ---------  ---------  ----  ----  ---------------------  ---------------------  ----------  --------------------  -------------------  --------------------  -----------------------\n",
       "    1        165      Input      0.0\n",
       "    2        200      Rectifier  0.0        0.0   0.0   0.05497265169048191    0.21370965242385864    0.0         -0.01946290403616765  0.1941271424293518   -0.13303959351404446  0.29061079025268555\n",
       "    3        200      Rectifier  0.0        0.0   0.0   0.04987105962153109    0.052348703145980835   0.0         -0.04736265515538487  0.13209813833236694  -0.19353091384769716  0.43878328800201416\n",
       "    4        1        Linear                0.0   0.0   0.0013264058948334423  0.0009336168877780437  0.0         0.006734475653793197  0.09554293751716614  1.333262584284037     1.0971281125650402e-154"
      ]
     },
     "metadata": {},
     "output_type": "display_data"
    },
    {
     "name": "stdout",
     "output_type": "stream",
     "text": [
      "\n",
      "\n",
      "ModelMetricsRegression: deeplearning\n",
      "** Reported on train data. **\n",
      "\n",
      "MSE: 0.18937988066805572\n",
      "RMSE: 0.43517798734317403\n",
      "MAE: 0.31621772696099326\n",
      "RMSLE: 0.05170373463674052\n",
      "Mean Residual Deviance: 0.18937988066805572\n",
      "\n",
      "ModelMetricsRegression: deeplearning\n",
      "** Reported on validation data. **\n",
      "\n",
      "MSE: 0.1948856473252248\n",
      "RMSE: 0.4414585454209996\n",
      "MAE: 0.32199746141537866\n",
      "RMSLE: 0.05237711273212217\n",
      "Mean Residual Deviance: 0.1948856473252248\n",
      "\n",
      "Scoring History: \n"
     ]
    },
    {
     "data": {
      "text/html": [
       "<div style=\"overflow:auto\"><table style=\"width:50%\"><tr><td><b></b></td>\n",
       "<td><b>timestamp</b></td>\n",
       "<td><b>duration</b></td>\n",
       "<td><b>training_speed</b></td>\n",
       "<td><b>epochs</b></td>\n",
       "<td><b>iterations</b></td>\n",
       "<td><b>samples</b></td>\n",
       "<td><b>training_rmse</b></td>\n",
       "<td><b>training_deviance</b></td>\n",
       "<td><b>training_mae</b></td>\n",
       "<td><b>training_r2</b></td>\n",
       "<td><b>validation_rmse</b></td>\n",
       "<td><b>validation_deviance</b></td>\n",
       "<td><b>validation_mae</b></td>\n",
       "<td><b>validation_r2</b></td></tr>\n",
       "<tr><td></td>\n",
       "<td>2020-09-16 07:10:40</td>\n",
       "<td> 0.000 sec</td>\n",
       "<td>None</td>\n",
       "<td>0.0</td>\n",
       "<td>0</td>\n",
       "<td>0.0</td>\n",
       "<td>nan</td>\n",
       "<td>nan</td>\n",
       "<td>nan</td>\n",
       "<td>nan</td>\n",
       "<td>nan</td>\n",
       "<td>nan</td>\n",
       "<td>nan</td>\n",
       "<td>nan</td></tr>\n",
       "<tr><td></td>\n",
       "<td>2020-09-16 07:10:44</td>\n",
       "<td> 9.502 sec</td>\n",
       "<td>1706 obs/sec</td>\n",
       "<td>0.0189369</td>\n",
       "<td>1</td>\n",
       "<td>6633.0</td>\n",
       "<td>0.5473031</td>\n",
       "<td>0.2995407</td>\n",
       "<td>0.4111995</td>\n",
       "<td>0.0882661</td>\n",
       "<td>0.5486739</td>\n",
       "<td>0.3010431</td>\n",
       "<td>0.4111677</td>\n",
       "<td>0.0983612</td></tr>\n",
       "<tr><td></td>\n",
       "<td>2020-09-16 07:11:37</td>\n",
       "<td> 1 min  2.123 sec</td>\n",
       "<td>7055 obs/sec</td>\n",
       "<td>1.0361723</td>\n",
       "<td>54</td>\n",
       "<td>362938.0</td>\n",
       "<td>0.4769127</td>\n",
       "<td>0.2274458</td>\n",
       "<td>0.3405789</td>\n",
       "<td>0.3077067</td>\n",
       "<td>0.4761632</td>\n",
       "<td>0.2267313</td>\n",
       "<td>0.3409403</td>\n",
       "<td>0.3209284</td></tr>\n",
       "<tr><td></td>\n",
       "<td>2020-09-16 07:12:28</td>\n",
       "<td> 1 min 52.980 sec</td>\n",
       "<td>8606 obs/sec</td>\n",
       "<td>2.3951146</td>\n",
       "<td>125</td>\n",
       "<td>838932.0</td>\n",
       "<td>0.4676376</td>\n",
       "<td>0.2186849</td>\n",
       "<td>0.3495747</td>\n",
       "<td>0.3343727</td>\n",
       "<td>0.4671515</td>\n",
       "<td>0.2182305</td>\n",
       "<td>0.3504493</td>\n",
       "<td>0.3463889</td></tr>\n",
       "<tr><td></td>\n",
       "<td>2020-09-16 07:13:17</td>\n",
       "<td> 2 min 41.599 sec</td>\n",
       "<td>9552 obs/sec</td>\n",
       "<td>3.8530440</td>\n",
       "<td>201</td>\n",
       "<td>1349598.0</td>\n",
       "<td>0.4669030</td>\n",
       "<td>0.2179985</td>\n",
       "<td>0.3448440</td>\n",
       "<td>0.3364622</td>\n",
       "<td>0.4663519</td>\n",
       "<td>0.2174841</td>\n",
       "<td>0.3459235</td>\n",
       "<td>0.3486243</td></tr>\n",
       "<tr><td></td>\n",
       "<td>2020-09-16 07:14:05</td>\n",
       "<td> 3 min 29.910 sec</td>\n",
       "<td>10100 obs/sec</td>\n",
       "<td>5.3287426</td>\n",
       "<td>278</td>\n",
       "<td>1866488.0</td>\n",
       "<td>0.4429527</td>\n",
       "<td>0.1962071</td>\n",
       "<td>0.3175970</td>\n",
       "<td>0.4027902</td>\n",
       "<td>0.4464537</td>\n",
       "<td>0.1993209</td>\n",
       "<td>0.3213206</td>\n",
       "<td>0.4030242</td></tr>\n",
       "<tr><td></td>\n",
       "<td>2020-09-16 07:14:53</td>\n",
       "<td> 4 min 17.928 sec</td>\n",
       "<td>10545 obs/sec</td>\n",
       "<td>6.8644152</td>\n",
       "<td>358</td>\n",
       "<td>2404385.0</td>\n",
       "<td>0.4500143</td>\n",
       "<td>0.2025129</td>\n",
       "<td>0.3345681</td>\n",
       "<td>0.3835968</td>\n",
       "<td>0.4532505</td>\n",
       "<td>0.2054360</td>\n",
       "<td>0.3389995</td>\n",
       "<td>0.3847091</td></tr>\n",
       "<tr><td></td>\n",
       "<td>2020-09-16 07:15:41</td>\n",
       "<td> 5 min  6.348 sec</td>\n",
       "<td>10852 obs/sec</td>\n",
       "<td>8.4154219</td>\n",
       "<td>439</td>\n",
       "<td>2947653.0</td>\n",
       "<td>0.4441853</td>\n",
       "<td>0.1973006</td>\n",
       "<td>0.3231774</td>\n",
       "<td>0.3994619</td>\n",
       "<td>0.4483357</td>\n",
       "<td>0.2010049</td>\n",
       "<td>0.3276330</td>\n",
       "<td>0.3979804</td></tr>\n",
       "<tr><td></td>\n",
       "<td>2020-09-16 07:16:29</td>\n",
       "<td> 5 min 54.379 sec</td>\n",
       "<td>11089 obs/sec</td>\n",
       "<td>9.9680787</td>\n",
       "<td>520</td>\n",
       "<td>3491499.0</td>\n",
       "<td>0.4351780</td>\n",
       "<td>0.1893799</td>\n",
       "<td>0.3162177</td>\n",
       "<td>0.4235706</td>\n",
       "<td>0.4414585</td>\n",
       "<td>0.1948856</td>\n",
       "<td>0.3219975</td>\n",
       "<td>0.4163078</td></tr>\n",
       "<tr><td></td>\n",
       "<td>2020-09-16 07:16:35</td>\n",
       "<td> 6 min  0.314 sec</td>\n",
       "<td>11093 obs/sec</td>\n",
       "<td>10.0065978</td>\n",
       "<td>522</td>\n",
       "<td>3504991.0</td>\n",
       "<td>0.4500505</td>\n",
       "<td>0.2025454</td>\n",
       "<td>0.3405748</td>\n",
       "<td>0.3834977</td>\n",
       "<td>0.4552108</td>\n",
       "<td>0.2072169</td>\n",
       "<td>0.3461133</td>\n",
       "<td>0.3793752</td></tr>\n",
       "<tr><td></td>\n",
       "<td>2020-09-16 07:16:40</td>\n",
       "<td> 6 min  5.125 sec</td>\n",
       "<td>11093 obs/sec</td>\n",
       "<td>10.0065978</td>\n",
       "<td>522</td>\n",
       "<td>3504991.0</td>\n",
       "<td>0.4351780</td>\n",
       "<td>0.1893799</td>\n",
       "<td>0.3162177</td>\n",
       "<td>0.4235706</td>\n",
       "<td>0.4414585</td>\n",
       "<td>0.1948856</td>\n",
       "<td>0.3219975</td>\n",
       "<td>0.4163078</td></tr></table></div>"
      ],
      "text/plain": [
       "    timestamp            duration          training_speed    epochs     iterations    samples      training_rmse    training_deviance    training_mae    training_r2    validation_rmse    validation_deviance    validation_mae    validation_r2\n",
       "--  -------------------  ----------------  ----------------  ---------  ------------  -----------  ---------------  -------------------  --------------  -------------  -----------------  ---------------------  ----------------  ---------------\n",
       "    2020-09-16 07:10:40  0.000 sec                           0          0             0            nan              nan                  nan             nan            nan                nan                    nan               nan\n",
       "    2020-09-16 07:10:44  9.502 sec         1706 obs/sec      0.0189369  1             6633         0.547303         0.299541             0.411199        0.0882661      0.548674           0.301043               0.411168          0.0983612\n",
       "    2020-09-16 07:11:37  1 min  2.123 sec  7055 obs/sec      1.03617    54            362938       0.476913         0.227446             0.340579        0.307707       0.476163           0.226731               0.34094           0.320928\n",
       "    2020-09-16 07:12:28  1 min 52.980 sec  8606 obs/sec      2.39511    125           838932       0.467638         0.218685             0.349575        0.334373       0.467151           0.21823                0.350449          0.346389\n",
       "    2020-09-16 07:13:17  2 min 41.599 sec  9552 obs/sec      3.85304    201           1.3496e+06   0.466903         0.217998             0.344844        0.336462       0.466352           0.217484               0.345924          0.348624\n",
       "    2020-09-16 07:14:05  3 min 29.910 sec  10100 obs/sec     5.32874    278           1.86649e+06  0.442953         0.196207             0.317597        0.40279        0.446454           0.199321               0.321321          0.403024\n",
       "    2020-09-16 07:14:53  4 min 17.928 sec  10545 obs/sec     6.86442    358           2.40438e+06  0.450014         0.202513             0.334568        0.383597       0.45325            0.205436               0.338999          0.384709\n",
       "    2020-09-16 07:15:41  5 min  6.348 sec  10852 obs/sec     8.41542    439           2.94765e+06  0.444185         0.197301             0.323177        0.399462       0.448336           0.201005               0.327633          0.39798\n",
       "    2020-09-16 07:16:29  5 min 54.379 sec  11089 obs/sec     9.96808    520           3.4915e+06   0.435178         0.18938              0.316218        0.423571       0.441459           0.194886               0.321997          0.416308\n",
       "    2020-09-16 07:16:35  6 min  0.314 sec  11093 obs/sec     10.0066    522           3.50499e+06  0.45005          0.202545             0.340575        0.383498       0.455211           0.207217               0.346113          0.379375\n",
       "    2020-09-16 07:16:40  6 min  5.125 sec  11093 obs/sec     10.0066    522           3.50499e+06  0.435178         0.18938              0.316218        0.423571       0.441459           0.194886               0.321997          0.416308"
      ]
     },
     "metadata": {},
     "output_type": "display_data"
    },
    {
     "name": "stdout",
     "output_type": "stream",
     "text": [
      "\n",
      "Variable Importances: \n"
     ]
    },
    {
     "data": {
      "text/html": [
       "<div style=\"overflow:auto\"><table style=\"width:50%\"><tr><td><b>variable</b></td>\n",
       "<td><b>relative_importance</b></td>\n",
       "<td><b>scaled_importance</b></td>\n",
       "<td><b>percentage</b></td></tr>\n",
       "<tr><td>SELLER_NAME.ABNAMROMTGEGROUP,INC</td>\n",
       "<td>1.0</td>\n",
       "<td>1.0</td>\n",
       "<td>0.0125633</td></tr>\n",
       "<tr><td>SELLER_NAME.WELLSFARGOHOMEMORTGA</td>\n",
       "<td>0.9975231</td>\n",
       "<td>0.9975231</td>\n",
       "<td>0.0125322</td></tr>\n",
       "<tr><td>SELLER_NAME.NORWESTMORTGAGE,INC</td>\n",
       "<td>0.9104674</td>\n",
       "<td>0.9104674</td>\n",
       "<td>0.0114385</td></tr>\n",
       "<tr><td>SELLER_NAME.Other sellers</td>\n",
       "<td>0.8721871</td>\n",
       "<td>0.8721871</td>\n",
       "<td>0.0109576</td></tr>\n",
       "<tr><td>SELLER_NAME.CROSSLANDMTGECORP</td>\n",
       "<td>0.8578972</td>\n",
       "<td>0.8578972</td>\n",
       "<td>0.0107780</td></tr>\n",
       "<tr><td>---</td>\n",
       "<td>---</td>\n",
       "<td>---</td>\n",
       "<td>---</td></tr>\n",
       "<tr><td>PROPERTY_TYPE.missing(NA)</td>\n",
       "<td>0.0</td>\n",
       "<td>0.0</td>\n",
       "<td>0.0</td></tr>\n",
       "<tr><td>CHANNEL.missing(NA)</td>\n",
       "<td>0.0</td>\n",
       "<td>0.0</td>\n",
       "<td>0.0</td></tr>\n",
       "<tr><td>LOAN_PURPOSE.missing(NA)</td>\n",
       "<td>0.0</td>\n",
       "<td>0.0</td>\n",
       "<td>0.0</td></tr>\n",
       "<tr><td>OCCUPANCY_STATUS.missing(NA)</td>\n",
       "<td>0.0</td>\n",
       "<td>0.0</td>\n",
       "<td>0.0</td></tr>\n",
       "<tr><td>FIRST_TIME_HOMEBUYER_FLAG.missing(NA)</td>\n",
       "<td>0.0</td>\n",
       "<td>0.0</td>\n",
       "<td>0.0</td></tr></table></div>"
      ],
      "text/plain": [
       "variable                               relative_importance    scaled_importance    percentage\n",
       "-------------------------------------  ---------------------  -------------------  --------------------\n",
       "SELLER_NAME.ABNAMROMTGEGROUP,INC       1.0                    1.0                  0.012563318328825518\n",
       "SELLER_NAME.WELLSFARGOHOMEMORTGA       0.9975230693817139     0.9975230693817139   0.012532199860989576\n",
       "SELLER_NAME.NORWESTMORTGAGE,INC        0.9104673862457275     0.9104673862457275   0.011438491601418811\n",
       "SELLER_NAME.Other sellers              0.8721871376037598     0.8721871376037598   0.01095756465202318\n",
       "SELLER_NAME.CROSSLANDMTGECORP          0.857897162437439      0.857897162437439    0.01077803514509768\n",
       "---                                    ---                    ---                  ---\n",
       "PROPERTY_TYPE.missing(NA)              0.0                    0.0                  0.0\n",
       "CHANNEL.missing(NA)                    0.0                    0.0                  0.0\n",
       "LOAN_PURPOSE.missing(NA)               0.0                    0.0                  0.0\n",
       "OCCUPANCY_STATUS.missing(NA)           0.0                    0.0                  0.0\n",
       "FIRST_TIME_HOMEBUYER_FLAG.missing(NA)  0.0                    0.0                  0.0"
      ]
     },
     "metadata": {},
     "output_type": "display_data"
    },
    {
     "data": {
      "text/plain": []
     },
     "execution_count": 20,
     "metadata": {},
     "output_type": "execute_result"
    }
   ],
   "source": [
    "dl"
   ]
  },
  {
   "cell_type": "code",
   "execution_count": 21,
   "metadata": {
    "scrolled": true
   },
   "outputs": [
    {
     "data": {
      "text/plain": [
       "{'model_id': 'DL',\n",
       " 'training_frame': 'py_10_sid_a0d0',\n",
       " 'validation_frame': 'py_11_sid_a0d0',\n",
       " 'nfolds': 0,\n",
       " 'keep_cross_validation_models': True,\n",
       " 'keep_cross_validation_predictions': False,\n",
       " 'keep_cross_validation_fold_assignment': False,\n",
       " 'fold_assignment': None,\n",
       " 'fold_column': None,\n",
       " 'response_column': 'ORIGINAL_INTEREST_RATE',\n",
       " 'ignored_columns': ['PREPAYMENT_PENALTY_MORTGAGE_FLAG',\n",
       "  'PREPAID',\n",
       "  'DELINQUENT',\n",
       "  'PRODUCT_TYPE',\n",
       "  'MORTGAGE_INSURANCE_PERCENTAGE',\n",
       "  'LOAN_SEQUENCE_NUMBER',\n",
       "  'MATURITY_DATE',\n",
       "  'FIRST_PAYMENT_DATE'],\n",
       " 'ignore_const_cols': True,\n",
       " 'score_each_iteration': False,\n",
       " 'weights_column': None,\n",
       " 'offset_column': None,\n",
       " 'balance_classes': False,\n",
       " 'class_sampling_factors': None,\n",
       " 'max_after_balance_size': 5.0,\n",
       " 'max_confusion_matrix_size': 20,\n",
       " 'max_hit_ratio_k': 0,\n",
       " 'checkpoint': None,\n",
       " 'pretrained_autoencoder': None,\n",
       " 'overwrite_with_best_model': True,\n",
       " 'use_all_factor_levels': True,\n",
       " 'standardize': True,\n",
       " 'activation': 'Rectifier',\n",
       " 'hidden': [200, 200],\n",
       " 'epochs': 10.0,\n",
       " 'train_samples_per_iteration': -2,\n",
       " 'target_ratio_comm_to_comp': 0.05,\n",
       " 'seed': 42,\n",
       " 'adaptive_rate': True,\n",
       " 'rho': 0.99,\n",
       " 'epsilon': 1e-08,\n",
       " 'rate': 0.005,\n",
       " 'rate_annealing': 1e-06,\n",
       " 'rate_decay': 1.0,\n",
       " 'momentum_start': 0.0,\n",
       " 'momentum_ramp': 1000000.0,\n",
       " 'momentum_stable': 0.0,\n",
       " 'nesterov_accelerated_gradient': True,\n",
       " 'input_dropout_ratio': 0.0,\n",
       " 'hidden_dropout_ratios': None,\n",
       " 'l1': 0.0,\n",
       " 'l2': 0.0,\n",
       " 'max_w2': 3.4028235e+38,\n",
       " 'initial_weight_distribution': 'UniformAdaptive',\n",
       " 'initial_weight_scale': 1.0,\n",
       " 'initial_weights': None,\n",
       " 'initial_biases': None,\n",
       " 'loss': 'Automatic',\n",
       " 'distribution': 'gaussian',\n",
       " 'quantile_alpha': 0.5,\n",
       " 'tweedie_power': 1.5,\n",
       " 'huber_alpha': 0.9,\n",
       " 'score_interval': 5.0,\n",
       " 'score_training_samples': 10000,\n",
       " 'score_validation_samples': 0,\n",
       " 'score_duty_cycle': 0.1,\n",
       " 'classification_stop': 0.0,\n",
       " 'regression_stop': 1e-06,\n",
       " 'stopping_rounds': 5,\n",
       " 'stopping_metric': 'deviance',\n",
       " 'stopping_tolerance': 0.0,\n",
       " 'max_runtime_secs': 0.0,\n",
       " 'score_validation_sampling': 'Uniform',\n",
       " 'diagnostics': True,\n",
       " 'fast_mode': True,\n",
       " 'force_load_balance': True,\n",
       " 'variable_importances': True,\n",
       " 'replicate_training_data': True,\n",
       " 'single_node_mode': False,\n",
       " 'shuffle_training_data': False,\n",
       " 'missing_values_handling': 'MeanImputation',\n",
       " 'quiet_mode': False,\n",
       " 'autoencoder': False,\n",
       " 'sparse': False,\n",
       " 'col_major': False,\n",
       " 'average_activation': 0.0,\n",
       " 'sparsity_beta': 0.0,\n",
       " 'max_categorical_features': 2147483647,\n",
       " 'reproducible': False,\n",
       " 'export_weights_and_biases': False,\n",
       " 'mini_batch_size': 1,\n",
       " 'categorical_encoding': 'OneHotInternal',\n",
       " 'elastic_averaging': False,\n",
       " 'elastic_averaging_moving_rate': 0.9,\n",
       " 'elastic_averaging_regularization': 0.001,\n",
       " 'export_checkpoints_dir': None}"
      ]
     },
     "execution_count": 21,
     "metadata": {},
     "output_type": "execute_result"
    }
   ],
   "source": [
    "#> 推定したモデルの設定やハイパーパラメータの確認\n",
    "dl.actual_params"
   ]
  },
  {
   "cell_type": "markdown",
   "metadata": {},
   "source": [
    "- 各内容に関しての[ドキュメント](http://docs.h2o.ai/h2o/latest-stable/h2o-docs/data-science/deep-learning.html#defining-a-deep-learning-model)、[APIドキュメント](https://docs.h2o.ai/h2o/latest-stable/h2o-py/docs/modeling.html#h2odeeplearningestimator)\n",
    "- デフォルト設定の確認の場合 `dl.params`, `dl.default_params`"
   ]
  },
  {
   "cell_type": "code",
   "execution_count": 22,
   "metadata": {},
   "outputs": [
    {
     "data": {
      "image/png": "[encoded data removed]",
      "text/plain": [
       "<Figure size 432x288 with 1 Axes>"
      ]
     },
     "metadata": {
      "needs_background": "light"
     },
     "output_type": "display_data"
    }
   ],
   "source": [
    "#> 学習の履歴の表示\n",
    "dl.plot()"
   ]
  },
  {
   "cell_type": "code",
   "execution_count": 23,
   "metadata": {},
   "outputs": [
    {
     "name": "stdout",
     "output_type": "stream",
     "text": [
      "epochs =  {'default': 10.0, 'actual': 10.0, 'input': 10.0}\n"
     ]
    }
   ],
   "source": [
    "print(\"epochs = \", dl.params['epochs'])"
   ]
  },
  {
   "cell_type": "markdown",
   "metadata": {},
   "source": [
    "- デフォルトのエポック数は10"
   ]
  },
  {
   "cell_type": "code",
   "execution_count": 24,
   "metadata": {},
   "outputs": [
    {
     "data": {
      "image/png": "[encoded data removed]",
      "text/plain": [
       "<Figure size 1008x720 with 1 Axes>"
      ]
     },
     "metadata": {
      "needs_background": "light"
     },
     "output_type": "display_data"
    }
   ],
   "source": [
    "#> 変数重要度の表示\n",
    "dl.varimp_plot(20)"
   ]
  },
  {
   "cell_type": "markdown",
   "metadata": {},
   "source": [
    "- 変数重要度は\"Gedeon method\"により算出（[FAQ](http://docs.h2o.ai/h2o/latest-stable/h2o-docs/data-science/deep-learning.html#faq)に記載）"
   ]
  },
  {
   "cell_type": "code",
   "execution_count": 25,
   "metadata": {},
   "outputs": [],
   "source": [
    "#> validデータでの結果の取得\n",
    "default_dl_per = dl.model_performance(valid)"
   ]
  },
  {
   "cell_type": "code",
   "execution_count": 26,
   "metadata": {},
   "outputs": [
    {
     "name": "stdout",
     "output_type": "stream",
     "text": [
      "RMSE on train data:  0.43517798734317403\n",
      "RMSE on valid data:  0.4414585454209996\n"
     ]
    }
   ],
   "source": [
    "print('RMSE on train data: ', dl.rmse())\n",
    "print('RMSE on valid data: ', default_dl_per.rmse())"
   ]
  },
  {
   "cell_type": "markdown",
   "metadata": {},
   "source": [
    "その他NN特有の仕様に関する[FAQ](http://docs.h2o.ai/h2o/latest-stable/h2o-docs/data-science/deep-learning.html#faq)"
   ]
  },
  {
   "cell_type": "markdown",
   "metadata": {},
   "source": [
    "***"
   ]
  },
  {
   "cell_type": "markdown",
   "metadata": {},
   "source": [
    "<a id='TuneXGBoostModelGridSearch'></a>\n",
    "### Tune the XGBoost Model with H2O GridSearch"
   ]
  },
  {
   "cell_type": "markdown",
   "metadata": {},
   "source": [
    "[**Gred Search - ドキュメント**](http://docs.h2o.ai/h2o/latest-stable/h2o-docs/grid-search.html#grid-hyperparameter-search)  \n",
    "[**H2OGridSearch - APIドキュメント**](https://docs.h2o.ai/h2o/latest-stable/h2o-py/docs/modeling.html#h2ogridsearch)"
   ]
  },
  {
   "cell_type": "markdown",
   "metadata": {},
   "source": [
    "XGBoostにおいて、max_depthは最も重要なハイパーパラメーターの一つ。デフォルト設定では6。max_depthの値が大きいと学習に時間がかかるので、まずはグリッドサーチでmax_depthを決定した後、その他のハイパーパラメーターにランダムサーチを実施する"
   ]
  },
  {
   "cell_type": "code",
   "execution_count": 27,
   "metadata": {},
   "outputs": [
    {
     "name": "stdout",
     "output_type": "stream",
     "text": [
      "xgboost Grid Build progress: |████████████████████████████████████████████| 100%\n",
      "CPU times: user 1.54 s, sys: 77.3 ms, total: 1.62 s\n",
      "Wall time: 8min 14s\n"
     ]
    }
   ],
   "source": [
    "xgb = H2OXGBoostEstimator(model_id='xgb', ntrees=100,\n",
    "                          stopping_rounds=5,  # default\n",
    "                          stopping_tolerance=1e-4,  # default\n",
    "                          stopping_metric = \"rmse\",  # default\n",
    "                          seed=42)\n",
    "\n",
    "#hyper_params = {'max_depth' : [5,7,9,10,12,13,15,20]}\n",
    "hyper_params = {'max_depth' : [5,7,9,10,12,13]}\n",
    "\n",
    "grid_id = 'depth_grid'\n",
    "\n",
    "search_criteria = { \"strategy\":\"Cartesian\"}\n",
    "\n",
    "xgb_grid = H2OGridSearch(model=xgb, \n",
    "                         hyper_params=hyper_params,\n",
    "                         grid_id=grid_id,\n",
    "                         search_criteria=search_criteria)\n",
    "\n",
    "%time xgb_grid.train(x=x, y=y, training_frame=train, validation_frame = valid)"
   ]
  },
  {
   "cell_type": "markdown",
   "metadata": {},
   "source": [
    "ハイパーパラメータに関して\n",
    "- max_depth - [ドキュメント](https://docs.h2o.ai/h2o/latest-stable/h2o-docs/data-science/algo-params/max_depth.html)、[APIドキュメント](https://docs.h2o.ai/h2o/latest-stable/h2o-py/docs/modeling.html#h2o.estimators.xgboost.H2OXGBoostEstimator.max_depth)\n",
    "\n",
    "[H2OGridSearchにおいてXGBoostがサポートするハイパーパラメーター一覧](http://docs.h2o.ai/h2o/latest-stable/h2o-docs/grid-search.html#xgboost-hyperparameters)"
   ]
  },
  {
   "cell_type": "code",
   "execution_count": 28,
   "metadata": {},
   "outputs": [
    {
     "name": "stdout",
     "output_type": "stream",
     "text": [
      "\n",
      "Hyper-Parameter Search Summary: ordered by increasing rmse\n"
     ]
    },
    {
     "data": {
      "text/html": [
       "<div style=\"overflow:auto\"><table style=\"width:50%\"><tr><td><b></b></td>\n",
       "<td><b>max_depth</b></td>\n",
       "<td><b>model_ids</b></td>\n",
       "<td><b>rmse</b></td></tr>\n",
       "<tr><td></td>\n",
       "<td>9</td>\n",
       "<td>depth_grid_model_3</td>\n",
       "<td>0.4134846</td></tr>\n",
       "<tr><td></td>\n",
       "<td>10</td>\n",
       "<td>depth_grid_model_4</td>\n",
       "<td>0.4137581</td></tr>\n",
       "<tr><td></td>\n",
       "<td>7</td>\n",
       "<td>depth_grid_model_2</td>\n",
       "<td>0.4147110</td></tr>\n",
       "<tr><td></td>\n",
       "<td>12</td>\n",
       "<td>depth_grid_model_5</td>\n",
       "<td>0.4164160</td></tr>\n",
       "<tr><td></td>\n",
       "<td>13</td>\n",
       "<td>depth_grid_model_6</td>\n",
       "<td>0.4203949</td></tr>\n",
       "<tr><td></td>\n",
       "<td>5</td>\n",
       "<td>depth_grid_model_1</td>\n",
       "<td>0.4204568</td></tr></table></div>"
      ],
      "text/plain": [
       "    max_depth    model_ids           rmse\n",
       "--  -----------  ------------------  --------\n",
       "    9            depth_grid_model_3  0.413485\n",
       "    10           depth_grid_model_4  0.413758\n",
       "    7            depth_grid_model_2  0.414711\n",
       "    12           depth_grid_model_5  0.416416\n",
       "    13           depth_grid_model_6  0.420395\n",
       "    5            depth_grid_model_1  0.420457"
      ]
     },
     "metadata": {},
     "output_type": "display_data"
    },
    {
     "name": "stdout",
     "output_type": "stream",
     "text": [
      "\n"
     ]
    },
    {
     "data": {
      "text/plain": []
     },
     "execution_count": 28,
     "metadata": {},
     "output_type": "execute_result"
    }
   ],
   "source": [
    "#> 探索結果の表示（RMSE基準）\n",
    "xgb_grid.get_grid(sort_by='rmse',decreasing=False)"
   ]
  },
  {
   "cell_type": "markdown",
   "metadata": {},
   "source": [
    "max_depth=9がベストとなった。その設定の下、その他のハイパーパラメーターをランダムサーチしてみる"
   ]
  },
  {
   "cell_type": "code",
   "execution_count": 29,
   "metadata": {},
   "outputs": [
    {
     "name": "stdout",
     "output_type": "stream",
     "text": [
      "xgboost Grid Build progress: |████████████████████████████████████████████| 100%\n",
      "CPU times: user 1.94 s, sys: 74.2 ms, total: 2.01 s\n",
      "Wall time: 7min 34s\n"
     ]
    }
   ],
   "source": [
    "#> その他のハイパーパラメーターに対しランダムサーチを実施\n",
    "\n",
    "xgb = H2OXGBoostEstimator(model_id='xgb_grid', max_depth=9, ntrees=100, \n",
    "                          stopping_rounds=5,\n",
    "                          stopping_tolerance=1e-4,\n",
    "                          stopping_metric = \"rmse\",\n",
    "                          seed=42)\n",
    "\n",
    "hyper_params = {'reg_alpha' : [x*0.01 for x in range(0, 101)],\n",
    "                'reg_lambda' : [x*0.01 for x in range(0, 101)],\n",
    "                'learn_rate' : [x*0.01 for x in range(1, 101)],\n",
    "                'distribution' : ['poisson', 'tweedie', 'gaussian', 'gamma'],\n",
    "                'booster' : ['gbtree', 'gblinear', 'dart']}\n",
    "\n",
    "search_criteria_tune = {'strategy': \"RandomDiscrete\",\n",
    "                        'max_runtime_secs': 450,   # 探索のストップ基準：最大時間(7分半)\n",
    "                        'max_models': 50,   # 探索のストップ基準：作成する最大のモデル数\n",
    "                        'seed' : 42}\n",
    "\n",
    "xgb_grid = H2OGridSearch(xgb, \n",
    "                         hyper_params,\n",
    "                         grid_id='random_grid',\n",
    "                         search_criteria=search_criteria_tune)\n",
    "\n",
    "%time xgb_grid.train(x=x, y=y, training_frame=train, validation_frame=valid)"
   ]
  },
  {
   "cell_type": "markdown",
   "metadata": {},
   "source": [
    "各ハイパーパラメータに関して\n",
    "- reg_alpha - [APIドキュメント](https://docs.h2o.ai/h2o/latest-stable/h2o-py/docs/modeling.html#h2o.estimators.xgboost.H2OXGBoostEstimator.reg_alpha)（L1正則化の重み）\n",
    "- reg_lambda - [APIドキュメント](https://docs.h2o.ai/h2o/latest-stable/h2o-py/docs/modeling.html#h2o.estimators.xgboost.H2OXGBoostEstimator.reg_lambda)（L2正則化の重み）\n",
    "- learn_rate - [ドキュメント](https://docs.h2o.ai/h2o/latest-stable/h2o-docs/data-science/algo-params/learn_rate.html)、[APIドキュメント](https://docs.h2o.ai/h2o/latest-stable/h2o-py/docs/modeling.html#h2o.estimators.xgboost.H2OXGBoostEstimator.learn_rate)\n",
    "- distribution - [ドキュメント](https://docs.h2o.ai/h2o/latest-stable/h2o-docs/data-science/algo-params/distribution.html)、[APIドキュメント](https://docs.h2o.ai/h2o/latest-stable/h2o-py/docs/modeling.html#h2o.estimators.xgboost.H2OXGBoostEstimator.distribution)\n",
    "- booster - [APIドキュメント](https://docs.h2o.ai/h2o/latest-stable/h2o-py/docs/modeling.html#h2o.estimators.xgboost.H2OXGBoostEstimator.booster)\n",
    "\n",
    "[H2OGridSearchにおいてXGBoostがサポートするハイパーパラメーター一覧](http://docs.h2o.ai/h2o/latest-stable/h2o-docs/grid-search.html#xgboost-hyperparameters)  \n",
    "[オリジナルのXGBoostのハイパーパラメーターに関するドキュメント](https://xgboost.readthedocs.io/en/latest/parameter.html#)"
   ]
  },
  {
   "cell_type": "code",
   "execution_count": 30,
   "metadata": {},
   "outputs": [
    {
     "name": "stdout",
     "output_type": "stream",
     "text": [
      "\n",
      "Hyper-Parameter Search Summary: ordered by increasing rmse\n"
     ]
    },
    {
     "data": {
      "text/html": [
       "<div style=\"overflow:auto\"><table style=\"width:50%\"><tr><td><b></b></td>\n",
       "<td><b>booster</b></td>\n",
       "<td><b>distribution</b></td>\n",
       "<td><b>learn_rate</b></td>\n",
       "<td><b>reg_alpha</b></td>\n",
       "<td><b>reg_lambda</b></td>\n",
       "<td><b>model_ids</b></td>\n",
       "<td><b>rmse</b></td></tr>\n",
       "<tr><td></td>\n",
       "<td>dart</td>\n",
       "<td>gaussian</td>\n",
       "<td>0.61</td>\n",
       "<td>0.67</td>\n",
       "<td>0.34</td>\n",
       "<td>random_grid_model_3</td>\n",
       "<td>0.4248153</td></tr>\n",
       "<tr><td></td>\n",
       "<td>gbtree</td>\n",
       "<td>gaussian</td>\n",
       "<td>0.6</td>\n",
       "<td>0.36</td>\n",
       "<td>0.17</td>\n",
       "<td>random_grid_model_2</td>\n",
       "<td>0.4273411</td></tr>\n",
       "<tr><td></td>\n",
       "<td>dart</td>\n",
       "<td>gaussian</td>\n",
       "<td>0.89</td>\n",
       "<td>0.5</td>\n",
       "<td>0.63</td>\n",
       "<td>random_grid_model_5</td>\n",
       "<td>0.4382463</td></tr>\n",
       "<tr><td></td>\n",
       "<td>gbtree</td>\n",
       "<td>gaussian</td>\n",
       "<td>0.8200000</td>\n",
       "<td>0.69</td>\n",
       "<td>0.88</td>\n",
       "<td>random_grid_model_1</td>\n",
       "<td>0.4384176</td></tr>\n",
       "<tr><td></td>\n",
       "<td>gblinear</td>\n",
       "<td>gaussian</td>\n",
       "<td>0.08</td>\n",
       "<td>0.68</td>\n",
       "<td>0.92</td>\n",
       "<td>random_grid_model_4</td>\n",
       "<td>0.6939840</td></tr></table></div>"
      ],
      "text/plain": [
       "    booster    distribution    learn_rate    reg_alpha    reg_lambda    model_ids            rmse\n",
       "--  ---------  --------------  ------------  -----------  ------------  -------------------  --------\n",
       "    dart       gaussian        0.61          0.67         0.34          random_grid_model_3  0.424815\n",
       "    gbtree     gaussian        0.6           0.36         0.17          random_grid_model_2  0.427341\n",
       "    dart       gaussian        0.89          0.5          0.63          random_grid_model_5  0.438246\n",
       "    gbtree     gaussian        0.82          0.69         0.88          random_grid_model_1  0.438418\n",
       "    gblinear   gaussian        0.08          0.68         0.92          random_grid_model_4  0.693984"
      ]
     },
     "metadata": {},
     "output_type": "display_data"
    },
    {
     "name": "stdout",
     "output_type": "stream",
     "text": [
      "\n"
     ]
    },
    {
     "data": {
      "text/plain": []
     },
     "execution_count": 30,
     "metadata": {},
     "output_type": "execute_result"
    }
   ],
   "source": [
    "#> 探索結果の表示（RMSE基準）\n",
    "xgb_grid.get_grid(sort_by='rmse', decreasing=False)"
   ]
  },
  {
   "cell_type": "markdown",
   "metadata": {},
   "source": [
    "[dart booster](https://xgboost.readthedocs.io/en/latest/tutorials/dart.html)を採用し、rate_dropとskip_dropをランダムサーチを実施し、精度が向上するか確認"
   ]
  },
  {
   "cell_type": "code",
   "execution_count": 31,
   "metadata": {},
   "outputs": [
    {
     "name": "stdout",
     "output_type": "stream",
     "text": [
      "xgboost Grid Build progress: |████████████████████████████████████████████| 100%\n",
      "CPU times: user 1.36 s, sys: 70.6 ms, total: 1.43 s\n",
      "Wall time: 5min 4s\n"
     ]
    }
   ],
   "source": [
    "xgb = H2OXGBoostEstimator(model_id='xgb', \n",
    "                          max_depth=9, \n",
    "                          ntrees=100, \n",
    "                          distribution='gaussian',\n",
    "                          reg_alpha= 0.67,\n",
    "                          reg_lambda= 0.34,\n",
    "                          learn_rate= 0.61,\n",
    "                          stopping_rounds=5,  # default\n",
    "                          stopping_tolerance=1e-4,  # default\n",
    "                          stopping_metric = \"rmse\",  # default\n",
    "                          seed=42,\n",
    "                          booster = 'dart',\n",
    "                          normalize_type='forest',\n",
    "                          one_drop=False,\n",
    "                          sample_type='uniform')\n",
    "\n",
    "hyper_params = { 'rate_drop' : [x*0.025 for x in range(0, 21)], #start from 0 to 0.5 in increments of 0.025\n",
    "                 'skip_drop' : [x*0.025 for x in range(20, 41)] #start from 0.5 to 1 in increments of 0.025\n",
    "                }\n",
    "\n",
    "search_criteria_tune = {'strategy': \"RandomDiscrete\",\n",
    "                        'max_runtime_secs': 300,  # 5 min  \n",
    "                        'max_models': 40,   # build no more than 40 models\n",
    "                        'seed' : 42}\n",
    "\n",
    "xgb_grid = H2OGridSearch(xgb, hyper_params,\n",
    "                         grid_id='dart_booster_grid',\n",
    "                         search_criteria=search_criteria_tune)\n",
    "\n",
    "%time xgb_grid.train(x=x, y=y, training_frame=train, validation_frame=valid)"
   ]
  },
  {
   "cell_type": "markdown",
   "metadata": {},
   "source": [
    "各ハイパーパラメータに関して\n",
    "- normalize_type - [APIドキュメント](https://docs.h2o.ai/h2o/latest-stable/h2o-py/docs/modeling.html#h2o.estimators.xgboost.H2OXGBoostEstimator.normalize_type)（dartのみ）\n",
    "- one_drop - [APIドキュメント](https://docs.h2o.ai/h2o/latest-stable/h2o-py/docs/modeling.html#h2o.estimators.xgboost.H2OXGBoostEstimator.one_drop)（dartのみ）\n",
    "- sample_type - [APIドキュメント](https://docs.h2o.ai/h2o/latest-stable/h2o-py/docs/modeling.html#h2o.estimators.xgboost.H2OXGBoostEstimator.sample_type)（dartのみ）\n",
    "- rate_drop - [APIドキュメント](https://docs.h2o.ai/h2o/latest-stable/h2o-py/docs/modeling.html#h2o.estimators.xgboost.H2OXGBoostEstimator.rate_drop)（dartのみ）\n",
    "- skip_drop - [APIドキュメント](https://docs.h2o.ai/h2o/latest-stable/h2o-py/docs/modeling.html#h2o.estimators.xgboost.H2OXGBoostEstimator.skip_drop)（dartのみ）\n",
    "  \n",
    "[dart boosterに関するオリジナルのXGBoostのドキュメント](https://xgboost.readthedocs.io/en/latest/parameter.html#additional-parameters-for-dart-booster-booster-dart)"
   ]
  },
  {
   "cell_type": "code",
   "execution_count": 32,
   "metadata": {},
   "outputs": [
    {
     "name": "stdout",
     "output_type": "stream",
     "text": [
      "\n",
      "Hyper-Parameter Search Summary: ordered by increasing rmse\n"
     ]
    },
    {
     "data": {
      "text/html": [
       "<div style=\"overflow:auto\"><table style=\"width:50%\"><tr><td><b></b></td>\n",
       "<td><b>rate_drop</b></td>\n",
       "<td><b>skip_drop</b></td>\n",
       "<td><b>model_ids</b></td>\n",
       "<td><b>rmse</b></td></tr>\n",
       "<tr><td></td>\n",
       "<td>0.275</td>\n",
       "<td>0.9</td>\n",
       "<td>dart_booster_grid_model_2</td>\n",
       "<td>0.4158732</td></tr>\n",
       "<tr><td></td>\n",
       "<td>0.225</td>\n",
       "<td>0.95</td>\n",
       "<td>dart_booster_grid_model_1</td>\n",
       "<td>0.4187967</td></tr></table></div>"
      ],
      "text/plain": [
       "    rate_drop    skip_drop    model_ids                  rmse\n",
       "--  -----------  -----------  -------------------------  --------\n",
       "    0.275        0.9          dart_booster_grid_model_2  0.415873\n",
       "    0.225        0.95         dart_booster_grid_model_1  0.418797"
      ]
     },
     "metadata": {},
     "output_type": "display_data"
    },
    {
     "name": "stdout",
     "output_type": "stream",
     "text": [
      "\n"
     ]
    },
    {
     "data": {
      "text/plain": []
     },
     "execution_count": 32,
     "metadata": {},
     "output_type": "execute_result"
    }
   ],
   "source": [
    "xgb_grid.get_grid(sort_by='rmse',decreasing=False)"
   ]
  },
  {
   "cell_type": "code",
   "execution_count": 33,
   "metadata": {},
   "outputs": [
    {
     "name": "stdout",
     "output_type": "stream",
     "text": [
      "\n",
      "Hyper-Parameter Search Summary: ordered by increasing residual_deviance\n"
     ]
    },
    {
     "data": {
      "text/html": [
       "<div style=\"overflow:auto\"><table style=\"width:50%\"><tr><td><b></b></td>\n",
       "<td><b>rate_drop</b></td>\n",
       "<td><b>skip_drop</b></td>\n",
       "<td><b>model_ids</b></td>\n",
       "<td><b>residual_deviance</b></td></tr>\n",
       "<tr><td></td>\n",
       "<td>0.275</td>\n",
       "<td>0.9</td>\n",
       "<td>dart_booster_grid_model_2</td>\n",
       "<td>0.1729505</td></tr>\n",
       "<tr><td></td>\n",
       "<td>0.225</td>\n",
       "<td>0.95</td>\n",
       "<td>dart_booster_grid_model_1</td>\n",
       "<td>0.1753907</td></tr></table></div>"
      ],
      "text/plain": [
       "    rate_drop    skip_drop    model_ids                  residual_deviance\n",
       "--  -----------  -----------  -------------------------  -------------------\n",
       "    0.275        0.9          dart_booster_grid_model_2  0.172951\n",
       "    0.225        0.95         dart_booster_grid_model_1  0.175391"
      ]
     },
     "metadata": {},
     "output_type": "display_data"
    },
    {
     "name": "stdout",
     "output_type": "stream",
     "text": [
      "\n"
     ]
    },
    {
     "data": {
      "text/plain": []
     },
     "execution_count": 33,
     "metadata": {},
     "output_type": "execute_result"
    }
   ],
   "source": [
    "xgb_grid"
   ]
  },
  {
   "cell_type": "code",
   "execution_count": 34,
   "metadata": {},
   "outputs": [
    {
     "name": "stdout",
     "output_type": "stream",
     "text": [
      "Model Details\n",
      "=============\n",
      "H2OXGBoostEstimator :  XGBoost\n",
      "Model Key:  dart_booster_grid_model_2\n",
      "\n",
      "\n",
      "Model Summary: \n"
     ]
    },
    {
     "data": {
      "text/html": [
       "<div style=\"overflow:auto\"><table style=\"width:50%\"><tr><td><b></b></td>\n",
       "<td><b>number_of_trees</b></td></tr>\n",
       "<tr><td></td>\n",
       "<td>81.0</td></tr></table></div>"
      ],
      "text/plain": [
       "    number_of_trees\n",
       "--  -----------------\n",
       "    81"
      ]
     },
     "metadata": {},
     "output_type": "display_data"
    },
    {
     "name": "stdout",
     "output_type": "stream",
     "text": [
      "\n",
      "\n",
      "ModelMetricsRegression: xgboost\n",
      "** Reported on train data. **\n",
      "\n",
      "MSE: 0.14742585535420155\n",
      "RMSE: 0.3839607471528848\n",
      "MAE: 0.27845154195543725\n",
      "RMSLE: 0.04552358932997624\n",
      "Mean Residual Deviance: 0.14742585535420155\n",
      "\n",
      "ModelMetricsRegression: xgboost\n",
      "** Reported on validation data. **\n",
      "\n",
      "MSE: 0.17295052026588636\n",
      "RMSE: 0.41587320214926854\n",
      "MAE: 0.30242290807971467\n",
      "RMSLE: 0.0493038032847805\n",
      "Mean Residual Deviance: 0.17295052026588636\n",
      "\n",
      "Scoring History: \n"
     ]
    },
    {
     "data": {
      "text/html": [
       "<div style=\"overflow:auto\"><table style=\"width:50%\"><tr><td><b></b></td>\n",
       "<td><b>timestamp</b></td>\n",
       "<td><b>duration</b></td>\n",
       "<td><b>number_of_trees</b></td>\n",
       "<td><b>training_rmse</b></td>\n",
       "<td><b>training_mae</b></td>\n",
       "<td><b>training_deviance</b></td>\n",
       "<td><b>validation_rmse</b></td>\n",
       "<td><b>validation_mae</b></td>\n",
       "<td><b>validation_deviance</b></td></tr>\n",
       "<tr><td></td>\n",
       "<td>2020-09-16 07:35:42</td>\n",
       "<td> 3 min  1.899 sec</td>\n",
       "<td>0.0</td>\n",
       "<td>6.7088631</td>\n",
       "<td>6.6836794</td>\n",
       "<td>45.0088439</td>\n",
       "<td>6.7047501</td>\n",
       "<td>6.6798046</td>\n",
       "<td>44.9536733</td></tr>\n",
       "<tr><td></td>\n",
       "<td>2020-09-16 07:35:43</td>\n",
       "<td> 3 min  3.208 sec</td>\n",
       "<td>1.0</td>\n",
       "<td>2.6561735</td>\n",
       "<td>2.6069449</td>\n",
       "<td>7.0552576</td>\n",
       "<td>2.6536824</td>\n",
       "<td>2.6047770</td>\n",
       "<td>7.0420302</td></tr>\n",
       "<tr><td></td>\n",
       "<td>2020-09-16 07:35:44</td>\n",
       "<td> 3 min  3.982 sec</td>\n",
       "<td>2.0</td>\n",
       "<td>1.1248013</td>\n",
       "<td>1.0187216</td>\n",
       "<td>1.2651779</td>\n",
       "<td>1.1229032</td>\n",
       "<td>1.0170359</td>\n",
       "<td>1.2609117</td></tr>\n",
       "<tr><td></td>\n",
       "<td>2020-09-16 07:35:45</td>\n",
       "<td> 3 min  4.812 sec</td>\n",
       "<td>3.0</td>\n",
       "<td>0.6125743</td>\n",
       "<td>0.4525943</td>\n",
       "<td>0.3752472</td>\n",
       "<td>0.6115991</td>\n",
       "<td>0.4514537</td>\n",
       "<td>0.3740534</td></tr>\n",
       "<tr><td></td>\n",
       "<td>2020-09-16 07:35:46</td>\n",
       "<td> 3 min  5.668 sec</td>\n",
       "<td>4.0</td>\n",
       "<td>0.4836919</td>\n",
       "<td>0.3363244</td>\n",
       "<td>0.2339579</td>\n",
       "<td>0.4836126</td>\n",
       "<td>0.3372060</td>\n",
       "<td>0.2338811</td></tr>\n",
       "<tr><td></td>\n",
       "<td>2020-09-16 07:35:50</td>\n",
       "<td> 3 min 10.143 sec</td>\n",
       "<td>10.0</td>\n",
       "<td>0.4289158</td>\n",
       "<td>0.3133417</td>\n",
       "<td>0.1839687</td>\n",
       "<td>0.4338691</td>\n",
       "<td>0.3181515</td>\n",
       "<td>0.1882424</td></tr>\n",
       "<tr><td></td>\n",
       "<td>2020-09-16 07:35:54</td>\n",
       "<td> 3 min 14.301 sec</td>\n",
       "<td>15.0</td>\n",
       "<td>0.4206298</td>\n",
       "<td>0.3065666</td>\n",
       "<td>0.1769294</td>\n",
       "<td>0.4278328</td>\n",
       "<td>0.3128159</td>\n",
       "<td>0.1830409</td></tr>\n",
       "<tr><td></td>\n",
       "<td>2020-09-16 07:36:00</td>\n",
       "<td> 3 min 20.212 sec</td>\n",
       "<td>21.0</td>\n",
       "<td>0.4129572</td>\n",
       "<td>0.3002513</td>\n",
       "<td>0.1705336</td>\n",
       "<td>0.4234790</td>\n",
       "<td>0.3093437</td>\n",
       "<td>0.1793345</td></tr>\n",
       "<tr><td></td>\n",
       "<td>2020-09-16 07:36:08</td>\n",
       "<td> 3 min 27.920 sec</td>\n",
       "<td>28.0</td>\n",
       "<td>0.4034008</td>\n",
       "<td>0.2923724</td>\n",
       "<td>0.1627322</td>\n",
       "<td>0.4199245</td>\n",
       "<td>0.3061051</td>\n",
       "<td>0.1763366</td></tr>\n",
       "<tr><td></td>\n",
       "<td>2020-09-16 07:36:18</td>\n",
       "<td> 3 min 37.888 sec</td>\n",
       "<td>36.0</td>\n",
       "<td>0.3986505</td>\n",
       "<td>0.2887370</td>\n",
       "<td>0.1589222</td>\n",
       "<td>0.4185507</td>\n",
       "<td>0.3048728</td>\n",
       "<td>0.1751847</td></tr>\n",
       "<tr><td></td>\n",
       "<td>2020-09-16 07:36:30</td>\n",
       "<td> 3 min 49.771 sec</td>\n",
       "<td>44.0</td>\n",
       "<td>0.3902035</td>\n",
       "<td>0.2824098</td>\n",
       "<td>0.1522588</td>\n",
       "<td>0.4174727</td>\n",
       "<td>0.3036031</td>\n",
       "<td>0.1742835</td></tr>\n",
       "<tr><td></td>\n",
       "<td>2020-09-16 07:36:44</td>\n",
       "<td> 4 min  4.274 sec</td>\n",
       "<td>53.0</td>\n",
       "<td>0.3855826</td>\n",
       "<td>0.2793783</td>\n",
       "<td>0.1486739</td>\n",
       "<td>0.4163100</td>\n",
       "<td>0.3025961</td>\n",
       "<td>0.1733140</td></tr>\n",
       "<tr><td></td>\n",
       "<td>2020-09-16 07:37:03</td>\n",
       "<td> 4 min 22.649 sec</td>\n",
       "<td>63.0</td>\n",
       "<td>0.3805907</td>\n",
       "<td>0.2754466</td>\n",
       "<td>0.1448493</td>\n",
       "<td>0.4153058</td>\n",
       "<td>0.3015253</td>\n",
       "<td>0.1724789</td></tr>\n",
       "<tr><td></td>\n",
       "<td>2020-09-16 07:37:25</td>\n",
       "<td> 4 min 45.119 sec</td>\n",
       "<td>74.0</td>\n",
       "<td>0.3802699</td>\n",
       "<td>0.2752663</td>\n",
       "<td>0.1446052</td>\n",
       "<td>0.4154419</td>\n",
       "<td>0.3014950</td>\n",
       "<td>0.1725920</td></tr>\n",
       "<tr><td></td>\n",
       "<td>2020-09-16 07:37:42</td>\n",
       "<td> 5 min  1.473 sec</td>\n",
       "<td>81.0</td>\n",
       "<td>0.3839607</td>\n",
       "<td>0.2784515</td>\n",
       "<td>0.1474259</td>\n",
       "<td>0.4158732</td>\n",
       "<td>0.3024229</td>\n",
       "<td>0.1729505</td></tr></table></div>"
      ],
      "text/plain": [
       "    timestamp            duration          number_of_trees    training_rmse    training_mae    training_deviance    validation_rmse    validation_mae    validation_deviance\n",
       "--  -------------------  ----------------  -----------------  ---------------  --------------  -------------------  -----------------  ----------------  ---------------------\n",
       "    2020-09-16 07:35:42  3 min  1.899 sec  0                  6.70886          6.68368         45.0088              6.70475            6.6798            44.9537\n",
       "    2020-09-16 07:35:43  3 min  3.208 sec  1                  2.65617          2.60694         7.05526              2.65368            2.60478           7.04203\n",
       "    2020-09-16 07:35:44  3 min  3.982 sec  2                  1.1248           1.01872         1.26518              1.1229             1.01704           1.26091\n",
       "    2020-09-16 07:35:45  3 min  4.812 sec  3                  0.612574         0.452594        0.375247             0.611599           0.451454          0.374053\n",
       "    2020-09-16 07:35:46  3 min  5.668 sec  4                  0.483692         0.336324        0.233958             0.483613           0.337206          0.233881\n",
       "    2020-09-16 07:35:50  3 min 10.143 sec  10                 0.428916         0.313342        0.183969             0.433869           0.318151          0.188242\n",
       "    2020-09-16 07:35:54  3 min 14.301 sec  15                 0.42063          0.306567        0.176929             0.427833           0.312816          0.183041\n",
       "    2020-09-16 07:36:00  3 min 20.212 sec  21                 0.412957         0.300251        0.170534             0.423479           0.309344          0.179334\n",
       "    2020-09-16 07:36:08  3 min 27.920 sec  28                 0.403401         0.292372        0.162732             0.419925           0.306105          0.176337\n",
       "    2020-09-16 07:36:18  3 min 37.888 sec  36                 0.39865          0.288737        0.158922             0.418551           0.304873          0.175185\n",
       "    2020-09-16 07:36:30  3 min 49.771 sec  44                 0.390204         0.28241         0.152259             0.417473           0.303603          0.174283\n",
       "    2020-09-16 07:36:44  4 min  4.274 sec  53                 0.385583         0.279378        0.148674             0.41631            0.302596          0.173314\n",
       "    2020-09-16 07:37:03  4 min 22.649 sec  63                 0.380591         0.275447        0.144849             0.415306           0.301525          0.172479\n",
       "    2020-09-16 07:37:25  4 min 45.119 sec  74                 0.38027          0.275266        0.144605             0.415442           0.301495          0.172592\n",
       "    2020-09-16 07:37:42  5 min  1.473 sec  81                 0.383961         0.278452        0.147426             0.415873           0.302423          0.172951"
      ]
     },
     "metadata": {},
     "output_type": "display_data"
    },
    {
     "name": "stdout",
     "output_type": "stream",
     "text": [
      "\n",
      "Variable Importances: \n"
     ]
    },
    {
     "data": {
      "text/html": [
       "<div style=\"overflow:auto\"><table style=\"width:50%\"><tr><td><b>variable</b></td>\n",
       "<td><b>relative_importance</b></td>\n",
       "<td><b>scaled_importance</b></td>\n",
       "<td><b>percentage</b></td></tr>\n",
       "<tr><td>SELLER_NAME.NORWESTMORTGAGE,INC</td>\n",
       "<td>32304.2656250</td>\n",
       "<td>1.0</td>\n",
       "<td>0.2331444</td></tr>\n",
       "<tr><td>OCCUPANCY_STATUS.I</td>\n",
       "<td>8939.1865234</td>\n",
       "<td>0.2767185</td>\n",
       "<td>0.0645154</td></tr>\n",
       "<tr><td>ORIGINAL_UPB</td>\n",
       "<td>8297.7207031</td>\n",
       "<td>0.2568615</td>\n",
       "<td>0.0598858</td></tr>\n",
       "<tr><td>ORIGINAL_LOAN_TO_VALUE</td>\n",
       "<td>7420.7485352</td>\n",
       "<td>0.2297142</td>\n",
       "<td>0.0535566</td></tr>\n",
       "<tr><td>CREDIT_SCORE</td>\n",
       "<td>6572.1997070</td>\n",
       "<td>0.2034468</td>\n",
       "<td>0.0474325</td></tr>\n",
       "<tr><td>---</td>\n",
       "<td>---</td>\n",
       "<td>---</td>\n",
       "<td>---</td></tr>\n",
       "<tr><td>PROPERTY_TYPE.CP</td>\n",
       "<td>4.4970784</td>\n",
       "<td>0.0001392</td>\n",
       "<td>0.0000325</td></tr>\n",
       "<tr><td>PROPERTY_STATE.AK</td>\n",
       "<td>3.2365997</td>\n",
       "<td>0.0001002</td>\n",
       "<td>0.0000234</td></tr>\n",
       "<tr><td>PROPERTY_STATE.DC</td>\n",
       "<td>3.1666882</td>\n",
       "<td>0.0000980</td>\n",
       "<td>0.0000229</td></tr>\n",
       "<tr><td>PROPERTY_TYPE.</td>\n",
       "<td>2.3219380</td>\n",
       "<td>0.0000719</td>\n",
       "<td>0.0000168</td></tr>\n",
       "<tr><td>PROPERTY_TYPE.LH</td>\n",
       "<td>1.0921545</td>\n",
       "<td>0.0000338</td>\n",
       "<td>0.0000079</td></tr></table></div>"
      ],
      "text/plain": [
       "variable                         relative_importance    scaled_importance       percentage\n",
       "-------------------------------  ---------------------  ----------------------  ----------------------\n",
       "SELLER_NAME.NORWESTMORTGAGE,INC  32304.265625           1.0                     0.2331444144092069\n",
       "OCCUPANCY_STATUS.I               8939.1865234375        0.27671845654090765     0.06451536250644949\n",
       "ORIGINAL_UPB                     8297.720703125         0.2568614559899936      0.05988581374108333\n",
       "ORIGINAL_LOAN_TO_VALUE           7420.74853515625       0.22971420001615497     0.053556582644245884\n",
       "CREDIT_SCORE                     6572.19970703125       0.20344680740691656     0.047432486776308264\n",
       "---                              ---                    ---                     ---\n",
       "PROPERTY_TYPE.CP                 4.4970784187316895     0.00013921004956235372  3.245604548509163e-05\n",
       "PROPERTY_STATE.AK                3.2365996837615967     0.00010019109306904718  2.3358993722601356e-05\n",
       "PROPERTY_STATE.DC                3.1666882038116455     9.802693676964357e-05   2.2854432769486905e-05\n",
       "PROPERTY_TYPE.                   2.3219380378723145     7.187713427156152e-05   1.675775237915515e-05\n",
       "PROPERTY_TYPE.LH                 1.0921545028686523     3.3808368081998534e-05  7.88223217860847e-06"
      ]
     },
     "metadata": {},
     "output_type": "display_data"
    },
    {
     "data": {
      "text/plain": []
     },
     "execution_count": 34,
     "metadata": {},
     "output_type": "execute_result"
    }
   ],
   "source": [
    "#> Mean Residual Deviance基準で最適なモデルを取得\n",
    "best_xgb_model = xgb_grid.models[0] \n",
    "best_xgb_model"
   ]
  },
  {
   "cell_type": "markdown",
   "metadata": {},
   "source": [
    "- RMSE基準で最適なモデルを取得する場合 `xgb_grid.get_grid(sort_by='rmse', decreasing=False).models[0]`"
   ]
  },
  {
   "cell_type": "code",
   "execution_count": 35,
   "metadata": {},
   "outputs": [],
   "source": [
    "#> validデータに対する結果取得\n",
    "tuned_xgb_per = best_xgb_model.model_performance(valid)"
   ]
  },
  {
   "cell_type": "code",
   "execution_count": 36,
   "metadata": {},
   "outputs": [
    {
     "name": "stdout",
     "output_type": "stream",
     "text": [
      "Default XGB RMSE: 0.4244 \n",
      "Tuned XGB RMSE:0.4159\n"
     ]
    }
   ],
   "source": [
    "#> [Build an XGBoost Model]で学習したモデルとランダムサーチした結果をvalidデータで比較\n",
    "print(\"Default XGB RMSE: %.4f \\nTuned XGB RMSE:%.4f\" % (default_xgb_per.rmse(), tuned_xgb_per.rmse()))"
   ]
  },
  {
   "cell_type": "code",
   "execution_count": 37,
   "metadata": {},
   "outputs": [
    {
     "name": "stdout",
     "output_type": "stream",
     "text": [
      "Default XGB MAE: 0.3108 \n",
      "Tuned XGB MAE:0.3024\n"
     ]
    }
   ],
   "source": [
    "print(\"Default XGB MAE: %.4f \\nTuned XGB MAE:%.4f\" % (default_xgb_per.mae(), tuned_xgb_per.mae()))"
   ]
  },
  {
   "cell_type": "markdown",
   "metadata": {},
   "source": [
    "<a id='TuneDeepLearningModelGridSearch'></a>\n",
    "### Tune the Deep Learning with H2O GridSearch"
   ]
  },
  {
   "cell_type": "markdown",
   "metadata": {},
   "source": [
    "[**Gred Search - ドキュメント**](http://docs.h2o.ai/h2o/latest-stable/h2o-docs/grid-search.html#grid-hyperparameter-search)  \n",
    "[**H2OGridSearch - APIドキュメント**](https://docs.h2o.ai/h2o/latest-stable/h2o-py/docs/modeling.html#h2ogridsearch)"
   ]
  },
  {
   "cell_type": "markdown",
   "metadata": {},
   "source": [
    "Neural Networkにおいて、hidden(隠れ層のサイズ)は最も重要なハイパーパラメーターの一つ。まずはグリッドサーチでhiddenを探索してみる   \n",
    "例えば、300ニューロンを最初の層、200ニューロンを次の層、100ニューロンを最後の隠れ層とする場合、[300,200,100]と指定"
   ]
  },
  {
   "cell_type": "code",
   "execution_count": 38,
   "metadata": {},
   "outputs": [
    {
     "name": "stdout",
     "output_type": "stream",
     "text": [
      "deeplearning Grid Build progress: |███████████████████████████████████████| 100%\n",
      "CPU times: user 8.7 s, sys: 183 ms, total: 8.88 s\n",
      "Wall time: 54min 18s\n"
     ]
    }
   ],
   "source": [
    "dl = H2ODeepLearningEstimator(seed=42, \n",
    "                              model_id='DL',\n",
    "                              nfolds= 0,\n",
    "                              keep_cross_validation_predictions = False,\n",
    "                              stopping_metric='RMSE',\n",
    "                              epochs=10)\n",
    "\n",
    "hyper_params = {'hidden' : [[165], [330], [495], [100], [200], \n",
    "                            [165, 33], [165, 165], [200, 165], [330, 330], \n",
    "                            [165, 330, 165]]             \n",
    "               }\n",
    "\n",
    "search_criteria_tune = {'strategy': \"Cartesian\"}\n",
    "\n",
    "dl_grid = H2OGridSearch(model=dl, \n",
    "                        hyper_params=hyper_params,\n",
    "                        grid_id = 'hidden_layer_grid',\n",
    "                        search_criteria=search_criteria_tune)\n",
    "\n",
    "%time dl_grid.train(x=x, y=y, training_frame=train, validation_frame=valid)"
   ]
  },
  {
   "cell_type": "code",
   "execution_count": 39,
   "metadata": {},
   "outputs": [
    {
     "name": "stdout",
     "output_type": "stream",
     "text": [
      "\n",
      "Hyper-Parameter Search Summary: ordered by increasing rmse\n"
     ]
    },
    {
     "data": {
      "text/html": [
       "<div style=\"overflow:auto\"><table style=\"width:50%\"><tr><td><b></b></td>\n",
       "<td><b>hidden</b></td>\n",
       "<td><b>model_ids</b></td>\n",
       "<td><b>rmse</b></td></tr>\n",
       "<tr><td></td>\n",
       "<td>[330, 330]</td>\n",
       "<td>hidden_layer_grid_model_9</td>\n",
       "<td>0.4266283</td></tr>\n",
       "<tr><td></td>\n",
       "<td>[165, 330, 165]</td>\n",
       "<td>hidden_layer_grid_model_10</td>\n",
       "<td>0.4312506</td></tr>\n",
       "<tr><td></td>\n",
       "<td>[495]</td>\n",
       "<td>hidden_layer_grid_model_3</td>\n",
       "<td>0.4370657</td></tr>\n",
       "<tr><td></td>\n",
       "<td>[200, 165]</td>\n",
       "<td>hidden_layer_grid_model_8</td>\n",
       "<td>0.4397434</td></tr>\n",
       "<tr><td></td>\n",
       "<td>[330]</td>\n",
       "<td>hidden_layer_grid_model_2</td>\n",
       "<td>0.4428775</td></tr>\n",
       "<tr><td></td>\n",
       "<td>[200]</td>\n",
       "<td>hidden_layer_grid_model_5</td>\n",
       "<td>0.4469862</td></tr>\n",
       "<tr><td></td>\n",
       "<td>[165, 165]</td>\n",
       "<td>hidden_layer_grid_model_7</td>\n",
       "<td>0.4473931</td></tr>\n",
       "<tr><td></td>\n",
       "<td>[165]</td>\n",
       "<td>hidden_layer_grid_model_1</td>\n",
       "<td>0.4492362</td></tr>\n",
       "<tr><td></td>\n",
       "<td>[165, 33]</td>\n",
       "<td>hidden_layer_grid_model_6</td>\n",
       "<td>0.4495317</td></tr>\n",
       "<tr><td></td>\n",
       "<td>[100]</td>\n",
       "<td>hidden_layer_grid_model_4</td>\n",
       "<td>0.4511593</td></tr></table></div>"
      ],
      "text/plain": [
       "    hidden           model_ids                   rmse\n",
       "--  ---------------  --------------------------  --------\n",
       "    [330, 330]       hidden_layer_grid_model_9   0.426628\n",
       "    [165, 330, 165]  hidden_layer_grid_model_10  0.431251\n",
       "    [495]            hidden_layer_grid_model_3   0.437066\n",
       "    [200, 165]       hidden_layer_grid_model_8   0.439743\n",
       "    [330]            hidden_layer_grid_model_2   0.442878\n",
       "    [200]            hidden_layer_grid_model_5   0.446986\n",
       "    [165, 165]       hidden_layer_grid_model_7   0.447393\n",
       "    [165]            hidden_layer_grid_model_1   0.449236\n",
       "    [165, 33]        hidden_layer_grid_model_6   0.449532\n",
       "    [100]            hidden_layer_grid_model_4   0.451159"
      ]
     },
     "metadata": {},
     "output_type": "display_data"
    },
    {
     "name": "stdout",
     "output_type": "stream",
     "text": [
      "\n"
     ]
    },
    {
     "data": {
      "text/plain": []
     },
     "execution_count": 39,
     "metadata": {},
     "output_type": "execute_result"
    }
   ],
   "source": [
    "dl_grid.get_grid(sort_by='rmse', decreasing=False)"
   ]
  },
  {
   "cell_type": "markdown",
   "metadata": {},
   "source": [
    "[activation](https://docs.h2o.ai/h2o/latest-stable/h2o-py/docs/modeling.html#h2o.estimators.deeplearning.H2ODeepLearningEstimator.activation)(活性化関数)を\"rectifier_with_dropout\"として、[hidden_dropout_ratios](https://docs.h2o.ai/h2o/latest-stable/h2o-py/docs/modeling.html#h2o.estimators.deeplearning.H2ODeepLearningEstimator.hidden_dropout_ratios)(ドロップアウト)をグリッドサーチしてみる  \n",
    "（activationが\"tanh_with_dropout\",\"rectifier_with_dropout\",\"maxout_with_dropout\"の時のみhidden_dropout_ratiosは設定可能）"
   ]
  },
  {
   "cell_type": "code",
   "execution_count": 41,
   "metadata": {},
   "outputs": [
    {
     "name": "stdout",
     "output_type": "stream",
     "text": [
      "deeplearning Grid Build progress: |███████████████████████████████████████| 100%\n",
      "CPU times: user 3.47 s, sys: 111 ms, total: 3.58 s\n",
      "Wall time: 20min 56s\n"
     ]
    }
   ],
   "source": [
    "dl = H2ODeepLearningEstimator(\n",
    "    epochs=10,\n",
    "    hidden=[165],     # 上で探索した結果を指定（NNでは再現が困難なため一致しない可能性がある）\n",
    "    seed=42,\n",
    "    model_id='DL',\n",
    "    activation='rectifier_with_dropout')\n",
    "\n",
    "hyper_params = {'hidden_dropout_ratios' : [[0], [0.01], [0.1], [0.15], [0.25], [0.3], [0.2],\n",
    "                                           [0.35],[0.5], [0.6], [0.8]]}\n",
    "\n",
    "search_criteria_tune = {'strategy': \"Cartesian\"}\n",
    "\n",
    "dl_grid = H2OGridSearch(model=dl, \n",
    "                         hyper_params=hyper_params,\n",
    "                         grid_id = 'dropout_grid',\n",
    "                         search_criteria=search_criteria_tune)\n",
    "\n",
    "%time dl_grid.train(x=x, y=y, training_frame=train, validation_frame=valid)"
   ]
  },
  {
   "cell_type": "code",
   "execution_count": 42,
   "metadata": {},
   "outputs": [
    {
     "name": "stdout",
     "output_type": "stream",
     "text": [
      "\n",
      "Hyper-Parameter Search Summary: ordered by increasing rmse\n"
     ]
    },
    {
     "data": {
      "text/html": [
       "<div style=\"overflow:auto\"><table style=\"width:50%\"><tr><td><b></b></td>\n",
       "<td><b>hidden_dropout_ratios</b></td>\n",
       "<td><b>model_ids</b></td>\n",
       "<td><b>rmse</b></td></tr>\n",
       "<tr><td></td>\n",
       "<td>[0.6]</td>\n",
       "<td>dropout_grid_model_10</td>\n",
       "<td>0.4447113</td></tr>\n",
       "<tr><td></td>\n",
       "<td>[0.8]</td>\n",
       "<td>dropout_grid_model_11</td>\n",
       "<td>0.4454836</td></tr>\n",
       "<tr><td></td>\n",
       "<td>[0.3]</td>\n",
       "<td>dropout_grid_model_6</td>\n",
       "<td>0.4464202</td></tr>\n",
       "<tr><td></td>\n",
       "<td>[0.35]</td>\n",
       "<td>dropout_grid_model_8</td>\n",
       "<td>0.4465189</td></tr>\n",
       "<tr><td></td>\n",
       "<td>[0.5]</td>\n",
       "<td>dropout_grid_model_9</td>\n",
       "<td>0.4477131</td></tr>\n",
       "<tr><td></td>\n",
       "<td>[0.25]</td>\n",
       "<td>dropout_grid_model_5</td>\n",
       "<td>0.4484906</td></tr>\n",
       "<tr><td></td>\n",
       "<td>[0.15]</td>\n",
       "<td>dropout_grid_model_4</td>\n",
       "<td>0.4517076</td></tr>\n",
       "<tr><td></td>\n",
       "<td>[0.2]</td>\n",
       "<td>dropout_grid_model_7</td>\n",
       "<td>0.4597075</td></tr>\n",
       "<tr><td></td>\n",
       "<td>[0.01]</td>\n",
       "<td>dropout_grid_model_2</td>\n",
       "<td>0.4700554</td></tr>\n",
       "<tr><td></td>\n",
       "<td>[0.1]</td>\n",
       "<td>dropout_grid_model_3</td>\n",
       "<td>0.4753090</td></tr>\n",
       "<tr><td></td>\n",
       "<td>[0.0]</td>\n",
       "<td>dropout_grid_model_1</td>\n",
       "<td>0.4772694</td></tr></table></div>"
      ],
      "text/plain": [
       "    hidden_dropout_ratios    model_ids              rmse\n",
       "--  -----------------------  ---------------------  --------\n",
       "    [0.6]                    dropout_grid_model_10  0.444711\n",
       "    [0.8]                    dropout_grid_model_11  0.445484\n",
       "    [0.3]                    dropout_grid_model_6   0.44642\n",
       "    [0.35]                   dropout_grid_model_8   0.446519\n",
       "    [0.5]                    dropout_grid_model_9   0.447713\n",
       "    [0.25]                   dropout_grid_model_5   0.448491\n",
       "    [0.15]                   dropout_grid_model_4   0.451708\n",
       "    [0.2]                    dropout_grid_model_7   0.459707\n",
       "    [0.01]                   dropout_grid_model_2   0.470055\n",
       "    [0.1]                    dropout_grid_model_3   0.475309\n",
       "    [0.0]                    dropout_grid_model_1   0.477269"
      ]
     },
     "metadata": {},
     "output_type": "display_data"
    },
    {
     "name": "stdout",
     "output_type": "stream",
     "text": [
      "\n"
     ]
    },
    {
     "data": {
      "text/plain": []
     },
     "execution_count": 42,
     "metadata": {},
     "output_type": "execute_result"
    }
   ],
   "source": [
    "dl_grid.get_grid(sort_by='rmse', decreasing=False)"
   ]
  },
  {
   "cell_type": "markdown",
   "metadata": {},
   "source": [
    "[adaptive_rate](https://docs.h2o.ai/h2o/latest-stable/h2o-py/docs/modeling.html#h2o.estimators.deeplearning.H2ODeepLearningEstimator.adaptive_rate)(適応学習率)を無効にし、[rate](https://docs.h2o.ai/h2o/latest-stable/h2o-py/docs/modeling.html#h2o.estimators.deeplearning.H2ODeepLearningEstimator.rate)(学習率)をグリッドサーチしてみる"
   ]
  },
  {
   "cell_type": "code",
   "execution_count": 43,
   "metadata": {
    "scrolled": true
   },
   "outputs": [
    {
     "name": "stdout",
     "output_type": "stream",
     "text": [
      "deeplearning Grid Build progress: |███████████████████████████████████████| 100%\n",
      "Errors/Warnings building gridsearch model\n",
      "\n",
      "Hyper-parameter: rate, 0.007\n",
      "failure_details: DistributedException from /127.0.0.1:54321: '\n",
      "\n",
      "Trying to predict with an unstable model.\n",
      "Job was aborted due to observed numerical instability (exponential growth).\n",
      "Either the weights or the bias values are unreasonably large or lead to large activation values.\n",
      "Try a different initial distribution, a bounded activation function (Tanh), adding regularization\n",
      "(via max_w2, l1, l2, dropout) or learning rate (either enable adaptive_rate or use a smaller learning rate or faster annealing).\n",
      "\n",
      "For more information visit:\n",
      "  http://jira.h2o.ai/browse/TN-4'\n",
      "failure_stack_traces: DistributedException from /127.0.0.1:54321: '\n",
      "\n",
      "Trying to predict with an unstable model.\n",
      "Job was aborted due to observed numerical instability (exponential growth).\n",
      "Either the weights or the bias values are unreasonably large or lead to large activation values.\n",
      "Try a different initial distribution, a bounded activation function (Tanh), adding regularization\n",
      "(via max_w2, l1, l2, dropout) or learning rate (either enable adaptive_rate or use a smaller learning rate or faster annealing).\n",
      "\n",
      "For more information visit:\n",
      "  http://jira.h2o.ai/browse/TN-4', caused by java.lang.UnsupportedOperationException: \n",
      "\n",
      "Trying to predict with an unstable model.\n",
      "Job was aborted due to observed numerical instability (exponential growth).\n",
      "Either the weights or the bias values are unreasonably large or lead to large activation values.\n",
      "Try a different initial distribution, a bounded activation function (Tanh), adding regularization\n",
      "(via max_w2, l1, l2, dropout) or learning rate (either enable adaptive_rate or use a smaller learning rate or faster annealing).\n",
      "\n",
      "For more information visit:\n",
      "  http://jira.h2o.ai/browse/TN-4\n",
      "\tat water.MRTask.getResult(MRTask.java:494)\n",
      "\tat water.MRTask.getResult(MRTask.java:502)\n",
      "\tat water.MRTask.doAll(MRTask.java:397)\n",
      "\tat water.MRTask.doAll(MRTask.java:392)\n",
      "\tat hex.Model.scoreMetrics(Model.java:1785)\n",
      "\tat hex.deeplearning.DeepLearningModel.doScoring(DeepLearningModel.java:399)\n",
      "\tat hex.deeplearning.DeepLearning$DeepLearningDriver.trainModel(DeepLearning.java:460)\n",
      "\tat hex.deeplearning.DeepLearning$DeepLearningDriver.buildModel(DeepLearning.java:330)\n",
      "\tat hex.deeplearning.DeepLearning$DeepLearningDriver.computeImpl(DeepLearning.java:216)\n",
      "\tat hex.ModelBuilder$Driver.compute2(ModelBuilder.java:238)\n",
      "\tat hex.deeplearning.DeepLearning$DeepLearningDriver.compute2(DeepLearning.java:206)\n",
      "\tat hex.ModelBuilder.trainModelNested(ModelBuilder.java:402)\n",
      "\tat hex.ModelBuilder$TrainModelNestedRunnable.run(ModelBuilder.java:438)\n",
      "\tat water.H2O.runOnH2ONode(H2O.java:1451)\n",
      "\tat water.H2O.runOnH2ONode(H2O.java:1440)\n",
      "\tat hex.ModelBuilder.trainModelNested(ModelBuilder.java:418)\n",
      "\tat hex.grid.GridSearch.buildModel(GridSearch.java:549)\n",
      "\tat hex.grid.GridSearch.gridSearch(GridSearch.java:382)\n",
      "\tat hex.grid.GridSearch.access$000(GridSearch.java:72)\n",
      "\tat hex.grid.GridSearch$1.compute2(GridSearch.java:149)\n",
      "\tat water.H2O$H2OCountedCompleter.compute(H2O.java:1563)\n",
      "\tat jsr166y.CountedCompleter.exec(CountedCompleter.java:468)\n",
      "\tat jsr166y.ForkJoinTask.doExec(ForkJoinTask.java:263)\n",
      "\tat jsr166y.ForkJoinPool$WorkQueue.runTask(ForkJoinPool.java:974)\n",
      "\tat jsr166y.ForkJoinPool.runWorker(ForkJoinPool.java:1477)\n",
      "\tat jsr166y.ForkJoinWorkerThread.run(ForkJoinWorkerThread.java:104)\n",
      "Caused by: java.lang.UnsupportedOperationException: \n",
      "\n",
      "Trying to predict with an unstable model.\n",
      "Job was aborted due to observed numerical instability (exponential growth).\n",
      "Either the weights or the bias values are unreasonably large or lead to large activation values.\n",
      "Try a different initial distribution, a bounded activation function (Tanh), adding regularization\n",
      "(via max_w2, l1, l2, dropout) or learning rate (either enable adaptive_rate or use a smaller learning rate or faster annealing).\n",
      "\n",
      "For more information visit:\n",
      "  http://jira.h2o.ai/browse/TN-4\n",
      "\tat hex.deeplearning.DeepLearningModel.score0(DeepLearningModel.java:707)\n",
      "\tat hex.Model.score0(Model.java:1925)\n",
      "\tat hex.Model$BigScore.score0(Model.java:1869)\n",
      "\tat hex.Model$BigScore.map(Model.java:1847)\n",
      "\tat water.MRTask.compute2(MRTask.java:675)\n",
      "\tat water.MRTask.compute2(MRTask.java:607)\n",
      "\tat water.MRTask.compute2(MRTask.java:607)\n",
      "\tat water.H2O$H2OCountedCompleter.compute1(H2O.java:1566)\n",
      "\tat hex.Model$BigScore$Icer.compute1(Model$BigScore$Icer.java)\n",
      "\tat water.H2O$H2OCountedCompleter.compute(H2O.java:1562)\n",
      "\t... 5 more\n",
      "\n",
      "\n",
      "Hyper-parameter: rate, 0.009\n",
      "failure_details: DistributedException from /127.0.0.1:54321: '\n",
      "\n",
      "Trying to predict with an unstable model.\n",
      "Job was aborted due to observed numerical instability (exponential growth).\n",
      "Either the weights or the bias values are unreasonably large or lead to large activation values.\n",
      "Try a different initial distribution, a bounded activation function (Tanh), adding regularization\n",
      "(via max_w2, l1, l2, dropout) or learning rate (either enable adaptive_rate or use a smaller learning rate or faster annealing).\n",
      "\n",
      "For more information visit:\n",
      "  http://jira.h2o.ai/browse/TN-4'\n",
      "failure_stack_traces: DistributedException from /127.0.0.1:54321: '\n",
      "\n",
      "Trying to predict with an unstable model.\n",
      "Job was aborted due to observed numerical instability (exponential growth).\n",
      "Either the weights or the bias values are unreasonably large or lead to large activation values.\n",
      "Try a different initial distribution, a bounded activation function (Tanh), adding regularization\n",
      "(via max_w2, l1, l2, dropout) or learning rate (either enable adaptive_rate or use a smaller learning rate or faster annealing).\n",
      "\n",
      "For more information visit:\n",
      "  http://jira.h2o.ai/browse/TN-4', caused by java.lang.UnsupportedOperationException: \n",
      "\n",
      "Trying to predict with an unstable model.\n",
      "Job was aborted due to observed numerical instability (exponential growth).\n",
      "Either the weights or the bias values are unreasonably large or lead to large activation values.\n",
      "Try a different initial distribution, a bounded activation function (Tanh), adding regularization\n",
      "(via max_w2, l1, l2, dropout) or learning rate (either enable adaptive_rate or use a smaller learning rate or faster annealing).\n",
      "\n",
      "For more information visit:\n",
      "  http://jira.h2o.ai/browse/TN-4\n",
      "\tat water.MRTask.getResult(MRTask.java:494)\n",
      "\tat water.MRTask.getResult(MRTask.java:502)\n",
      "\tat water.MRTask.doAll(MRTask.java:397)\n",
      "\tat water.MRTask.doAll(MRTask.java:392)\n",
      "\tat hex.Model.scoreMetrics(Model.java:1785)\n",
      "\tat hex.deeplearning.DeepLearningModel.doScoring(DeepLearningModel.java:399)\n",
      "\tat hex.deeplearning.DeepLearning$DeepLearningDriver.trainModel(DeepLearning.java:460)\n",
      "\tat hex.deeplearning.DeepLearning$DeepLearningDriver.buildModel(DeepLearning.java:330)\n",
      "\tat hex.deeplearning.DeepLearning$DeepLearningDriver.computeImpl(DeepLearning.java:216)\n",
      "\tat hex.ModelBuilder$Driver.compute2(ModelBuilder.java:238)\n",
      "\tat hex.deeplearning.DeepLearning$DeepLearningDriver.compute2(DeepLearning.java:206)\n",
      "\tat hex.ModelBuilder.trainModelNested(ModelBuilder.java:402)\n",
      "\tat hex.ModelBuilder$TrainModelNestedRunnable.run(ModelBuilder.java:438)\n",
      "\tat water.H2O.runOnH2ONode(H2O.java:1451)\n",
      "\tat water.H2O.runOnH2ONode(H2O.java:1440)\n",
      "\tat hex.ModelBuilder.trainModelNested(ModelBuilder.java:418)\n",
      "\tat hex.grid.GridSearch.buildModel(GridSearch.java:549)\n",
      "\tat hex.grid.GridSearch.gridSearch(GridSearch.java:382)\n",
      "\tat hex.grid.GridSearch.access$000(GridSearch.java:72)\n",
      "\tat hex.grid.GridSearch$1.compute2(GridSearch.java:149)\n",
      "\tat water.H2O$H2OCountedCompleter.compute(H2O.java:1563)\n",
      "\tat jsr166y.CountedCompleter.exec(CountedCompleter.java:468)\n",
      "\tat jsr166y.ForkJoinTask.doExec(ForkJoinTask.java:263)\n",
      "\tat jsr166y.ForkJoinPool$WorkQueue.runTask(ForkJoinPool.java:974)\n",
      "\tat jsr166y.ForkJoinPool.runWorker(ForkJoinPool.java:1477)\n",
      "\tat jsr166y.ForkJoinWorkerThread.run(ForkJoinWorkerThread.java:104)\n",
      "Caused by: java.lang.UnsupportedOperationException: \n",
      "\n",
      "Trying to predict with an unstable model.\n",
      "Job was aborted due to observed numerical instability (exponential growth).\n",
      "Either the weights or the bias values are unreasonably large or lead to large activation values.\n",
      "Try a different initial distribution, a bounded activation function (Tanh), adding regularization\n",
      "(via max_w2, l1, l2, dropout) or learning rate (either enable adaptive_rate or use a smaller learning rate or faster annealing).\n",
      "\n",
      "For more information visit:\n",
      "  http://jira.h2o.ai/browse/TN-4\n",
      "\tat hex.deeplearning.DeepLearningModel.score0(DeepLearningModel.java:707)\n",
      "\tat hex.Model.score0(Model.java:1925)\n",
      "\tat hex.Model$BigScore.score0(Model.java:1869)\n",
      "\tat hex.Model$BigScore.map(Model.java:1847)\n",
      "\tat water.MRTask.compute2(MRTask.java:675)\n",
      "\tat water.MRTask.compute2(MRTask.java:607)\n",
      "\tat water.MRTask.compute2(MRTask.java:607)\n",
      "\tat water.MRTask.compute2(MRTask.java:607)\n",
      "\tat water.H2O$H2OCountedCompleter.compute1(H2O.java:1566)\n",
      "\tat hex.Model$BigScore$Icer.compute1(Model$BigScore$Icer.java)\n",
      "\tat water.H2O$H2OCountedCompleter.compute(H2O.java:1562)\n",
      "\t... 5 more\n",
      "\n"
     ]
    },
    {
     "name": "stdout",
     "output_type": "stream",
     "text": [
      "\n",
      "CPU times: user 3.21 s, sys: 42.6 ms, total: 3.25 s\n",
      "Wall time: 19min 11s\n"
     ]
    }
   ],
   "source": [
    "dl = H2ODeepLearningEstimator(\n",
    "    epochs=10,\n",
    "    hidden=[165],    # 上で探索した結果を指定（NNでは再現が困難なため一致しない可能性がある）\n",
    "    seed=42,\n",
    "    model_id='DL',\n",
    "    activation = 'rectifier_with_dropout',\n",
    "    hidden_dropout_ratios=[0.3],     # 上で探索した結果を指定（NNでは再現が困難なため一致しない可能性がある）\n",
    "    distribution='auto',\n",
    "    adaptive_rate=False)\n",
    "\n",
    "hyper_params = { 'rate' : [0.0001, 0.0005, 0.0008, 0.001, 0.0015, 0.0020, 0.003, 0.004, 0.007, 0.009] }\n",
    "\n",
    "search_criteria_tune = {'strategy': \"Cartesian\"}\n",
    "\n",
    "dl_grid = H2OGridSearch(model=dl, \n",
    "                        hyper_params=hyper_params,\n",
    "                        grid_id = 'rate_grid',\n",
    "                        search_criteria=search_criteria_tune)\n",
    "\n",
    "%time dl_grid.train(x=x, y=y, training_frame=train, validation_frame=valid)"
   ]
  },
  {
   "cell_type": "code",
   "execution_count": 44,
   "metadata": {},
   "outputs": [
    {
     "name": "stdout",
     "output_type": "stream",
     "text": [
      "\n",
      "Hyper-Parameter Search Summary: ordered by increasing rmse\n"
     ]
    },
    {
     "data": {
      "text/html": [
       "<div style=\"overflow:auto\"><table style=\"width:50%\"><tr><td><b></b></td>\n",
       "<td><b>rate</b></td>\n",
       "<td><b>model_ids</b></td>\n",
       "<td><b>rmse</b></td></tr>\n",
       "<tr><td></td>\n",
       "<td>0.001</td>\n",
       "<td>rate_grid_model_4</td>\n",
       "<td>0.4305794</td></tr>\n",
       "<tr><td></td>\n",
       "<td>0.0015</td>\n",
       "<td>rate_grid_model_5</td>\n",
       "<td>0.4306746</td></tr>\n",
       "<tr><td></td>\n",
       "<td>0.002</td>\n",
       "<td>rate_grid_model_6</td>\n",
       "<td>0.4309340</td></tr>\n",
       "<tr><td></td>\n",
       "<td>8.0E-4</td>\n",
       "<td>rate_grid_model_3</td>\n",
       "<td>0.4317037</td></tr>\n",
       "<tr><td></td>\n",
       "<td>0.003</td>\n",
       "<td>rate_grid_model_7</td>\n",
       "<td>0.4321392</td></tr>\n",
       "<tr><td></td>\n",
       "<td>5.0E-4</td>\n",
       "<td>rate_grid_model_2</td>\n",
       "<td>0.4329495</td></tr>\n",
       "<tr><td></td>\n",
       "<td>0.004</td>\n",
       "<td>rate_grid_model_8</td>\n",
       "<td>0.4370936</td></tr>\n",
       "<tr><td></td>\n",
       "<td>1.0E-4</td>\n",
       "<td>rate_grid_model_1</td>\n",
       "<td>0.4460183</td></tr></table></div>"
      ],
      "text/plain": [
       "    rate    model_ids          rmse\n",
       "--  ------  -----------------  --------\n",
       "    0.001   rate_grid_model_4  0.430579\n",
       "    0.0015  rate_grid_model_5  0.430675\n",
       "    0.002   rate_grid_model_6  0.430934\n",
       "    0.0008  rate_grid_model_3  0.431704\n",
       "    0.003   rate_grid_model_7  0.432139\n",
       "    0.0005  rate_grid_model_2  0.432949\n",
       "    0.004   rate_grid_model_8  0.437094\n",
       "    0.0001  rate_grid_model_1  0.446018"
      ]
     },
     "metadata": {},
     "output_type": "display_data"
    },
    {
     "name": "stdout",
     "output_type": "stream",
     "text": [
      "\n"
     ]
    },
    {
     "data": {
      "text/plain": []
     },
     "execution_count": 44,
     "metadata": {},
     "output_type": "execute_result"
    }
   ],
   "source": [
    "dl_grid.get_grid(sort_by='rmse', decreasing=False)"
   ]
  },
  {
   "cell_type": "markdown",
   "metadata": {},
   "source": [
    "上記探索結果のハイパーパラメーターの元、残りいくつかのハイパーパラメーターをランダムサーチし、精度が向上するか確認"
   ]
  },
  {
   "cell_type": "code",
   "execution_count": 45,
   "metadata": {},
   "outputs": [
    {
     "name": "stdout",
     "output_type": "stream",
     "text": [
      "deeplearning Grid Build progress: |███████████████████████████████████████| 100%\n",
      "CPU times: user 2.3 s, sys: 91.3 ms, total: 2.39 s\n",
      "Wall time: 10min\n"
     ]
    }
   ],
   "source": [
    "dl = H2ODeepLearningEstimator(\n",
    "     epochs=10,\n",
    "     hidden=[165],    # 上で探索した結果を指定（NNでは再現が困難なため一致しない可能性がある）\n",
    "     seed=42,\n",
    "     model_id='DL',\n",
    "     activation = 'rectifier_with_dropout',\n",
    "     hidden_dropout_ratios=[0.3],    # 上で探索した結果を指定（NNでは再現が困難なため一致しない可能性がある）\n",
    "     distribution='auto',\n",
    "     adaptive_rate=False,\n",
    "     l2=1e-5,\n",
    "     rate=0.0015    # 上で探索した結果を指定（NNでは再現が困難なため一致しない可能性がある）\n",
    "     )\n",
    "\n",
    "hyper_params = { 'rate_annealing' : [1e-6, 1e-7, 1e-8, 1e-5],\n",
    "                 'rate_decay': [1, 0.8, 0.9, 1.1, 1.2],\n",
    "                 'momentum_ramp' : [10000, 15000, 5000, 20000, 50000, 100000],\n",
    "                 'momentum_stable' : [0.9, 0.95, 0.99, 0.999],\n",
    "                 'momentum_start' : [0.9, 0.4, 0.5, 0.7, 0.8]\n",
    "                }\n",
    "\n",
    "search_criteria_tune = {'strategy': \"RandomDiscrete\",\n",
    "                        'max_runtime_secs': 600, #10 min  \n",
    "                        'max_models': 100,  # build no more than 100 models\n",
    "                        'seed' : 42 \n",
    "                        }\n",
    "\n",
    "dl_grid = H2OGridSearch(model=dl, \n",
    "                        hyper_params=hyper_params,\n",
    "                        grid_id = 'rate_random_grid',\n",
    "                        search_criteria=search_criteria_tune,\n",
    "                        )\n",
    "\n",
    "%time dl_grid.train(x=x, y=y, training_frame=train, validation_frame=valid)"
   ]
  },
  {
   "cell_type": "code",
   "execution_count": 46,
   "metadata": {},
   "outputs": [
    {
     "name": "stdout",
     "output_type": "stream",
     "text": [
      "\n",
      "Hyper-Parameter Search Summary: ordered by increasing rmse\n"
     ]
    },
    {
     "data": {
      "text/html": [
       "<div style=\"overflow:auto\"><table style=\"width:50%\"><tr><td><b></b></td>\n",
       "<td><b>momentum_ramp</b></td>\n",
       "<td><b>momentum_stable</b></td>\n",
       "<td><b>momentum_start</b></td>\n",
       "<td><b>rate_annealing</b></td>\n",
       "<td><b>rate_decay</b></td>\n",
       "<td><b>model_ids</b></td>\n",
       "<td><b>rmse</b></td></tr>\n",
       "<tr><td></td>\n",
       "<td>10000.0</td>\n",
       "<td>0.95</td>\n",
       "<td>0.5</td>\n",
       "<td>1.0E-6</td>\n",
       "<td>0.8</td>\n",
       "<td>rate_random_grid_model_3</td>\n",
       "<td>0.4299253</td></tr>\n",
       "<tr><td></td>\n",
       "<td>5000.0</td>\n",
       "<td>0.999</td>\n",
       "<td>0.7</td>\n",
       "<td>1.0E-5</td>\n",
       "<td>0.9</td>\n",
       "<td>rate_random_grid_model_2</td>\n",
       "<td>0.4310985</td></tr>\n",
       "<tr><td></td>\n",
       "<td>10000.0</td>\n",
       "<td>0.95</td>\n",
       "<td>0.9</td>\n",
       "<td>1.0E-5</td>\n",
       "<td>0.8</td>\n",
       "<td>rate_random_grid_model_1</td>\n",
       "<td>0.4327186</td></tr>\n",
       "<tr><td></td>\n",
       "<td>100000.0</td>\n",
       "<td>0.999</td>\n",
       "<td>0.9</td>\n",
       "<td>1.0E-7</td>\n",
       "<td>0.8</td>\n",
       "<td>rate_random_grid_model_4</td>\n",
       "<td>0.4406913</td></tr></table></div>"
      ],
      "text/plain": [
       "    momentum_ramp    momentum_stable    momentum_start    rate_annealing    rate_decay    model_ids                 rmse\n",
       "--  ---------------  -----------------  ----------------  ----------------  ------------  ------------------------  --------\n",
       "    10000            0.95               0.5               1e-06             0.8           rate_random_grid_model_3  0.429925\n",
       "    5000             0.999              0.7               1e-05             0.9           rate_random_grid_model_2  0.431099\n",
       "    10000            0.95               0.9               1e-05             0.8           rate_random_grid_model_1  0.432719\n",
       "    100000           0.999              0.9               1e-07             0.8           rate_random_grid_model_4  0.440691"
      ]
     },
     "metadata": {},
     "output_type": "display_data"
    },
    {
     "name": "stdout",
     "output_type": "stream",
     "text": [
      "\n"
     ]
    },
    {
     "data": {
      "text/plain": []
     },
     "execution_count": 46,
     "metadata": {},
     "output_type": "execute_result"
    }
   ],
   "source": [
    "dl_grid.get_grid(sort_by='rmse', decreasing=False)"
   ]
  },
  {
   "cell_type": "markdown",
   "metadata": {},
   "source": [
    "各ハイパーパラメータに関して\n",
    "- rate_annealing - [ドキュメント](http://docs.h2o.ai/h2o/latest-stable/h2o-docs/data-science/algo-params/rate_annealing.html)、[APIドキュメント](https://docs.h2o.ai/h2o/latest-stable/h2o-py/docs/modeling.html#h2o.estimators.deeplearning.H2ODeepLearningEstimator.rate_annealing)\n",
    "- rate_decay - [ドキュメント](http://docs.h2o.ai/h2o/latest-stable/h2o-docs/data-science/algo-params/rate_decay.html)、[APIドキュメント](https://docs.h2o.ai/h2o/latest-stable/h2o-py/docs/modeling.html#h2o.estimators.deeplearning.H2ODeepLearningEstimator.rate_decay)\n",
    "- momentum_ramp - [APIドキュメント](https://docs.h2o.ai/h2o/latest-stable/h2o-py/docs/modeling.html#h2o.estimators.deeplearning.H2ODeepLearningEstimator.momentum_ramp)\n",
    "- momentum_stable - [APIドキュメント](https://docs.h2o.ai/h2o/latest-stable/h2o-py/docs/modeling.html#h2o.estimators.deeplearning.H2ODeepLearningEstimator.momentum_stable)\n",
    "- momentum_start - [APIドキュメント](https://docs.h2o.ai/h2o/latest-stable/h2o-py/docs/modeling.html#h2o.estimators.deeplearning.H2ODeepLearningEstimator.momentum_start)\n",
    "  \n",
    "[H2OGridSearchにおいてNNがサポートするハイパーパラメーター一覧](http://docs.h2o.ai/h2o/latest-stable/h2o-docs/grid-search.html#deep-learning-hyperparameters)"
   ]
  },
  {
   "cell_type": "markdown",
   "metadata": {},
   "source": [
    "[Ckeckpoint](http://docs.h2o.ai/h2o/latest-stable/h2o-docs/data-science/algo-params/checkpoint.html#checkpoint)機能を用いると、例えばエポック数などを増やして、学習を再開することができる  \n",
    "（変更できないハイパーパラメータは、再学習を実施るモデル設定を合わせる必要がある）"
   ]
  },
  {
   "cell_type": "code",
   "execution_count": 56,
   "metadata": {
    "scrolled": false
   },
   "outputs": [
    {
     "name": "stdout",
     "output_type": "stream",
     "text": [
      "deeplearning Model Build progress: |██████████████████████████████████████| 100%\n",
      "CPU times: user 2.55 s, sys: 119 ms, total: 2.67 s\n",
      "Wall time: 12min 12s\n"
     ]
    }
   ],
   "source": [
    "best_dl_model = dl_grid.models[0]\n",
    "\n",
    "dl_checkpoint = H2ODeepLearningEstimator(checkpoint=best_dl_model.model_id,\n",
    "                                         epochs=200,\n",
    "                                         hidden=[165],\n",
    "                                         seed=42,\n",
    "                                         model_id='DL_checkpoint',\n",
    "                                         activation = 'rectifier_with_dropout',\n",
    "                                         hidden_dropout_ratios=[0.3],\n",
    "                                         distribution='auto',\n",
    "                                         adaptive_rate=False,\n",
    "                                         l2=1e-5,\n",
    "                                         rate=0.0015,\n",
    "                                         momentum_ramp=10000,\n",
    "                                         momentum_stable=0.95,\n",
    "                                         momentum_start=0.5,\n",
    "                                         rate_annealing=1.0e-6,\n",
    "                                         rate_decay=0.8,\n",
    "                                         reproducible=True,\n",
    "                                         stopping_metric='RMSE',\n",
    "                                         stopping_tolerance=0.0005,\n",
    "                                         stopping_rounds=5)\n",
    "\n",
    "%time dl_checkpoint.train(x=x, y=y, training_frame=train, validation_frame=valid)"
   ]
  },
  {
   "cell_type": "code",
   "execution_count": 57,
   "metadata": {},
   "outputs": [
    {
     "name": "stdout",
     "output_type": "stream",
     "text": [
      "Default DL Model RMSE: 0.4415 \n",
      "Tuned DL Model RMSE:0.4167\n"
     ]
    }
   ],
   "source": [
    "#> validデータに対する結果取得\n",
    "tuned_dl_per = dl_checkpoint.model_performance(valid)\n",
    "print(\"Default DL Model RMSE: %.4f \\nTuned DL Model RMSE:%.4f\" % (default_dl_per.rmse(), tuned_dl_per.rmse()))"
   ]
  },
  {
   "cell_type": "code",
   "execution_count": 58,
   "metadata": {},
   "outputs": [
    {
     "name": "stdout",
     "output_type": "stream",
     "text": [
      "Default DL Model MAE: 0.3220 \n",
      "Tuned DL Model MAE:0.3034\n"
     ]
    }
   ],
   "source": [
    "print(\"Default DL Model MAE: %.4f \\nTuned DL Model MAE:%.4f\" % (default_dl_per.mae(), tuned_dl_per.mae()))"
   ]
  },
  {
   "cell_type": "markdown",
   "metadata": {},
   "source": [
    "(参考) [The Definitive Performance Tuning Guide for H2O Deep Learning](https://www.h2o.ai/blog/deep-learning-performance/)"
   ]
  },
  {
   "cell_type": "markdown",
   "metadata": {},
   "source": [
    "***"
   ]
  },
  {
   "cell_type": "markdown",
   "metadata": {},
   "source": [
    "<a id='TestSetPerformance'></a>\n",
    "### Test Set Performance\n",
    "各チューニング済みのモデルを、testデータで評価"
   ]
  },
  {
   "cell_type": "code",
   "execution_count": 59,
   "metadata": {},
   "outputs": [],
   "source": [
    "dl_test_per = dl_checkpoint.model_performance(test)\n",
    "xgb_test_per = best_xgb_model.model_performance(test)"
   ]
  },
  {
   "cell_type": "code",
   "execution_count": 60,
   "metadata": {},
   "outputs": [
    {
     "name": "stdout",
     "output_type": "stream",
     "text": [
      "XGBoost Test RMSE: 0.4186  \n",
      "Deep Learning Model Test RMSE: 0.4195 \n"
     ]
    }
   ],
   "source": [
    "print(\"XGBoost Test RMSE: %.4f  \\nDeep Learning Model Test RMSE: %.4f \" % \n",
    "      (xgb_test_per.rmse(), dl_test_per.rmse()))"
   ]
  },
  {
   "cell_type": "code",
   "execution_count": 61,
   "metadata": {},
   "outputs": [
    {
     "name": "stdout",
     "output_type": "stream",
     "text": [
      "XGBoost Test MAE: 0.3027  \n",
      "Deep Learning model Test MAE: 0.3043 \n"
     ]
    }
   ],
   "source": [
    "print(\"XGBoost Test MAE: %.4f  \\nDeep Learning model Test MAE: %.4f \" % \n",
    "      (xgb_test_per.mae(), dl_test_per.mae()))"
   ]
  },
  {
   "cell_type": "code",
   "execution_count": 62,
   "metadata": {},
   "outputs": [
    {
     "name": "stdout",
     "output_type": "stream",
     "text": [
      "xgboost prediction progress: |████████████████████████████████████████████| 100%\n",
      "deeplearning prediction progress: |███████████████████████████████████████| 100%\n"
     ]
    },
    {
     "data": {
      "text/html": [
       "<table>\n",
       "<thead>\n",
       "<tr><th style=\"text-align: right;\">  ORIGINAL_INTEREST_RATE</th><th style=\"text-align: right;\">  predict</th><th style=\"text-align: right;\">  predict0</th></tr>\n",
       "</thead>\n",
       "<tbody>\n",
       "<tr><td style=\"text-align: right;\">                   6    </td><td style=\"text-align: right;\">  6.89636</td><td style=\"text-align: right;\">   6.64099</td></tr>\n",
       "<tr><td style=\"text-align: right;\">                   6    </td><td style=\"text-align: right;\">  6.01663</td><td style=\"text-align: right;\">   6.32129</td></tr>\n",
       "<tr><td style=\"text-align: right;\">                   7.25 </td><td style=\"text-align: right;\">  7.0443 </td><td style=\"text-align: right;\">   7.0197 </td></tr>\n",
       "<tr><td style=\"text-align: right;\">                   7.125</td><td style=\"text-align: right;\">  7.07205</td><td style=\"text-align: right;\">   7.06152</td></tr>\n",
       "<tr><td style=\"text-align: right;\">                   7.125</td><td style=\"text-align: right;\">  7.0946 </td><td style=\"text-align: right;\">   7.15538</td></tr>\n",
       "<tr><td style=\"text-align: right;\">                   7.75 </td><td style=\"text-align: right;\">  6.87908</td><td style=\"text-align: right;\">   7.01356</td></tr>\n",
       "<tr><td style=\"text-align: right;\">                   6.99 </td><td style=\"text-align: right;\">  6.97976</td><td style=\"text-align: right;\">   6.84076</td></tr>\n",
       "<tr><td style=\"text-align: right;\">                   7.125</td><td style=\"text-align: right;\">  7.19556</td><td style=\"text-align: right;\">   7.18578</td></tr>\n",
       "<tr><td style=\"text-align: right;\">                   7.25 </td><td style=\"text-align: right;\">  6.99696</td><td style=\"text-align: right;\">   7.09463</td></tr>\n",
       "<tr><td style=\"text-align: right;\">                   7.125</td><td style=\"text-align: right;\">  6.89005</td><td style=\"text-align: right;\">   6.91161</td></tr>\n",
       "</tbody>\n",
       "</table>"
      ]
     },
     "metadata": {},
     "output_type": "display_data"
    },
    {
     "data": {
      "text/plain": []
     },
     "execution_count": 62,
     "metadata": {},
     "output_type": "execute_result"
    }
   ],
   "source": [
    "xgb_tuned_pred = best_xgb_model.predict(test)  # xgboostによる予測値\n",
    "test_rate_pred=test['ORIGINAL_INTEREST_RATE'].cbind(xgb_tuned_pred)  # 実測値と結合\n",
    "dl_tuned_pred = dl_checkpoint.predict(test)  # NNによる予測値\n",
    "test_rate_pred.cbind(dl_tuned_pred)"
   ]
  },
  {
   "cell_type": "code",
   "execution_count": 63,
   "metadata": {},
   "outputs": [
    {
     "name": "stdout",
     "output_type": "stream",
     "text": [
      "H2O session _sid_a0d0 closed.\n"
     ]
    }
   ],
   "source": [
    "#> H2Oクラスターの終了\n",
    "h2o.cluster().shutdown()"
   ]
  },
  {
   "cell_type": "code",
   "execution_count": null,
   "metadata": {},
   "outputs": [],
   "source": []
  }
 ],
 "metadata": {
  "kernelspec": {
   "display_name": "Python 3",
   "language": "python",
   "name": "python3"
  },
  "language_info": {
   "codemirror_mode": {
    "name": "ipython",
    "version": 3
   },
   "file_extension": ".py",
   "mimetype": "text/x-python",
   "name": "python",
   "nbconvert_exporter": "python",
   "pygments_lexer": "ipython3",
   "version": "3.6.12"
  }
 },
 "nbformat": 4,
 "nbformat_minor": 4
}
