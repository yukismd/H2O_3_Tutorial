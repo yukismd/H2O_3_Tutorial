{
 "cells": [
  {
   "cell_type": "markdown",
   "metadata": {},
   "source": [
    "## H2O-3 Regression Tutorial"
   ]
  },
  {
   "cell_type": "markdown",
   "metadata": {},
   "source": [
    "[**1B. Introduction to Machine Learning with H2O-3 - Regression**](https://training.h2o.ai/products/1b-introduction-to-machine-learning-with-h2o-3-regression)に沿ったチュートリアル"
   ]
  },
  {
   "cell_type": "markdown",
   "metadata": {},
   "source": [
    "[**H2O 3 - ドキュメント**](http://docs.h2o.ai/h2o/latest-stable/h2o-docs/index.html)  \n",
    "[**Python - APIドキュメント**](https://docs.h2o.ai/h2o/latest-stable/h2o-py/docs/index.html)"
   ]
  },
  {
   "cell_type": "markdown",
   "metadata": {},
   "source": [
    "Linux上で実施（\n",
    "注意：[XGBoost(H2OXGBoostEstimator)はWindows上で動作しない](http://docs.h2o.ai/h2o/latest-stable/h2o-docs/data-science/xgboost.html#limitations)）"
   ]
  },
  {
   "cell_type": "markdown",
   "metadata": {},
   "source": [
    "#### 目次\n",
    "- [Initial Setup](#InitialSetup)\n",
    "    - パッケージのインポート\n",
    "    - H2Oクラスターの開始\n",
    "    - データのロード\n",
    "- [Start Experiment](#StartExperiment)\n",
    "    - データの確認\n",
    "    - 学習(train)/検証(valid)/テスト(test)データセットへの分割\n",
    "    - 利用変数の定義\n",
    "- [Build an XGBoost Model](#BuildXGBoostModel)\n",
    "    - XGBoostモデルの作成(デフォルト設定)と学習\n",
    "    - オリジナルのXGBoostとの比較（to do）\n",
    "    - 学習結果の確認\n",
    "    - train/validデータにおける精度確認\n",
    "- [Tune the XGBoost Model with H2O GridSearch](#TuneXGBoostModelGridSearch)\n",
    "    - XXX\n",
    "- [Test Set Performance](#TestSetPerformance)\n",
    "    - XXX\n",
    "    - H2Oクラスターの停止\n",
    "- [H2O-3の特徴](#H2O-3の特徴)"
   ]
  },
  {
   "cell_type": "markdown",
   "metadata": {},
   "source": [
    "***"
   ]
  },
  {
   "cell_type": "markdown",
   "metadata": {},
   "source": [
    "<a id='InitialSetup'></a>\n",
    "### Initial Setup"
   ]
  },
  {
   "cell_type": "code",
   "execution_count": 1,
   "metadata": {},
   "outputs": [],
   "source": [
    "#Import H2O and other libraries that will be used in this tutorial \n",
    "import h2o\n",
    "import matplotlib as plt\n",
    "%matplotlib inline\n",
    "\n",
    "#Import the Estimators\n",
    "from h2o.estimators.deeplearning import H2ODeepLearningEstimator\n",
    "from h2o.estimators import H2OXGBoostEstimator\n",
    "\n",
    "#Import h2o grid search \n",
    "import h2o.grid \n",
    "from h2o.grid.grid_search import H2OGridSearch"
   ]
  },
  {
   "cell_type": "code",
   "execution_count": 2,
   "metadata": {},
   "outputs": [
    {
     "name": "stdout",
     "output_type": "stream",
     "text": [
      "3.30.1.2\n"
     ]
    }
   ],
   "source": [
    "#> h2oパッケージのバージョン確認\n",
    "print(h2o.__version__)"
   ]
  },
  {
   "cell_type": "code",
   "execution_count": 3,
   "metadata": {},
   "outputs": [
    {
     "name": "stdout",
     "output_type": "stream",
     "text": [
      "Checking whether there is an H2O instance running at http://localhost:54321 ..... not found.\n",
      "Attempting to start a local H2O server...\n",
      "  Java Version: java version \"1.8.0_261\"; Java(TM) SE Runtime Environment (build 1.8.0_261-b12); Java HotSpot(TM) 64-Bit Server VM (build 25.261-b12, mixed mode)\n",
      "  Starting server from /home/ec2-user/anaconda3/envs/h2o_3/lib/python3.6/site-packages/h2o/backend/bin/h2o.jar\n",
      "  Ice root: /tmp/tmpldn5_65u\n",
      "  JVM stdout: /tmp/tmpldn5_65u/h2o_ec2_user_started_from_python.out\n",
      "  JVM stderr: /tmp/tmpldn5_65u/h2o_ec2_user_started_from_python.err\n",
      "  Server is running at http://127.0.0.1:54321\n",
      "Connecting to H2O server at http://127.0.0.1:54321 ... successful.\n"
     ]
    },
    {
     "data": {
      "text/html": [
       "<div style=\"overflow:auto\"><table style=\"width:50%\"><tr><td>H2O_cluster_uptime:</td>\n",
       "<td>02 secs</td></tr>\n",
       "<tr><td>H2O_cluster_timezone:</td>\n",
       "<td>Asia/Tokyo</td></tr>\n",
       "<tr><td>H2O_data_parsing_timezone:</td>\n",
       "<td>UTC</td></tr>\n",
       "<tr><td>H2O_cluster_version:</td>\n",
       "<td>3.30.1.2</td></tr>\n",
       "<tr><td>H2O_cluster_version_age:</td>\n",
       "<td>10 days </td></tr>\n",
       "<tr><td>H2O_cluster_name:</td>\n",
       "<td>H2O_from_python_ec2_user_1t8dmv</td></tr>\n",
       "<tr><td>H2O_cluster_total_nodes:</td>\n",
       "<td>1</td></tr>\n",
       "<tr><td>H2O_cluster_free_memory:</td>\n",
       "<td>1.677 Gb</td></tr>\n",
       "<tr><td>H2O_cluster_total_cores:</td>\n",
       "<td>2</td></tr>\n",
       "<tr><td>H2O_cluster_allowed_cores:</td>\n",
       "<td>2</td></tr>\n",
       "<tr><td>H2O_cluster_status:</td>\n",
       "<td>accepting new members, healthy</td></tr>\n",
       "<tr><td>H2O_connection_url:</td>\n",
       "<td>http://127.0.0.1:54321</td></tr>\n",
       "<tr><td>H2O_connection_proxy:</td>\n",
       "<td>{\"http\": null, \"https\": null}</td></tr>\n",
       "<tr><td>H2O_internal_security:</td>\n",
       "<td>False</td></tr>\n",
       "<tr><td>H2O_API_Extensions:</td>\n",
       "<td>Amazon S3, XGBoost, Algos, AutoML, Core V3, TargetEncoder, Core V4</td></tr>\n",
       "<tr><td>Python_version:</td>\n",
       "<td>3.6.12 final</td></tr></table></div>"
      ],
      "text/plain": [
       "--------------------------  ------------------------------------------------------------------\n",
       "H2O_cluster_uptime:         02 secs\n",
       "H2O_cluster_timezone:       Asia/Tokyo\n",
       "H2O_data_parsing_timezone:  UTC\n",
       "H2O_cluster_version:        3.30.1.2\n",
       "H2O_cluster_version_age:    10 days\n",
       "H2O_cluster_name:           H2O_from_python_ec2_user_1t8dmv\n",
       "H2O_cluster_total_nodes:    1\n",
       "H2O_cluster_free_memory:    1.677 Gb\n",
       "H2O_cluster_total_cores:    2\n",
       "H2O_cluster_allowed_cores:  2\n",
       "H2O_cluster_status:         accepting new members, healthy\n",
       "H2O_connection_url:         http://127.0.0.1:54321\n",
       "H2O_connection_proxy:       {\"http\": null, \"https\": null}\n",
       "H2O_internal_security:      False\n",
       "H2O_API_Extensions:         Amazon S3, XGBoost, Algos, AutoML, Core V3, TargetEncoder, Core V4\n",
       "Python_version:             3.6.12 final\n",
       "--------------------------  ------------------------------------------------------------------"
      ]
     },
     "metadata": {},
     "output_type": "display_data"
    }
   ],
   "source": [
    "#> H2Oクラスターの開始\n",
    "h2o.init(url='http://localhost:54321')"
   ]
  },
  {
   "cell_type": "code",
   "execution_count": 4,
   "metadata": {},
   "outputs": [
    {
     "name": "stdout",
     "output_type": "stream",
     "text": [
      "Parse progress: |█████████████████████████████████████████████████████████| 100%\n"
     ]
    }
   ],
   "source": [
    "#> データのロード\n",
    "loan_level = h2o.import_file(\"https://s3.amazonaws.com/data.h2o.ai/DAI-Tutorials/loan_level_500k.csv\")"
   ]
  },
  {
   "cell_type": "markdown",
   "metadata": {},
   "source": [
    "連邦住宅金融抵当公庫(Freddie Mac)が提供する約20年間(1999/1-2018/12)の住宅ローン(Fixed-Rate Mortgages)の履歴データ。金利をターゲット変数として回帰の説明に使用する。  \n",
    "  \n",
    "[Data Reference](http://www.freddiemac.com/research/datasets/sf_loanlevel_dataset.page)  \n",
    "[変数等データ詳細に関して](http://www.freddiemac.com/fmac-resources/research/pdf/user_guide.pdf)  \n",
    "  \n",
    "行数:500,137、列数:27（約80MB）"
   ]
  },
  {
   "cell_type": "markdown",
   "metadata": {},
   "source": [
    "***"
   ]
  },
  {
   "cell_type": "markdown",
   "metadata": {},
   "source": [
    "<a id='StartExperiment'></a>\n",
    "### Start Experiment"
   ]
  },
  {
   "cell_type": "code",
   "execution_count": 5,
   "metadata": {},
   "outputs": [
    {
     "data": {
      "text/html": [
       "<table>\n",
       "<thead>\n",
       "<tr><th style=\"text-align: right;\">  CREDIT_SCORE</th><th style=\"text-align: right;\">  FIRST_PAYMENT_DATE</th><th>FIRST_TIME_HOMEBUYER_FLAG  </th><th style=\"text-align: right;\">  MATURITY_DATE</th><th style=\"text-align: right;\">  METROPOLITAN_STATISTICAL_AREA</th><th style=\"text-align: right;\">  MORTGAGE_INSURANCE_PERCENTAGE</th><th style=\"text-align: right;\">  NUMBER_OF_UNITS</th><th>OCCUPANCY_STATUS  </th><th style=\"text-align: right;\">  ORIGINAL_COMBINED_LOAN_TO_VALUE</th><th style=\"text-align: right;\">  ORIGINAL_DEBT_TO_INCOME_RATIO</th><th style=\"text-align: right;\">  ORIGINAL_UPB</th><th style=\"text-align: right;\">  ORIGINAL_LOAN_TO_VALUE</th><th style=\"text-align: right;\">  ORIGINAL_INTEREST_RATE</th><th>CHANNEL  </th><th>PREPAYMENT_PENALTY_MORTGAGE_FLAG  </th><th>PRODUCT_TYPE  </th><th>PROPERTY_STATE  </th><th>PROPERTY_TYPE  </th><th style=\"text-align: right;\">  POSTAL_CODE</th><th>LOAN_SEQUENCE_NUMBER  </th><th>LOAN_PURPOSE  </th><th style=\"text-align: right;\">  ORIGINAL_LOAN_TERM</th><th style=\"text-align: right;\">  NUMBER_OF_BORROWERS</th><th>SELLER_NAME  </th><th>SERVICER_NAME  </th><th>PREPAID  </th><th>DELINQUENT  </th></tr>\n",
       "</thead>\n",
       "<tbody>\n",
       "<tr><td style=\"text-align: right;\">           669</td><td style=\"text-align: right;\">              200206</td><td>N                          </td><td style=\"text-align: right;\">         202901</td><td style=\"text-align: right;\">                            nan</td><td style=\"text-align: right;\">                              0</td><td style=\"text-align: right;\">                1</td><td>O                 </td><td style=\"text-align: right;\">                               80</td><td style=\"text-align: right;\">                             33</td><td style=\"text-align: right;\">        162000</td><td style=\"text-align: right;\">                      80</td><td style=\"text-align: right;\">                   7.12 </td><td>R        </td><td>N                                 </td><td>FRM           </td><td>WV              </td><td>SF             </td><td style=\"text-align: right;\">        26100</td><td>F199Q1000004          </td><td>P             </td><td style=\"text-align: right;\">                 320</td><td style=\"text-align: right;\">                    2</td><td>Other sellers</td><td>Other servicers</td><td>TRUE     </td><td>FALSE       </td></tr>\n",
       "<tr><td style=\"text-align: right;\">           732</td><td style=\"text-align: right;\">              199904</td><td>N                          </td><td style=\"text-align: right;\">         202903</td><td style=\"text-align: right;\">                          17140</td><td style=\"text-align: right;\">                              0</td><td style=\"text-align: right;\">                1</td><td>O                 </td><td style=\"text-align: right;\">                               25</td><td style=\"text-align: right;\">                             10</td><td style=\"text-align: right;\">         53000</td><td style=\"text-align: right;\">                      25</td><td style=\"text-align: right;\">                   6.5  </td><td>R        </td><td>N                                 </td><td>FRM           </td><td>OH              </td><td>SF             </td><td style=\"text-align: right;\">        45200</td><td>F199Q1000005          </td><td>N             </td><td style=\"text-align: right;\">                 360</td><td style=\"text-align: right;\">                    1</td><td>Other sellers</td><td>Other servicers</td><td>TRUE     </td><td>FALSE       </td></tr>\n",
       "<tr><td style=\"text-align: right;\">           679</td><td style=\"text-align: right;\">              200208</td><td>N                          </td><td style=\"text-align: right;\">         202902</td><td style=\"text-align: right;\">                          15940</td><td style=\"text-align: right;\">                             30</td><td style=\"text-align: right;\">                1</td><td>O                 </td><td style=\"text-align: right;\">                               91</td><td style=\"text-align: right;\">                             48</td><td style=\"text-align: right;\">        133000</td><td style=\"text-align: right;\">                      91</td><td style=\"text-align: right;\">                   6.75 </td><td>R        </td><td>N                                 </td><td>FRM           </td><td>OH              </td><td>SF             </td><td style=\"text-align: right;\">        44700</td><td>F199Q1000007          </td><td>P             </td><td style=\"text-align: right;\">                 319</td><td style=\"text-align: right;\">                    1</td><td>Other sellers</td><td>Other servicers</td><td>TRUE     </td><td>FALSE       </td></tr>\n",
       "<tr><td style=\"text-align: right;\">           721</td><td style=\"text-align: right;\">              200209</td><td>N                          </td><td style=\"text-align: right;\">         202902</td><td style=\"text-align: right;\">                          38060</td><td style=\"text-align: right;\">                              0</td><td style=\"text-align: right;\">                1</td><td>O                 </td><td style=\"text-align: right;\">                               39</td><td style=\"text-align: right;\">                             13</td><td style=\"text-align: right;\">        174000</td><td style=\"text-align: right;\">                      39</td><td style=\"text-align: right;\">                   6.625</td><td>T        </td><td>N                                 </td><td>FRM           </td><td>AZ              </td><td>SF             </td><td style=\"text-align: right;\">        85200</td><td>F199Q1000013          </td><td>N             </td><td style=\"text-align: right;\">                 318</td><td style=\"text-align: right;\">                    2</td><td>Other sellers</td><td>Other servicers</td><td>TRUE     </td><td>FALSE       </td></tr>\n",
       "<tr><td style=\"text-align: right;\">           618</td><td style=\"text-align: right;\">              200210</td><td>N                          </td><td style=\"text-align: right;\">         202902</td><td style=\"text-align: right;\">                          10420</td><td style=\"text-align: right;\">                             25</td><td style=\"text-align: right;\">                1</td><td>O                 </td><td style=\"text-align: right;\">                               85</td><td style=\"text-align: right;\">                             24</td><td style=\"text-align: right;\">        122000</td><td style=\"text-align: right;\">                      85</td><td style=\"text-align: right;\">                   6.375</td><td>R        </td><td>N                                 </td><td>FRM           </td><td>OH              </td><td>SF             </td><td style=\"text-align: right;\">        44200</td><td>F199Q1000015          </td><td>N             </td><td style=\"text-align: right;\">                 317</td><td style=\"text-align: right;\">                    2</td><td>Other sellers</td><td>Other servicers</td><td>TRUE     </td><td>FALSE       </td></tr>\n",
       "<tr><td style=\"text-align: right;\">           738</td><td style=\"text-align: right;\">              200211</td><td>N                          </td><td style=\"text-align: right;\">         202903</td><td style=\"text-align: right;\">                          10420</td><td style=\"text-align: right;\">                              0</td><td style=\"text-align: right;\">                1</td><td>O                 </td><td style=\"text-align: right;\">                               73</td><td style=\"text-align: right;\">                             44</td><td style=\"text-align: right;\">        218000</td><td style=\"text-align: right;\">                      73</td><td style=\"text-align: right;\">                   6    </td><td>R        </td><td>N                                 </td><td>FRM           </td><td>OH              </td><td>SF             </td><td style=\"text-align: right;\">        44300</td><td>F199Q1000016          </td><td>P             </td><td style=\"text-align: right;\">                 317</td><td style=\"text-align: right;\">                    2</td><td>Other sellers</td><td>Other servicers</td><td>TRUE     </td><td>FALSE       </td></tr>\n",
       "<tr><td style=\"text-align: right;\">           761</td><td style=\"text-align: right;\">              200211</td><td>N                          </td><td style=\"text-align: right;\">         202904</td><td style=\"text-align: right;\">                            nan</td><td style=\"text-align: right;\">                              0</td><td style=\"text-align: right;\">                1</td><td>O                 </td><td style=\"text-align: right;\">                               73</td><td style=\"text-align: right;\">                             31</td><td style=\"text-align: right;\">        138000</td><td style=\"text-align: right;\">                      73</td><td style=\"text-align: right;\">                   6.375</td><td>R        </td><td>N                                 </td><td>FRM           </td><td>SC              </td><td>PU             </td><td style=\"text-align: right;\">        29500</td><td>F199Q1000017          </td><td>P             </td><td style=\"text-align: right;\">                 318</td><td style=\"text-align: right;\">                    2</td><td>Other sellers</td><td>Other servicers</td><td>TRUE     </td><td>FALSE       </td></tr>\n",
       "<tr><td style=\"text-align: right;\">           707</td><td style=\"text-align: right;\">              200211</td><td>N                          </td><td style=\"text-align: right;\">         202903</td><td style=\"text-align: right;\">                          33340</td><td style=\"text-align: right;\">                              0</td><td style=\"text-align: right;\">                1</td><td>O                 </td><td style=\"text-align: right;\">                               60</td><td style=\"text-align: right;\">                             57</td><td style=\"text-align: right;\">        136000</td><td style=\"text-align: right;\">                      60</td><td style=\"text-align: right;\">                   6.25 </td><td>R        </td><td>N                                 </td><td>FRM           </td><td>WI              </td><td>SF             </td><td style=\"text-align: right;\">        53000</td><td>F199Q1000018          </td><td>C             </td><td style=\"text-align: right;\">                 317</td><td style=\"text-align: right;\">                    2</td><td>Other sellers</td><td>Other servicers</td><td>TRUE     </td><td>FALSE       </td></tr>\n",
       "<tr><td style=\"text-align: right;\">           760</td><td style=\"text-align: right;\">              200211</td><td>N                          </td><td style=\"text-align: right;\">         202903</td><td style=\"text-align: right;\">                          33340</td><td style=\"text-align: right;\">                              0</td><td style=\"text-align: right;\">                1</td><td>O                 </td><td style=\"text-align: right;\">                               63</td><td style=\"text-align: right;\">                             30</td><td style=\"text-align: right;\">         79000</td><td style=\"text-align: right;\">                      63</td><td style=\"text-align: right;\">                   6.125</td><td>R        </td><td>N                                 </td><td>FRM           </td><td>WI              </td><td>SF             </td><td style=\"text-align: right;\">        53000</td><td>F199Q1000019          </td><td>N             </td><td style=\"text-align: right;\">                 317</td><td style=\"text-align: right;\">                    2</td><td>Other sellers</td><td>Other servicers</td><td>TRUE     </td><td>FALSE       </td></tr>\n",
       "<tr><td style=\"text-align: right;\">           691</td><td style=\"text-align: right;\">              200302</td><td>N                          </td><td style=\"text-align: right;\">         202901</td><td style=\"text-align: right;\">                          15940</td><td style=\"text-align: right;\">                              0</td><td style=\"text-align: right;\">                1</td><td>O                 </td><td style=\"text-align: right;\">                               65</td><td style=\"text-align: right;\">                             25</td><td style=\"text-align: right;\">        130000</td><td style=\"text-align: right;\">                      65</td><td style=\"text-align: right;\">                   5.875</td><td>R        </td><td>N                                 </td><td>FRM           </td><td>OH              </td><td>SF             </td><td style=\"text-align: right;\">        44700</td><td>F199Q1000023          </td><td>P             </td><td style=\"text-align: right;\">                 312</td><td style=\"text-align: right;\">                    2</td><td>Other sellers</td><td>Other servicers</td><td>TRUE     </td><td>FALSE       </td></tr>\n",
       "</tbody>\n",
       "</table>"
      ]
     },
     "metadata": {},
     "output_type": "display_data"
    },
    {
     "data": {
      "text/plain": []
     },
     "execution_count": 5,
     "metadata": {},
     "output_type": "execute_result"
    }
   ],
   "source": [
    "loan_level.head()"
   ]
  },
  {
   "cell_type": "markdown",
   "metadata": {},
   "source": [
    "ターゲット変数として利用する「金利(ORIGINAL_INTEREST_RATE)」の分布の確認"
   ]
  },
  {
   "cell_type": "code",
   "execution_count": 7,
   "metadata": {},
   "outputs": [
    {
     "name": "stdout",
     "output_type": "stream",
     "text": [
      "Rows:500137\n",
      "Cols:1\n",
      "\n",
      "\n"
     ]
    },
    {
     "data": {
      "text/html": [
       "<table>\n",
       "<thead>\n",
       "<tr><th>       </th><th>ORIGINAL_INTEREST_RATE  </th></tr>\n",
       "</thead>\n",
       "<tbody>\n",
       "<tr><td>type   </td><td>real                    </td></tr>\n",
       "<tr><td>mins   </td><td>4.625                   </td></tr>\n",
       "<tr><td>mean   </td><td>7.182686863799322       </td></tr>\n",
       "<tr><td>maxs   </td><td>11.5                    </td></tr>\n",
       "<tr><td>sigma  </td><td>0.5799408623980744      </td></tr>\n",
       "<tr><td>zeros  </td><td>0                       </td></tr>\n",
       "<tr><td>missing</td><td>0                       </td></tr>\n",
       "<tr><td>0      </td><td>7.12                    </td></tr>\n",
       "<tr><td>1      </td><td>6.5                     </td></tr>\n",
       "<tr><td>2      </td><td>6.75                    </td></tr>\n",
       "<tr><td>3      </td><td>6.625                   </td></tr>\n",
       "<tr><td>4      </td><td>6.375                   </td></tr>\n",
       "<tr><td>5      </td><td>6.0                     </td></tr>\n",
       "<tr><td>6      </td><td>6.375                   </td></tr>\n",
       "<tr><td>7      </td><td>6.25                    </td></tr>\n",
       "<tr><td>8      </td><td>6.125                   </td></tr>\n",
       "<tr><td>9      </td><td>5.875                   </td></tr>\n",
       "</tbody>\n",
       "</table>"
      ]
     },
     "metadata": {},
     "output_type": "display_data"
    }
   ],
   "source": [
    "loan_level[\"ORIGINAL_INTEREST_RATE\"].describe()"
   ]
  },
  {
   "cell_type": "code",
   "execution_count": 8,
   "metadata": {},
   "outputs": [
    {
     "data": {
      "image/png": "[encoded data removed]",
      "text/plain": [
       "<Figure size 432x288 with 1 Axes>"
      ]
     },
     "metadata": {
      "needs_background": "light"
     },
     "output_type": "display_data"
    }
   ],
   "source": [
    "#> ヒストグラムによる分布の確認\n",
    "loan_level[\"ORIGINAL_INTEREST_RATE\"].hist()"
   ]
  },
  {
   "cell_type": "code",
   "execution_count": 9,
   "metadata": {},
   "outputs": [
    {
     "name": "stdout",
     "output_type": "stream",
     "text": [
      "＜train/valid/testのデータ数＞\n",
      "train:350268 valid:74971 test:74898\n"
     ]
    }
   ],
   "source": [
    "#> 学習/検証/テストデータセットへの分割（学習 : 検証 : テスト = 70% : 15% : 15%）\n",
    "train, valid, test = loan_level.split_frame([0.7, 0.15], seed=42)\n",
    "print(\"＜train/valid/testのデータ数＞\")\n",
    "print( \"train:%d valid:%d test:%d\" % (train.nrows, valid.nrows, test.nrows ))"
   ]
  },
  {
   "cell_type": "code",
   "execution_count": 10,
   "metadata": {},
   "outputs": [
    {
     "name": "stdout",
     "output_type": "stream",
     "text": [
      "['LOAN_PURPOSE', 'POSTAL_CODE', 'ORIGINAL_LOAN_TERM', 'ORIGINAL_UPB', 'CREDIT_SCORE', 'NUMBER_OF_BORROWERS', 'SELLER_NAME', 'OCCUPANCY_STATUS', 'CHANNEL', 'PROPERTY_STATE', 'METROPOLITAN_STATISTICAL_AREA', 'SERVICER_NAME', 'ORIGINAL_LOAN_TO_VALUE', 'FIRST_TIME_HOMEBUYER_FLAG', 'ORIGINAL_COMBINED_LOAN_TO_VALUE', 'NUMBER_OF_UNITS', 'PROPERTY_TYPE', 'ORIGINAL_DEBT_TO_INCOME_RATIO']\n"
     ]
    }
   ],
   "source": [
    "#> ターゲット変数、特徴量の定義\n",
    "y = \"ORIGINAL_INTEREST_RATE\"\n",
    "\n",
    "ignore = [\"ORIGINAL_INTEREST_RATE\", \n",
    "          \"FIRST_PAYMENT_DATE\", \n",
    "          \"MATURITY_DATE\", \n",
    "          \"MORTGAGE_INSURANCE_PERCENTAGE\", \n",
    "          \"PREPAYMENT_PENALTY_MORTGAGE_FLAG\", \n",
    "          \"LOAN_SEQUENCE_NUMBER\", \n",
    "          \"PREPAID\", \n",
    "          \"DELINQUENT\", \n",
    "          \"PRODUCT_TYPE\"] \n",
    "\n",
    "x = list(set(train.names) - set(ignore))\n",
    "print(x)"
   ]
  },
  {
   "cell_type": "code",
   "execution_count": 11,
   "metadata": {},
   "outputs": [
    {
     "name": "stdout",
     "output_type": "stream",
     "text": [
      "Rows:500137\n",
      "Cols:18\n",
      "\n",
      "\n"
     ]
    },
    {
     "data": {
      "text/html": [
       "<table>\n",
       "<thead>\n",
       "<tr><th>       </th><th>LOAN_PURPOSE  </th><th>POSTAL_CODE      </th><th>ORIGINAL_LOAN_TERM  </th><th>ORIGINAL_UPB      </th><th>CREDIT_SCORE     </th><th>NUMBER_OF_BORROWERS  </th><th>SELLER_NAME  </th><th>OCCUPANCY_STATUS  </th><th>CHANNEL  </th><th>PROPERTY_STATE  </th><th>METROPOLITAN_STATISTICAL_AREA  </th><th>SERVICER_NAME  </th><th>ORIGINAL_LOAN_TO_VALUE  </th><th>FIRST_TIME_HOMEBUYER_FLAG  </th><th>ORIGINAL_COMBINED_LOAN_TO_VALUE  </th><th>NUMBER_OF_UNITS    </th><th>PROPERTY_TYPE  </th><th>ORIGINAL_DEBT_TO_INCOME_RATIO  </th></tr>\n",
       "</thead>\n",
       "<tbody>\n",
       "<tr><td>type   </td><td>enum          </td><td>int              </td><td>int                 </td><td>int               </td><td>int              </td><td>int                  </td><td>enum         </td><td>enum              </td><td>enum     </td><td>enum            </td><td>int                            </td><td>enum           </td><td>int                     </td><td>enum                       </td><td>int                              </td><td>int                </td><td>enum           </td><td>int                            </td></tr>\n",
       "<tr><td>mins   </td><td>              </td><td>600.0            </td><td>301.0               </td><td>8000.0            </td><td>300.0            </td><td>1.0                  </td><td>             </td><td>                  </td><td>         </td><td>                </td><td>10180.0                        </td><td>               </td><td>6.0                     </td><td>                           </td><td>6.0                              </td><td>1.0                </td><td>               </td><td>1.0                            </td></tr>\n",
       "<tr><td>mean   </td><td>              </td><td>55490.8571382869 </td><td>359.8554696013299   </td><td>136493.48478516805</td><td>712.5362124215468</td><td>1.6302946648262713   </td><td>             </td><td>                  </td><td>         </td><td>                </td><td>30777.82473929504              </td><td>               </td><td>75.71071405720141       </td><td>                           </td><td>76.0535707144633                 </td><td>1.0288902574110184 </td><td>               </td><td>32.91754051870545              </td></tr>\n",
       "<tr><td>maxs   </td><td>              </td><td>99900.0          </td><td>362.0               </td><td>578000.0          </td><td>839.0            </td><td>2.0                  </td><td>             </td><td>                  </td><td>         </td><td>                </td><td>49740.0                        </td><td>               </td><td>100.0                   </td><td>                           </td><td>180.0                            </td><td>4.0                </td><td>               </td><td>65.0                           </td></tr>\n",
       "<tr><td>sigma  </td><td>              </td><td>29505.38225880303</td><td>1.9082507104186504  </td><td>60968.74306564561 </td><td>54.79126197408813</td><td>0.48272535304031594  </td><td>             </td><td>                  </td><td>         </td><td>                </td><td>11333.401144164478             </td><td>               </td><td>14.937717088968643      </td><td>                           </td><td>15.139986048512673               </td><td>0.21839057355939082</td><td>               </td><td>11.111799994455248             </td></tr>\n",
       "<tr><td>zeros  </td><td>              </td><td>0                </td><td>0                   </td><td>0                 </td><td>0                </td><td>0                    </td><td>             </td><td>                  </td><td>         </td><td>                </td><td>0                              </td><td>               </td><td>0                       </td><td>                           </td><td>0                                </td><td>0                  </td><td>               </td><td>0                              </td></tr>\n",
       "<tr><td>missing</td><td>0             </td><td>31               </td><td>0                   </td><td>0                 </td><td>2711             </td><td>247                  </td><td>0            </td><td>0                 </td><td>0        </td><td>0               </td><td>70149                          </td><td>0              </td><td>9                       </td><td>0                          </td><td>13                               </td><td>3                  </td><td>0              </td><td>14929                          </td></tr>\n",
       "<tr><td>0      </td><td>P             </td><td>26100.0          </td><td>320.0               </td><td>162000.0          </td><td>669.0            </td><td>2.0                  </td><td>Other sellers</td><td>O                 </td><td>R        </td><td>WV              </td><td>nan                            </td><td>Other servicers</td><td>80.0                    </td><td>N                          </td><td>80.0                             </td><td>1.0                </td><td>SF             </td><td>33.0                           </td></tr>\n",
       "<tr><td>1      </td><td>N             </td><td>45200.0          </td><td>360.0               </td><td>53000.0           </td><td>732.0            </td><td>1.0                  </td><td>Other sellers</td><td>O                 </td><td>R        </td><td>OH              </td><td>17140.0                        </td><td>Other servicers</td><td>25.0                    </td><td>N                          </td><td>25.0                             </td><td>1.0                </td><td>SF             </td><td>10.0                           </td></tr>\n",
       "<tr><td>2      </td><td>P             </td><td>44700.0          </td><td>319.0               </td><td>133000.0          </td><td>679.0            </td><td>1.0                  </td><td>Other sellers</td><td>O                 </td><td>R        </td><td>OH              </td><td>15940.0                        </td><td>Other servicers</td><td>91.0                    </td><td>N                          </td><td>91.0                             </td><td>1.0                </td><td>SF             </td><td>48.0                           </td></tr>\n",
       "<tr><td>3      </td><td>N             </td><td>85200.0          </td><td>318.0               </td><td>174000.0          </td><td>721.0            </td><td>2.0                  </td><td>Other sellers</td><td>O                 </td><td>T        </td><td>AZ              </td><td>38060.0                        </td><td>Other servicers</td><td>39.0                    </td><td>N                          </td><td>39.0                             </td><td>1.0                </td><td>SF             </td><td>13.0                           </td></tr>\n",
       "<tr><td>4      </td><td>N             </td><td>44200.0          </td><td>317.0               </td><td>122000.0          </td><td>618.0            </td><td>2.0                  </td><td>Other sellers</td><td>O                 </td><td>R        </td><td>OH              </td><td>10420.0                        </td><td>Other servicers</td><td>85.0                    </td><td>N                          </td><td>85.0                             </td><td>1.0                </td><td>SF             </td><td>24.0                           </td></tr>\n",
       "<tr><td>5      </td><td>P             </td><td>44300.0          </td><td>317.0               </td><td>218000.0          </td><td>738.0            </td><td>2.0                  </td><td>Other sellers</td><td>O                 </td><td>R        </td><td>OH              </td><td>10420.0                        </td><td>Other servicers</td><td>73.0                    </td><td>N                          </td><td>73.0                             </td><td>1.0                </td><td>SF             </td><td>44.0                           </td></tr>\n",
       "<tr><td>6      </td><td>P             </td><td>29500.0          </td><td>318.0               </td><td>138000.0          </td><td>761.0            </td><td>2.0                  </td><td>Other sellers</td><td>O                 </td><td>R        </td><td>SC              </td><td>nan                            </td><td>Other servicers</td><td>73.0                    </td><td>N                          </td><td>73.0                             </td><td>1.0                </td><td>PU             </td><td>31.0                           </td></tr>\n",
       "<tr><td>7      </td><td>C             </td><td>53000.0          </td><td>317.0               </td><td>136000.0          </td><td>707.0            </td><td>2.0                  </td><td>Other sellers</td><td>O                 </td><td>R        </td><td>WI              </td><td>33340.0                        </td><td>Other servicers</td><td>60.0                    </td><td>N                          </td><td>60.0                             </td><td>1.0                </td><td>SF             </td><td>57.0                           </td></tr>\n",
       "<tr><td>8      </td><td>N             </td><td>53000.0          </td><td>317.0               </td><td>79000.0           </td><td>760.0            </td><td>2.0                  </td><td>Other sellers</td><td>O                 </td><td>R        </td><td>WI              </td><td>33340.0                        </td><td>Other servicers</td><td>63.0                    </td><td>N                          </td><td>63.0                             </td><td>1.0                </td><td>SF             </td><td>30.0                           </td></tr>\n",
       "<tr><td>9      </td><td>P             </td><td>44700.0          </td><td>312.0               </td><td>130000.0          </td><td>691.0            </td><td>2.0                  </td><td>Other sellers</td><td>O                 </td><td>R        </td><td>OH              </td><td>15940.0                        </td><td>Other servicers</td><td>65.0                    </td><td>N                          </td><td>65.0                             </td><td>1.0                </td><td>SF             </td><td>25.0                           </td></tr>\n",
       "</tbody>\n",
       "</table>"
      ]
     },
     "metadata": {},
     "output_type": "display_data"
    }
   ],
   "source": [
    "loan_level[x].describe()"
   ]
  },
  {
   "cell_type": "markdown",
   "metadata": {},
   "source": [
    "***"
   ]
  },
  {
   "cell_type": "markdown",
   "metadata": {},
   "source": [
    "<a id='BuildXGBoostModel'></a>\n",
    "### Build an XGBoost Model"
   ]
  },
  {
   "cell_type": "markdown",
   "metadata": {},
   "source": [
    "[**XGBoost - ドキュメント**](http://docs.h2o.ai/h2o/latest-stable/h2o-docs/data-science/xgboost.html#xgboost)  \n",
    "[**H2OXGBoostEstimator - APIドキュメント**](https://docs.h2o.ai/h2o/latest-stable/h2o-py/docs/modeling.html#h2oxgboostestimator)\n",
    "  \n",
    "H2O XGBoostはH2Oクラスター上でオリジナルのXGBoost動作させるようビルドされたもの。カテゴリ変数の自動Encodingといった処理も含まれている。"
   ]
  },
  {
   "cell_type": "markdown",
   "metadata": {},
   "source": [
    "オリジナルのXGBoostの[ドキュメンテーション](https://xgboost.readthedocs.io/en/latest/#)"
   ]
  },
  {
   "cell_type": "code",
   "execution_count": 12,
   "metadata": {
    "scrolled": true
   },
   "outputs": [
    {
     "name": "stdout",
     "output_type": "stream",
     "text": [
      "xgboost Model Build progress: |███████████████████████████████████████████| 100%\n",
      "CPU times: user 302 ms, sys: 21 ms, total: 323 ms\n",
      "Wall time: 26.5 s\n"
     ]
    }
   ],
   "source": [
    "xgb = H2OXGBoostEstimator(seed=42, \n",
    "                          model_id='XGBoost', \n",
    "                          nfolds=0, \n",
    "                          keep_cross_validation_predictions=False)\n",
    "\n",
    "%time xgb.train(x=x, y=y, training_frame=train, validation_frame=valid)    # 注：Windowsではサポートされていない"
   ]
  },
  {
   "cell_type": "markdown",
   "metadata": {},
   "source": [
    "- train時にvalidation_frameを指定してホールドアウト法になるので、nfolds=0、keep_cross_validation_predictions=False(それぞれデフォルト)としている"
   ]
  },
  {
   "cell_type": "code",
   "execution_count": 13,
   "metadata": {
    "scrolled": true
   },
   "outputs": [
    {
     "name": "stdout",
     "output_type": "stream",
     "text": [
      "Model Details\n",
      "=============\n",
      "H2OXGBoostEstimator :  XGBoost\n",
      "Model Key:  XGBoost\n",
      "\n",
      "\n",
      "Model Summary: \n"
     ]
    },
    {
     "data": {
      "text/html": [
       "<div style=\"overflow:auto\"><table style=\"width:50%\"><tr><td><b></b></td>\n",
       "<td><b>number_of_trees</b></td></tr>\n",
       "<tr><td></td>\n",
       "<td>50.0</td></tr></table></div>"
      ],
      "text/plain": [
       "    number_of_trees\n",
       "--  -----------------\n",
       "    50"
      ]
     },
     "metadata": {},
     "output_type": "display_data"
    },
    {
     "name": "stdout",
     "output_type": "stream",
     "text": [
      "\n",
      "\n",
      "ModelMetricsRegression: xgboost\n",
      "** Reported on train data. **\n",
      "\n",
      "MSE: 0.17744636323081306\n",
      "RMSE: 0.4212438287154045\n",
      "MAE: 0.30712844420662655\n",
      "RMSLE: 0.04987056256391179\n",
      "Mean Residual Deviance: 0.17744636323081306\n",
      "\n",
      "ModelMetricsRegression: xgboost\n",
      "** Reported on validation data. **\n",
      "\n",
      "MSE: 0.18013989282125126\n",
      "RMSE: 0.4244289019626859\n",
      "MAE: 0.3108204587914598\n",
      "RMSLE: 0.0503052982338251\n",
      "Mean Residual Deviance: 0.18013989282125126\n",
      "\n",
      "Scoring History: \n"
     ]
    },
    {
     "data": {
      "text/html": [
       "<div style=\"overflow:auto\"><table style=\"width:50%\"><tr><td><b></b></td>\n",
       "<td><b>timestamp</b></td>\n",
       "<td><b>duration</b></td>\n",
       "<td><b>number_of_trees</b></td>\n",
       "<td><b>training_rmse</b></td>\n",
       "<td><b>training_mae</b></td>\n",
       "<td><b>training_deviance</b></td>\n",
       "<td><b>validation_rmse</b></td>\n",
       "<td><b>validation_mae</b></td>\n",
       "<td><b>validation_deviance</b></td></tr>\n",
       "<tr><td></td>\n",
       "<td>2020-09-14 16:50:10</td>\n",
       "<td> 0.073 sec</td>\n",
       "<td>0.0</td>\n",
       "<td>6.7088631</td>\n",
       "<td>6.6836794</td>\n",
       "<td>45.0088439</td>\n",
       "<td>6.7047501</td>\n",
       "<td>6.6798046</td>\n",
       "<td>44.9536733</td></tr>\n",
       "<tr><td></td>\n",
       "<td>2020-09-14 16:50:12</td>\n",
       "<td> 2.202 sec</td>\n",
       "<td>1.0</td>\n",
       "<td>4.7104733</td>\n",
       "<td>4.6786978</td>\n",
       "<td>22.1885588</td>\n",
       "<td>4.7073544</td>\n",
       "<td>4.6757908</td>\n",
       "<td>22.1591850</td></tr>\n",
       "<tr><td></td>\n",
       "<td>2020-09-14 16:50:12</td>\n",
       "<td> 2.951 sec</td>\n",
       "<td>2.0</td>\n",
       "<td>3.3168272</td>\n",
       "<td>3.2752196</td>\n",
       "<td>11.0013425</td>\n",
       "<td>3.3139314</td>\n",
       "<td>3.2725993</td>\n",
       "<td>10.9821415</td></tr>\n",
       "<tr><td></td>\n",
       "<td>2020-09-14 16:50:13</td>\n",
       "<td> 3.531 sec</td>\n",
       "<td>3.0</td>\n",
       "<td>2.3488131</td>\n",
       "<td>2.2927392</td>\n",
       "<td>5.5169229</td>\n",
       "<td>2.3462673</td>\n",
       "<td>2.2904798</td>\n",
       "<td>5.5049702</td></tr>\n",
       "<tr><td></td>\n",
       "<td>2020-09-14 16:50:14</td>\n",
       "<td> 4.108 sec</td>\n",
       "<td>4.0</td>\n",
       "<td>1.6810353</td>\n",
       "<td>1.6051706</td>\n",
       "<td>2.8258796</td>\n",
       "<td>1.6786024</td>\n",
       "<td>1.6031085</td>\n",
       "<td>2.8177062</td></tr>\n",
       "<tr><td></td>\n",
       "<td>2020-09-14 16:50:14</td>\n",
       "<td> 4.707 sec</td>\n",
       "<td>5.0</td>\n",
       "<td>1.2265317</td>\n",
       "<td>1.1245445</td>\n",
       "<td>1.5043799</td>\n",
       "<td>1.2244424</td>\n",
       "<td>1.1227758</td>\n",
       "<td>1.4992593</td></tr>\n",
       "<tr><td></td>\n",
       "<td>2020-09-14 16:50:18</td>\n",
       "<td> 8.872 sec</td>\n",
       "<td>15.0</td>\n",
       "<td>0.4526525</td>\n",
       "<td>0.3278245</td>\n",
       "<td>0.2048943</td>\n",
       "<td>0.4522328</td>\n",
       "<td>0.3289853</td>\n",
       "<td>0.2045145</td></tr>\n",
       "<tr><td></td>\n",
       "<td>2020-09-14 16:50:22</td>\n",
       "<td>12.882 sec</td>\n",
       "<td>24.0</td>\n",
       "<td>0.4384250</td>\n",
       "<td>0.3211508</td>\n",
       "<td>0.1922165</td>\n",
       "<td>0.4389171</td>\n",
       "<td>0.3229872</td>\n",
       "<td>0.1926482</td></tr>\n",
       "<tr><td></td>\n",
       "<td>2020-09-14 16:50:27</td>\n",
       "<td>17.761 sec</td>\n",
       "<td>35.0</td>\n",
       "<td>0.4292344</td>\n",
       "<td>0.3136409</td>\n",
       "<td>0.1842421</td>\n",
       "<td>0.4305375</td>\n",
       "<td>0.3162474</td>\n",
       "<td>0.1853626</td></tr>\n",
       "<tr><td></td>\n",
       "<td>2020-09-14 16:50:34</td>\n",
       "<td>24.084 sec</td>\n",
       "<td>49.0</td>\n",
       "<td>0.4215230</td>\n",
       "<td>0.3073758</td>\n",
       "<td>0.1776816</td>\n",
       "<td>0.4246206</td>\n",
       "<td>0.3110081</td>\n",
       "<td>0.1803027</td></tr>\n",
       "<tr><td></td>\n",
       "<td>2020-09-14 16:50:35</td>\n",
       "<td>25.347 sec</td>\n",
       "<td>50.0</td>\n",
       "<td>0.4212438</td>\n",
       "<td>0.3071284</td>\n",
       "<td>0.1774464</td>\n",
       "<td>0.4244289</td>\n",
       "<td>0.3108205</td>\n",
       "<td>0.1801399</td></tr></table></div>"
      ],
      "text/plain": [
       "    timestamp            duration    number_of_trees    training_rmse    training_mae    training_deviance    validation_rmse    validation_mae    validation_deviance\n",
       "--  -------------------  ----------  -----------------  ---------------  --------------  -------------------  -----------------  ----------------  ---------------------\n",
       "    2020-09-14 16:50:10  0.073 sec   0                  6.70886          6.68368         45.0088              6.70475            6.6798            44.9537\n",
       "    2020-09-14 16:50:12  2.202 sec   1                  4.71047          4.6787          22.1886              4.70735            4.67579           22.1592\n",
       "    2020-09-14 16:50:12  2.951 sec   2                  3.31683          3.27522         11.0013              3.31393            3.2726            10.9821\n",
       "    2020-09-14 16:50:13  3.531 sec   3                  2.34881          2.29274         5.51692              2.34627            2.29048           5.50497\n",
       "    2020-09-14 16:50:14  4.108 sec   4                  1.68104          1.60517         2.82588              1.6786             1.60311           2.81771\n",
       "    2020-09-14 16:50:14  4.707 sec   5                  1.22653          1.12454         1.50438              1.22444            1.12278           1.49926\n",
       "    2020-09-14 16:50:18  8.872 sec   15                 0.452653         0.327825        0.204894             0.452233           0.328985          0.204514\n",
       "    2020-09-14 16:50:22  12.882 sec  24                 0.438425         0.321151        0.192216             0.438917           0.322987          0.192648\n",
       "    2020-09-14 16:50:27  17.761 sec  35                 0.429234         0.313641        0.184242             0.430538           0.316247          0.185363\n",
       "    2020-09-14 16:50:34  24.084 sec  49                 0.421523         0.307376        0.177682             0.424621           0.311008          0.180303\n",
       "    2020-09-14 16:50:35  25.347 sec  50                 0.421244         0.307128        0.177446             0.424429           0.31082           0.18014"
      ]
     },
     "metadata": {},
     "output_type": "display_data"
    },
    {
     "name": "stdout",
     "output_type": "stream",
     "text": [
      "\n",
      "Variable Importances: \n"
     ]
    },
    {
     "data": {
      "text/html": [
       "<div style=\"overflow:auto\"><table style=\"width:50%\"><tr><td><b>variable</b></td>\n",
       "<td><b>relative_importance</b></td>\n",
       "<td><b>scaled_importance</b></td>\n",
       "<td><b>percentage</b></td></tr>\n",
       "<tr><td>SELLER_NAME.NORWESTMORTGAGE,INC</td>\n",
       "<td>25657.9960938</td>\n",
       "<td>1.0</td>\n",
       "<td>0.2391252</td></tr>\n",
       "<tr><td>OCCUPANCY_STATUS.I</td>\n",
       "<td>7086.1391602</td>\n",
       "<td>0.2761766</td>\n",
       "<td>0.0660408</td></tr>\n",
       "<tr><td>ORIGINAL_UPB</td>\n",
       "<td>6440.5112305</td>\n",
       "<td>0.2510138</td>\n",
       "<td>0.0600237</td></tr>\n",
       "<tr><td>ORIGINAL_LOAN_TO_VALUE</td>\n",
       "<td>5813.7905273</td>\n",
       "<td>0.2265879</td>\n",
       "<td>0.0541829</td></tr>\n",
       "<tr><td>LOAN_PURPOSE.P</td>\n",
       "<td>4025.8632812</td>\n",
       "<td>0.1569048</td>\n",
       "<td>0.0375199</td></tr>\n",
       "<tr><td>---</td>\n",
       "<td>---</td>\n",
       "<td>---</td>\n",
       "<td>---</td></tr>\n",
       "<tr><td>PROPERTY_STATE.OK</td>\n",
       "<td>0.8522186</td>\n",
       "<td>0.0000332</td>\n",
       "<td>0.0000079</td></tr>\n",
       "<tr><td>PROPERTY_STATE.ME</td>\n",
       "<td>0.5269806</td>\n",
       "<td>0.0000205</td>\n",
       "<td>0.0000049</td></tr>\n",
       "<tr><td>PROPERTY_STATE.MT</td>\n",
       "<td>0.5000267</td>\n",
       "<td>0.0000195</td>\n",
       "<td>0.0000047</td></tr>\n",
       "<tr><td>PROPERTY_STATE.KS</td>\n",
       "<td>0.0765716</td>\n",
       "<td>0.0000030</td>\n",
       "<td>0.0000007</td></tr>\n",
       "<tr><td>PROPERTY_STATE.KY</td>\n",
       "<td>0.0001907</td>\n",
       "<td>0.0000000</td>\n",
       "<td>0.0000000</td></tr></table></div>"
      ],
      "text/plain": [
       "variable                         relative_importance     scaled_importance       percentage\n",
       "-------------------------------  ----------------------  ----------------------  ---------------------\n",
       "SELLER_NAME.NORWESTMORTGAGE,INC  25657.99609375          1.0                     0.2391252101842686\n",
       "OCCUPANCY_STATUS.I               7086.13916015625        0.2761766403839446      0.06604079717979593\n",
       "ORIGINAL_UPB                     6440.51123046875        0.25101380508969623     0.06002372890122664\n",
       "ORIGINAL_LOAN_TO_VALUE           5813.79052734375        0.2265878639197363      0.05418287058501139\n",
       "LOAN_PURPOSE.P                   4025.86328125           0.15690482088079571     0.03751989827204529\n",
       "---                              ---                     ---                     ---\n",
       "PROPERTY_STATE.OK                0.8522186279296875      3.321454352147471e-05   7.942434700747178e-06\n",
       "PROPERTY_STATE.ME                0.5269806385040283      2.0538651443336797e-05  4.911309343289343e-06\n",
       "PROPERTY_STATE.MT                0.5000267028808594      1.948814323043179e-05   4.660106346078133e-06\n",
       "PROPERTY_STATE.KS                0.07657158374786377     2.9843166032173395e-06  7.136253350007488e-07\n",
       "PROPERTY_STATE.KY                0.00019072741270065308  7.433449284338777e-09   1.777525122511611e-09"
      ]
     },
     "metadata": {},
     "output_type": "display_data"
    },
    {
     "data": {
      "text/plain": []
     },
     "execution_count": 13,
     "metadata": {},
     "output_type": "execute_result"
    }
   ],
   "source": [
    "xgb"
   ]
  },
  {
   "cell_type": "code",
   "execution_count": 14,
   "metadata": {
    "scrolled": true
   },
   "outputs": [
    {
     "data": {
      "text/plain": [
       "{'model_id': 'XGBoost',\n",
       " 'training_frame': 'py_11_sid_9a90',\n",
       " 'validation_frame': 'py_12_sid_9a90',\n",
       " 'nfolds': 0,\n",
       " 'keep_cross_validation_models': True,\n",
       " 'keep_cross_validation_predictions': False,\n",
       " 'keep_cross_validation_fold_assignment': False,\n",
       " 'score_each_iteration': False,\n",
       " 'fold_assignment': None,\n",
       " 'fold_column': None,\n",
       " 'response_column': 'ORIGINAL_INTEREST_RATE',\n",
       " 'ignored_columns': ['MATURITY_DATE',\n",
       "  'LOAN_SEQUENCE_NUMBER',\n",
       "  'MORTGAGE_INSURANCE_PERCENTAGE',\n",
       "  'PREPAYMENT_PENALTY_MORTGAGE_FLAG',\n",
       "  'PREPAID',\n",
       "  'FIRST_PAYMENT_DATE',\n",
       "  'PRODUCT_TYPE',\n",
       "  'DELINQUENT'],\n",
       " 'ignore_const_cols': True,\n",
       " 'offset_column': None,\n",
       " 'weights_column': None,\n",
       " 'stopping_rounds': 0,\n",
       " 'stopping_metric': None,\n",
       " 'stopping_tolerance': 0.001,\n",
       " 'max_runtime_secs': 0.0,\n",
       " 'seed': 42,\n",
       " 'distribution': 'gaussian',\n",
       " 'tweedie_power': 1.5,\n",
       " 'categorical_encoding': 'OneHotInternal',\n",
       " 'quiet_mode': True,\n",
       " 'checkpoint': None,\n",
       " 'export_checkpoints_dir': None,\n",
       " 'ntrees': 50,\n",
       " 'max_depth': 6,\n",
       " 'min_rows': 1.0,\n",
       " 'min_child_weight': 1.0,\n",
       " 'learn_rate': 0.3,\n",
       " 'eta': 0.3,\n",
       " 'sample_rate': 1.0,\n",
       " 'subsample': 1.0,\n",
       " 'col_sample_rate': 1.0,\n",
       " 'colsample_bylevel': 1.0,\n",
       " 'col_sample_rate_per_tree': 1.0,\n",
       " 'colsample_bytree': 1.0,\n",
       " 'colsample_bynode': 1.0,\n",
       " 'max_abs_leafnode_pred': 0.0,\n",
       " 'max_delta_step': 0.0,\n",
       " 'monotone_constraints': None,\n",
       " 'score_tree_interval': 0,\n",
       " 'min_split_improvement': 0.0,\n",
       " 'gamma': 0.0,\n",
       " 'nthread': -1,\n",
       " 'save_matrix_directory': None,\n",
       " 'build_tree_one_node': False,\n",
       " 'calibrate_model': False,\n",
       " 'calibration_frame': None,\n",
       " 'max_bins': 256,\n",
       " 'max_leaves': 0,\n",
       " 'sample_type': 'uniform',\n",
       " 'normalize_type': 'tree',\n",
       " 'rate_drop': 0.0,\n",
       " 'one_drop': False,\n",
       " 'skip_drop': 0.0,\n",
       " 'tree_method': 'exact',\n",
       " 'grow_policy': 'depthwise',\n",
       " 'booster': 'gbtree',\n",
       " 'reg_lambda': 1.0,\n",
       " 'reg_alpha': 0.0,\n",
       " 'dmatrix_type': 'sparse',\n",
       " 'backend': 'cpu',\n",
       " 'gpu_id': 0,\n",
       " 'gainslift_bins': -1}"
      ]
     },
     "execution_count": 14,
     "metadata": {},
     "output_type": "execute_result"
    }
   ],
   "source": [
    "#> 推定したモデルの設定やハイパーパラメータの確認\n",
    "xgb.actual_params"
   ]
  },
  {
   "cell_type": "markdown",
   "metadata": {},
   "source": [
    "- 各内容に関しての[ドキュメント](http://docs.h2o.ai/h2o/latest-stable/h2o-docs/data-science/xgboost.html#defining-an-xgboost-model)、[APIドキュメント](https://docs.h2o.ai/h2o/latest-stable/h2o-py/docs/modeling.html#h2oxgboostestimator)\n",
    "- デフォルト設定の確認の場合 `xgb.params`, `xgb.default_params`"
   ]
  },
  {
   "cell_type": "markdown",
   "metadata": {},
   "source": [
    "オリジナルのXGBoostとの比較\n",
    "- XXX"
   ]
  },
  {
   "cell_type": "code",
   "execution_count": 15,
   "metadata": {},
   "outputs": [
    {
     "data": {
      "image/png": "[encoded data removed]",
      "text/plain": [
       "<Figure size 1008x720 with 1 Axes>"
      ]
     },
     "metadata": {
      "needs_background": "light"
     },
     "output_type": "display_data"
    }
   ],
   "source": [
    "#> 変数重要度の表示\n",
    "xgb.varimp_plot(20)"
   ]
  },
  {
   "cell_type": "markdown",
   "metadata": {},
   "source": [
    "- 値自体を取得する場合 `xgb.varimp()`\n",
    "- H2ORandomForestEstimatorやH2OGradientBoostingEstimatorと異なり、カテゴリ変数はone-hot encodingされた形式で表示"
   ]
  },
  {
   "cell_type": "code",
   "execution_count": 16,
   "metadata": {},
   "outputs": [
    {
     "name": "stdout",
     "output_type": "stream",
     "text": [
      "xgboost prediction progress: |████████████████████████████████████████████| 100%\n"
     ]
    },
    {
     "data": {
      "text/html": [
       "<table>\n",
       "<thead>\n",
       "<tr><th style=\"text-align: right;\">  predict</th></tr>\n",
       "</thead>\n",
       "<tbody>\n",
       "<tr><td style=\"text-align: right;\">  7.20097</td></tr>\n",
       "<tr><td style=\"text-align: right;\">  6.87724</td></tr>\n",
       "<tr><td style=\"text-align: right;\">  7.0235 </td></tr>\n",
       "<tr><td style=\"text-align: right;\">  7.25526</td></tr>\n",
       "<tr><td style=\"text-align: right;\">  7.02648</td></tr>\n",
       "</tbody>\n",
       "</table>"
      ]
     },
     "metadata": {},
     "output_type": "display_data"
    },
    {
     "data": {
      "text/plain": []
     },
     "execution_count": 16,
     "metadata": {},
     "output_type": "execute_result"
    }
   ],
   "source": [
    "#> validデータに対する予測を実施\n",
    "xgb_def_pred = xgb.predict(valid)\n",
    "xgb_def_pred.head(5)"
   ]
  },
  {
   "cell_type": "code",
   "execution_count": 17,
   "metadata": {},
   "outputs": [
    {
     "data": {
      "text/html": [
       "<table>\n",
       "<thead>\n",
       "<tr><th style=\"text-align: right;\">  predict</th><th style=\"text-align: right;\">  ORIGINAL_INTEREST_RATE</th></tr>\n",
       "</thead>\n",
       "<tbody>\n",
       "<tr><td style=\"text-align: right;\">  7.20097</td><td style=\"text-align: right;\">                   5.875</td></tr>\n",
       "<tr><td style=\"text-align: right;\">  6.87724</td><td style=\"text-align: right;\">                   6.75 </td></tr>\n",
       "<tr><td style=\"text-align: right;\">  7.0235 </td><td style=\"text-align: right;\">                   7.75 </td></tr>\n",
       "<tr><td style=\"text-align: right;\">  7.25526</td><td style=\"text-align: right;\">                   6.625</td></tr>\n",
       "<tr><td style=\"text-align: right;\">  7.02648</td><td style=\"text-align: right;\">                   6.75 </td></tr>\n",
       "<tr><td style=\"text-align: right;\">  7.38137</td><td style=\"text-align: right;\">                   7    </td></tr>\n",
       "<tr><td style=\"text-align: right;\">  6.8168 </td><td style=\"text-align: right;\">                   7    </td></tr>\n",
       "<tr><td style=\"text-align: right;\">  7.40214</td><td style=\"text-align: right;\">                   7    </td></tr>\n",
       "<tr><td style=\"text-align: right;\">  7.06643</td><td style=\"text-align: right;\">                   7.25 </td></tr>\n",
       "<tr><td style=\"text-align: right;\">  7.00728</td><td style=\"text-align: right;\">                   7    </td></tr>\n",
       "</tbody>\n",
       "</table>"
      ]
     },
     "metadata": {},
     "output_type": "display_data"
    },
    {
     "data": {
      "text/plain": []
     },
     "execution_count": 17,
     "metadata": {},
     "output_type": "execute_result"
    }
   ],
   "source": [
    "#> 実測値との比較\n",
    "xgb_def_pred.cbind(valid['ORIGINAL_INTEREST_RATE'])"
   ]
  },
  {
   "cell_type": "code",
   "execution_count": 18,
   "metadata": {},
   "outputs": [],
   "source": [
    "#> validデータでの結果の取得\n",
    "default_xgb_per = xgb.model_performance(valid)"
   ]
  },
  {
   "cell_type": "code",
   "execution_count": 36,
   "metadata": {},
   "outputs": [
    {
     "name": "stdout",
     "output_type": "stream",
     "text": [
      "RMSE on train data:  0.4212438287154045\n",
      "RMSE on valid data:  0.4244289019626859\n"
     ]
    }
   ],
   "source": [
    "print('RMSE on train data: ', xgb.rmse())\n",
    "print('RMSE on valid data: ', default_xgb_per.rmse())"
   ]
  },
  {
   "cell_type": "markdown",
   "metadata": {},
   "source": [
    "***"
   ]
  },
  {
   "cell_type": "markdown",
   "metadata": {},
   "source": [
    "<a id='BuildDeepLearningModel'></a>\n",
    "### Build a Deep Learning Model"
   ]
  },
  {
   "cell_type": "markdown",
   "metadata": {},
   "source": [
    "[**Deep Learning (Neural Networks) - ドキュメント**](http://docs.h2o.ai/h2o/latest-stable/h2o-docs/data-science/deep-learning.html)  \n",
    "[**H2ODeepLearningEstimator - APIドキュメント**](https://docs.h2o.ai/h2o/latest-stable/h2o-py/docs/modeling.html#h2odeeplearningestimator)\n",
    "  \n",
    "H2O-3では通常のFeedforward Neural Networkのみサポート（CNNやRNNの実装はない）"
   ]
  },
  {
   "cell_type": "code",
   "execution_count": 20,
   "metadata": {},
   "outputs": [
    {
     "name": "stdout",
     "output_type": "stream",
     "text": [
      "deeplearning Model Build progress: |██████████████████████████████████████| 100%\n",
      "CPU times: user 1.51 s, sys: 54.2 ms, total: 1.56 s\n",
      "Wall time: 6min 5s\n"
     ]
    }
   ],
   "source": [
    "dl = H2ODeepLearningEstimator(seed=42, \n",
    "                              model_id='DL',\n",
    "                              nfolds= 0, \n",
    "                              keep_cross_validation_predictions = False)\n",
    "\n",
    "%time dl.train(x=x, y=y, training_frame=train, validation_frame=valid)"
   ]
  },
  {
   "cell_type": "code",
   "execution_count": 21,
   "metadata": {
    "scrolled": true
   },
   "outputs": [
    {
     "name": "stdout",
     "output_type": "stream",
     "text": [
      "Model Details\n",
      "=============\n",
      "H2ODeepLearningEstimator :  Deep Learning\n",
      "Model Key:  DL\n",
      "\n",
      "\n",
      "Status of Neuron Layers: predicting ORIGINAL_INTEREST_RATE, regression, gaussian distribution, Quadratic loss, 73,601 weights/biases, 880.4 KB, 3,512,620 training samples, mini-batch size 1\n"
     ]
    },
    {
     "data": {
      "text/html": [
       "<div style=\"overflow:auto\"><table style=\"width:50%\"><tr><td><b></b></td>\n",
       "<td><b>layer</b></td>\n",
       "<td><b>units</b></td>\n",
       "<td><b>type</b></td>\n",
       "<td><b>dropout</b></td>\n",
       "<td><b>l1</b></td>\n",
       "<td><b>l2</b></td>\n",
       "<td><b>mean_rate</b></td>\n",
       "<td><b>rate_rms</b></td>\n",
       "<td><b>momentum</b></td>\n",
       "<td><b>mean_weight</b></td>\n",
       "<td><b>weight_rms</b></td>\n",
       "<td><b>mean_bias</b></td>\n",
       "<td><b>bias_rms</b></td></tr>\n",
       "<tr><td></td>\n",
       "<td>1</td>\n",
       "<td>165</td>\n",
       "<td>Input</td>\n",
       "<td>0.0</td>\n",
       "<td></td>\n",
       "<td></td>\n",
       "<td></td>\n",
       "<td></td>\n",
       "<td></td>\n",
       "<td></td>\n",
       "<td></td>\n",
       "<td></td>\n",
       "<td></td></tr>\n",
       "<tr><td></td>\n",
       "<td>2</td>\n",
       "<td>200</td>\n",
       "<td>Rectifier</td>\n",
       "<td>0.0</td>\n",
       "<td>0.0</td>\n",
       "<td>0.0</td>\n",
       "<td>0.0552208</td>\n",
       "<td>0.2135490</td>\n",
       "<td>0.0</td>\n",
       "<td>-0.0142599</td>\n",
       "<td>0.1664219</td>\n",
       "<td>-0.0233338</td>\n",
       "<td>0.2599651</td></tr>\n",
       "<tr><td></td>\n",
       "<td>3</td>\n",
       "<td>200</td>\n",
       "<td>Rectifier</td>\n",
       "<td>0.0</td>\n",
       "<td>0.0</td>\n",
       "<td>0.0</td>\n",
       "<td>0.0492105</td>\n",
       "<td>0.0504840</td>\n",
       "<td>0.0</td>\n",
       "<td>-0.0499868</td>\n",
       "<td>0.1322242</td>\n",
       "<td>-0.0508985</td>\n",
       "<td>0.4922751</td></tr>\n",
       "<tr><td></td>\n",
       "<td>4</td>\n",
       "<td>1</td>\n",
       "<td>Linear</td>\n",
       "<td></td>\n",
       "<td>0.0</td>\n",
       "<td>0.0</td>\n",
       "<td>0.0012871</td>\n",
       "<td>0.0009825</td>\n",
       "<td>0.0</td>\n",
       "<td>0.0091470</td>\n",
       "<td>0.0856143</td>\n",
       "<td>1.0714746</td>\n",
       "<td>0.0000000</td></tr></table></div>"
      ],
      "text/plain": [
       "    layer    units    type       dropout    l1    l2    mean_rate              rate_rms               momentum    mean_weight           weight_rms           mean_bias              bias_rms\n",
       "--  -------  -------  ---------  ---------  ----  ----  ---------------------  ---------------------  ----------  --------------------  -------------------  ---------------------  -----------------------\n",
       "    1        165      Input      0.0\n",
       "    2        200      Rectifier  0.0        0.0   0.0   0.05522083266813019    0.2135489583015442     0.0         -0.01425992467616266  0.16642194986343384  -0.023333756103891705  0.25996506214141846\n",
       "    3        200      Rectifier  0.0        0.0   0.0   0.04921046948598523    0.05048398673534393    0.0         -0.04998679433752471  0.1322242021560669   -0.05089847375233876   0.4922751188278198\n",
       "    4        1        Linear                0.0   0.0   0.0012871148194244597  0.0009824717417359352  0.0         0.009146972700518745  0.08561432361602783  1.071474566661218      1.0971281125650402e-154"
      ]
     },
     "metadata": {},
     "output_type": "display_data"
    },
    {
     "name": "stdout",
     "output_type": "stream",
     "text": [
      "\n",
      "\n",
      "ModelMetricsRegression: deeplearning\n",
      "** Reported on train data. **\n",
      "\n",
      "MSE: 0.20926922642531118\n",
      "RMSE: 0.4574595352873423\n",
      "MAE: 0.3254869601038534\n",
      "RMSLE: 0.05427338116670065\n",
      "Mean Residual Deviance: 0.20926922642531118\n",
      "\n",
      "ModelMetricsRegression: deeplearning\n",
      "** Reported on validation data. **\n",
      "\n",
      "MSE: 0.21270922233498124\n",
      "RMSE: 0.4612041005183944\n",
      "MAE: 0.32924638230257997\n",
      "RMSLE: 0.05465519659426862\n",
      "Mean Residual Deviance: 0.21270922233498124\n",
      "\n",
      "Scoring History: \n"
     ]
    },
    {
     "data": {
      "text/html": [
       "<div style=\"overflow:auto\"><table style=\"width:50%\"><tr><td><b></b></td>\n",
       "<td><b>timestamp</b></td>\n",
       "<td><b>duration</b></td>\n",
       "<td><b>training_speed</b></td>\n",
       "<td><b>epochs</b></td>\n",
       "<td><b>iterations</b></td>\n",
       "<td><b>samples</b></td>\n",
       "<td><b>training_rmse</b></td>\n",
       "<td><b>training_deviance</b></td>\n",
       "<td><b>training_mae</b></td>\n",
       "<td><b>training_r2</b></td>\n",
       "<td><b>validation_rmse</b></td>\n",
       "<td><b>validation_deviance</b></td>\n",
       "<td><b>validation_mae</b></td>\n",
       "<td><b>validation_r2</b></td></tr>\n",
       "<tr><td></td>\n",
       "<td>2020-09-14 16:56:21</td>\n",
       "<td> 0.000 sec</td>\n",
       "<td>None</td>\n",
       "<td>0.0</td>\n",
       "<td>0</td>\n",
       "<td>0.0</td>\n",
       "<td>nan</td>\n",
       "<td>nan</td>\n",
       "<td>nan</td>\n",
       "<td>nan</td>\n",
       "<td>nan</td>\n",
       "<td>nan</td>\n",
       "<td>nan</td>\n",
       "<td>nan</td></tr>\n",
       "<tr><td></td>\n",
       "<td>2020-09-14 16:56:27</td>\n",
       "<td>12.292 sec</td>\n",
       "<td>2002 obs/sec</td>\n",
       "<td>0.0330861</td>\n",
       "<td>1</td>\n",
       "<td>11589.0</td>\n",
       "<td>0.5662623</td>\n",
       "<td>0.3206530</td>\n",
       "<td>0.4062088</td>\n",
       "<td>0.0240051</td>\n",
       "<td>0.5646828</td>\n",
       "<td>0.3188666</td>\n",
       "<td>0.4051904</td>\n",
       "<td>0.0449786</td></tr>\n",
       "<tr><td></td>\n",
       "<td>2020-09-14 16:57:29</td>\n",
       "<td> 1 min 14.677 sec</td>\n",
       "<td>7791 obs/sec</td>\n",
       "<td>1.3780420</td>\n",
       "<td>41</td>\n",
       "<td>482684.0</td>\n",
       "<td>0.5037729</td>\n",
       "<td>0.2537871</td>\n",
       "<td>0.3653088</td>\n",
       "<td>0.2275295</td>\n",
       "<td>0.5004943</td>\n",
       "<td>0.2504946</td>\n",
       "<td>0.3638473</td>\n",
       "<td>0.2497563</td></tr>\n",
       "<tr><td></td>\n",
       "<td>2020-09-14 16:58:32</td>\n",
       "<td> 2 min 15.601 sec</td>\n",
       "<td>9256 obs/sec</td>\n",
       "<td>3.1193400</td>\n",
       "<td>93</td>\n",
       "<td>1092605.0</td>\n",
       "<td>0.4942858</td>\n",
       "<td>0.2443185</td>\n",
       "<td>0.3554590</td>\n",
       "<td>0.2563500</td>\n",
       "<td>0.4950005</td>\n",
       "<td>0.2450255</td>\n",
       "<td>0.3566058</td>\n",
       "<td>0.2661365</td></tr>\n",
       "<tr><td></td>\n",
       "<td>2020-09-14 16:59:20</td>\n",
       "<td> 3 min  4.480 sec</td>\n",
       "<td>9927 obs/sec</td>\n",
       "<td>4.5927775</td>\n",
       "<td>137</td>\n",
       "<td>1608703.0</td>\n",
       "<td>0.4734785</td>\n",
       "<td>0.2241819</td>\n",
       "<td>0.3399320</td>\n",
       "<td>0.3176412</td>\n",
       "<td>0.4775797</td>\n",
       "<td>0.2280824</td>\n",
       "<td>0.3431752</td>\n",
       "<td>0.3168819</td></tr>\n",
       "<tr><td></td>\n",
       "<td>2020-09-14 17:00:10</td>\n",
       "<td> 3 min 54.047 sec</td>\n",
       "<td>10397 obs/sec</td>\n",
       "<td>6.1368352</td>\n",
       "<td>183</td>\n",
       "<td>2149537.0</td>\n",
       "<td>0.4574595</td>\n",
       "<td>0.2092692</td>\n",
       "<td>0.3254870</td>\n",
       "<td>0.3630320</td>\n",
       "<td>0.4612041</td>\n",
       "<td>0.2127092</td>\n",
       "<td>0.3292464</td>\n",
       "<td>0.3629254</td></tr>\n",
       "<tr><td></td>\n",
       "<td>2020-09-14 17:00:59</td>\n",
       "<td> 4 min 43.488 sec</td>\n",
       "<td>10706 obs/sec</td>\n",
       "<td>7.6793912</td>\n",
       "<td>229</td>\n",
       "<td>2689845.0</td>\n",
       "<td>0.4742920</td>\n",
       "<td>0.2249529</td>\n",
       "<td>0.3469002</td>\n",
       "<td>0.3152944</td>\n",
       "<td>0.4767379</td>\n",
       "<td>0.2272791</td>\n",
       "<td>0.3500596</td>\n",
       "<td>0.3192879</td></tr>\n",
       "<tr><td></td>\n",
       "<td>2020-09-14 17:01:49</td>\n",
       "<td> 5 min 33.208 sec</td>\n",
       "<td>10950 obs/sec</td>\n",
       "<td>9.2559297</td>\n",
       "<td>276</td>\n",
       "<td>3242056.0</td>\n",
       "<td>0.4820414</td>\n",
       "<td>0.2323639</td>\n",
       "<td>0.3574094</td>\n",
       "<td>0.2927370</td>\n",
       "<td>0.4845390</td>\n",
       "<td>0.2347780</td>\n",
       "<td>0.3604150</td>\n",
       "<td>0.2968283</td></tr>\n",
       "<tr><td></td>\n",
       "<td>2020-09-14 17:02:16</td>\n",
       "<td> 5 min 59.821 sec</td>\n",
       "<td>11052 obs/sec</td>\n",
       "<td>10.0283783</td>\n",
       "<td>299</td>\n",
       "<td>3512620.0</td>\n",
       "<td>0.4635144</td>\n",
       "<td>0.2148456</td>\n",
       "<td>0.3362814</td>\n",
       "<td>0.3460588</td>\n",
       "<td>0.4687721</td>\n",
       "<td>0.2197473</td>\n",
       "<td>0.3401448</td>\n",
       "<td>0.3418459</td></tr>\n",
       "<tr><td></td>\n",
       "<td>2020-09-14 17:02:21</td>\n",
       "<td> 6 min  4.717 sec</td>\n",
       "<td>11052 obs/sec</td>\n",
       "<td>10.0283783</td>\n",
       "<td>299</td>\n",
       "<td>3512620.0</td>\n",
       "<td>0.4574595</td>\n",
       "<td>0.2092692</td>\n",
       "<td>0.3254870</td>\n",
       "<td>0.3630320</td>\n",
       "<td>0.4612041</td>\n",
       "<td>0.2127092</td>\n",
       "<td>0.3292464</td>\n",
       "<td>0.3629254</td></tr></table></div>"
      ],
      "text/plain": [
       "    timestamp            duration          training_speed    epochs     iterations    samples      training_rmse    training_deviance    training_mae    training_r2    validation_rmse    validation_deviance    validation_mae    validation_r2\n",
       "--  -------------------  ----------------  ----------------  ---------  ------------  -----------  ---------------  -------------------  --------------  -------------  -----------------  ---------------------  ----------------  ---------------\n",
       "    2020-09-14 16:56:21  0.000 sec                           0          0             0            nan              nan                  nan             nan            nan                nan                    nan               nan\n",
       "    2020-09-14 16:56:27  12.292 sec        2002 obs/sec      0.0330861  1             11589        0.566262         0.320653             0.406209        0.0240051      0.564683           0.318867               0.40519           0.0449786\n",
       "    2020-09-14 16:57:29  1 min 14.677 sec  7791 obs/sec      1.37804    41            482684       0.503773         0.253787             0.365309        0.22753        0.500494           0.250495               0.363847          0.249756\n",
       "    2020-09-14 16:58:32  2 min 15.601 sec  9256 obs/sec      3.11934    93            1.09260e+06  0.494286         0.244318             0.355459        0.25635        0.495001           0.245026               0.356606          0.266136\n",
       "    2020-09-14 16:59:20  3 min  4.480 sec  9927 obs/sec      4.59278    137           1.6087e+06   0.473479         0.224182             0.339932        0.317641       0.47758            0.228082               0.343175          0.316882\n",
       "    2020-09-14 17:00:10  3 min 54.047 sec  10397 obs/sec     6.13684    183           2.14954e+06  0.45746          0.209269             0.325487        0.363032       0.461204           0.212709               0.329246          0.362925\n",
       "    2020-09-14 17:00:59  4 min 43.488 sec  10706 obs/sec     7.67939    229           2.68984e+06  0.474292         0.224953             0.3469          0.315294       0.476738           0.227279               0.35006           0.319288\n",
       "    2020-09-14 17:01:49  5 min 33.208 sec  10950 obs/sec     9.25593    276           3.24206e+06  0.482041         0.232364             0.357409        0.292737       0.484539           0.234778               0.360415          0.296828\n",
       "    2020-09-14 17:02:16  5 min 59.821 sec  11052 obs/sec     10.0284    299           3.51262e+06  0.463514         0.214846             0.336281        0.346059       0.468772           0.219747               0.340145          0.341846\n",
       "    2020-09-14 17:02:21  6 min  4.717 sec  11052 obs/sec     10.0284    299           3.51262e+06  0.45746          0.209269             0.325487        0.363032       0.461204           0.212709               0.329246          0.362925"
      ]
     },
     "metadata": {},
     "output_type": "display_data"
    },
    {
     "name": "stdout",
     "output_type": "stream",
     "text": [
      "\n",
      "Variable Importances: \n"
     ]
    },
    {
     "data": {
      "text/html": [
       "<div style=\"overflow:auto\"><table style=\"width:50%\"><tr><td><b>variable</b></td>\n",
       "<td><b>relative_importance</b></td>\n",
       "<td><b>scaled_importance</b></td>\n",
       "<td><b>percentage</b></td></tr>\n",
       "<tr><td>SELLER_NAME.ABNAMROMTGEGROUP,INC</td>\n",
       "<td>1.0</td>\n",
       "<td>1.0</td>\n",
       "<td>0.0132311</td></tr>\n",
       "<tr><td>SELLER_NAME.NORWESTMORTGAGE,INC</td>\n",
       "<td>0.9465132</td>\n",
       "<td>0.9465132</td>\n",
       "<td>0.0125234</td></tr>\n",
       "<tr><td>SELLER_NAME.WELLSFARGOHOMEMORTGA</td>\n",
       "<td>0.9091915</td>\n",
       "<td>0.9091915</td>\n",
       "<td>0.0120296</td></tr>\n",
       "<tr><td>SELLER_NAME.BISHOPSGATERESIDENTI</td>\n",
       "<td>0.8581580</td>\n",
       "<td>0.8581580</td>\n",
       "<td>0.0113543</td></tr>\n",
       "<tr><td>SELLER_NAME.Other sellers</td>\n",
       "<td>0.8441141</td>\n",
       "<td>0.8441141</td>\n",
       "<td>0.0111685</td></tr>\n",
       "<tr><td>---</td>\n",
       "<td>---</td>\n",
       "<td>---</td>\n",
       "<td>---</td></tr>\n",
       "<tr><td>PROPERTY_TYPE.missing(NA)</td>\n",
       "<td>0.0</td>\n",
       "<td>0.0</td>\n",
       "<td>0.0</td></tr>\n",
       "<tr><td>CHANNEL.missing(NA)</td>\n",
       "<td>0.0</td>\n",
       "<td>0.0</td>\n",
       "<td>0.0</td></tr>\n",
       "<tr><td>LOAN_PURPOSE.missing(NA)</td>\n",
       "<td>0.0</td>\n",
       "<td>0.0</td>\n",
       "<td>0.0</td></tr>\n",
       "<tr><td>OCCUPANCY_STATUS.missing(NA)</td>\n",
       "<td>0.0</td>\n",
       "<td>0.0</td>\n",
       "<td>0.0</td></tr>\n",
       "<tr><td>FIRST_TIME_HOMEBUYER_FLAG.missing(NA)</td>\n",
       "<td>0.0</td>\n",
       "<td>0.0</td>\n",
       "<td>0.0</td></tr></table></div>"
      ],
      "text/plain": [
       "variable                               relative_importance    scaled_importance    percentage\n",
       "-------------------------------------  ---------------------  -------------------  --------------------\n",
       "SELLER_NAME.ABNAMROMTGEGROUP,INC       1.0                    1.0                  0.013231069771364632\n",
       "SELLER_NAME.NORWESTMORTGAGE,INC        0.9465132355690002     0.9465132355690002   0.01252338265933353\n",
       "SELLER_NAME.WELLSFARGOHOMEMORTGA       0.9091915488243103     0.9091915488243103   0.012029576818029523\n",
       "SELLER_NAME.BISHOPSGATERESIDENTI       0.8581579923629761     0.8581579923629761   0.011354348271808734\n",
       "SELLER_NAME.Other sellers              0.8441141247749329     0.8441141247749329   0.011168532879891528\n",
       "---                                    ---                    ---                  ---\n",
       "PROPERTY_TYPE.missing(NA)              0.0                    0.0                  0.0\n",
       "CHANNEL.missing(NA)                    0.0                    0.0                  0.0\n",
       "LOAN_PURPOSE.missing(NA)               0.0                    0.0                  0.0\n",
       "OCCUPANCY_STATUS.missing(NA)           0.0                    0.0                  0.0\n",
       "FIRST_TIME_HOMEBUYER_FLAG.missing(NA)  0.0                    0.0                  0.0"
      ]
     },
     "metadata": {},
     "output_type": "display_data"
    },
    {
     "data": {
      "text/plain": []
     },
     "execution_count": 21,
     "metadata": {},
     "output_type": "execute_result"
    }
   ],
   "source": [
    "dl"
   ]
  },
  {
   "cell_type": "code",
   "execution_count": 23,
   "metadata": {
    "scrolled": true
   },
   "outputs": [
    {
     "data": {
      "text/plain": [
       "{'model_id': 'DL',\n",
       " 'training_frame': 'py_11_sid_9a90',\n",
       " 'validation_frame': 'py_12_sid_9a90',\n",
       " 'nfolds': 0,\n",
       " 'keep_cross_validation_models': True,\n",
       " 'keep_cross_validation_predictions': False,\n",
       " 'keep_cross_validation_fold_assignment': False,\n",
       " 'fold_assignment': None,\n",
       " 'fold_column': None,\n",
       " 'response_column': 'ORIGINAL_INTEREST_RATE',\n",
       " 'ignored_columns': ['MATURITY_DATE',\n",
       "  'LOAN_SEQUENCE_NUMBER',\n",
       "  'MORTGAGE_INSURANCE_PERCENTAGE',\n",
       "  'PREPAYMENT_PENALTY_MORTGAGE_FLAG',\n",
       "  'PREPAID',\n",
       "  'FIRST_PAYMENT_DATE',\n",
       "  'PRODUCT_TYPE',\n",
       "  'DELINQUENT'],\n",
       " 'ignore_const_cols': True,\n",
       " 'score_each_iteration': False,\n",
       " 'weights_column': None,\n",
       " 'offset_column': None,\n",
       " 'balance_classes': False,\n",
       " 'class_sampling_factors': None,\n",
       " 'max_after_balance_size': 5.0,\n",
       " 'max_confusion_matrix_size': 20,\n",
       " 'max_hit_ratio_k': 0,\n",
       " 'checkpoint': None,\n",
       " 'pretrained_autoencoder': None,\n",
       " 'overwrite_with_best_model': True,\n",
       " 'use_all_factor_levels': True,\n",
       " 'standardize': True,\n",
       " 'activation': 'Rectifier',\n",
       " 'hidden': [200, 200],\n",
       " 'epochs': 10.0,\n",
       " 'train_samples_per_iteration': -2,\n",
       " 'target_ratio_comm_to_comp': 0.05,\n",
       " 'seed': 42,\n",
       " 'adaptive_rate': True,\n",
       " 'rho': 0.99,\n",
       " 'epsilon': 1e-08,\n",
       " 'rate': 0.005,\n",
       " 'rate_annealing': 1e-06,\n",
       " 'rate_decay': 1.0,\n",
       " 'momentum_start': 0.0,\n",
       " 'momentum_ramp': 1000000.0,\n",
       " 'momentum_stable': 0.0,\n",
       " 'nesterov_accelerated_gradient': True,\n",
       " 'input_dropout_ratio': 0.0,\n",
       " 'hidden_dropout_ratios': None,\n",
       " 'l1': 0.0,\n",
       " 'l2': 0.0,\n",
       " 'max_w2': 3.4028235e+38,\n",
       " 'initial_weight_distribution': 'UniformAdaptive',\n",
       " 'initial_weight_scale': 1.0,\n",
       " 'initial_weights': None,\n",
       " 'initial_biases': None,\n",
       " 'loss': 'Automatic',\n",
       " 'distribution': 'gaussian',\n",
       " 'quantile_alpha': 0.5,\n",
       " 'tweedie_power': 1.5,\n",
       " 'huber_alpha': 0.9,\n",
       " 'score_interval': 5.0,\n",
       " 'score_training_samples': 10000,\n",
       " 'score_validation_samples': 0,\n",
       " 'score_duty_cycle': 0.1,\n",
       " 'classification_stop': 0.0,\n",
       " 'regression_stop': 1e-06,\n",
       " 'stopping_rounds': 5,\n",
       " 'stopping_metric': 'deviance',\n",
       " 'stopping_tolerance': 0.0,\n",
       " 'max_runtime_secs': 0.0,\n",
       " 'score_validation_sampling': 'Uniform',\n",
       " 'diagnostics': True,\n",
       " 'fast_mode': True,\n",
       " 'force_load_balance': True,\n",
       " 'variable_importances': True,\n",
       " 'replicate_training_data': True,\n",
       " 'single_node_mode': False,\n",
       " 'shuffle_training_data': False,\n",
       " 'missing_values_handling': 'MeanImputation',\n",
       " 'quiet_mode': False,\n",
       " 'autoencoder': False,\n",
       " 'sparse': False,\n",
       " 'col_major': False,\n",
       " 'average_activation': 0.0,\n",
       " 'sparsity_beta': 0.0,\n",
       " 'max_categorical_features': 2147483647,\n",
       " 'reproducible': False,\n",
       " 'export_weights_and_biases': False,\n",
       " 'mini_batch_size': 1,\n",
       " 'categorical_encoding': 'OneHotInternal',\n",
       " 'elastic_averaging': False,\n",
       " 'elastic_averaging_moving_rate': 0.9,\n",
       " 'elastic_averaging_regularization': 0.001,\n",
       " 'export_checkpoints_dir': None}"
      ]
     },
     "execution_count": 23,
     "metadata": {},
     "output_type": "execute_result"
    }
   ],
   "source": [
    "#> 推定したモデルの設定やハイパーパラメータの確認\n",
    "dl.actual_params"
   ]
  },
  {
   "cell_type": "markdown",
   "metadata": {},
   "source": [
    "- 各内容に関しての[ドキュメント](http://docs.h2o.ai/h2o/latest-stable/h2o-docs/data-science/deep-learning.html#defining-a-deep-learning-model)、[APIドキュメント](https://docs.h2o.ai/h2o/latest-stable/h2o-py/docs/modeling.html#h2odeeplearningestimator)\n",
    "- デフォルト設定の確認の場合 `dl.params`, `dl.default_params`"
   ]
  },
  {
   "cell_type": "code",
   "execution_count": 26,
   "metadata": {},
   "outputs": [
    {
     "data": {
      "image/png": "[encoded data removed]",
      "text/plain": [
       "<Figure size 432x288 with 1 Axes>"
      ]
     },
     "metadata": {
      "needs_background": "light"
     },
     "output_type": "display_data"
    }
   ],
   "source": [
    "#> 学習の履歴の表示\n",
    "dl.plot()"
   ]
  },
  {
   "cell_type": "code",
   "execution_count": 27,
   "metadata": {},
   "outputs": [
    {
     "name": "stdout",
     "output_type": "stream",
     "text": [
      "epochs =  {'default': 10.0, 'actual': 10.0, 'input': 10.0}\n"
     ]
    }
   ],
   "source": [
    "print(\"epochs = \", dl.params['epochs'])"
   ]
  },
  {
   "cell_type": "markdown",
   "metadata": {},
   "source": [
    "- デフォルトのエポック数は10"
   ]
  },
  {
   "cell_type": "code",
   "execution_count": 33,
   "metadata": {},
   "outputs": [
    {
     "data": {
      "image/png": "[encoded data removed]",
      "text/plain": [
       "<Figure size 1008x720 with 1 Axes>"
      ]
     },
     "metadata": {
      "needs_background": "light"
     },
     "output_type": "display_data"
    }
   ],
   "source": [
    "#> 変数重要度の表示\n",
    "dl.varimp_plot(20)"
   ]
  },
  {
   "cell_type": "markdown",
   "metadata": {},
   "source": [
    "- 変数重要度は\"Gedeon method\"により算出（[FAQ](http://docs.h2o.ai/h2o/latest-stable/h2o-docs/data-science/deep-learning.html#faq)に回答あり）"
   ]
  },
  {
   "cell_type": "code",
   "execution_count": 34,
   "metadata": {},
   "outputs": [],
   "source": [
    "#> validデータでの結果の取得\n",
    "default_dl_per = dl.model_performance(valid)"
   ]
  },
  {
   "cell_type": "code",
   "execution_count": 37,
   "metadata": {},
   "outputs": [
    {
     "name": "stdout",
     "output_type": "stream",
     "text": [
      "RMSE on train data:  0.4574595352873423\n",
      "RMSE on valid data:  0.4612041005183944\n"
     ]
    }
   ],
   "source": [
    "print('RMSE on train data: ', dl.rmse())\n",
    "print('RMSE on valid data: ', default_dl_per.rmse())"
   ]
  },
  {
   "cell_type": "markdown",
   "metadata": {},
   "source": [
    "その他NN特有の仕様に関する[FAQ](http://docs.h2o.ai/h2o/latest-stable/h2o-docs/data-science/deep-learning.html#faq)"
   ]
  },
  {
   "cell_type": "markdown",
   "metadata": {},
   "source": [
    "***"
   ]
  },
  {
   "cell_type": "markdown",
   "metadata": {},
   "source": [
    "<a id='TuneXGBoostModelGridSearch'></a>\n",
    "### Tune the XGBoost Model with H2O GridSearch"
   ]
  },
  {
   "cell_type": "code",
   "execution_count": null,
   "metadata": {},
   "outputs": [],
   "source": []
  },
  {
   "cell_type": "code",
   "execution_count": null,
   "metadata": {},
   "outputs": [],
   "source": []
  },
  {
   "cell_type": "code",
   "execution_count": null,
   "metadata": {},
   "outputs": [],
   "source": []
  },
  {
   "cell_type": "code",
   "execution_count": 38,
   "metadata": {},
   "outputs": [
    {
     "name": "stdout",
     "output_type": "stream",
     "text": [
      "H2O session _sid_9a90 closed.\n"
     ]
    }
   ],
   "source": [
    "#> H2Oクラスターの終了\n",
    "h2o.cluster().shutdown()"
   ]
  },
  {
   "cell_type": "code",
   "execution_count": null,
   "metadata": {},
   "outputs": [],
   "source": []
  },
  {
   "cell_type": "markdown",
   "metadata": {},
   "source": [
    "***\n",
    "to do\n",
    "- native xgboostとの比較"
   ]
  }
 ],
 "metadata": {
  "kernelspec": {
   "display_name": "Python 3",
   "language": "python",
   "name": "python3"
  },
  "language_info": {
   "codemirror_mode": {
    "name": "ipython",
    "version": 3
   },
   "file_extension": ".py",
   "mimetype": "text/x-python",
   "name": "python",
   "nbconvert_exporter": "python",
   "pygments_lexer": "ipython3",
   "version": "3.6.12"
  }
 },
 "nbformat": 4,
 "nbformat_minor": 4
}
