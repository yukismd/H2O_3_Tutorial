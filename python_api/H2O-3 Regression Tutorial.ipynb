{
 "cells": [
  {
   "cell_type": "markdown",
   "metadata": {},
   "source": [
    "## H2O-3 Regression Tutorial"
   ]
  },
  {
   "cell_type": "markdown",
   "metadata": {},
   "source": [
    "[**1B. Introduction to Machine Learning with H2O-3 - Regression**](https://training.h2o.ai/products/1b-introduction-to-machine-learning-with-h2o-3-regression)に沿ったチュートリアル"
   ]
  },
  {
   "cell_type": "markdown",
   "metadata": {},
   "source": [
    "[**H2O 3 - ドキュメント**](http://docs.h2o.ai/h2o/latest-stable/h2o-docs/index.html)  \n",
    "[**Python - APIドキュメント**](https://docs.h2o.ai/h2o/latest-stable/h2o-py/docs/index.html)"
   ]
  },
  {
   "cell_type": "markdown",
   "metadata": {},
   "source": [
    "注意：[XGBoost(H2OXGBoostEstimator)はWindows上で動作しない](http://docs.h2o.ai/h2o/latest-stable/h2o-docs/data-science/xgboost.html#limitations)"
   ]
  },
  {
   "cell_type": "markdown",
   "metadata": {},
   "source": [
    "#### 目次\n",
    "- [Initial Setup](#InitialSetup)\n",
    "    - パッケージのインポート\n",
    "    - H2Oクラスターの開始\n",
    "    - データのロード\n",
    "- [Start Experiment](#StartExperiment)\n",
    "    - データの確認\n",
    "    - 学習(train)/検証(valid)/テスト(test)データセットへの分割\n",
    "    - 利用変数の定義\n",
    "- [Build an XGBoost Model](#BuildXGBoostModel)\n",
    "    - XGBoostモデルの作成(デフォルト設定)と学習\n",
    "    - オリジナルのXGBoostとの比較（to do）\n",
    "    - 学習結果の確認\n",
    "    - train/validデータにおける精度確認\n",
    "- [Tune the XGBoost Model with H2O GridSearch](#TuneXGBoostModelGridSearch)\n",
    "    - XXX\n",
    "- [Test Set Performance](#TestSetPerformance)\n",
    "    - XXX\n",
    "    - H2Oクラスターの停止\n",
    "- [H2O-3の特徴](#H2O-3の特徴)"
   ]
  },
  {
   "cell_type": "markdown",
   "metadata": {},
   "source": [
    "***"
   ]
  },
  {
   "cell_type": "markdown",
   "metadata": {},
   "source": [
    "<a id='InitialSetup'></a>\n",
    "### Initial Setup"
   ]
  },
  {
   "cell_type": "code",
   "execution_count": 1,
   "metadata": {},
   "outputs": [],
   "source": [
    "#Import H2O and other libraries that will be used in this tutorial \n",
    "import h2o\n",
    "import matplotlib as plt\n",
    "%matplotlib inline\n",
    "\n",
    "#Import the Estimators\n",
    "from h2o.estimators.deeplearning import H2ODeepLearningEstimator\n",
    "from h2o.estimators import H2OXGBoostEstimator\n",
    "\n",
    "#Import h2o grid search \n",
    "import h2o.grid \n",
    "from h2o.grid.grid_search import H2OGridSearch"
   ]
  },
  {
   "cell_type": "code",
   "execution_count": 2,
   "metadata": {},
   "outputs": [
    {
     "name": "stdout",
     "output_type": "stream",
     "text": [
      "3.30.1.2\n"
     ]
    }
   ],
   "source": [
    "#> h2oパッケージのバージョン確認\n",
    "print(h2o.__version__)"
   ]
  },
  {
   "cell_type": "code",
   "execution_count": 3,
   "metadata": {},
   "outputs": [
    {
     "name": "stdout",
     "output_type": "stream",
     "text": [
      "Checking whether there is an H2O instance running at http://localhost:54321 ..... not found.\n",
      "Attempting to start a local H2O server...\n",
      "  Java Version: java version \"1.8.0_261\"; Java(TM) SE Runtime Environment (build 1.8.0_261-b12); Java HotSpot(TM) 64-Bit Server VM (build 25.261-b12, mixed mode)\n",
      "  Starting server from /home/ec2-user/anaconda3/envs/h2o_3/lib/python3.6/site-packages/h2o/backend/bin/h2o.jar\n",
      "  Ice root: /tmp/tmp_pyx_b82\n",
      "  JVM stdout: /tmp/tmp_pyx_b82/h2o_ec2_user_started_from_python.out\n",
      "  JVM stderr: /tmp/tmp_pyx_b82/h2o_ec2_user_started_from_python.err\n",
      "  Server is running at http://127.0.0.1:54321\n",
      "Connecting to H2O server at http://127.0.0.1:54321 ... successful.\n"
     ]
    },
    {
     "data": {
      "text/html": [
       "<div style=\"overflow:auto\"><table style=\"width:50%\"><tr><td>H2O_cluster_uptime:</td>\n",
       "<td>02 secs</td></tr>\n",
       "<tr><td>H2O_cluster_timezone:</td>\n",
       "<td>Asia/Tokyo</td></tr>\n",
       "<tr><td>H2O_data_parsing_timezone:</td>\n",
       "<td>UTC</td></tr>\n",
       "<tr><td>H2O_cluster_version:</td>\n",
       "<td>3.30.1.2</td></tr>\n",
       "<tr><td>H2O_cluster_version_age:</td>\n",
       "<td>11 days </td></tr>\n",
       "<tr><td>H2O_cluster_name:</td>\n",
       "<td>H2O_from_python_ec2_user_5sqbg7</td></tr>\n",
       "<tr><td>H2O_cluster_total_nodes:</td>\n",
       "<td>1</td></tr>\n",
       "<tr><td>H2O_cluster_free_memory:</td>\n",
       "<td>1.677 Gb</td></tr>\n",
       "<tr><td>H2O_cluster_total_cores:</td>\n",
       "<td>2</td></tr>\n",
       "<tr><td>H2O_cluster_allowed_cores:</td>\n",
       "<td>2</td></tr>\n",
       "<tr><td>H2O_cluster_status:</td>\n",
       "<td>accepting new members, healthy</td></tr>\n",
       "<tr><td>H2O_connection_url:</td>\n",
       "<td>http://127.0.0.1:54321</td></tr>\n",
       "<tr><td>H2O_connection_proxy:</td>\n",
       "<td>{\"http\": null, \"https\": null}</td></tr>\n",
       "<tr><td>H2O_internal_security:</td>\n",
       "<td>False</td></tr>\n",
       "<tr><td>H2O_API_Extensions:</td>\n",
       "<td>Amazon S3, XGBoost, Algos, AutoML, Core V3, TargetEncoder, Core V4</td></tr>\n",
       "<tr><td>Python_version:</td>\n",
       "<td>3.6.12 final</td></tr></table></div>"
      ],
      "text/plain": [
       "--------------------------  ------------------------------------------------------------------\n",
       "H2O_cluster_uptime:         02 secs\n",
       "H2O_cluster_timezone:       Asia/Tokyo\n",
       "H2O_data_parsing_timezone:  UTC\n",
       "H2O_cluster_version:        3.30.1.2\n",
       "H2O_cluster_version_age:    11 days\n",
       "H2O_cluster_name:           H2O_from_python_ec2_user_5sqbg7\n",
       "H2O_cluster_total_nodes:    1\n",
       "H2O_cluster_free_memory:    1.677 Gb\n",
       "H2O_cluster_total_cores:    2\n",
       "H2O_cluster_allowed_cores:  2\n",
       "H2O_cluster_status:         accepting new members, healthy\n",
       "H2O_connection_url:         http://127.0.0.1:54321\n",
       "H2O_connection_proxy:       {\"http\": null, \"https\": null}\n",
       "H2O_internal_security:      False\n",
       "H2O_API_Extensions:         Amazon S3, XGBoost, Algos, AutoML, Core V3, TargetEncoder, Core V4\n",
       "Python_version:             3.6.12 final\n",
       "--------------------------  ------------------------------------------------------------------"
      ]
     },
     "metadata": {},
     "output_type": "display_data"
    }
   ],
   "source": [
    "#> H2Oクラスターの開始\n",
    "h2o.init(url='http://localhost:54321')"
   ]
  },
  {
   "cell_type": "code",
   "execution_count": 4,
   "metadata": {},
   "outputs": [
    {
     "name": "stdout",
     "output_type": "stream",
     "text": [
      "Parse progress: |█████████████████████████████████████████████████████████| 100%\n"
     ]
    }
   ],
   "source": [
    "#> データのロード\n",
    "loan_level = h2o.import_file(\"https://s3.amazonaws.com/data.h2o.ai/DAI-Tutorials/loan_level_500k.csv\")"
   ]
  },
  {
   "cell_type": "markdown",
   "metadata": {},
   "source": [
    "連邦住宅金融抵当公庫(Freddie Mac)が提供する約20年間(1999/1-2018/12)の住宅ローン(Fixed-Rate Mortgages)の履歴データ。金利をターゲット変数として回帰の説明に使用する。  \n",
    "  \n",
    "[Data Reference](http://www.freddiemac.com/research/datasets/sf_loanlevel_dataset.page)  \n",
    "[変数等データ詳細に関して](http://www.freddiemac.com/fmac-resources/research/pdf/user_guide.pdf)  \n",
    "  \n",
    "行数:500,137、列数:27（約80MB）"
   ]
  },
  {
   "cell_type": "markdown",
   "metadata": {},
   "source": [
    "***"
   ]
  },
  {
   "cell_type": "markdown",
   "metadata": {},
   "source": [
    "<a id='StartExperiment'></a>\n",
    "### Start Experiment"
   ]
  },
  {
   "cell_type": "code",
   "execution_count": 5,
   "metadata": {},
   "outputs": [
    {
     "data": {
      "text/html": [
       "<table>\n",
       "<thead>\n",
       "<tr><th style=\"text-align: right;\">  CREDIT_SCORE</th><th style=\"text-align: right;\">  FIRST_PAYMENT_DATE</th><th>FIRST_TIME_HOMEBUYER_FLAG  </th><th style=\"text-align: right;\">  MATURITY_DATE</th><th style=\"text-align: right;\">  METROPOLITAN_STATISTICAL_AREA</th><th style=\"text-align: right;\">  MORTGAGE_INSURANCE_PERCENTAGE</th><th style=\"text-align: right;\">  NUMBER_OF_UNITS</th><th>OCCUPANCY_STATUS  </th><th style=\"text-align: right;\">  ORIGINAL_COMBINED_LOAN_TO_VALUE</th><th style=\"text-align: right;\">  ORIGINAL_DEBT_TO_INCOME_RATIO</th><th style=\"text-align: right;\">  ORIGINAL_UPB</th><th style=\"text-align: right;\">  ORIGINAL_LOAN_TO_VALUE</th><th style=\"text-align: right;\">  ORIGINAL_INTEREST_RATE</th><th>CHANNEL  </th><th>PREPAYMENT_PENALTY_MORTGAGE_FLAG  </th><th>PRODUCT_TYPE  </th><th>PROPERTY_STATE  </th><th>PROPERTY_TYPE  </th><th style=\"text-align: right;\">  POSTAL_CODE</th><th>LOAN_SEQUENCE_NUMBER  </th><th>LOAN_PURPOSE  </th><th style=\"text-align: right;\">  ORIGINAL_LOAN_TERM</th><th style=\"text-align: right;\">  NUMBER_OF_BORROWERS</th><th>SELLER_NAME  </th><th>SERVICER_NAME  </th><th>PREPAID  </th><th>DELINQUENT  </th></tr>\n",
       "</thead>\n",
       "<tbody>\n",
       "<tr><td style=\"text-align: right;\">           669</td><td style=\"text-align: right;\">              200206</td><td>N                          </td><td style=\"text-align: right;\">         202901</td><td style=\"text-align: right;\">                            nan</td><td style=\"text-align: right;\">                              0</td><td style=\"text-align: right;\">                1</td><td>O                 </td><td style=\"text-align: right;\">                               80</td><td style=\"text-align: right;\">                             33</td><td style=\"text-align: right;\">        162000</td><td style=\"text-align: right;\">                      80</td><td style=\"text-align: right;\">                   7.12 </td><td>R        </td><td>N                                 </td><td>FRM           </td><td>WV              </td><td>SF             </td><td style=\"text-align: right;\">        26100</td><td>F199Q1000004          </td><td>P             </td><td style=\"text-align: right;\">                 320</td><td style=\"text-align: right;\">                    2</td><td>Other sellers</td><td>Other servicers</td><td>TRUE     </td><td>FALSE       </td></tr>\n",
       "<tr><td style=\"text-align: right;\">           732</td><td style=\"text-align: right;\">              199904</td><td>N                          </td><td style=\"text-align: right;\">         202903</td><td style=\"text-align: right;\">                          17140</td><td style=\"text-align: right;\">                              0</td><td style=\"text-align: right;\">                1</td><td>O                 </td><td style=\"text-align: right;\">                               25</td><td style=\"text-align: right;\">                             10</td><td style=\"text-align: right;\">         53000</td><td style=\"text-align: right;\">                      25</td><td style=\"text-align: right;\">                   6.5  </td><td>R        </td><td>N                                 </td><td>FRM           </td><td>OH              </td><td>SF             </td><td style=\"text-align: right;\">        45200</td><td>F199Q1000005          </td><td>N             </td><td style=\"text-align: right;\">                 360</td><td style=\"text-align: right;\">                    1</td><td>Other sellers</td><td>Other servicers</td><td>TRUE     </td><td>FALSE       </td></tr>\n",
       "<tr><td style=\"text-align: right;\">           679</td><td style=\"text-align: right;\">              200208</td><td>N                          </td><td style=\"text-align: right;\">         202902</td><td style=\"text-align: right;\">                          15940</td><td style=\"text-align: right;\">                             30</td><td style=\"text-align: right;\">                1</td><td>O                 </td><td style=\"text-align: right;\">                               91</td><td style=\"text-align: right;\">                             48</td><td style=\"text-align: right;\">        133000</td><td style=\"text-align: right;\">                      91</td><td style=\"text-align: right;\">                   6.75 </td><td>R        </td><td>N                                 </td><td>FRM           </td><td>OH              </td><td>SF             </td><td style=\"text-align: right;\">        44700</td><td>F199Q1000007          </td><td>P             </td><td style=\"text-align: right;\">                 319</td><td style=\"text-align: right;\">                    1</td><td>Other sellers</td><td>Other servicers</td><td>TRUE     </td><td>FALSE       </td></tr>\n",
       "<tr><td style=\"text-align: right;\">           721</td><td style=\"text-align: right;\">              200209</td><td>N                          </td><td style=\"text-align: right;\">         202902</td><td style=\"text-align: right;\">                          38060</td><td style=\"text-align: right;\">                              0</td><td style=\"text-align: right;\">                1</td><td>O                 </td><td style=\"text-align: right;\">                               39</td><td style=\"text-align: right;\">                             13</td><td style=\"text-align: right;\">        174000</td><td style=\"text-align: right;\">                      39</td><td style=\"text-align: right;\">                   6.625</td><td>T        </td><td>N                                 </td><td>FRM           </td><td>AZ              </td><td>SF             </td><td style=\"text-align: right;\">        85200</td><td>F199Q1000013          </td><td>N             </td><td style=\"text-align: right;\">                 318</td><td style=\"text-align: right;\">                    2</td><td>Other sellers</td><td>Other servicers</td><td>TRUE     </td><td>FALSE       </td></tr>\n",
       "<tr><td style=\"text-align: right;\">           618</td><td style=\"text-align: right;\">              200210</td><td>N                          </td><td style=\"text-align: right;\">         202902</td><td style=\"text-align: right;\">                          10420</td><td style=\"text-align: right;\">                             25</td><td style=\"text-align: right;\">                1</td><td>O                 </td><td style=\"text-align: right;\">                               85</td><td style=\"text-align: right;\">                             24</td><td style=\"text-align: right;\">        122000</td><td style=\"text-align: right;\">                      85</td><td style=\"text-align: right;\">                   6.375</td><td>R        </td><td>N                                 </td><td>FRM           </td><td>OH              </td><td>SF             </td><td style=\"text-align: right;\">        44200</td><td>F199Q1000015          </td><td>N             </td><td style=\"text-align: right;\">                 317</td><td style=\"text-align: right;\">                    2</td><td>Other sellers</td><td>Other servicers</td><td>TRUE     </td><td>FALSE       </td></tr>\n",
       "<tr><td style=\"text-align: right;\">           738</td><td style=\"text-align: right;\">              200211</td><td>N                          </td><td style=\"text-align: right;\">         202903</td><td style=\"text-align: right;\">                          10420</td><td style=\"text-align: right;\">                              0</td><td style=\"text-align: right;\">                1</td><td>O                 </td><td style=\"text-align: right;\">                               73</td><td style=\"text-align: right;\">                             44</td><td style=\"text-align: right;\">        218000</td><td style=\"text-align: right;\">                      73</td><td style=\"text-align: right;\">                   6    </td><td>R        </td><td>N                                 </td><td>FRM           </td><td>OH              </td><td>SF             </td><td style=\"text-align: right;\">        44300</td><td>F199Q1000016          </td><td>P             </td><td style=\"text-align: right;\">                 317</td><td style=\"text-align: right;\">                    2</td><td>Other sellers</td><td>Other servicers</td><td>TRUE     </td><td>FALSE       </td></tr>\n",
       "<tr><td style=\"text-align: right;\">           761</td><td style=\"text-align: right;\">              200211</td><td>N                          </td><td style=\"text-align: right;\">         202904</td><td style=\"text-align: right;\">                            nan</td><td style=\"text-align: right;\">                              0</td><td style=\"text-align: right;\">                1</td><td>O                 </td><td style=\"text-align: right;\">                               73</td><td style=\"text-align: right;\">                             31</td><td style=\"text-align: right;\">        138000</td><td style=\"text-align: right;\">                      73</td><td style=\"text-align: right;\">                   6.375</td><td>R        </td><td>N                                 </td><td>FRM           </td><td>SC              </td><td>PU             </td><td style=\"text-align: right;\">        29500</td><td>F199Q1000017          </td><td>P             </td><td style=\"text-align: right;\">                 318</td><td style=\"text-align: right;\">                    2</td><td>Other sellers</td><td>Other servicers</td><td>TRUE     </td><td>FALSE       </td></tr>\n",
       "<tr><td style=\"text-align: right;\">           707</td><td style=\"text-align: right;\">              200211</td><td>N                          </td><td style=\"text-align: right;\">         202903</td><td style=\"text-align: right;\">                          33340</td><td style=\"text-align: right;\">                              0</td><td style=\"text-align: right;\">                1</td><td>O                 </td><td style=\"text-align: right;\">                               60</td><td style=\"text-align: right;\">                             57</td><td style=\"text-align: right;\">        136000</td><td style=\"text-align: right;\">                      60</td><td style=\"text-align: right;\">                   6.25 </td><td>R        </td><td>N                                 </td><td>FRM           </td><td>WI              </td><td>SF             </td><td style=\"text-align: right;\">        53000</td><td>F199Q1000018          </td><td>C             </td><td style=\"text-align: right;\">                 317</td><td style=\"text-align: right;\">                    2</td><td>Other sellers</td><td>Other servicers</td><td>TRUE     </td><td>FALSE       </td></tr>\n",
       "<tr><td style=\"text-align: right;\">           760</td><td style=\"text-align: right;\">              200211</td><td>N                          </td><td style=\"text-align: right;\">         202903</td><td style=\"text-align: right;\">                          33340</td><td style=\"text-align: right;\">                              0</td><td style=\"text-align: right;\">                1</td><td>O                 </td><td style=\"text-align: right;\">                               63</td><td style=\"text-align: right;\">                             30</td><td style=\"text-align: right;\">         79000</td><td style=\"text-align: right;\">                      63</td><td style=\"text-align: right;\">                   6.125</td><td>R        </td><td>N                                 </td><td>FRM           </td><td>WI              </td><td>SF             </td><td style=\"text-align: right;\">        53000</td><td>F199Q1000019          </td><td>N             </td><td style=\"text-align: right;\">                 317</td><td style=\"text-align: right;\">                    2</td><td>Other sellers</td><td>Other servicers</td><td>TRUE     </td><td>FALSE       </td></tr>\n",
       "<tr><td style=\"text-align: right;\">           691</td><td style=\"text-align: right;\">              200302</td><td>N                          </td><td style=\"text-align: right;\">         202901</td><td style=\"text-align: right;\">                          15940</td><td style=\"text-align: right;\">                              0</td><td style=\"text-align: right;\">                1</td><td>O                 </td><td style=\"text-align: right;\">                               65</td><td style=\"text-align: right;\">                             25</td><td style=\"text-align: right;\">        130000</td><td style=\"text-align: right;\">                      65</td><td style=\"text-align: right;\">                   5.875</td><td>R        </td><td>N                                 </td><td>FRM           </td><td>OH              </td><td>SF             </td><td style=\"text-align: right;\">        44700</td><td>F199Q1000023          </td><td>P             </td><td style=\"text-align: right;\">                 312</td><td style=\"text-align: right;\">                    2</td><td>Other sellers</td><td>Other servicers</td><td>TRUE     </td><td>FALSE       </td></tr>\n",
       "</tbody>\n",
       "</table>"
      ]
     },
     "metadata": {},
     "output_type": "display_data"
    },
    {
     "data": {
      "text/plain": []
     },
     "execution_count": 5,
     "metadata": {},
     "output_type": "execute_result"
    }
   ],
   "source": [
    "loan_level.head()"
   ]
  },
  {
   "cell_type": "markdown",
   "metadata": {},
   "source": [
    "ターゲット変数として利用する「金利(ORIGINAL_INTEREST_RATE)」の分布の確認"
   ]
  },
  {
   "cell_type": "code",
   "execution_count": 6,
   "metadata": {},
   "outputs": [
    {
     "name": "stdout",
     "output_type": "stream",
     "text": [
      "Rows:500137\n",
      "Cols:1\n",
      "\n",
      "\n"
     ]
    },
    {
     "data": {
      "text/html": [
       "<table>\n",
       "<thead>\n",
       "<tr><th>       </th><th>ORIGINAL_INTEREST_RATE  </th></tr>\n",
       "</thead>\n",
       "<tbody>\n",
       "<tr><td>type   </td><td>real                    </td></tr>\n",
       "<tr><td>mins   </td><td>4.625                   </td></tr>\n",
       "<tr><td>mean   </td><td>7.182686863799322       </td></tr>\n",
       "<tr><td>maxs   </td><td>11.5                    </td></tr>\n",
       "<tr><td>sigma  </td><td>0.5799408623980744      </td></tr>\n",
       "<tr><td>zeros  </td><td>0                       </td></tr>\n",
       "<tr><td>missing</td><td>0                       </td></tr>\n",
       "<tr><td>0      </td><td>7.12                    </td></tr>\n",
       "<tr><td>1      </td><td>6.5                     </td></tr>\n",
       "<tr><td>2      </td><td>6.75                    </td></tr>\n",
       "<tr><td>3      </td><td>6.625                   </td></tr>\n",
       "<tr><td>4      </td><td>6.375                   </td></tr>\n",
       "<tr><td>5      </td><td>6.0                     </td></tr>\n",
       "<tr><td>6      </td><td>6.375                   </td></tr>\n",
       "<tr><td>7      </td><td>6.25                    </td></tr>\n",
       "<tr><td>8      </td><td>6.125                   </td></tr>\n",
       "<tr><td>9      </td><td>5.875                   </td></tr>\n",
       "</tbody>\n",
       "</table>"
      ]
     },
     "metadata": {},
     "output_type": "display_data"
    }
   ],
   "source": [
    "loan_level[\"ORIGINAL_INTEREST_RATE\"].describe()"
   ]
  },
  {
   "cell_type": "code",
   "execution_count": 7,
   "metadata": {},
   "outputs": [
    {
     "data": {
      "image/png": "[encoded data removed]",
      "text/plain": [
       "<Figure size 432x288 with 1 Axes>"
      ]
     },
     "metadata": {
      "needs_background": "light"
     },
     "output_type": "display_data"
    }
   ],
   "source": [
    "#> ヒストグラムによる分布の確認\n",
    "loan_level[\"ORIGINAL_INTEREST_RATE\"].hist()"
   ]
  },
  {
   "cell_type": "code",
   "execution_count": 8,
   "metadata": {},
   "outputs": [
    {
     "name": "stdout",
     "output_type": "stream",
     "text": [
      "＜train/valid/testのデータ数＞\n",
      "train:350268 valid:74971 test:74898\n"
     ]
    }
   ],
   "source": [
    "#> 学習/検証/テストデータセットへの分割（学習 : 検証 : テスト = 70% : 15% : 15%）\n",
    "train, valid, test = loan_level.split_frame([0.7, 0.15], seed=42)\n",
    "print(\"＜train/valid/testのデータ数＞\")\n",
    "print( \"train:%d valid:%d test:%d\" % (train.nrows, valid.nrows, test.nrows ))"
   ]
  },
  {
   "cell_type": "code",
   "execution_count": 9,
   "metadata": {},
   "outputs": [
    {
     "name": "stdout",
     "output_type": "stream",
     "text": [
      "['PROPERTY_STATE', 'METROPOLITAN_STATISTICAL_AREA', 'PROPERTY_TYPE', 'ORIGINAL_COMBINED_LOAN_TO_VALUE', 'ORIGINAL_UPB', 'NUMBER_OF_UNITS', 'SELLER_NAME', 'ORIGINAL_DEBT_TO_INCOME_RATIO', 'CHANNEL', 'ORIGINAL_LOAN_TO_VALUE', 'FIRST_TIME_HOMEBUYER_FLAG', 'NUMBER_OF_BORROWERS', 'CREDIT_SCORE', 'POSTAL_CODE', 'ORIGINAL_LOAN_TERM', 'SERVICER_NAME', 'LOAN_PURPOSE', 'OCCUPANCY_STATUS']\n"
     ]
    }
   ],
   "source": [
    "#> ターゲット変数、特徴量の定義\n",
    "y = \"ORIGINAL_INTEREST_RATE\"\n",
    "\n",
    "ignore = [\"ORIGINAL_INTEREST_RATE\", \n",
    "          \"FIRST_PAYMENT_DATE\", \n",
    "          \"MATURITY_DATE\", \n",
    "          \"MORTGAGE_INSURANCE_PERCENTAGE\", \n",
    "          \"PREPAYMENT_PENALTY_MORTGAGE_FLAG\", \n",
    "          \"LOAN_SEQUENCE_NUMBER\", \n",
    "          \"PREPAID\", \n",
    "          \"DELINQUENT\", \n",
    "          \"PRODUCT_TYPE\"] \n",
    "\n",
    "x = list(set(train.names) - set(ignore))\n",
    "print(x)"
   ]
  },
  {
   "cell_type": "code",
   "execution_count": 10,
   "metadata": {},
   "outputs": [
    {
     "name": "stdout",
     "output_type": "stream",
     "text": [
      "Rows:500137\n",
      "Cols:18\n",
      "\n",
      "\n"
     ]
    },
    {
     "data": {
      "text/html": [
       "<table>\n",
       "<thead>\n",
       "<tr><th>       </th><th>PROPERTY_STATE  </th><th>METROPOLITAN_STATISTICAL_AREA  </th><th>PROPERTY_TYPE  </th><th>ORIGINAL_COMBINED_LOAN_TO_VALUE  </th><th>ORIGINAL_UPB      </th><th>NUMBER_OF_UNITS    </th><th>SELLER_NAME  </th><th>ORIGINAL_DEBT_TO_INCOME_RATIO  </th><th>CHANNEL  </th><th>ORIGINAL_LOAN_TO_VALUE  </th><th>FIRST_TIME_HOMEBUYER_FLAG  </th><th>NUMBER_OF_BORROWERS  </th><th>CREDIT_SCORE     </th><th>POSTAL_CODE      </th><th>ORIGINAL_LOAN_TERM  </th><th>SERVICER_NAME  </th><th>LOAN_PURPOSE  </th><th>OCCUPANCY_STATUS  </th></tr>\n",
       "</thead>\n",
       "<tbody>\n",
       "<tr><td>type   </td><td>enum            </td><td>int                            </td><td>enum           </td><td>int                              </td><td>int               </td><td>int                </td><td>enum         </td><td>int                            </td><td>enum     </td><td>int                     </td><td>enum                       </td><td>int                  </td><td>int              </td><td>int              </td><td>int                 </td><td>enum           </td><td>enum          </td><td>enum              </td></tr>\n",
       "<tr><td>mins   </td><td>                </td><td>10180.0                        </td><td>               </td><td>6.0                              </td><td>8000.0            </td><td>1.0                </td><td>             </td><td>1.0                            </td><td>         </td><td>6.0                     </td><td>                           </td><td>1.0                  </td><td>300.0            </td><td>600.0            </td><td>301.0               </td><td>               </td><td>              </td><td>                  </td></tr>\n",
       "<tr><td>mean   </td><td>                </td><td>30777.82473929504              </td><td>               </td><td>76.0535707144633                 </td><td>136493.48478516805</td><td>1.0288902574110184 </td><td>             </td><td>32.91754051870545              </td><td>         </td><td>75.71071405720141       </td><td>                           </td><td>1.6302946648262713   </td><td>712.5362124215468</td><td>55490.8571382869 </td><td>359.8554696013299   </td><td>               </td><td>              </td><td>                  </td></tr>\n",
       "<tr><td>maxs   </td><td>                </td><td>49740.0                        </td><td>               </td><td>180.0                            </td><td>578000.0          </td><td>4.0                </td><td>             </td><td>65.0                           </td><td>         </td><td>100.0                   </td><td>                           </td><td>2.0                  </td><td>839.0            </td><td>99900.0          </td><td>362.0               </td><td>               </td><td>              </td><td>                  </td></tr>\n",
       "<tr><td>sigma  </td><td>                </td><td>11333.401144164478             </td><td>               </td><td>15.139986048512673               </td><td>60968.74306564561 </td><td>0.21839057355939082</td><td>             </td><td>11.111799994455248             </td><td>         </td><td>14.937717088968643      </td><td>                           </td><td>0.48272535304031594  </td><td>54.79126197408813</td><td>29505.38225880303</td><td>1.9082507104186504  </td><td>               </td><td>              </td><td>                  </td></tr>\n",
       "<tr><td>zeros  </td><td>                </td><td>0                              </td><td>               </td><td>0                                </td><td>0                 </td><td>0                  </td><td>             </td><td>0                              </td><td>         </td><td>0                       </td><td>                           </td><td>0                    </td><td>0                </td><td>0                </td><td>0                   </td><td>               </td><td>              </td><td>                  </td></tr>\n",
       "<tr><td>missing</td><td>0               </td><td>70149                          </td><td>0              </td><td>13                               </td><td>0                 </td><td>3                  </td><td>0            </td><td>14929                          </td><td>0        </td><td>9                       </td><td>0                          </td><td>247                  </td><td>2711             </td><td>31               </td><td>0                   </td><td>0              </td><td>0             </td><td>0                 </td></tr>\n",
       "<tr><td>0      </td><td>WV              </td><td>nan                            </td><td>SF             </td><td>80.0                             </td><td>162000.0          </td><td>1.0                </td><td>Other sellers</td><td>33.0                           </td><td>R        </td><td>80.0                    </td><td>N                          </td><td>2.0                  </td><td>669.0            </td><td>26100.0          </td><td>320.0               </td><td>Other servicers</td><td>P             </td><td>O                 </td></tr>\n",
       "<tr><td>1      </td><td>OH              </td><td>17140.0                        </td><td>SF             </td><td>25.0                             </td><td>53000.0           </td><td>1.0                </td><td>Other sellers</td><td>10.0                           </td><td>R        </td><td>25.0                    </td><td>N                          </td><td>1.0                  </td><td>732.0            </td><td>45200.0          </td><td>360.0               </td><td>Other servicers</td><td>N             </td><td>O                 </td></tr>\n",
       "<tr><td>2      </td><td>OH              </td><td>15940.0                        </td><td>SF             </td><td>91.0                             </td><td>133000.0          </td><td>1.0                </td><td>Other sellers</td><td>48.0                           </td><td>R        </td><td>91.0                    </td><td>N                          </td><td>1.0                  </td><td>679.0            </td><td>44700.0          </td><td>319.0               </td><td>Other servicers</td><td>P             </td><td>O                 </td></tr>\n",
       "<tr><td>3      </td><td>AZ              </td><td>38060.0                        </td><td>SF             </td><td>39.0                             </td><td>174000.0          </td><td>1.0                </td><td>Other sellers</td><td>13.0                           </td><td>T        </td><td>39.0                    </td><td>N                          </td><td>2.0                  </td><td>721.0            </td><td>85200.0          </td><td>318.0               </td><td>Other servicers</td><td>N             </td><td>O                 </td></tr>\n",
       "<tr><td>4      </td><td>OH              </td><td>10420.0                        </td><td>SF             </td><td>85.0                             </td><td>122000.0          </td><td>1.0                </td><td>Other sellers</td><td>24.0                           </td><td>R        </td><td>85.0                    </td><td>N                          </td><td>2.0                  </td><td>618.0            </td><td>44200.0          </td><td>317.0               </td><td>Other servicers</td><td>N             </td><td>O                 </td></tr>\n",
       "<tr><td>5      </td><td>OH              </td><td>10420.0                        </td><td>SF             </td><td>73.0                             </td><td>218000.0          </td><td>1.0                </td><td>Other sellers</td><td>44.0                           </td><td>R        </td><td>73.0                    </td><td>N                          </td><td>2.0                  </td><td>738.0            </td><td>44300.0          </td><td>317.0               </td><td>Other servicers</td><td>P             </td><td>O                 </td></tr>\n",
       "<tr><td>6      </td><td>SC              </td><td>nan                            </td><td>PU             </td><td>73.0                             </td><td>138000.0          </td><td>1.0                </td><td>Other sellers</td><td>31.0                           </td><td>R        </td><td>73.0                    </td><td>N                          </td><td>2.0                  </td><td>761.0            </td><td>29500.0          </td><td>318.0               </td><td>Other servicers</td><td>P             </td><td>O                 </td></tr>\n",
       "<tr><td>7      </td><td>WI              </td><td>33340.0                        </td><td>SF             </td><td>60.0                             </td><td>136000.0          </td><td>1.0                </td><td>Other sellers</td><td>57.0                           </td><td>R        </td><td>60.0                    </td><td>N                          </td><td>2.0                  </td><td>707.0            </td><td>53000.0          </td><td>317.0               </td><td>Other servicers</td><td>C             </td><td>O                 </td></tr>\n",
       "<tr><td>8      </td><td>WI              </td><td>33340.0                        </td><td>SF             </td><td>63.0                             </td><td>79000.0           </td><td>1.0                </td><td>Other sellers</td><td>30.0                           </td><td>R        </td><td>63.0                    </td><td>N                          </td><td>2.0                  </td><td>760.0            </td><td>53000.0          </td><td>317.0               </td><td>Other servicers</td><td>N             </td><td>O                 </td></tr>\n",
       "<tr><td>9      </td><td>OH              </td><td>15940.0                        </td><td>SF             </td><td>65.0                             </td><td>130000.0          </td><td>1.0                </td><td>Other sellers</td><td>25.0                           </td><td>R        </td><td>65.0                    </td><td>N                          </td><td>2.0                  </td><td>691.0            </td><td>44700.0          </td><td>312.0               </td><td>Other servicers</td><td>P             </td><td>O                 </td></tr>\n",
       "</tbody>\n",
       "</table>"
      ]
     },
     "metadata": {},
     "output_type": "display_data"
    }
   ],
   "source": [
    "loan_level[x].describe()"
   ]
  },
  {
   "cell_type": "markdown",
   "metadata": {},
   "source": [
    "***"
   ]
  },
  {
   "cell_type": "markdown",
   "metadata": {},
   "source": [
    "<a id='BuildXGBoostModel'></a>\n",
    "### Build an XGBoost Model"
   ]
  },
  {
   "cell_type": "markdown",
   "metadata": {},
   "source": [
    "[**XGBoost - ドキュメント**](http://docs.h2o.ai/h2o/latest-stable/h2o-docs/data-science/xgboost.html#xgboost)  \n",
    "[**H2OXGBoostEstimator - APIドキュメント**](https://docs.h2o.ai/h2o/latest-stable/h2o-py/docs/modeling.html#h2oxgboostestimator)\n",
    "  \n",
    "H2O XGBoostはH2Oクラスター上でオリジナルのXGBoost動作させるようビルドされたもの。カテゴリ変数の自動Encodingといった処理も含まれている。"
   ]
  },
  {
   "cell_type": "markdown",
   "metadata": {},
   "source": [
    "オリジナルのXGBoostの[ドキュメンテーション](https://xgboost.readthedocs.io/en/latest/#)"
   ]
  },
  {
   "cell_type": "code",
   "execution_count": 11,
   "metadata": {
    "scrolled": true
   },
   "outputs": [
    {
     "name": "stdout",
     "output_type": "stream",
     "text": [
      "xgboost Model Build progress: |███████████████████████████████████████████| 100%\n",
      "CPU times: user 317 ms, sys: 33.3 ms, total: 351 ms\n",
      "Wall time: 27.5 s\n"
     ]
    }
   ],
   "source": [
    "xgb = H2OXGBoostEstimator(seed=42, \n",
    "                          model_id='XGBoost', \n",
    "                          nfolds=0, \n",
    "                          keep_cross_validation_predictions=False)\n",
    "\n",
    "%time xgb.train(x=x, y=y, training_frame=train, validation_frame=valid)    # 注：Windowsではサポートされていない"
   ]
  },
  {
   "cell_type": "markdown",
   "metadata": {},
   "source": [
    "- train時にvalidation_frameを指定してホールドアウト法になるので、nfolds=0、keep_cross_validation_predictions=False(それぞれデフォルト)としている"
   ]
  },
  {
   "cell_type": "code",
   "execution_count": 12,
   "metadata": {
    "scrolled": true
   },
   "outputs": [
    {
     "name": "stdout",
     "output_type": "stream",
     "text": [
      "Model Details\n",
      "=============\n",
      "H2OXGBoostEstimator :  XGBoost\n",
      "Model Key:  XGBoost\n",
      "\n",
      "\n",
      "Model Summary: \n"
     ]
    },
    {
     "data": {
      "text/html": [
       "<div style=\"overflow:auto\"><table style=\"width:50%\"><tr><td><b></b></td>\n",
       "<td><b>number_of_trees</b></td></tr>\n",
       "<tr><td></td>\n",
       "<td>50.0</td></tr></table></div>"
      ],
      "text/plain": [
       "    number_of_trees\n",
       "--  -----------------\n",
       "    50"
      ]
     },
     "metadata": {},
     "output_type": "display_data"
    },
    {
     "name": "stdout",
     "output_type": "stream",
     "text": [
      "\n",
      "\n",
      "ModelMetricsRegression: xgboost\n",
      "** Reported on train data. **\n",
      "\n",
      "MSE: 0.17744636323081306\n",
      "RMSE: 0.4212438287154045\n",
      "MAE: 0.30712844420662655\n",
      "RMSLE: 0.04987056256391179\n",
      "Mean Residual Deviance: 0.17744636323081306\n",
      "\n",
      "ModelMetricsRegression: xgboost\n",
      "** Reported on validation data. **\n",
      "\n",
      "MSE: 0.18013989282125126\n",
      "RMSE: 0.4244289019626859\n",
      "MAE: 0.3108204587914598\n",
      "RMSLE: 0.0503052982338251\n",
      "Mean Residual Deviance: 0.18013989282125126\n",
      "\n",
      "Scoring History: \n"
     ]
    },
    {
     "data": {
      "text/html": [
       "<div style=\"overflow:auto\"><table style=\"width:50%\"><tr><td><b></b></td>\n",
       "<td><b>timestamp</b></td>\n",
       "<td><b>duration</b></td>\n",
       "<td><b>number_of_trees</b></td>\n",
       "<td><b>training_rmse</b></td>\n",
       "<td><b>training_mae</b></td>\n",
       "<td><b>training_deviance</b></td>\n",
       "<td><b>validation_rmse</b></td>\n",
       "<td><b>validation_mae</b></td>\n",
       "<td><b>validation_deviance</b></td></tr>\n",
       "<tr><td></td>\n",
       "<td>2020-09-15 07:20:33</td>\n",
       "<td> 0.075 sec</td>\n",
       "<td>0.0</td>\n",
       "<td>6.7088631</td>\n",
       "<td>6.6836794</td>\n",
       "<td>45.0088439</td>\n",
       "<td>6.7047501</td>\n",
       "<td>6.6798046</td>\n",
       "<td>44.9536733</td></tr>\n",
       "<tr><td></td>\n",
       "<td>2020-09-15 07:20:36</td>\n",
       "<td> 2.466 sec</td>\n",
       "<td>1.0</td>\n",
       "<td>4.7104733</td>\n",
       "<td>4.6786978</td>\n",
       "<td>22.1885588</td>\n",
       "<td>4.7073544</td>\n",
       "<td>4.6757908</td>\n",
       "<td>22.1591850</td></tr>\n",
       "<tr><td></td>\n",
       "<td>2020-09-15 07:20:36</td>\n",
       "<td> 3.230 sec</td>\n",
       "<td>2.0</td>\n",
       "<td>3.3168272</td>\n",
       "<td>3.2752196</td>\n",
       "<td>11.0013425</td>\n",
       "<td>3.3139314</td>\n",
       "<td>3.2725993</td>\n",
       "<td>10.9821415</td></tr>\n",
       "<tr><td></td>\n",
       "<td>2020-09-15 07:20:37</td>\n",
       "<td> 3.812 sec</td>\n",
       "<td>3.0</td>\n",
       "<td>2.3488131</td>\n",
       "<td>2.2927392</td>\n",
       "<td>5.5169229</td>\n",
       "<td>2.3462673</td>\n",
       "<td>2.2904798</td>\n",
       "<td>5.5049702</td></tr>\n",
       "<tr><td></td>\n",
       "<td>2020-09-15 07:20:38</td>\n",
       "<td> 4.403 sec</td>\n",
       "<td>4.0</td>\n",
       "<td>1.6810353</td>\n",
       "<td>1.6051706</td>\n",
       "<td>2.8258796</td>\n",
       "<td>1.6786024</td>\n",
       "<td>1.6031085</td>\n",
       "<td>2.8177062</td></tr>\n",
       "<tr><td></td>\n",
       "<td>2020-09-15 07:20:38</td>\n",
       "<td> 5.025 sec</td>\n",
       "<td>5.0</td>\n",
       "<td>1.2265317</td>\n",
       "<td>1.1245445</td>\n",
       "<td>1.5043799</td>\n",
       "<td>1.2244424</td>\n",
       "<td>1.1227758</td>\n",
       "<td>1.4992593</td></tr>\n",
       "<tr><td></td>\n",
       "<td>2020-09-15 07:20:42</td>\n",
       "<td> 9.203 sec</td>\n",
       "<td>15.0</td>\n",
       "<td>0.4526525</td>\n",
       "<td>0.3278245</td>\n",
       "<td>0.2048943</td>\n",
       "<td>0.4522328</td>\n",
       "<td>0.3289853</td>\n",
       "<td>0.2045145</td></tr>\n",
       "<tr><td></td>\n",
       "<td>2020-09-15 07:20:46</td>\n",
       "<td>13.244 sec</td>\n",
       "<td>24.0</td>\n",
       "<td>0.4384250</td>\n",
       "<td>0.3211508</td>\n",
       "<td>0.1922165</td>\n",
       "<td>0.4389171</td>\n",
       "<td>0.3229872</td>\n",
       "<td>0.1926482</td></tr>\n",
       "<tr><td></td>\n",
       "<td>2020-09-15 07:20:51</td>\n",
       "<td>17.759 sec</td>\n",
       "<td>34.0</td>\n",
       "<td>0.4303815</td>\n",
       "<td>0.3147750</td>\n",
       "<td>0.1852282</td>\n",
       "<td>0.4316122</td>\n",
       "<td>0.3173036</td>\n",
       "<td>0.1862891</td></tr>\n",
       "<tr><td></td>\n",
       "<td>2020-09-15 07:20:57</td>\n",
       "<td>24.150 sec</td>\n",
       "<td>48.0</td>\n",
       "<td>0.4219223</td>\n",
       "<td>0.3077781</td>\n",
       "<td>0.1780184</td>\n",
       "<td>0.4248844</td>\n",
       "<td>0.3113217</td>\n",
       "<td>0.1805268</td></tr>\n",
       "<tr><td></td>\n",
       "<td>2020-09-15 07:20:59</td>\n",
       "<td>25.805 sec</td>\n",
       "<td>50.0</td>\n",
       "<td>0.4212438</td>\n",
       "<td>0.3071284</td>\n",
       "<td>0.1774464</td>\n",
       "<td>0.4244289</td>\n",
       "<td>0.3108205</td>\n",
       "<td>0.1801399</td></tr></table></div>"
      ],
      "text/plain": [
       "    timestamp            duration    number_of_trees    training_rmse    training_mae    training_deviance    validation_rmse    validation_mae    validation_deviance\n",
       "--  -------------------  ----------  -----------------  ---------------  --------------  -------------------  -----------------  ----------------  ---------------------\n",
       "    2020-09-15 07:20:33  0.075 sec   0                  6.70886          6.68368         45.0088              6.70475            6.6798            44.9537\n",
       "    2020-09-15 07:20:36  2.466 sec   1                  4.71047          4.6787          22.1886              4.70735            4.67579           22.1592\n",
       "    2020-09-15 07:20:36  3.230 sec   2                  3.31683          3.27522         11.0013              3.31393            3.2726            10.9821\n",
       "    2020-09-15 07:20:37  3.812 sec   3                  2.34881          2.29274         5.51692              2.34627            2.29048           5.50497\n",
       "    2020-09-15 07:20:38  4.403 sec   4                  1.68104          1.60517         2.82588              1.6786             1.60311           2.81771\n",
       "    2020-09-15 07:20:38  5.025 sec   5                  1.22653          1.12454         1.50438              1.22444            1.12278           1.49926\n",
       "    2020-09-15 07:20:42  9.203 sec   15                 0.452653         0.327825        0.204894             0.452233           0.328985          0.204514\n",
       "    2020-09-15 07:20:46  13.244 sec  24                 0.438425         0.321151        0.192216             0.438917           0.322987          0.192648\n",
       "    2020-09-15 07:20:51  17.759 sec  34                 0.430381         0.314775        0.185228             0.431612           0.317304          0.186289\n",
       "    2020-09-15 07:20:57  24.150 sec  48                 0.421922         0.307778        0.178018             0.424884           0.311322          0.180527\n",
       "    2020-09-15 07:20:59  25.805 sec  50                 0.421244         0.307128        0.177446             0.424429           0.31082           0.18014"
      ]
     },
     "metadata": {},
     "output_type": "display_data"
    },
    {
     "name": "stdout",
     "output_type": "stream",
     "text": [
      "\n",
      "Variable Importances: \n"
     ]
    },
    {
     "data": {
      "text/html": [
       "<div style=\"overflow:auto\"><table style=\"width:50%\"><tr><td><b>variable</b></td>\n",
       "<td><b>relative_importance</b></td>\n",
       "<td><b>scaled_importance</b></td>\n",
       "<td><b>percentage</b></td></tr>\n",
       "<tr><td>SELLER_NAME.NORWESTMORTGAGE,INC</td>\n",
       "<td>25657.9960938</td>\n",
       "<td>1.0</td>\n",
       "<td>0.2391252</td></tr>\n",
       "<tr><td>OCCUPANCY_STATUS.I</td>\n",
       "<td>7086.1391602</td>\n",
       "<td>0.2761766</td>\n",
       "<td>0.0660408</td></tr>\n",
       "<tr><td>ORIGINAL_UPB</td>\n",
       "<td>6440.5112305</td>\n",
       "<td>0.2510138</td>\n",
       "<td>0.0600237</td></tr>\n",
       "<tr><td>ORIGINAL_LOAN_TO_VALUE</td>\n",
       "<td>5813.7905273</td>\n",
       "<td>0.2265879</td>\n",
       "<td>0.0541829</td></tr>\n",
       "<tr><td>LOAN_PURPOSE.P</td>\n",
       "<td>4025.8632812</td>\n",
       "<td>0.1569048</td>\n",
       "<td>0.0375199</td></tr>\n",
       "<tr><td>---</td>\n",
       "<td>---</td>\n",
       "<td>---</td>\n",
       "<td>---</td></tr>\n",
       "<tr><td>PROPERTY_STATE.OK</td>\n",
       "<td>0.8522186</td>\n",
       "<td>0.0000332</td>\n",
       "<td>0.0000079</td></tr>\n",
       "<tr><td>PROPERTY_STATE.ME</td>\n",
       "<td>0.5269806</td>\n",
       "<td>0.0000205</td>\n",
       "<td>0.0000049</td></tr>\n",
       "<tr><td>PROPERTY_STATE.MT</td>\n",
       "<td>0.5000267</td>\n",
       "<td>0.0000195</td>\n",
       "<td>0.0000047</td></tr>\n",
       "<tr><td>PROPERTY_STATE.KS</td>\n",
       "<td>0.0765716</td>\n",
       "<td>0.0000030</td>\n",
       "<td>0.0000007</td></tr>\n",
       "<tr><td>PROPERTY_STATE.KY</td>\n",
       "<td>0.0001907</td>\n",
       "<td>0.0000000</td>\n",
       "<td>0.0000000</td></tr></table></div>"
      ],
      "text/plain": [
       "variable                         relative_importance     scaled_importance       percentage\n",
       "-------------------------------  ----------------------  ----------------------  ---------------------\n",
       "SELLER_NAME.NORWESTMORTGAGE,INC  25657.99609375          1.0                     0.2391252101842686\n",
       "OCCUPANCY_STATUS.I               7086.13916015625        0.2761766403839446      0.06604079717979593\n",
       "ORIGINAL_UPB                     6440.51123046875        0.25101380508969623     0.06002372890122664\n",
       "ORIGINAL_LOAN_TO_VALUE           5813.79052734375        0.2265878639197363      0.05418287058501139\n",
       "LOAN_PURPOSE.P                   4025.86328125           0.15690482088079571     0.03751989827204529\n",
       "---                              ---                     ---                     ---\n",
       "PROPERTY_STATE.OK                0.8522186279296875      3.321454352147471e-05   7.942434700747178e-06\n",
       "PROPERTY_STATE.ME                0.5269806385040283      2.0538651443336797e-05  4.911309343289343e-06\n",
       "PROPERTY_STATE.MT                0.5000267028808594      1.948814323043179e-05   4.660106346078133e-06\n",
       "PROPERTY_STATE.KS                0.07657158374786377     2.9843166032173395e-06  7.136253350007488e-07\n",
       "PROPERTY_STATE.KY                0.00019072741270065308  7.433449284338777e-09   1.777525122511611e-09"
      ]
     },
     "metadata": {},
     "output_type": "display_data"
    },
    {
     "data": {
      "text/plain": []
     },
     "execution_count": 12,
     "metadata": {},
     "output_type": "execute_result"
    }
   ],
   "source": [
    "xgb"
   ]
  },
  {
   "cell_type": "code",
   "execution_count": 13,
   "metadata": {
    "scrolled": true
   },
   "outputs": [
    {
     "data": {
      "text/plain": [
       "{'model_id': 'XGBoost',\n",
       " 'training_frame': 'py_10_sid_bceb',\n",
       " 'validation_frame': 'py_11_sid_bceb',\n",
       " 'nfolds': 0,\n",
       " 'keep_cross_validation_models': True,\n",
       " 'keep_cross_validation_predictions': False,\n",
       " 'keep_cross_validation_fold_assignment': False,\n",
       " 'score_each_iteration': False,\n",
       " 'fold_assignment': None,\n",
       " 'fold_column': None,\n",
       " 'response_column': 'ORIGINAL_INTEREST_RATE',\n",
       " 'ignored_columns': ['MATURITY_DATE',\n",
       "  'FIRST_PAYMENT_DATE',\n",
       "  'DELINQUENT',\n",
       "  'PRODUCT_TYPE',\n",
       "  'PREPAYMENT_PENALTY_MORTGAGE_FLAG',\n",
       "  'LOAN_SEQUENCE_NUMBER',\n",
       "  'PREPAID',\n",
       "  'MORTGAGE_INSURANCE_PERCENTAGE'],\n",
       " 'ignore_const_cols': True,\n",
       " 'offset_column': None,\n",
       " 'weights_column': None,\n",
       " 'stopping_rounds': 0,\n",
       " 'stopping_metric': None,\n",
       " 'stopping_tolerance': 0.001,\n",
       " 'max_runtime_secs': 0.0,\n",
       " 'seed': 42,\n",
       " 'distribution': 'gaussian',\n",
       " 'tweedie_power': 1.5,\n",
       " 'categorical_encoding': 'OneHotInternal',\n",
       " 'quiet_mode': True,\n",
       " 'checkpoint': None,\n",
       " 'export_checkpoints_dir': None,\n",
       " 'ntrees': 50,\n",
       " 'max_depth': 6,\n",
       " 'min_rows': 1.0,\n",
       " 'min_child_weight': 1.0,\n",
       " 'learn_rate': 0.3,\n",
       " 'eta': 0.3,\n",
       " 'sample_rate': 1.0,\n",
       " 'subsample': 1.0,\n",
       " 'col_sample_rate': 1.0,\n",
       " 'colsample_bylevel': 1.0,\n",
       " 'col_sample_rate_per_tree': 1.0,\n",
       " 'colsample_bytree': 1.0,\n",
       " 'colsample_bynode': 1.0,\n",
       " 'max_abs_leafnode_pred': 0.0,\n",
       " 'max_delta_step': 0.0,\n",
       " 'monotone_constraints': None,\n",
       " 'score_tree_interval': 0,\n",
       " 'min_split_improvement': 0.0,\n",
       " 'gamma': 0.0,\n",
       " 'nthread': -1,\n",
       " 'save_matrix_directory': None,\n",
       " 'build_tree_one_node': False,\n",
       " 'calibrate_model': False,\n",
       " 'calibration_frame': None,\n",
       " 'max_bins': 256,\n",
       " 'max_leaves': 0,\n",
       " 'sample_type': 'uniform',\n",
       " 'normalize_type': 'tree',\n",
       " 'rate_drop': 0.0,\n",
       " 'one_drop': False,\n",
       " 'skip_drop': 0.0,\n",
       " 'tree_method': 'exact',\n",
       " 'grow_policy': 'depthwise',\n",
       " 'booster': 'gbtree',\n",
       " 'reg_lambda': 1.0,\n",
       " 'reg_alpha': 0.0,\n",
       " 'dmatrix_type': 'sparse',\n",
       " 'backend': 'cpu',\n",
       " 'gpu_id': 0,\n",
       " 'gainslift_bins': -1}"
      ]
     },
     "execution_count": 13,
     "metadata": {},
     "output_type": "execute_result"
    }
   ],
   "source": [
    "#> 推定したモデルの設定やハイパーパラメータの確認\n",
    "xgb.actual_params"
   ]
  },
  {
   "cell_type": "markdown",
   "metadata": {},
   "source": [
    "- 各内容に関しての[ドキュメント](http://docs.h2o.ai/h2o/latest-stable/h2o-docs/data-science/xgboost.html#defining-an-xgboost-model)、[APIドキュメント](https://docs.h2o.ai/h2o/latest-stable/h2o-py/docs/modeling.html#h2oxgboostestimator)\n",
    "- デフォルト設定の確認の場合 `xgb.params`, `xgb.default_params`\n",
    "- [オリジナルのXGBoostのハイパーパラメーターに関するドキュメント](https://xgboost.readthedocs.io/en/latest/parameter.html#)"
   ]
  },
  {
   "cell_type": "code",
   "execution_count": 14,
   "metadata": {},
   "outputs": [
    {
     "data": {
      "image/png": "[encoded data removed]",
      "text/plain": [
       "<Figure size 1008x720 with 1 Axes>"
      ]
     },
     "metadata": {
      "needs_background": "light"
     },
     "output_type": "display_data"
    }
   ],
   "source": [
    "#> 変数重要度の表示\n",
    "xgb.varimp_plot(20)"
   ]
  },
  {
   "cell_type": "markdown",
   "metadata": {},
   "source": [
    "- 値自体を取得する場合 `xgb.varimp()`\n",
    "- H2ORandomForestEstimatorやH2OGradientBoostingEstimatorと異なり、カテゴリ変数はone-hot encodingされた形式で表示"
   ]
  },
  {
   "cell_type": "code",
   "execution_count": 15,
   "metadata": {},
   "outputs": [
    {
     "name": "stdout",
     "output_type": "stream",
     "text": [
      "xgboost prediction progress: |████████████████████████████████████████████| 100%\n"
     ]
    },
    {
     "data": {
      "text/html": [
       "<table>\n",
       "<thead>\n",
       "<tr><th style=\"text-align: right;\">  predict</th></tr>\n",
       "</thead>\n",
       "<tbody>\n",
       "<tr><td style=\"text-align: right;\">  7.20097</td></tr>\n",
       "<tr><td style=\"text-align: right;\">  6.87724</td></tr>\n",
       "<tr><td style=\"text-align: right;\">  7.0235 </td></tr>\n",
       "<tr><td style=\"text-align: right;\">  7.25526</td></tr>\n",
       "<tr><td style=\"text-align: right;\">  7.02648</td></tr>\n",
       "</tbody>\n",
       "</table>"
      ]
     },
     "metadata": {},
     "output_type": "display_data"
    },
    {
     "data": {
      "text/plain": []
     },
     "execution_count": 15,
     "metadata": {},
     "output_type": "execute_result"
    }
   ],
   "source": [
    "#> validデータに対する予測を実施\n",
    "xgb_def_pred = xgb.predict(valid)\n",
    "xgb_def_pred.head(5)"
   ]
  },
  {
   "cell_type": "code",
   "execution_count": 16,
   "metadata": {},
   "outputs": [
    {
     "data": {
      "text/html": [
       "<table>\n",
       "<thead>\n",
       "<tr><th style=\"text-align: right;\">  predict</th><th style=\"text-align: right;\">  ORIGINAL_INTEREST_RATE</th></tr>\n",
       "</thead>\n",
       "<tbody>\n",
       "<tr><td style=\"text-align: right;\">  7.20097</td><td style=\"text-align: right;\">                   5.875</td></tr>\n",
       "<tr><td style=\"text-align: right;\">  6.87724</td><td style=\"text-align: right;\">                   6.75 </td></tr>\n",
       "<tr><td style=\"text-align: right;\">  7.0235 </td><td style=\"text-align: right;\">                   7.75 </td></tr>\n",
       "<tr><td style=\"text-align: right;\">  7.25526</td><td style=\"text-align: right;\">                   6.625</td></tr>\n",
       "<tr><td style=\"text-align: right;\">  7.02648</td><td style=\"text-align: right;\">                   6.75 </td></tr>\n",
       "<tr><td style=\"text-align: right;\">  7.38137</td><td style=\"text-align: right;\">                   7    </td></tr>\n",
       "<tr><td style=\"text-align: right;\">  6.8168 </td><td style=\"text-align: right;\">                   7    </td></tr>\n",
       "<tr><td style=\"text-align: right;\">  7.40214</td><td style=\"text-align: right;\">                   7    </td></tr>\n",
       "<tr><td style=\"text-align: right;\">  7.06643</td><td style=\"text-align: right;\">                   7.25 </td></tr>\n",
       "<tr><td style=\"text-align: right;\">  7.00728</td><td style=\"text-align: right;\">                   7    </td></tr>\n",
       "</tbody>\n",
       "</table>"
      ]
     },
     "metadata": {},
     "output_type": "display_data"
    },
    {
     "data": {
      "text/plain": []
     },
     "execution_count": 16,
     "metadata": {},
     "output_type": "execute_result"
    }
   ],
   "source": [
    "#> 実測値との比較\n",
    "xgb_def_pred.cbind(valid['ORIGINAL_INTEREST_RATE'])"
   ]
  },
  {
   "cell_type": "code",
   "execution_count": 17,
   "metadata": {},
   "outputs": [],
   "source": [
    "#> validデータでの結果の取得\n",
    "default_xgb_per = xgb.model_performance(valid)"
   ]
  },
  {
   "cell_type": "code",
   "execution_count": 18,
   "metadata": {},
   "outputs": [
    {
     "name": "stdout",
     "output_type": "stream",
     "text": [
      "RMSE on train data:  0.4212438287154045\n",
      "RMSE on valid data:  0.4244289019626859\n"
     ]
    }
   ],
   "source": [
    "print('RMSE on train data: ', xgb.rmse())\n",
    "print('RMSE on valid data: ', default_xgb_per.rmse())"
   ]
  },
  {
   "cell_type": "markdown",
   "metadata": {},
   "source": [
    "***"
   ]
  },
  {
   "cell_type": "markdown",
   "metadata": {},
   "source": [
    "<a id='BuildDeepLearningModel'></a>\n",
    "### Build a Deep Learning Model"
   ]
  },
  {
   "cell_type": "markdown",
   "metadata": {},
   "source": [
    "[**Deep Learning (Neural Networks) - ドキュメント**](http://docs.h2o.ai/h2o/latest-stable/h2o-docs/data-science/deep-learning.html)  \n",
    "[**H2ODeepLearningEstimator - APIドキュメント**](https://docs.h2o.ai/h2o/latest-stable/h2o-py/docs/modeling.html#h2odeeplearningestimator)\n",
    "  \n",
    "H2O-3では通常のFeedforward Neural Networkのみサポート（CNNやRNNの実装はない）"
   ]
  },
  {
   "cell_type": "code",
   "execution_count": 19,
   "metadata": {},
   "outputs": [
    {
     "name": "stdout",
     "output_type": "stream",
     "text": [
      "deeplearning Model Build progress: |██████████████████████████████████████| 100%\n",
      "CPU times: user 1.46 s, sys: 117 ms, total: 1.57 s\n",
      "Wall time: 6min 1s\n"
     ]
    }
   ],
   "source": [
    "dl = H2ODeepLearningEstimator(seed=42, \n",
    "                              model_id='DL',\n",
    "                              nfolds= 0, \n",
    "                              keep_cross_validation_predictions = False)\n",
    "\n",
    "%time dl.train(x=x, y=y, training_frame=train, validation_frame=valid)"
   ]
  },
  {
   "cell_type": "code",
   "execution_count": 20,
   "metadata": {
    "scrolled": true
   },
   "outputs": [
    {
     "name": "stdout",
     "output_type": "stream",
     "text": [
      "Model Details\n",
      "=============\n",
      "H2ODeepLearningEstimator :  Deep Learning\n",
      "Model Key:  DL\n",
      "\n",
      "\n",
      "Status of Neuron Layers: predicting ORIGINAL_INTEREST_RATE, regression, gaussian distribution, Quadratic loss, 73,601 weights/biases, 880.4 KB, 3,505,265 training samples, mini-batch size 1\n"
     ]
    },
    {
     "data": {
      "text/html": [
       "<div style=\"overflow:auto\"><table style=\"width:50%\"><tr><td><b></b></td>\n",
       "<td><b>layer</b></td>\n",
       "<td><b>units</b></td>\n",
       "<td><b>type</b></td>\n",
       "<td><b>dropout</b></td>\n",
       "<td><b>l1</b></td>\n",
       "<td><b>l2</b></td>\n",
       "<td><b>mean_rate</b></td>\n",
       "<td><b>rate_rms</b></td>\n",
       "<td><b>momentum</b></td>\n",
       "<td><b>mean_weight</b></td>\n",
       "<td><b>weight_rms</b></td>\n",
       "<td><b>mean_bias</b></td>\n",
       "<td><b>bias_rms</b></td></tr>\n",
       "<tr><td></td>\n",
       "<td>1</td>\n",
       "<td>165</td>\n",
       "<td>Input</td>\n",
       "<td>0.0</td>\n",
       "<td></td>\n",
       "<td></td>\n",
       "<td></td>\n",
       "<td></td>\n",
       "<td></td>\n",
       "<td></td>\n",
       "<td></td>\n",
       "<td></td>\n",
       "<td></td></tr>\n",
       "<tr><td></td>\n",
       "<td>2</td>\n",
       "<td>200</td>\n",
       "<td>Rectifier</td>\n",
       "<td>0.0</td>\n",
       "<td>0.0</td>\n",
       "<td>0.0</td>\n",
       "<td>0.0554799</td>\n",
       "<td>0.2137462</td>\n",
       "<td>0.0</td>\n",
       "<td>-0.0186659</td>\n",
       "<td>0.1892132</td>\n",
       "<td>-0.0814594</td>\n",
       "<td>0.2958229</td></tr>\n",
       "<tr><td></td>\n",
       "<td>3</td>\n",
       "<td>200</td>\n",
       "<td>Rectifier</td>\n",
       "<td>0.0</td>\n",
       "<td>0.0</td>\n",
       "<td>0.0</td>\n",
       "<td>0.0504873</td>\n",
       "<td>0.0515644</td>\n",
       "<td>0.0</td>\n",
       "<td>-0.0487905</td>\n",
       "<td>0.1326573</td>\n",
       "<td>-0.2468700</td>\n",
       "<td>0.5911310</td></tr>\n",
       "<tr><td></td>\n",
       "<td>4</td>\n",
       "<td>1</td>\n",
       "<td>Linear</td>\n",
       "<td></td>\n",
       "<td>0.0</td>\n",
       "<td>0.0</td>\n",
       "<td>0.0013629</td>\n",
       "<td>0.0011417</td>\n",
       "<td>0.0</td>\n",
       "<td>0.0074794</td>\n",
       "<td>0.0866947</td>\n",
       "<td>1.2335939</td>\n",
       "<td>0.0000000</td></tr></table></div>"
      ],
      "text/plain": [
       "    layer    units    type       dropout    l1    l2    mean_rate             rate_rms               momentum    mean_weight            weight_rms           mean_bias             bias_rms\n",
       "--  -------  -------  ---------  ---------  ----  ----  --------------------  ---------------------  ----------  ---------------------  -------------------  --------------------  -----------------------\n",
       "    1        165      Input      0.0\n",
       "    2        200      Rectifier  0.0        0.0   0.0   0.05547986669155966   0.21374619007110596    0.0         -0.018665940977231624  0.18921321630477905  -0.0814593762754022   0.2958228588104248\n",
       "    3        200      Rectifier  0.0        0.0   0.0   0.050487321178914135  0.051564380526542664   0.0         -0.04879045447751586   0.13265734910964966  -0.24686996051661259  0.5911309719085693\n",
       "    4        1        Linear                0.0   0.0   0.001362868968717521  0.0011416757479310036  0.0         0.007479379699443598   0.08669465780258179  1.2335938815610166    1.0971281125650402e-154"
      ]
     },
     "metadata": {},
     "output_type": "display_data"
    },
    {
     "name": "stdout",
     "output_type": "stream",
     "text": [
      "\n",
      "\n",
      "ModelMetricsRegression: deeplearning\n",
      "** Reported on train data. **\n",
      "\n",
      "MSE: 0.19309338243511368\n",
      "RMSE: 0.43942392110024425\n",
      "MAE: 0.3232758649464976\n",
      "RMSLE: 0.052248091660660925\n",
      "Mean Residual Deviance: 0.19309338243511368\n",
      "\n",
      "ModelMetricsRegression: deeplearning\n",
      "** Reported on validation data. **\n",
      "\n",
      "MSE: 0.19547157579350896\n",
      "RMSE: 0.4421216753264976\n",
      "MAE: 0.32602246553842124\n",
      "RMSLE: 0.05249309269475424\n",
      "Mean Residual Deviance: 0.19547157579350896\n",
      "\n",
      "Scoring History: \n"
     ]
    },
    {
     "data": {
      "text/html": [
       "<div style=\"overflow:auto\"><table style=\"width:50%\"><tr><td><b></b></td>\n",
       "<td><b>timestamp</b></td>\n",
       "<td><b>duration</b></td>\n",
       "<td><b>training_speed</b></td>\n",
       "<td><b>epochs</b></td>\n",
       "<td><b>iterations</b></td>\n",
       "<td><b>samples</b></td>\n",
       "<td><b>training_rmse</b></td>\n",
       "<td><b>training_deviance</b></td>\n",
       "<td><b>training_mae</b></td>\n",
       "<td><b>training_r2</b></td>\n",
       "<td><b>validation_rmse</b></td>\n",
       "<td><b>validation_deviance</b></td>\n",
       "<td><b>validation_mae</b></td>\n",
       "<td><b>validation_r2</b></td></tr>\n",
       "<tr><td></td>\n",
       "<td>2020-09-15 07:21:02</td>\n",
       "<td> 0.000 sec</td>\n",
       "<td>None</td>\n",
       "<td>0.0</td>\n",
       "<td>0</td>\n",
       "<td>0.0</td>\n",
       "<td>nan</td>\n",
       "<td>nan</td>\n",
       "<td>nan</td>\n",
       "<td>nan</td>\n",
       "<td>nan</td>\n",
       "<td>nan</td>\n",
       "<td>nan</td>\n",
       "<td>nan</td></tr>\n",
       "<tr><td></td>\n",
       "<td>2020-09-15 07:21:08</td>\n",
       "<td>10.708 sec</td>\n",
       "<td>1561 obs/sec</td>\n",
       "<td>0.0228197</td>\n",
       "<td>1</td>\n",
       "<td>7993.0</td>\n",
       "<td>0.5312050</td>\n",
       "<td>0.2821788</td>\n",
       "<td>0.3991446</td>\n",
       "<td>0.1411118</td>\n",
       "<td>0.5332077</td>\n",
       "<td>0.2843104</td>\n",
       "<td>0.3996868</td>\n",
       "<td>0.1484763</td></tr>\n",
       "<tr><td></td>\n",
       "<td>2020-09-15 07:22:01</td>\n",
       "<td> 1 min  3.567 sec</td>\n",
       "<td>7211 obs/sec</td>\n",
       "<td>1.0892060</td>\n",
       "<td>47</td>\n",
       "<td>381514.0</td>\n",
       "<td>0.5373093</td>\n",
       "<td>0.2887013</td>\n",
       "<td>0.4117756</td>\n",
       "<td>0.1212587</td>\n",
       "<td>0.5363096</td>\n",
       "<td>0.2876280</td>\n",
       "<td>0.4122002</td>\n",
       "<td>0.1385400</td></tr>\n",
       "<tr><td></td>\n",
       "<td>2020-09-15 07:22:52</td>\n",
       "<td> 1 min 54.324 sec</td>\n",
       "<td>8870 obs/sec</td>\n",
       "<td>2.5025067</td>\n",
       "<td>108</td>\n",
       "<td>876548.0</td>\n",
       "<td>0.4967532</td>\n",
       "<td>0.2467637</td>\n",
       "<td>0.3584243</td>\n",
       "<td>0.2489073</td>\n",
       "<td>0.4944530</td>\n",
       "<td>0.2444838</td>\n",
       "<td>0.3577137</td>\n",
       "<td>0.2677589</td></tr>\n",
       "<tr><td></td>\n",
       "<td>2020-09-15 07:23:41</td>\n",
       "<td> 2 min 43.436 sec</td>\n",
       "<td>9749 obs/sec</td>\n",
       "<td>3.9824506</td>\n",
       "<td>172</td>\n",
       "<td>1394925.0</td>\n",
       "<td>0.4664814</td>\n",
       "<td>0.2176049</td>\n",
       "<td>0.3355960</td>\n",
       "<td>0.3376601</td>\n",
       "<td>0.4677403</td>\n",
       "<td>0.2187810</td>\n",
       "<td>0.3379100</td>\n",
       "<td>0.3447402</td></tr>\n",
       "<tr><td></td>\n",
       "<td>2020-09-15 07:24:29</td>\n",
       "<td> 3 min 32.169 sec</td>\n",
       "<td>10188 obs/sec</td>\n",
       "<td>5.4402572</td>\n",
       "<td>235</td>\n",
       "<td>1905548.0</td>\n",
       "<td>0.4706263</td>\n",
       "<td>0.2214891</td>\n",
       "<td>0.3546952</td>\n",
       "<td>0.3258374</td>\n",
       "<td>0.4721864</td>\n",
       "<td>0.2229600</td>\n",
       "<td>0.3576890</td>\n",
       "<td>0.3322237</td></tr>\n",
       "<tr><td></td>\n",
       "<td>2020-09-15 07:25:17</td>\n",
       "<td> 4 min 20.250 sec</td>\n",
       "<td>10566 obs/sec</td>\n",
       "<td>6.9461041</td>\n",
       "<td>300</td>\n",
       "<td>2432998.0</td>\n",
       "<td>0.4405997</td>\n",
       "<td>0.1941281</td>\n",
       "<td>0.3262213</td>\n",
       "<td>0.4091182</td>\n",
       "<td>0.4430808</td>\n",
       "<td>0.1963206</td>\n",
       "<td>0.3283321</td>\n",
       "<td>0.4120101</td></tr>\n",
       "<tr><td></td>\n",
       "<td>2020-09-15 07:26:06</td>\n",
       "<td> 5 min  9.057 sec</td>\n",
       "<td>10855 obs/sec</td>\n",
       "<td>8.5001028</td>\n",
       "<td>367</td>\n",
       "<td>2977314.0</td>\n",
       "<td>0.4394239</td>\n",
       "<td>0.1930934</td>\n",
       "<td>0.3232759</td>\n",
       "<td>0.4122676</td>\n",
       "<td>0.4421217</td>\n",
       "<td>0.1954716</td>\n",
       "<td>0.3260225</td>\n",
       "<td>0.4145530</td></tr>\n",
       "<tr><td></td>\n",
       "<td>2020-09-15 07:26:53</td>\n",
       "<td> 5 min 56.003 sec</td>\n",
       "<td>11080 obs/sec</td>\n",
       "<td>10.0073801</td>\n",
       "<td>432</td>\n",
       "<td>3505265.0</td>\n",
       "<td>0.4582141</td>\n",
       "<td>0.2099601</td>\n",
       "<td>0.3503260</td>\n",
       "<td>0.3609290</td>\n",
       "<td>0.4620276</td>\n",
       "<td>0.2134695</td>\n",
       "<td>0.3544031</td>\n",
       "<td>0.3606483</td></tr>\n",
       "<tr><td></td>\n",
       "<td>2020-09-15 07:26:58</td>\n",
       "<td> 6 min  0.828 sec</td>\n",
       "<td>11080 obs/sec</td>\n",
       "<td>10.0073801</td>\n",
       "<td>432</td>\n",
       "<td>3505265.0</td>\n",
       "<td>0.4394239</td>\n",
       "<td>0.1930934</td>\n",
       "<td>0.3232759</td>\n",
       "<td>0.4122676</td>\n",
       "<td>0.4421217</td>\n",
       "<td>0.1954716</td>\n",
       "<td>0.3260225</td>\n",
       "<td>0.4145530</td></tr></table></div>"
      ],
      "text/plain": [
       "    timestamp            duration          training_speed    epochs     iterations    samples      training_rmse    training_deviance    training_mae    training_r2    validation_rmse    validation_deviance    validation_mae    validation_r2\n",
       "--  -------------------  ----------------  ----------------  ---------  ------------  -----------  ---------------  -------------------  --------------  -------------  -----------------  ---------------------  ----------------  ---------------\n",
       "    2020-09-15 07:21:02  0.000 sec                           0          0             0            nan              nan                  nan             nan            nan                nan                    nan               nan\n",
       "    2020-09-15 07:21:08  10.708 sec        1561 obs/sec      0.0228197  1             7993         0.531205         0.282179             0.399145        0.141112       0.533208           0.28431                0.399687          0.148476\n",
       "    2020-09-15 07:22:01  1 min  3.567 sec  7211 obs/sec      1.08921    47            381514       0.537309         0.288701             0.411776        0.121259       0.53631            0.287628               0.4122            0.13854\n",
       "    2020-09-15 07:22:52  1 min 54.324 sec  8870 obs/sec      2.50251    108           876548       0.496753         0.246764             0.358424        0.248907       0.494453           0.244484               0.357714          0.267759\n",
       "    2020-09-15 07:23:41  2 min 43.436 sec  9749 obs/sec      3.98245    172           1.39492e+06  0.466481         0.217605             0.335596        0.33766        0.46774            0.218781               0.33791           0.34474\n",
       "    2020-09-15 07:24:29  3 min 32.169 sec  10188 obs/sec     5.44026    235           1.90555e+06  0.470626         0.221489             0.354695        0.325837       0.472186           0.22296                0.357689          0.332224\n",
       "    2020-09-15 07:25:17  4 min 20.250 sec  10566 obs/sec     6.9461     300           2.433e+06    0.4406           0.194128             0.326221        0.409118       0.443081           0.196321               0.328332          0.41201\n",
       "    2020-09-15 07:26:06  5 min  9.057 sec  10855 obs/sec     8.5001     367           2.97731e+06  0.439424         0.193093             0.323276        0.412268       0.442122           0.195472               0.326022          0.414553\n",
       "    2020-09-15 07:26:53  5 min 56.003 sec  11080 obs/sec     10.0074    432           3.50526e+06  0.458214         0.20996              0.350326        0.360929       0.462028           0.21347                0.354403          0.360648\n",
       "    2020-09-15 07:26:58  6 min  0.828 sec  11080 obs/sec     10.0074    432           3.50526e+06  0.439424         0.193093             0.323276        0.412268       0.442122           0.195472               0.326022          0.414553"
      ]
     },
     "metadata": {},
     "output_type": "display_data"
    },
    {
     "name": "stdout",
     "output_type": "stream",
     "text": [
      "\n",
      "Variable Importances: \n"
     ]
    },
    {
     "data": {
      "text/html": [
       "<div style=\"overflow:auto\"><table style=\"width:50%\"><tr><td><b>variable</b></td>\n",
       "<td><b>relative_importance</b></td>\n",
       "<td><b>scaled_importance</b></td>\n",
       "<td><b>percentage</b></td></tr>\n",
       "<tr><td>SELLER_NAME.WELLSFARGOHOMEMORTGA</td>\n",
       "<td>1.0</td>\n",
       "<td>1.0</td>\n",
       "<td>0.0126944</td></tr>\n",
       "<tr><td>SELLER_NAME.ABNAMROMTGEGROUP,INC</td>\n",
       "<td>0.9382787</td>\n",
       "<td>0.9382787</td>\n",
       "<td>0.0119109</td></tr>\n",
       "<tr><td>SELLER_NAME.CROSSLANDMTGECORP</td>\n",
       "<td>0.8789046</td>\n",
       "<td>0.8789046</td>\n",
       "<td>0.0111572</td></tr>\n",
       "<tr><td>SELLER_NAME.BISHOPSGATERESIDENTI</td>\n",
       "<td>0.8727375</td>\n",
       "<td>0.8727375</td>\n",
       "<td>0.0110789</td></tr>\n",
       "<tr><td>SELLER_NAME.NORWESTMORTGAGE,INC</td>\n",
       "<td>0.8668389</td>\n",
       "<td>0.8668389</td>\n",
       "<td>0.0110040</td></tr>\n",
       "<tr><td>---</td>\n",
       "<td>---</td>\n",
       "<td>---</td>\n",
       "<td>---</td></tr>\n",
       "<tr><td>PROPERTY_TYPE.missing(NA)</td>\n",
       "<td>0.0</td>\n",
       "<td>0.0</td>\n",
       "<td>0.0</td></tr>\n",
       "<tr><td>CHANNEL.missing(NA)</td>\n",
       "<td>0.0</td>\n",
       "<td>0.0</td>\n",
       "<td>0.0</td></tr>\n",
       "<tr><td>LOAN_PURPOSE.missing(NA)</td>\n",
       "<td>0.0</td>\n",
       "<td>0.0</td>\n",
       "<td>0.0</td></tr>\n",
       "<tr><td>OCCUPANCY_STATUS.missing(NA)</td>\n",
       "<td>0.0</td>\n",
       "<td>0.0</td>\n",
       "<td>0.0</td></tr>\n",
       "<tr><td>FIRST_TIME_HOMEBUYER_FLAG.missing(NA)</td>\n",
       "<td>0.0</td>\n",
       "<td>0.0</td>\n",
       "<td>0.0</td></tr></table></div>"
      ],
      "text/plain": [
       "variable                               relative_importance    scaled_importance    percentage\n",
       "-------------------------------------  ---------------------  -------------------  --------------------\n",
       "SELLER_NAME.WELLSFARGOHOMEMORTGA       1.0                    1.0                  0.01269440653623755\n",
       "SELLER_NAME.ABNAMROMTGEGROUP,INC       0.9382787346839905     0.9382787346839905   0.011910891702385146\n",
       "SELLER_NAME.CROSSLANDMTGECORP          0.8789046406745911     0.8789046406745911   0.011157172815309044\n",
       "SELLER_NAME.BISHOPSGATERESIDENTI       0.8727375268936157     0.8727375268936157   0.01107888496581811\n",
       "SELLER_NAME.NORWESTMORTGAGE,INC        0.8668388724327087     0.8668388724327087   0.011004005048074566\n",
       "---                                    ---                    ---                  ---\n",
       "PROPERTY_TYPE.missing(NA)              0.0                    0.0                  0.0\n",
       "CHANNEL.missing(NA)                    0.0                    0.0                  0.0\n",
       "LOAN_PURPOSE.missing(NA)               0.0                    0.0                  0.0\n",
       "OCCUPANCY_STATUS.missing(NA)           0.0                    0.0                  0.0\n",
       "FIRST_TIME_HOMEBUYER_FLAG.missing(NA)  0.0                    0.0                  0.0"
      ]
     },
     "metadata": {},
     "output_type": "display_data"
    },
    {
     "data": {
      "text/plain": []
     },
     "execution_count": 20,
     "metadata": {},
     "output_type": "execute_result"
    }
   ],
   "source": [
    "dl"
   ]
  },
  {
   "cell_type": "code",
   "execution_count": 21,
   "metadata": {
    "scrolled": true
   },
   "outputs": [
    {
     "data": {
      "text/plain": [
       "{'model_id': 'DL',\n",
       " 'training_frame': 'py_10_sid_bceb',\n",
       " 'validation_frame': 'py_11_sid_bceb',\n",
       " 'nfolds': 0,\n",
       " 'keep_cross_validation_models': True,\n",
       " 'keep_cross_validation_predictions': False,\n",
       " 'keep_cross_validation_fold_assignment': False,\n",
       " 'fold_assignment': None,\n",
       " 'fold_column': None,\n",
       " 'response_column': 'ORIGINAL_INTEREST_RATE',\n",
       " 'ignored_columns': ['MATURITY_DATE',\n",
       "  'FIRST_PAYMENT_DATE',\n",
       "  'DELINQUENT',\n",
       "  'PRODUCT_TYPE',\n",
       "  'PREPAYMENT_PENALTY_MORTGAGE_FLAG',\n",
       "  'LOAN_SEQUENCE_NUMBER',\n",
       "  'PREPAID',\n",
       "  'MORTGAGE_INSURANCE_PERCENTAGE'],\n",
       " 'ignore_const_cols': True,\n",
       " 'score_each_iteration': False,\n",
       " 'weights_column': None,\n",
       " 'offset_column': None,\n",
       " 'balance_classes': False,\n",
       " 'class_sampling_factors': None,\n",
       " 'max_after_balance_size': 5.0,\n",
       " 'max_confusion_matrix_size': 20,\n",
       " 'max_hit_ratio_k': 0,\n",
       " 'checkpoint': None,\n",
       " 'pretrained_autoencoder': None,\n",
       " 'overwrite_with_best_model': True,\n",
       " 'use_all_factor_levels': True,\n",
       " 'standardize': True,\n",
       " 'activation': 'Rectifier',\n",
       " 'hidden': [200, 200],\n",
       " 'epochs': 10.0,\n",
       " 'train_samples_per_iteration': -2,\n",
       " 'target_ratio_comm_to_comp': 0.05,\n",
       " 'seed': 42,\n",
       " 'adaptive_rate': True,\n",
       " 'rho': 0.99,\n",
       " 'epsilon': 1e-08,\n",
       " 'rate': 0.005,\n",
       " 'rate_annealing': 1e-06,\n",
       " 'rate_decay': 1.0,\n",
       " 'momentum_start': 0.0,\n",
       " 'momentum_ramp': 1000000.0,\n",
       " 'momentum_stable': 0.0,\n",
       " 'nesterov_accelerated_gradient': True,\n",
       " 'input_dropout_ratio': 0.0,\n",
       " 'hidden_dropout_ratios': None,\n",
       " 'l1': 0.0,\n",
       " 'l2': 0.0,\n",
       " 'max_w2': 3.4028235e+38,\n",
       " 'initial_weight_distribution': 'UniformAdaptive',\n",
       " 'initial_weight_scale': 1.0,\n",
       " 'initial_weights': None,\n",
       " 'initial_biases': None,\n",
       " 'loss': 'Automatic',\n",
       " 'distribution': 'gaussian',\n",
       " 'quantile_alpha': 0.5,\n",
       " 'tweedie_power': 1.5,\n",
       " 'huber_alpha': 0.9,\n",
       " 'score_interval': 5.0,\n",
       " 'score_training_samples': 10000,\n",
       " 'score_validation_samples': 0,\n",
       " 'score_duty_cycle': 0.1,\n",
       " 'classification_stop': 0.0,\n",
       " 'regression_stop': 1e-06,\n",
       " 'stopping_rounds': 5,\n",
       " 'stopping_metric': 'deviance',\n",
       " 'stopping_tolerance': 0.0,\n",
       " 'max_runtime_secs': 0.0,\n",
       " 'score_validation_sampling': 'Uniform',\n",
       " 'diagnostics': True,\n",
       " 'fast_mode': True,\n",
       " 'force_load_balance': True,\n",
       " 'variable_importances': True,\n",
       " 'replicate_training_data': True,\n",
       " 'single_node_mode': False,\n",
       " 'shuffle_training_data': False,\n",
       " 'missing_values_handling': 'MeanImputation',\n",
       " 'quiet_mode': False,\n",
       " 'autoencoder': False,\n",
       " 'sparse': False,\n",
       " 'col_major': False,\n",
       " 'average_activation': 0.0,\n",
       " 'sparsity_beta': 0.0,\n",
       " 'max_categorical_features': 2147483647,\n",
       " 'reproducible': False,\n",
       " 'export_weights_and_biases': False,\n",
       " 'mini_batch_size': 1,\n",
       " 'categorical_encoding': 'OneHotInternal',\n",
       " 'elastic_averaging': False,\n",
       " 'elastic_averaging_moving_rate': 0.9,\n",
       " 'elastic_averaging_regularization': 0.001,\n",
       " 'export_checkpoints_dir': None}"
      ]
     },
     "execution_count": 21,
     "metadata": {},
     "output_type": "execute_result"
    }
   ],
   "source": [
    "#> 推定したモデルの設定やハイパーパラメータの確認\n",
    "dl.actual_params"
   ]
  },
  {
   "cell_type": "markdown",
   "metadata": {},
   "source": [
    "- 各内容に関しての[ドキュメント](http://docs.h2o.ai/h2o/latest-stable/h2o-docs/data-science/deep-learning.html#defining-a-deep-learning-model)、[APIドキュメント](https://docs.h2o.ai/h2o/latest-stable/h2o-py/docs/modeling.html#h2odeeplearningestimator)\n",
    "- デフォルト設定の確認の場合 `dl.params`, `dl.default_params`"
   ]
  },
  {
   "cell_type": "code",
   "execution_count": 22,
   "metadata": {},
   "outputs": [
    {
     "data": {
      "image/png": "[encoded data removed]",
      "text/plain": [
       "<Figure size 432x288 with 1 Axes>"
      ]
     },
     "metadata": {
      "needs_background": "light"
     },
     "output_type": "display_data"
    }
   ],
   "source": [
    "#> 学習の履歴の表示\n",
    "dl.plot()"
   ]
  },
  {
   "cell_type": "code",
   "execution_count": 23,
   "metadata": {},
   "outputs": [
    {
     "name": "stdout",
     "output_type": "stream",
     "text": [
      "epochs =  {'default': 10.0, 'actual': 10.0, 'input': 10.0}\n"
     ]
    }
   ],
   "source": [
    "print(\"epochs = \", dl.params['epochs'])"
   ]
  },
  {
   "cell_type": "markdown",
   "metadata": {},
   "source": [
    "- デフォルトのエポック数は10"
   ]
  },
  {
   "cell_type": "code",
   "execution_count": 28,
   "metadata": {},
   "outputs": [
    {
     "data": {
      "image/png": "[encoded data removed]",
      "text/plain": [
       "<Figure size 1008x720 with 1 Axes>"
      ]
     },
     "metadata": {
      "needs_background": "light"
     },
     "output_type": "display_data"
    }
   ],
   "source": [
    "#> 変数重要度の表示\n",
    "dl.varimp_plot(20)"
   ]
  },
  {
   "cell_type": "markdown",
   "metadata": {},
   "source": [
    "- 変数重要度は\"Gedeon method\"により算出（[FAQ](http://docs.h2o.ai/h2o/latest-stable/h2o-docs/data-science/deep-learning.html#faq)に記載）"
   ]
  },
  {
   "cell_type": "code",
   "execution_count": 24,
   "metadata": {},
   "outputs": [],
   "source": [
    "#> validデータでの結果の取得\n",
    "default_dl_per = dl.model_performance(valid)"
   ]
  },
  {
   "cell_type": "code",
   "execution_count": 25,
   "metadata": {},
   "outputs": [
    {
     "name": "stdout",
     "output_type": "stream",
     "text": [
      "RMSE on train data:  0.43942392110024425\n",
      "RMSE on valid data:  0.4421216753264976\n"
     ]
    }
   ],
   "source": [
    "print('RMSE on train data: ', dl.rmse())\n",
    "print('RMSE on valid data: ', default_dl_per.rmse())"
   ]
  },
  {
   "cell_type": "markdown",
   "metadata": {},
   "source": [
    "その他NN特有の仕様に関する[FAQ](http://docs.h2o.ai/h2o/latest-stable/h2o-docs/data-science/deep-learning.html#faq)"
   ]
  },
  {
   "cell_type": "markdown",
   "metadata": {},
   "source": [
    "***"
   ]
  },
  {
   "cell_type": "markdown",
   "metadata": {},
   "source": [
    "<a id='TuneXGBoostModelGridSearch'></a>\n",
    "### Tune the XGBoost Model with H2O GridSearch"
   ]
  },
  {
   "cell_type": "markdown",
   "metadata": {},
   "source": [
    "[**Gred Search - ドキュメント**](http://docs.h2o.ai/h2o/latest-stable/h2o-docs/grid-search.html#grid-hyperparameter-search)  \n",
    "[**H2OGridSearch - APIドキュメント**](https://docs.h2o.ai/h2o/latest-stable/h2o-py/docs/modeling.html#h2ogridsearch)"
   ]
  },
  {
   "cell_type": "markdown",
   "metadata": {},
   "source": [
    "XGBoostにおいて、max_depthは最も重要なハイパーパラメーターの一つ。デフォルト設定では6。max_depthの値が大きいと学習に時間がかかるので、まずはグリッドサーチでmax_depthを決定した後、その他のハイパーパラメーターにランダムサーチを実施する"
   ]
  },
  {
   "cell_type": "code",
   "execution_count": 26,
   "metadata": {},
   "outputs": [
    {
     "name": "stdout",
     "output_type": "stream",
     "text": [
      "xgboost Grid Build progress: |████████████████████████████████████████████| 100%\n",
      "CPU times: user 2.66 s, sys: 130 ms, total: 2.79 s\n",
      "Wall time: 14min 36s\n"
     ]
    }
   ],
   "source": [
    "xgb = H2OXGBoostEstimator(model_id='xgb', ntrees=100,\n",
    "                          stopping_rounds=5,  # default\n",
    "                          stopping_tolerance=1e-4,  # default\n",
    "                          stopping_metric = \"rmse\",  # default\n",
    "                          seed=42)\n",
    "\n",
    "hyper_params = {'max_depth' : [5,7,9,10,12,13,15,20]}\n",
    "\n",
    "grid_id = 'depth_grid'\n",
    "\n",
    "search_criteria = { \"strategy\":\"Cartesian\"}\n",
    "\n",
    "xgb_grid = H2OGridSearch(model=xgb, \n",
    "                         hyper_params=hyper_params,\n",
    "                         grid_id=grid_id,\n",
    "                         search_criteria=search_criteria)\n",
    "\n",
    "%time xgb_grid.train(x=x, y=y, training_frame=train, validation_frame = valid)"
   ]
  },
  {
   "cell_type": "markdown",
   "metadata": {},
   "source": [
    "ハイパーパラメータに関して\n",
    "- max_depth - [ドキュメント](https://docs.h2o.ai/h2o/latest-stable/h2o-docs/data-science/algo-params/max_depth.html)、[APIドキュメント](https://docs.h2o.ai/h2o/latest-stable/h2o-py/docs/modeling.html#h2o.estimators.xgboost.H2OXGBoostEstimator.max_depth)\n",
    "\n",
    "[H2OGridSearchにおいてXGBoostがサポートするハイパーパラメーター一覧](http://docs.h2o.ai/h2o/latest-stable/h2o-docs/grid-search.html#xgboost-hyperparameters)"
   ]
  },
  {
   "cell_type": "code",
   "execution_count": 29,
   "metadata": {},
   "outputs": [
    {
     "name": "stdout",
     "output_type": "stream",
     "text": [
      "\n",
      "Hyper-Parameter Search Summary: ordered by increasing rmse\n"
     ]
    },
    {
     "data": {
      "text/html": [
       "<div style=\"overflow:auto\"><table style=\"width:50%\"><tr><td><b></b></td>\n",
       "<td><b>max_depth</b></td>\n",
       "<td><b>model_ids</b></td>\n",
       "<td><b>rmse</b></td></tr>\n",
       "<tr><td></td>\n",
       "<td>9</td>\n",
       "<td>depth_grid_model_3</td>\n",
       "<td>0.4134846</td></tr>\n",
       "<tr><td></td>\n",
       "<td>10</td>\n",
       "<td>depth_grid_model_4</td>\n",
       "<td>0.4137581</td></tr>\n",
       "<tr><td></td>\n",
       "<td>7</td>\n",
       "<td>depth_grid_model_2</td>\n",
       "<td>0.4147110</td></tr>\n",
       "<tr><td></td>\n",
       "<td>12</td>\n",
       "<td>depth_grid_model_5</td>\n",
       "<td>0.4164160</td></tr>\n",
       "<tr><td></td>\n",
       "<td>13</td>\n",
       "<td>depth_grid_model_6</td>\n",
       "<td>0.4203949</td></tr>\n",
       "<tr><td></td>\n",
       "<td>5</td>\n",
       "<td>depth_grid_model_1</td>\n",
       "<td>0.4204568</td></tr>\n",
       "<tr><td></td>\n",
       "<td>15</td>\n",
       "<td>depth_grid_model_7</td>\n",
       "<td>0.4248075</td></tr>\n",
       "<tr><td></td>\n",
       "<td>20</td>\n",
       "<td>depth_grid_model_8</td>\n",
       "<td>0.4379013</td></tr></table></div>"
      ],
      "text/plain": [
       "    max_depth    model_ids           rmse\n",
       "--  -----------  ------------------  --------\n",
       "    9            depth_grid_model_3  0.413485\n",
       "    10           depth_grid_model_4  0.413758\n",
       "    7            depth_grid_model_2  0.414711\n",
       "    12           depth_grid_model_5  0.416416\n",
       "    13           depth_grid_model_6  0.420395\n",
       "    5            depth_grid_model_1  0.420457\n",
       "    15           depth_grid_model_7  0.424808\n",
       "    20           depth_grid_model_8  0.437901"
      ]
     },
     "metadata": {},
     "output_type": "display_data"
    },
    {
     "name": "stdout",
     "output_type": "stream",
     "text": [
      "\n"
     ]
    },
    {
     "data": {
      "text/plain": []
     },
     "execution_count": 29,
     "metadata": {},
     "output_type": "execute_result"
    }
   ],
   "source": [
    "#> 探索結果の表示（RMSE基準）\n",
    "xgb_grid.get_grid(sort_by='rmse',decreasing=False)"
   ]
  },
  {
   "cell_type": "markdown",
   "metadata": {},
   "source": [
    "max_depth=9がベストとなった。その設定の下、その他のハイパーパラメーターをランダムサーチしてみる"
   ]
  },
  {
   "cell_type": "code",
   "execution_count": 31,
   "metadata": {},
   "outputs": [
    {
     "name": "stdout",
     "output_type": "stream",
     "text": [
      "xgboost Grid Build progress: |████████████████████████████████████████████| 100%\n",
      "CPU times: user 1.91 s, sys: 98.2 ms, total: 2.01 s\n",
      "Wall time: 7min 33s\n"
     ]
    }
   ],
   "source": [
    "#> その他のハイパーパラメーターに対しランダムサーチを実施\n",
    "\n",
    "xgb = H2OXGBoostEstimator(model_id='xgb_grid', max_depth=9, ntrees=100, \n",
    "                          stopping_rounds=5,\n",
    "                          stopping_tolerance=1e-4,\n",
    "                          stopping_metric = \"rmse\",\n",
    "                          seed=42)\n",
    "\n",
    "hyper_params = {'reg_alpha' : [x*0.01 for x in range(0, 101)],\n",
    "                'reg_lambda' : [x*0.01 for x in range(0, 101)],\n",
    "                'learn_rate' : [x*0.01 for x in range(1, 101)],\n",
    "                'distribution' : ['poisson', 'tweedie', 'gaussian', 'gamma'],\n",
    "                'booster' : ['gbtree', 'gblinear', 'dart']}\n",
    "\n",
    "search_criteria_tune = {'strategy': \"RandomDiscrete\",\n",
    "                        'max_runtime_secs': 450,   # 探索のストップ基準：最大時間(7分半)\n",
    "                        'max_models': 50,   # 探索のストップ基準：作成する最大のモデル数\n",
    "                        'seed' : 42}\n",
    "\n",
    "xgb_grid = H2OGridSearch(xgb, \n",
    "                         hyper_params,\n",
    "                         grid_id='random_grid',\n",
    "                         search_criteria=search_criteria_tune)\n",
    "\n",
    "%time xgb_grid.train(x=x, y=y, training_frame=train, validation_frame=valid)"
   ]
  },
  {
   "cell_type": "markdown",
   "metadata": {},
   "source": [
    "各ハイパーパラメータに関して\n",
    "- reg_alpha - [APIドキュメント](https://docs.h2o.ai/h2o/latest-stable/h2o-py/docs/modeling.html#h2o.estimators.xgboost.H2OXGBoostEstimator.reg_alpha)（L1正則化の重み）\n",
    "- reg_lambda - [APIドキュメント](https://docs.h2o.ai/h2o/latest-stable/h2o-py/docs/modeling.html#h2o.estimators.xgboost.H2OXGBoostEstimator.reg_lambda)（L2正則化の重み）\n",
    "- learn_rate - [ドキュメント](https://docs.h2o.ai/h2o/latest-stable/h2o-docs/data-science/algo-params/learn_rate.html)、[APIドキュメント](https://docs.h2o.ai/h2o/latest-stable/h2o-py/docs/modeling.html#h2o.estimators.xgboost.H2OXGBoostEstimator.learn_rate)\n",
    "- distribution - [ドキュメント](https://docs.h2o.ai/h2o/latest-stable/h2o-docs/data-science/algo-params/distribution.html)、[APIドキュメント](https://docs.h2o.ai/h2o/latest-stable/h2o-py/docs/modeling.html#h2o.estimators.xgboost.H2OXGBoostEstimator.distribution)\n",
    "- booster - [APIドキュメント](https://docs.h2o.ai/h2o/latest-stable/h2o-py/docs/modeling.html#h2o.estimators.xgboost.H2OXGBoostEstimator.booster)\n",
    "\n",
    "[H2OGridSearchにおいてXGBoostがサポートするハイパーパラメーター一覧](http://docs.h2o.ai/h2o/latest-stable/h2o-docs/grid-search.html#xgboost-hyperparameters)  \n",
    "[オリジナルのXGBoostのハイパーパラメーターに関するドキュメント](https://xgboost.readthedocs.io/en/latest/parameter.html#)"
   ]
  },
  {
   "cell_type": "code",
   "execution_count": 33,
   "metadata": {},
   "outputs": [
    {
     "name": "stdout",
     "output_type": "stream",
     "text": [
      "\n",
      "Hyper-Parameter Search Summary: ordered by increasing rmse\n"
     ]
    },
    {
     "data": {
      "text/html": [
       "<div style=\"overflow:auto\"><table style=\"width:50%\"><tr><td><b></b></td>\n",
       "<td><b>booster</b></td>\n",
       "<td><b>distribution</b></td>\n",
       "<td><b>learn_rate</b></td>\n",
       "<td><b>reg_alpha</b></td>\n",
       "<td><b>reg_lambda</b></td>\n",
       "<td><b>model_ids</b></td>\n",
       "<td><b>rmse</b></td></tr>\n",
       "<tr><td></td>\n",
       "<td>dart</td>\n",
       "<td>gaussian</td>\n",
       "<td>0.61</td>\n",
       "<td>0.67</td>\n",
       "<td>0.34</td>\n",
       "<td>random_grid_model_3</td>\n",
       "<td>0.4248153</td></tr>\n",
       "<tr><td></td>\n",
       "<td>gbtree</td>\n",
       "<td>gaussian</td>\n",
       "<td>0.6</td>\n",
       "<td>0.36</td>\n",
       "<td>0.17</td>\n",
       "<td>random_grid_model_2</td>\n",
       "<td>0.4273411</td></tr>\n",
       "<tr><td></td>\n",
       "<td>gbtree</td>\n",
       "<td>gaussian</td>\n",
       "<td>0.8200000</td>\n",
       "<td>0.69</td>\n",
       "<td>0.88</td>\n",
       "<td>random_grid_model_1</td>\n",
       "<td>0.4384176</td></tr>\n",
       "<tr><td></td>\n",
       "<td>dart</td>\n",
       "<td>gaussian</td>\n",
       "<td>0.89</td>\n",
       "<td>0.5</td>\n",
       "<td>0.63</td>\n",
       "<td>random_grid_model_5</td>\n",
       "<td>0.4393239</td></tr>\n",
       "<tr><td></td>\n",
       "<td>gblinear</td>\n",
       "<td>gaussian</td>\n",
       "<td>0.08</td>\n",
       "<td>0.68</td>\n",
       "<td>0.92</td>\n",
       "<td>random_grid_model_4</td>\n",
       "<td>0.6939840</td></tr></table></div>"
      ],
      "text/plain": [
       "    booster    distribution    learn_rate    reg_alpha    reg_lambda    model_ids            rmse\n",
       "--  ---------  --------------  ------------  -----------  ------------  -------------------  --------\n",
       "    dart       gaussian        0.61          0.67         0.34          random_grid_model_3  0.424815\n",
       "    gbtree     gaussian        0.6           0.36         0.17          random_grid_model_2  0.427341\n",
       "    gbtree     gaussian        0.82          0.69         0.88          random_grid_model_1  0.438418\n",
       "    dart       gaussian        0.89          0.5          0.63          random_grid_model_5  0.439324\n",
       "    gblinear   gaussian        0.08          0.68         0.92          random_grid_model_4  0.693984"
      ]
     },
     "metadata": {},
     "output_type": "display_data"
    },
    {
     "name": "stdout",
     "output_type": "stream",
     "text": [
      "\n"
     ]
    },
    {
     "data": {
      "text/plain": []
     },
     "execution_count": 33,
     "metadata": {},
     "output_type": "execute_result"
    }
   ],
   "source": [
    "#> 探索結果の表示（RMSE基準）\n",
    "xgb_grid.get_grid(sort_by='rmse', decreasing=False)"
   ]
  },
  {
   "cell_type": "markdown",
   "metadata": {},
   "source": [
    "[dart booster](https://xgboost.readthedocs.io/en/latest/tutorials/dart.html)を採用し、rate_dropとskip_dropをランダムサーチを実施し、精度が向上するか確認"
   ]
  },
  {
   "cell_type": "code",
   "execution_count": 34,
   "metadata": {},
   "outputs": [
    {
     "name": "stdout",
     "output_type": "stream",
     "text": [
      "xgboost Grid Build progress: |████████████████████████████████████████████| 100%\n",
      "CPU times: user 1.38 s, sys: 57.5 ms, total: 1.44 s\n",
      "Wall time: 5min 3s\n"
     ]
    }
   ],
   "source": [
    "xgb = H2OXGBoostEstimator(model_id='xgb', \n",
    "                          max_depth=9, \n",
    "                          ntrees=100, \n",
    "                          distribution='gaussian',\n",
    "                          reg_alpha= 0.67,\n",
    "                          reg_lambda= 0.34,\n",
    "                          learn_rate= 0.61,\n",
    "                          stopping_rounds=5,  # default\n",
    "                          stopping_tolerance=1e-4,  # default\n",
    "                          stopping_metric = \"rmse\",  # default\n",
    "                          seed=42,\n",
    "                          booster = 'dart',\n",
    "                          normalize_type='forest',\n",
    "                          one_drop=False,\n",
    "                          sample_type='uniform')\n",
    "\n",
    "hyper_params = { 'rate_drop' : [x*0.025 for x in range(0, 21)], #start from 0 to 0.5 in increments of 0.025\n",
    "                 'skip_drop' : [x*0.025 for x in range(20, 41)] #start from 0.5 to 1 in increments of 0.025\n",
    "                }\n",
    "\n",
    "search_criteria_tune = {'strategy': \"RandomDiscrete\",\n",
    "                        'max_runtime_secs': 300,  # 5 min  \n",
    "                        'max_models': 40,   # build no more than 40 models\n",
    "                        'seed' : 42}\n",
    "\n",
    "xgb_grid = H2OGridSearch(xgb, hyper_params,\n",
    "                         grid_id='dart_booster_grid',\n",
    "                         search_criteria=search_criteria_tune)\n",
    "\n",
    "%time xgb_grid.train(x=x, y=y, training_frame=train, validation_frame=valid)"
   ]
  },
  {
   "cell_type": "markdown",
   "metadata": {},
   "source": [
    "各ハイパーパラメータに関して\n",
    "- normalize_type - [APIドキュメント](https://docs.h2o.ai/h2o/latest-stable/h2o-py/docs/modeling.html#h2o.estimators.xgboost.H2OXGBoostEstimator.normalize_type)（dartのみ）\n",
    "- one_drop - [APIドキュメント](https://docs.h2o.ai/h2o/latest-stable/h2o-py/docs/modeling.html#h2o.estimators.xgboost.H2OXGBoostEstimator.one_drop)（dartのみ）\n",
    "- sample_type - [APIドキュメント](https://docs.h2o.ai/h2o/latest-stable/h2o-py/docs/modeling.html#h2o.estimators.xgboost.H2OXGBoostEstimator.sample_type)（dartのみ）\n",
    "- rate_drop - [APIドキュメント](https://docs.h2o.ai/h2o/latest-stable/h2o-py/docs/modeling.html#h2o.estimators.xgboost.H2OXGBoostEstimator.rate_drop)（dartのみ）\n",
    "- skip_drop - [APIドキュメント](https://docs.h2o.ai/h2o/latest-stable/h2o-py/docs/modeling.html#h2o.estimators.xgboost.H2OXGBoostEstimator.skip_drop)（dartのみ）\n",
    "  \n",
    "[dart boosterに関するオリジナルのXGBoostのドキュメント](https://xgboost.readthedocs.io/en/latest/parameter.html#additional-parameters-for-dart-booster-booster-dart)"
   ]
  },
  {
   "cell_type": "code",
   "execution_count": 35,
   "metadata": {},
   "outputs": [
    {
     "name": "stdout",
     "output_type": "stream",
     "text": [
      "\n",
      "Hyper-Parameter Search Summary: ordered by increasing rmse\n"
     ]
    },
    {
     "data": {
      "text/html": [
       "<div style=\"overflow:auto\"><table style=\"width:50%\"><tr><td><b></b></td>\n",
       "<td><b>rate_drop</b></td>\n",
       "<td><b>skip_drop</b></td>\n",
       "<td><b>model_ids</b></td>\n",
       "<td><b>rmse</b></td></tr>\n",
       "<tr><td></td>\n",
       "<td>0.275</td>\n",
       "<td>0.9</td>\n",
       "<td>dart_booster_grid_model_2</td>\n",
       "<td>0.4162070</td></tr>\n",
       "<tr><td></td>\n",
       "<td>0.225</td>\n",
       "<td>0.95</td>\n",
       "<td>dart_booster_grid_model_1</td>\n",
       "<td>0.4187967</td></tr></table></div>"
      ],
      "text/plain": [
       "    rate_drop    skip_drop    model_ids                  rmse\n",
       "--  -----------  -----------  -------------------------  --------\n",
       "    0.275        0.9          dart_booster_grid_model_2  0.416207\n",
       "    0.225        0.95         dart_booster_grid_model_1  0.418797"
      ]
     },
     "metadata": {},
     "output_type": "display_data"
    },
    {
     "name": "stdout",
     "output_type": "stream",
     "text": [
      "\n"
     ]
    },
    {
     "data": {
      "text/plain": []
     },
     "execution_count": 35,
     "metadata": {},
     "output_type": "execute_result"
    }
   ],
   "source": [
    "xgb_grid.get_grid(sort_by='rmse',decreasing=False)"
   ]
  },
  {
   "cell_type": "code",
   "execution_count": 37,
   "metadata": {},
   "outputs": [
    {
     "name": "stdout",
     "output_type": "stream",
     "text": [
      "\n",
      "Hyper-Parameter Search Summary: ordered by increasing residual_deviance\n"
     ]
    },
    {
     "data": {
      "text/html": [
       "<div style=\"overflow:auto\"><table style=\"width:50%\"><tr><td><b></b></td>\n",
       "<td><b>rate_drop</b></td>\n",
       "<td><b>skip_drop</b></td>\n",
       "<td><b>model_ids</b></td>\n",
       "<td><b>residual_deviance</b></td></tr>\n",
       "<tr><td></td>\n",
       "<td>0.275</td>\n",
       "<td>0.9</td>\n",
       "<td>dart_booster_grid_model_2</td>\n",
       "<td>0.1732282</td></tr>\n",
       "<tr><td></td>\n",
       "<td>0.225</td>\n",
       "<td>0.95</td>\n",
       "<td>dart_booster_grid_model_1</td>\n",
       "<td>0.1753907</td></tr></table></div>"
      ],
      "text/plain": [
       "    rate_drop    skip_drop    model_ids                  residual_deviance\n",
       "--  -----------  -----------  -------------------------  -------------------\n",
       "    0.275        0.9          dart_booster_grid_model_2  0.173228\n",
       "    0.225        0.95         dart_booster_grid_model_1  0.175391"
      ]
     },
     "metadata": {},
     "output_type": "display_data"
    },
    {
     "name": "stdout",
     "output_type": "stream",
     "text": [
      "\n"
     ]
    },
    {
     "data": {
      "text/plain": []
     },
     "execution_count": 37,
     "metadata": {},
     "output_type": "execute_result"
    }
   ],
   "source": [
    "xgb_grid"
   ]
  },
  {
   "cell_type": "code",
   "execution_count": 36,
   "metadata": {},
   "outputs": [
    {
     "name": "stdout",
     "output_type": "stream",
     "text": [
      "Model Details\n",
      "=============\n",
      "H2OXGBoostEstimator :  XGBoost\n",
      "Model Key:  dart_booster_grid_model_2\n",
      "\n",
      "\n",
      "Model Summary: \n"
     ]
    },
    {
     "data": {
      "text/html": [
       "<div style=\"overflow:auto\"><table style=\"width:50%\"><tr><td><b></b></td>\n",
       "<td><b>number_of_trees</b></td></tr>\n",
       "<tr><td></td>\n",
       "<td>80.0</td></tr></table></div>"
      ],
      "text/plain": [
       "    number_of_trees\n",
       "--  -----------------\n",
       "    80"
      ]
     },
     "metadata": {},
     "output_type": "display_data"
    },
    {
     "name": "stdout",
     "output_type": "stream",
     "text": [
      "\n",
      "\n",
      "ModelMetricsRegression: xgboost\n",
      "** Reported on train data. **\n",
      "\n",
      "MSE: 0.1480685319069398\n",
      "RMSE: 0.38479674102952044\n",
      "MAE: 0.279033765052327\n",
      "RMSLE: 0.045614212666119584\n",
      "Mean Residual Deviance: 0.1480685319069398\n",
      "\n",
      "ModelMetricsRegression: xgboost\n",
      "** Reported on validation data. **\n",
      "\n",
      "MSE: 0.17322824292132674\n",
      "RMSE: 0.4162069712550797\n",
      "MAE: 0.30259255115280925\n",
      "RMSLE: 0.049337902723038264\n",
      "Mean Residual Deviance: 0.17322824292132674\n",
      "\n",
      "Scoring History: \n"
     ]
    },
    {
     "data": {
      "text/html": [
       "<div style=\"overflow:auto\"><table style=\"width:50%\"><tr><td><b></b></td>\n",
       "<td><b>timestamp</b></td>\n",
       "<td><b>duration</b></td>\n",
       "<td><b>number_of_trees</b></td>\n",
       "<td><b>training_rmse</b></td>\n",
       "<td><b>training_mae</b></td>\n",
       "<td><b>training_deviance</b></td>\n",
       "<td><b>validation_rmse</b></td>\n",
       "<td><b>validation_mae</b></td>\n",
       "<td><b>validation_deviance</b></td></tr>\n",
       "<tr><td></td>\n",
       "<td>2020-09-15 08:27:06</td>\n",
       "<td> 3 min  2.881 sec</td>\n",
       "<td>0.0</td>\n",
       "<td>6.7088631</td>\n",
       "<td>6.6836794</td>\n",
       "<td>45.0088439</td>\n",
       "<td>6.7047501</td>\n",
       "<td>6.6798046</td>\n",
       "<td>44.9536733</td></tr>\n",
       "<tr><td></td>\n",
       "<td>2020-09-15 08:27:07</td>\n",
       "<td> 3 min  4.193 sec</td>\n",
       "<td>1.0</td>\n",
       "<td>2.6561735</td>\n",
       "<td>2.6069449</td>\n",
       "<td>7.0552576</td>\n",
       "<td>2.6536824</td>\n",
       "<td>2.6047770</td>\n",
       "<td>7.0420302</td></tr>\n",
       "<tr><td></td>\n",
       "<td>2020-09-15 08:27:08</td>\n",
       "<td> 3 min  4.956 sec</td>\n",
       "<td>2.0</td>\n",
       "<td>1.1248013</td>\n",
       "<td>1.0187216</td>\n",
       "<td>1.2651779</td>\n",
       "<td>1.1229032</td>\n",
       "<td>1.0170359</td>\n",
       "<td>1.2609117</td></tr>\n",
       "<tr><td></td>\n",
       "<td>2020-09-15 08:27:09</td>\n",
       "<td> 3 min  5.793 sec</td>\n",
       "<td>3.0</td>\n",
       "<td>0.6125743</td>\n",
       "<td>0.4525943</td>\n",
       "<td>0.3752472</td>\n",
       "<td>0.6115991</td>\n",
       "<td>0.4514537</td>\n",
       "<td>0.3740534</td></tr>\n",
       "<tr><td></td>\n",
       "<td>2020-09-15 08:27:09</td>\n",
       "<td> 3 min  6.644 sec</td>\n",
       "<td>4.0</td>\n",
       "<td>0.4836919</td>\n",
       "<td>0.3363244</td>\n",
       "<td>0.2339579</td>\n",
       "<td>0.4836126</td>\n",
       "<td>0.3372060</td>\n",
       "<td>0.2338811</td></tr>\n",
       "<tr><td></td>\n",
       "<td>2020-09-15 08:27:14</td>\n",
       "<td> 3 min 11.069 sec</td>\n",
       "<td>10.0</td>\n",
       "<td>0.4289158</td>\n",
       "<td>0.3133417</td>\n",
       "<td>0.1839687</td>\n",
       "<td>0.4338691</td>\n",
       "<td>0.3181515</td>\n",
       "<td>0.1882424</td></tr>\n",
       "<tr><td></td>\n",
       "<td>2020-09-15 08:27:18</td>\n",
       "<td> 3 min 15.184 sec</td>\n",
       "<td>15.0</td>\n",
       "<td>0.4206298</td>\n",
       "<td>0.3065666</td>\n",
       "<td>0.1769294</td>\n",
       "<td>0.4278328</td>\n",
       "<td>0.3128159</td>\n",
       "<td>0.1830409</td></tr>\n",
       "<tr><td></td>\n",
       "<td>2020-09-15 08:27:24</td>\n",
       "<td> 3 min 20.952 sec</td>\n",
       "<td>21.0</td>\n",
       "<td>0.4129572</td>\n",
       "<td>0.3002513</td>\n",
       "<td>0.1705336</td>\n",
       "<td>0.4234790</td>\n",
       "<td>0.3093437</td>\n",
       "<td>0.1793345</td></tr>\n",
       "<tr><td></td>\n",
       "<td>2020-09-15 08:27:32</td>\n",
       "<td> 3 min 28.759 sec</td>\n",
       "<td>28.0</td>\n",
       "<td>0.4034008</td>\n",
       "<td>0.2923724</td>\n",
       "<td>0.1627322</td>\n",
       "<td>0.4199245</td>\n",
       "<td>0.3061051</td>\n",
       "<td>0.1763366</td></tr>\n",
       "<tr><td></td>\n",
       "<td>2020-09-15 08:27:42</td>\n",
       "<td> 3 min 38.766 sec</td>\n",
       "<td>36.0</td>\n",
       "<td>0.3986505</td>\n",
       "<td>0.2887370</td>\n",
       "<td>0.1589222</td>\n",
       "<td>0.4185507</td>\n",
       "<td>0.3048728</td>\n",
       "<td>0.1751847</td></tr>\n",
       "<tr><td></td>\n",
       "<td>2020-09-15 08:27:55</td>\n",
       "<td> 3 min 51.896 sec</td>\n",
       "<td>45.0</td>\n",
       "<td>0.3896168</td>\n",
       "<td>0.2820139</td>\n",
       "<td>0.1518013</td>\n",
       "<td>0.4173268</td>\n",
       "<td>0.3036323</td>\n",
       "<td>0.1741617</td></tr>\n",
       "<tr><td></td>\n",
       "<td>2020-09-15 08:28:11</td>\n",
       "<td> 4 min  8.035 sec</td>\n",
       "<td>55.0</td>\n",
       "<td>0.3864958</td>\n",
       "<td>0.2803147</td>\n",
       "<td>0.1493790</td>\n",
       "<td>0.4165522</td>\n",
       "<td>0.3028098</td>\n",
       "<td>0.1735158</td></tr>\n",
       "<tr><td></td>\n",
       "<td>2020-09-15 08:28:30</td>\n",
       "<td> 4 min 26.860 sec</td>\n",
       "<td>65.0</td>\n",
       "<td>0.3798002</td>\n",
       "<td>0.2747723</td>\n",
       "<td>0.1442482</td>\n",
       "<td>0.4152244</td>\n",
       "<td>0.3015121</td>\n",
       "<td>0.1724113</td></tr>\n",
       "<tr><td></td>\n",
       "<td>2020-09-15 08:28:52</td>\n",
       "<td> 4 min 49.463 sec</td>\n",
       "<td>76.0</td>\n",
       "<td>0.3834398</td>\n",
       "<td>0.2783998</td>\n",
       "<td>0.1470261</td>\n",
       "<td>0.4162407</td>\n",
       "<td>0.3027799</td>\n",
       "<td>0.1732563</td></tr>\n",
       "<tr><td></td>\n",
       "<td>2020-09-15 08:29:03</td>\n",
       "<td> 5 min  0.053 sec</td>\n",
       "<td>80.0</td>\n",
       "<td>0.3847967</td>\n",
       "<td>0.2790338</td>\n",
       "<td>0.1480685</td>\n",
       "<td>0.4162070</td>\n",
       "<td>0.3025926</td>\n",
       "<td>0.1732282</td></tr></table></div>"
      ],
      "text/plain": [
       "    timestamp            duration          number_of_trees    training_rmse    training_mae    training_deviance    validation_rmse    validation_mae    validation_deviance\n",
       "--  -------------------  ----------------  -----------------  ---------------  --------------  -------------------  -----------------  ----------------  ---------------------\n",
       "    2020-09-15 08:27:06  3 min  2.881 sec  0                  6.70886          6.68368         45.0088              6.70475            6.6798            44.9537\n",
       "    2020-09-15 08:27:07  3 min  4.193 sec  1                  2.65617          2.60694         7.05526              2.65368            2.60478           7.04203\n",
       "    2020-09-15 08:27:08  3 min  4.956 sec  2                  1.1248           1.01872         1.26518              1.1229             1.01704           1.26091\n",
       "    2020-09-15 08:27:09  3 min  5.793 sec  3                  0.612574         0.452594        0.375247             0.611599           0.451454          0.374053\n",
       "    2020-09-15 08:27:09  3 min  6.644 sec  4                  0.483692         0.336324        0.233958             0.483613           0.337206          0.233881\n",
       "    2020-09-15 08:27:14  3 min 11.069 sec  10                 0.428916         0.313342        0.183969             0.433869           0.318151          0.188242\n",
       "    2020-09-15 08:27:18  3 min 15.184 sec  15                 0.42063          0.306567        0.176929             0.427833           0.312816          0.183041\n",
       "    2020-09-15 08:27:24  3 min 20.952 sec  21                 0.412957         0.300251        0.170534             0.423479           0.309344          0.179334\n",
       "    2020-09-15 08:27:32  3 min 28.759 sec  28                 0.403401         0.292372        0.162732             0.419925           0.306105          0.176337\n",
       "    2020-09-15 08:27:42  3 min 38.766 sec  36                 0.39865          0.288737        0.158922             0.418551           0.304873          0.175185\n",
       "    2020-09-15 08:27:55  3 min 51.896 sec  45                 0.389617         0.282014        0.151801             0.417327           0.303632          0.174162\n",
       "    2020-09-15 08:28:11  4 min  8.035 sec  55                 0.386496         0.280315        0.149379             0.416552           0.30281           0.173516\n",
       "    2020-09-15 08:28:30  4 min 26.860 sec  65                 0.3798           0.274772        0.144248             0.415224           0.301512          0.172411\n",
       "    2020-09-15 08:28:52  4 min 49.463 sec  76                 0.38344          0.2784          0.147026             0.416241           0.30278           0.173256\n",
       "    2020-09-15 08:29:03  5 min  0.053 sec  80                 0.384797         0.279034        0.148069             0.416207           0.302593          0.173228"
      ]
     },
     "metadata": {},
     "output_type": "display_data"
    },
    {
     "name": "stdout",
     "output_type": "stream",
     "text": [
      "\n",
      "Variable Importances: \n"
     ]
    },
    {
     "data": {
      "text/html": [
       "<div style=\"overflow:auto\"><table style=\"width:50%\"><tr><td><b>variable</b></td>\n",
       "<td><b>relative_importance</b></td>\n",
       "<td><b>scaled_importance</b></td>\n",
       "<td><b>percentage</b></td></tr>\n",
       "<tr><td>SELLER_NAME.NORWESTMORTGAGE,INC</td>\n",
       "<td>32304.2656250</td>\n",
       "<td>1.0</td>\n",
       "<td>0.2335608</td></tr>\n",
       "<tr><td>OCCUPANCY_STATUS.I</td>\n",
       "<td>8938.4013672</td>\n",
       "<td>0.2766942</td>\n",
       "<td>0.0646249</td></tr>\n",
       "<tr><td>ORIGINAL_UPB</td>\n",
       "<td>8290.3828125</td>\n",
       "<td>0.2566343</td>\n",
       "<td>0.0599397</td></tr>\n",
       "<tr><td>ORIGINAL_LOAN_TO_VALUE</td>\n",
       "<td>7418.7294922</td>\n",
       "<td>0.2296517</td>\n",
       "<td>0.0536376</td></tr>\n",
       "<tr><td>CREDIT_SCORE</td>\n",
       "<td>6557.4257812</td>\n",
       "<td>0.2029895</td>\n",
       "<td>0.0474104</td></tr>\n",
       "<tr><td>---</td>\n",
       "<td>---</td>\n",
       "<td>---</td>\n",
       "<td>---</td></tr>\n",
       "<tr><td>PROPERTY_TYPE.CP</td>\n",
       "<td>4.4970784</td>\n",
       "<td>0.0001392</td>\n",
       "<td>0.0000325</td></tr>\n",
       "<tr><td>PROPERTY_STATE.AK</td>\n",
       "<td>3.2365997</td>\n",
       "<td>0.0001002</td>\n",
       "<td>0.0000234</td></tr>\n",
       "<tr><td>PROPERTY_STATE.DC</td>\n",
       "<td>3.1666882</td>\n",
       "<td>0.0000980</td>\n",
       "<td>0.0000229</td></tr>\n",
       "<tr><td>PROPERTY_TYPE.</td>\n",
       "<td>2.3219380</td>\n",
       "<td>0.0000719</td>\n",
       "<td>0.0000168</td></tr>\n",
       "<tr><td>PROPERTY_TYPE.LH</td>\n",
       "<td>1.0921545</td>\n",
       "<td>0.0000338</td>\n",
       "<td>0.0000079</td></tr></table></div>"
      ],
      "text/plain": [
       "variable                         relative_importance    scaled_importance       percentage\n",
       "-------------------------------  ---------------------  ----------------------  ----------------------\n",
       "SELLER_NAME.NORWESTMORTGAGE,INC  32304.265625           1.0                     0.23356082814168133\n",
       "OCCUPANCY_STATUS.I               8938.4013671875        0.27669415150766175     0.06462491516808933\n",
       "ORIGINAL_UPB                     8290.3828125           0.2566343067116233      0.059939721205132995\n",
       "ORIGINAL_LOAN_TO_VALUE           7418.7294921875        0.2296516991999412      0.053637641049282564\n",
       "CREDIT_SCORE                     6557.42578125          0.2029894707210203      0.04741038888564308\n",
       "---                              ---                    ---                     ---\n",
       "PROPERTY_TYPE.CP                 4.4970784187316895     0.00013921004956235372  3.251401446142784e-05\n",
       "PROPERTY_STATE.AK                3.2365996837615967     0.00010019109306904718  2.340071466962693e-05\n",
       "PROPERTY_STATE.DC                3.1666882038116455     9.802693676964357e-05   2.2895252532110186e-05\n",
       "PROPERTY_TYPE.                   2.3219380378723145     7.187713427156152e-05   1.6787683004916737e-05\n",
       "PROPERTY_TYPE.LH                 1.0921545028686523     3.3808368081998534e-05  7.896310447350365e-06"
      ]
     },
     "metadata": {},
     "output_type": "display_data"
    },
    {
     "data": {
      "text/plain": []
     },
     "execution_count": 36,
     "metadata": {},
     "output_type": "execute_result"
    }
   ],
   "source": [
    "#> Mean Residual Deviance基準で最適なモデルを取得\n",
    "best_xgb_model = xgb_grid.models[0] \n",
    "best_xgb_model"
   ]
  },
  {
   "cell_type": "markdown",
   "metadata": {},
   "source": [
    "- RMSE基準で最適なモデルを取得する場合 `xgb_grid.get_grid(sort_by='rmse', decreasing=False).models[0]`"
   ]
  },
  {
   "cell_type": "code",
   "execution_count": 41,
   "metadata": {},
   "outputs": [],
   "source": [
    "#> validデータに対する結果取得\n",
    "tuned_xgb_per = best_xgb_model.model_performance(valid)"
   ]
  },
  {
   "cell_type": "code",
   "execution_count": 42,
   "metadata": {},
   "outputs": [
    {
     "name": "stdout",
     "output_type": "stream",
     "text": [
      "Default XGB RMSE: 0.4244 \n",
      "Tuned XGB RMSE:0.4162\n"
     ]
    }
   ],
   "source": [
    "#> [Build an XGBoost Model]で学習したモデルとランダムサーチした結果をvalidデータで比較\n",
    "print(\"Default XGB RMSE: %.4f \\nTuned XGB RMSE:%.4f\" % (default_xgb_per.rmse(), tuned_xgb_per.rmse()))"
   ]
  },
  {
   "cell_type": "code",
   "execution_count": 43,
   "metadata": {},
   "outputs": [
    {
     "name": "stdout",
     "output_type": "stream",
     "text": [
      "Default XGB MAE: 0.3108 \n",
      "Tuned XGB MAE:0.3026\n"
     ]
    }
   ],
   "source": [
    "print(\"Default XGB MAE: %.4f \\nTuned XGB MAE:%.4f\" % (default_xgb_per.mae(), tuned_xgb_per.mae()))"
   ]
  },
  {
   "cell_type": "markdown",
   "metadata": {},
   "source": [
    "<a id='TuneDeepLearningModelGridSearch'></a>\n",
    "### Tune the Deep Learning with H2O GridSearch"
   ]
  },
  {
   "cell_type": "markdown",
   "metadata": {},
   "source": [
    "[**Gred Search - ドキュメント**](http://docs.h2o.ai/h2o/latest-stable/h2o-docs/grid-search.html#grid-hyperparameter-search)  \n",
    "[**H2OGridSearch - APIドキュメント**](https://docs.h2o.ai/h2o/latest-stable/h2o-py/docs/modeling.html#h2ogridsearch)"
   ]
  },
  {
   "cell_type": "code",
   "execution_count": null,
   "metadata": {},
   "outputs": [],
   "source": []
  },
  {
   "cell_type": "code",
   "execution_count": null,
   "metadata": {},
   "outputs": [],
   "source": []
  },
  {
   "cell_type": "code",
   "execution_count": null,
   "metadata": {},
   "outputs": [],
   "source": []
  },
  {
   "cell_type": "code",
   "execution_count": null,
   "metadata": {},
   "outputs": [],
   "source": []
  },
  {
   "cell_type": "code",
   "execution_count": null,
   "metadata": {},
   "outputs": [],
   "source": []
  },
  {
   "cell_type": "code",
   "execution_count": null,
   "metadata": {},
   "outputs": [],
   "source": []
  },
  {
   "cell_type": "code",
   "execution_count": 27,
   "metadata": {},
   "outputs": [],
   "source": [
    "#> H2Oクラスターの終了\n",
    "#h2o.cluster().shutdown()"
   ]
  },
  {
   "cell_type": "code",
   "execution_count": null,
   "metadata": {},
   "outputs": [],
   "source": []
  }
 ],
 "metadata": {
  "kernelspec": {
   "display_name": "Python 3",
   "language": "python",
   "name": "python3"
  },
  "language_info": {
   "codemirror_mode": {
    "name": "ipython",
    "version": 3
   },
   "file_extension": ".py",
   "mimetype": "text/x-python",
   "name": "python",
   "nbconvert_exporter": "python",
   "pygments_lexer": "ipython3",
   "version": "3.6.12"
  }
 },
 "nbformat": 4,
 "nbformat_minor": 4
}
