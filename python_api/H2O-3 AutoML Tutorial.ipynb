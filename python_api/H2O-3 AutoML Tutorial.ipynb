{
 "cells": [
  {
   "cell_type": "markdown",
   "metadata": {},
   "source": [
    "## H2O-3 AutoML Tutorial"
   ]
  },
  {
   "cell_type": "markdown",
   "metadata": {},
   "source": [
    "[**1C. Introduction to Machine Learning with H2O-3 - AutoML**](https://training.h2o.ai/products/1c-introduction-to-machine-learning-with-h2o-3-automl)に沿ったチュートリアル"
   ]
  },
  {
   "cell_type": "markdown",
   "metadata": {},
   "source": [
    "[**H2O 3 - ドキュメント**](http://docs.h2o.ai/h2o/latest-stable/h2o-docs/index.html)  \n",
    "[**Python - APIドキュメント**](https://docs.h2o.ai/h2o/latest-stable/h2o-py/docs/index.html)"
   ]
  },
  {
   "cell_type": "markdown",
   "metadata": {},
   "source": [
    "- [Initial Setup](#InitialSetup)\n",
    "    - パッケージのインポート\n",
    "    - H2Oクラスターの開始\n",
    "    - データのロード\n",
    "- [Start Experiment](#StartExperiment)\n",
    "    - データの確認\n",
    "    - 学習(train)/テスト(test)データセットへの分割\n",
    "- [H2O AutoML Classification](#AutoMLClassification)\n",
    "    - XXX\n",
    "    - XXX"
   ]
  },
  {
   "cell_type": "markdown",
   "metadata": {},
   "source": [
    "***"
   ]
  },
  {
   "cell_type": "markdown",
   "metadata": {},
   "source": [
    "<a id='InitialSetup'></a>\n",
    "### Initial Setup"
   ]
  },
  {
   "cell_type": "code",
   "execution_count": 2,
   "metadata": {},
   "outputs": [],
   "source": [
    "import h2o\n",
    "import matplotlib as plt\n",
    "%matplotlib inline\n",
    "from h2o.automl import H2OAutoML"
   ]
  },
  {
   "cell_type": "code",
   "execution_count": 3,
   "metadata": {},
   "outputs": [
    {
     "name": "stdout",
     "output_type": "stream",
     "text": [
      "Checking whether there is an H2O instance running at http://localhost:54321 ..... not found.\n",
      "Attempting to start a local H2O server...\n",
      "  Java Version: java version \"1.8.0_261\"; Java(TM) SE Runtime Environment (build 1.8.0_261-b12); Java HotSpot(TM) 64-Bit Server VM (build 25.261-b12, mixed mode)\n",
      "  Starting server from /home/ec2-user/anaconda3/envs/h2o_3/lib/python3.6/site-packages/h2o/backend/bin/h2o.jar\n",
      "  Ice root: /tmp/tmp106cem11\n",
      "  JVM stdout: /tmp/tmp106cem11/h2o_ec2_user_started_from_python.out\n",
      "  JVM stderr: /tmp/tmp106cem11/h2o_ec2_user_started_from_python.err\n",
      "  Server is running at http://127.0.0.1:54321\n",
      "Connecting to H2O server at http://127.0.0.1:54321 ... successful.\n"
     ]
    },
    {
     "data": {
      "text/html": [
       "<div style=\"overflow:auto\"><table style=\"width:50%\"><tr><td>H2O_cluster_uptime:</td>\n",
       "<td>02 secs</td></tr>\n",
       "<tr><td>H2O_cluster_timezone:</td>\n",
       "<td>Asia/Tokyo</td></tr>\n",
       "<tr><td>H2O_data_parsing_timezone:</td>\n",
       "<td>UTC</td></tr>\n",
       "<tr><td>H2O_cluster_version:</td>\n",
       "<td>3.30.1.2</td></tr>\n",
       "<tr><td>H2O_cluster_version_age:</td>\n",
       "<td>13 days </td></tr>\n",
       "<tr><td>H2O_cluster_name:</td>\n",
       "<td>H2O_from_python_ec2_user_dj3xqd</td></tr>\n",
       "<tr><td>H2O_cluster_total_nodes:</td>\n",
       "<td>1</td></tr>\n",
       "<tr><td>H2O_cluster_free_memory:</td>\n",
       "<td>3.399 Gb</td></tr>\n",
       "<tr><td>H2O_cluster_total_cores:</td>\n",
       "<td>4</td></tr>\n",
       "<tr><td>H2O_cluster_allowed_cores:</td>\n",
       "<td>4</td></tr>\n",
       "<tr><td>H2O_cluster_status:</td>\n",
       "<td>accepting new members, healthy</td></tr>\n",
       "<tr><td>H2O_connection_url:</td>\n",
       "<td>http://127.0.0.1:54321</td></tr>\n",
       "<tr><td>H2O_connection_proxy:</td>\n",
       "<td>{\"http\": null, \"https\": null}</td></tr>\n",
       "<tr><td>H2O_internal_security:</td>\n",
       "<td>False</td></tr>\n",
       "<tr><td>H2O_API_Extensions:</td>\n",
       "<td>Amazon S3, XGBoost, Algos, AutoML, Core V3, TargetEncoder, Core V4</td></tr>\n",
       "<tr><td>Python_version:</td>\n",
       "<td>3.6.12 final</td></tr></table></div>"
      ],
      "text/plain": [
       "--------------------------  ------------------------------------------------------------------\n",
       "H2O_cluster_uptime:         02 secs\n",
       "H2O_cluster_timezone:       Asia/Tokyo\n",
       "H2O_data_parsing_timezone:  UTC\n",
       "H2O_cluster_version:        3.30.1.2\n",
       "H2O_cluster_version_age:    13 days\n",
       "H2O_cluster_name:           H2O_from_python_ec2_user_dj3xqd\n",
       "H2O_cluster_total_nodes:    1\n",
       "H2O_cluster_free_memory:    3.399 Gb\n",
       "H2O_cluster_total_cores:    4\n",
       "H2O_cluster_allowed_cores:  4\n",
       "H2O_cluster_status:         accepting new members, healthy\n",
       "H2O_connection_url:         http://127.0.0.1:54321\n",
       "H2O_connection_proxy:       {\"http\": null, \"https\": null}\n",
       "H2O_internal_security:      False\n",
       "H2O_API_Extensions:         Amazon S3, XGBoost, Algos, AutoML, Core V3, TargetEncoder, Core V4\n",
       "Python_version:             3.6.12 final\n",
       "--------------------------  ------------------------------------------------------------------"
      ]
     },
     "metadata": {},
     "output_type": "display_data"
    }
   ],
   "source": [
    "#> H2Oクラスターの開始\n",
    "h2o.init(url='http://localhost:54321')"
   ]
  },
  {
   "cell_type": "code",
   "execution_count": 4,
   "metadata": {},
   "outputs": [
    {
     "name": "stdout",
     "output_type": "stream",
     "text": [
      "Parse progress: |█████████████████████████████████████████████████████████| 100%\n"
     ]
    }
   ],
   "source": [
    "#> データのロード\n",
    "loan_level = h2o.import_file(\"https://s3.amazonaws.com/data.h2o.ai/H2O-3-Tutorials/loan_level_50k.csv\")"
   ]
  },
  {
   "cell_type": "markdown",
   "metadata": {},
   "source": [
    "***"
   ]
  },
  {
   "cell_type": "markdown",
   "metadata": {},
   "source": [
    "<a id='StartExperiment'></a>\n",
    "### Start Experiment"
   ]
  },
  {
   "cell_type": "code",
   "execution_count": 5,
   "metadata": {
    "scrolled": true
   },
   "outputs": [
    {
     "name": "stdout",
     "output_type": "stream",
     "text": [
      "Rows:49930\n",
      "Cols:27\n",
      "\n",
      "\n"
     ]
    },
    {
     "data": {
      "text/html": [
       "<table>\n",
       "<thead>\n",
       "<tr><th>       </th><th>CREDIT_SCORE     </th><th>FIRST_PAYMENT_DATE  </th><th>FIRST_TIME_HOMEBUYER_FLAG  </th><th>MATURITY_DATE     </th><th>METROPOLITAN_STATISTICAL_AREA  </th><th>MORTGAGE_INSURANCE_PERCENTAGE  </th><th>NUMBER_OF_UNITS    </th><th>OCCUPANCY_STATUS  </th><th>ORIGINAL_COMBINED_LOAN_TO_VALUE  </th><th>ORIGINAL_DEBT_TO_INCOME_RATIO  </th><th>ORIGINAL_UPB      </th><th>ORIGINAL_LOAN_TO_VALUE  </th><th>ORIGINAL_INTEREST_RATE  </th><th>CHANNEL  </th><th>PREPAYMENT_PENALTY_MORTGAGE_FLAG  </th><th>PRODUCT_TYPE  </th><th>PROPERTY_STATE  </th><th>PROPERTY_TYPE  </th><th>POSTAL_CODE       </th><th>LOAN_SEQUENCE_NUMBER  </th><th>LOAN_PURPOSE  </th><th>ORIGINAL_LOAN_TERM  </th><th>NUMBER_OF_BORROWERS  </th><th>SELLER_NAME         </th><th>SERVICER_NAME       </th><th>PREPAID  </th><th>DELINQUENT  </th></tr>\n",
       "</thead>\n",
       "<tbody>\n",
       "<tr><td>type   </td><td>int              </td><td>int                 </td><td>enum                       </td><td>int               </td><td>int                            </td><td>int                            </td><td>int                </td><td>enum              </td><td>int                              </td><td>int                            </td><td>int               </td><td>int                     </td><td>real                    </td><td>enum     </td><td>enum                              </td><td>enum          </td><td>enum            </td><td>enum           </td><td>int               </td><td>string                </td><td>enum          </td><td>int                 </td><td>int                  </td><td>enum                </td><td>enum                </td><td>enum     </td><td>enum        </td></tr>\n",
       "<tr><td>mins   </td><td>300.0            </td><td>199902.0            </td><td>                           </td><td>202404.0          </td><td>10180.0                        </td><td>0.0                            </td><td>1.0                </td><td>                  </td><td>6.0                              </td><td>1.0                            </td><td>10000.0           </td><td>6.0                     </td><td>5.0                     </td><td>         </td><td>                                  </td><td>              </td><td>                </td><td>               </td><td>600.0             </td><td>NaN                   </td><td>              </td><td>301.0               </td><td>1.0                  </td><td>                    </td><td>                    </td><td>         </td><td>            </td></tr>\n",
       "<tr><td>mean   </td><td>712.3066000684786</td><td>200025.67422391332  </td><td>                           </td><td>203023.39707590628</td><td>30705.25866529917              </td><td>7.7196095038559225             </td><td>1.0281994792709797 </td><td>                  </td><td>76.08864765261981                </td><td>32.83933763635989              </td><td>136369.677548568  </td><td>75.74523823829837       </td><td>7.185977708792306       </td><td>         </td><td>                                  </td><td>              </td><td>                </td><td>               </td><td>55401.43412250129 </td><td>NaN                   </td><td>              </td><td>359.8508311636291   </td><td>1.6294507784479138   </td><td>                    </td><td>                    </td><td>         </td><td>            </td></tr>\n",
       "<tr><td>maxs   </td><td>830.0            </td><td>200403.0            </td><td>                           </td><td>203312.0          </td><td>49740.0                        </td><td>50.0                           </td><td>4.0                </td><td>                  </td><td>160.0                            </td><td>65.0                           </td><td>529000.0          </td><td>100.0                   </td><td>10.625                  </td><td>         </td><td>                                  </td><td>              </td><td>                </td><td>               </td><td>99900.0           </td><td>NaN                   </td><td>              </td><td>361.0               </td><td>2.0                  </td><td>                    </td><td>                    </td><td>         </td><td>            </td></tr>\n",
       "<tr><td>sigma  </td><td>54.97355321804357</td><td>109.77460105152075  </td><td>                           </td><td>110.47953133302413</td><td>11363.124822676407             </td><td>12.042273590466614             </td><td>0.21962330364819396</td><td>                  </td><td>15.06208012347409                </td><td>11.165383364972822             </td><td>60632.743281235904</td><td>14.867228331350553      </td><td>0.5835949914330231      </td><td>         </td><td>                                  </td><td>              </td><td>                </td><td>               </td><td>29512.322859225387</td><td>NaN                   </td><td>              </td><td>1.997469761340492   </td><td>0.4829566953626224   </td><td>                    </td><td>                    </td><td>         </td><td>            </td></tr>\n",
       "<tr><td>zeros  </td><td>0                </td><td>0                   </td><td>                           </td><td>0                 </td><td>0                              </td><td>31023                          </td><td>0                  </td><td>                  </td><td>0                                </td><td>0                              </td><td>0                 </td><td>0                       </td><td>0                       </td><td>         </td><td>                                  </td><td>              </td><td>                </td><td>               </td><td>0                 </td><td>0                     </td><td>              </td><td>0                   </td><td>0                    </td><td>                    </td><td>                    </td><td>         </td><td>            </td></tr>\n",
       "<tr><td>missing</td><td>279              </td><td>0                   </td><td>13067                      </td><td>0                 </td><td>7029                           </td><td>5064                           </td><td>0                  </td><td>0                 </td><td>2                                </td><td>1437                           </td><td>0                 </td><td>1                       </td><td>0                       </td><td>0        </td><td>504                               </td><td>0             </td><td>0               </td><td>13             </td><td>4                 </td><td>0                     </td><td>0             </td><td>0                   </td><td>23                   </td><td>0                   </td><td>0                   </td><td>0        </td><td>0           </td></tr>\n",
       "<tr><td>0      </td><td>707.0            </td><td>200211.0            </td><td>N                          </td><td>202903.0          </td><td>33340.0                        </td><td>0.0                            </td><td>1.0                </td><td>O                 </td><td>60.0                             </td><td>57.0                           </td><td>136000.0          </td><td>60.0                    </td><td>6.25                    </td><td>R        </td><td>N                                 </td><td>FRM           </td><td>WI              </td><td>SF             </td><td>53000.0           </td><td>F199Q1000018          </td><td>C             </td><td>317.0               </td><td>2.0                  </td><td>Other sellers       </td><td>Other servicers     </td><td>TRUE     </td><td>FALSE       </td></tr>\n",
       "<tr><td>1      </td><td>691.0            </td><td>200302.0            </td><td>N                          </td><td>202901.0          </td><td>15940.0                        </td><td>0.0                            </td><td>1.0                </td><td>O                 </td><td>65.0                             </td><td>25.0                           </td><td>130000.0          </td><td>65.0                    </td><td>5.875                   </td><td>R        </td><td>N                                 </td><td>FRM           </td><td>OH              </td><td>SF             </td><td>44700.0           </td><td>F199Q1000023          </td><td>P             </td><td>312.0               </td><td>2.0                  </td><td>Other sellers       </td><td>Other servicers     </td><td>TRUE     </td><td>FALSE       </td></tr>\n",
       "<tr><td>2      </td><td>730.0            </td><td>199903.0            </td><td>N                          </td><td>202902.0          </td><td>16620.0                        </td><td>30.0                           </td><td>1.0                </td><td>O                 </td><td>94.0                             </td><td>29.0                           </td><td>138000.0          </td><td>94.0                    </td><td>7.0                     </td><td>T        </td><td>N                                 </td><td>FRM           </td><td>WV              </td><td>SF             </td><td>25300.0           </td><td>F199Q1000037          </td><td>P             </td><td>360.0               </td><td>2.0                  </td><td>Other sellers       </td><td>Other servicers     </td><td>TRUE     </td><td>FALSE       </td></tr>\n",
       "<tr><td>3      </td><td>638.0            </td><td>199905.0            </td><td>N                          </td><td>202904.0          </td><td>42020.0                        </td><td>nan                            </td><td>1.0                </td><td>O                 </td><td>67.0                             </td><td>28.0                           </td><td>160000.0          </td><td>67.0                    </td><td>7.375                   </td><td>T        </td><td>N                                 </td><td>FRM           </td><td>CA              </td><td>SF             </td><td>93400.0           </td><td>F199Q1000067          </td><td>N             </td><td>360.0               </td><td>2.0                  </td><td>CROSSLAND MORTGAGE C</td><td>CHASEMTGECO         </td><td>TRUE     </td><td>FALSE       </td></tr>\n",
       "<tr><td>4      </td><td>577.0            </td><td>199903.0            </td><td>N                          </td><td>202902.0          </td><td>12580.0                        </td><td>12.0                           </td><td>1.0                </td><td>O                 </td><td>80.0                             </td><td>53.0                           </td><td>43000.0           </td><td>80.0                    </td><td>7.25                    </td><td>T        </td><td>N                                 </td><td>FRM           </td><td>MD              </td><td>SF             </td><td>21200.0           </td><td>F199Q1000086          </td><td>N             </td><td>360.0               </td><td>1.0                  </td><td>ACCUBANC MORTGAGE CO</td><td>GMACMTGECORP        </td><td>FALSE    </td><td>TRUE        </td></tr>\n",
       "<tr><td>5      </td><td>693.0            </td><td>199905.0            </td><td>N                          </td><td>202904.0          </td><td>nan                            </td><td>nan                            </td><td>1.0                </td><td>O                 </td><td>80.0                             </td><td>43.0                           </td><td>93000.0           </td><td>80.0                    </td><td>7.125                   </td><td>R        </td><td>N                                 </td><td>FRM           </td><td>SD              </td><td>SF             </td><td>57500.0           </td><td>F199Q1000104          </td><td>P             </td><td>360.0               </td><td>1.0                  </td><td>NORWEST MORTGAGE, IN</td><td>WELLSFARGOHOMEMORTGA</td><td>TRUE     </td><td>FALSE       </td></tr>\n",
       "<tr><td>6      </td><td>739.0            </td><td>199905.0            </td><td>                           </td><td>202904.0          </td><td>16700.0                        </td><td>nan                            </td><td>1.0                </td><td>S                 </td><td>80.0                             </td><td>25.0                           </td><td>200000.0          </td><td>80.0                    </td><td>6.875                   </td><td>R        </td><td>N                                 </td><td>FRM           </td><td>SC              </td><td>CO             </td><td>29400.0           </td><td>F199Q1000107          </td><td>P             </td><td>360.0               </td><td>2.0                  </td><td>NORWEST MORTGAGE, IN</td><td>WELLSFARGOHOMEMORTGA</td><td>TRUE     </td><td>FALSE       </td></tr>\n",
       "<tr><td>7      </td><td>695.0            </td><td>199905.0            </td><td>                           </td><td>202904.0          </td><td>42044.0                        </td><td>0.0                            </td><td>1.0                </td><td>O                 </td><td>40.0                             </td><td>6.0                            </td><td>135000.0          </td><td>40.0                    </td><td>6.875                   </td><td>R        </td><td>N                                 </td><td>FRM           </td><td>CA              </td><td>SF             </td><td>92800.0           </td><td>F199Q1000121          </td><td>C             </td><td>360.0               </td><td>2.0                  </td><td>NATIONSBANC MORTGAGE</td><td>BAMORTGAGE,LLC      </td><td>TRUE     </td><td>FALSE       </td></tr>\n",
       "<tr><td>8      </td><td>753.0            </td><td>199905.0            </td><td>N                          </td><td>202904.0          </td><td>41740.0                        </td><td>0.0                            </td><td>1.0                </td><td>O                 </td><td>80.0                             </td><td>17.0                           </td><td>59000.0           </td><td>80.0                    </td><td>7.0                     </td><td>R        </td><td>N                                 </td><td>FRM           </td><td>CA              </td><td>CO             </td><td>92000.0           </td><td>F199Q1000122          </td><td>P             </td><td>360.0               </td><td>1.0                  </td><td>NATIONSBANC MORTGAGE</td><td>BAMORTGAGE,LLC      </td><td>TRUE     </td><td>FALSE       </td></tr>\n",
       "<tr><td>9      </td><td>712.0            </td><td>199905.0            </td><td>                           </td><td>202904.0          </td><td>nan                            </td><td>nan                            </td><td>1.0                </td><td>O                 </td><td>80.0                             </td><td>28.0                           </td><td>126000.0          </td><td>80.0                    </td><td>7.125                   </td><td>R        </td><td>N                                 </td><td>FRM           </td><td>MI              </td><td>SF             </td><td>48800.0           </td><td>F199Q1000123          </td><td>N             </td><td>360.0               </td><td>2.0                  </td><td>Other sellers       </td><td>Other servicers     </td><td>TRUE     </td><td>FALSE       </td></tr>\n",
       "</tbody>\n",
       "</table>"
      ]
     },
     "metadata": {},
     "output_type": "display_data"
    }
   ],
   "source": [
    "#> 各変数のサマリ\n",
    "loan_level.describe()"
   ]
  },
  {
   "cell_type": "markdown",
   "metadata": {},
   "source": [
    "Classificationの実施では、\"DELINQUENT\"をターゲット変数として扱う"
   ]
  },
  {
   "cell_type": "code",
   "execution_count": 6,
   "metadata": {},
   "outputs": [
    {
     "data": {
      "text/html": [
       "<table>\n",
       "<thead>\n",
       "<tr><th>DELINQUENT  </th><th style=\"text-align: right;\">  Count</th></tr>\n",
       "</thead>\n",
       "<tbody>\n",
       "<tr><td>FALSE       </td><td style=\"text-align: right;\">  48118</td></tr>\n",
       "<tr><td>TRUE        </td><td style=\"text-align: right;\">   1812</td></tr>\n",
       "</tbody>\n",
       "</table>"
      ]
     },
     "metadata": {},
     "output_type": "display_data"
    },
    {
     "data": {
      "text/plain": []
     },
     "execution_count": 6,
     "metadata": {},
     "output_type": "execute_result"
    }
   ],
   "source": [
    "loan_level[\"DELINQUENT\"].table()"
   ]
  },
  {
   "cell_type": "markdown",
   "metadata": {},
   "source": [
    "1812/49930=0.03629（3.63%）  \n",
    "不均衡データ(class inbalance)になっている"
   ]
  },
  {
   "cell_type": "markdown",
   "metadata": {},
   "source": [
    "Regressionの実施では、\"ORIGINAL_INTEREST_RATE\"をターゲット変数として扱う"
   ]
  },
  {
   "cell_type": "code",
   "execution_count": 7,
   "metadata": {},
   "outputs": [
    {
     "data": {
      "image/png": "[encoded data removed]",
      "text/plain": [
       "<Figure size 432x288 with 1 Axes>"
      ]
     },
     "metadata": {
      "needs_background": "light"
     },
     "output_type": "display_data"
    }
   ],
   "source": [
    "loan_level[\"ORIGINAL_INTEREST_RATE\"].hist()"
   ]
  },
  {
   "cell_type": "code",
   "execution_count": 8,
   "metadata": {},
   "outputs": [
    {
     "name": "stdout",
     "output_type": "stream",
     "text": [
      "＜train/testのデータ数＞\n",
      "train:39984 test:9946\n"
     ]
    }
   ],
   "source": [
    "#> 学習/テストデータセットへの分割（学習 :  テスト = 80% : 20% ）\n",
    "train, test = loan_level.split_frame([0.8], seed=42)\n",
    "print(\"＜train/testのデータ数＞\")\n",
    "print(\"train:%d test:%d\" % (train.nrows, test.nrows))"
   ]
  },
  {
   "cell_type": "markdown",
   "metadata": {},
   "source": [
    "これまでのチュートリアルと異なり、trainデータで交差検証(cross varidation)を実施し、ハイパーパラメータの決定を行う"
   ]
  },
  {
   "cell_type": "markdown",
   "metadata": {},
   "source": [
    "***"
   ]
  },
  {
   "cell_type": "markdown",
   "metadata": {},
   "source": [
    "<a id='AutoMLClassification'></a>\n",
    "### H2O AutoML Classification"
   ]
  },
  {
   "cell_type": "markdown",
   "metadata": {},
   "source": [
    "[**AutoML: Automatic Machine Learning - ドキュメント**](http://docs.h2o.ai/h2o/latest-stable/h2o-docs/automl.html)  \n",
    "[**H2OAutoML - APIドキュメント**](https://docs.h2o.ai/h2o/latest-stable/h2o-py/docs/modeling.html#h2oautomlh)"
   ]
  },
  {
   "cell_type": "markdown",
   "metadata": {},
   "source": [
    "to do  \n",
    "探索法（グリッドサーチ、ランダムサーチ）  \n",
    "Modelの種類  \n",
    "Stacked Ensemble"
   ]
  },
  {
   "cell_type": "code",
   "execution_count": null,
   "metadata": {},
   "outputs": [],
   "source": []
  },
  {
   "cell_type": "code",
   "execution_count": 11,
   "metadata": {},
   "outputs": [
    {
     "data": {
      "text/plain": [
       "['OCCUPANCY_STATUS',\n",
       " 'ORIGINAL_LOAN_TERM',\n",
       " 'POSTAL_CODE',\n",
       " 'FIRST_PAYMENT_DATE',\n",
       " 'METROPOLITAN_STATISTICAL_AREA',\n",
       " 'CHANNEL',\n",
       " 'SELLER_NAME',\n",
       " 'NUMBER_OF_UNITS',\n",
       " 'FIRST_TIME_HOMEBUYER_FLAG',\n",
       " 'ORIGINAL_UPB',\n",
       " 'MORTGAGE_INSURANCE_PERCENTAGE',\n",
       " 'SERVICER_NAME',\n",
       " 'NUMBER_OF_BORROWERS',\n",
       " 'ORIGINAL_LOAN_TO_VALUE',\n",
       " 'MATURITY_DATE',\n",
       " 'LOAN_PURPOSE',\n",
       " 'CREDIT_SCORE',\n",
       " 'ORIGINAL_DEBT_TO_INCOME_RATIO',\n",
       " 'PROPERTY_TYPE',\n",
       " 'PROPERTY_STATE',\n",
       " 'LOAN_SEQUENCE_NUMBER',\n",
       " 'ORIGINAL_COMBINED_LOAN_TO_VALUE',\n",
       " 'ORIGINAL_INTEREST_RATE']"
      ]
     },
     "execution_count": 11,
     "metadata": {},
     "output_type": "execute_result"
    }
   ],
   "source": [
    "#> 利用変数の定義\n",
    "y = \"DELINQUENT\"\n",
    "ignore = [\"DELINQUENT\", \"PREPAID\", \"PREPAYMENT_PENALTY_MORTGAGE_FLAG\", \"PRODUCT_TYPE\"] \n",
    "x = list(set(train.names) - set(ignore))\n",
    "x"
   ]
  },
  {
   "cell_type": "code",
   "execution_count": 13,
   "metadata": {},
   "outputs": [],
   "source": [
    "aml = H2OAutoML(max_models=25, \n",
    "                max_runtime_secs_per_model=30, \n",
    "                seed=42, \n",
    "                project_name='classification', \n",
    "                balance_classes=True, \n",
    "                class_sampling_factors=[0.5,1.25])"
   ]
  },
  {
   "cell_type": "markdown",
   "metadata": {},
   "source": [
    "停止基準に関する設定 - [ドキュメント](http://docs.h2o.ai/h2o/latest-stable/h2o-docs/automl.html#required-stopping-parameters)（以下いずれかに達すると、探索は終了する）\n",
    "- max_models - [ドキュメント](http://docs.h2o.ai/h2o/latest-stable/h2o-docs/data-science/algo-params/max_models.html)（作成する最大モデル数）\n",
    "- max_runtime_secs_per_model - [ドキュメント](http://docs.h2o.ai/h2o/latest-stable/h2o-docs/data-science/algo-params/max_runtime_secs.html)（1つのモデルに対する最大実行時間数）\n",
    "- いずれも、最後に実施されるStacked Ensembleの処理に対しては非適用\n",
    "  \n",
    "不均衡データ(class inbalance)に対する対処（Classificationのみ）\n",
    "- balance_classes - [ドキュメント](http://docs.h2o.ai/h2o/latest-stable/h2o-docs/data-science/algo-params/balance_classes.html)、[APIドキュメント](https://docs.h2o.ai/h2o/latest-stable/h2o-py/docs/modeling.html#h2o.estimators.deeplearning.H2ODeepLearningEstimator.balance_classes)（Over Sampling/Under Samplingを実施する場合、\"True\"を指定）\n",
    "- class_sampling_factors - [ドキュメント](http://docs.h2o.ai/h2o/latest-stable/h2o-docs/data-science/algo-params/class_sampling_factors.html)、[APIドキュメント](https://docs.h2o.ai/h2o/latest-stable/h2o-py/docs/modeling.html#h2o.estimators.deeplearning.H2ODeepLearningEstimator.class_sampling_factors)（Over Sampling/Under Samplingの比率。\"DELINQUENT\"はindex orderで、FALSE,TRUEと並んでおり、元の数に対し[0.5,1.25]倍する調整を実施(48118×0.5, 1812×1.25)）"
   ]
  },
  {
   "cell_type": "code",
   "execution_count": 20,
   "metadata": {},
   "outputs": [
    {
     "name": "stdout",
     "output_type": "stream",
     "text": [
      "AutoML progress: |████████████████████████████████████████████████████████| 100%\n",
      "CPU times: user 19.9 s, sys: 530 ms, total: 20.4 s\n",
      "Wall time: 8min 51s\n"
     ]
    }
   ],
   "source": [
    "%time aml.train(x=x, y=y, training_frame=train)"
   ]
  },
  {
   "cell_type": "markdown",
   "metadata": {},
   "source": [
    "validation_frameを設定しない場合（これまでのチュートリアルでは`model.train(x=x, y=y, training_frame=train, validation_frame=valid)`と設定していた）、k分割交差検証法が実施される"
   ]
  },
  {
   "cell_type": "code",
   "execution_count": 32,
   "metadata": {},
   "outputs": [
    {
     "data": {
      "text/plain": [
       "5"
      ]
     },
     "execution_count": 32,
     "metadata": {},
     "output_type": "execute_result"
    }
   ],
   "source": [
    "#> k分割交差検証法の分割数(k)\n",
    "aml.nfolds"
   ]
  },
  {
   "cell_type": "markdown",
   "metadata": {},
   "source": [
    "[Leaderboard](http://docs.h2o.ai/h2o/latest-stable/h2o-docs/automl.html#leaderboard)の表示  \n",
    "k分割交差検証法による結果が表示（validation_frameを指定した場合はホールドアウト法の結果）"
   ]
  },
  {
   "cell_type": "code",
   "execution_count": 33,
   "metadata": {
    "scrolled": true
   },
   "outputs": [
    {
     "data": {
      "text/html": [
       "<table>\n",
       "<thead>\n",
       "<tr><th>model_id                                           </th><th style=\"text-align: right;\">     auc</th><th style=\"text-align: right;\">  logloss</th><th style=\"text-align: right;\">    aucpr</th><th style=\"text-align: right;\">  mean_per_class_error</th><th style=\"text-align: right;\">    rmse</th><th style=\"text-align: right;\">      mse</th></tr>\n",
       "</thead>\n",
       "<tbody>\n",
       "<tr><td>StackedEnsemble_AllModels_AutoML_20200917_072926   </td><td style=\"text-align: right;\">0.853891</td><td style=\"text-align: right;\"> 0.127097</td><td style=\"text-align: right;\">0.227594 </td><td style=\"text-align: right;\">              0.330937</td><td style=\"text-align: right;\">0.177011</td><td style=\"text-align: right;\">0.0313328</td></tr>\n",
       "<tr><td>GLM_1_AutoML_20200917_072926                       </td><td style=\"text-align: right;\">0.853804</td><td style=\"text-align: right;\"> 0.120899</td><td style=\"text-align: right;\">0.205971 </td><td style=\"text-align: right;\">              0.336445</td><td style=\"text-align: right;\">0.175755</td><td style=\"text-align: right;\">0.0308898</td></tr>\n",
       "<tr><td>StackedEnsemble_BestOfFamily_AutoML_20200917_072926</td><td style=\"text-align: right;\">0.853607</td><td style=\"text-align: right;\"> 0.127057</td><td style=\"text-align: right;\">0.227922 </td><td style=\"text-align: right;\">              0.328267</td><td style=\"text-align: right;\">0.177039</td><td style=\"text-align: right;\">0.0313427</td></tr>\n",
       "<tr><td>GBM_grid__1_AutoML_20200917_072926_model_3         </td><td style=\"text-align: right;\">0.84761 </td><td style=\"text-align: right;\"> 0.12166 </td><td style=\"text-align: right;\">0.216049 </td><td style=\"text-align: right;\">              0.321445</td><td style=\"text-align: right;\">0.175271</td><td style=\"text-align: right;\">0.03072  </td></tr>\n",
       "<tr><td>XGBoost_3_AutoML_20200917_072926                   </td><td style=\"text-align: right;\">0.844995</td><td style=\"text-align: right;\"> 0.122303</td><td style=\"text-align: right;\">0.213597 </td><td style=\"text-align: right;\">              0.334973</td><td style=\"text-align: right;\">0.175688</td><td style=\"text-align: right;\">0.0308663</td></tr>\n",
       "<tr><td>GBM_1_AutoML_20200917_072926                       </td><td style=\"text-align: right;\">0.841529</td><td style=\"text-align: right;\"> 0.125747</td><td style=\"text-align: right;\">0.185693 </td><td style=\"text-align: right;\">              0.306544</td><td style=\"text-align: right;\">0.17798 </td><td style=\"text-align: right;\">0.031677 </td></tr>\n",
       "<tr><td>XGBoost_grid__1_AutoML_20200917_072926_model_1     </td><td style=\"text-align: right;\">0.840382</td><td style=\"text-align: right;\"> 0.124329</td><td style=\"text-align: right;\">0.201126 </td><td style=\"text-align: right;\">              0.350661</td><td style=\"text-align: right;\">0.17673 </td><td style=\"text-align: right;\">0.0312336</td></tr>\n",
       "<tr><td>GBM_3_AutoML_20200917_072926                       </td><td style=\"text-align: right;\">0.839857</td><td style=\"text-align: right;\"> 0.127721</td><td style=\"text-align: right;\">0.199398 </td><td style=\"text-align: right;\">              0.356579</td><td style=\"text-align: right;\">0.17752 </td><td style=\"text-align: right;\">0.0315135</td></tr>\n",
       "<tr><td>GBM_grid__1_AutoML_20200917_072926_model_2         </td><td style=\"text-align: right;\">0.837549</td><td style=\"text-align: right;\"> 0.124473</td><td style=\"text-align: right;\">0.202238 </td><td style=\"text-align: right;\">              0.331704</td><td style=\"text-align: right;\">0.176433</td><td style=\"text-align: right;\">0.0311287</td></tr>\n",
       "<tr><td>GBM_5_AutoML_20200917_072926                       </td><td style=\"text-align: right;\">0.837053</td><td style=\"text-align: right;\"> 0.12567 </td><td style=\"text-align: right;\">0.197568 </td><td style=\"text-align: right;\">              0.35796 </td><td style=\"text-align: right;\">0.177011</td><td style=\"text-align: right;\">0.0313329</td></tr>\n",
       "<tr><td>GBM_2_AutoML_20200917_072926                       </td><td style=\"text-align: right;\">0.836419</td><td style=\"text-align: right;\"> 0.127472</td><td style=\"text-align: right;\">0.190888 </td><td style=\"text-align: right;\">              0.363637</td><td style=\"text-align: right;\">0.177843</td><td style=\"text-align: right;\">0.0316281</td></tr>\n",
       "<tr><td>GBM_grid__1_AutoML_20200917_072926_model_1         </td><td style=\"text-align: right;\">0.831898</td><td style=\"text-align: right;\"> 0.132921</td><td style=\"text-align: right;\">0.187687 </td><td style=\"text-align: right;\">              0.3288  </td><td style=\"text-align: right;\">0.178712</td><td style=\"text-align: right;\">0.0319381</td></tr>\n",
       "<tr><td>DeepLearning_1_AutoML_20200917_072926              </td><td style=\"text-align: right;\">0.831687</td><td style=\"text-align: right;\"> 0.126868</td><td style=\"text-align: right;\">0.182252 </td><td style=\"text-align: right;\">              0.336698</td><td style=\"text-align: right;\">0.178203</td><td style=\"text-align: right;\">0.0317564</td></tr>\n",
       "<tr><td>XGBoost_grid__1_AutoML_20200917_072926_model_4     </td><td style=\"text-align: right;\">0.831512</td><td style=\"text-align: right;\"> 0.129011</td><td style=\"text-align: right;\">0.188306 </td><td style=\"text-align: right;\">              0.337415</td><td style=\"text-align: right;\">0.178012</td><td style=\"text-align: right;\">0.0316883</td></tr>\n",
       "<tr><td>XGBoost_grid__1_AutoML_20200917_072926_model_3     </td><td style=\"text-align: right;\">0.83051 </td><td style=\"text-align: right;\"> 0.128205</td><td style=\"text-align: right;\">0.188178 </td><td style=\"text-align: right;\">              0.365832</td><td style=\"text-align: right;\">0.178574</td><td style=\"text-align: right;\">0.0318888</td></tr>\n",
       "<tr><td>GBM_4_AutoML_20200917_072926                       </td><td style=\"text-align: right;\">0.830498</td><td style=\"text-align: right;\"> 0.133318</td><td style=\"text-align: right;\">0.185508 </td><td style=\"text-align: right;\">              0.357271</td><td style=\"text-align: right;\">0.178817</td><td style=\"text-align: right;\">0.0319755</td></tr>\n",
       "<tr><td>DeepLearning_grid__1_AutoML_20200917_072926_model_1</td><td style=\"text-align: right;\">0.827398</td><td style=\"text-align: right;\"> 0.136648</td><td style=\"text-align: right;\">0.173932 </td><td style=\"text-align: right;\">              0.325786</td><td style=\"text-align: right;\">0.180994</td><td style=\"text-align: right;\">0.0327589</td></tr>\n",
       "<tr><td>XGBoost_1_AutoML_20200917_072926                   </td><td style=\"text-align: right;\">0.82736 </td><td style=\"text-align: right;\"> 0.129017</td><td style=\"text-align: right;\">0.187717 </td><td style=\"text-align: right;\">              0.355682</td><td style=\"text-align: right;\">0.179102</td><td style=\"text-align: right;\">0.0320776</td></tr>\n",
       "<tr><td>XGBoost_2_AutoML_20200917_072926                   </td><td style=\"text-align: right;\">0.82688 </td><td style=\"text-align: right;\"> 0.128235</td><td style=\"text-align: right;\">0.18986  </td><td style=\"text-align: right;\">              0.347656</td><td style=\"text-align: right;\">0.178391</td><td style=\"text-align: right;\">0.0318235</td></tr>\n",
       "<tr><td>XGBoost_grid__1_AutoML_20200917_072926_model_5     </td><td style=\"text-align: right;\">0.826329</td><td style=\"text-align: right;\"> 0.148033</td><td style=\"text-align: right;\">0.176108 </td><td style=\"text-align: right;\">              0.359034</td><td style=\"text-align: right;\">0.180835</td><td style=\"text-align: right;\">0.0327011</td></tr>\n",
       "<tr><td>XGBoost_grid__1_AutoML_20200917_072926_model_6     </td><td style=\"text-align: right;\">0.824896</td><td style=\"text-align: right;\"> 0.137859</td><td style=\"text-align: right;\">0.174381 </td><td style=\"text-align: right;\">              0.354957</td><td style=\"text-align: right;\">0.180765</td><td style=\"text-align: right;\">0.0326758</td></tr>\n",
       "<tr><td>DRF_1_AutoML_20200917_072926                       </td><td style=\"text-align: right;\">0.824582</td><td style=\"text-align: right;\"> 0.158277</td><td style=\"text-align: right;\">0.205941 </td><td style=\"text-align: right;\">              0.349503</td><td style=\"text-align: right;\">0.175897</td><td style=\"text-align: right;\">0.0309397</td></tr>\n",
       "<tr><td>GBM_grid__1_AutoML_20200917_072926_model_4         </td><td style=\"text-align: right;\">0.817563</td><td style=\"text-align: right;\"> 0.142272</td><td style=\"text-align: right;\">0.171183 </td><td style=\"text-align: right;\">              0.350176</td><td style=\"text-align: right;\">0.181908</td><td style=\"text-align: right;\">0.0330906</td></tr>\n",
       "<tr><td>XRT_1_AutoML_20200917_072926                       </td><td style=\"text-align: right;\">0.815736</td><td style=\"text-align: right;\"> 0.128341</td><td style=\"text-align: right;\">0.185526 </td><td style=\"text-align: right;\">              0.358004</td><td style=\"text-align: right;\">0.177457</td><td style=\"text-align: right;\">0.0314911</td></tr>\n",
       "<tr><td>XGBoost_grid__1_AutoML_20200917_072926_model_2     </td><td style=\"text-align: right;\">0.815236</td><td style=\"text-align: right;\"> 0.138883</td><td style=\"text-align: right;\">0.160326 </td><td style=\"text-align: right;\">              0.332906</td><td style=\"text-align: right;\">0.182858</td><td style=\"text-align: right;\">0.0334372</td></tr>\n",
       "<tr><td>DeepLearning_grid__2_AutoML_20200917_072926_model_1</td><td style=\"text-align: right;\">0.767415</td><td style=\"text-align: right;\"> 0.205578</td><td style=\"text-align: right;\">0.111655 </td><td style=\"text-align: right;\">              0.405808</td><td style=\"text-align: right;\">0.190828</td><td style=\"text-align: right;\">0.0364153</td></tr>\n",
       "<tr><td>DeepLearning_grid__3_AutoML_20200917_072926_model_1</td><td style=\"text-align: right;\">0.677835</td><td style=\"text-align: right;\"> 0.215891</td><td style=\"text-align: right;\">0.0893822</td><td style=\"text-align: right;\">              0.410488</td><td style=\"text-align: right;\">0.190406</td><td style=\"text-align: right;\">0.0362545</td></tr>\n",
       "</tbody>\n",
       "</table>"
      ]
     },
     "metadata": {},
     "output_type": "display_data"
    },
    {
     "data": {
      "text/plain": []
     },
     "execution_count": 33,
     "metadata": {},
     "output_type": "execute_result"
    }
   ],
   "source": [
    "lb = aml.leaderboard\n",
    "lb.head(rows=lb.nrows)"
   ]
  },
  {
   "cell_type": "markdown",
   "metadata": {},
   "source": [
    "個別のモデルを用い、[Stacked Ensembles](http://docs.h2o.ai/h2o/latest-stable/h2o-docs/data-science/stacked-ensembles.html)した結果がトップとなっている"
   ]
  },
  {
   "cell_type": "markdown",
   "metadata": {},
   "source": [
    "各モデルの計算時間を表示する場合  \n",
    "\"training_time_ms\"はミリ秒での学習時間"
   ]
  },
  {
   "cell_type": "code",
   "execution_count": 34,
   "metadata": {
    "scrolled": true
   },
   "outputs": [
    {
     "data": {
      "text/html": [
       "<table>\n",
       "<thead>\n",
       "<tr><th>model_id                                           </th><th style=\"text-align: right;\">     auc</th><th style=\"text-align: right;\">  logloss</th><th style=\"text-align: right;\">    aucpr</th><th style=\"text-align: right;\">  mean_per_class_error</th><th style=\"text-align: right;\">    rmse</th><th style=\"text-align: right;\">      mse</th><th style=\"text-align: right;\">  training_time_ms</th><th style=\"text-align: right;\">  predict_time_per_row_ms</th></tr>\n",
       "</thead>\n",
       "<tbody>\n",
       "<tr><td>StackedEnsemble_AllModels_AutoML_20200917_072926   </td><td style=\"text-align: right;\">0.853891</td><td style=\"text-align: right;\"> 0.127097</td><td style=\"text-align: right;\">0.227594 </td><td style=\"text-align: right;\">              0.330937</td><td style=\"text-align: right;\">0.177011</td><td style=\"text-align: right;\">0.0313328</td><td style=\"text-align: right;\">              4268</td><td style=\"text-align: right;\">                 0.249842</td></tr>\n",
       "<tr><td>GLM_1_AutoML_20200917_072926                       </td><td style=\"text-align: right;\">0.853804</td><td style=\"text-align: right;\"> 0.120899</td><td style=\"text-align: right;\">0.205971 </td><td style=\"text-align: right;\">              0.336445</td><td style=\"text-align: right;\">0.175755</td><td style=\"text-align: right;\">0.0308898</td><td style=\"text-align: right;\">              6395</td><td style=\"text-align: right;\">                 0.001319</td></tr>\n",
       "<tr><td>StackedEnsemble_BestOfFamily_AutoML_20200917_072926</td><td style=\"text-align: right;\">0.853607</td><td style=\"text-align: right;\"> 0.127057</td><td style=\"text-align: right;\">0.227922 </td><td style=\"text-align: right;\">              0.328267</td><td style=\"text-align: right;\">0.177039</td><td style=\"text-align: right;\">0.0313427</td><td style=\"text-align: right;\">              1891</td><td style=\"text-align: right;\">                 0.046126</td></tr>\n",
       "<tr><td>GBM_grid__1_AutoML_20200917_072926_model_3         </td><td style=\"text-align: right;\">0.84761 </td><td style=\"text-align: right;\"> 0.12166 </td><td style=\"text-align: right;\">0.216049 </td><td style=\"text-align: right;\">              0.321445</td><td style=\"text-align: right;\">0.175271</td><td style=\"text-align: right;\">0.03072  </td><td style=\"text-align: right;\">              1771</td><td style=\"text-align: right;\">                 0.013583</td></tr>\n",
       "<tr><td>XGBoost_3_AutoML_20200917_072926                   </td><td style=\"text-align: right;\">0.844995</td><td style=\"text-align: right;\"> 0.122303</td><td style=\"text-align: right;\">0.213597 </td><td style=\"text-align: right;\">              0.334973</td><td style=\"text-align: right;\">0.175688</td><td style=\"text-align: right;\">0.0308663</td><td style=\"text-align: right;\">              1796</td><td style=\"text-align: right;\">                 0.002026</td></tr>\n",
       "<tr><td>GBM_1_AutoML_20200917_072926                       </td><td style=\"text-align: right;\">0.841529</td><td style=\"text-align: right;\"> 0.125747</td><td style=\"text-align: right;\">0.185693 </td><td style=\"text-align: right;\">              0.306544</td><td style=\"text-align: right;\">0.17798 </td><td style=\"text-align: right;\">0.031677 </td><td style=\"text-align: right;\">              1320</td><td style=\"text-align: right;\">                 0.00867 </td></tr>\n",
       "<tr><td>XGBoost_grid__1_AutoML_20200917_072926_model_1     </td><td style=\"text-align: right;\">0.840382</td><td style=\"text-align: right;\"> 0.124329</td><td style=\"text-align: right;\">0.201126 </td><td style=\"text-align: right;\">              0.350661</td><td style=\"text-align: right;\">0.17673 </td><td style=\"text-align: right;\">0.0312336</td><td style=\"text-align: right;\">              2633</td><td style=\"text-align: right;\">                 0.002577</td></tr>\n",
       "<tr><td>GBM_3_AutoML_20200917_072926                       </td><td style=\"text-align: right;\">0.839857</td><td style=\"text-align: right;\"> 0.127721</td><td style=\"text-align: right;\">0.199398 </td><td style=\"text-align: right;\">              0.356579</td><td style=\"text-align: right;\">0.17752 </td><td style=\"text-align: right;\">0.0315135</td><td style=\"text-align: right;\">              1453</td><td style=\"text-align: right;\">                 0.009474</td></tr>\n",
       "<tr><td>GBM_grid__1_AutoML_20200917_072926_model_2         </td><td style=\"text-align: right;\">0.837549</td><td style=\"text-align: right;\"> 0.124473</td><td style=\"text-align: right;\">0.202238 </td><td style=\"text-align: right;\">              0.331704</td><td style=\"text-align: right;\">0.176433</td><td style=\"text-align: right;\">0.0311287</td><td style=\"text-align: right;\">              1567</td><td style=\"text-align: right;\">                 0.009965</td></tr>\n",
       "<tr><td>GBM_5_AutoML_20200917_072926                       </td><td style=\"text-align: right;\">0.837053</td><td style=\"text-align: right;\"> 0.12567 </td><td style=\"text-align: right;\">0.197568 </td><td style=\"text-align: right;\">              0.35796 </td><td style=\"text-align: right;\">0.177011</td><td style=\"text-align: right;\">0.0313329</td><td style=\"text-align: right;\">              1857</td><td style=\"text-align: right;\">                 0.010977</td></tr>\n",
       "<tr><td>GBM_2_AutoML_20200917_072926                       </td><td style=\"text-align: right;\">0.836419</td><td style=\"text-align: right;\"> 0.127472</td><td style=\"text-align: right;\">0.190888 </td><td style=\"text-align: right;\">              0.363637</td><td style=\"text-align: right;\">0.177843</td><td style=\"text-align: right;\">0.0316281</td><td style=\"text-align: right;\">              1396</td><td style=\"text-align: right;\">                 0.00901 </td></tr>\n",
       "<tr><td>GBM_grid__1_AutoML_20200917_072926_model_1         </td><td style=\"text-align: right;\">0.831898</td><td style=\"text-align: right;\"> 0.132921</td><td style=\"text-align: right;\">0.187687 </td><td style=\"text-align: right;\">              0.3288  </td><td style=\"text-align: right;\">0.178712</td><td style=\"text-align: right;\">0.0319381</td><td style=\"text-align: right;\">              1335</td><td style=\"text-align: right;\">                 0.009384</td></tr>\n",
       "<tr><td>DeepLearning_1_AutoML_20200917_072926              </td><td style=\"text-align: right;\">0.831687</td><td style=\"text-align: right;\"> 0.126868</td><td style=\"text-align: right;\">0.182252 </td><td style=\"text-align: right;\">              0.336698</td><td style=\"text-align: right;\">0.178203</td><td style=\"text-align: right;\">0.0317564</td><td style=\"text-align: right;\">              1451</td><td style=\"text-align: right;\">                 0.002839</td></tr>\n",
       "<tr><td>XGBoost_grid__1_AutoML_20200917_072926_model_4     </td><td style=\"text-align: right;\">0.831512</td><td style=\"text-align: right;\"> 0.129011</td><td style=\"text-align: right;\">0.188306 </td><td style=\"text-align: right;\">              0.337415</td><td style=\"text-align: right;\">0.178012</td><td style=\"text-align: right;\">0.0316883</td><td style=\"text-align: right;\">              2318</td><td style=\"text-align: right;\">                 0.002502</td></tr>\n",
       "<tr><td>XGBoost_grid__1_AutoML_20200917_072926_model_3     </td><td style=\"text-align: right;\">0.83051 </td><td style=\"text-align: right;\"> 0.128205</td><td style=\"text-align: right;\">0.188178 </td><td style=\"text-align: right;\">              0.365832</td><td style=\"text-align: right;\">0.178574</td><td style=\"text-align: right;\">0.0318888</td><td style=\"text-align: right;\">              4077</td><td style=\"text-align: right;\">                 0.002727</td></tr>\n",
       "<tr><td>GBM_4_AutoML_20200917_072926                       </td><td style=\"text-align: right;\">0.830498</td><td style=\"text-align: right;\"> 0.133318</td><td style=\"text-align: right;\">0.185508 </td><td style=\"text-align: right;\">              0.357271</td><td style=\"text-align: right;\">0.178817</td><td style=\"text-align: right;\">0.0319755</td><td style=\"text-align: right;\">              1715</td><td style=\"text-align: right;\">                 0.009541</td></tr>\n",
       "<tr><td>DeepLearning_grid__1_AutoML_20200917_072926_model_1</td><td style=\"text-align: right;\">0.827398</td><td style=\"text-align: right;\"> 0.136648</td><td style=\"text-align: right;\">0.173932 </td><td style=\"text-align: right;\">              0.325786</td><td style=\"text-align: right;\">0.180994</td><td style=\"text-align: right;\">0.0327589</td><td style=\"text-align: right;\">              4138</td><td style=\"text-align: right;\">                 0.033034</td></tr>\n",
       "<tr><td>XGBoost_1_AutoML_20200917_072926                   </td><td style=\"text-align: right;\">0.82736 </td><td style=\"text-align: right;\"> 0.129017</td><td style=\"text-align: right;\">0.187717 </td><td style=\"text-align: right;\">              0.355682</td><td style=\"text-align: right;\">0.179102</td><td style=\"text-align: right;\">0.0320776</td><td style=\"text-align: right;\">              3045</td><td style=\"text-align: right;\">                 0.002415</td></tr>\n",
       "<tr><td>XGBoost_2_AutoML_20200917_072926                   </td><td style=\"text-align: right;\">0.82688 </td><td style=\"text-align: right;\"> 0.128235</td><td style=\"text-align: right;\">0.18986  </td><td style=\"text-align: right;\">              0.347656</td><td style=\"text-align: right;\">0.178391</td><td style=\"text-align: right;\">0.0318235</td><td style=\"text-align: right;\">              2766</td><td style=\"text-align: right;\">                 0.002498</td></tr>\n",
       "<tr><td>XGBoost_grid__1_AutoML_20200917_072926_model_5     </td><td style=\"text-align: right;\">0.826329</td><td style=\"text-align: right;\"> 0.148033</td><td style=\"text-align: right;\">0.176108 </td><td style=\"text-align: right;\">              0.359034</td><td style=\"text-align: right;\">0.180835</td><td style=\"text-align: right;\">0.0327011</td><td style=\"text-align: right;\">              3952</td><td style=\"text-align: right;\">                 0.003301</td></tr>\n",
       "<tr><td>XGBoost_grid__1_AutoML_20200917_072926_model_6     </td><td style=\"text-align: right;\">0.824896</td><td style=\"text-align: right;\"> 0.137859</td><td style=\"text-align: right;\">0.174381 </td><td style=\"text-align: right;\">              0.354957</td><td style=\"text-align: right;\">0.180765</td><td style=\"text-align: right;\">0.0326758</td><td style=\"text-align: right;\">              2853</td><td style=\"text-align: right;\">                 0.002881</td></tr>\n",
       "<tr><td>DRF_1_AutoML_20200917_072926                       </td><td style=\"text-align: right;\">0.824582</td><td style=\"text-align: right;\"> 0.158277</td><td style=\"text-align: right;\">0.205941 </td><td style=\"text-align: right;\">              0.349503</td><td style=\"text-align: right;\">0.175897</td><td style=\"text-align: right;\">0.0309397</td><td style=\"text-align: right;\">              2452</td><td style=\"text-align: right;\">                 0.014464</td></tr>\n",
       "<tr><td>GBM_grid__1_AutoML_20200917_072926_model_4         </td><td style=\"text-align: right;\">0.817563</td><td style=\"text-align: right;\"> 0.142272</td><td style=\"text-align: right;\">0.171183 </td><td style=\"text-align: right;\">              0.350176</td><td style=\"text-align: right;\">0.181908</td><td style=\"text-align: right;\">0.0330906</td><td style=\"text-align: right;\">              2126</td><td style=\"text-align: right;\">                 0.008798</td></tr>\n",
       "<tr><td>XRT_1_AutoML_20200917_072926                       </td><td style=\"text-align: right;\">0.815736</td><td style=\"text-align: right;\"> 0.128341</td><td style=\"text-align: right;\">0.185526 </td><td style=\"text-align: right;\">              0.358004</td><td style=\"text-align: right;\">0.177457</td><td style=\"text-align: right;\">0.0314911</td><td style=\"text-align: right;\">              2867</td><td style=\"text-align: right;\">                 0.016365</td></tr>\n",
       "<tr><td>XGBoost_grid__1_AutoML_20200917_072926_model_2     </td><td style=\"text-align: right;\">0.815236</td><td style=\"text-align: right;\"> 0.138883</td><td style=\"text-align: right;\">0.160326 </td><td style=\"text-align: right;\">              0.332906</td><td style=\"text-align: right;\">0.182858</td><td style=\"text-align: right;\">0.0334372</td><td style=\"text-align: right;\">              3386</td><td style=\"text-align: right;\">                 0.002884</td></tr>\n",
       "<tr><td>DeepLearning_grid__2_AutoML_20200917_072926_model_1</td><td style=\"text-align: right;\">0.767415</td><td style=\"text-align: right;\"> 0.205578</td><td style=\"text-align: right;\">0.111655 </td><td style=\"text-align: right;\">              0.405808</td><td style=\"text-align: right;\">0.190828</td><td style=\"text-align: right;\">0.0364153</td><td style=\"text-align: right;\">              9865</td><td style=\"text-align: right;\">                 0.121303</td></tr>\n",
       "<tr><td>DeepLearning_grid__3_AutoML_20200917_072926_model_1</td><td style=\"text-align: right;\">0.677835</td><td style=\"text-align: right;\"> 0.215891</td><td style=\"text-align: right;\">0.0893822</td><td style=\"text-align: right;\">              0.410488</td><td style=\"text-align: right;\">0.190406</td><td style=\"text-align: right;\">0.0362545</td><td style=\"text-align: right;\">              8474</td><td style=\"text-align: right;\">                 0.206974</td></tr>\n",
       "</tbody>\n",
       "</table>"
      ]
     },
     "metadata": {},
     "output_type": "display_data"
    },
    {
     "data": {
      "text/plain": []
     },
     "execution_count": 34,
     "metadata": {},
     "output_type": "execute_result"
    }
   ],
   "source": [
    "from h2o.automl import get_leaderboard\n",
    "lb2 = get_leaderboard(aml, extra_columns='ALL')\n",
    "lb2.head(rows=lb2.nrows)"
   ]
  },
  {
   "cell_type": "code",
   "execution_count": 41,
   "metadata": {
    "scrolled": true
   },
   "outputs": [
    {
     "data": {
      "text/plain": [
       "[['model_id'],\n",
       " ['StackedEnsemble_AllModels_AutoML_20200917_072926'],\n",
       " ['GLM_1_AutoML_20200917_072926'],\n",
       " ['StackedEnsemble_BestOfFamily_AutoML_20200917_072926'],\n",
       " ['GBM_grid__1_AutoML_20200917_072926_model_3'],\n",
       " ['XGBoost_3_AutoML_20200917_072926'],\n",
       " ['GBM_1_AutoML_20200917_072926'],\n",
       " ['XGBoost_grid__1_AutoML_20200917_072926_model_1'],\n",
       " ['GBM_3_AutoML_20200917_072926'],\n",
       " ['GBM_grid__1_AutoML_20200917_072926_model_2'],\n",
       " ['GBM_5_AutoML_20200917_072926'],\n",
       " ['GBM_2_AutoML_20200917_072926'],\n",
       " ['GBM_grid__1_AutoML_20200917_072926_model_1'],\n",
       " ['DeepLearning_1_AutoML_20200917_072926'],\n",
       " ['XGBoost_grid__1_AutoML_20200917_072926_model_4'],\n",
       " ['XGBoost_grid__1_AutoML_20200917_072926_model_3'],\n",
       " ['GBM_4_AutoML_20200917_072926'],\n",
       " ['DeepLearning_grid__1_AutoML_20200917_072926_model_1'],\n",
       " ['XGBoost_1_AutoML_20200917_072926'],\n",
       " ['XGBoost_2_AutoML_20200917_072926'],\n",
       " ['XGBoost_grid__1_AutoML_20200917_072926_model_5'],\n",
       " ['XGBoost_grid__1_AutoML_20200917_072926_model_6'],\n",
       " ['DRF_1_AutoML_20200917_072926'],\n",
       " ['GBM_grid__1_AutoML_20200917_072926_model_4'],\n",
       " ['XRT_1_AutoML_20200917_072926'],\n",
       " ['XGBoost_grid__1_AutoML_20200917_072926_model_2'],\n",
       " ['DeepLearning_grid__2_AutoML_20200917_072926_model_1'],\n",
       " ['DeepLearning_grid__3_AutoML_20200917_072926_model_1']]"
      ]
     },
     "execution_count": 41,
     "metadata": {},
     "output_type": "execute_result"
    }
   ],
   "source": [
    "aml.leaderboard['model_id'].as_data_frame()"
   ]
  },
  {
   "cell_type": "code",
   "execution_count": 46,
   "metadata": {
    "scrolled": true
   },
   "outputs": [
    {
     "data": {
      "text/plain": [
       "[['StackedEnsemble_AllModels_AutoML_20200917_072926'],\n",
       " ['GLM_1_AutoML_20200917_072926'],\n",
       " ['StackedEnsemble_BestOfFamily_AutoML_20200917_072926'],\n",
       " ['GBM_grid__1_AutoML_20200917_072926_model_3'],\n",
       " ['XGBoost_3_AutoML_20200917_072926'],\n",
       " ['GBM_1_AutoML_20200917_072926'],\n",
       " ['XGBoost_grid__1_AutoML_20200917_072926_model_1'],\n",
       " ['GBM_3_AutoML_20200917_072926'],\n",
       " ['GBM_grid__1_AutoML_20200917_072926_model_2'],\n",
       " ['GBM_5_AutoML_20200917_072926'],\n",
       " ['GBM_2_AutoML_20200917_072926'],\n",
       " ['GBM_grid__1_AutoML_20200917_072926_model_1'],\n",
       " ['DeepLearning_1_AutoML_20200917_072926'],\n",
       " ['XGBoost_grid__1_AutoML_20200917_072926_model_4'],\n",
       " ['XGBoost_grid__1_AutoML_20200917_072926_model_3'],\n",
       " ['GBM_4_AutoML_20200917_072926'],\n",
       " ['DeepLearning_grid__1_AutoML_20200917_072926_model_1'],\n",
       " ['XGBoost_1_AutoML_20200917_072926'],\n",
       " ['XGBoost_2_AutoML_20200917_072926'],\n",
       " ['XGBoost_grid__1_AutoML_20200917_072926_model_5'],\n",
       " ['XGBoost_grid__1_AutoML_20200917_072926_model_6'],\n",
       " ['DRF_1_AutoML_20200917_072926'],\n",
       " ['GBM_grid__1_AutoML_20200917_072926_model_4'],\n",
       " ['XRT_1_AutoML_20200917_072926'],\n",
       " ['XGBoost_grid__1_AutoML_20200917_072926_model_2'],\n",
       " ['DeepLearning_grid__2_AutoML_20200917_072926_model_1'],\n",
       " ['DeepLearning_grid__3_AutoML_20200917_072926_model_1']]"
      ]
     },
     "execution_count": 46,
     "metadata": {},
     "output_type": "execute_result"
    }
   ],
   "source": [
    "aml.leaderboard['model_id'].as_data_frame()[1:]"
   ]
  },
  {
   "cell_type": "code",
   "execution_count": 48,
   "metadata": {},
   "outputs": [
    {
     "data": {
      "text/plain": [
       "[]"
      ]
     },
     "execution_count": 48,
     "metadata": {},
     "output_type": "execute_result"
    }
   ],
   "source": [
    "[mid for mid in model_ids if \"StackedEnsemble_BestOfFamily\" in mid]"
   ]
  },
  {
   "cell_type": "code",
   "execution_count": 47,
   "metadata": {
    "scrolled": true
   },
   "outputs": [
    {
     "ename": "H2OTypeError",
     "evalue": "Argument `model_id` should be a string, got list []",
     "output_type": "error",
     "traceback": [
      "\u001b[0;31m---------------------------------------------------------------------------\u001b[0m",
      "\u001b[0;31mH2OTypeError\u001b[0m                              Traceback (most recent call last)",
      "\u001b[0;32m<ipython-input-47-c586b31a7780>\u001b[0m in \u001b[0;36m<module>\u001b[0;34m\u001b[0m\n\u001b[1;32m      5\u001b[0m \u001b[0;31m# Get the \"All Models\" Stacked Ensemble model\u001b[0m\u001b[0;34m\u001b[0m\u001b[0;34m\u001b[0m\u001b[0;34m\u001b[0m\u001b[0m\n\u001b[1;32m      6\u001b[0m \u001b[0;31m#se = h2o.get_model([mid for mid in model_ids if \"StackedEnsemble_BestOfFamily\" in mid][0])\u001b[0m\u001b[0;34m\u001b[0m\u001b[0;34m\u001b[0m\u001b[0;34m\u001b[0m\u001b[0m\n\u001b[0;32m----> 7\u001b[0;31m \u001b[0mse\u001b[0m \u001b[0;34m=\u001b[0m \u001b[0mh2o\u001b[0m\u001b[0;34m.\u001b[0m\u001b[0mget_model\u001b[0m\u001b[0;34m(\u001b[0m\u001b[0;34m[\u001b[0m\u001b[0mmid\u001b[0m \u001b[0;32mfor\u001b[0m \u001b[0mmid\u001b[0m \u001b[0;32min\u001b[0m \u001b[0mmodel_ids\u001b[0m \u001b[0;32mif\u001b[0m \u001b[0;34m\"StackedEnsemble_BestOfFamily\"\u001b[0m \u001b[0;32min\u001b[0m \u001b[0mmid\u001b[0m\u001b[0;34m]\u001b[0m\u001b[0;34m)\u001b[0m\u001b[0;34m\u001b[0m\u001b[0;34m\u001b[0m\u001b[0m\n\u001b[0m\u001b[1;32m      8\u001b[0m \u001b[0;34m\u001b[0m\u001b[0m\n\u001b[1;32m      9\u001b[0m \u001b[0;31m# Get the Stacked Ensemble metalearner model\u001b[0m\u001b[0;34m\u001b[0m\u001b[0;34m\u001b[0m\u001b[0;34m\u001b[0m\u001b[0m\n",
      "\u001b[0;32m~/anaconda3/envs/h2o_3/lib/python3.6/site-packages/h2o/h2o.py\u001b[0m in \u001b[0;36mget_model\u001b[0;34m(model_id)\u001b[0m\n\u001b[1;32m    997\u001b[0m     \u001b[0;34m>>\u001b[0m\u001b[0;34m>\u001b[0m \u001b[0mmodel2\u001b[0m \u001b[0;34m=\u001b[0m \u001b[0mh2o\u001b[0m\u001b[0;34m.\u001b[0m\u001b[0mget_model\u001b[0m\u001b[0;34m(\u001b[0m\u001b[0mmodel\u001b[0m\u001b[0;34m.\u001b[0m\u001b[0mmodel_id\u001b[0m\u001b[0;34m)\u001b[0m\u001b[0;34m\u001b[0m\u001b[0;34m\u001b[0m\u001b[0m\n\u001b[1;32m    998\u001b[0m     \"\"\"\n\u001b[0;32m--> 999\u001b[0;31m     \u001b[0massert_is_type\u001b[0m\u001b[0;34m(\u001b[0m\u001b[0mmodel_id\u001b[0m\u001b[0;34m,\u001b[0m \u001b[0mstr\u001b[0m\u001b[0;34m)\u001b[0m\u001b[0;34m\u001b[0m\u001b[0;34m\u001b[0m\u001b[0m\n\u001b[0m\u001b[1;32m   1000\u001b[0m     \u001b[0mmodel_json\u001b[0m \u001b[0;34m=\u001b[0m \u001b[0mapi\u001b[0m\u001b[0;34m(\u001b[0m\u001b[0;34m\"GET /3/Models/%s\"\u001b[0m \u001b[0;34m%\u001b[0m \u001b[0mmodel_id\u001b[0m\u001b[0;34m)\u001b[0m\u001b[0;34m[\u001b[0m\u001b[0;34m\"models\"\u001b[0m\u001b[0;34m]\u001b[0m\u001b[0;34m[\u001b[0m\u001b[0;36m0\u001b[0m\u001b[0;34m]\u001b[0m\u001b[0;34m\u001b[0m\u001b[0;34m\u001b[0m\u001b[0m\n\u001b[1;32m   1001\u001b[0m     \u001b[0malgo\u001b[0m \u001b[0;34m=\u001b[0m \u001b[0mmodel_json\u001b[0m\u001b[0;34m[\u001b[0m\u001b[0;34m\"algo\"\u001b[0m\u001b[0;34m]\u001b[0m\u001b[0;34m\u001b[0m\u001b[0;34m\u001b[0m\u001b[0m\n",
      "\u001b[0;32m~/anaconda3/envs/h2o_3/lib/python3.6/site-packages/h2o/utils/typechecks.py\u001b[0m in \u001b[0;36massert_is_type\u001b[0;34m(var, *types, **kwargs)\u001b[0m\n\u001b[1;32m    454\u001b[0m     \u001b[0mvtn\u001b[0m \u001b[0;34m=\u001b[0m \u001b[0m_get_type_name\u001b[0m\u001b[0;34m(\u001b[0m\u001b[0mtype\u001b[0m\u001b[0;34m(\u001b[0m\u001b[0mvar\u001b[0m\u001b[0;34m)\u001b[0m\u001b[0;34m)\u001b[0m\u001b[0;34m\u001b[0m\u001b[0;34m\u001b[0m\u001b[0m\n\u001b[1;32m    455\u001b[0m     raise H2OTypeError(var_name=vname, var_value=var, var_type_name=vtn, exp_type_name=etn, message=message,\n\u001b[0;32m--> 456\u001b[0;31m                        skip_frames=skip_frames)\n\u001b[0m\u001b[1;32m    457\u001b[0m \u001b[0;34m\u001b[0m\u001b[0m\n\u001b[1;32m    458\u001b[0m \u001b[0;34m\u001b[0m\u001b[0m\n",
      "\u001b[0;31mH2OTypeError\u001b[0m: Argument `model_id` should be a string, got list []"
     ]
    }
   ],
   "source": [
    "# Get model ids for all models in the AutoML Leaderboard\n",
    "#model_ids = list(aml.leaderboard['model_id'].as_data_frame().iloc[:,0])\n",
    "model_ids = list(aml.leaderboard['model_id'].as_data_frame()[1:])\n",
    "\n",
    "# Get the \"All Models\" Stacked Ensemble model\n",
    "#se = h2o.get_model([mid for mid in model_ids if \"StackedEnsemble_BestOfFamily\" in mid][0])\n",
    "se = h2o.get_model([mid for mid in model_ids if \"StackedEnsemble_BestOfFamily\" in mid][0])\n",
    "\n",
    "# Get the Stacked Ensemble metalearner model\n",
    "metalearner = h2o.get_model(se.metalearner()['name'])\n",
    "metalearner.coef()"
   ]
  },
  {
   "cell_type": "code",
   "execution_count": null,
   "metadata": {},
   "outputs": [],
   "source": []
  },
  {
   "cell_type": "code",
   "execution_count": 27,
   "metadata": {},
   "outputs": [
    {
     "data": {
      "text/plain": [
       "{'creation_epoch': '1600295367',\n",
       " 'start_epoch': '1600295367',\n",
       " 'start_XGBoost_def_1': '1600295367',\n",
       " 'start_XGBoost_def_2': '1600295387',\n",
       " 'start_XGBoost_def_3': '1600295405',\n",
       " 'start_GLM_def_1': '1600295418',\n",
       " 'start_DRF_def_1': '1600295438',\n",
       " 'start_GBM_def_1': '1600295462',\n",
       " 'start_GBM_def_2': '1600295473',\n",
       " 'start_GBM_def_3': '1600295485',\n",
       " 'start_GBM_def_4': '1600295498',\n",
       " 'start_GBM_def_5': '1600295511',\n",
       " 'start_DeepLearning_def_1': '1600295526',\n",
       " 'start_DRF_XRT': '1600295535',\n",
       " 'start_XGBoost_grid_1': '1600295561',\n",
       " 'start_GBM_grid_1': '1600295680',\n",
       " 'start_DeepLearning_grid_1': '1600295731',\n",
       " 'start_DeepLearning_grid_2': '1600295767',\n",
       " 'start_DeepLearning_grid_3': '1600295831',\n",
       " 'start_StackedEnsemble_best': '1600295890',\n",
       " 'start_StackedEnsemble_all': '1600295892',\n",
       " 'stop_epoch': '1600295897',\n",
       " 'duration_secs': '530'}"
      ]
     },
     "execution_count": 27,
     "metadata": {},
     "output_type": "execute_result"
    }
   ],
   "source": [
    "aml.training_info"
   ]
  },
  {
   "cell_type": "code",
   "execution_count": 30,
   "metadata": {},
   "outputs": [
    {
     "data": {
      "text/html": [
       "<table>\n",
       "<thead>\n",
       "<tr><th>model_id                                           </th><th style=\"text-align: right;\">     auc</th><th style=\"text-align: right;\">  logloss</th><th style=\"text-align: right;\">   aucpr</th><th style=\"text-align: right;\">  mean_per_class_error</th><th style=\"text-align: right;\">    rmse</th><th style=\"text-align: right;\">      mse</th></tr>\n",
       "</thead>\n",
       "<tbody>\n",
       "<tr><td>StackedEnsemble_AllModels_AutoML_20200917_072926   </td><td style=\"text-align: right;\">0.853891</td><td style=\"text-align: right;\"> 0.127097</td><td style=\"text-align: right;\">0.227594</td><td style=\"text-align: right;\">              0.330937</td><td style=\"text-align: right;\">0.177011</td><td style=\"text-align: right;\">0.0313328</td></tr>\n",
       "<tr><td>GLM_1_AutoML_20200917_072926                       </td><td style=\"text-align: right;\">0.853804</td><td style=\"text-align: right;\"> 0.120899</td><td style=\"text-align: right;\">0.205971</td><td style=\"text-align: right;\">              0.336445</td><td style=\"text-align: right;\">0.175755</td><td style=\"text-align: right;\">0.0308898</td></tr>\n",
       "<tr><td>StackedEnsemble_BestOfFamily_AutoML_20200917_072926</td><td style=\"text-align: right;\">0.853607</td><td style=\"text-align: right;\"> 0.127057</td><td style=\"text-align: right;\">0.227922</td><td style=\"text-align: right;\">              0.328267</td><td style=\"text-align: right;\">0.177039</td><td style=\"text-align: right;\">0.0313427</td></tr>\n",
       "<tr><td>GBM_grid__1_AutoML_20200917_072926_model_3         </td><td style=\"text-align: right;\">0.84761 </td><td style=\"text-align: right;\"> 0.12166 </td><td style=\"text-align: right;\">0.216049</td><td style=\"text-align: right;\">              0.321445</td><td style=\"text-align: right;\">0.175271</td><td style=\"text-align: right;\">0.03072  </td></tr>\n",
       "<tr><td>XGBoost_3_AutoML_20200917_072926                   </td><td style=\"text-align: right;\">0.844995</td><td style=\"text-align: right;\"> 0.122303</td><td style=\"text-align: right;\">0.213597</td><td style=\"text-align: right;\">              0.334973</td><td style=\"text-align: right;\">0.175688</td><td style=\"text-align: right;\">0.0308663</td></tr>\n",
       "<tr><td>GBM_1_AutoML_20200917_072926                       </td><td style=\"text-align: right;\">0.841529</td><td style=\"text-align: right;\"> 0.125747</td><td style=\"text-align: right;\">0.185693</td><td style=\"text-align: right;\">              0.306544</td><td style=\"text-align: right;\">0.17798 </td><td style=\"text-align: right;\">0.031677 </td></tr>\n",
       "<tr><td>XGBoost_grid__1_AutoML_20200917_072926_model_1     </td><td style=\"text-align: right;\">0.840382</td><td style=\"text-align: right;\"> 0.124329</td><td style=\"text-align: right;\">0.201126</td><td style=\"text-align: right;\">              0.350661</td><td style=\"text-align: right;\">0.17673 </td><td style=\"text-align: right;\">0.0312336</td></tr>\n",
       "<tr><td>GBM_3_AutoML_20200917_072926                       </td><td style=\"text-align: right;\">0.839857</td><td style=\"text-align: right;\"> 0.127721</td><td style=\"text-align: right;\">0.199398</td><td style=\"text-align: right;\">              0.356579</td><td style=\"text-align: right;\">0.17752 </td><td style=\"text-align: right;\">0.0315135</td></tr>\n",
       "<tr><td>GBM_grid__1_AutoML_20200917_072926_model_2         </td><td style=\"text-align: right;\">0.837549</td><td style=\"text-align: right;\"> 0.124473</td><td style=\"text-align: right;\">0.202238</td><td style=\"text-align: right;\">              0.331704</td><td style=\"text-align: right;\">0.176433</td><td style=\"text-align: right;\">0.0311287</td></tr>\n",
       "<tr><td>GBM_5_AutoML_20200917_072926                       </td><td style=\"text-align: right;\">0.837053</td><td style=\"text-align: right;\"> 0.12567 </td><td style=\"text-align: right;\">0.197568</td><td style=\"text-align: right;\">              0.35796 </td><td style=\"text-align: right;\">0.177011</td><td style=\"text-align: right;\">0.0313329</td></tr>\n",
       "</tbody>\n",
       "</table>"
      ]
     },
     "metadata": {},
     "output_type": "display_data"
    },
    {
     "data": {
      "text/plain": []
     },
     "execution_count": 30,
     "metadata": {},
     "output_type": "execute_result"
    }
   ],
   "source": [
    "aml.leaderboard"
   ]
  },
  {
   "cell_type": "code",
   "execution_count": null,
   "metadata": {},
   "outputs": [],
   "source": []
  }
 ],
 "metadata": {
  "kernelspec": {
   "display_name": "Python 3",
   "language": "python",
   "name": "python3"
  },
  "language_info": {
   "codemirror_mode": {
    "name": "ipython",
    "version": 3
   },
   "file_extension": ".py",
   "mimetype": "text/x-python",
   "name": "python",
   "nbconvert_exporter": "python",
   "pygments_lexer": "ipython3",
   "version": "3.6.12"
  }
 },
 "nbformat": 4,
 "nbformat_minor": 4
}
