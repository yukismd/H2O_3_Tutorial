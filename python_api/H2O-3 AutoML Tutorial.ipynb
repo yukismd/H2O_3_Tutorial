{
 "cells": [
  {
   "cell_type": "markdown",
   "metadata": {},
   "source": [
    "## H2O-3 AutoML Tutorial"
   ]
  },
  {
   "cell_type": "markdown",
   "metadata": {},
   "source": [
    "[**1C. Introduction to Machine Learning with H2O-3 - AutoML**](https://training.h2o.ai/products/1c-introduction-to-machine-learning-with-h2o-3-automl)に沿ったチュートリアル"
   ]
  },
  {
   "cell_type": "markdown",
   "metadata": {},
   "source": [
    "[**H2O 3 - ドキュメント**](http://docs.h2o.ai/h2o/latest-stable/h2o-docs/index.html)  \n",
    "[**Python - APIドキュメント**](https://docs.h2o.ai/h2o/latest-stable/h2o-py/docs/index.html)"
   ]
  },
  {
   "cell_type": "markdown",
   "metadata": {},
   "source": [
    "- [Initial Setup](#InitialSetup)\n",
    "    - パッケージのインポート\n",
    "    - H2Oクラスターの開始\n",
    "    - データのロード\n",
    "- [Start Experiment](#StartExperiment)\n",
    "    - データの確認\n",
    "    - 学習(train)/テスト(test)データセットへの分割\n",
    "- [H2O AutoML Classification](#AutoMLClassification)\n",
    "    - 利用変数の指定\n",
    "    - AutoMLの定義と実行\n",
    "    - 結果とモデル詳細の確認\n",
    "- [H2O AutoML Regression](#AutoMLRegression)\n",
    "    - 利用変数の指定"
   ]
  },
  {
   "cell_type": "markdown",
   "metadata": {},
   "source": [
    "***"
   ]
  },
  {
   "cell_type": "markdown",
   "metadata": {},
   "source": [
    "<a id='InitialSetup'></a>\n",
    "### Initial Setup"
   ]
  },
  {
   "cell_type": "code",
   "execution_count": 1,
   "metadata": {},
   "outputs": [],
   "source": [
    "import h2o\n",
    "import matplotlib as plt\n",
    "%matplotlib inline\n",
    "from h2o.automl import H2OAutoML"
   ]
  },
  {
   "cell_type": "code",
   "execution_count": 2,
   "metadata": {},
   "outputs": [
    {
     "name": "stdout",
     "output_type": "stream",
     "text": [
      "Checking whether there is an H2O instance running at http://localhost:54321 ..... not found.\n",
      "Attempting to start a local H2O server...\n",
      "  Java Version: java version \"1.8.0_261\"; Java(TM) SE Runtime Environment (build 1.8.0_261-b12); Java HotSpot(TM) 64-Bit Server VM (build 25.261-b12, mixed mode)\n",
      "  Starting server from /home/ec2-user/anaconda3/envs/h2o_3/lib/python3.6/site-packages/h2o/backend/bin/h2o.jar\n",
      "  Ice root: /tmp/tmpmy9rf67x\n",
      "  JVM stdout: /tmp/tmpmy9rf67x/h2o_ec2_user_started_from_python.out\n",
      "  JVM stderr: /tmp/tmpmy9rf67x/h2o_ec2_user_started_from_python.err\n",
      "  Server is running at http://127.0.0.1:54321\n",
      "Connecting to H2O server at http://127.0.0.1:54321 ... successful.\n"
     ]
    },
    {
     "data": {
      "text/html": [
       "<div style=\"overflow:auto\"><table style=\"width:50%\"><tr><td>H2O_cluster_uptime:</td>\n",
       "<td>02 secs</td></tr>\n",
       "<tr><td>H2O_cluster_timezone:</td>\n",
       "<td>Asia/Tokyo</td></tr>\n",
       "<tr><td>H2O_data_parsing_timezone:</td>\n",
       "<td>UTC</td></tr>\n",
       "<tr><td>H2O_cluster_version:</td>\n",
       "<td>3.30.1.2</td></tr>\n",
       "<tr><td>H2O_cluster_version_age:</td>\n",
       "<td>14 days, 12 hours and 36 minutes </td></tr>\n",
       "<tr><td>H2O_cluster_name:</td>\n",
       "<td>H2O_from_python_ec2_user_nw1ziv</td></tr>\n",
       "<tr><td>H2O_cluster_total_nodes:</td>\n",
       "<td>1</td></tr>\n",
       "<tr><td>H2O_cluster_free_memory:</td>\n",
       "<td>3.399 Gb</td></tr>\n",
       "<tr><td>H2O_cluster_total_cores:</td>\n",
       "<td>4</td></tr>\n",
       "<tr><td>H2O_cluster_allowed_cores:</td>\n",
       "<td>4</td></tr>\n",
       "<tr><td>H2O_cluster_status:</td>\n",
       "<td>accepting new members, healthy</td></tr>\n",
       "<tr><td>H2O_connection_url:</td>\n",
       "<td>http://127.0.0.1:54321</td></tr>\n",
       "<tr><td>H2O_connection_proxy:</td>\n",
       "<td>{\"http\": null, \"https\": null}</td></tr>\n",
       "<tr><td>H2O_internal_security:</td>\n",
       "<td>False</td></tr>\n",
       "<tr><td>H2O_API_Extensions:</td>\n",
       "<td>Amazon S3, XGBoost, Algos, AutoML, Core V3, TargetEncoder, Core V4</td></tr>\n",
       "<tr><td>Python_version:</td>\n",
       "<td>3.6.12 final</td></tr></table></div>"
      ],
      "text/plain": [
       "--------------------------  ------------------------------------------------------------------\n",
       "H2O_cluster_uptime:         02 secs\n",
       "H2O_cluster_timezone:       Asia/Tokyo\n",
       "H2O_data_parsing_timezone:  UTC\n",
       "H2O_cluster_version:        3.30.1.2\n",
       "H2O_cluster_version_age:    14 days, 12 hours and 36 minutes\n",
       "H2O_cluster_name:           H2O_from_python_ec2_user_nw1ziv\n",
       "H2O_cluster_total_nodes:    1\n",
       "H2O_cluster_free_memory:    3.399 Gb\n",
       "H2O_cluster_total_cores:    4\n",
       "H2O_cluster_allowed_cores:  4\n",
       "H2O_cluster_status:         accepting new members, healthy\n",
       "H2O_connection_url:         http://127.0.0.1:54321\n",
       "H2O_connection_proxy:       {\"http\": null, \"https\": null}\n",
       "H2O_internal_security:      False\n",
       "H2O_API_Extensions:         Amazon S3, XGBoost, Algos, AutoML, Core V3, TargetEncoder, Core V4\n",
       "Python_version:             3.6.12 final\n",
       "--------------------------  ------------------------------------------------------------------"
      ]
     },
     "metadata": {},
     "output_type": "display_data"
    }
   ],
   "source": [
    "#> H2Oクラスターの開始\n",
    "h2o.init(url='http://localhost:54321')"
   ]
  },
  {
   "cell_type": "code",
   "execution_count": 3,
   "metadata": {},
   "outputs": [
    {
     "name": "stdout",
     "output_type": "stream",
     "text": [
      "Parse progress: |█████████████████████████████████████████████████████████| 100%\n"
     ]
    }
   ],
   "source": [
    "#> データのロード\n",
    "loan_level = h2o.import_file(\"https://s3.amazonaws.com/data.h2o.ai/H2O-3-Tutorials/loan_level_50k.csv\")"
   ]
  },
  {
   "cell_type": "markdown",
   "metadata": {},
   "source": [
    "***"
   ]
  },
  {
   "cell_type": "markdown",
   "metadata": {},
   "source": [
    "<a id='StartExperiment'></a>\n",
    "### Start Experiment"
   ]
  },
  {
   "cell_type": "code",
   "execution_count": 4,
   "metadata": {
    "scrolled": true
   },
   "outputs": [
    {
     "name": "stdout",
     "output_type": "stream",
     "text": [
      "Rows:49930\n",
      "Cols:27\n",
      "\n",
      "\n"
     ]
    },
    {
     "data": {
      "text/html": [
       "<table>\n",
       "<thead>\n",
       "<tr><th>       </th><th>CREDIT_SCORE     </th><th>FIRST_PAYMENT_DATE  </th><th>FIRST_TIME_HOMEBUYER_FLAG  </th><th>MATURITY_DATE     </th><th>METROPOLITAN_STATISTICAL_AREA  </th><th>MORTGAGE_INSURANCE_PERCENTAGE  </th><th>NUMBER_OF_UNITS    </th><th>OCCUPANCY_STATUS  </th><th>ORIGINAL_COMBINED_LOAN_TO_VALUE  </th><th>ORIGINAL_DEBT_TO_INCOME_RATIO  </th><th>ORIGINAL_UPB      </th><th>ORIGINAL_LOAN_TO_VALUE  </th><th>ORIGINAL_INTEREST_RATE  </th><th>CHANNEL  </th><th>PREPAYMENT_PENALTY_MORTGAGE_FLAG  </th><th>PRODUCT_TYPE  </th><th>PROPERTY_STATE  </th><th>PROPERTY_TYPE  </th><th>POSTAL_CODE       </th><th>LOAN_SEQUENCE_NUMBER  </th><th>LOAN_PURPOSE  </th><th>ORIGINAL_LOAN_TERM  </th><th>NUMBER_OF_BORROWERS  </th><th>SELLER_NAME         </th><th>SERVICER_NAME       </th><th>PREPAID  </th><th>DELINQUENT  </th></tr>\n",
       "</thead>\n",
       "<tbody>\n",
       "<tr><td>type   </td><td>int              </td><td>int                 </td><td>enum                       </td><td>int               </td><td>int                            </td><td>int                            </td><td>int                </td><td>enum              </td><td>int                              </td><td>int                            </td><td>int               </td><td>int                     </td><td>real                    </td><td>enum     </td><td>enum                              </td><td>enum          </td><td>enum            </td><td>enum           </td><td>int               </td><td>string                </td><td>enum          </td><td>int                 </td><td>int                  </td><td>enum                </td><td>enum                </td><td>enum     </td><td>enum        </td></tr>\n",
       "<tr><td>mins   </td><td>300.0            </td><td>199902.0            </td><td>                           </td><td>202404.0          </td><td>10180.0                        </td><td>0.0                            </td><td>1.0                </td><td>                  </td><td>6.0                              </td><td>1.0                            </td><td>10000.0           </td><td>6.0                     </td><td>5.0                     </td><td>         </td><td>                                  </td><td>              </td><td>                </td><td>               </td><td>600.0             </td><td>NaN                   </td><td>              </td><td>301.0               </td><td>1.0                  </td><td>                    </td><td>                    </td><td>         </td><td>            </td></tr>\n",
       "<tr><td>mean   </td><td>712.3066000684786</td><td>200025.67422391332  </td><td>                           </td><td>203023.39707590628</td><td>30705.25866529917              </td><td>7.7196095038559225             </td><td>1.0281994792709797 </td><td>                  </td><td>76.08864765261981                </td><td>32.83933763635989              </td><td>136369.677548568  </td><td>75.74523823829837       </td><td>7.185977708792306       </td><td>         </td><td>                                  </td><td>              </td><td>                </td><td>               </td><td>55401.43412250129 </td><td>NaN                   </td><td>              </td><td>359.8508311636291   </td><td>1.6294507784479138   </td><td>                    </td><td>                    </td><td>         </td><td>            </td></tr>\n",
       "<tr><td>maxs   </td><td>830.0            </td><td>200403.0            </td><td>                           </td><td>203312.0          </td><td>49740.0                        </td><td>50.0                           </td><td>4.0                </td><td>                  </td><td>160.0                            </td><td>65.0                           </td><td>529000.0          </td><td>100.0                   </td><td>10.625                  </td><td>         </td><td>                                  </td><td>              </td><td>                </td><td>               </td><td>99900.0           </td><td>NaN                   </td><td>              </td><td>361.0               </td><td>2.0                  </td><td>                    </td><td>                    </td><td>         </td><td>            </td></tr>\n",
       "<tr><td>sigma  </td><td>54.97355321804357</td><td>109.77460105152075  </td><td>                           </td><td>110.47953133302413</td><td>11363.124822676407             </td><td>12.042273590466614             </td><td>0.21962330364819396</td><td>                  </td><td>15.06208012347409                </td><td>11.165383364972822             </td><td>60632.743281235904</td><td>14.867228331350553      </td><td>0.5835949914330231      </td><td>         </td><td>                                  </td><td>              </td><td>                </td><td>               </td><td>29512.322859225387</td><td>NaN                   </td><td>              </td><td>1.997469761340492   </td><td>0.4829566953626224   </td><td>                    </td><td>                    </td><td>         </td><td>            </td></tr>\n",
       "<tr><td>zeros  </td><td>0                </td><td>0                   </td><td>                           </td><td>0                 </td><td>0                              </td><td>31023                          </td><td>0                  </td><td>                  </td><td>0                                </td><td>0                              </td><td>0                 </td><td>0                       </td><td>0                       </td><td>         </td><td>                                  </td><td>              </td><td>                </td><td>               </td><td>0                 </td><td>0                     </td><td>              </td><td>0                   </td><td>0                    </td><td>                    </td><td>                    </td><td>         </td><td>            </td></tr>\n",
       "<tr><td>missing</td><td>279              </td><td>0                   </td><td>13067                      </td><td>0                 </td><td>7029                           </td><td>5064                           </td><td>0                  </td><td>0                 </td><td>2                                </td><td>1437                           </td><td>0                 </td><td>1                       </td><td>0                       </td><td>0        </td><td>504                               </td><td>0             </td><td>0               </td><td>13             </td><td>4                 </td><td>0                     </td><td>0             </td><td>0                   </td><td>23                   </td><td>0                   </td><td>0                   </td><td>0        </td><td>0           </td></tr>\n",
       "<tr><td>0      </td><td>707.0            </td><td>200211.0            </td><td>N                          </td><td>202903.0          </td><td>33340.0                        </td><td>0.0                            </td><td>1.0                </td><td>O                 </td><td>60.0                             </td><td>57.0                           </td><td>136000.0          </td><td>60.0                    </td><td>6.25                    </td><td>R        </td><td>N                                 </td><td>FRM           </td><td>WI              </td><td>SF             </td><td>53000.0           </td><td>F199Q1000018          </td><td>C             </td><td>317.0               </td><td>2.0                  </td><td>Other sellers       </td><td>Other servicers     </td><td>TRUE     </td><td>FALSE       </td></tr>\n",
       "<tr><td>1      </td><td>691.0            </td><td>200302.0            </td><td>N                          </td><td>202901.0          </td><td>15940.0                        </td><td>0.0                            </td><td>1.0                </td><td>O                 </td><td>65.0                             </td><td>25.0                           </td><td>130000.0          </td><td>65.0                    </td><td>5.875                   </td><td>R        </td><td>N                                 </td><td>FRM           </td><td>OH              </td><td>SF             </td><td>44700.0           </td><td>F199Q1000023          </td><td>P             </td><td>312.0               </td><td>2.0                  </td><td>Other sellers       </td><td>Other servicers     </td><td>TRUE     </td><td>FALSE       </td></tr>\n",
       "<tr><td>2      </td><td>730.0            </td><td>199903.0            </td><td>N                          </td><td>202902.0          </td><td>16620.0                        </td><td>30.0                           </td><td>1.0                </td><td>O                 </td><td>94.0                             </td><td>29.0                           </td><td>138000.0          </td><td>94.0                    </td><td>7.0                     </td><td>T        </td><td>N                                 </td><td>FRM           </td><td>WV              </td><td>SF             </td><td>25300.0           </td><td>F199Q1000037          </td><td>P             </td><td>360.0               </td><td>2.0                  </td><td>Other sellers       </td><td>Other servicers     </td><td>TRUE     </td><td>FALSE       </td></tr>\n",
       "<tr><td>3      </td><td>638.0            </td><td>199905.0            </td><td>N                          </td><td>202904.0          </td><td>42020.0                        </td><td>nan                            </td><td>1.0                </td><td>O                 </td><td>67.0                             </td><td>28.0                           </td><td>160000.0          </td><td>67.0                    </td><td>7.375                   </td><td>T        </td><td>N                                 </td><td>FRM           </td><td>CA              </td><td>SF             </td><td>93400.0           </td><td>F199Q1000067          </td><td>N             </td><td>360.0               </td><td>2.0                  </td><td>CROSSLAND MORTGAGE C</td><td>CHASEMTGECO         </td><td>TRUE     </td><td>FALSE       </td></tr>\n",
       "<tr><td>4      </td><td>577.0            </td><td>199903.0            </td><td>N                          </td><td>202902.0          </td><td>12580.0                        </td><td>12.0                           </td><td>1.0                </td><td>O                 </td><td>80.0                             </td><td>53.0                           </td><td>43000.0           </td><td>80.0                    </td><td>7.25                    </td><td>T        </td><td>N                                 </td><td>FRM           </td><td>MD              </td><td>SF             </td><td>21200.0           </td><td>F199Q1000086          </td><td>N             </td><td>360.0               </td><td>1.0                  </td><td>ACCUBANC MORTGAGE CO</td><td>GMACMTGECORP        </td><td>FALSE    </td><td>TRUE        </td></tr>\n",
       "<tr><td>5      </td><td>693.0            </td><td>199905.0            </td><td>N                          </td><td>202904.0          </td><td>nan                            </td><td>nan                            </td><td>1.0                </td><td>O                 </td><td>80.0                             </td><td>43.0                           </td><td>93000.0           </td><td>80.0                    </td><td>7.125                   </td><td>R        </td><td>N                                 </td><td>FRM           </td><td>SD              </td><td>SF             </td><td>57500.0           </td><td>F199Q1000104          </td><td>P             </td><td>360.0               </td><td>1.0                  </td><td>NORWEST MORTGAGE, IN</td><td>WELLSFARGOHOMEMORTGA</td><td>TRUE     </td><td>FALSE       </td></tr>\n",
       "<tr><td>6      </td><td>739.0            </td><td>199905.0            </td><td>                           </td><td>202904.0          </td><td>16700.0                        </td><td>nan                            </td><td>1.0                </td><td>S                 </td><td>80.0                             </td><td>25.0                           </td><td>200000.0          </td><td>80.0                    </td><td>6.875                   </td><td>R        </td><td>N                                 </td><td>FRM           </td><td>SC              </td><td>CO             </td><td>29400.0           </td><td>F199Q1000107          </td><td>P             </td><td>360.0               </td><td>2.0                  </td><td>NORWEST MORTGAGE, IN</td><td>WELLSFARGOHOMEMORTGA</td><td>TRUE     </td><td>FALSE       </td></tr>\n",
       "<tr><td>7      </td><td>695.0            </td><td>199905.0            </td><td>                           </td><td>202904.0          </td><td>42044.0                        </td><td>0.0                            </td><td>1.0                </td><td>O                 </td><td>40.0                             </td><td>6.0                            </td><td>135000.0          </td><td>40.0                    </td><td>6.875                   </td><td>R        </td><td>N                                 </td><td>FRM           </td><td>CA              </td><td>SF             </td><td>92800.0           </td><td>F199Q1000121          </td><td>C             </td><td>360.0               </td><td>2.0                  </td><td>NATIONSBANC MORTGAGE</td><td>BAMORTGAGE,LLC      </td><td>TRUE     </td><td>FALSE       </td></tr>\n",
       "<tr><td>8      </td><td>753.0            </td><td>199905.0            </td><td>N                          </td><td>202904.0          </td><td>41740.0                        </td><td>0.0                            </td><td>1.0                </td><td>O                 </td><td>80.0                             </td><td>17.0                           </td><td>59000.0           </td><td>80.0                    </td><td>7.0                     </td><td>R        </td><td>N                                 </td><td>FRM           </td><td>CA              </td><td>CO             </td><td>92000.0           </td><td>F199Q1000122          </td><td>P             </td><td>360.0               </td><td>1.0                  </td><td>NATIONSBANC MORTGAGE</td><td>BAMORTGAGE,LLC      </td><td>TRUE     </td><td>FALSE       </td></tr>\n",
       "<tr><td>9      </td><td>712.0            </td><td>199905.0            </td><td>                           </td><td>202904.0          </td><td>nan                            </td><td>nan                            </td><td>1.0                </td><td>O                 </td><td>80.0                             </td><td>28.0                           </td><td>126000.0          </td><td>80.0                    </td><td>7.125                   </td><td>R        </td><td>N                                 </td><td>FRM           </td><td>MI              </td><td>SF             </td><td>48800.0           </td><td>F199Q1000123          </td><td>N             </td><td>360.0               </td><td>2.0                  </td><td>Other sellers       </td><td>Other servicers     </td><td>TRUE     </td><td>FALSE       </td></tr>\n",
       "</tbody>\n",
       "</table>"
      ]
     },
     "metadata": {},
     "output_type": "display_data"
    }
   ],
   "source": [
    "#> 各変数のサマリ\n",
    "loan_level.describe()"
   ]
  },
  {
   "cell_type": "markdown",
   "metadata": {},
   "source": [
    "Classificationの実施では、\"DELINQUENT\"をターゲット変数として扱う"
   ]
  },
  {
   "cell_type": "code",
   "execution_count": 5,
   "metadata": {},
   "outputs": [
    {
     "data": {
      "text/html": [
       "<table>\n",
       "<thead>\n",
       "<tr><th>DELINQUENT  </th><th style=\"text-align: right;\">  Count</th></tr>\n",
       "</thead>\n",
       "<tbody>\n",
       "<tr><td>FALSE       </td><td style=\"text-align: right;\">  48118</td></tr>\n",
       "<tr><td>TRUE        </td><td style=\"text-align: right;\">   1812</td></tr>\n",
       "</tbody>\n",
       "</table>"
      ]
     },
     "metadata": {},
     "output_type": "display_data"
    },
    {
     "data": {
      "text/plain": []
     },
     "execution_count": 5,
     "metadata": {},
     "output_type": "execute_result"
    }
   ],
   "source": [
    "loan_level[\"DELINQUENT\"].table()"
   ]
  },
  {
   "cell_type": "markdown",
   "metadata": {},
   "source": [
    "1812/49930=0.03629（3.63%）  \n",
    "不均衡データ(class inbalance)になっている"
   ]
  },
  {
   "cell_type": "markdown",
   "metadata": {},
   "source": [
    "Regressionの実施では、\"ORIGINAL_INTEREST_RATE\"をターゲット変数として扱う"
   ]
  },
  {
   "cell_type": "code",
   "execution_count": 6,
   "metadata": {},
   "outputs": [
    {
     "data": {
      "image/png": "[encoded data removed]",
      "text/plain": [
       "<Figure size 432x288 with 1 Axes>"
      ]
     },
     "metadata": {
      "needs_background": "light"
     },
     "output_type": "display_data"
    }
   ],
   "source": [
    "loan_level[\"ORIGINAL_INTEREST_RATE\"].hist()"
   ]
  },
  {
   "cell_type": "code",
   "execution_count": 7,
   "metadata": {},
   "outputs": [
    {
     "name": "stdout",
     "output_type": "stream",
     "text": [
      "＜train/testのデータ数＞\n",
      "train:39984 test:9946\n"
     ]
    }
   ],
   "source": [
    "#> 学習/テストデータセットへの分割（学習 :  テスト = 80% : 20% ）\n",
    "train, test = loan_level.split_frame([0.8], seed=42)\n",
    "print(\"＜train/testのデータ数＞\")\n",
    "print(\"train:%d test:%d\" % (train.nrows, test.nrows))"
   ]
  },
  {
   "cell_type": "markdown",
   "metadata": {},
   "source": [
    "これまでのチュートリアルと異なり、trainデータで交差検証(cross varidation)を実施しハイパーパラメータのチューニングを実施する"
   ]
  },
  {
   "cell_type": "markdown",
   "metadata": {},
   "source": [
    "***"
   ]
  },
  {
   "cell_type": "markdown",
   "metadata": {},
   "source": [
    "<a id='AutoMLClassification'></a>\n",
    "### H2O AutoML Classification"
   ]
  },
  {
   "cell_type": "markdown",
   "metadata": {},
   "source": [
    "[**AutoML: Automatic Machine Learning - ドキュメント**](http://docs.h2o.ai/h2o/latest-stable/h2o-docs/automl.html)  \n",
    "[**H2OAutoML - APIドキュメント**](https://docs.h2o.ai/h2o/latest-stable/h2o-py/docs/modeling.html#h2oautoml)"
   ]
  },
  {
   "cell_type": "markdown",
   "metadata": {},
   "source": [
    "H2O AutoMLの機能\n",
    "- 基本的なデータ処理（欠損処理、標準化、エンコーディング）\n",
    "- 変数選択(Feature Selection)と特徴量エンジニアリング(Feature Engineering)\n",
    "- ハイパーパラメータのチューニング（グリッドサーチ、ランダムサーチ）\n",
    "- モデル選択\n",
    "    - モデルの種類に関しては[FAQ](https://docs.h2o.ai/h2o/latest-stable/h2o-py/docs/modeling.html#h2oautoml)参照\n",
    "- スタッキング\n",
    "    - すべてのモデルを用いたスタッキングと各モデルファミリーの中からベストなモデルでのスタッキングが実施される（[ドキュメント](http://docs.h2o.ai/h2o/latest-stable/h2o-docs/data-science/stacked-ensembles.html)、[APIドキュメント](https://docs.h2o.ai/h2o/latest-stable/h2o-py/docs/modeling.html#h2ostackedensembleestimator)）"
   ]
  },
  {
   "cell_type": "code",
   "execution_count": 8,
   "metadata": {},
   "outputs": [
    {
     "data": {
      "text/plain": [
       "['ORIGINAL_INTEREST_RATE',\n",
       " 'POSTAL_CODE',\n",
       " 'CREDIT_SCORE',\n",
       " 'ORIGINAL_DEBT_TO_INCOME_RATIO',\n",
       " 'ORIGINAL_LOAN_TERM',\n",
       " 'SERVICER_NAME',\n",
       " 'NUMBER_OF_UNITS',\n",
       " 'MORTGAGE_INSURANCE_PERCENTAGE',\n",
       " 'ORIGINAL_COMBINED_LOAN_TO_VALUE',\n",
       " 'OCCUPANCY_STATUS',\n",
       " 'METROPOLITAN_STATISTICAL_AREA',\n",
       " 'NUMBER_OF_BORROWERS',\n",
       " 'PROPERTY_STATE',\n",
       " 'FIRST_TIME_HOMEBUYER_FLAG',\n",
       " 'PROPERTY_TYPE',\n",
       " 'LOAN_PURPOSE',\n",
       " 'CHANNEL',\n",
       " 'ORIGINAL_LOAN_TO_VALUE',\n",
       " 'ORIGINAL_UPB',\n",
       " 'LOAN_SEQUENCE_NUMBER',\n",
       " 'MATURITY_DATE',\n",
       " 'SELLER_NAME',\n",
       " 'FIRST_PAYMENT_DATE']"
      ]
     },
     "execution_count": 8,
     "metadata": {},
     "output_type": "execute_result"
    }
   ],
   "source": [
    "#> 利用変数の定義\n",
    "y = \"DELINQUENT\"\n",
    "ignore = [\"DELINQUENT\", \"PREPAID\", \"PREPAYMENT_PENALTY_MORTGAGE_FLAG\", \"PRODUCT_TYPE\"] \n",
    "x = list(set(train.names) - set(ignore))\n",
    "x"
   ]
  },
  {
   "cell_type": "code",
   "execution_count": 9,
   "metadata": {},
   "outputs": [],
   "source": [
    "aml = H2OAutoML(max_models=25, \n",
    "                max_runtime_secs_per_model=30, \n",
    "                seed=42, \n",
    "                project_name='classification', \n",
    "                balance_classes=True, \n",
    "                class_sampling_factors=[0.5,1.25])"
   ]
  },
  {
   "cell_type": "markdown",
   "metadata": {},
   "source": [
    "停止基準に関する設定 - [ドキュメント](http://docs.h2o.ai/h2o/latest-stable/h2o-docs/automl.html#required-stopping-parameters)（以下いずれかに達すると、探索は終了する）\n",
    "- max_models - [ドキュメント](http://docs.h2o.ai/h2o/latest-stable/h2o-docs/data-science/algo-params/max_models.html)（作成する最大モデル数）\n",
    "- max_runtime_secs_per_model - [ドキュメント](http://docs.h2o.ai/h2o/latest-stable/h2o-docs/data-science/algo-params/max_runtime_secs.html)（1つのモデルに対する最大実行時間数）\n",
    "- いずれも、最後に実施されるStacked Ensembleの処理に対しては非適用\n",
    "  \n",
    "不均衡データ(class inbalance)に対する対処（Classificationのみ）\n",
    "- balance_classes - [ドキュメント](http://docs.h2o.ai/h2o/latest-stable/h2o-docs/data-science/algo-params/balance_classes.html)、[APIドキュメント](https://docs.h2o.ai/h2o/latest-stable/h2o-py/docs/modeling.html#h2o.estimators.deeplearning.H2ODeepLearningEstimator.balance_classes)（Over Sampling/Under Samplingを実施する場合、\"True\"を指定）\n",
    "- class_sampling_factors - [ドキュメント](http://docs.h2o.ai/h2o/latest-stable/h2o-docs/data-science/algo-params/class_sampling_factors.html)、[APIドキュメント](https://docs.h2o.ai/h2o/latest-stable/h2o-py/docs/modeling.html#h2o.estimators.deeplearning.H2ODeepLearningEstimator.class_sampling_factors)（Over Sampling/Under Samplingの比率。\"DELINQUENT\"はindex orderで、FALSE,TRUEと並んでおり、元の数に対し[0.5,1.25]倍する調整を実施(48118×0.5, 1812×1.25)）"
   ]
  },
  {
   "cell_type": "code",
   "execution_count": 10,
   "metadata": {},
   "outputs": [
    {
     "name": "stdout",
     "output_type": "stream",
     "text": [
      "AutoML progress: |████████████████████████████████████████████████████████| 100%\n",
      "CPU times: user 15.6 s, sys: 515 ms, total: 16.1 s\n",
      "Wall time: 9min 1s\n"
     ]
    }
   ],
   "source": [
    "%time aml.train(x=x, y=y, training_frame=train)"
   ]
  },
  {
   "cell_type": "markdown",
   "metadata": {},
   "source": [
    "validation_frameを設定しない場合（これまでのチュートリアルでは`model.train(x=x, y=y, training_frame=train, validation_frame=valid)`と設定していた）、k分割交差検証法が実施される"
   ]
  },
  {
   "cell_type": "code",
   "execution_count": 11,
   "metadata": {},
   "outputs": [
    {
     "data": {
      "text/plain": [
       "5"
      ]
     },
     "execution_count": 11,
     "metadata": {},
     "output_type": "execute_result"
    }
   ],
   "source": [
    "#> k分割交差検証法の分割数(k)\n",
    "aml.nfolds"
   ]
  },
  {
   "cell_type": "markdown",
   "metadata": {},
   "source": [
    "[Leaderboard](http://docs.h2o.ai/h2o/latest-stable/h2o-docs/automl.html#leaderboard)の表示  \n",
    "k分割交差検証法による結果が表示（validation_frameを指定した場合はホールドアウト法の結果）"
   ]
  },
  {
   "cell_type": "code",
   "execution_count": 12,
   "metadata": {
    "scrolled": true
   },
   "outputs": [
    {
     "data": {
      "text/html": [
       "<table>\n",
       "<thead>\n",
       "<tr><th>model_id                                           </th><th style=\"text-align: right;\">     auc</th><th style=\"text-align: right;\">  logloss</th><th style=\"text-align: right;\">    aucpr</th><th style=\"text-align: right;\">  mean_per_class_error</th><th style=\"text-align: right;\">    rmse</th><th style=\"text-align: right;\">      mse</th></tr>\n",
       "</thead>\n",
       "<tbody>\n",
       "<tr><td>StackedEnsemble_AllModels_AutoML_20200918_072924   </td><td style=\"text-align: right;\">0.854196</td><td style=\"text-align: right;\"> 0.127253</td><td style=\"text-align: right;\">0.228688 </td><td style=\"text-align: right;\">              0.328487</td><td style=\"text-align: right;\">0.177071</td><td style=\"text-align: right;\">0.0313542</td></tr>\n",
       "<tr><td>GLM_1_AutoML_20200918_072924                       </td><td style=\"text-align: right;\">0.853804</td><td style=\"text-align: right;\"> 0.120899</td><td style=\"text-align: right;\">0.205971 </td><td style=\"text-align: right;\">              0.336445</td><td style=\"text-align: right;\">0.175755</td><td style=\"text-align: right;\">0.0308898</td></tr>\n",
       "<tr><td>StackedEnsemble_BestOfFamily_AutoML_20200918_072924</td><td style=\"text-align: right;\">0.853489</td><td style=\"text-align: right;\"> 0.127169</td><td style=\"text-align: right;\">0.228774 </td><td style=\"text-align: right;\">              0.32639 </td><td style=\"text-align: right;\">0.177034</td><td style=\"text-align: right;\">0.0313409</td></tr>\n",
       "<tr><td>GBM_grid__1_AutoML_20200918_072924_model_3         </td><td style=\"text-align: right;\">0.84761 </td><td style=\"text-align: right;\"> 0.12166 </td><td style=\"text-align: right;\">0.216049 </td><td style=\"text-align: right;\">              0.321445</td><td style=\"text-align: right;\">0.175271</td><td style=\"text-align: right;\">0.03072  </td></tr>\n",
       "<tr><td>XGBoost_3_AutoML_20200918_072924                   </td><td style=\"text-align: right;\">0.844995</td><td style=\"text-align: right;\"> 0.122303</td><td style=\"text-align: right;\">0.213597 </td><td style=\"text-align: right;\">              0.334973</td><td style=\"text-align: right;\">0.175688</td><td style=\"text-align: right;\">0.0308663</td></tr>\n",
       "<tr><td>GBM_1_AutoML_20200918_072924                       </td><td style=\"text-align: right;\">0.841529</td><td style=\"text-align: right;\"> 0.125747</td><td style=\"text-align: right;\">0.185693 </td><td style=\"text-align: right;\">              0.306544</td><td style=\"text-align: right;\">0.17798 </td><td style=\"text-align: right;\">0.031677 </td></tr>\n",
       "<tr><td>XGBoost_grid__1_AutoML_20200918_072924_model_1     </td><td style=\"text-align: right;\">0.840382</td><td style=\"text-align: right;\"> 0.124329</td><td style=\"text-align: right;\">0.201126 </td><td style=\"text-align: right;\">              0.350661</td><td style=\"text-align: right;\">0.17673 </td><td style=\"text-align: right;\">0.0312336</td></tr>\n",
       "<tr><td>GBM_3_AutoML_20200918_072924                       </td><td style=\"text-align: right;\">0.839857</td><td style=\"text-align: right;\"> 0.127721</td><td style=\"text-align: right;\">0.199398 </td><td style=\"text-align: right;\">              0.356579</td><td style=\"text-align: right;\">0.17752 </td><td style=\"text-align: right;\">0.0315135</td></tr>\n",
       "<tr><td>GBM_grid__1_AutoML_20200918_072924_model_2         </td><td style=\"text-align: right;\">0.837549</td><td style=\"text-align: right;\"> 0.124473</td><td style=\"text-align: right;\">0.202238 </td><td style=\"text-align: right;\">              0.331704</td><td style=\"text-align: right;\">0.176433</td><td style=\"text-align: right;\">0.0311287</td></tr>\n",
       "<tr><td>GBM_5_AutoML_20200918_072924                       </td><td style=\"text-align: right;\">0.837053</td><td style=\"text-align: right;\"> 0.12567 </td><td style=\"text-align: right;\">0.197568 </td><td style=\"text-align: right;\">              0.35796 </td><td style=\"text-align: right;\">0.177011</td><td style=\"text-align: right;\">0.0313329</td></tr>\n",
       "<tr><td>GBM_2_AutoML_20200918_072924                       </td><td style=\"text-align: right;\">0.836419</td><td style=\"text-align: right;\"> 0.127472</td><td style=\"text-align: right;\">0.190888 </td><td style=\"text-align: right;\">              0.363637</td><td style=\"text-align: right;\">0.177843</td><td style=\"text-align: right;\">0.0316281</td></tr>\n",
       "<tr><td>GBM_grid__1_AutoML_20200918_072924_model_1         </td><td style=\"text-align: right;\">0.831898</td><td style=\"text-align: right;\"> 0.132921</td><td style=\"text-align: right;\">0.187687 </td><td style=\"text-align: right;\">              0.3288  </td><td style=\"text-align: right;\">0.178712</td><td style=\"text-align: right;\">0.0319381</td></tr>\n",
       "<tr><td>XGBoost_grid__1_AutoML_20200918_072924_model_4     </td><td style=\"text-align: right;\">0.831512</td><td style=\"text-align: right;\"> 0.129011</td><td style=\"text-align: right;\">0.188306 </td><td style=\"text-align: right;\">              0.337415</td><td style=\"text-align: right;\">0.178012</td><td style=\"text-align: right;\">0.0316883</td></tr>\n",
       "<tr><td>XGBoost_grid__1_AutoML_20200918_072924_model_3     </td><td style=\"text-align: right;\">0.83051 </td><td style=\"text-align: right;\"> 0.128205</td><td style=\"text-align: right;\">0.188178 </td><td style=\"text-align: right;\">              0.365832</td><td style=\"text-align: right;\">0.178574</td><td style=\"text-align: right;\">0.0318888</td></tr>\n",
       "<tr><td>GBM_4_AutoML_20200918_072924                       </td><td style=\"text-align: right;\">0.830498</td><td style=\"text-align: right;\"> 0.133318</td><td style=\"text-align: right;\">0.185508 </td><td style=\"text-align: right;\">              0.357271</td><td style=\"text-align: right;\">0.178817</td><td style=\"text-align: right;\">0.0319755</td></tr>\n",
       "<tr><td>DeepLearning_1_AutoML_20200918_072924              </td><td style=\"text-align: right;\">0.829645</td><td style=\"text-align: right;\"> 0.127482</td><td style=\"text-align: right;\">0.182028 </td><td style=\"text-align: right;\">              0.35949 </td><td style=\"text-align: right;\">0.177468</td><td style=\"text-align: right;\">0.0314949</td></tr>\n",
       "<tr><td>DeepLearning_grid__1_AutoML_20200918_072924_model_1</td><td style=\"text-align: right;\">0.827465</td><td style=\"text-align: right;\"> 0.139808</td><td style=\"text-align: right;\">0.176848 </td><td style=\"text-align: right;\">              0.351195</td><td style=\"text-align: right;\">0.180115</td><td style=\"text-align: right;\">0.0324413</td></tr>\n",
       "<tr><td>XGBoost_1_AutoML_20200918_072924                   </td><td style=\"text-align: right;\">0.82736 </td><td style=\"text-align: right;\"> 0.129017</td><td style=\"text-align: right;\">0.187717 </td><td style=\"text-align: right;\">              0.355682</td><td style=\"text-align: right;\">0.179102</td><td style=\"text-align: right;\">0.0320776</td></tr>\n",
       "<tr><td>XGBoost_2_AutoML_20200918_072924                   </td><td style=\"text-align: right;\">0.82688 </td><td style=\"text-align: right;\"> 0.128235</td><td style=\"text-align: right;\">0.18986  </td><td style=\"text-align: right;\">              0.347656</td><td style=\"text-align: right;\">0.178391</td><td style=\"text-align: right;\">0.0318235</td></tr>\n",
       "<tr><td>XGBoost_grid__1_AutoML_20200918_072924_model_5     </td><td style=\"text-align: right;\">0.826329</td><td style=\"text-align: right;\"> 0.148033</td><td style=\"text-align: right;\">0.176108 </td><td style=\"text-align: right;\">              0.359034</td><td style=\"text-align: right;\">0.180835</td><td style=\"text-align: right;\">0.0327011</td></tr>\n",
       "<tr><td>XGBoost_grid__1_AutoML_20200918_072924_model_6     </td><td style=\"text-align: right;\">0.824896</td><td style=\"text-align: right;\"> 0.137859</td><td style=\"text-align: right;\">0.174381 </td><td style=\"text-align: right;\">              0.354957</td><td style=\"text-align: right;\">0.180765</td><td style=\"text-align: right;\">0.0326758</td></tr>\n",
       "<tr><td>DRF_1_AutoML_20200918_072924                       </td><td style=\"text-align: right;\">0.824582</td><td style=\"text-align: right;\"> 0.158277</td><td style=\"text-align: right;\">0.205941 </td><td style=\"text-align: right;\">              0.349503</td><td style=\"text-align: right;\">0.175897</td><td style=\"text-align: right;\">0.0309397</td></tr>\n",
       "<tr><td>GBM_grid__1_AutoML_20200918_072924_model_4         </td><td style=\"text-align: right;\">0.817563</td><td style=\"text-align: right;\"> 0.142272</td><td style=\"text-align: right;\">0.171183 </td><td style=\"text-align: right;\">              0.350176</td><td style=\"text-align: right;\">0.181908</td><td style=\"text-align: right;\">0.0330906</td></tr>\n",
       "<tr><td>XRT_1_AutoML_20200918_072924                       </td><td style=\"text-align: right;\">0.815736</td><td style=\"text-align: right;\"> 0.128341</td><td style=\"text-align: right;\">0.185526 </td><td style=\"text-align: right;\">              0.358004</td><td style=\"text-align: right;\">0.177457</td><td style=\"text-align: right;\">0.0314911</td></tr>\n",
       "<tr><td>XGBoost_grid__1_AutoML_20200918_072924_model_2     </td><td style=\"text-align: right;\">0.815236</td><td style=\"text-align: right;\"> 0.138883</td><td style=\"text-align: right;\">0.160326 </td><td style=\"text-align: right;\">              0.332906</td><td style=\"text-align: right;\">0.182858</td><td style=\"text-align: right;\">0.0334372</td></tr>\n",
       "<tr><td>DeepLearning_grid__2_AutoML_20200918_072924_model_1</td><td style=\"text-align: right;\">0.792889</td><td style=\"text-align: right;\"> 0.221737</td><td style=\"text-align: right;\">0.133796 </td><td style=\"text-align: right;\">              0.352813</td><td style=\"text-align: right;\">0.186121</td><td style=\"text-align: right;\">0.0346409</td></tr>\n",
       "<tr><td>DeepLearning_grid__3_AutoML_20200918_072924_model_1</td><td style=\"text-align: right;\">0.738022</td><td style=\"text-align: right;\"> 0.25214 </td><td style=\"text-align: right;\">0.0963062</td><td style=\"text-align: right;\">              0.387685</td><td style=\"text-align: right;\">0.187246</td><td style=\"text-align: right;\">0.0350609</td></tr>\n",
       "</tbody>\n",
       "</table>"
      ]
     },
     "metadata": {},
     "output_type": "display_data"
    },
    {
     "data": {
      "text/plain": []
     },
     "execution_count": 12,
     "metadata": {},
     "output_type": "execute_result"
    }
   ],
   "source": [
    "lb = aml.leaderboard\n",
    "lb.head(rows=lb.nrows)"
   ]
  },
  {
   "cell_type": "markdown",
   "metadata": {},
   "source": [
    "個別のモデルを用い、[Stacked Ensembles](http://docs.h2o.ai/h2o/latest-stable/h2o-docs/data-science/stacked-ensembles.html)した結果がトップとなっている"
   ]
  },
  {
   "cell_type": "markdown",
   "metadata": {},
   "source": [
    "各モデルの計算時間を表示する場合  \n",
    "\"training_time_ms\"はミリ秒での学習時間"
   ]
  },
  {
   "cell_type": "code",
   "execution_count": 13,
   "metadata": {
    "scrolled": true
   },
   "outputs": [
    {
     "data": {
      "text/html": [
       "<table>\n",
       "<thead>\n",
       "<tr><th>model_id                                           </th><th style=\"text-align: right;\">     auc</th><th style=\"text-align: right;\">  logloss</th><th style=\"text-align: right;\">    aucpr</th><th style=\"text-align: right;\">  mean_per_class_error</th><th style=\"text-align: right;\">    rmse</th><th style=\"text-align: right;\">      mse</th><th style=\"text-align: right;\">  training_time_ms</th><th style=\"text-align: right;\">  predict_time_per_row_ms</th></tr>\n",
       "</thead>\n",
       "<tbody>\n",
       "<tr><td>StackedEnsemble_AllModels_AutoML_20200918_072924   </td><td style=\"text-align: right;\">0.854196</td><td style=\"text-align: right;\"> 0.127253</td><td style=\"text-align: right;\">0.228688 </td><td style=\"text-align: right;\">              0.328487</td><td style=\"text-align: right;\">0.177071</td><td style=\"text-align: right;\">0.0313542</td><td style=\"text-align: right;\">              2417</td><td style=\"text-align: right;\">                 0.044472</td></tr>\n",
       "<tr><td>GLM_1_AutoML_20200918_072924                       </td><td style=\"text-align: right;\">0.853804</td><td style=\"text-align: right;\"> 0.120899</td><td style=\"text-align: right;\">0.205971 </td><td style=\"text-align: right;\">              0.336445</td><td style=\"text-align: right;\">0.175755</td><td style=\"text-align: right;\">0.0308898</td><td style=\"text-align: right;\">              6231</td><td style=\"text-align: right;\">                 0.001294</td></tr>\n",
       "<tr><td>StackedEnsemble_BestOfFamily_AutoML_20200918_072924</td><td style=\"text-align: right;\">0.853489</td><td style=\"text-align: right;\"> 0.127169</td><td style=\"text-align: right;\">0.228774 </td><td style=\"text-align: right;\">              0.32639 </td><td style=\"text-align: right;\">0.177034</td><td style=\"text-align: right;\">0.0313409</td><td style=\"text-align: right;\">              1860</td><td style=\"text-align: right;\">                 0.047322</td></tr>\n",
       "<tr><td>GBM_grid__1_AutoML_20200918_072924_model_3         </td><td style=\"text-align: right;\">0.84761 </td><td style=\"text-align: right;\"> 0.12166 </td><td style=\"text-align: right;\">0.216049 </td><td style=\"text-align: right;\">              0.321445</td><td style=\"text-align: right;\">0.175271</td><td style=\"text-align: right;\">0.03072  </td><td style=\"text-align: right;\">              1751</td><td style=\"text-align: right;\">                 0.014502</td></tr>\n",
       "<tr><td>XGBoost_3_AutoML_20200918_072924                   </td><td style=\"text-align: right;\">0.844995</td><td style=\"text-align: right;\"> 0.122303</td><td style=\"text-align: right;\">0.213597 </td><td style=\"text-align: right;\">              0.334973</td><td style=\"text-align: right;\">0.175688</td><td style=\"text-align: right;\">0.0308663</td><td style=\"text-align: right;\">              1805</td><td style=\"text-align: right;\">                 0.002326</td></tr>\n",
       "<tr><td>GBM_1_AutoML_20200918_072924                       </td><td style=\"text-align: right;\">0.841529</td><td style=\"text-align: right;\"> 0.125747</td><td style=\"text-align: right;\">0.185693 </td><td style=\"text-align: right;\">              0.306544</td><td style=\"text-align: right;\">0.17798 </td><td style=\"text-align: right;\">0.031677 </td><td style=\"text-align: right;\">              1278</td><td style=\"text-align: right;\">                 0.00846 </td></tr>\n",
       "<tr><td>XGBoost_grid__1_AutoML_20200918_072924_model_1     </td><td style=\"text-align: right;\">0.840382</td><td style=\"text-align: right;\"> 0.124329</td><td style=\"text-align: right;\">0.201126 </td><td style=\"text-align: right;\">              0.350661</td><td style=\"text-align: right;\">0.17673 </td><td style=\"text-align: right;\">0.0312336</td><td style=\"text-align: right;\">              2417</td><td style=\"text-align: right;\">                 0.002768</td></tr>\n",
       "<tr><td>GBM_3_AutoML_20200918_072924                       </td><td style=\"text-align: right;\">0.839857</td><td style=\"text-align: right;\"> 0.127721</td><td style=\"text-align: right;\">0.199398 </td><td style=\"text-align: right;\">              0.356579</td><td style=\"text-align: right;\">0.17752 </td><td style=\"text-align: right;\">0.0315135</td><td style=\"text-align: right;\">              1493</td><td style=\"text-align: right;\">                 0.010417</td></tr>\n",
       "<tr><td>GBM_grid__1_AutoML_20200918_072924_model_2         </td><td style=\"text-align: right;\">0.837549</td><td style=\"text-align: right;\"> 0.124473</td><td style=\"text-align: right;\">0.202238 </td><td style=\"text-align: right;\">              0.331704</td><td style=\"text-align: right;\">0.176433</td><td style=\"text-align: right;\">0.0311287</td><td style=\"text-align: right;\">              1491</td><td style=\"text-align: right;\">                 0.010239</td></tr>\n",
       "<tr><td>GBM_5_AutoML_20200918_072924                       </td><td style=\"text-align: right;\">0.837053</td><td style=\"text-align: right;\"> 0.12567 </td><td style=\"text-align: right;\">0.197568 </td><td style=\"text-align: right;\">              0.35796 </td><td style=\"text-align: right;\">0.177011</td><td style=\"text-align: right;\">0.0313329</td><td style=\"text-align: right;\">              1848</td><td style=\"text-align: right;\">                 0.011432</td></tr>\n",
       "<tr><td>GBM_2_AutoML_20200918_072924                       </td><td style=\"text-align: right;\">0.836419</td><td style=\"text-align: right;\"> 0.127472</td><td style=\"text-align: right;\">0.190888 </td><td style=\"text-align: right;\">              0.363637</td><td style=\"text-align: right;\">0.177843</td><td style=\"text-align: right;\">0.0316281</td><td style=\"text-align: right;\">              1372</td><td style=\"text-align: right;\">                 0.009244</td></tr>\n",
       "<tr><td>GBM_grid__1_AutoML_20200918_072924_model_1         </td><td style=\"text-align: right;\">0.831898</td><td style=\"text-align: right;\"> 0.132921</td><td style=\"text-align: right;\">0.187687 </td><td style=\"text-align: right;\">              0.3288  </td><td style=\"text-align: right;\">0.178712</td><td style=\"text-align: right;\">0.0319381</td><td style=\"text-align: right;\">              1315</td><td style=\"text-align: right;\">                 0.009526</td></tr>\n",
       "<tr><td>XGBoost_grid__1_AutoML_20200918_072924_model_4     </td><td style=\"text-align: right;\">0.831512</td><td style=\"text-align: right;\"> 0.129011</td><td style=\"text-align: right;\">0.188306 </td><td style=\"text-align: right;\">              0.337415</td><td style=\"text-align: right;\">0.178012</td><td style=\"text-align: right;\">0.0316883</td><td style=\"text-align: right;\">              2326</td><td style=\"text-align: right;\">                 0.002472</td></tr>\n",
       "<tr><td>XGBoost_grid__1_AutoML_20200918_072924_model_3     </td><td style=\"text-align: right;\">0.83051 </td><td style=\"text-align: right;\"> 0.128205</td><td style=\"text-align: right;\">0.188178 </td><td style=\"text-align: right;\">              0.365832</td><td style=\"text-align: right;\">0.178574</td><td style=\"text-align: right;\">0.0318888</td><td style=\"text-align: right;\">              4072</td><td style=\"text-align: right;\">                 0.002864</td></tr>\n",
       "<tr><td>GBM_4_AutoML_20200918_072924                       </td><td style=\"text-align: right;\">0.830498</td><td style=\"text-align: right;\"> 0.133318</td><td style=\"text-align: right;\">0.185508 </td><td style=\"text-align: right;\">              0.357271</td><td style=\"text-align: right;\">0.178817</td><td style=\"text-align: right;\">0.0319755</td><td style=\"text-align: right;\">              1680</td><td style=\"text-align: right;\">                 0.010142</td></tr>\n",
       "<tr><td>DeepLearning_1_AutoML_20200918_072924              </td><td style=\"text-align: right;\">0.829645</td><td style=\"text-align: right;\"> 0.127482</td><td style=\"text-align: right;\">0.182028 </td><td style=\"text-align: right;\">              0.35949 </td><td style=\"text-align: right;\">0.177468</td><td style=\"text-align: right;\">0.0314949</td><td style=\"text-align: right;\">              1456</td><td style=\"text-align: right;\">                 0.002629</td></tr>\n",
       "<tr><td>DeepLearning_grid__1_AutoML_20200918_072924_model_1</td><td style=\"text-align: right;\">0.827465</td><td style=\"text-align: right;\"> 0.139808</td><td style=\"text-align: right;\">0.176848 </td><td style=\"text-align: right;\">              0.351195</td><td style=\"text-align: right;\">0.180115</td><td style=\"text-align: right;\">0.0324413</td><td style=\"text-align: right;\">              4797</td><td style=\"text-align: right;\">                 0.033086</td></tr>\n",
       "<tr><td>XGBoost_1_AutoML_20200918_072924                   </td><td style=\"text-align: right;\">0.82736 </td><td style=\"text-align: right;\"> 0.129017</td><td style=\"text-align: right;\">0.187717 </td><td style=\"text-align: right;\">              0.355682</td><td style=\"text-align: right;\">0.179102</td><td style=\"text-align: right;\">0.0320776</td><td style=\"text-align: right;\">              2776</td><td style=\"text-align: right;\">                 0.002374</td></tr>\n",
       "<tr><td>XGBoost_2_AutoML_20200918_072924                   </td><td style=\"text-align: right;\">0.82688 </td><td style=\"text-align: right;\"> 0.128235</td><td style=\"text-align: right;\">0.18986  </td><td style=\"text-align: right;\">              0.347656</td><td style=\"text-align: right;\">0.178391</td><td style=\"text-align: right;\">0.0318235</td><td style=\"text-align: right;\">              2758</td><td style=\"text-align: right;\">                 0.002401</td></tr>\n",
       "<tr><td>XGBoost_grid__1_AutoML_20200918_072924_model_5     </td><td style=\"text-align: right;\">0.826329</td><td style=\"text-align: right;\"> 0.148033</td><td style=\"text-align: right;\">0.176108 </td><td style=\"text-align: right;\">              0.359034</td><td style=\"text-align: right;\">0.180835</td><td style=\"text-align: right;\">0.0327011</td><td style=\"text-align: right;\">              3902</td><td style=\"text-align: right;\">                 0.003208</td></tr>\n",
       "<tr><td>XGBoost_grid__1_AutoML_20200918_072924_model_6     </td><td style=\"text-align: right;\">0.824896</td><td style=\"text-align: right;\"> 0.137859</td><td style=\"text-align: right;\">0.174381 </td><td style=\"text-align: right;\">              0.354957</td><td style=\"text-align: right;\">0.180765</td><td style=\"text-align: right;\">0.0326758</td><td style=\"text-align: right;\">              2776</td><td style=\"text-align: right;\">                 0.002715</td></tr>\n",
       "<tr><td>DRF_1_AutoML_20200918_072924                       </td><td style=\"text-align: right;\">0.824582</td><td style=\"text-align: right;\"> 0.158277</td><td style=\"text-align: right;\">0.205941 </td><td style=\"text-align: right;\">              0.349503</td><td style=\"text-align: right;\">0.175897</td><td style=\"text-align: right;\">0.0309397</td><td style=\"text-align: right;\">              2439</td><td style=\"text-align: right;\">                 0.01459 </td></tr>\n",
       "<tr><td>GBM_grid__1_AutoML_20200918_072924_model_4         </td><td style=\"text-align: right;\">0.817563</td><td style=\"text-align: right;\"> 0.142272</td><td style=\"text-align: right;\">0.171183 </td><td style=\"text-align: right;\">              0.350176</td><td style=\"text-align: right;\">0.181908</td><td style=\"text-align: right;\">0.0330906</td><td style=\"text-align: right;\">              2110</td><td style=\"text-align: right;\">                 0.00919 </td></tr>\n",
       "<tr><td>XRT_1_AutoML_20200918_072924                       </td><td style=\"text-align: right;\">0.815736</td><td style=\"text-align: right;\"> 0.128341</td><td style=\"text-align: right;\">0.185526 </td><td style=\"text-align: right;\">              0.358004</td><td style=\"text-align: right;\">0.177457</td><td style=\"text-align: right;\">0.0314911</td><td style=\"text-align: right;\">              2877</td><td style=\"text-align: right;\">                 0.016552</td></tr>\n",
       "<tr><td>XGBoost_grid__1_AutoML_20200918_072924_model_2     </td><td style=\"text-align: right;\">0.815236</td><td style=\"text-align: right;\"> 0.138883</td><td style=\"text-align: right;\">0.160326 </td><td style=\"text-align: right;\">              0.332906</td><td style=\"text-align: right;\">0.182858</td><td style=\"text-align: right;\">0.0334372</td><td style=\"text-align: right;\">              3532</td><td style=\"text-align: right;\">                 0.00288 </td></tr>\n",
       "<tr><td>DeepLearning_grid__2_AutoML_20200918_072924_model_1</td><td style=\"text-align: right;\">0.792889</td><td style=\"text-align: right;\"> 0.221737</td><td style=\"text-align: right;\">0.133796 </td><td style=\"text-align: right;\">              0.352813</td><td style=\"text-align: right;\">0.186121</td><td style=\"text-align: right;\">0.0346409</td><td style=\"text-align: right;\">             12140</td><td style=\"text-align: right;\">                 0.119837</td></tr>\n",
       "<tr><td>DeepLearning_grid__3_AutoML_20200918_072924_model_1</td><td style=\"text-align: right;\">0.738022</td><td style=\"text-align: right;\"> 0.25214 </td><td style=\"text-align: right;\">0.0963062</td><td style=\"text-align: right;\">              0.387685</td><td style=\"text-align: right;\">0.187246</td><td style=\"text-align: right;\">0.0350609</td><td style=\"text-align: right;\">              9392</td><td style=\"text-align: right;\">                 0.207085</td></tr>\n",
       "</tbody>\n",
       "</table>"
      ]
     },
     "metadata": {},
     "output_type": "display_data"
    },
    {
     "data": {
      "text/plain": []
     },
     "execution_count": 13,
     "metadata": {},
     "output_type": "execute_result"
    }
   ],
   "source": [
    "from h2o.automl import get_leaderboard\n",
    "lb2 = get_leaderboard(aml, extra_columns='ALL')\n",
    "lb2.head(rows=lb2.nrows)"
   ]
  },
  {
   "cell_type": "markdown",
   "metadata": {},
   "source": [
    "ベストなモデルの詳細を確認してみる"
   ]
  },
  {
   "cell_type": "code",
   "execution_count": 32,
   "metadata": {},
   "outputs": [
    {
     "data": {
      "text/plain": [
       "'StackedEnsemble_AllModels_AutoML_20200918_072924'"
      ]
     },
     "execution_count": 32,
     "metadata": {},
     "output_type": "execute_result"
    }
   ],
   "source": [
    "#> ベストモデルのID\n",
    "best_model_ids = lb[0,0]\n",
    "best_model_ids"
   ]
  },
  {
   "cell_type": "code",
   "execution_count": 34,
   "metadata": {},
   "outputs": [
    {
     "name": "stdout",
     "output_type": "stream",
     "text": [
      "Model Details\n",
      "=============\n",
      "H2OStackedEnsembleEstimator :  Stacked Ensemble\n",
      "Model Key:  StackedEnsemble_AllModels_AutoML_20200918_072924\n",
      "\n",
      "No model summary for this model\n",
      "\n",
      "ModelMetricsBinomialGLM: stackedensemble\n",
      "** Reported on train data. **\n",
      "\n",
      "MSE: 0.009936862165574404\n",
      "RMSE: 0.09968381095029626\n",
      "LogLoss: 0.048790147519537454\n",
      "Null degrees of freedom: 10024\n",
      "Residual degrees of freedom: 10015\n",
      "Null deviance: 3082.404320268478\n",
      "Residual deviance: 978.2424577667259\n",
      "AIC: 998.2424577667259\n",
      "AUC: 0.9977040257559374\n",
      "AUCPR: 0.932521469482204\n",
      "Gini: 0.9954080515118748\n",
      "\n",
      "Confusion Matrix (Act/Pred) for max f1 @ threshold = 0.1967284184009056: \n"
     ]
    },
    {
     "data": {
      "text/html": [
       "<div style=\"overflow:auto\"><table style=\"width:50%\"><tr><td><b></b></td>\n",
       "<td><b>FALSE</b></td>\n",
       "<td><b>TRUE</b></td>\n",
       "<td><b>Error</b></td>\n",
       "<td><b>Rate</b></td></tr>\n",
       "<tr><td>FALSE</td>\n",
       "<td>9594.0</td>\n",
       "<td>74.0</td>\n",
       "<td>0.0077</td>\n",
       "<td> (74.0/9668.0)</td></tr>\n",
       "<tr><td>TRUE</td>\n",
       "<td>24.0</td>\n",
       "<td>333.0</td>\n",
       "<td>0.0672</td>\n",
       "<td> (24.0/357.0)</td></tr>\n",
       "<tr><td>Total</td>\n",
       "<td>9618.0</td>\n",
       "<td>407.0</td>\n",
       "<td>0.0098</td>\n",
       "<td> (98.0/10025.0)</td></tr></table></div>"
      ],
      "text/plain": [
       "       FALSE    TRUE    Error    Rate\n",
       "-----  -------  ------  -------  --------------\n",
       "FALSE  9594     74      0.0077   (74.0/9668.0)\n",
       "TRUE   24       333     0.0672   (24.0/357.0)\n",
       "Total  9618     407     0.0098   (98.0/10025.0)"
      ]
     },
     "metadata": {},
     "output_type": "display_data"
    },
    {
     "name": "stdout",
     "output_type": "stream",
     "text": [
      "\n",
      "Maximum Metrics: Maximum metrics at their respective thresholds\n"
     ]
    },
    {
     "data": {
      "text/html": [
       "<div style=\"overflow:auto\"><table style=\"width:50%\"><tr><td><b>metric</b></td>\n",
       "<td><b>threshold</b></td>\n",
       "<td><b>value</b></td>\n",
       "<td><b>idx</b></td></tr>\n",
       "<tr><td>max f1</td>\n",
       "<td>0.1967284</td>\n",
       "<td>0.8717277</td>\n",
       "<td>214.0</td></tr>\n",
       "<tr><td>max f2</td>\n",
       "<td>0.1520378</td>\n",
       "<td>0.9220986</td>\n",
       "<td>232.0</td></tr>\n",
       "<tr><td>max f0point5</td>\n",
       "<td>0.4106299</td>\n",
       "<td>0.8784235</td>\n",
       "<td>155.0</td></tr>\n",
       "<tr><td>max accuracy</td>\n",
       "<td>0.2503648</td>\n",
       "<td>0.9905237</td>\n",
       "<td>193.0</td></tr>\n",
       "<tr><td>max precision</td>\n",
       "<td>0.9975930</td>\n",
       "<td>1.0</td>\n",
       "<td>0.0</td></tr>\n",
       "<tr><td>max recall</td>\n",
       "<td>0.0777858</td>\n",
       "<td>1.0</td>\n",
       "<td>272.0</td></tr>\n",
       "<tr><td>max specificity</td>\n",
       "<td>0.9975930</td>\n",
       "<td>1.0</td>\n",
       "<td>0.0</td></tr>\n",
       "<tr><td>max absolute_mcc</td>\n",
       "<td>0.1967284</td>\n",
       "<td>0.8686812</td>\n",
       "<td>214.0</td></tr>\n",
       "<tr><td>max min_per_class_accuracy</td>\n",
       "<td>0.1222546</td>\n",
       "<td>0.9844849</td>\n",
       "<td>245.0</td></tr>\n",
       "<tr><td>max mean_per_class_accuracy</td>\n",
       "<td>0.0933783</td>\n",
       "<td>0.9865452</td>\n",
       "<td>260.0</td></tr>\n",
       "<tr><td>max tns</td>\n",
       "<td>0.9975930</td>\n",
       "<td>9668.0</td>\n",
       "<td>0.0</td></tr>\n",
       "<tr><td>max fns</td>\n",
       "<td>0.9975930</td>\n",
       "<td>355.0</td>\n",
       "<td>0.0</td></tr>\n",
       "<tr><td>max fps</td>\n",
       "<td>0.0155386</td>\n",
       "<td>9668.0</td>\n",
       "<td>399.0</td></tr>\n",
       "<tr><td>max tps</td>\n",
       "<td>0.0777858</td>\n",
       "<td>357.0</td>\n",
       "<td>272.0</td></tr>\n",
       "<tr><td>max tnr</td>\n",
       "<td>0.9975930</td>\n",
       "<td>1.0</td>\n",
       "<td>0.0</td></tr>\n",
       "<tr><td>max fnr</td>\n",
       "<td>0.9975930</td>\n",
       "<td>0.9943978</td>\n",
       "<td>0.0</td></tr>\n",
       "<tr><td>max fpr</td>\n",
       "<td>0.0155386</td>\n",
       "<td>1.0</td>\n",
       "<td>399.0</td></tr>\n",
       "<tr><td>max tpr</td>\n",
       "<td>0.0777858</td>\n",
       "<td>1.0</td>\n",
       "<td>272.0</td></tr></table></div>"
      ],
      "text/plain": [
       "metric                       threshold    value     idx\n",
       "---------------------------  -----------  --------  -----\n",
       "max f1                       0.196728     0.871728  214\n",
       "max f2                       0.152038     0.922099  232\n",
       "max f0point5                 0.41063      0.878424  155\n",
       "max accuracy                 0.250365     0.990524  193\n",
       "max precision                0.997593     1         0\n",
       "max recall                   0.0777858    1         272\n",
       "max specificity              0.997593     1         0\n",
       "max absolute_mcc             0.196728     0.868681  214\n",
       "max min_per_class_accuracy   0.122255     0.984485  245\n",
       "max mean_per_class_accuracy  0.0933783    0.986545  260\n",
       "max tns                      0.997593     9668      0\n",
       "max fns                      0.997593     355       0\n",
       "max fps                      0.0155386    9668      399\n",
       "max tps                      0.0777858    357       272\n",
       "max tnr                      0.997593     1         0\n",
       "max fnr                      0.997593     0.994398  0\n",
       "max fpr                      0.0155386    1         399\n",
       "max tpr                      0.0777858    1         272"
      ]
     },
     "metadata": {},
     "output_type": "display_data"
    },
    {
     "name": "stdout",
     "output_type": "stream",
     "text": [
      "\n",
      "Gains/Lift Table: Avg response rate:  3.56 %, avg score:  4.68 %\n"
     ]
    },
    {
     "data": {
      "text/html": [
       "<div style=\"overflow:auto\"><table style=\"width:50%\"><tr><td><b>group</b></td>\n",
       "<td><b>cumulative_data_fraction</b></td>\n",
       "<td><b>lower_threshold</b></td>\n",
       "<td><b>lift</b></td>\n",
       "<td><b>cumulative_lift</b></td>\n",
       "<td><b>response_rate</b></td>\n",
       "<td><b>score</b></td>\n",
       "<td><b>cumulative_response_rate</b></td>\n",
       "<td><b>cumulative_score</b></td>\n",
       "<td><b>capture_rate</b></td>\n",
       "<td><b>cumulative_capture_rate</b></td>\n",
       "<td><b>gain</b></td>\n",
       "<td><b>cumulative_gain</b></td>\n",
       "<td><b>kolmogorov_smirnov</b></td></tr>\n",
       "<tr><td>1</td>\n",
       "<td>0.0100748</td>\n",
       "<td>0.8109941</td>\n",
       "<td>27.2471365</td>\n",
       "<td>27.2471365</td>\n",
       "<td>0.9702970</td>\n",
       "<td>0.9219858</td>\n",
       "<td>0.9702970</td>\n",
       "<td>0.9219858</td>\n",
       "<td>0.2745098</td>\n",
       "<td>0.2745098</td>\n",
       "<td>2624.7136478</td>\n",
       "<td>2624.7136478</td>\n",
       "<td>0.2741995</td></tr>\n",
       "<tr><td>2</td>\n",
       "<td>0.0200499</td>\n",
       "<td>0.6198878</td>\n",
       "<td>26.6771709</td>\n",
       "<td>26.9635715</td>\n",
       "<td>0.95</td>\n",
       "<td>0.7188192</td>\n",
       "<td>0.9601990</td>\n",
       "<td>0.8209079</td>\n",
       "<td>0.2661064</td>\n",
       "<td>0.5406162</td>\n",
       "<td>2567.7170868</td>\n",
       "<td>2596.3571498</td>\n",
       "<td>0.5397888</td></tr>\n",
       "<tr><td>3</td>\n",
       "<td>0.0300249</td>\n",
       "<td>0.3676720</td>\n",
       "<td>22.1841737</td>\n",
       "<td>25.3757317</td>\n",
       "<td>0.79</td>\n",
       "<td>0.4957345</td>\n",
       "<td>0.9036545</td>\n",
       "<td>0.7128768</td>\n",
       "<td>0.2212885</td>\n",
       "<td>0.7619048</td>\n",
       "<td>2118.4173669</td>\n",
       "<td>2437.5731688</td>\n",
       "<td>0.7589052</td></tr>\n",
       "<tr><td>4</td>\n",
       "<td>0.04</td>\n",
       "<td>0.2019229</td>\n",
       "<td>16.0063025</td>\n",
       "<td>23.0392157</td>\n",
       "<td>0.57</td>\n",
       "<td>0.2757066</td>\n",
       "<td>0.8204489</td>\n",
       "<td>0.6038568</td>\n",
       "<td>0.1596639</td>\n",
       "<td>0.9215686</td>\n",
       "<td>1500.6302521</td>\n",
       "<td>2203.9215686</td>\n",
       "<td>0.9141214</td></tr>\n",
       "<tr><td>5</td>\n",
       "<td>0.0500748</td>\n",
       "<td>0.1214779</td>\n",
       "<td>6.3947361</td>\n",
       "<td>19.6904260</td>\n",
       "<td>0.2277228</td>\n",
       "<td>0.1552073</td>\n",
       "<td>0.7011952</td>\n",
       "<td>0.5135907</td>\n",
       "<td>0.0644258</td>\n",
       "<td>0.9859944</td>\n",
       "<td>539.4736112</td>\n",
       "<td>1869.0425971</td>\n",
       "<td>0.9704793</td></tr>\n",
       "<tr><td>6</td>\n",
       "<td>0.1000499</td>\n",
       "<td>0.0442895</td>\n",
       "<td>0.2802518</td>\n",
       "<td>9.9950150</td>\n",
       "<td>0.0099800</td>\n",
       "<td>0.0657295</td>\n",
       "<td>0.3559322</td>\n",
       "<td>0.2898834</td>\n",
       "<td>0.0140056</td>\n",
       "<td>1.0</td>\n",
       "<td>-71.9748179</td>\n",
       "<td>899.5014955</td>\n",
       "<td>0.9331816</td></tr>\n",
       "<tr><td>7</td>\n",
       "<td>0.1500249</td>\n",
       "<td>0.0318713</td>\n",
       "<td>0.0</td>\n",
       "<td>6.6655585</td>\n",
       "<td>0.0</td>\n",
       "<td>0.0368842</td>\n",
       "<td>0.2373670</td>\n",
       "<td>0.2056064</td>\n",
       "<td>0.0</td>\n",
       "<td>1.0</td>\n",
       "<td>-100.0</td>\n",
       "<td>566.5558511</td>\n",
       "<td>0.8813612</td></tr>\n",
       "<tr><td>8</td>\n",
       "<td>0.2</td>\n",
       "<td>0.0265472</td>\n",
       "<td>0.0</td>\n",
       "<td>5.0000000</td>\n",
       "<td>0.0</td>\n",
       "<td>0.0289126</td>\n",
       "<td>0.1780549</td>\n",
       "<td>0.1614550</td>\n",
       "<td>0.0</td>\n",
       "<td>1.0</td>\n",
       "<td>-100.0</td>\n",
       "<td>400.0000000</td>\n",
       "<td>0.8295408</td></tr>\n",
       "<tr><td>9</td>\n",
       "<td>0.3000499</td>\n",
       "<td>0.0217982</td>\n",
       "<td>0.0</td>\n",
       "<td>3.3327793</td>\n",
       "<td>0.0</td>\n",
       "<td>0.0237815</td>\n",
       "<td>0.1186835</td>\n",
       "<td>0.1155485</td>\n",
       "<td>0.0</td>\n",
       "<td>1.0</td>\n",
       "<td>-100.0</td>\n",
       "<td>233.2779255</td>\n",
       "<td>0.7257964</td></tr>\n",
       "<tr><td>10</td>\n",
       "<td>0.4</td>\n",
       "<td>0.0193344</td>\n",
       "<td>0.0</td>\n",
       "<td>2.5000000</td>\n",
       "<td>0.0</td>\n",
       "<td>0.0204074</td>\n",
       "<td>0.0890274</td>\n",
       "<td>0.0917751</td>\n",
       "<td>0.0</td>\n",
       "<td>1.0</td>\n",
       "<td>-100.0</td>\n",
       "<td>150.0000000</td>\n",
       "<td>0.6221556</td></tr>\n",
       "<tr><td>11</td>\n",
       "<td>0.5000499</td>\n",
       "<td>0.0180120</td>\n",
       "<td>0.0</td>\n",
       "<td>1.9998005</td>\n",
       "<td>0.0</td>\n",
       "<td>0.0186057</td>\n",
       "<td>0.0712148</td>\n",
       "<td>0.0771354</td>\n",
       "<td>0.0</td>\n",
       "<td>1.0</td>\n",
       "<td>-100.0</td>\n",
       "<td>99.9800519</td>\n",
       "<td>0.5184113</td></tr>\n",
       "<tr><td>12</td>\n",
       "<td>0.6</td>\n",
       "<td>0.0171656</td>\n",
       "<td>0.0</td>\n",
       "<td>1.6666667</td>\n",
       "<td>0.0</td>\n",
       "<td>0.0175604</td>\n",
       "<td>0.0593516</td>\n",
       "<td>0.0672112</td>\n",
       "<td>0.0</td>\n",
       "<td>1.0</td>\n",
       "<td>-100.0</td>\n",
       "<td>66.6666667</td>\n",
       "<td>0.4147704</td></tr>\n",
       "<tr><td>13</td>\n",
       "<td>0.6999501</td>\n",
       "<td>0.0165677</td>\n",
       "<td>0.0</td>\n",
       "<td>1.4286732</td>\n",
       "<td>0.0</td>\n",
       "<td>0.0168578</td>\n",
       "<td>0.0508764</td>\n",
       "<td>0.0600209</td>\n",
       "<td>0.0</td>\n",
       "<td>1.0</td>\n",
       "<td>-100.0</td>\n",
       "<td>42.8673222</td>\n",
       "<td>0.3111295</td></tr>\n",
       "<tr><td>14</td>\n",
       "<td>0.8</td>\n",
       "<td>0.0161125</td>\n",
       "<td>0.0</td>\n",
       "<td>1.2500000</td>\n",
       "<td>0.0</td>\n",
       "<td>0.0163304</td>\n",
       "<td>0.0445137</td>\n",
       "<td>0.0545569</td>\n",
       "<td>0.0</td>\n",
       "<td>1.0</td>\n",
       "<td>-100.0</td>\n",
       "<td>25.0000000</td>\n",
       "<td>0.2073852</td></tr>\n",
       "<tr><td>15</td>\n",
       "<td>0.8999501</td>\n",
       "<td>0.0157368</td>\n",
       "<td>0.0</td>\n",
       "<td>1.1111727</td>\n",
       "<td>0.0</td>\n",
       "<td>0.0159201</td>\n",
       "<td>0.0395699</td>\n",
       "<td>0.0502658</td>\n",
       "<td>0.0</td>\n",
       "<td>1.0</td>\n",
       "<td>-100.0</td>\n",
       "<td>11.1172689</td>\n",
       "<td>0.1037443</td></tr>\n",
       "<tr><td>16</td>\n",
       "<td>1.0</td>\n",
       "<td>0.0154204</td>\n",
       "<td>0.0</td>\n",
       "<td>1.0</td>\n",
       "<td>0.0</td>\n",
       "<td>0.0156035</td>\n",
       "<td>0.0356110</td>\n",
       "<td>0.0467979</td>\n",
       "<td>0.0</td>\n",
       "<td>1.0</td>\n",
       "<td>-100.0</td>\n",
       "<td>0.0</td>\n",
       "<td>0.0</td></tr></table></div>"
      ],
      "text/plain": [
       "group    cumulative_data_fraction    lower_threshold    lift      cumulative_lift    response_rate    score      cumulative_response_rate    cumulative_score    capture_rate    cumulative_capture_rate    gain      cumulative_gain    kolmogorov_smirnov\n",
       "-------  --------------------------  -----------------  --------  -----------------  ---------------  ---------  --------------------------  ------------------  --------------  -------------------------  --------  -----------------  --------------------\n",
       "1        0.0100748                   0.810994           27.2471   27.2471            0.970297         0.921986   0.970297                    0.921986            0.27451         0.27451                    2624.71   2624.71            0.2742\n",
       "2        0.0200499                   0.619888           26.6772   26.9636            0.95             0.718819   0.960199                    0.820908            0.266106        0.540616                   2567.72   2596.36            0.539789\n",
       "3        0.0300249                   0.367672           22.1842   25.3757            0.79             0.495734   0.903654                    0.712877            0.221289        0.761905                   2118.42   2437.57            0.758905\n",
       "4        0.04                        0.201923           16.0063   23.0392            0.57             0.275707   0.820449                    0.603857            0.159664        0.921569                   1500.63   2203.92            0.914121\n",
       "5        0.0500748                   0.121478           6.39474   19.6904            0.227723         0.155207   0.701195                    0.513591            0.0644258       0.985994                   539.474   1869.04            0.970479\n",
       "6        0.10005                     0.0442895          0.280252  9.99501            0.00998004       0.0657295  0.355932                    0.289883            0.0140056       1                          -71.9748  899.501            0.933182\n",
       "7        0.150025                    0.0318713          0         6.66556            0                0.0368842  0.237367                    0.205606            0               1                          -100      566.556            0.881361\n",
       "8        0.2                         0.0265472          0         5                  0                0.0289126  0.178055                    0.161455            0               1                          -100      400                0.829541\n",
       "9        0.30005                     0.0217982          0         3.33278            0                0.0237815  0.118684                    0.115549            0               1                          -100      233.278            0.725796\n",
       "10       0.4                         0.0193344          0         2.5                0                0.0204074  0.0890274                   0.0917751           0               1                          -100      150                0.622156\n",
       "11       0.50005                     0.018012           0         1.9998             0                0.0186057  0.0712148                   0.0771354           0               1                          -100      99.9801            0.518411\n",
       "12       0.6                         0.0171656          0         1.66667            0                0.0175604  0.0593516                   0.0672112           0               1                          -100      66.6667            0.41477\n",
       "13       0.69995                     0.0165677          0         1.42867            0                0.0168578  0.0508764                   0.0600209           0               1                          -100      42.8673            0.311129\n",
       "14       0.8                         0.0161125          0         1.25               0                0.0163304  0.0445137                   0.0545569           0               1                          -100      25                 0.207385\n",
       "15       0.89995                     0.0157368          0         1.11117            0                0.0159201  0.0395699                   0.0502658           0               1                          -100      11.1173            0.103744\n",
       "16       1                           0.0154204          0         1                  0                0.0156035  0.035611                    0.0467979           0               1                          -100      0                  0"
      ]
     },
     "metadata": {},
     "output_type": "display_data"
    },
    {
     "name": "stdout",
     "output_type": "stream",
     "text": [
      "\n",
      "\n",
      "ModelMetricsBinomialGLM: stackedensemble\n",
      "** Reported on cross-validation data. **\n",
      "\n",
      "MSE: 0.03135418709714252\n",
      "RMSE: 0.17707113569733077\n",
      "LogLoss: 0.12725340483550912\n",
      "Null degrees of freedom: 39983\n",
      "Residual degrees of freedom: 39975\n",
      "Null deviance: 12249.762610914247\n",
      "Residual deviance: 10176.200277885993\n",
      "AIC: 10194.200277885993\n",
      "AUC: 0.8541959415173503\n",
      "AUCPR: 0.22868800837545541\n",
      "Gini: 0.7083918830347007\n",
      "\n",
      "Confusion Matrix (Act/Pred) for max f1 @ threshold = 0.08810033547664753: \n"
     ]
    },
    {
     "data": {
      "text/html": [
       "<div style=\"overflow:auto\"><table style=\"width:50%\"><tr><td><b></b></td>\n",
       "<td><b>FALSE</b></td>\n",
       "<td><b>TRUE</b></td>\n",
       "<td><b>Error</b></td>\n",
       "<td><b>Rate</b></td></tr>\n",
       "<tr><td>FALSE</td>\n",
       "<td>36963.0</td>\n",
       "<td>1604.0</td>\n",
       "<td>0.0416</td>\n",
       "<td> (1604.0/38567.0)</td></tr>\n",
       "<tr><td>TRUE</td>\n",
       "<td>872.0</td>\n",
       "<td>545.0</td>\n",
       "<td>0.6154</td>\n",
       "<td> (872.0/1417.0)</td></tr>\n",
       "<tr><td>Total</td>\n",
       "<td>37835.0</td>\n",
       "<td>2149.0</td>\n",
       "<td>0.0619</td>\n",
       "<td> (2476.0/39984.0)</td></tr></table></div>"
      ],
      "text/plain": [
       "       FALSE    TRUE    Error    Rate\n",
       "-----  -------  ------  -------  ----------------\n",
       "FALSE  36963    1604    0.0416   (1604.0/38567.0)\n",
       "TRUE   872      545     0.6154   (872.0/1417.0)\n",
       "Total  37835    2149    0.0619   (2476.0/39984.0)"
      ]
     },
     "metadata": {},
     "output_type": "display_data"
    },
    {
     "name": "stdout",
     "output_type": "stream",
     "text": [
      "\n",
      "Maximum Metrics: Maximum metrics at their respective thresholds\n"
     ]
    },
    {
     "data": {
      "text/html": [
       "<div style=\"overflow:auto\"><table style=\"width:50%\"><tr><td><b>metric</b></td>\n",
       "<td><b>threshold</b></td>\n",
       "<td><b>value</b></td>\n",
       "<td><b>idx</b></td></tr>\n",
       "<tr><td>max f1</td>\n",
       "<td>0.0881003</td>\n",
       "<td>0.3056646</td>\n",
       "<td>258.0</td></tr>\n",
       "<tr><td>max f2</td>\n",
       "<td>0.0376916</td>\n",
       "<td>0.3901973</td>\n",
       "<td>321.0</td></tr>\n",
       "<tr><td>max f0point5</td>\n",
       "<td>0.1548174</td>\n",
       "<td>0.2944071</td>\n",
       "<td>208.0</td></tr>\n",
       "<tr><td>max accuracy</td>\n",
       "<td>0.7376280</td>\n",
       "<td>0.9649360</td>\n",
       "<td>43.0</td></tr>\n",
       "<tr><td>max precision</td>\n",
       "<td>0.9950255</td>\n",
       "<td>1.0</td>\n",
       "<td>0.0</td></tr>\n",
       "<tr><td>max recall</td>\n",
       "<td>0.0152869</td>\n",
       "<td>1.0</td>\n",
       "<td>399.0</td></tr>\n",
       "<tr><td>max specificity</td>\n",
       "<td>0.9950255</td>\n",
       "<td>1.0</td>\n",
       "<td>0.0</td></tr>\n",
       "<tr><td>max absolute_mcc</td>\n",
       "<td>0.0667759</td>\n",
       "<td>0.2843325</td>\n",
       "<td>280.0</td></tr>\n",
       "<tr><td>max min_per_class_accuracy</td>\n",
       "<td>0.0269056</td>\n",
       "<td>0.7741708</td>\n",
       "<td>346.0</td></tr>\n",
       "<tr><td>max mean_per_class_accuracy</td>\n",
       "<td>0.0237501</td>\n",
       "<td>0.7770792</td>\n",
       "<td>356.0</td></tr>\n",
       "<tr><td>max tns</td>\n",
       "<td>0.9950255</td>\n",
       "<td>38567.0</td>\n",
       "<td>0.0</td></tr>\n",
       "<tr><td>max fns</td>\n",
       "<td>0.9950255</td>\n",
       "<td>1416.0</td>\n",
       "<td>0.0</td></tr>\n",
       "<tr><td>max fps</td>\n",
       "<td>0.0152869</td>\n",
       "<td>38567.0</td>\n",
       "<td>399.0</td></tr>\n",
       "<tr><td>max tps</td>\n",
       "<td>0.0152869</td>\n",
       "<td>1417.0</td>\n",
       "<td>399.0</td></tr>\n",
       "<tr><td>max tnr</td>\n",
       "<td>0.9950255</td>\n",
       "<td>1.0</td>\n",
       "<td>0.0</td></tr>\n",
       "<tr><td>max fnr</td>\n",
       "<td>0.9950255</td>\n",
       "<td>0.9992943</td>\n",
       "<td>0.0</td></tr>\n",
       "<tr><td>max fpr</td>\n",
       "<td>0.0152869</td>\n",
       "<td>1.0</td>\n",
       "<td>399.0</td></tr>\n",
       "<tr><td>max tpr</td>\n",
       "<td>0.0152869</td>\n",
       "<td>1.0</td>\n",
       "<td>399.0</td></tr></table></div>"
      ],
      "text/plain": [
       "metric                       threshold    value     idx\n",
       "---------------------------  -----------  --------  -----\n",
       "max f1                       0.0881003    0.305665  258\n",
       "max f2                       0.0376916    0.390197  321\n",
       "max f0point5                 0.154817     0.294407  208\n",
       "max accuracy                 0.737628     0.964936  43\n",
       "max precision                0.995025     1         0\n",
       "max recall                   0.0152869    1         399\n",
       "max specificity              0.995025     1         0\n",
       "max absolute_mcc             0.0667759    0.284333  280\n",
       "max min_per_class_accuracy   0.0269056    0.774171  346\n",
       "max mean_per_class_accuracy  0.0237501    0.777079  356\n",
       "max tns                      0.995025     38567     0\n",
       "max fns                      0.995025     1416      0\n",
       "max fps                      0.0152869    38567     399\n",
       "max tps                      0.0152869    1417      399\n",
       "max tnr                      0.995025     1         0\n",
       "max fnr                      0.995025     0.999294  0\n",
       "max fpr                      0.0152869    1         399\n",
       "max tpr                      0.0152869    1         399"
      ]
     },
     "metadata": {},
     "output_type": "display_data"
    },
    {
     "name": "stdout",
     "output_type": "stream",
     "text": [
      "\n",
      "Gains/Lift Table: Avg response rate:  3.54 %, avg score:  3.55 %\n"
     ]
    },
    {
     "data": {
      "text/html": [
       "<div style=\"overflow:auto\"><table style=\"width:50%\"><tr><td><b>group</b></td>\n",
       "<td><b>cumulative_data_fraction</b></td>\n",
       "<td><b>lower_threshold</b></td>\n",
       "<td><b>lift</b></td>\n",
       "<td><b>cumulative_lift</b></td>\n",
       "<td><b>response_rate</b></td>\n",
       "<td><b>score</b></td>\n",
       "<td><b>cumulative_response_rate</b></td>\n",
       "<td><b>cumulative_score</b></td>\n",
       "<td><b>capture_rate</b></td>\n",
       "<td><b>cumulative_capture_rate</b></td>\n",
       "<td><b>gain</b></td>\n",
       "<td><b>cumulative_gain</b></td>\n",
       "<td><b>kolmogorov_smirnov</b></td></tr>\n",
       "<tr><td>1</td>\n",
       "<td>0.0100040</td>\n",
       "<td>0.3807415</td>\n",
       "<td>11.0753140</td>\n",
       "<td>11.0753140</td>\n",
       "<td>0.3925</td>\n",
       "<td>0.6209667</td>\n",
       "<td>0.3925</td>\n",
       "<td>0.6209667</td>\n",
       "<td>0.1107975</td>\n",
       "<td>0.1107975</td>\n",
       "<td>1007.5314044</td>\n",
       "<td>1007.5314044</td>\n",
       "<td>0.1044967</td></tr>\n",
       "<tr><td>2</td>\n",
       "<td>0.0200080</td>\n",
       "<td>0.2129176</td>\n",
       "<td>7.1954270</td>\n",
       "<td>9.1353705</td>\n",
       "<td>0.255</td>\n",
       "<td>0.2790422</td>\n",
       "<td>0.32375</td>\n",
       "<td>0.4500044</td>\n",
       "<td>0.0719831</td>\n",
       "<td>0.1827805</td>\n",
       "<td>619.5426958</td>\n",
       "<td>813.5370501</td>\n",
       "<td>0.1687530</td></tr>\n",
       "<tr><td>3</td>\n",
       "<td>0.0300120</td>\n",
       "<td>0.1512522</td>\n",
       "<td>7.4070572</td>\n",
       "<td>8.5592661</td>\n",
       "<td>0.2625</td>\n",
       "<td>0.1771076</td>\n",
       "<td>0.3033333</td>\n",
       "<td>0.3590388</td>\n",
       "<td>0.0741002</td>\n",
       "<td>0.2568807</td>\n",
       "<td>640.7057163</td>\n",
       "<td>755.9266055</td>\n",
       "<td>0.2352042</td></tr>\n",
       "<tr><td>4</td>\n",
       "<td>0.0400160</td>\n",
       "<td>0.1143587</td>\n",
       "<td>6.2078193</td>\n",
       "<td>7.9714044</td>\n",
       "<td>0.22</td>\n",
       "<td>0.1315214</td>\n",
       "<td>0.2825</td>\n",
       "<td>0.3021595</td>\n",
       "<td>0.0621030</td>\n",
       "<td>0.3189838</td>\n",
       "<td>520.7819337</td>\n",
       "<td>697.1404375</td>\n",
       "<td>0.2892174</td></tr>\n",
       "<tr><td>5</td>\n",
       "<td>0.0500200</td>\n",
       "<td>0.0940830</td>\n",
       "<td>4.7969513</td>\n",
       "<td>7.3365138</td>\n",
       "<td>0.17</td>\n",
       "<td>0.1033874</td>\n",
       "<td>0.26</td>\n",
       "<td>0.2624050</td>\n",
       "<td>0.0479887</td>\n",
       "<td>0.3669725</td>\n",
       "<td>379.6951306</td>\n",
       "<td>633.6513761</td>\n",
       "<td>0.3285977</td></tr>\n",
       "<tr><td>6</td>\n",
       "<td>0.1000150</td>\n",
       "<td>0.0501822</td>\n",
       "<td>3.2466198</td>\n",
       "<td>5.2920781</td>\n",
       "<td>0.1150575</td>\n",
       "<td>0.0665687</td>\n",
       "<td>0.1875469</td>\n",
       "<td>0.1645114</td>\n",
       "<td>0.1623147</td>\n",
       "<td>0.5292872</td>\n",
       "<td>224.6619781</td>\n",
       "<td>429.2078136</td>\n",
       "<td>0.4450442</td></tr>\n",
       "<tr><td>7</td>\n",
       "<td>0.1500100</td>\n",
       "<td>0.0365756</td>\n",
       "<td>2.2020552</td>\n",
       "<td>4.2622422</td>\n",
       "<td>0.0780390</td>\n",
       "<td>0.0424696</td>\n",
       "<td>0.1510504</td>\n",
       "<td>0.1238376</td>\n",
       "<td>0.1100917</td>\n",
       "<td>0.6393790</td>\n",
       "<td>120.2055156</td>\n",
       "<td>326.2242201</td>\n",
       "<td>0.5073490</td></tr>\n",
       "<tr><td>8</td>\n",
       "<td>0.2000050</td>\n",
       "<td>0.0301270</td>\n",
       "<td>1.7926987</td>\n",
       "<td>3.6449335</td>\n",
       "<td>0.0635318</td>\n",
       "<td>0.0330764</td>\n",
       "<td>0.1291734</td>\n",
       "<td>0.1011501</td>\n",
       "<td>0.0896260</td>\n",
       "<td>0.7290049</td>\n",
       "<td>79.2698749</td>\n",
       "<td>264.4933540</td>\n",
       "<td>0.5484361</td></tr>\n",
       "<tr><td>9</td>\n",
       "<td>0.2999950</td>\n",
       "<td>0.0237724</td>\n",
       "<td>1.0304489</td>\n",
       "<td>2.7735113</td>\n",
       "<td>0.0365183</td>\n",
       "<td>0.0264973</td>\n",
       "<td>0.0982910</td>\n",
       "<td>0.0762679</td>\n",
       "<td>0.1030346</td>\n",
       "<td>0.8320395</td>\n",
       "<td>3.0448887</td>\n",
       "<td>177.3511311</td>\n",
       "<td>0.5515925</td></tr>\n",
       "<tr><td>10</td>\n",
       "<td>0.4000100</td>\n",
       "<td>0.0207044</td>\n",
       "<td>0.6068250</td>\n",
       "<td>2.2317720</td>\n",
       "<td>0.0215054</td>\n",
       "<td>0.0220624</td>\n",
       "<td>0.0790922</td>\n",
       "<td>0.0627149</td>\n",
       "<td>0.0606916</td>\n",
       "<td>0.8927311</td>\n",
       "<td>-39.3175040</td>\n",
       "<td>123.1771989</td>\n",
       "<td>0.5108243</td></tr>\n",
       "<tr><td>11</td>\n",
       "<td>0.5</td>\n",
       "<td>0.0189025</td>\n",
       "<td>0.3528935</td>\n",
       "<td>1.8560339</td>\n",
       "<td>0.0125063</td>\n",
       "<td>0.0197346</td>\n",
       "<td>0.0657763</td>\n",
       "<td>0.0541197</td>\n",
       "<td>0.0352858</td>\n",
       "<td>0.9280169</td>\n",
       "<td>-64.7106546</td>\n",
       "<td>85.6033874</td>\n",
       "<td>0.4437428</td></tr>\n",
       "<tr><td>12</td>\n",
       "<td>0.5999900</td>\n",
       "<td>0.0177583</td>\n",
       "<td>0.2611412</td>\n",
       "<td>1.5902406</td>\n",
       "<td>0.0092546</td>\n",
       "<td>0.0182915</td>\n",
       "<td>0.0563568</td>\n",
       "<td>0.0481488</td>\n",
       "<td>0.0261115</td>\n",
       "<td>0.9541284</td>\n",
       "<td>-73.8858844</td>\n",
       "<td>59.0240582</td>\n",
       "<td>0.3671499</td></tr>\n",
       "<tr><td>13</td>\n",
       "<td>0.7000050</td>\n",
       "<td>0.0169624</td>\n",
       "<td>0.2257953</td>\n",
       "<td>1.3952920</td>\n",
       "<td>0.0080020</td>\n",
       "<td>0.0173398</td>\n",
       "<td>0.0494480</td>\n",
       "<td>0.0437469</td>\n",
       "<td>0.0225829</td>\n",
       "<td>0.9767114</td>\n",
       "<td>-77.4204666</td>\n",
       "<td>39.5291975</td>\n",
       "<td>0.2868729</td></tr>\n",
       "<tr><td>14</td>\n",
       "<td>0.7999950</td>\n",
       "<td>0.0163801</td>\n",
       "<td>0.1129259</td>\n",
       "<td>1.2350113</td>\n",
       "<td>0.0040020</td>\n",
       "<td>0.0166571</td>\n",
       "<td>0.0437678</td>\n",
       "<td>0.0403610</td>\n",
       "<td>0.0112915</td>\n",
       "<td>0.9880028</td>\n",
       "<td>-88.7074095</td>\n",
       "<td>23.5011250</td>\n",
       "<td>0.1949155</td></tr>\n",
       "<tr><td>15</td>\n",
       "<td>0.8999850</td>\n",
       "<td>0.0159026</td>\n",
       "<td>0.0564630</td>\n",
       "<td>1.1040724</td>\n",
       "<td>0.0020010</td>\n",
       "<td>0.0161364</td>\n",
       "<td>0.0391274</td>\n",
       "<td>0.0376696</td>\n",
       "<td>0.0056457</td>\n",
       "<td>0.9936486</td>\n",
       "<td>-94.3537047</td>\n",
       "<td>10.4072357</td>\n",
       "<td>0.0971049</td></tr>\n",
       "<tr><td>16</td>\n",
       "<td>1.0</td>\n",
       "<td>0.0151106</td>\n",
       "<td>0.0635049</td>\n",
       "<td>1.0</td>\n",
       "<td>0.0022506</td>\n",
       "<td>0.0155931</td>\n",
       "<td>0.0354392</td>\n",
       "<td>0.0354616</td>\n",
       "<td>0.0063514</td>\n",
       "<td>1.0</td>\n",
       "<td>-93.6495062</td>\n",
       "<td>0.0</td>\n",
       "<td>0.0</td></tr></table></div>"
      ],
      "text/plain": [
       "group    cumulative_data_fraction    lower_threshold    lift       cumulative_lift    response_rate    score      cumulative_response_rate    cumulative_score    capture_rate    cumulative_capture_rate    gain      cumulative_gain    kolmogorov_smirnov\n",
       "-------  --------------------------  -----------------  ---------  -----------------  ---------------  ---------  --------------------------  ------------------  --------------  -------------------------  --------  -----------------  --------------------\n",
       "1        0.010004                    0.380742           11.0753    11.0753            0.3925           0.620967   0.3925                      0.620967            0.110797        0.110797                   1007.53   1007.53            0.104497\n",
       "2        0.020008                    0.212918           7.19543    9.13537            0.255            0.279042   0.32375                     0.450004            0.0719831       0.182781                   619.543   813.537            0.168753\n",
       "3        0.030012                    0.151252           7.40706    8.55927            0.2625           0.177108   0.303333                    0.359039            0.0741002       0.256881                   640.706   755.927            0.235204\n",
       "4        0.040016                    0.114359           6.20782    7.9714             0.22             0.131521   0.2825                      0.302159            0.062103        0.318984                   520.782   697.14             0.289217\n",
       "5        0.05002                     0.094083           4.79695    7.33651            0.17             0.103387   0.26                        0.262405            0.0479887       0.366972                   379.695   633.651            0.328598\n",
       "6        0.100015                    0.0501822          3.24662    5.29208            0.115058         0.0665687  0.187547                    0.164511            0.162315        0.529287                   224.662   429.208            0.445044\n",
       "7        0.15001                     0.0365756          2.20206    4.26224            0.078039         0.0424696  0.15105                     0.123838            0.110092        0.639379                   120.206   326.224            0.507349\n",
       "8        0.200005                    0.030127           1.7927     3.64493            0.0635318        0.0330764  0.129173                    0.10115             0.089626        0.729005                   79.2699   264.493            0.548436\n",
       "9        0.299995                    0.0237724          1.03045    2.77351            0.0365183        0.0264973  0.098291                    0.0762679           0.103035        0.83204                    3.04489   177.351            0.551593\n",
       "10       0.40001                     0.0207044          0.606825   2.23177            0.0215054        0.0220624  0.0790922                   0.0627149           0.0606916       0.892731                   -39.3175  123.177            0.510824\n",
       "11       0.5                         0.0189025          0.352893   1.85603            0.0125063        0.0197346  0.0657763                   0.0541197           0.0352858       0.928017                   -64.7107  85.6034            0.443743\n",
       "12       0.59999                     0.0177583          0.261141   1.59024            0.00925463       0.0182915  0.0563568                   0.0481488           0.0261115       0.954128                   -73.8859  59.0241            0.36715\n",
       "13       0.700005                    0.0169624          0.225795   1.39529            0.008002         0.0173398  0.049448                    0.0437469           0.0225829       0.976711                   -77.4205  39.5292            0.286873\n",
       "14       0.799995                    0.0163801          0.112926   1.23501            0.004002         0.0166571  0.0437678                   0.040361            0.0112915       0.988003                   -88.7074  23.5011            0.194915\n",
       "15       0.899985                    0.0159026          0.056463   1.10407            0.002001         0.0161364  0.0391274                   0.0376696           0.00564573      0.993649                   -94.3537  10.4072            0.0971049\n",
       "16       1                           0.0151106          0.0635049  1                  0.00225056       0.0155931  0.0354392                   0.0354616           0.00635145      1                          -93.6495  0                  0"
      ]
     },
     "metadata": {},
     "output_type": "display_data"
    },
    {
     "name": "stdout",
     "output_type": "stream",
     "text": [
      "\n"
     ]
    },
    {
     "data": {
      "text/plain": []
     },
     "execution_count": 34,
     "metadata": {},
     "output_type": "execute_result"
    }
   ],
   "source": [
    "#> ベストモデルの取得と精度の詳細\n",
    "se = h2o.get_model(best_model_ids)\n",
    "se"
   ]
  },
  {
   "cell_type": "code",
   "execution_count": 48,
   "metadata": {},
   "outputs": [
    {
     "data": {
      "text/plain": [
       "h2o.estimators.stackedensemble.H2OStackedEnsembleEstimator"
      ]
     },
     "execution_count": 48,
     "metadata": {},
     "output_type": "execute_result"
    }
   ],
   "source": [
    "type(se)    # H2OStackedEnsembleEstimatorクラスとなっている"
   ]
  },
  {
   "cell_type": "code",
   "execution_count": 49,
   "metadata": {},
   "outputs": [
    {
     "data": {
      "text/plain": [
       "{'model_id': 'StackedEnsemble_AllModels_AutoML_20200918_072924',\n",
       " 'training_frame': 'automl_training_py_9_sid_933c',\n",
       " 'response_column': 'DELINQUENT',\n",
       " 'validation_frame': None,\n",
       " 'blending_frame': None,\n",
       " 'base_models': [{'__meta': {'schema_version': 3,\n",
       "    'schema_name': 'KeyV3',\n",
       "    'schema_type': 'Key<Keyed>'},\n",
       "   'name': 'GLM_1_AutoML_20200918_072924',\n",
       "   'type': 'Key<Keyed>',\n",
       "   'URL': None},\n",
       "  {'__meta': {'schema_version': 3,\n",
       "    'schema_name': 'KeyV3',\n",
       "    'schema_type': 'Key<Keyed>'},\n",
       "   'name': 'GBM_grid__1_AutoML_20200918_072924_model_3',\n",
       "   'type': 'Key<Keyed>',\n",
       "   'URL': None},\n",
       "  {'__meta': {'schema_version': 3,\n",
       "    'schema_name': 'KeyV3',\n",
       "    'schema_type': 'Key<Keyed>'},\n",
       "   'name': 'XGBoost_3_AutoML_20200918_072924',\n",
       "   'type': 'Key<Keyed>',\n",
       "   'URL': None},\n",
       "  {'__meta': {'schema_version': 3,\n",
       "    'schema_name': 'KeyV3',\n",
       "    'schema_type': 'Key<Keyed>'},\n",
       "   'name': 'GBM_1_AutoML_20200918_072924',\n",
       "   'type': 'Key<Keyed>',\n",
       "   'URL': None},\n",
       "  {'__meta': {'schema_version': 3,\n",
       "    'schema_name': 'KeyV3',\n",
       "    'schema_type': 'Key<Keyed>'},\n",
       "   'name': 'XGBoost_grid__1_AutoML_20200918_072924_model_1',\n",
       "   'type': 'Key<Keyed>',\n",
       "   'URL': None},\n",
       "  {'__meta': {'schema_version': 3,\n",
       "    'schema_name': 'KeyV3',\n",
       "    'schema_type': 'Key<Keyed>'},\n",
       "   'name': 'GBM_3_AutoML_20200918_072924',\n",
       "   'type': 'Key<Keyed>',\n",
       "   'URL': None},\n",
       "  {'__meta': {'schema_version': 3,\n",
       "    'schema_name': 'KeyV3',\n",
       "    'schema_type': 'Key<Keyed>'},\n",
       "   'name': 'GBM_grid__1_AutoML_20200918_072924_model_2',\n",
       "   'type': 'Key<Keyed>',\n",
       "   'URL': None},\n",
       "  {'__meta': {'schema_version': 3,\n",
       "    'schema_name': 'KeyV3',\n",
       "    'schema_type': 'Key<Keyed>'},\n",
       "   'name': 'GBM_5_AutoML_20200918_072924',\n",
       "   'type': 'Key<Keyed>',\n",
       "   'URL': None},\n",
       "  {'__meta': {'schema_version': 3,\n",
       "    'schema_name': 'KeyV3',\n",
       "    'schema_type': 'Key<Keyed>'},\n",
       "   'name': 'GBM_2_AutoML_20200918_072924',\n",
       "   'type': 'Key<Keyed>',\n",
       "   'URL': None},\n",
       "  {'__meta': {'schema_version': 3,\n",
       "    'schema_name': 'KeyV3',\n",
       "    'schema_type': 'Key<Keyed>'},\n",
       "   'name': 'GBM_grid__1_AutoML_20200918_072924_model_1',\n",
       "   'type': 'Key<Keyed>',\n",
       "   'URL': None},\n",
       "  {'__meta': {'schema_version': 3,\n",
       "    'schema_name': 'KeyV3',\n",
       "    'schema_type': 'Key<Keyed>'},\n",
       "   'name': 'XGBoost_grid__1_AutoML_20200918_072924_model_4',\n",
       "   'type': 'Key<Keyed>',\n",
       "   'URL': None},\n",
       "  {'__meta': {'schema_version': 3,\n",
       "    'schema_name': 'KeyV3',\n",
       "    'schema_type': 'Key<Keyed>'},\n",
       "   'name': 'XGBoost_grid__1_AutoML_20200918_072924_model_3',\n",
       "   'type': 'Key<Keyed>',\n",
       "   'URL': None},\n",
       "  {'__meta': {'schema_version': 3,\n",
       "    'schema_name': 'KeyV3',\n",
       "    'schema_type': 'Key<Keyed>'},\n",
       "   'name': 'GBM_4_AutoML_20200918_072924',\n",
       "   'type': 'Key<Keyed>',\n",
       "   'URL': None},\n",
       "  {'__meta': {'schema_version': 3,\n",
       "    'schema_name': 'KeyV3',\n",
       "    'schema_type': 'Key<Keyed>'},\n",
       "   'name': 'DeepLearning_1_AutoML_20200918_072924',\n",
       "   'type': 'Key<Keyed>',\n",
       "   'URL': None},\n",
       "  {'__meta': {'schema_version': 3,\n",
       "    'schema_name': 'KeyV3',\n",
       "    'schema_type': 'Key<Keyed>'},\n",
       "   'name': 'DeepLearning_grid__1_AutoML_20200918_072924_model_1',\n",
       "   'type': 'Key<Keyed>',\n",
       "   'URL': None},\n",
       "  {'__meta': {'schema_version': 3,\n",
       "    'schema_name': 'KeyV3',\n",
       "    'schema_type': 'Key<Keyed>'},\n",
       "   'name': 'XGBoost_1_AutoML_20200918_072924',\n",
       "   'type': 'Key<Keyed>',\n",
       "   'URL': None},\n",
       "  {'__meta': {'schema_version': 3,\n",
       "    'schema_name': 'KeyV3',\n",
       "    'schema_type': 'Key<Keyed>'},\n",
       "   'name': 'XGBoost_2_AutoML_20200918_072924',\n",
       "   'type': 'Key<Keyed>',\n",
       "   'URL': None},\n",
       "  {'__meta': {'schema_version': 3,\n",
       "    'schema_name': 'KeyV3',\n",
       "    'schema_type': 'Key<Keyed>'},\n",
       "   'name': 'XGBoost_grid__1_AutoML_20200918_072924_model_5',\n",
       "   'type': 'Key<Keyed>',\n",
       "   'URL': None},\n",
       "  {'__meta': {'schema_version': 3,\n",
       "    'schema_name': 'KeyV3',\n",
       "    'schema_type': 'Key<Keyed>'},\n",
       "   'name': 'XGBoost_grid__1_AutoML_20200918_072924_model_6',\n",
       "   'type': 'Key<Keyed>',\n",
       "   'URL': None},\n",
       "  {'__meta': {'schema_version': 3,\n",
       "    'schema_name': 'KeyV3',\n",
       "    'schema_type': 'Key<Keyed>'},\n",
       "   'name': 'DRF_1_AutoML_20200918_072924',\n",
       "   'type': 'Key<Keyed>',\n",
       "   'URL': None},\n",
       "  {'__meta': {'schema_version': 3,\n",
       "    'schema_name': 'KeyV3',\n",
       "    'schema_type': 'Key<Keyed>'},\n",
       "   'name': 'GBM_grid__1_AutoML_20200918_072924_model_4',\n",
       "   'type': 'Key<Keyed>',\n",
       "   'URL': None},\n",
       "  {'__meta': {'schema_version': 3,\n",
       "    'schema_name': 'KeyV3',\n",
       "    'schema_type': 'Key<Keyed>'},\n",
       "   'name': 'XRT_1_AutoML_20200918_072924',\n",
       "   'type': 'Key<Keyed>',\n",
       "   'URL': None},\n",
       "  {'__meta': {'schema_version': 3,\n",
       "    'schema_name': 'KeyV3',\n",
       "    'schema_type': 'Key<Keyed>'},\n",
       "   'name': 'XGBoost_grid__1_AutoML_20200918_072924_model_2',\n",
       "   'type': 'Key<Keyed>',\n",
       "   'URL': None},\n",
       "  {'__meta': {'schema_version': 3,\n",
       "    'schema_name': 'KeyV3',\n",
       "    'schema_type': 'Key<Keyed>'},\n",
       "   'name': 'DeepLearning_grid__2_AutoML_20200918_072924_model_1',\n",
       "   'type': 'Key<Keyed>',\n",
       "   'URL': None},\n",
       "  {'__meta': {'schema_version': 3,\n",
       "    'schema_name': 'KeyV3',\n",
       "    'schema_type': 'Key<Keyed>'},\n",
       "   'name': 'DeepLearning_grid__3_AutoML_20200918_072924_model_1',\n",
       "   'type': 'Key<Keyed>',\n",
       "   'URL': None}],\n",
       " 'metalearner_algorithm': 'glm',\n",
       " 'metalearner_nfolds': 5,\n",
       " 'metalearner_fold_assignment': None,\n",
       " 'metalearner_fold_column': None,\n",
       " 'metalearner_params': '',\n",
       " 'max_runtime_secs': 0.0,\n",
       " 'weights_column': None,\n",
       " 'offset_column': None,\n",
       " 'seed': 55,\n",
       " 'score_training_samples': 10000,\n",
       " 'keep_levelone_frame': True,\n",
       " 'export_checkpoints_dir': None}"
      ]
     },
     "execution_count": 49,
     "metadata": {},
     "output_type": "execute_result"
    }
   ],
   "source": [
    "# パラメータの確認\n",
    "se.actual_params"
   ]
  },
  {
   "cell_type": "markdown",
   "metadata": {},
   "source": [
    "スタッキングに利用したアルゴリズム(Metalearner)の確認（\n",
    "[ドキュメント](http://docs.h2o.ai/h2o/latest-stable/h2o-docs/data-science/algo-params/metalearner_algorithm.html)、[APIドキュメント](http://docs.h2o.ai/h2o/latest-stable/h2o-docs/data-science/algo-params/metalearner_algorithm.html)）"
   ]
  },
  {
   "cell_type": "code",
   "execution_count": 52,
   "metadata": {},
   "outputs": [
    {
     "data": {
      "text/plain": [
       "'glm'"
      ]
     },
     "execution_count": 52,
     "metadata": {},
     "output_type": "execute_result"
    }
   ],
   "source": [
    "#> Metalearnerの確認\n",
    "se.actual_params['metalearner_algorithm']"
   ]
  },
  {
   "cell_type": "code",
   "execution_count": 54,
   "metadata": {},
   "outputs": [],
   "source": [
    "#> Metalearnerの取得\n",
    "metalearner = h2o.get_model(se.metalearner()['name'])"
   ]
  },
  {
   "cell_type": "markdown",
   "metadata": {},
   "source": [
    "MetalearnerがGLMなので、その係数を表示しスタッキングに使われた各モデルの貢献度を確認してみる"
   ]
  },
  {
   "cell_type": "code",
   "execution_count": 55,
   "metadata": {
    "scrolled": true
   },
   "outputs": [
    {
     "data": {
      "text/plain": [
       "{'Intercept': -4.157813326610924,\n",
       " 'GLM_1_AutoML_20200918_072924': 1.6809779152104825,\n",
       " 'GBM_grid__1_AutoML_20200918_072924_model_3': 0.0,\n",
       " 'XGBoost_3_AutoML_20200918_072924': 1.1497201415098315,\n",
       " 'GBM_1_AutoML_20200918_072924': 0.0,\n",
       " 'XGBoost_grid__1_AutoML_20200918_072924_model_1': 0.18661608798325457,\n",
       " 'GBM_3_AutoML_20200918_072924': 0.0,\n",
       " 'GBM_grid__1_AutoML_20200918_072924_model_2': 0.0,\n",
       " 'GBM_5_AutoML_20200918_072924': 0.0,\n",
       " 'GBM_2_AutoML_20200918_072924': 0.0,\n",
       " 'GBM_grid__1_AutoML_20200918_072924_model_1': 0.0,\n",
       " 'XGBoost_grid__1_AutoML_20200918_072924_model_4': 0.5879288325859352,\n",
       " 'XGBoost_grid__1_AutoML_20200918_072924_model_3': 0.34774813281618333,\n",
       " 'GBM_4_AutoML_20200918_072924': 0.0,\n",
       " 'DeepLearning_1_AutoML_20200918_072924': 2.4661220589840473,\n",
       " 'DeepLearning_grid__1_AutoML_20200918_072924_model_1': 0.0,\n",
       " 'XGBoost_1_AutoML_20200918_072924': 0.0,\n",
       " 'XGBoost_2_AutoML_20200918_072924': 0.2038579147594998,\n",
       " 'XGBoost_grid__1_AutoML_20200918_072924_model_5': 0.0,\n",
       " 'XGBoost_grid__1_AutoML_20200918_072924_model_6': 0.0,\n",
       " 'DRF_1_AutoML_20200918_072924': 4.385217668110795,\n",
       " 'GBM_grid__1_AutoML_20200918_072924_model_4': 0.0,\n",
       " 'XRT_1_AutoML_20200918_072924': 3.429144616512007,\n",
       " 'XGBoost_grid__1_AutoML_20200918_072924_model_2': 0.0,\n",
       " 'DeepLearning_grid__2_AutoML_20200918_072924_model_1': 0.0,\n",
       " 'DeepLearning_grid__3_AutoML_20200918_072924_model_1': 0.0}"
      ]
     },
     "execution_count": 55,
     "metadata": {},
     "output_type": "execute_result"
    }
   ],
   "source": [
    "#> 係数の表示\n",
    "metalearner.coef()"
   ]
  },
  {
   "cell_type": "code",
   "execution_count": 56,
   "metadata": {},
   "outputs": [
    {
     "data": {
      "image/png": "[encoded data removed]",
      "text/plain": [
       "<Figure size 1008x720 with 1 Axes>"
      ]
     },
     "metadata": {
      "needs_background": "light"
     },
     "output_type": "display_data"
    }
   ],
   "source": [
    "#> 値の大きい順にプロット\n",
    "metalearner.std_coef_plot()"
   ]
  },
  {
   "cell_type": "markdown",
   "metadata": {},
   "source": [
    "ベストモデル(Stacked Ensemble)をtestデータで評価してみる"
   ]
  },
  {
   "cell_type": "code",
   "execution_count": 57,
   "metadata": {
    "scrolled": true
   },
   "outputs": [
    {
     "name": "stdout",
     "output_type": "stream",
     "text": [
      "\n",
      "ModelMetricsBinomialGLM: stackedensemble\n",
      "** Reported on test data. **\n",
      "\n",
      "MSE: 0.03540800625655777\n",
      "RMSE: 0.18817015240616075\n",
      "LogLoss: 0.14406584836406727\n",
      "Null degrees of freedom: 9945\n",
      "Residual degrees of freedom: 9936\n",
      "Null deviance: 3327.7962854655334\n",
      "Residual deviance: 2865.757855658026\n",
      "AIC: 2885.757855658026\n",
      "AUC: 0.8220646257466578\n",
      "AUCPR: 0.21062421181452293\n",
      "Gini: 0.6441292514933157\n",
      "\n",
      "Confusion Matrix (Act/Pred) for max f1 @ threshold = 0.12588873176616458: \n"
     ]
    },
    {
     "data": {
      "text/html": [
       "<div style=\"overflow:auto\"><table style=\"width:50%\"><tr><td><b></b></td>\n",
       "<td><b>FALSE</b></td>\n",
       "<td><b>TRUE</b></td>\n",
       "<td><b>Error</b></td>\n",
       "<td><b>Rate</b></td></tr>\n",
       "<tr><td>FALSE</td>\n",
       "<td>9303.0</td>\n",
       "<td>248.0</td>\n",
       "<td>0.026</td>\n",
       "<td> (248.0/9551.0)</td></tr>\n",
       "<tr><td>TRUE</td>\n",
       "<td>282.0</td>\n",
       "<td>113.0</td>\n",
       "<td>0.7139</td>\n",
       "<td> (282.0/395.0)</td></tr>\n",
       "<tr><td>Total</td>\n",
       "<td>9585.0</td>\n",
       "<td>361.0</td>\n",
       "<td>0.0533</td>\n",
       "<td> (530.0/9946.0)</td></tr></table></div>"
      ],
      "text/plain": [
       "       FALSE    TRUE    Error    Rate\n",
       "-----  -------  ------  -------  --------------\n",
       "FALSE  9303     248     0.026    (248.0/9551.0)\n",
       "TRUE   282      113     0.7139   (282.0/395.0)\n",
       "Total  9585     361     0.0533   (530.0/9946.0)"
      ]
     },
     "metadata": {},
     "output_type": "display_data"
    },
    {
     "name": "stdout",
     "output_type": "stream",
     "text": [
      "\n",
      "Maximum Metrics: Maximum metrics at their respective thresholds\n"
     ]
    },
    {
     "data": {
      "text/html": [
       "<div style=\"overflow:auto\"><table style=\"width:50%\"><tr><td><b>metric</b></td>\n",
       "<td><b>threshold</b></td>\n",
       "<td><b>value</b></td>\n",
       "<td><b>idx</b></td></tr>\n",
       "<tr><td>max f1</td>\n",
       "<td>0.1258887</td>\n",
       "<td>0.2989418</td>\n",
       "<td>197.0</td></tr>\n",
       "<tr><td>max f2</td>\n",
       "<td>0.0319011</td>\n",
       "<td>0.3788783</td>\n",
       "<td>323.0</td></tr>\n",
       "<tr><td>max f0point5</td>\n",
       "<td>0.1675748</td>\n",
       "<td>0.3197470</td>\n",
       "<td>165.0</td></tr>\n",
       "<tr><td>max accuracy</td>\n",
       "<td>0.9764316</td>\n",
       "<td>0.9602855</td>\n",
       "<td>1.0</td></tr>\n",
       "<tr><td>max precision</td>\n",
       "<td>0.9764316</td>\n",
       "<td>0.5</td>\n",
       "<td>1.0</td></tr>\n",
       "<tr><td>max recall</td>\n",
       "<td>0.0156486</td>\n",
       "<td>1.0</td>\n",
       "<td>398.0</td></tr>\n",
       "<tr><td>max specificity</td>\n",
       "<td>0.9892955</td>\n",
       "<td>0.9998953</td>\n",
       "<td>0.0</td></tr>\n",
       "<tr><td>max absolute_mcc</td>\n",
       "<td>0.1341012</td>\n",
       "<td>0.2720840</td>\n",
       "<td>189.0</td></tr>\n",
       "<tr><td>max min_per_class_accuracy</td>\n",
       "<td>0.0251806</td>\n",
       "<td>0.7569620</td>\n",
       "<td>343.0</td></tr>\n",
       "<tr><td>max mean_per_class_accuracy</td>\n",
       "<td>0.0249627</td>\n",
       "<td>0.7597782</td>\n",
       "<td>344.0</td></tr>\n",
       "<tr><td>max tns</td>\n",
       "<td>0.9892955</td>\n",
       "<td>9550.0</td>\n",
       "<td>0.0</td></tr>\n",
       "<tr><td>max fns</td>\n",
       "<td>0.9892955</td>\n",
       "<td>395.0</td>\n",
       "<td>0.0</td></tr>\n",
       "<tr><td>max fps</td>\n",
       "<td>0.0155297</td>\n",
       "<td>9551.0</td>\n",
       "<td>399.0</td></tr>\n",
       "<tr><td>max tps</td>\n",
       "<td>0.0156486</td>\n",
       "<td>395.0</td>\n",
       "<td>398.0</td></tr>\n",
       "<tr><td>max tnr</td>\n",
       "<td>0.9892955</td>\n",
       "<td>0.9998953</td>\n",
       "<td>0.0</td></tr>\n",
       "<tr><td>max fnr</td>\n",
       "<td>0.9892955</td>\n",
       "<td>1.0</td>\n",
       "<td>0.0</td></tr>\n",
       "<tr><td>max fpr</td>\n",
       "<td>0.0155297</td>\n",
       "<td>1.0</td>\n",
       "<td>399.0</td></tr>\n",
       "<tr><td>max tpr</td>\n",
       "<td>0.0156486</td>\n",
       "<td>1.0</td>\n",
       "<td>398.0</td></tr></table></div>"
      ],
      "text/plain": [
       "metric                       threshold    value     idx\n",
       "---------------------------  -----------  --------  -----\n",
       "max f1                       0.125889     0.298942  197\n",
       "max f2                       0.0319011    0.378878  323\n",
       "max f0point5                 0.167575     0.319747  165\n",
       "max accuracy                 0.976432     0.960286  1\n",
       "max precision                0.976432     0.5       1\n",
       "max recall                   0.0156486    1         398\n",
       "max specificity              0.989296     0.999895  0\n",
       "max absolute_mcc             0.134101     0.272084  189\n",
       "max min_per_class_accuracy   0.0251806    0.756962  343\n",
       "max mean_per_class_accuracy  0.0249627    0.759778  344\n",
       "max tns                      0.989296     9550      0\n",
       "max fns                      0.989296     395       0\n",
       "max fps                      0.0155297    9551      399\n",
       "max tps                      0.0156486    395       398\n",
       "max tnr                      0.989296     0.999895  0\n",
       "max fnr                      0.989296     1         0\n",
       "max fpr                      0.0155297    1         399\n",
       "max tpr                      0.0156486    1         398"
      ]
     },
     "metadata": {},
     "output_type": "display_data"
    },
    {
     "name": "stdout",
     "output_type": "stream",
     "text": [
      "\n",
      "Gains/Lift Table: Avg response rate:  3.97 %, avg score:  3.52 %\n"
     ]
    },
    {
     "data": {
      "text/html": [
       "<div style=\"overflow:auto\"><table style=\"width:50%\"><tr><td><b>group</b></td>\n",
       "<td><b>cumulative_data_fraction</b></td>\n",
       "<td><b>lower_threshold</b></td>\n",
       "<td><b>lift</b></td>\n",
       "<td><b>cumulative_lift</b></td>\n",
       "<td><b>response_rate</b></td>\n",
       "<td><b>score</b></td>\n",
       "<td><b>cumulative_response_rate</b></td>\n",
       "<td><b>cumulative_score</b></td>\n",
       "<td><b>capture_rate</b></td>\n",
       "<td><b>cumulative_capture_rate</b></td>\n",
       "<td><b>gain</b></td>\n",
       "<td><b>cumulative_gain</b></td>\n",
       "<td><b>kolmogorov_smirnov</b></td></tr>\n",
       "<tr><td>1</td>\n",
       "<td>0.0100543</td>\n",
       "<td>0.4208375</td>\n",
       "<td>11.5826835</td>\n",
       "<td>11.5826835</td>\n",
       "<td>0.46</td>\n",
       "<td>0.6379010</td>\n",
       "<td>0.46</td>\n",
       "<td>0.6379010</td>\n",
       "<td>0.1164557</td>\n",
       "<td>0.1164557</td>\n",
       "<td>1058.2683544</td>\n",
       "<td>1058.2683544</td>\n",
       "<td>0.1108018</td></tr>\n",
       "<tr><td>2</td>\n",
       "<td>0.0200080</td>\n",
       "<td>0.2097857</td>\n",
       "<td>7.1215446</td>\n",
       "<td>9.3633229</td>\n",
       "<td>0.2828283</td>\n",
       "<td>0.2913913</td>\n",
       "<td>0.3718593</td>\n",
       "<td>0.4655168</td>\n",
       "<td>0.0708861</td>\n",
       "<td>0.1873418</td>\n",
       "<td>612.1544560</td>\n",
       "<td>836.3322944</td>\n",
       "<td>0.1742541</td></tr>\n",
       "<tr><td>3</td>\n",
       "<td>0.0300623</td>\n",
       "<td>0.1480673</td>\n",
       "<td>6.0431392</td>\n",
       "<td>8.2528936</td>\n",
       "<td>0.24</td>\n",
       "<td>0.1760650</td>\n",
       "<td>0.3277592</td>\n",
       "<td>0.3687102</td>\n",
       "<td>0.0607595</td>\n",
       "<td>0.2481013</td>\n",
       "<td>504.3139241</td>\n",
       "<td>725.2893612</td>\n",
       "<td>0.2270563</td></tr>\n",
       "<tr><td>4</td>\n",
       "<td>0.0400161</td>\n",
       "<td>0.1114526</td>\n",
       "<td>4.5781358</td>\n",
       "<td>7.3388207</td>\n",
       "<td>0.1818182</td>\n",
       "<td>0.1297888</td>\n",
       "<td>0.2914573</td>\n",
       "<td>0.3092800</td>\n",
       "<td>0.0455696</td>\n",
       "<td>0.2936709</td>\n",
       "<td>357.8135788</td>\n",
       "<td>633.8820686</td>\n",
       "<td>0.2641452</td></tr>\n",
       "<tr><td>5</td>\n",
       "<td>0.0500704</td>\n",
       "<td>0.0890546</td>\n",
       "<td>3.2733671</td>\n",
       "<td>6.5224645</td>\n",
       "<td>0.13</td>\n",
       "<td>0.0978268</td>\n",
       "<td>0.2590361</td>\n",
       "<td>0.2668195</td>\n",
       "<td>0.0329114</td>\n",
       "<td>0.3265823</td>\n",
       "<td>227.3367089</td>\n",
       "<td>552.2464542</td>\n",
       "<td>0.2879476</td></tr>\n",
       "<tr><td>6</td>\n",
       "<td>0.1000402</td>\n",
       "<td>0.0467125</td>\n",
       "<td>2.5838372</td>\n",
       "<td>4.5551301</td>\n",
       "<td>0.1026157</td>\n",
       "<td>0.0627285</td>\n",
       "<td>0.1809045</td>\n",
       "<td>0.1648765</td>\n",
       "<td>0.1291139</td>\n",
       "<td>0.4556962</td>\n",
       "<td>158.3837200</td>\n",
       "<td>355.5130081</td>\n",
       "<td>0.3703648</td></tr>\n",
       "<tr><td>7</td>\n",
       "<td>0.1500101</td>\n",
       "<td>0.0354436</td>\n",
       "<td>2.4825103</td>\n",
       "<td>3.8647199</td>\n",
       "<td>0.0985915</td>\n",
       "<td>0.0404347</td>\n",
       "<td>0.1534853</td>\n",
       "<td>0.1234237</td>\n",
       "<td>0.1240506</td>\n",
       "<td>0.5797468</td>\n",
       "<td>148.2510251</td>\n",
       "<td>286.4719856</td>\n",
       "<td>0.4475094</td></tr>\n",
       "<tr><td>8</td>\n",
       "<td>0.2000804</td>\n",
       "<td>0.0295194</td>\n",
       "<td>1.8707844</td>\n",
       "<td>3.3657350</td>\n",
       "<td>0.0742972</td>\n",
       "<td>0.0321816</td>\n",
       "<td>0.1336683</td>\n",
       "<td>0.1005903</td>\n",
       "<td>0.0936709</td>\n",
       "<td>0.6734177</td>\n",
       "<td>87.0784403</td>\n",
       "<td>236.5735004</td>\n",
       "<td>0.4929131</td></tr>\n",
       "<tr><td>9</td>\n",
       "<td>0.3000201</td>\n",
       "<td>0.0232737</td>\n",
       "<td>1.0639330</td>\n",
       "<td>2.5989819</td>\n",
       "<td>0.0422535</td>\n",
       "<td>0.0259506</td>\n",
       "<td>0.1032172</td>\n",
       "<td>0.0757271</td>\n",
       "<td>0.1063291</td>\n",
       "<td>0.7797468</td>\n",
       "<td>6.3932965</td>\n",
       "<td>159.8981912</td>\n",
       "<td>0.4995667</td></tr>\n",
       "<tr><td>10</td>\n",
       "<td>0.4000603</td>\n",
       "<td>0.0203356</td>\n",
       "<td>0.6326570</td>\n",
       "<td>2.1072771</td>\n",
       "<td>0.0251256</td>\n",
       "<td>0.0216186</td>\n",
       "<td>0.0836894</td>\n",
       "<td>0.0621966</td>\n",
       "<td>0.0632911</td>\n",
       "<td>0.8430380</td>\n",
       "<td>-36.7343044</td>\n",
       "<td>110.7277129</td>\n",
       "<td>0.4612978</td></tr>\n",
       "<tr><td>11</td>\n",
       "<td>0.5</td>\n",
       "<td>0.0186235</td>\n",
       "<td>0.5066347</td>\n",
       "<td>1.7873418</td>\n",
       "<td>0.0201207</td>\n",
       "<td>0.0194067</td>\n",
       "<td>0.0709833</td>\n",
       "<td>0.0536438</td>\n",
       "<td>0.0506329</td>\n",
       "<td>0.8936709</td>\n",
       "<td>-49.3365255</td>\n",
       "<td>78.7341772</td>\n",
       "<td>0.4099519</td></tr>\n",
       "<tr><td>12</td>\n",
       "<td>0.6000402</td>\n",
       "<td>0.0175686</td>\n",
       "<td>0.3795942</td>\n",
       "<td>1.5526385</td>\n",
       "<td>0.0150754</td>\n",
       "<td>0.0180529</td>\n",
       "<td>0.0616622</td>\n",
       "<td>0.0477100</td>\n",
       "<td>0.0379747</td>\n",
       "<td>0.9316456</td>\n",
       "<td>-62.0405827</td>\n",
       "<td>55.2638545</td>\n",
       "<td>0.3453195</td></tr>\n",
       "<tr><td>13</td>\n",
       "<td>0.6999799</td>\n",
       "<td>0.0167867</td>\n",
       "<td>0.1773222</td>\n",
       "<td>1.3562777</td>\n",
       "<td>0.0070423</td>\n",
       "<td>0.0171617</td>\n",
       "<td>0.0538638</td>\n",
       "<td>0.0433484</td>\n",
       "<td>0.0177215</td>\n",
       "<td>0.9493671</td>\n",
       "<td>-82.2677839</td>\n",
       "<td>35.6277659</td>\n",
       "<td>0.2597011</td></tr>\n",
       "<tr><td>14</td>\n",
       "<td>0.8000201</td>\n",
       "<td>0.0162296</td>\n",
       "<td>0.2783691</td>\n",
       "<td>1.2214883</td>\n",
       "<td>0.0110553</td>\n",
       "<td>0.0164918</td>\n",
       "<td>0.0485107</td>\n",
       "<td>0.0399901</td>\n",
       "<td>0.0278481</td>\n",
       "<td>0.9772152</td>\n",
       "<td>-72.1630940</td>\n",
       "<td>22.1488284</td>\n",
       "<td>0.1845233</td></tr>\n",
       "<tr><td>15</td>\n",
       "<td>0.8999598</td>\n",
       "<td>0.0157857</td>\n",
       "<td>0.1519904</td>\n",
       "<td>1.1027216</td>\n",
       "<td>0.0060362</td>\n",
       "<td>0.0160072</td>\n",
       "<td>0.0437940</td>\n",
       "<td>0.0373268</td>\n",
       "<td>0.0151899</td>\n",
       "<td>0.9924051</td>\n",
       "<td>-84.8009576</td>\n",
       "<td>10.2721568</td>\n",
       "<td>0.0962685</td></tr>\n",
       "<tr><td>16</td>\n",
       "<td>1.0</td>\n",
       "<td>0.0154215</td>\n",
       "<td>0.0759188</td>\n",
       "<td>1.0</td>\n",
       "<td>0.0030151</td>\n",
       "<td>0.0156209</td>\n",
       "<td>0.0397145</td>\n",
       "<td>0.0351553</td>\n",
       "<td>0.0075949</td>\n",
       "<td>1.0</td>\n",
       "<td>-92.4081165</td>\n",
       "<td>0.0</td>\n",
       "<td>0.0</td></tr></table></div>"
      ],
      "text/plain": [
       "group    cumulative_data_fraction    lower_threshold    lift       cumulative_lift    response_rate    score      cumulative_response_rate    cumulative_score    capture_rate    cumulative_capture_rate    gain      cumulative_gain    kolmogorov_smirnov\n",
       "-------  --------------------------  -----------------  ---------  -----------------  ---------------  ---------  --------------------------  ------------------  --------------  -------------------------  --------  -----------------  --------------------\n",
       "1        0.0100543                   0.420837           11.5827    11.5827            0.46             0.637901   0.46                        0.637901            0.116456        0.116456                   1058.27   1058.27            0.110802\n",
       "2        0.020008                    0.209786           7.12154    9.36332            0.282828         0.291391   0.371859                    0.465517            0.0708861       0.187342                   612.154   836.332            0.174254\n",
       "3        0.0300623                   0.148067           6.04314    8.25289            0.24             0.176065   0.327759                    0.36871             0.0607595       0.248101                   504.314   725.289            0.227056\n",
       "4        0.0400161                   0.111453           4.57814    7.33882            0.181818         0.129789   0.291457                    0.30928             0.0455696       0.293671                   357.814   633.882            0.264145\n",
       "5        0.0500704                   0.0890546          3.27337    6.52246            0.13             0.0978268  0.259036                    0.26682             0.0329114       0.326582                   227.337   552.246            0.287948\n",
       "6        0.10004                     0.0467125          2.58384    4.55513            0.102616         0.0627285  0.180905                    0.164877            0.129114        0.455696                   158.384   355.513            0.370365\n",
       "7        0.15001                     0.0354436          2.48251    3.86472            0.0985915        0.0404347  0.153485                    0.123424            0.124051        0.579747                   148.251   286.472            0.447509\n",
       "8        0.20008                     0.0295194          1.87078    3.36574            0.0742972        0.0321816  0.133668                    0.10059             0.0936709       0.673418                   87.0784   236.574            0.492913\n",
       "9        0.30002                     0.0232737          1.06393    2.59898            0.0422535        0.0259506  0.103217                    0.0757271           0.106329        0.779747                   6.3933    159.898            0.499567\n",
       "10       0.40006                     0.0203356          0.632657   2.10728            0.0251256        0.0216186  0.0836894                   0.0621966           0.0632911       0.843038                   -36.7343  110.728            0.461298\n",
       "11       0.5                         0.0186235          0.506635   1.78734            0.0201207        0.0194067  0.0709833                   0.0536438           0.0506329       0.893671                   -49.3365  78.7342            0.409952\n",
       "12       0.60004                     0.0175686          0.379594   1.55264            0.0150754        0.0180529  0.0616622                   0.04771             0.0379747       0.931646                   -62.0406  55.2639            0.34532\n",
       "13       0.69998                     0.0167867          0.177322   1.35628            0.00704225       0.0171617  0.0538638                   0.0433484           0.0177215       0.949367                   -82.2678  35.6278            0.259701\n",
       "14       0.80002                     0.0162296          0.278369   1.22149            0.0110553        0.0164918  0.0485107                   0.0399901           0.0278481       0.977215                   -72.1631  22.1488            0.184523\n",
       "15       0.89996                     0.0157857          0.15199    1.10272            0.00603622       0.0160072  0.043794                    0.0373268           0.0151899       0.992405                   -84.801   10.2722            0.0962685\n",
       "16       1                           0.0154215          0.0759188  1                  0.00301508       0.0156209  0.0397145                   0.0351553           0.00759494      1                          -92.4081  0                  0"
      ]
     },
     "metadata": {},
     "output_type": "display_data"
    },
    {
     "name": "stdout",
     "output_type": "stream",
     "text": [
      "\n"
     ]
    },
    {
     "data": {
      "text/plain": []
     },
     "execution_count": 57,
     "metadata": {},
     "output_type": "execute_result"
    }
   ],
   "source": [
    "#> 各精度指標\n",
    "aml.leader.model_performance(test_data=test)"
   ]
  },
  {
   "cell_type": "code",
   "execution_count": 59,
   "metadata": {},
   "outputs": [
    {
     "data": {
      "image/png": "[encoded data removed]",
      "text/plain": [
       "<Figure size 432x288 with 1 Axes>"
      ]
     },
     "metadata": {
      "needs_background": "light"
     },
     "output_type": "display_data"
    }
   ],
   "source": [
    "#> ROC曲線\n",
    "aml.leader.model_performance(test_data=test).plot()"
   ]
  },
  {
   "cell_type": "code",
   "execution_count": 60,
   "metadata": {},
   "outputs": [
    {
     "name": "stdout",
     "output_type": "stream",
     "text": [
      "stackedensemble prediction progress: |████████████████████████████████████| 100%\n"
     ]
    },
    {
     "data": {
      "text/html": [
       "<table>\n",
       "<thead>\n",
       "<tr><th>predict  </th><th style=\"text-align: right;\">   FALSE</th><th style=\"text-align: right;\">     TRUE</th></tr>\n",
       "</thead>\n",
       "<tbody>\n",
       "<tr><td>FALSE    </td><td style=\"text-align: right;\">0.97693 </td><td style=\"text-align: right;\">0.0230702</td></tr>\n",
       "<tr><td>FALSE    </td><td style=\"text-align: right;\">0.980059</td><td style=\"text-align: right;\">0.0199408</td></tr>\n",
       "<tr><td>FALSE    </td><td style=\"text-align: right;\">0.983975</td><td style=\"text-align: right;\">0.0160253</td></tr>\n",
       "<tr><td>FALSE    </td><td style=\"text-align: right;\">0.964716</td><td style=\"text-align: right;\">0.0352844</td></tr>\n",
       "<tr><td>FALSE    </td><td style=\"text-align: right;\">0.979407</td><td style=\"text-align: right;\">0.0205929</td></tr>\n",
       "<tr><td>FALSE    </td><td style=\"text-align: right;\">0.983719</td><td style=\"text-align: right;\">0.0162809</td></tr>\n",
       "<tr><td>FALSE    </td><td style=\"text-align: right;\">0.983887</td><td style=\"text-align: right;\">0.016113 </td></tr>\n",
       "<tr><td>FALSE    </td><td style=\"text-align: right;\">0.984396</td><td style=\"text-align: right;\">0.015604 </td></tr>\n",
       "<tr><td>FALSE    </td><td style=\"text-align: right;\">0.98217 </td><td style=\"text-align: right;\">0.0178302</td></tr>\n",
       "<tr><td>FALSE    </td><td style=\"text-align: right;\">0.983489</td><td style=\"text-align: right;\">0.0165113</td></tr>\n",
       "</tbody>\n",
       "</table>"
      ]
     },
     "metadata": {},
     "output_type": "display_data"
    },
    {
     "data": {
      "text/plain": []
     },
     "execution_count": 60,
     "metadata": {},
     "output_type": "execute_result"
    }
   ],
   "source": [
    "#> 予測値を出力する場合\n",
    "aml.predict(test)"
   ]
  },
  {
   "cell_type": "markdown",
   "metadata": {},
   "source": [
    "***"
   ]
  },
  {
   "cell_type": "markdown",
   "metadata": {},
   "source": [
    "<a id='AutoMLRegression'></a>\n",
    "### H2O AutoML Regression"
   ]
  },
  {
   "cell_type": "markdown",
   "metadata": {},
   "source": [
    "[**AutoML: Automatic Machine Learning - ドキュメント**](http://docs.h2o.ai/h2o/latest-stable/h2o-docs/automl.html)  \n",
    "[**H2OAutoML - APIドキュメント**](https://docs.h2o.ai/h2o/latest-stable/h2o-py/docs/modeling.html#h2oautoml)"
   ]
  },
  {
   "cell_type": "markdown",
   "metadata": {},
   "source": [
    "機能概要に関しては上記[H2O AutoML Classification](#AutoMLClassification)参照"
   ]
  },
  {
   "cell_type": "code",
   "execution_count": 63,
   "metadata": {},
   "outputs": [
    {
     "name": "stdout",
     "output_type": "stream",
     "text": [
      "y: ORIGINAL_INTEREST_RATE \n",
      "x: ['PROPERTY_STATE', 'FIRST_TIME_HOMEBUYER_FLAG', 'POSTAL_CODE', 'OCCUPANCY_STATUS', 'CREDIT_SCORE', 'SELLER_NAME', 'ORIGINAL_DEBT_TO_INCOME_RATIO', 'ORIGINAL_LOAN_TERM', 'PROPERTY_TYPE', 'LOAN_PURPOSE', 'CHANNEL', 'SERVICER_NAME', 'NUMBER_OF_UNITS', 'ORIGINAL_LOAN_TO_VALUE', 'ORIGINAL_COMBINED_LOAN_TO_VALUE', 'ORIGINAL_UPB', 'METROPOLITAN_STATISTICAL_AREA', 'NUMBER_OF_BORROWERS']\n"
     ]
    }
   ],
   "source": [
    "#> 利用変数の定義\n",
    "y_reg = \"ORIGINAL_INTEREST_RATE\"\n",
    "\n",
    "ignore_reg = [\"ORIGINAL_INTEREST_RATE\", \"FIRST_PAYMENT_DATE\", \"MATURITY_DATE\", \"MORTGAGE_INSURANCE_PERCENTAGE\", \n",
    "              \"PREPAYMENT_PENALTY_MORTGAGE_FLAG\", \"LOAN_SEQUENCE_NUMBER\", \"PREPAID\", \"DELINQUENT\", \"PRODUCT_TYPE\"] \n",
    "x_reg = list(set(train.names) - set(ignore_reg))\n",
    "\n",
    "print(\"y:\", y_reg, \"\\nx:\", x_reg)"
   ]
  },
  {
   "cell_type": "code",
   "execution_count": null,
   "metadata": {},
   "outputs": [],
   "source": []
  },
  {
   "cell_type": "code",
   "execution_count": null,
   "metadata": {},
   "outputs": [],
   "source": []
  },
  {
   "cell_type": "code",
   "execution_count": null,
   "metadata": {},
   "outputs": [],
   "source": []
  },
  {
   "cell_type": "code",
   "execution_count": null,
   "metadata": {},
   "outputs": [],
   "source": []
  },
  {
   "cell_type": "code",
   "execution_count": null,
   "metadata": {},
   "outputs": [],
   "source": []
  },
  {
   "cell_type": "code",
   "execution_count": null,
   "metadata": {},
   "outputs": [],
   "source": []
  },
  {
   "cell_type": "markdown",
   "metadata": {},
   "source": [
    "***"
   ]
  },
  {
   "cell_type": "code",
   "execution_count": null,
   "metadata": {},
   "outputs": [],
   "source": [
    "#> H2Oクラスターの終了\n",
    "h2o.cluster().shutdown()"
   ]
  }
 ],
 "metadata": {
  "kernelspec": {
   "display_name": "Python 3",
   "language": "python",
   "name": "python3"
  },
  "language_info": {
   "codemirror_mode": {
    "name": "ipython",
    "version": 3
   },
   "file_extension": ".py",
   "mimetype": "text/x-python",
   "name": "python",
   "nbconvert_exporter": "python",
   "pygments_lexer": "ipython3",
   "version": "3.6.12"
  }
 },
 "nbformat": 4,
 "nbformat_minor": 4
}
