{
 "cells": [
  {
   "cell_type": "markdown",
   "metadata": {},
   "source": [
    "## Feature Engineering Deep Dive チュートリアル"
   ]
  },
  {
   "cell_type": "code",
   "execution_count": null,
   "metadata": {},
   "outputs": [],
   "source": []
  },
  {
   "cell_type": "code",
   "execution_count": 1,
   "metadata": {},
   "outputs": [],
   "source": [
    "import h2o\n",
    "import matplotlib as plt\n",
    "%matplotlib inline\n",
    "from h2o.automl import H2OAutoML"
   ]
  },
  {
   "cell_type": "code",
   "execution_count": 3,
   "metadata": {},
   "outputs": [
    {
     "name": "stdout",
     "output_type": "stream",
     "text": [
      "Checking whether there is an H2O instance running at http://localhost:54321 ..... not found.\n",
      "Attempting to start a local H2O server...\n",
      "  Java Version: java version \"1.8.0_261\"; Java(TM) SE Runtime Environment (build 1.8.0_261-b12); Java HotSpot(TM) 64-Bit Server VM (build 25.261-b12, mixed mode)\n",
      "  Starting server from /home/ec2-user/anaconda3/envs/h2o_3/lib/python3.6/site-packages/h2o/backend/bin/h2o.jar\n",
      "  Ice root: /tmp/tmpiovt3p_5\n",
      "  JVM stdout: /tmp/tmpiovt3p_5/h2o_ec2_user_started_from_python.out\n",
      "  JVM stderr: /tmp/tmpiovt3p_5/h2o_ec2_user_started_from_python.err\n",
      "  Server is running at http://127.0.0.1:54321\n",
      "Connecting to H2O server at http://127.0.0.1:54321 ... successful.\n"
     ]
    },
    {
     "data": {
      "text/html": [
       "<div style=\"overflow:auto\"><table style=\"width:50%\"><tr><td>H2O_cluster_uptime:</td>\n",
       "<td>02 secs</td></tr>\n",
       "<tr><td>H2O_cluster_timezone:</td>\n",
       "<td>Asia/Tokyo</td></tr>\n",
       "<tr><td>H2O_data_parsing_timezone:</td>\n",
       "<td>UTC</td></tr>\n",
       "<tr><td>H2O_cluster_version:</td>\n",
       "<td>3.30.1.2</td></tr>\n",
       "<tr><td>H2O_cluster_version_age:</td>\n",
       "<td>1 month and 2 days </td></tr>\n",
       "<tr><td>H2O_cluster_name:</td>\n",
       "<td>H2O_from_python_ec2_user_n5ntwl</td></tr>\n",
       "<tr><td>H2O_cluster_total_nodes:</td>\n",
       "<td>1</td></tr>\n",
       "<tr><td>H2O_cluster_free_memory:</td>\n",
       "<td>3.399 Gb</td></tr>\n",
       "<tr><td>H2O_cluster_total_cores:</td>\n",
       "<td>4</td></tr>\n",
       "<tr><td>H2O_cluster_allowed_cores:</td>\n",
       "<td>4</td></tr>\n",
       "<tr><td>H2O_cluster_status:</td>\n",
       "<td>accepting new members, healthy</td></tr>\n",
       "<tr><td>H2O_connection_url:</td>\n",
       "<td>http://127.0.0.1:54321</td></tr>\n",
       "<tr><td>H2O_connection_proxy:</td>\n",
       "<td>{\"http\": null, \"https\": null}</td></tr>\n",
       "<tr><td>H2O_internal_security:</td>\n",
       "<td>False</td></tr>\n",
       "<tr><td>H2O_API_Extensions:</td>\n",
       "<td>Amazon S3, XGBoost, Algos, AutoML, Core V3, TargetEncoder, Core V4</td></tr>\n",
       "<tr><td>Python_version:</td>\n",
       "<td>3.6.12 final</td></tr></table></div>"
      ],
      "text/plain": [
       "--------------------------  ------------------------------------------------------------------\n",
       "H2O_cluster_uptime:         02 secs\n",
       "H2O_cluster_timezone:       Asia/Tokyo\n",
       "H2O_data_parsing_timezone:  UTC\n",
       "H2O_cluster_version:        3.30.1.2\n",
       "H2O_cluster_version_age:    1 month and 2 days\n",
       "H2O_cluster_name:           H2O_from_python_ec2_user_n5ntwl\n",
       "H2O_cluster_total_nodes:    1\n",
       "H2O_cluster_free_memory:    3.399 Gb\n",
       "H2O_cluster_total_cores:    4\n",
       "H2O_cluster_allowed_cores:  4\n",
       "H2O_cluster_status:         accepting new members, healthy\n",
       "H2O_connection_url:         http://127.0.0.1:54321\n",
       "H2O_connection_proxy:       {\"http\": null, \"https\": null}\n",
       "H2O_internal_security:      False\n",
       "H2O_API_Extensions:         Amazon S3, XGBoost, Algos, AutoML, Core V3, TargetEncoder, Core V4\n",
       "Python_version:             3.6.12 final\n",
       "--------------------------  ------------------------------------------------------------------"
      ]
     },
     "metadata": {},
     "output_type": "display_data"
    }
   ],
   "source": [
    "#> H2Oクラスターの開始\n",
    "h2o.init(url='http://localhost:54321')"
   ]
  },
  {
   "cell_type": "markdown",
   "metadata": {},
   "source": [
    "### 1. データの読み込みと確認"
   ]
  },
  {
   "cell_type": "code",
   "execution_count": 5,
   "metadata": {},
   "outputs": [
    {
     "name": "stdout",
     "output_type": "stream",
     "text": [
      "Parse progress: |█████████████████████████████████████████████████████████| 100%\n"
     ]
    }
   ],
   "source": [
    "#> データのロード\n",
    "loans = h2o.import_file(\"https://sample-data-open.s3-ap-northeast-1.amazonaws.com/h2o_sample_loan/loan.csv\")"
   ]
  },
  {
   "cell_type": "code",
   "execution_count": 6,
   "metadata": {},
   "outputs": [
    {
     "name": "stdout",
     "output_type": "stream",
     "text": [
      "Rows:163987\n",
      "Cols:15\n",
      "\n",
      "\n"
     ]
    },
    {
     "data": {
      "text/html": [
       "<table>\n",
       "<thead>\n",
       "<tr><th>       </th><th>loan_amnt         </th><th>term     </th><th>int_rate          </th><th>emp_length       </th><th>home_ownership  </th><th>annual_inc       </th><th>purpose           </th><th>addr_state  </th><th>dti               </th><th>delinq_2yrs       </th><th>revol_util        </th><th>total_acc         </th><th>bad_loan          </th><th>longest_credit_length  </th><th>verification_status  </th></tr>\n",
       "</thead>\n",
       "<tbody>\n",
       "<tr><td>type   </td><td>int               </td><td>enum     </td><td>real              </td><td>int              </td><td>enum            </td><td>real             </td><td>enum              </td><td>enum        </td><td>real              </td><td>int               </td><td>real              </td><td>int               </td><td>int               </td><td>int                    </td><td>enum                 </td></tr>\n",
       "<tr><td>mins   </td><td>500.0             </td><td>         </td><td>5.42              </td><td>0.0              </td><td>                </td><td>1896.0           </td><td>                  </td><td>            </td><td>0.0               </td><td>0.0               </td><td>0.0               </td><td>1.0               </td><td>0.0               </td><td>0.0                    </td><td>                     </td></tr>\n",
       "<tr><td>mean   </td><td>13074.169141456336</td><td>         </td><td>13.715904065566168</td><td>5.684352932995333</td><td>                </td><td>71915.67051974915</td><td>                  </td><td>            </td><td>15.881530121290089</td><td>0.2273570060625282</td><td>54.07917280242262 </td><td>24.57973383427463 </td><td>0.1830388994249544</td><td>14.854273655448353     </td><td>                     </td></tr>\n",
       "<tr><td>maxs   </td><td>35000.0           </td><td>         </td><td>26.06             </td><td>10.0             </td><td>                </td><td>7141778.0        </td><td>                  </td><td>            </td><td>39.99             </td><td>29.0              </td><td>150.70000000000002</td><td>118.0             </td><td>1.0               </td><td>65.0                   </td><td>                     </td></tr>\n",
       "<tr><td>sigma  </td><td>7993.556188734652 </td><td>         </td><td>4.3919398705457935</td><td>3.610663731100237</td><td>                </td><td>59070.91565491827</td><td>                  </td><td>            </td><td>7.587668224192549 </td><td>0.694167922928418 </td><td>25.285366766770515</td><td>11.685190365910659</td><td>0.3866995896078875</td><td>6.947732922546697      </td><td>                     </td></tr>\n",
       "<tr><td>zeros  </td><td>0                 </td><td>         </td><td>0                 </td><td>14248            </td><td>                </td><td>0                </td><td>                  </td><td>            </td><td>270               </td><td>139459            </td><td>1562              </td><td>0                 </td><td>133971            </td><td>11                     </td><td>                     </td></tr>\n",
       "<tr><td>missing</td><td>0                 </td><td>0        </td><td>0                 </td><td>5804             </td><td>0               </td><td>4                </td><td>0                 </td><td>0           </td><td>0                 </td><td>29                </td><td>193               </td><td>29                </td><td>0                 </td><td>29                     </td><td>0                    </td></tr>\n",
       "<tr><td>0      </td><td>5000.0            </td><td>36 months</td><td>10.65             </td><td>10.0             </td><td>RENT            </td><td>24000.0          </td><td>credit_card       </td><td>AZ          </td><td>27.65             </td><td>0.0               </td><td>83.7              </td><td>9.0               </td><td>0.0               </td><td>26.0                   </td><td>verified             </td></tr>\n",
       "<tr><td>1      </td><td>2500.0            </td><td>60 months</td><td>15.27             </td><td>0.0              </td><td>RENT            </td><td>30000.0          </td><td>car               </td><td>GA          </td><td>1.0               </td><td>0.0               </td><td>9.4               </td><td>4.0               </td><td>1.0               </td><td>12.0                   </td><td>verified             </td></tr>\n",
       "<tr><td>2      </td><td>2400.0            </td><td>36 months</td><td>15.96             </td><td>10.0             </td><td>RENT            </td><td>12252.0          </td><td>small_business    </td><td>IL          </td><td>8.72              </td><td>0.0               </td><td>98.5              </td><td>10.0              </td><td>0.0               </td><td>10.0                   </td><td>not verified         </td></tr>\n",
       "<tr><td>3      </td><td>10000.0           </td><td>36 months</td><td>13.49             </td><td>10.0             </td><td>RENT            </td><td>49200.0          </td><td>other             </td><td>CA          </td><td>20.0              </td><td>0.0               </td><td>21.0              </td><td>37.0              </td><td>0.0               </td><td>15.0                   </td><td>verified             </td></tr>\n",
       "<tr><td>4      </td><td>5000.0            </td><td>36 months</td><td>7.9               </td><td>3.0              </td><td>RENT            </td><td>36000.0          </td><td>wedding           </td><td>AZ          </td><td>11.2              </td><td>0.0               </td><td>28.3              </td><td>12.0              </td><td>0.0               </td><td>7.0                    </td><td>verified             </td></tr>\n",
       "<tr><td>5      </td><td>3000.0            </td><td>36 months</td><td>18.64             </td><td>9.0              </td><td>RENT            </td><td>48000.0          </td><td>car               </td><td>CA          </td><td>5.3500000000000005</td><td>0.0               </td><td>87.5              </td><td>4.0               </td><td>0.0               </td><td>4.0                    </td><td>verified             </td></tr>\n",
       "<tr><td>6      </td><td>5600.0            </td><td>60 months</td><td>21.28             </td><td>4.0              </td><td>OWN             </td><td>40000.0          </td><td>small_business    </td><td>CA          </td><td>5.55              </td><td>0.0               </td><td>32.6              </td><td>13.0              </td><td>1.0               </td><td>7.0                    </td><td>verified             </td></tr>\n",
       "<tr><td>7      </td><td>5375.0            </td><td>60 months</td><td>12.69             </td><td>0.0              </td><td>RENT            </td><td>15000.0          </td><td>other             </td><td>TX          </td><td>18.08             </td><td>0.0               </td><td>36.5              </td><td>3.0               </td><td>1.0               </td><td>7.0                    </td><td>verified             </td></tr>\n",
       "<tr><td>8      </td><td>6500.0            </td><td>60 months</td><td>14.65             </td><td>5.0              </td><td>OWN             </td><td>72000.0          </td><td>debt_consolidation</td><td>AZ          </td><td>16.12             </td><td>0.0               </td><td>20.6              </td><td>23.0              </td><td>0.0               </td><td>13.0                   </td><td>not verified         </td></tr>\n",
       "<tr><td>9      </td><td>12000.0           </td><td>36 months</td><td>12.69             </td><td>10.0             </td><td>OWN             </td><td>75000.0          </td><td>debt_consolidation</td><td>CA          </td><td>10.78             </td><td>0.0               </td><td>67.10000000000001 </td><td>34.0              </td><td>0.0               </td><td>22.0                   </td><td>verified             </td></tr>\n",
       "</tbody>\n",
       "</table>"
      ]
     },
     "metadata": {},
     "output_type": "display_data"
    }
   ],
   "source": [
    "loans.describe()"
   ]
  },
  {
   "attachments": {},
   "cell_type": "markdown",
   "metadata": {},
   "source": [
    "#### データに関して\n",
    "\n",
    "[LendingClub](https://www.lendingclub.com/info/statistics.action)データに対しデータクレンジングと簡素化を実施したもの\n",
    "\n",
    "|Id  | Column Name | Description | 説明 |\n",
    "|:---|:----------------------|:-------------------|:-------------------|\n",
    "|1   | loan_amnt             | Requested loan amount (US dollars)       | 申し込まれたローンの額(USD) |\n",
    "|2   | term                  | Loan term length (months)       | 申し込まれたローン期間(月) |\n",
    "|3   | int_rate              | Recommended interest rate       | 貸出金利 |\n",
    "|4   | emp_length            | Employment length (years)       | 継続雇用期間(年) |\n",
    "|5   | home_ownership        | Housing status       | 住居形態 |\n",
    "|6   | annual_inc            | Annual income (US dollars)       | 年収(USD) |\n",
    "|7   | purpose               | Purpose for the loan       | ローン借り入れ理由 |\n",
    "|8   | addr_state            | State of residence       | 居住州 |\n",
    "|9   | dti                   | Debt to income ratio       | 負債比率(%)（既存のローンの返済額を借り手の月収で割った率） |\n",
    "|10  | delinq_2yrs           | Number of delinquencies in the past 2 years       | 過去2年における滞納回数 |\n",
    "|11  | revol_util            | Percent of revolving credit line utilized       | リボルビングクレジット利用率(%) |\n",
    "|12  | total_acc             | Number of active accounts       | アクティブなアカウント数 |\n",
    "|13  | bad_loan              | Bad loan indicator       | 不良貸し付け |\n",
    "|14  | longest_credit_length | Age of oldest active account       | 最長のアクティブなアカウント(年) |\n",
    "|15  | verification_status   | Income verification status       | 所得確認状況 |\n",
    "\n",
    "参考：[Lending Club Loan Analysis](Lending Club Loan Analysis) on Kaggle Notebook\n",
    "\n",
    "`bad_loan`をターゲットとしてモデル作成"
   ]
  },
  {
   "cell_type": "code",
   "execution_count": 9,
   "metadata": {},
   "outputs": [
    {
     "data": {
      "text/html": [
       "<table>\n",
       "<thead>\n",
       "<tr><th style=\"text-align: right;\">  bad_loan</th><th style=\"text-align: right;\">  Count</th></tr>\n",
       "</thead>\n",
       "<tbody>\n",
       "<tr><td style=\"text-align: right;\">         0</td><td style=\"text-align: right;\"> 133971</td></tr>\n",
       "<tr><td style=\"text-align: right;\">         1</td><td style=\"text-align: right;\">  30016</td></tr>\n",
       "</tbody>\n",
       "</table>"
      ]
     },
     "metadata": {},
     "output_type": "display_data"
    },
    {
     "data": {
      "text/plain": []
     },
     "execution_count": 9,
     "metadata": {},
     "output_type": "execute_result"
    }
   ],
   "source": [
    "loans['bad_loan'].table()"
   ]
  },
  {
   "cell_type": "code",
   "execution_count": 7,
   "metadata": {},
   "outputs": [
    {
     "name": "stdout",
     "output_type": "stream",
     "text": [
      "＜train/testのデータ数＞\n",
      "train:131248 test:32739\n"
     ]
    }
   ],
   "source": [
    "#> 学習/テストデータセットへの分割（学習 :  テスト = 80% : 20% ）\n",
    "train, test = loans.split_frame([0.8], seed=12345)\n",
    "print(\"＜train/testのデータ数＞\")\n",
    "print(\"train:%d test:%d\" % (train.nrows, test.nrows))"
   ]
  },
  {
   "cell_type": "markdown",
   "metadata": {},
   "source": [
    "### 2. ベースラインモデルの作成"
   ]
  },
  {
   "cell_type": "code",
   "execution_count": 12,
   "metadata": {},
   "outputs": [
    {
     "data": {
      "text/plain": [
       "['loan_amnt',\n",
       " 'term',\n",
       " 'emp_length',\n",
       " 'home_ownership',\n",
       " 'annual_inc',\n",
       " 'purpose',\n",
       " 'addr_state',\n",
       " 'dti',\n",
       " 'delinq_2yrs',\n",
       " 'revol_util',\n",
       " 'total_acc',\n",
       " 'longest_credit_length',\n",
       " 'verification_status']"
      ]
     },
     "execution_count": 12,
     "metadata": {},
     "output_type": "execute_result"
    }
   ],
   "source": [
    "response = \"bad_loan\"   # ターゲット変数\n",
    "\n",
    "predictors = train.col_names\n",
    "predictors.remove(response)\n",
    "predictors.remove(\"int_rate\")\n",
    "predictors   # 特徴量"
   ]
  },
  {
   "cell_type": "code",
   "execution_count": 13,
   "metadata": {},
   "outputs": [
    {
     "name": "stdout",
     "output_type": "stream",
     "text": [
      "AutoML progress: |████████████████████████████████████████████████████████| 100%\n"
     ]
    }
   ],
   "source": [
    "aml = H2OAutoML(max_models = 6,\n",
    "                max_runtime_secs_per_model = 60,\n",
    "                exclude_algos = ['DRF', 'DeepLearning', 'StackedEnsemble'],\n",
    "                seed = 12345)\n",
    "\n",
    "aml.train(x = predictors, \n",
    "          y = response, \n",
    "          training_frame = train)"
   ]
  },
  {
   "cell_type": "code",
   "execution_count": 15,
   "metadata": {},
   "outputs": [
    {
     "data": {
      "text/html": [
       "<table>\n",
       "<thead>\n",
       "<tr><th>model_id                        </th><th style=\"text-align: right;\">  mean_residual_deviance</th><th style=\"text-align: right;\">    rmse</th><th style=\"text-align: right;\">     mse</th><th style=\"text-align: right;\">     mae</th><th style=\"text-align: right;\">     rmsle</th></tr>\n",
       "</thead>\n",
       "<tbody>\n",
       "<tr><td>GBM_1_AutoML_20201006_132904    </td><td style=\"text-align: right;\">                0.139504</td><td style=\"text-align: right;\">0.373502</td><td style=\"text-align: right;\">0.139504</td><td style=\"text-align: right;\">0.279279</td><td style=\"text-align: right;\">  0.261936</td></tr>\n",
       "<tr><td>GBM_2_AutoML_20201006_132904    </td><td style=\"text-align: right;\">                0.139654</td><td style=\"text-align: right;\">0.373703</td><td style=\"text-align: right;\">0.139654</td><td style=\"text-align: right;\">0.278536</td><td style=\"text-align: right;\">  0.262141</td></tr>\n",
       "<tr><td>XGBoost_3_AutoML_20201006_132904</td><td style=\"text-align: right;\">                0.139812</td><td style=\"text-align: right;\">0.373914</td><td style=\"text-align: right;\">0.139812</td><td style=\"text-align: right;\">0.278655</td><td style=\"text-align: right;\">  0.262403</td></tr>\n",
       "<tr><td>GLM_1_AutoML_20201006_132904    </td><td style=\"text-align: right;\">                0.141137</td><td style=\"text-align: right;\">0.375682</td><td style=\"text-align: right;\">0.141137</td><td style=\"text-align: right;\">0.282978</td><td style=\"text-align: right;\">nan       </td></tr>\n",
       "<tr><td>XGBoost_1_AutoML_20201006_132904</td><td style=\"text-align: right;\">                0.146218</td><td style=\"text-align: right;\">0.382385</td><td style=\"text-align: right;\">0.146218</td><td style=\"text-align: right;\">0.278316</td><td style=\"text-align: right;\">  0.270003</td></tr>\n",
       "<tr><td>XGBoost_2_AutoML_20201006_132904</td><td style=\"text-align: right;\">                0.162962</td><td style=\"text-align: right;\">0.403686</td><td style=\"text-align: right;\">0.162962</td><td style=\"text-align: right;\">0.293458</td><td style=\"text-align: right;\">  0.290704</td></tr>\n",
       "</tbody>\n",
       "</table>"
      ]
     },
     "metadata": {},
     "output_type": "display_data"
    },
    {
     "data": {
      "text/plain": []
     },
     "execution_count": 15,
     "metadata": {},
     "output_type": "execute_result"
    }
   ],
   "source": [
    "aml.leaderboard"
   ]
  },
  {
   "cell_type": "code",
   "execution_count": 16,
   "metadata": {},
   "outputs": [
    {
     "name": "stdout",
     "output_type": "stream",
     "text": [
      "Model Details\n",
      "=============\n",
      "H2OGradientBoostingEstimator :  Gradient Boosting Machine\n",
      "Model Key:  GBM_1_AutoML_20201006_132904\n",
      "\n",
      "\n",
      "Model Summary: \n"
     ]
    },
    {
     "data": {
      "text/html": [
       "<div style=\"overflow:auto\"><table style=\"width:50%\"><tr><td><b></b></td>\n",
       "<td><b>number_of_trees</b></td>\n",
       "<td><b>number_of_internal_trees</b></td>\n",
       "<td><b>model_size_in_bytes</b></td>\n",
       "<td><b>min_depth</b></td>\n",
       "<td><b>max_depth</b></td>\n",
       "<td><b>mean_depth</b></td>\n",
       "<td><b>min_leaves</b></td>\n",
       "<td><b>max_leaves</b></td>\n",
       "<td><b>mean_leaves</b></td></tr>\n",
       "<tr><td></td>\n",
       "<td>49.0</td>\n",
       "<td>49.0</td>\n",
       "<td>45411.0</td>\n",
       "<td>6.0</td>\n",
       "<td>6.0</td>\n",
       "<td>6.0</td>\n",
       "<td>33.0</td>\n",
       "<td>64.0</td>\n",
       "<td>59.02041</td></tr></table></div>"
      ],
      "text/plain": [
       "    number_of_trees    number_of_internal_trees    model_size_in_bytes    min_depth    max_depth    mean_depth    min_leaves    max_leaves    mean_leaves\n",
       "--  -----------------  --------------------------  ---------------------  -----------  -----------  ------------  ------------  ------------  -------------\n",
       "    49                 49                          45411                  6            6            6             33            64            59.0204"
      ]
     },
     "metadata": {},
     "output_type": "display_data"
    },
    {
     "name": "stdout",
     "output_type": "stream",
     "text": [
      "\n",
      "\n",
      "ModelMetricsRegression: gbm\n",
      "** Reported on train data. **\n",
      "\n",
      "MSE: 0.13373745179615754\n",
      "RMSE: 0.36570131500468733\n",
      "MAE: 0.27346287726909746\n",
      "RMSLE: 0.25583903320918744\n",
      "Mean Residual Deviance: 0.13373745179615754\n",
      "\n",
      "ModelMetricsRegression: gbm\n",
      "** Reported on cross-validation data. **\n",
      "\n",
      "MSE: 0.13950370194645625\n",
      "RMSE: 0.37350194369836454\n",
      "MAE: 0.2792793761249456\n",
      "RMSLE: 0.26193574601277086\n",
      "Mean Residual Deviance: 0.13950370194645625\n",
      "\n",
      "Cross-Validation Metrics Summary: \n"
     ]
    },
    {
     "data": {
      "text/html": [
       "<div style=\"overflow:auto\"><table style=\"width:50%\"><tr><td><b></b></td>\n",
       "<td><b>mean</b></td>\n",
       "<td><b>sd</b></td>\n",
       "<td><b>cv_1_valid</b></td>\n",
       "<td><b>cv_2_valid</b></td>\n",
       "<td><b>cv_3_valid</b></td>\n",
       "<td><b>cv_4_valid</b></td>\n",
       "<td><b>cv_5_valid</b></td></tr>\n",
       "<tr><td>mae</td>\n",
       "<td>0.2792794</td>\n",
       "<td>0.0011512</td>\n",
       "<td>0.2774286</td>\n",
       "<td>0.2793406</td>\n",
       "<td>0.2794319</td>\n",
       "<td>0.2806024</td>\n",
       "<td>0.2795933</td></tr>\n",
       "<tr><td>mean_residual_deviance</td>\n",
       "<td>0.1395037</td>\n",
       "<td>0.0010270</td>\n",
       "<td>0.1380415</td>\n",
       "<td>0.1393030</td>\n",
       "<td>0.1392385</td>\n",
       "<td>0.1407036</td>\n",
       "<td>0.1402320</td></tr>\n",
       "<tr><td>mse</td>\n",
       "<td>0.1395037</td>\n",
       "<td>0.0010270</td>\n",
       "<td>0.1380415</td>\n",
       "<td>0.1393030</td>\n",
       "<td>0.1392385</td>\n",
       "<td>0.1407036</td>\n",
       "<td>0.1402320</td></tr>\n",
       "<tr><td>r2</td>\n",
       "<td>0.0645323</td>\n",
       "<td>0.0020242</td>\n",
       "<td>0.0621232</td>\n",
       "<td>0.0630051</td>\n",
       "<td>0.0672377</td>\n",
       "<td>0.0648510</td>\n",
       "<td>0.0654443</td></tr>\n",
       "<tr><td>residual_deviance</td>\n",
       "<td>0.1395037</td>\n",
       "<td>0.0010270</td>\n",
       "<td>0.1380415</td>\n",
       "<td>0.1393030</td>\n",
       "<td>0.1392385</td>\n",
       "<td>0.1407036</td>\n",
       "<td>0.1402320</td></tr>\n",
       "<tr><td>rmse</td>\n",
       "<td>0.3734999</td>\n",
       "<td>0.0013755</td>\n",
       "<td>0.3715393</td>\n",
       "<td>0.3732331</td>\n",
       "<td>0.3731467</td>\n",
       "<td>0.3751048</td>\n",
       "<td>0.3744757</td></tr>\n",
       "<tr><td>rmsle</td>\n",
       "<td>0.2619349</td>\n",
       "<td>0.0007339</td>\n",
       "<td>0.2609292</td>\n",
       "<td>0.2618365</td>\n",
       "<td>0.2617059</td>\n",
       "<td>0.2629116</td>\n",
       "<td>0.2622914</td></tr></table></div>"
      ],
      "text/plain": [
       "                        mean       sd           cv_1_valid    cv_2_valid    cv_3_valid    cv_4_valid    cv_5_valid\n",
       "----------------------  ---------  -----------  ------------  ------------  ------------  ------------  ------------\n",
       "mae                     0.279279   0.00115123   0.277429      0.279341      0.279432      0.280602      0.279593\n",
       "mean_residual_deviance  0.139504   0.00102701   0.138042      0.139303      0.139238      0.140704      0.140232\n",
       "mse                     0.139504   0.00102701   0.138042      0.139303      0.139238      0.140704      0.140232\n",
       "r2                      0.0645323  0.00202415   0.0621232     0.0630051     0.0672377     0.064851      0.0654443\n",
       "residual_deviance       0.139504   0.00102701   0.138042      0.139303      0.139238      0.140704      0.140232\n",
       "rmse                    0.3735     0.00137546   0.371539      0.373233      0.373147      0.375105      0.374476\n",
       "rmsle                   0.261935   0.000733928  0.260929      0.261837      0.261706      0.262912      0.262291"
      ]
     },
     "metadata": {},
     "output_type": "display_data"
    },
    {
     "name": "stdout",
     "output_type": "stream",
     "text": [
      "\n",
      "Scoring History: \n"
     ]
    },
    {
     "data": {
      "text/html": [
       "<div style=\"overflow:auto\"><table style=\"width:50%\"><tr><td><b></b></td>\n",
       "<td><b>timestamp</b></td>\n",
       "<td><b>duration</b></td>\n",
       "<td><b>number_of_trees</b></td>\n",
       "<td><b>training_rmse</b></td>\n",
       "<td><b>training_mae</b></td>\n",
       "<td><b>training_deviance</b></td></tr>\n",
       "<tr><td></td>\n",
       "<td>2020-10-06 13:31:22</td>\n",
       "<td>20.224 sec</td>\n",
       "<td>0.0</td>\n",
       "<td>0.3861761</td>\n",
       "<td>0.2982640</td>\n",
       "<td>0.1491320</td></tr>\n",
       "<tr><td></td>\n",
       "<td>2020-10-06 13:31:22</td>\n",
       "<td>20.771 sec</td>\n",
       "<td>5.0</td>\n",
       "<td>0.3786662</td>\n",
       "<td>0.2915320</td>\n",
       "<td>0.1433881</td></tr>\n",
       "<tr><td></td>\n",
       "<td>2020-10-06 13:31:23</td>\n",
       "<td>21.117 sec</td>\n",
       "<td>10.0</td>\n",
       "<td>0.3744440</td>\n",
       "<td>0.2866263</td>\n",
       "<td>0.1402083</td></tr>\n",
       "<tr><td></td>\n",
       "<td>2020-10-06 13:31:23</td>\n",
       "<td>21.406 sec</td>\n",
       "<td>15.0</td>\n",
       "<td>0.3720746</td>\n",
       "<td>0.2831897</td>\n",
       "<td>0.1384395</td></tr>\n",
       "<tr><td></td>\n",
       "<td>2020-10-06 13:31:23</td>\n",
       "<td>21.698 sec</td>\n",
       "<td>20.0</td>\n",
       "<td>0.3704525</td>\n",
       "<td>0.2804646</td>\n",
       "<td>0.1372350</td></tr>\n",
       "<tr><td></td>\n",
       "<td>2020-10-06 13:31:24</td>\n",
       "<td>21.995 sec</td>\n",
       "<td>25.0</td>\n",
       "<td>0.3692710</td>\n",
       "<td>0.2787076</td>\n",
       "<td>0.1363611</td></tr>\n",
       "<tr><td></td>\n",
       "<td>2020-10-06 13:31:24</td>\n",
       "<td>22.298 sec</td>\n",
       "<td>30.0</td>\n",
       "<td>0.3683839</td>\n",
       "<td>0.2772997</td>\n",
       "<td>0.1357067</td></tr>\n",
       "<tr><td></td>\n",
       "<td>2020-10-06 13:31:24</td>\n",
       "<td>22.597 sec</td>\n",
       "<td>35.0</td>\n",
       "<td>0.3674631</td>\n",
       "<td>0.2758390</td>\n",
       "<td>0.1350291</td></tr>\n",
       "<tr><td></td>\n",
       "<td>2020-10-06 13:31:24</td>\n",
       "<td>22.890 sec</td>\n",
       "<td>40.0</td>\n",
       "<td>0.3667503</td>\n",
       "<td>0.2748920</td>\n",
       "<td>0.1345058</td></tr>\n",
       "<tr><td></td>\n",
       "<td>2020-10-06 13:31:25</td>\n",
       "<td>23.165 sec</td>\n",
       "<td>45.0</td>\n",
       "<td>0.3661122</td>\n",
       "<td>0.2739820</td>\n",
       "<td>0.1340382</td></tr>\n",
       "<tr><td></td>\n",
       "<td>2020-10-06 13:31:25</td>\n",
       "<td>23.393 sec</td>\n",
       "<td>49.0</td>\n",
       "<td>0.3657013</td>\n",
       "<td>0.2734629</td>\n",
       "<td>0.1337375</td></tr></table></div>"
      ],
      "text/plain": [
       "    timestamp            duration    number_of_trees    training_rmse    training_mae    training_deviance\n",
       "--  -------------------  ----------  -----------------  ---------------  --------------  -------------------\n",
       "    2020-10-06 13:31:22  20.224 sec  0                  0.386176         0.298264        0.149132\n",
       "    2020-10-06 13:31:22  20.771 sec  5                  0.378666         0.291532        0.143388\n",
       "    2020-10-06 13:31:23  21.117 sec  10                 0.374444         0.286626        0.140208\n",
       "    2020-10-06 13:31:23  21.406 sec  15                 0.372075         0.28319         0.138439\n",
       "    2020-10-06 13:31:23  21.698 sec  20                 0.370452         0.280465        0.137235\n",
       "    2020-10-06 13:31:24  21.995 sec  25                 0.369271         0.278708        0.136361\n",
       "    2020-10-06 13:31:24  22.298 sec  30                 0.368384         0.2773          0.135707\n",
       "    2020-10-06 13:31:24  22.597 sec  35                 0.367463         0.275839        0.135029\n",
       "    2020-10-06 13:31:24  22.890 sec  40                 0.36675          0.274892        0.134506\n",
       "    2020-10-06 13:31:25  23.165 sec  45                 0.366112         0.273982        0.134038\n",
       "    2020-10-06 13:31:25  23.393 sec  49                 0.365701         0.273463        0.133737"
      ]
     },
     "metadata": {},
     "output_type": "display_data"
    },
    {
     "name": "stdout",
     "output_type": "stream",
     "text": [
      "\n",
      "Variable Importances: \n"
     ]
    },
    {
     "data": {
      "text/html": [
       "<div style=\"overflow:auto\"><table style=\"width:50%\"><tr><td><b>variable</b></td>\n",
       "<td><b>relative_importance</b></td>\n",
       "<td><b>scaled_importance</b></td>\n",
       "<td><b>percentage</b></td></tr>\n",
       "<tr><td>term</td>\n",
       "<td>1995.3569336</td>\n",
       "<td>1.0</td>\n",
       "<td>0.2032696</td></tr>\n",
       "<tr><td>addr_state</td>\n",
       "<td>1931.6018066</td>\n",
       "<td>0.9680483</td>\n",
       "<td>0.1967748</td></tr>\n",
       "<tr><td>annual_inc</td>\n",
       "<td>1269.1815186</td>\n",
       "<td>0.6360674</td>\n",
       "<td>0.1292932</td></tr>\n",
       "<tr><td>revol_util</td>\n",
       "<td>1115.3443604</td>\n",
       "<td>0.5589698</td>\n",
       "<td>0.1136216</td></tr>\n",
       "<tr><td>dti</td>\n",
       "<td>904.6354370</td>\n",
       "<td>0.4533702</td>\n",
       "<td>0.0921564</td></tr>\n",
       "<tr><td>purpose</td>\n",
       "<td>861.2447510</td>\n",
       "<td>0.4316244</td>\n",
       "<td>0.0877361</td></tr>\n",
       "<tr><td>loan_amnt</td>\n",
       "<td>621.8223267</td>\n",
       "<td>0.3116346</td>\n",
       "<td>0.0633459</td></tr>\n",
       "<tr><td>longest_credit_length</td>\n",
       "<td>237.9829712</td>\n",
       "<td>0.1192684</td>\n",
       "<td>0.0242436</td></tr>\n",
       "<tr><td>total_acc</td>\n",
       "<td>236.8121033</td>\n",
       "<td>0.1186816</td>\n",
       "<td>0.0241244</td></tr>\n",
       "<tr><td>emp_length</td>\n",
       "<td>225.9337769</td>\n",
       "<td>0.1132298</td>\n",
       "<td>0.0230162</td></tr>\n",
       "<tr><td>home_ownership</td>\n",
       "<td>213.3067780</td>\n",
       "<td>0.1069016</td>\n",
       "<td>0.0217298</td></tr>\n",
       "<tr><td>delinq_2yrs</td>\n",
       "<td>138.4078522</td>\n",
       "<td>0.0693650</td>\n",
       "<td>0.0140998</td></tr>\n",
       "<tr><td>verification_status</td>\n",
       "<td>64.6754837</td>\n",
       "<td>0.0324130</td>\n",
       "<td>0.0065886</td></tr></table></div>"
      ],
      "text/plain": [
       "variable               relative_importance    scaled_importance    percentage\n",
       "---------------------  ---------------------  -------------------  ------------\n",
       "term                   1995.36                1                    0.20327\n",
       "addr_state             1931.6                 0.968048             0.196775\n",
       "annual_inc             1269.18                0.636067             0.129293\n",
       "revol_util             1115.34                0.55897              0.113622\n",
       "dti                    904.635                0.45337              0.0921564\n",
       "purpose                861.245                0.431624             0.0877361\n",
       "loan_amnt              621.822                0.311635             0.0633459\n",
       "longest_credit_length  237.983                0.119268             0.0242436\n",
       "total_acc              236.812                0.118682             0.0241244\n",
       "emp_length             225.934                0.11323              0.0230162\n",
       "home_ownership         213.307                0.106902             0.0217298\n",
       "delinq_2yrs            138.408                0.069365             0.0140998\n",
       "verification_status    64.6755                0.032413             0.00658858"
      ]
     },
     "metadata": {},
     "output_type": "display_data"
    },
    {
     "data": {
      "text/plain": []
     },
     "execution_count": 16,
     "metadata": {},
     "output_type": "execute_result"
    }
   ],
   "source": [
    "aml.leader"
   ]
  },
  {
   "cell_type": "code",
   "execution_count": null,
   "metadata": {},
   "outputs": [],
   "source": []
  }
 ],
 "metadata": {
  "kernelspec": {
   "display_name": "Python 3",
   "language": "python",
   "name": "python3"
  },
  "language_info": {
   "codemirror_mode": {
    "name": "ipython",
    "version": 3
   },
   "file_extension": ".py",
   "mimetype": "text/x-python",
   "name": "python",
   "nbconvert_exporter": "python",
   "pygments_lexer": "ipython3",
   "version": "3.6.12"
  }
 },
 "nbformat": 4,
 "nbformat_minor": 4
}
