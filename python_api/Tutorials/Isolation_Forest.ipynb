{
 "cells": [
  {
   "cell_type": "markdown",
   "metadata": {},
   "source": [
    "## Isolation Forest"
   ]
  },
  {
   "cell_type": "markdown",
   "metadata": {},
   "source": [
    "[Document](https://docs.h2o.ai/h2o/latest-stable/h2o-docs/data-science/if.html)  \n",
    "[Python-API](https://docs.h2o.ai/h2o/latest-stable/h2o-py/docs/modeling.html#h2oisolationforestestimator)  \n",
    "[Blog](https://www.h2o.ai/blog/anomaly-detection-with-isolation-forests-using-h2o/)  \n",
    "[Official Github](https://github.com/h2oai/h2o-tutorials/tree/master/tutorials/isolation-forest)"
   ]
  },
  {
   "cell_type": "code",
   "execution_count": null,
   "metadata": {},
   "outputs": [],
   "source": []
  },
  {
   "cell_type": "code",
   "execution_count": 10,
   "metadata": {},
   "outputs": [
    {
     "name": "stdout",
     "output_type": "stream",
     "text": [
      "3.30.1.3\n"
     ]
    }
   ],
   "source": [
    "import h2o\n",
    "print(h2o.__version__)"
   ]
  },
  {
   "cell_type": "code",
   "execution_count": 2,
   "metadata": {},
   "outputs": [
    {
     "name": "stdout",
     "output_type": "stream",
     "text": [
      "Checking whether there is an H2O instance running at http://localhost:54321 ..... not found.\n",
      "Attempting to start a local H2O server...\n",
      "  Java Version: java version \"11.0.9\" 2020-10-20 LTS; Java(TM) SE Runtime Environment 18.9 (build 11.0.9+7-LTS); Java HotSpot(TM) 64-Bit Server VM 18.9 (build 11.0.9+7-LTS, mixed mode)\n",
      "  Starting server from /Users/YShimada-MBP16/.conda/envs/H2O_3/lib/python3.6/site-packages/h2o/backend/bin/h2o.jar\n",
      "  Ice root: /var/folders/50/glkvvhjx03g22fwy2r0tgylr0000gn/T/tmpwot9nfi1\n",
      "  JVM stdout: /var/folders/50/glkvvhjx03g22fwy2r0tgylr0000gn/T/tmpwot9nfi1/h2o_YShimada_MBP16_started_from_python.out\n",
      "  JVM stderr: /var/folders/50/glkvvhjx03g22fwy2r0tgylr0000gn/T/tmpwot9nfi1/h2o_YShimada_MBP16_started_from_python.err\n",
      "  Server is running at http://127.0.0.1:54321\n",
      "Connecting to H2O server at http://127.0.0.1:54321 ... successful.\n"
     ]
    },
    {
     "data": {
      "text/html": [
       "<div style=\"overflow:auto\"><table style=\"width:50%\"><tr><td>H2O_cluster_uptime:</td>\n",
       "<td>02 secs</td></tr>\n",
       "<tr><td>H2O_cluster_timezone:</td>\n",
       "<td>Asia/Tokyo</td></tr>\n",
       "<tr><td>H2O_data_parsing_timezone:</td>\n",
       "<td>UTC</td></tr>\n",
       "<tr><td>H2O_cluster_version:</td>\n",
       "<td>3.30.1.3</td></tr>\n",
       "<tr><td>H2O_cluster_version_age:</td>\n",
       "<td>1 month and 20 days </td></tr>\n",
       "<tr><td>H2O_cluster_name:</td>\n",
       "<td>H2O_from_python_YShimada_MBP16_3tych9</td></tr>\n",
       "<tr><td>H2O_cluster_total_nodes:</td>\n",
       "<td>1</td></tr>\n",
       "<tr><td>H2O_cluster_free_memory:</td>\n",
       "<td>8 Gb</td></tr>\n",
       "<tr><td>H2O_cluster_total_cores:</td>\n",
       "<td>16</td></tr>\n",
       "<tr><td>H2O_cluster_allowed_cores:</td>\n",
       "<td>16</td></tr>\n",
       "<tr><td>H2O_cluster_status:</td>\n",
       "<td>accepting new members, healthy</td></tr>\n",
       "<tr><td>H2O_connection_url:</td>\n",
       "<td>http://127.0.0.1:54321</td></tr>\n",
       "<tr><td>H2O_connection_proxy:</td>\n",
       "<td>{\"http\": null, \"https\": null}</td></tr>\n",
       "<tr><td>H2O_internal_security:</td>\n",
       "<td>False</td></tr>\n",
       "<tr><td>H2O_API_Extensions:</td>\n",
       "<td>Amazon S3, XGBoost, Algos, AutoML, Core V3, TargetEncoder, Core V4</td></tr>\n",
       "<tr><td>Python_version:</td>\n",
       "<td>3.6.12 final</td></tr></table></div>"
      ],
      "text/plain": [
       "--------------------------  ------------------------------------------------------------------\n",
       "H2O_cluster_uptime:         02 secs\n",
       "H2O_cluster_timezone:       Asia/Tokyo\n",
       "H2O_data_parsing_timezone:  UTC\n",
       "H2O_cluster_version:        3.30.1.3\n",
       "H2O_cluster_version_age:    1 month and 20 days\n",
       "H2O_cluster_name:           H2O_from_python_YShimada_MBP16_3tych9\n",
       "H2O_cluster_total_nodes:    1\n",
       "H2O_cluster_free_memory:    8 Gb\n",
       "H2O_cluster_total_cores:    16\n",
       "H2O_cluster_allowed_cores:  16\n",
       "H2O_cluster_status:         accepting new members, healthy\n",
       "H2O_connection_url:         http://127.0.0.1:54321\n",
       "H2O_connection_proxy:       {\"http\": null, \"https\": null}\n",
       "H2O_internal_security:      False\n",
       "H2O_API_Extensions:         Amazon S3, XGBoost, Algos, AutoML, Core V3, TargetEncoder, Core V4\n",
       "Python_version:             3.6.12 final\n",
       "--------------------------  ------------------------------------------------------------------"
      ]
     },
     "metadata": {},
     "output_type": "display_data"
    }
   ],
   "source": [
    "h2o.init()"
   ]
  },
  {
   "cell_type": "code",
   "execution_count": 7,
   "metadata": {},
   "outputs": [],
   "source": [
    "#> 他利用パッケージと、H2O関連モジュールのインポート\n",
    "#import matplotlib as plt    # H2Oモジュールから呼び出される結果の描画で必要\n",
    "#%matplotlib inline\n",
    "\n",
    "#Import the Estimators\n",
    "from h2o.estimators.glm import H2OGeneralizedLinearEstimator\n",
    "from h2o.estimators import H2ORandomForestEstimator\n",
    "from h2o.estimators.gbm import H2OGradientBoostingEstimator\n",
    "\n",
    "#Import h2o grid search \n",
    "import h2o.grid \n",
    "from h2o.grid.grid_search import H2OGridSearch"
   ]
  },
  {
   "cell_type": "code",
   "execution_count": 8,
   "metadata": {},
   "outputs": [
    {
     "name": "stdout",
     "output_type": "stream",
     "text": [
      "Parse progress: |█████████████████████████████████████████████████████████| 100%\n"
     ]
    }
   ],
   "source": [
    "\n",
    "#> データのロード\n",
    "loan_level = h2o.import_file(\"https://s3.amazonaws.com/data.h2o.ai/DAI-Tutorials/loan_level_500k.csv\")"
   ]
  },
  {
   "cell_type": "code",
   "execution_count": 9,
   "metadata": {},
   "outputs": [
    {
     "name": "stdout",
     "output_type": "stream",
     "text": [
      "Rows:500137\n",
      "Cols:27\n",
      "\n",
      "\n"
     ]
    },
    {
     "data": {
      "text/html": [
       "<table>\n",
       "<thead>\n",
       "<tr><th>       </th><th>CREDIT_SCORE     </th><th>FIRST_PAYMENT_DATE  </th><th>FIRST_TIME_HOMEBUYER_FLAG  </th><th>MATURITY_DATE     </th><th>METROPOLITAN_STATISTICAL_AREA  </th><th>MORTGAGE_INSURANCE_PERCENTAGE  </th><th>NUMBER_OF_UNITS    </th><th>OCCUPANCY_STATUS  </th><th>ORIGINAL_COMBINED_LOAN_TO_VALUE  </th><th>ORIGINAL_DEBT_TO_INCOME_RATIO  </th><th>ORIGINAL_UPB      </th><th>ORIGINAL_LOAN_TO_VALUE  </th><th>ORIGINAL_INTEREST_RATE  </th><th>CHANNEL  </th><th>PREPAYMENT_PENALTY_MORTGAGE_FLAG  </th><th>PRODUCT_TYPE  </th><th>PROPERTY_STATE  </th><th>PROPERTY_TYPE  </th><th>POSTAL_CODE       </th><th>LOAN_SEQUENCE_NUMBER  </th><th>LOAN_PURPOSE  </th><th>ORIGINAL_LOAN_TERM  </th><th>NUMBER_OF_BORROWERS  </th><th>SELLER_NAME  </th><th>SERVICER_NAME  </th><th>PREPAID  </th><th>DELINQUENT  </th></tr>\n",
       "</thead>\n",
       "<tbody>\n",
       "<tr><td>type   </td><td>int              </td><td>int                 </td><td>enum                       </td><td>int               </td><td>int                            </td><td>int                            </td><td>int                </td><td>enum              </td><td>int                              </td><td>int                            </td><td>int               </td><td>int                     </td><td>real                    </td><td>enum     </td><td>enum                              </td><td>enum          </td><td>enum            </td><td>enum           </td><td>int               </td><td>string                </td><td>enum          </td><td>int                 </td><td>int                  </td><td>enum         </td><td>enum           </td><td>enum     </td><td>enum        </td></tr>\n",
       "<tr><td>mins   </td><td>300.0            </td><td>199901.0            </td><td>                           </td><td>202402.0          </td><td>10180.0                        </td><td>0.0                            </td><td>1.0                </td><td>                  </td><td>6.0                              </td><td>1.0                            </td><td>8000.0            </td><td>6.0                     </td><td>4.625                   </td><td>         </td><td>                                  </td><td>              </td><td>                </td><td>               </td><td>600.0             </td><td>NaN                   </td><td>              </td><td>301.0               </td><td>1.0                  </td><td>             </td><td>               </td><td>         </td><td>            </td></tr>\n",
       "<tr><td>mean   </td><td>712.5362124215458</td><td>200025.4309519192   </td><td>                           </td><td>203023.19587233098</td><td>30777.824739295047             </td><td>7.744531707523455              </td><td>1.0288902574110144 </td><td>                  </td><td>76.05357071446284                </td><td>32.917540518705394             </td><td>136493.48478516893</td><td>75.7107140572013        </td><td>7.182686863799317       </td><td>         </td><td>                                  </td><td>              </td><td>                </td><td>               </td><td>55490.857138286694</td><td>NaN                   </td><td>              </td><td>359.8554696013292   </td><td>1.6302946648262613   </td><td>             </td><td>               </td><td>         </td><td>            </td></tr>\n",
       "<tr><td>maxs   </td><td>839.0            </td><td>201103.0            </td><td>                           </td><td>204101.0          </td><td>49740.0                        </td><td>55.0                           </td><td>4.0                </td><td>                  </td><td>180.0                            </td><td>65.0                           </td><td>578000.0          </td><td>100.0                   </td><td>11.5                    </td><td>         </td><td>                                  </td><td>              </td><td>                </td><td>               </td><td>99900.0           </td><td>NaN                   </td><td>              </td><td>362.0               </td><td>2.0                  </td><td>             </td><td>               </td><td>         </td><td>            </td></tr>\n",
       "<tr><td>sigma  </td><td>54.79126197408833</td><td>109.81554141521666  </td><td>                           </td><td>110.38418855758627</td><td>11333.401144164463             </td><td>12.046545969492563             </td><td>0.21839057355939087</td><td>                  </td><td>15.139986048512696               </td><td>11.111799994455252             </td><td>60968.74306564563 </td><td>14.93771708896868       </td><td>0.5799408623980542      </td><td>         </td><td>                                  </td><td>              </td><td>                </td><td>               </td><td>29505.38225880303 </td><td>NaN                   </td><td>              </td><td>1.90825071041874    </td><td>0.48272535304031633  </td><td>             </td><td>               </td><td>         </td><td>            </td></tr>\n",
       "<tr><td>zeros  </td><td>0                </td><td>0                   </td><td>                           </td><td>0                 </td><td>0                              </td><td>309979                         </td><td>0                  </td><td>                  </td><td>0                                </td><td>0                              </td><td>0                 </td><td>0                       </td><td>0                       </td><td>         </td><td>                                  </td><td>              </td><td>                </td><td>               </td><td>0                 </td><td>0                     </td><td>              </td><td>0                   </td><td>0                    </td><td>             </td><td>               </td><td>         </td><td>            </td></tr>\n",
       "<tr><td>missing</td><td>2711             </td><td>0                   </td><td>0                          </td><td>0                 </td><td>70149                          </td><td>51048                          </td><td>3                  </td><td>0                 </td><td>13                               </td><td>14929                          </td><td>0                 </td><td>9                       </td><td>0                       </td><td>0        </td><td>0                                 </td><td>0             </td><td>0               </td><td>0              </td><td>31                </td><td>0                     </td><td>0             </td><td>0                   </td><td>247                  </td><td>0            </td><td>0              </td><td>0        </td><td>0           </td></tr>\n",
       "<tr><td>0      </td><td>669.0            </td><td>200206.0            </td><td>N                          </td><td>202901.0          </td><td>nan                            </td><td>0.0                            </td><td>1.0                </td><td>O                 </td><td>80.0                             </td><td>33.0                           </td><td>162000.0          </td><td>80.0                    </td><td>7.12                    </td><td>R        </td><td>N                                 </td><td>FRM           </td><td>WV              </td><td>SF             </td><td>26100.0           </td><td>F199Q1000004          </td><td>P             </td><td>320.0               </td><td>2.0                  </td><td>Other sellers</td><td>Other servicers</td><td>TRUE     </td><td>FALSE       </td></tr>\n",
       "<tr><td>1      </td><td>732.0            </td><td>199904.0            </td><td>N                          </td><td>202903.0          </td><td>17140.0                        </td><td>0.0                            </td><td>1.0                </td><td>O                 </td><td>25.0                             </td><td>10.0                           </td><td>53000.0           </td><td>25.0                    </td><td>6.5                     </td><td>R        </td><td>N                                 </td><td>FRM           </td><td>OH              </td><td>SF             </td><td>45200.0           </td><td>F199Q1000005          </td><td>N             </td><td>360.0               </td><td>1.0                  </td><td>Other sellers</td><td>Other servicers</td><td>TRUE     </td><td>FALSE       </td></tr>\n",
       "<tr><td>2      </td><td>679.0            </td><td>200208.0            </td><td>N                          </td><td>202902.0          </td><td>15940.0                        </td><td>30.0                           </td><td>1.0                </td><td>O                 </td><td>91.0                             </td><td>48.0                           </td><td>133000.0          </td><td>91.0                    </td><td>6.75                    </td><td>R        </td><td>N                                 </td><td>FRM           </td><td>OH              </td><td>SF             </td><td>44700.0           </td><td>F199Q1000007          </td><td>P             </td><td>319.0               </td><td>1.0                  </td><td>Other sellers</td><td>Other servicers</td><td>TRUE     </td><td>FALSE       </td></tr>\n",
       "<tr><td>3      </td><td>721.0            </td><td>200209.0            </td><td>N                          </td><td>202902.0          </td><td>38060.0                        </td><td>0.0                            </td><td>1.0                </td><td>O                 </td><td>39.0                             </td><td>13.0                           </td><td>174000.0          </td><td>39.0                    </td><td>6.625                   </td><td>T        </td><td>N                                 </td><td>FRM           </td><td>AZ              </td><td>SF             </td><td>85200.0           </td><td>F199Q1000013          </td><td>N             </td><td>318.0               </td><td>2.0                  </td><td>Other sellers</td><td>Other servicers</td><td>TRUE     </td><td>FALSE       </td></tr>\n",
       "<tr><td>4      </td><td>618.0            </td><td>200210.0            </td><td>N                          </td><td>202902.0          </td><td>10420.0                        </td><td>25.0                           </td><td>1.0                </td><td>O                 </td><td>85.0                             </td><td>24.0                           </td><td>122000.0          </td><td>85.0                    </td><td>6.375                   </td><td>R        </td><td>N                                 </td><td>FRM           </td><td>OH              </td><td>SF             </td><td>44200.0           </td><td>F199Q1000015          </td><td>N             </td><td>317.0               </td><td>2.0                  </td><td>Other sellers</td><td>Other servicers</td><td>TRUE     </td><td>FALSE       </td></tr>\n",
       "<tr><td>5      </td><td>738.0            </td><td>200211.0            </td><td>N                          </td><td>202903.0          </td><td>10420.0                        </td><td>0.0                            </td><td>1.0                </td><td>O                 </td><td>73.0                             </td><td>44.0                           </td><td>218000.0          </td><td>73.0                    </td><td>6.0                     </td><td>R        </td><td>N                                 </td><td>FRM           </td><td>OH              </td><td>SF             </td><td>44300.0           </td><td>F199Q1000016          </td><td>P             </td><td>317.0               </td><td>2.0                  </td><td>Other sellers</td><td>Other servicers</td><td>TRUE     </td><td>FALSE       </td></tr>\n",
       "<tr><td>6      </td><td>761.0            </td><td>200211.0            </td><td>N                          </td><td>202904.0          </td><td>nan                            </td><td>0.0                            </td><td>1.0                </td><td>O                 </td><td>73.0                             </td><td>31.0                           </td><td>138000.0          </td><td>73.0                    </td><td>6.375                   </td><td>R        </td><td>N                                 </td><td>FRM           </td><td>SC              </td><td>PU             </td><td>29500.0           </td><td>F199Q1000017          </td><td>P             </td><td>318.0               </td><td>2.0                  </td><td>Other sellers</td><td>Other servicers</td><td>TRUE     </td><td>FALSE       </td></tr>\n",
       "<tr><td>7      </td><td>707.0            </td><td>200211.0            </td><td>N                          </td><td>202903.0          </td><td>33340.0                        </td><td>0.0                            </td><td>1.0                </td><td>O                 </td><td>60.0                             </td><td>57.0                           </td><td>136000.0          </td><td>60.0                    </td><td>6.25                    </td><td>R        </td><td>N                                 </td><td>FRM           </td><td>WI              </td><td>SF             </td><td>53000.0           </td><td>F199Q1000018          </td><td>C             </td><td>317.0               </td><td>2.0                  </td><td>Other sellers</td><td>Other servicers</td><td>TRUE     </td><td>FALSE       </td></tr>\n",
       "<tr><td>8      </td><td>760.0            </td><td>200211.0            </td><td>N                          </td><td>202903.0          </td><td>33340.0                        </td><td>0.0                            </td><td>1.0                </td><td>O                 </td><td>63.0                             </td><td>30.0                           </td><td>79000.0           </td><td>63.0                    </td><td>6.125                   </td><td>R        </td><td>N                                 </td><td>FRM           </td><td>WI              </td><td>SF             </td><td>53000.0           </td><td>F199Q1000019          </td><td>N             </td><td>317.0               </td><td>2.0                  </td><td>Other sellers</td><td>Other servicers</td><td>TRUE     </td><td>FALSE       </td></tr>\n",
       "<tr><td>9      </td><td>691.0            </td><td>200302.0            </td><td>N                          </td><td>202901.0          </td><td>15940.0                        </td><td>0.0                            </td><td>1.0                </td><td>O                 </td><td>65.0                             </td><td>25.0                           </td><td>130000.0          </td><td>65.0                    </td><td>5.875                   </td><td>R        </td><td>N                                 </td><td>FRM           </td><td>OH              </td><td>SF             </td><td>44700.0           </td><td>F199Q1000023          </td><td>P             </td><td>312.0               </td><td>2.0                  </td><td>Other sellers</td><td>Other servicers</td><td>TRUE     </td><td>FALSE       </td></tr>\n",
       "</tbody>\n",
       "</table>"
      ]
     },
     "metadata": {},
     "output_type": "display_data"
    }
   ],
   "source": [
    "\n",
    "#> データのサマリ\n",
    "loan_level.describe()"
   ]
  },
  {
   "cell_type": "code",
   "execution_count": null,
   "metadata": {},
   "outputs": [],
   "source": []
  }
 ],
 "metadata": {
  "kernelspec": {
   "display_name": "Python 3",
   "language": "python",
   "name": "python3"
  },
  "language_info": {
   "codemirror_mode": {
    "name": "ipython",
    "version": 3
   },
   "file_extension": ".py",
   "mimetype": "text/x-python",
   "name": "python",
   "nbconvert_exporter": "python",
   "pygments_lexer": "ipython3",
   "version": "3.6.12"
  }
 },
 "nbformat": 4,
 "nbformat_minor": 4
}
