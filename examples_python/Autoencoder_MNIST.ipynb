{
 "cells": [
  {
   "cell_type": "code",
   "execution_count": null,
   "metadata": {},
   "outputs": [],
   "source": []
  },
  {
   "cell_type": "code",
   "execution_count": 1,
   "metadata": {},
   "outputs": [],
   "source": [
    "import pickle\n",
    "import os\n",
    "\n",
    "import matplotlib.pyplot as plt\n",
    "from matplotlib import cm"
   ]
  },
  {
   "cell_type": "code",
   "execution_count": 2,
   "metadata": {},
   "outputs": [
    {
     "name": "stdout",
     "output_type": "stream",
     "text": [
      "3.30.0.1\n"
     ]
    }
   ],
   "source": [
    "import h2o\n",
    "print(h2o.__version__)"
   ]
  },
  {
   "cell_type": "markdown",
   "metadata": {},
   "source": [
    "### データ作成"
   ]
  },
  {
   "cell_type": "code",
   "execution_count": 4,
   "metadata": {},
   "outputs": [
    {
     "data": {
      "text/plain": [
       "'\\nfrom keras.datasets import mnist\\n\\nwith open(\"mnist.pickle\", mode=\"wb\") as f:\\n    pickle.dump(mnist.load_data(), f)\\n'"
      ]
     },
     "execution_count": 4,
     "metadata": {},
     "output_type": "execute_result"
    }
   ],
   "source": [
    "# kerasよりロードしたものをローカルに保存\n",
    "'''\n",
    "from keras.datasets import mnist\n",
    "\n",
    "with open(\"mnist.pickle\", mode=\"wb\") as f:\n",
    "    pickle.dump(mnist.load_data(), f)\n",
    "'''"
   ]
  },
  {
   "cell_type": "code",
   "execution_count": 3,
   "metadata": {},
   "outputs": [],
   "source": [
    "data_path = os.path.join(os.environ['HOME'], 'Documents/Sample_Data/MNIST/mnist.pickle')\n",
    "\n",
    "with open(data_path, mode=\"rb\") as f:\n",
    "    d = pickle.load(f)"
   ]
  },
  {
   "cell_type": "code",
   "execution_count": 4,
   "metadata": {},
   "outputs": [
    {
     "name": "stdout",
     "output_type": "stream",
     "text": [
      "(60000, 28, 28)\n",
      "(60000,)\n",
      "(10000, 28, 28)\n",
      "(10000,)\n"
     ]
    }
   ],
   "source": [
    "(X_train, y_train), (X_test, y_test) = d\n",
    "\n",
    "print(X_train.shape)\n",
    "print(y_train.shape)\n",
    "print(X_test.shape)\n",
    "print(y_test.shape)"
   ]
  },
  {
   "cell_type": "code",
   "execution_count": 11,
   "metadata": {},
   "outputs": [
    {
     "data": {
      "text/plain": [
       "[]"
      ]
     },
     "execution_count": 11,
     "metadata": {},
     "output_type": "execute_result"
    },
    {
     "data": {
      "image/png": "[encoded data removed]",
      "text/plain": [
       "<Figure size 432x288 with 1 Axes>"
      ]
     },
     "metadata": {
      "needs_background": "light"
     },
     "output_type": "display_data"
    }
   ],
   "source": [
    "#plt.imshow(X_train[1].reshape(28, 28), cmap=cm.gray_r)\n",
    "plt.imshow(X_train[1], cmap=cm.gray_r)\n",
    "plt.plot()"
   ]
  },
  {
   "cell_type": "code",
   "execution_count": 32,
   "metadata": {},
   "outputs": [
    {
     "data": {
      "text/plain": [
       "<matplotlib.image.AxesImage at 0x7f9859aa4070>"
      ]
     },
     "execution_count": 32,
     "metadata": {},
     "output_type": "execute_result"
    },
    {
     "data": {
      "image/png": "[encoded data removed]",
      "text/plain": [
       "<Figure size 1440x288 with 5 Axes>"
      ]
     },
     "metadata": {
      "needs_background": "light"
     },
     "output_type": "display_data"
    }
   ],
   "source": [
    "plt.figure(figsize=[20,4])\n",
    "\n",
    "plt.subplot(2,10,1)\n",
    "plt.imshow(X_train[0].reshape(28, 28), cmap=cm.gray_r)\n",
    "plt.subplot(2,10,2)\n",
    "plt.imshow(X_train[1].reshape(28, 28), cmap=cm.gray_r)\n",
    "plt.subplot(2,10,4)\n",
    "plt.imshow(X_train[2].reshape(28, 28), cmap=cm.gray_r)\n",
    "plt.subplot(2,10,10)\n",
    "plt.imshow(X_train[3].reshape(28, 28), cmap=cm.gray_r)\n",
    "plt.subplot(2,10,11)\n",
    "plt.imshow(X_train[4].reshape(28, 28), cmap=cm.gray_r)\n",
    "\n",
    "#plt.subplot(2,4,4)\n",
    "#plt.imshow(X_train[2].reshape(28, 28), cmap=cm.gray_r)"
   ]
  },
  {
   "cell_type": "code",
   "execution_count": 7,
   "metadata": {},
   "outputs": [
    {
     "name": "stdout",
     "output_type": "stream",
     "text": [
      "(60000, 784)\n",
      "(10000, 784)\n"
     ]
    }
   ],
   "source": [
    "# 3D(n rows*28*28)から2D(n rows*784)へ変形\n",
    "X_train_reshape = X_train.reshape(60000, 28*28)\n",
    "print(X_train_reshape.shape)\n",
    "X_test_reshape = X_test.reshape(10000, 28*28)\n",
    "print(X_test_reshape.shape)"
   ]
  },
  {
   "cell_type": "code",
   "execution_count": 8,
   "metadata": {},
   "outputs": [],
   "source": [
    "# 0~1の間へスケーリングしておく\n",
    "X_train_reshape = X_train_reshape/255\n",
    "X_test_reshape = X_test_reshape/255"
   ]
  },
  {
   "cell_type": "code",
   "execution_count": 14,
   "metadata": {},
   "outputs": [
    {
     "data": {
      "text/plain": [
       "(47335, 784)"
      ]
     },
     "execution_count": 14,
     "metadata": {},
     "output_type": "execute_result"
    }
   ],
   "source": [
    "# 0,1を含まない学習データを作成\n",
    "\n",
    "# 0,1以外をTrue, 0&1をFalseとするFlag\n",
    "train_flg = [True if i not in [0,1] else False for i in y_train]\n",
    "\n",
    "# 0,1以外を抽出した学習データ\n",
    "X_train_reshape2 = X_train_reshape[train_flg]\n",
    "X_train_reshape2.shape"
   ]
  },
  {
   "cell_type": "code",
   "execution_count": 17,
   "metadata": {},
   "outputs": [],
   "source": [
    "# テストデータから、異常フラグを作成\n",
    "\n",
    "# 異常（0&1）：１、正常（0,1以外）：０\n",
    "y_test_anomaly = [1 if i in [0,1] else 0 for i in y_test]"
   ]
  },
  {
   "cell_type": "markdown",
   "metadata": {},
   "source": [
    "### モデル作成"
   ]
  },
  {
   "cell_type": "markdown",
   "metadata": {},
   "source": [
    "#### H2O-3サーバへ接続"
   ]
  },
  {
   "cell_type": "code",
   "execution_count": 18,
   "metadata": {},
   "outputs": [
    {
     "name": "stdout",
     "output_type": "stream",
     "text": [
      "Checking whether there is an H2O instance running at http://34.229.47.253:54321 . connected.\n",
      "Warning: Your H2O cluster version is too old (1 year, 2 months and 5 days)! Please download and install the latest version from http://h2o.ai/download/\n"
     ]
    },
    {
     "data": {
      "text/html": [
       "<div style=\"overflow:auto\"><table style=\"width:50%\"><tr><td>H2O_cluster_uptime:</td>\n",
       "<td>2 mins 43 secs</td></tr>\n",
       "<tr><td>H2O_cluster_timezone:</td>\n",
       "<td>Etc/UTC</td></tr>\n",
       "<tr><td>H2O_data_parsing_timezone:</td>\n",
       "<td>UTC</td></tr>\n",
       "<tr><td>H2O_cluster_version:</td>\n",
       "<td>3.30.0.1</td></tr>\n",
       "<tr><td>H2O_cluster_version_age:</td>\n",
       "<td>1 year, 2 months and 5 days !!!</td></tr>\n",
       "<tr><td>H2O_cluster_name:</td>\n",
       "<td>Puddle</td></tr>\n",
       "<tr><td>H2O_cluster_total_nodes:</td>\n",
       "<td>1</td></tr>\n",
       "<tr><td>H2O_cluster_free_memory:</td>\n",
       "<td>49.71 Gb</td></tr>\n",
       "<tr><td>H2O_cluster_total_cores:</td>\n",
       "<td>16</td></tr>\n",
       "<tr><td>H2O_cluster_allowed_cores:</td>\n",
       "<td>16</td></tr>\n",
       "<tr><td>H2O_cluster_status:</td>\n",
       "<td>locked, healthy</td></tr>\n",
       "<tr><td>H2O_connection_url:</td>\n",
       "<td>http://34.229.47.253:54321</td></tr>\n",
       "<tr><td>H2O_connection_proxy:</td>\n",
       "<td>null</td></tr>\n",
       "<tr><td>H2O_internal_security:</td>\n",
       "<td>False</td></tr>\n",
       "<tr><td>H2O_API_Extensions:</td>\n",
       "<td>Amazon S3, XGBoost, Algos, AutoML, Core V3, TargetEncoder, Core V4</td></tr>\n",
       "<tr><td>Python_version:</td>\n",
       "<td>3.6.12 final</td></tr></table></div>"
      ],
      "text/plain": [
       "--------------------------  ------------------------------------------------------------------\n",
       "H2O_cluster_uptime:         2 mins 43 secs\n",
       "H2O_cluster_timezone:       Etc/UTC\n",
       "H2O_data_parsing_timezone:  UTC\n",
       "H2O_cluster_version:        3.30.0.1\n",
       "H2O_cluster_version_age:    1 year, 2 months and 5 days !!!\n",
       "H2O_cluster_name:           Puddle\n",
       "H2O_cluster_total_nodes:    1\n",
       "H2O_cluster_free_memory:    49.71 Gb\n",
       "H2O_cluster_total_cores:    16\n",
       "H2O_cluster_allowed_cores:  16\n",
       "H2O_cluster_status:         locked, healthy\n",
       "H2O_connection_url:         http://34.229.47.253:54321\n",
       "H2O_connection_proxy:       null\n",
       "H2O_internal_security:      False\n",
       "H2O_API_Extensions:         Amazon S3, XGBoost, Algos, AutoML, Core V3, TargetEncoder, Core V4\n",
       "Python_version:             3.6.12 final\n",
       "--------------------------  ------------------------------------------------------------------"
      ]
     },
     "metadata": {},
     "output_type": "display_data"
    }
   ],
   "source": [
    "h2o.init(url='http://34.229.47.253:54321')"
   ]
  },
  {
   "cell_type": "markdown",
   "metadata": {},
   "source": [
    "#### データのアップロード"
   ]
  },
  {
   "cell_type": "code",
   "execution_count": 19,
   "metadata": {},
   "outputs": [
    {
     "name": "stdout",
     "output_type": "stream",
     "text": [
      "Parse progress: |█████████████████████████████████████████████████████████| 100%\n",
      "(47335, 784)\n",
      "Parse progress: |█████████████████████████████████████████████████████████| 100%\n",
      "(10000, 784)\n"
     ]
    }
   ],
   "source": [
    "# 学習データ（0,1含まないデータ）\n",
    "frame_train = h2o.H2OFrame(X_train_reshape2)\n",
    "print(frame_train.shape)\n",
    "# テストデータ（0,1も含む）\n",
    "frame_test = h2o.H2OFrame(X_test_reshape)\n",
    "print(frame_test.shape)"
   ]
  },
  {
   "cell_type": "code",
   "execution_count": 20,
   "metadata": {},
   "outputs": [
    {
     "data": {
      "text/html": [
       "<table>\n",
       "<thead>\n",
       "<tr><th style=\"text-align: right;\">  C1</th><th style=\"text-align: right;\">  C2</th><th style=\"text-align: right;\">  C3</th><th style=\"text-align: right;\">  C4</th><th style=\"text-align: right;\">  C5</th><th style=\"text-align: right;\">  C6</th><th style=\"text-align: right;\">  C7</th><th style=\"text-align: right;\">  C8</th><th style=\"text-align: right;\">  C9</th><th style=\"text-align: right;\">  C10</th><th style=\"text-align: right;\">  C11</th><th style=\"text-align: right;\">  C12</th><th style=\"text-align: right;\">  C13</th><th style=\"text-align: right;\">  C14</th><th style=\"text-align: right;\">  C15</th><th style=\"text-align: right;\">  C16</th><th style=\"text-align: right;\">  C17</th><th style=\"text-align: right;\">  C18</th><th style=\"text-align: right;\">  C19</th><th style=\"text-align: right;\">  C20</th><th style=\"text-align: right;\">  C21</th><th style=\"text-align: right;\">  C22</th><th style=\"text-align: right;\">  C23</th><th style=\"text-align: right;\">  C24</th><th style=\"text-align: right;\">  C25</th><th style=\"text-align: right;\">  C26</th><th style=\"text-align: right;\">  C27</th><th style=\"text-align: right;\">  C28</th><th style=\"text-align: right;\">  C29</th><th style=\"text-align: right;\">  C30</th><th style=\"text-align: right;\">  C31</th><th style=\"text-align: right;\">  C32</th><th style=\"text-align: right;\">  C33</th><th style=\"text-align: right;\">  C34</th><th style=\"text-align: right;\">  C35</th><th style=\"text-align: right;\">  C36</th><th style=\"text-align: right;\">  C37</th><th style=\"text-align: right;\">  C38</th><th style=\"text-align: right;\">  C39</th><th style=\"text-align: right;\">  C40</th><th style=\"text-align: right;\">  C41</th><th style=\"text-align: right;\">  C42</th><th style=\"text-align: right;\">  C43</th><th style=\"text-align: right;\">  C44</th><th style=\"text-align: right;\">  C45</th><th style=\"text-align: right;\">  C46</th><th style=\"text-align: right;\">  C47</th><th style=\"text-align: right;\">  C48</th><th style=\"text-align: right;\">  C49</th><th style=\"text-align: right;\">  C50</th><th style=\"text-align: right;\">  C51</th><th style=\"text-align: right;\">  C52</th><th style=\"text-align: right;\">  C53</th><th style=\"text-align: right;\">  C54</th><th style=\"text-align: right;\">  C55</th><th style=\"text-align: right;\">  C56</th><th style=\"text-align: right;\">  C57</th><th style=\"text-align: right;\">  C58</th><th style=\"text-align: right;\">  C59</th><th style=\"text-align: right;\">  C60</th><th style=\"text-align: right;\">  C61</th><th style=\"text-align: right;\">  C62</th><th style=\"text-align: right;\">  C63</th><th style=\"text-align: right;\">  C64</th><th style=\"text-align: right;\">  C65</th><th style=\"text-align: right;\">  C66</th><th style=\"text-align: right;\">  C67</th><th style=\"text-align: right;\">  C68</th><th style=\"text-align: right;\">  C69</th><th style=\"text-align: right;\">  C70</th><th style=\"text-align: right;\">  C71</th><th style=\"text-align: right;\">  C72</th><th style=\"text-align: right;\">  C73</th><th style=\"text-align: right;\">  C74</th><th style=\"text-align: right;\">  C75</th><th style=\"text-align: right;\">  C76</th><th style=\"text-align: right;\">  C77</th><th style=\"text-align: right;\">  C78</th><th style=\"text-align: right;\">  C79</th><th style=\"text-align: right;\">  C80</th><th style=\"text-align: right;\">  C81</th><th style=\"text-align: right;\">  C82</th><th style=\"text-align: right;\">  C83</th><th style=\"text-align: right;\">  C84</th><th style=\"text-align: right;\">  C85</th><th style=\"text-align: right;\">  C86</th><th style=\"text-align: right;\">  C87</th><th style=\"text-align: right;\">  C88</th><th style=\"text-align: right;\">  C89</th><th style=\"text-align: right;\">  C90</th><th style=\"text-align: right;\">  C91</th><th style=\"text-align: right;\">  C92</th><th style=\"text-align: right;\">  C93</th><th style=\"text-align: right;\">  C94</th><th style=\"text-align: right;\">  C95</th><th style=\"text-align: right;\">  C96</th><th style=\"text-align: right;\">  C97</th><th style=\"text-align: right;\">  C98</th><th style=\"text-align: right;\">  C99</th><th style=\"text-align: right;\">  C100</th><th style=\"text-align: right;\">  C101</th><th style=\"text-align: right;\">  C102</th><th style=\"text-align: right;\">  C103</th><th style=\"text-align: right;\">  C104</th><th style=\"text-align: right;\">  C105</th><th style=\"text-align: right;\">  C106</th><th style=\"text-align: right;\">  C107</th><th style=\"text-align: right;\">  C108</th><th style=\"text-align: right;\">  C109</th><th style=\"text-align: right;\">  C110</th><th style=\"text-align: right;\">  C111</th><th style=\"text-align: right;\">  C112</th><th style=\"text-align: right;\">  C113</th><th style=\"text-align: right;\">  C114</th><th style=\"text-align: right;\">  C115</th><th style=\"text-align: right;\">  C116</th><th style=\"text-align: right;\">  C117</th><th style=\"text-align: right;\">  C118</th><th style=\"text-align: right;\">  C119</th><th style=\"text-align: right;\">  C120</th><th style=\"text-align: right;\">  C121</th><th style=\"text-align: right;\">  C122</th><th style=\"text-align: right;\">  C123</th><th style=\"text-align: right;\">  C124</th><th style=\"text-align: right;\">  C125</th><th style=\"text-align: right;\">  C126</th><th style=\"text-align: right;\">  C127</th><th style=\"text-align: right;\">  C128</th><th style=\"text-align: right;\">  C129</th><th style=\"text-align: right;\">  C130</th><th style=\"text-align: right;\">  C131</th><th style=\"text-align: right;\">  C132</th><th style=\"text-align: right;\">  C133</th><th style=\"text-align: right;\">  C134</th><th style=\"text-align: right;\">  C135</th><th style=\"text-align: right;\">  C136</th><th style=\"text-align: right;\">  C137</th><th style=\"text-align: right;\">  C138</th><th style=\"text-align: right;\">  C139</th><th style=\"text-align: right;\">  C140</th><th style=\"text-align: right;\">  C141</th><th style=\"text-align: right;\">  C142</th><th style=\"text-align: right;\">  C143</th><th style=\"text-align: right;\">  C144</th><th style=\"text-align: right;\">  C145</th><th style=\"text-align: right;\">  C146</th><th style=\"text-align: right;\">  C147</th><th style=\"text-align: right;\">  C148</th><th style=\"text-align: right;\">  C149</th><th style=\"text-align: right;\">  C150</th><th style=\"text-align: right;\">  C151</th><th style=\"text-align: right;\">   C152</th><th style=\"text-align: right;\">     C153</th><th style=\"text-align: right;\">     C154</th><th style=\"text-align: right;\">     C155</th><th style=\"text-align: right;\">     C156</th><th style=\"text-align: right;\">     C157</th><th style=\"text-align: right;\">    C158</th><th style=\"text-align: right;\">    C159</th><th style=\"text-align: right;\">    C160</th><th style=\"text-align: right;\">    C161</th><th style=\"text-align: right;\">     C162</th><th style=\"text-align: right;\">    C163</th><th style=\"text-align: right;\">    C164</th><th style=\"text-align: right;\">  C165</th><th style=\"text-align: right;\">  C166</th><th style=\"text-align: right;\">  C167</th><th style=\"text-align: right;\">  C168</th><th style=\"text-align: right;\">  C169</th><th style=\"text-align: right;\">  C170</th><th style=\"text-align: right;\">  C171</th><th style=\"text-align: right;\">  C172</th><th style=\"text-align: right;\">    C173</th><th style=\"text-align: right;\">    C174</th><th style=\"text-align: right;\">  C175</th><th style=\"text-align: right;\">  C176</th><th style=\"text-align: right;\">    C177</th><th style=\"text-align: right;\">    C178</th><th style=\"text-align: right;\">    C179</th><th style=\"text-align: right;\">    C180</th><th style=\"text-align: right;\">    C181</th><th style=\"text-align: right;\">    C182</th><th style=\"text-align: right;\">    C183</th><th style=\"text-align: right;\">    C184</th><th style=\"text-align: right;\">    C185</th><th style=\"text-align: right;\">    C186</th><th style=\"text-align: right;\">    C187</th><th style=\"text-align: right;\">    C188</th><th style=\"text-align: right;\">    C189</th><th style=\"text-align: right;\">    C190</th><th style=\"text-align: right;\">    C191</th><th style=\"text-align: right;\">   C192</th><th style=\"text-align: right;\">  C193</th><th style=\"text-align: right;\">  C194</th><th style=\"text-align: right;\">  C195</th><th style=\"text-align: right;\">  C196</th><th style=\"text-align: right;\">  C197</th><th style=\"text-align: right;\">  C198</th><th style=\"text-align: right;\">  C199</th><th style=\"text-align: right;\">  C200</th></tr>\n",
       "</thead>\n",
       "<tbody>\n",
       "<tr><td style=\"text-align: right;\">   0</td><td style=\"text-align: right;\">   0</td><td style=\"text-align: right;\">   0</td><td style=\"text-align: right;\">   0</td><td style=\"text-align: right;\">   0</td><td style=\"text-align: right;\">   0</td><td style=\"text-align: right;\">   0</td><td style=\"text-align: right;\">   0</td><td style=\"text-align: right;\">   0</td><td style=\"text-align: right;\">    0</td><td style=\"text-align: right;\">    0</td><td style=\"text-align: right;\">    0</td><td style=\"text-align: right;\">    0</td><td style=\"text-align: right;\">    0</td><td style=\"text-align: right;\">    0</td><td style=\"text-align: right;\">    0</td><td style=\"text-align: right;\">    0</td><td style=\"text-align: right;\">    0</td><td style=\"text-align: right;\">    0</td><td style=\"text-align: right;\">    0</td><td style=\"text-align: right;\">    0</td><td style=\"text-align: right;\">    0</td><td style=\"text-align: right;\">    0</td><td style=\"text-align: right;\">    0</td><td style=\"text-align: right;\">    0</td><td style=\"text-align: right;\">    0</td><td style=\"text-align: right;\">    0</td><td style=\"text-align: right;\">    0</td><td style=\"text-align: right;\">    0</td><td style=\"text-align: right;\">    0</td><td style=\"text-align: right;\">    0</td><td style=\"text-align: right;\">    0</td><td style=\"text-align: right;\">    0</td><td style=\"text-align: right;\">    0</td><td style=\"text-align: right;\">    0</td><td style=\"text-align: right;\">    0</td><td style=\"text-align: right;\">    0</td><td style=\"text-align: right;\">    0</td><td style=\"text-align: right;\">    0</td><td style=\"text-align: right;\">    0</td><td style=\"text-align: right;\">    0</td><td style=\"text-align: right;\">    0</td><td style=\"text-align: right;\">    0</td><td style=\"text-align: right;\">    0</td><td style=\"text-align: right;\">    0</td><td style=\"text-align: right;\">    0</td><td style=\"text-align: right;\">    0</td><td style=\"text-align: right;\">    0</td><td style=\"text-align: right;\">    0</td><td style=\"text-align: right;\">    0</td><td style=\"text-align: right;\">    0</td><td style=\"text-align: right;\">    0</td><td style=\"text-align: right;\">    0</td><td style=\"text-align: right;\">    0</td><td style=\"text-align: right;\">    0</td><td style=\"text-align: right;\">    0</td><td style=\"text-align: right;\">    0</td><td style=\"text-align: right;\">    0</td><td style=\"text-align: right;\">    0</td><td style=\"text-align: right;\">    0</td><td style=\"text-align: right;\">    0</td><td style=\"text-align: right;\">    0</td><td style=\"text-align: right;\">    0</td><td style=\"text-align: right;\">    0</td><td style=\"text-align: right;\">    0</td><td style=\"text-align: right;\">    0</td><td style=\"text-align: right;\">    0</td><td style=\"text-align: right;\">    0</td><td style=\"text-align: right;\">    0</td><td style=\"text-align: right;\">    0</td><td style=\"text-align: right;\">    0</td><td style=\"text-align: right;\">    0</td><td style=\"text-align: right;\">    0</td><td style=\"text-align: right;\">    0</td><td style=\"text-align: right;\">    0</td><td style=\"text-align: right;\">    0</td><td style=\"text-align: right;\">    0</td><td style=\"text-align: right;\">    0</td><td style=\"text-align: right;\">    0</td><td style=\"text-align: right;\">    0</td><td style=\"text-align: right;\">    0</td><td style=\"text-align: right;\">    0</td><td style=\"text-align: right;\">    0</td><td style=\"text-align: right;\">    0</td><td style=\"text-align: right;\">    0</td><td style=\"text-align: right;\">    0</td><td style=\"text-align: right;\">    0</td><td style=\"text-align: right;\">    0</td><td style=\"text-align: right;\">    0</td><td style=\"text-align: right;\">    0</td><td style=\"text-align: right;\">    0</td><td style=\"text-align: right;\">    0</td><td style=\"text-align: right;\">    0</td><td style=\"text-align: right;\">    0</td><td style=\"text-align: right;\">    0</td><td style=\"text-align: right;\">    0</td><td style=\"text-align: right;\">    0</td><td style=\"text-align: right;\">    0</td><td style=\"text-align: right;\">    0</td><td style=\"text-align: right;\">     0</td><td style=\"text-align: right;\">     0</td><td style=\"text-align: right;\">     0</td><td style=\"text-align: right;\">     0</td><td style=\"text-align: right;\">     0</td><td style=\"text-align: right;\">     0</td><td style=\"text-align: right;\">     0</td><td style=\"text-align: right;\">     0</td><td style=\"text-align: right;\">     0</td><td style=\"text-align: right;\">     0</td><td style=\"text-align: right;\">     0</td><td style=\"text-align: right;\">     0</td><td style=\"text-align: right;\">     0</td><td style=\"text-align: right;\">     0</td><td style=\"text-align: right;\">     0</td><td style=\"text-align: right;\">     0</td><td style=\"text-align: right;\">     0</td><td style=\"text-align: right;\">     0</td><td style=\"text-align: right;\">     0</td><td style=\"text-align: right;\">     0</td><td style=\"text-align: right;\">     0</td><td style=\"text-align: right;\">     0</td><td style=\"text-align: right;\">     0</td><td style=\"text-align: right;\">     0</td><td style=\"text-align: right;\">     0</td><td style=\"text-align: right;\">     0</td><td style=\"text-align: right;\">     0</td><td style=\"text-align: right;\">     0</td><td style=\"text-align: right;\">     0</td><td style=\"text-align: right;\">     0</td><td style=\"text-align: right;\">     0</td><td style=\"text-align: right;\">     0</td><td style=\"text-align: right;\">     0</td><td style=\"text-align: right;\">     0</td><td style=\"text-align: right;\">     0</td><td style=\"text-align: right;\">     0</td><td style=\"text-align: right;\">     0</td><td style=\"text-align: right;\">     0</td><td style=\"text-align: right;\">     0</td><td style=\"text-align: right;\">     0</td><td style=\"text-align: right;\">     0</td><td style=\"text-align: right;\">     0</td><td style=\"text-align: right;\">     0</td><td style=\"text-align: right;\">     0</td><td style=\"text-align: right;\">     0</td><td style=\"text-align: right;\">     0</td><td style=\"text-align: right;\">     0</td><td style=\"text-align: right;\">     0</td><td style=\"text-align: right;\">     0</td><td style=\"text-align: right;\">     0</td><td style=\"text-align: right;\">     0</td><td style=\"text-align: right;\">     0</td><td style=\"text-align: right;\">0      </td><td style=\"text-align: right;\">0.0117647</td><td style=\"text-align: right;\">0.0705882</td><td style=\"text-align: right;\">0.0705882</td><td style=\"text-align: right;\">0.0705882</td><td style=\"text-align: right;\">0.494118 </td><td style=\"text-align: right;\">0.533333</td><td style=\"text-align: right;\">0.686275</td><td style=\"text-align: right;\">0.101961</td><td style=\"text-align: right;\">0.65098 </td><td style=\"text-align: right;\">1        </td><td style=\"text-align: right;\">0.968627</td><td style=\"text-align: right;\">0.498039</td><td style=\"text-align: right;\">     0</td><td style=\"text-align: right;\">     0</td><td style=\"text-align: right;\">     0</td><td style=\"text-align: right;\">     0</td><td style=\"text-align: right;\">     0</td><td style=\"text-align: right;\">     0</td><td style=\"text-align: right;\">     0</td><td style=\"text-align: right;\">     0</td><td style=\"text-align: right;\">0       </td><td style=\"text-align: right;\">0       </td><td style=\"text-align: right;\">     0</td><td style=\"text-align: right;\">     0</td><td style=\"text-align: right;\">0.117647</td><td style=\"text-align: right;\">0.141176</td><td style=\"text-align: right;\">0.368627</td><td style=\"text-align: right;\">0.603922</td><td style=\"text-align: right;\">0.666667</td><td style=\"text-align: right;\">0.992157</td><td style=\"text-align: right;\">0.992157</td><td style=\"text-align: right;\">0.992157</td><td style=\"text-align: right;\">0.992157</td><td style=\"text-align: right;\">0.992157</td><td style=\"text-align: right;\">0.882353</td><td style=\"text-align: right;\">0.67451 </td><td style=\"text-align: right;\">0.992157</td><td style=\"text-align: right;\">0.94902 </td><td style=\"text-align: right;\">0.764706</td><td style=\"text-align: right;\">0.25098</td><td style=\"text-align: right;\">     0</td><td style=\"text-align: right;\">     0</td><td style=\"text-align: right;\">     0</td><td style=\"text-align: right;\">     0</td><td style=\"text-align: right;\">     0</td><td style=\"text-align: right;\">     0</td><td style=\"text-align: right;\">     0</td><td style=\"text-align: right;\">     0</td></tr>\n",
       "<tr><td style=\"text-align: right;\">   0</td><td style=\"text-align: right;\">   0</td><td style=\"text-align: right;\">   0</td><td style=\"text-align: right;\">   0</td><td style=\"text-align: right;\">   0</td><td style=\"text-align: right;\">   0</td><td style=\"text-align: right;\">   0</td><td style=\"text-align: right;\">   0</td><td style=\"text-align: right;\">   0</td><td style=\"text-align: right;\">    0</td><td style=\"text-align: right;\">    0</td><td style=\"text-align: right;\">    0</td><td style=\"text-align: right;\">    0</td><td style=\"text-align: right;\">    0</td><td style=\"text-align: right;\">    0</td><td style=\"text-align: right;\">    0</td><td style=\"text-align: right;\">    0</td><td style=\"text-align: right;\">    0</td><td style=\"text-align: right;\">    0</td><td style=\"text-align: right;\">    0</td><td style=\"text-align: right;\">    0</td><td style=\"text-align: right;\">    0</td><td style=\"text-align: right;\">    0</td><td style=\"text-align: right;\">    0</td><td style=\"text-align: right;\">    0</td><td style=\"text-align: right;\">    0</td><td style=\"text-align: right;\">    0</td><td style=\"text-align: right;\">    0</td><td style=\"text-align: right;\">    0</td><td style=\"text-align: right;\">    0</td><td style=\"text-align: right;\">    0</td><td style=\"text-align: right;\">    0</td><td style=\"text-align: right;\">    0</td><td style=\"text-align: right;\">    0</td><td style=\"text-align: right;\">    0</td><td style=\"text-align: right;\">    0</td><td style=\"text-align: right;\">    0</td><td style=\"text-align: right;\">    0</td><td style=\"text-align: right;\">    0</td><td style=\"text-align: right;\">    0</td><td style=\"text-align: right;\">    0</td><td style=\"text-align: right;\">    0</td><td style=\"text-align: right;\">    0</td><td style=\"text-align: right;\">    0</td><td style=\"text-align: right;\">    0</td><td style=\"text-align: right;\">    0</td><td style=\"text-align: right;\">    0</td><td style=\"text-align: right;\">    0</td><td style=\"text-align: right;\">    0</td><td style=\"text-align: right;\">    0</td><td style=\"text-align: right;\">    0</td><td style=\"text-align: right;\">    0</td><td style=\"text-align: right;\">    0</td><td style=\"text-align: right;\">    0</td><td style=\"text-align: right;\">    0</td><td style=\"text-align: right;\">    0</td><td style=\"text-align: right;\">    0</td><td style=\"text-align: right;\">    0</td><td style=\"text-align: right;\">    0</td><td style=\"text-align: right;\">    0</td><td style=\"text-align: right;\">    0</td><td style=\"text-align: right;\">    0</td><td style=\"text-align: right;\">    0</td><td style=\"text-align: right;\">    0</td><td style=\"text-align: right;\">    0</td><td style=\"text-align: right;\">    0</td><td style=\"text-align: right;\">    0</td><td style=\"text-align: right;\">    0</td><td style=\"text-align: right;\">    0</td><td style=\"text-align: right;\">    0</td><td style=\"text-align: right;\">    0</td><td style=\"text-align: right;\">    0</td><td style=\"text-align: right;\">    0</td><td style=\"text-align: right;\">    0</td><td style=\"text-align: right;\">    0</td><td style=\"text-align: right;\">    0</td><td style=\"text-align: right;\">    0</td><td style=\"text-align: right;\">    0</td><td style=\"text-align: right;\">    0</td><td style=\"text-align: right;\">    0</td><td style=\"text-align: right;\">    0</td><td style=\"text-align: right;\">    0</td><td style=\"text-align: right;\">    0</td><td style=\"text-align: right;\">    0</td><td style=\"text-align: right;\">    0</td><td style=\"text-align: right;\">    0</td><td style=\"text-align: right;\">    0</td><td style=\"text-align: right;\">    0</td><td style=\"text-align: right;\">    0</td><td style=\"text-align: right;\">    0</td><td style=\"text-align: right;\">    0</td><td style=\"text-align: right;\">    0</td><td style=\"text-align: right;\">    0</td><td style=\"text-align: right;\">    0</td><td style=\"text-align: right;\">    0</td><td style=\"text-align: right;\">    0</td><td style=\"text-align: right;\">    0</td><td style=\"text-align: right;\">    0</td><td style=\"text-align: right;\">    0</td><td style=\"text-align: right;\">     0</td><td style=\"text-align: right;\">     0</td><td style=\"text-align: right;\">     0</td><td style=\"text-align: right;\">     0</td><td style=\"text-align: right;\">     0</td><td style=\"text-align: right;\">     0</td><td style=\"text-align: right;\">     0</td><td style=\"text-align: right;\">     0</td><td style=\"text-align: right;\">     0</td><td style=\"text-align: right;\">     0</td><td style=\"text-align: right;\">     0</td><td style=\"text-align: right;\">     0</td><td style=\"text-align: right;\">     0</td><td style=\"text-align: right;\">     0</td><td style=\"text-align: right;\">     0</td><td style=\"text-align: right;\">     0</td><td style=\"text-align: right;\">     0</td><td style=\"text-align: right;\">     0</td><td style=\"text-align: right;\">     0</td><td style=\"text-align: right;\">     0</td><td style=\"text-align: right;\">     0</td><td style=\"text-align: right;\">     0</td><td style=\"text-align: right;\">     0</td><td style=\"text-align: right;\">     0</td><td style=\"text-align: right;\">     0</td><td style=\"text-align: right;\">     0</td><td style=\"text-align: right;\">     0</td><td style=\"text-align: right;\">     0</td><td style=\"text-align: right;\">     0</td><td style=\"text-align: right;\">     0</td><td style=\"text-align: right;\">     0</td><td style=\"text-align: right;\">     0</td><td style=\"text-align: right;\">     0</td><td style=\"text-align: right;\">     0</td><td style=\"text-align: right;\">     0</td><td style=\"text-align: right;\">     0</td><td style=\"text-align: right;\">     0</td><td style=\"text-align: right;\">     0</td><td style=\"text-align: right;\">     0</td><td style=\"text-align: right;\">     0</td><td style=\"text-align: right;\">     0</td><td style=\"text-align: right;\">     0</td><td style=\"text-align: right;\">     0</td><td style=\"text-align: right;\">     0</td><td style=\"text-align: right;\">     0</td><td style=\"text-align: right;\">     0</td><td style=\"text-align: right;\">     0</td><td style=\"text-align: right;\">     0</td><td style=\"text-align: right;\">     0</td><td style=\"text-align: right;\">     0</td><td style=\"text-align: right;\">     0</td><td style=\"text-align: right;\">     0</td><td style=\"text-align: right;\">0      </td><td style=\"text-align: right;\">0        </td><td style=\"text-align: right;\">0        </td><td style=\"text-align: right;\">0        </td><td style=\"text-align: right;\">0        </td><td style=\"text-align: right;\">0        </td><td style=\"text-align: right;\">0       </td><td style=\"text-align: right;\">0       </td><td style=\"text-align: right;\">0       </td><td style=\"text-align: right;\">0.262745</td><td style=\"text-align: right;\">0.909804 </td><td style=\"text-align: right;\">0.152941</td><td style=\"text-align: right;\">0       </td><td style=\"text-align: right;\">     0</td><td style=\"text-align: right;\">     0</td><td style=\"text-align: right;\">     0</td><td style=\"text-align: right;\">     0</td><td style=\"text-align: right;\">     0</td><td style=\"text-align: right;\">     0</td><td style=\"text-align: right;\">     0</td><td style=\"text-align: right;\">     0</td><td style=\"text-align: right;\">0.243137</td><td style=\"text-align: right;\">0.317647</td><td style=\"text-align: right;\">     0</td><td style=\"text-align: right;\">     0</td><td style=\"text-align: right;\">0       </td><td style=\"text-align: right;\">0       </td><td style=\"text-align: right;\">0       </td><td style=\"text-align: right;\">0       </td><td style=\"text-align: right;\">0       </td><td style=\"text-align: right;\">0       </td><td style=\"text-align: right;\">0       </td><td style=\"text-align: right;\">0       </td><td style=\"text-align: right;\">0       </td><td style=\"text-align: right;\">0       </td><td style=\"text-align: right;\">0       </td><td style=\"text-align: right;\">0       </td><td style=\"text-align: right;\">0.470588</td><td style=\"text-align: right;\">0.705882</td><td style=\"text-align: right;\">0.152941</td><td style=\"text-align: right;\">0      </td><td style=\"text-align: right;\">     0</td><td style=\"text-align: right;\">     0</td><td style=\"text-align: right;\">     0</td><td style=\"text-align: right;\">     0</td><td style=\"text-align: right;\">     0</td><td style=\"text-align: right;\">     0</td><td style=\"text-align: right;\">     0</td><td style=\"text-align: right;\">     0</td></tr>\n",
       "<tr><td style=\"text-align: right;\">   0</td><td style=\"text-align: right;\">   0</td><td style=\"text-align: right;\">   0</td><td style=\"text-align: right;\">   0</td><td style=\"text-align: right;\">   0</td><td style=\"text-align: right;\">   0</td><td style=\"text-align: right;\">   0</td><td style=\"text-align: right;\">   0</td><td style=\"text-align: right;\">   0</td><td style=\"text-align: right;\">    0</td><td style=\"text-align: right;\">    0</td><td style=\"text-align: right;\">    0</td><td style=\"text-align: right;\">    0</td><td style=\"text-align: right;\">    0</td><td style=\"text-align: right;\">    0</td><td style=\"text-align: right;\">    0</td><td style=\"text-align: right;\">    0</td><td style=\"text-align: right;\">    0</td><td style=\"text-align: right;\">    0</td><td style=\"text-align: right;\">    0</td><td style=\"text-align: right;\">    0</td><td style=\"text-align: right;\">    0</td><td style=\"text-align: right;\">    0</td><td style=\"text-align: right;\">    0</td><td style=\"text-align: right;\">    0</td><td style=\"text-align: right;\">    0</td><td style=\"text-align: right;\">    0</td><td style=\"text-align: right;\">    0</td><td style=\"text-align: right;\">    0</td><td style=\"text-align: right;\">    0</td><td style=\"text-align: right;\">    0</td><td style=\"text-align: right;\">    0</td><td style=\"text-align: right;\">    0</td><td style=\"text-align: right;\">    0</td><td style=\"text-align: right;\">    0</td><td style=\"text-align: right;\">    0</td><td style=\"text-align: right;\">    0</td><td style=\"text-align: right;\">    0</td><td style=\"text-align: right;\">    0</td><td style=\"text-align: right;\">    0</td><td style=\"text-align: right;\">    0</td><td style=\"text-align: right;\">    0</td><td style=\"text-align: right;\">    0</td><td style=\"text-align: right;\">    0</td><td style=\"text-align: right;\">    0</td><td style=\"text-align: right;\">    0</td><td style=\"text-align: right;\">    0</td><td style=\"text-align: right;\">    0</td><td style=\"text-align: right;\">    0</td><td style=\"text-align: right;\">    0</td><td style=\"text-align: right;\">    0</td><td style=\"text-align: right;\">    0</td><td style=\"text-align: right;\">    0</td><td style=\"text-align: right;\">    0</td><td style=\"text-align: right;\">    0</td><td style=\"text-align: right;\">    0</td><td style=\"text-align: right;\">    0</td><td style=\"text-align: right;\">    0</td><td style=\"text-align: right;\">    0</td><td style=\"text-align: right;\">    0</td><td style=\"text-align: right;\">    0</td><td style=\"text-align: right;\">    0</td><td style=\"text-align: right;\">    0</td><td style=\"text-align: right;\">    0</td><td style=\"text-align: right;\">    0</td><td style=\"text-align: right;\">    0</td><td style=\"text-align: right;\">    0</td><td style=\"text-align: right;\">    0</td><td style=\"text-align: right;\">    0</td><td style=\"text-align: right;\">    0</td><td style=\"text-align: right;\">    0</td><td style=\"text-align: right;\">    0</td><td style=\"text-align: right;\">    0</td><td style=\"text-align: right;\">    0</td><td style=\"text-align: right;\">    0</td><td style=\"text-align: right;\">    0</td><td style=\"text-align: right;\">    0</td><td style=\"text-align: right;\">    0</td><td style=\"text-align: right;\">    0</td><td style=\"text-align: right;\">    0</td><td style=\"text-align: right;\">    0</td><td style=\"text-align: right;\">    0</td><td style=\"text-align: right;\">    0</td><td style=\"text-align: right;\">    0</td><td style=\"text-align: right;\">    0</td><td style=\"text-align: right;\">    0</td><td style=\"text-align: right;\">    0</td><td style=\"text-align: right;\">    0</td><td style=\"text-align: right;\">    0</td><td style=\"text-align: right;\">    0</td><td style=\"text-align: right;\">    0</td><td style=\"text-align: right;\">    0</td><td style=\"text-align: right;\">    0</td><td style=\"text-align: right;\">    0</td><td style=\"text-align: right;\">    0</td><td style=\"text-align: right;\">    0</td><td style=\"text-align: right;\">    0</td><td style=\"text-align: right;\">    0</td><td style=\"text-align: right;\">    0</td><td style=\"text-align: right;\">     0</td><td style=\"text-align: right;\">     0</td><td style=\"text-align: right;\">     0</td><td style=\"text-align: right;\">     0</td><td style=\"text-align: right;\">     0</td><td style=\"text-align: right;\">     0</td><td style=\"text-align: right;\">     0</td><td style=\"text-align: right;\">     0</td><td style=\"text-align: right;\">     0</td><td style=\"text-align: right;\">     0</td><td style=\"text-align: right;\">     0</td><td style=\"text-align: right;\">     0</td><td style=\"text-align: right;\">     0</td><td style=\"text-align: right;\">     0</td><td style=\"text-align: right;\">     0</td><td style=\"text-align: right;\">     0</td><td style=\"text-align: right;\">     0</td><td style=\"text-align: right;\">     0</td><td style=\"text-align: right;\">     0</td><td style=\"text-align: right;\">     0</td><td style=\"text-align: right;\">     0</td><td style=\"text-align: right;\">     0</td><td style=\"text-align: right;\">     0</td><td style=\"text-align: right;\">     0</td><td style=\"text-align: right;\">     0</td><td style=\"text-align: right;\">     0</td><td style=\"text-align: right;\">     0</td><td style=\"text-align: right;\">     0</td><td style=\"text-align: right;\">     0</td><td style=\"text-align: right;\">     0</td><td style=\"text-align: right;\">     0</td><td style=\"text-align: right;\">     0</td><td style=\"text-align: right;\">     0</td><td style=\"text-align: right;\">     0</td><td style=\"text-align: right;\">     0</td><td style=\"text-align: right;\">     0</td><td style=\"text-align: right;\">     0</td><td style=\"text-align: right;\">     0</td><td style=\"text-align: right;\">     0</td><td style=\"text-align: right;\">     0</td><td style=\"text-align: right;\">     0</td><td style=\"text-align: right;\">     0</td><td style=\"text-align: right;\">     0</td><td style=\"text-align: right;\">     0</td><td style=\"text-align: right;\">     0</td><td style=\"text-align: right;\">     0</td><td style=\"text-align: right;\">     0</td><td style=\"text-align: right;\">     0</td><td style=\"text-align: right;\">     0</td><td style=\"text-align: right;\">     0</td><td style=\"text-align: right;\">     0</td><td style=\"text-align: right;\">     0</td><td style=\"text-align: right;\">0      </td><td style=\"text-align: right;\">0        </td><td style=\"text-align: right;\">0        </td><td style=\"text-align: right;\">0        </td><td style=\"text-align: right;\">0        </td><td style=\"text-align: right;\">0        </td><td style=\"text-align: right;\">0       </td><td style=\"text-align: right;\">0       </td><td style=\"text-align: right;\">0       </td><td style=\"text-align: right;\">0       </td><td style=\"text-align: right;\">0        </td><td style=\"text-align: right;\">0       </td><td style=\"text-align: right;\">0       </td><td style=\"text-align: right;\">     0</td><td style=\"text-align: right;\">     0</td><td style=\"text-align: right;\">     0</td><td style=\"text-align: right;\">     0</td><td style=\"text-align: right;\">     0</td><td style=\"text-align: right;\">     0</td><td style=\"text-align: right;\">     0</td><td style=\"text-align: right;\">     0</td><td style=\"text-align: right;\">0       </td><td style=\"text-align: right;\">0       </td><td style=\"text-align: right;\">     0</td><td style=\"text-align: right;\">     0</td><td style=\"text-align: right;\">0       </td><td style=\"text-align: right;\">0       </td><td style=\"text-align: right;\">0       </td><td style=\"text-align: right;\">0       </td><td style=\"text-align: right;\">0       </td><td style=\"text-align: right;\">0       </td><td style=\"text-align: right;\">0       </td><td style=\"text-align: right;\">0       </td><td style=\"text-align: right;\">0       </td><td style=\"text-align: right;\">0       </td><td style=\"text-align: right;\">0       </td><td style=\"text-align: right;\">0       </td><td style=\"text-align: right;\">0       </td><td style=\"text-align: right;\">0       </td><td style=\"text-align: right;\">0       </td><td style=\"text-align: right;\">0      </td><td style=\"text-align: right;\">     0</td><td style=\"text-align: right;\">     0</td><td style=\"text-align: right;\">     0</td><td style=\"text-align: right;\">     0</td><td style=\"text-align: right;\">     0</td><td style=\"text-align: right;\">     0</td><td style=\"text-align: right;\">     0</td><td style=\"text-align: right;\">     0</td></tr>\n",
       "<tr><td style=\"text-align: right;\">   0</td><td style=\"text-align: right;\">   0</td><td style=\"text-align: right;\">   0</td><td style=\"text-align: right;\">   0</td><td style=\"text-align: right;\">   0</td><td style=\"text-align: right;\">   0</td><td style=\"text-align: right;\">   0</td><td style=\"text-align: right;\">   0</td><td style=\"text-align: right;\">   0</td><td style=\"text-align: right;\">    0</td><td style=\"text-align: right;\">    0</td><td style=\"text-align: right;\">    0</td><td style=\"text-align: right;\">    0</td><td style=\"text-align: right;\">    0</td><td style=\"text-align: right;\">    0</td><td style=\"text-align: right;\">    0</td><td style=\"text-align: right;\">    0</td><td style=\"text-align: right;\">    0</td><td style=\"text-align: right;\">    0</td><td style=\"text-align: right;\">    0</td><td style=\"text-align: right;\">    0</td><td style=\"text-align: right;\">    0</td><td style=\"text-align: right;\">    0</td><td style=\"text-align: right;\">    0</td><td style=\"text-align: right;\">    0</td><td style=\"text-align: right;\">    0</td><td style=\"text-align: right;\">    0</td><td style=\"text-align: right;\">    0</td><td style=\"text-align: right;\">    0</td><td style=\"text-align: right;\">    0</td><td style=\"text-align: right;\">    0</td><td style=\"text-align: right;\">    0</td><td style=\"text-align: right;\">    0</td><td style=\"text-align: right;\">    0</td><td style=\"text-align: right;\">    0</td><td style=\"text-align: right;\">    0</td><td style=\"text-align: right;\">    0</td><td style=\"text-align: right;\">    0</td><td style=\"text-align: right;\">    0</td><td style=\"text-align: right;\">    0</td><td style=\"text-align: right;\">    0</td><td style=\"text-align: right;\">    0</td><td style=\"text-align: right;\">    0</td><td style=\"text-align: right;\">    0</td><td style=\"text-align: right;\">    0</td><td style=\"text-align: right;\">    0</td><td style=\"text-align: right;\">    0</td><td style=\"text-align: right;\">    0</td><td style=\"text-align: right;\">    0</td><td style=\"text-align: right;\">    0</td><td style=\"text-align: right;\">    0</td><td style=\"text-align: right;\">    0</td><td style=\"text-align: right;\">    0</td><td style=\"text-align: right;\">    0</td><td style=\"text-align: right;\">    0</td><td style=\"text-align: right;\">    0</td><td style=\"text-align: right;\">    0</td><td style=\"text-align: right;\">    0</td><td style=\"text-align: right;\">    0</td><td style=\"text-align: right;\">    0</td><td style=\"text-align: right;\">    0</td><td style=\"text-align: right;\">    0</td><td style=\"text-align: right;\">    0</td><td style=\"text-align: right;\">    0</td><td style=\"text-align: right;\">    0</td><td style=\"text-align: right;\">    0</td><td style=\"text-align: right;\">    0</td><td style=\"text-align: right;\">    0</td><td style=\"text-align: right;\">    0</td><td style=\"text-align: right;\">    0</td><td style=\"text-align: right;\">    0</td><td style=\"text-align: right;\">    0</td><td style=\"text-align: right;\">    0</td><td style=\"text-align: right;\">    0</td><td style=\"text-align: right;\">    0</td><td style=\"text-align: right;\">    0</td><td style=\"text-align: right;\">    0</td><td style=\"text-align: right;\">    0</td><td style=\"text-align: right;\">    0</td><td style=\"text-align: right;\">    0</td><td style=\"text-align: right;\">    0</td><td style=\"text-align: right;\">    0</td><td style=\"text-align: right;\">    0</td><td style=\"text-align: right;\">    0</td><td style=\"text-align: right;\">    0</td><td style=\"text-align: right;\">    0</td><td style=\"text-align: right;\">    0</td><td style=\"text-align: right;\">    0</td><td style=\"text-align: right;\">    0</td><td style=\"text-align: right;\">    0</td><td style=\"text-align: right;\">    0</td><td style=\"text-align: right;\">    0</td><td style=\"text-align: right;\">    0</td><td style=\"text-align: right;\">    0</td><td style=\"text-align: right;\">    0</td><td style=\"text-align: right;\">    0</td><td style=\"text-align: right;\">    0</td><td style=\"text-align: right;\">    0</td><td style=\"text-align: right;\">    0</td><td style=\"text-align: right;\">     0</td><td style=\"text-align: right;\">     0</td><td style=\"text-align: right;\">     0</td><td style=\"text-align: right;\">     0</td><td style=\"text-align: right;\">     0</td><td style=\"text-align: right;\">     0</td><td style=\"text-align: right;\">     0</td><td style=\"text-align: right;\">     0</td><td style=\"text-align: right;\">     0</td><td style=\"text-align: right;\">     0</td><td style=\"text-align: right;\">     0</td><td style=\"text-align: right;\">     0</td><td style=\"text-align: right;\">     0</td><td style=\"text-align: right;\">     0</td><td style=\"text-align: right;\">     0</td><td style=\"text-align: right;\">     0</td><td style=\"text-align: right;\">     0</td><td style=\"text-align: right;\">     0</td><td style=\"text-align: right;\">     0</td><td style=\"text-align: right;\">     0</td><td style=\"text-align: right;\">     0</td><td style=\"text-align: right;\">     0</td><td style=\"text-align: right;\">     0</td><td style=\"text-align: right;\">     0</td><td style=\"text-align: right;\">     0</td><td style=\"text-align: right;\">     0</td><td style=\"text-align: right;\">     0</td><td style=\"text-align: right;\">     0</td><td style=\"text-align: right;\">     0</td><td style=\"text-align: right;\">     0</td><td style=\"text-align: right;\">     0</td><td style=\"text-align: right;\">     0</td><td style=\"text-align: right;\">     0</td><td style=\"text-align: right;\">     0</td><td style=\"text-align: right;\">     0</td><td style=\"text-align: right;\">     0</td><td style=\"text-align: right;\">     0</td><td style=\"text-align: right;\">     0</td><td style=\"text-align: right;\">     0</td><td style=\"text-align: right;\">     0</td><td style=\"text-align: right;\">     0</td><td style=\"text-align: right;\">     0</td><td style=\"text-align: right;\">     0</td><td style=\"text-align: right;\">     0</td><td style=\"text-align: right;\">     0</td><td style=\"text-align: right;\">     0</td><td style=\"text-align: right;\">     0</td><td style=\"text-align: right;\">     0</td><td style=\"text-align: right;\">     0</td><td style=\"text-align: right;\">     0</td><td style=\"text-align: right;\">     0</td><td style=\"text-align: right;\">     0</td><td style=\"text-align: right;\">0      </td><td style=\"text-align: right;\">0        </td><td style=\"text-align: right;\">0        </td><td style=\"text-align: right;\">0        </td><td style=\"text-align: right;\">0.0509804</td><td style=\"text-align: right;\">0.0980392</td><td style=\"text-align: right;\">0.392157</td><td style=\"text-align: right;\">0.478431</td><td style=\"text-align: right;\">0.027451</td><td style=\"text-align: right;\">0       </td><td style=\"text-align: right;\">0        </td><td style=\"text-align: right;\">0       </td><td style=\"text-align: right;\">0       </td><td style=\"text-align: right;\">     0</td><td style=\"text-align: right;\">     0</td><td style=\"text-align: right;\">     0</td><td style=\"text-align: right;\">     0</td><td style=\"text-align: right;\">     0</td><td style=\"text-align: right;\">     0</td><td style=\"text-align: right;\">     0</td><td style=\"text-align: right;\">     0</td><td style=\"text-align: right;\">0       </td><td style=\"text-align: right;\">0       </td><td style=\"text-align: right;\">     0</td><td style=\"text-align: right;\">     0</td><td style=\"text-align: right;\">0       </td><td style=\"text-align: right;\">0       </td><td style=\"text-align: right;\">0       </td><td style=\"text-align: right;\">0       </td><td style=\"text-align: right;\">0       </td><td style=\"text-align: right;\">0.129412</td><td style=\"text-align: right;\">0.592157</td><td style=\"text-align: right;\">0.815686</td><td style=\"text-align: right;\">0.988235</td><td style=\"text-align: right;\">0.988235</td><td style=\"text-align: right;\">0.988235</td><td style=\"text-align: right;\">0.572549</td><td style=\"text-align: right;\">0       </td><td style=\"text-align: right;\">0       </td><td style=\"text-align: right;\">0       </td><td style=\"text-align: right;\">0      </td><td style=\"text-align: right;\">     0</td><td style=\"text-align: right;\">     0</td><td style=\"text-align: right;\">     0</td><td style=\"text-align: right;\">     0</td><td style=\"text-align: right;\">     0</td><td style=\"text-align: right;\">     0</td><td style=\"text-align: right;\">     0</td><td style=\"text-align: right;\">     0</td></tr>\n",
       "<tr><td style=\"text-align: right;\">   0</td><td style=\"text-align: right;\">   0</td><td style=\"text-align: right;\">   0</td><td style=\"text-align: right;\">   0</td><td style=\"text-align: right;\">   0</td><td style=\"text-align: right;\">   0</td><td style=\"text-align: right;\">   0</td><td style=\"text-align: right;\">   0</td><td style=\"text-align: right;\">   0</td><td style=\"text-align: right;\">    0</td><td style=\"text-align: right;\">    0</td><td style=\"text-align: right;\">    0</td><td style=\"text-align: right;\">    0</td><td style=\"text-align: right;\">    0</td><td style=\"text-align: right;\">    0</td><td style=\"text-align: right;\">    0</td><td style=\"text-align: right;\">    0</td><td style=\"text-align: right;\">    0</td><td style=\"text-align: right;\">    0</td><td style=\"text-align: right;\">    0</td><td style=\"text-align: right;\">    0</td><td style=\"text-align: right;\">    0</td><td style=\"text-align: right;\">    0</td><td style=\"text-align: right;\">    0</td><td style=\"text-align: right;\">    0</td><td style=\"text-align: right;\">    0</td><td style=\"text-align: right;\">    0</td><td style=\"text-align: right;\">    0</td><td style=\"text-align: right;\">    0</td><td style=\"text-align: right;\">    0</td><td style=\"text-align: right;\">    0</td><td style=\"text-align: right;\">    0</td><td style=\"text-align: right;\">    0</td><td style=\"text-align: right;\">    0</td><td style=\"text-align: right;\">    0</td><td style=\"text-align: right;\">    0</td><td style=\"text-align: right;\">    0</td><td style=\"text-align: right;\">    0</td><td style=\"text-align: right;\">    0</td><td style=\"text-align: right;\">    0</td><td style=\"text-align: right;\">    0</td><td style=\"text-align: right;\">    0</td><td style=\"text-align: right;\">    0</td><td style=\"text-align: right;\">    0</td><td style=\"text-align: right;\">    0</td><td style=\"text-align: right;\">    0</td><td style=\"text-align: right;\">    0</td><td style=\"text-align: right;\">    0</td><td style=\"text-align: right;\">    0</td><td style=\"text-align: right;\">    0</td><td style=\"text-align: right;\">    0</td><td style=\"text-align: right;\">    0</td><td style=\"text-align: right;\">    0</td><td style=\"text-align: right;\">    0</td><td style=\"text-align: right;\">    0</td><td style=\"text-align: right;\">    0</td><td style=\"text-align: right;\">    0</td><td style=\"text-align: right;\">    0</td><td style=\"text-align: right;\">    0</td><td style=\"text-align: right;\">    0</td><td style=\"text-align: right;\">    0</td><td style=\"text-align: right;\">    0</td><td style=\"text-align: right;\">    0</td><td style=\"text-align: right;\">    0</td><td style=\"text-align: right;\">    0</td><td style=\"text-align: right;\">    0</td><td style=\"text-align: right;\">    0</td><td style=\"text-align: right;\">    0</td><td style=\"text-align: right;\">    0</td><td style=\"text-align: right;\">    0</td><td style=\"text-align: right;\">    0</td><td style=\"text-align: right;\">    0</td><td style=\"text-align: right;\">    0</td><td style=\"text-align: right;\">    0</td><td style=\"text-align: right;\">    0</td><td style=\"text-align: right;\">    0</td><td style=\"text-align: right;\">    0</td><td style=\"text-align: right;\">    0</td><td style=\"text-align: right;\">    0</td><td style=\"text-align: right;\">    0</td><td style=\"text-align: right;\">    0</td><td style=\"text-align: right;\">    0</td><td style=\"text-align: right;\">    0</td><td style=\"text-align: right;\">    0</td><td style=\"text-align: right;\">    0</td><td style=\"text-align: right;\">    0</td><td style=\"text-align: right;\">    0</td><td style=\"text-align: right;\">    0</td><td style=\"text-align: right;\">    0</td><td style=\"text-align: right;\">    0</td><td style=\"text-align: right;\">    0</td><td style=\"text-align: right;\">    0</td><td style=\"text-align: right;\">    0</td><td style=\"text-align: right;\">    0</td><td style=\"text-align: right;\">    0</td><td style=\"text-align: right;\">    0</td><td style=\"text-align: right;\">    0</td><td style=\"text-align: right;\">    0</td><td style=\"text-align: right;\">    0</td><td style=\"text-align: right;\">     0</td><td style=\"text-align: right;\">     0</td><td style=\"text-align: right;\">     0</td><td style=\"text-align: right;\">     0</td><td style=\"text-align: right;\">     0</td><td style=\"text-align: right;\">     0</td><td style=\"text-align: right;\">     0</td><td style=\"text-align: right;\">     0</td><td style=\"text-align: right;\">     0</td><td style=\"text-align: right;\">     0</td><td style=\"text-align: right;\">     0</td><td style=\"text-align: right;\">     0</td><td style=\"text-align: right;\">     0</td><td style=\"text-align: right;\">     0</td><td style=\"text-align: right;\">     0</td><td style=\"text-align: right;\">     0</td><td style=\"text-align: right;\">     0</td><td style=\"text-align: right;\">     0</td><td style=\"text-align: right;\">     0</td><td style=\"text-align: right;\">     0</td><td style=\"text-align: right;\">     0</td><td style=\"text-align: right;\">     0</td><td style=\"text-align: right;\">     0</td><td style=\"text-align: right;\">     0</td><td style=\"text-align: right;\">     0</td><td style=\"text-align: right;\">     0</td><td style=\"text-align: right;\">     0</td><td style=\"text-align: right;\">     0</td><td style=\"text-align: right;\">     0</td><td style=\"text-align: right;\">     0</td><td style=\"text-align: right;\">     0</td><td style=\"text-align: right;\">     0</td><td style=\"text-align: right;\">     0</td><td style=\"text-align: right;\">     0</td><td style=\"text-align: right;\">     0</td><td style=\"text-align: right;\">     0</td><td style=\"text-align: right;\">     0</td><td style=\"text-align: right;\">     0</td><td style=\"text-align: right;\">     0</td><td style=\"text-align: right;\">     0</td><td style=\"text-align: right;\">     0</td><td style=\"text-align: right;\">     0</td><td style=\"text-align: right;\">     0</td><td style=\"text-align: right;\">     0</td><td style=\"text-align: right;\">     0</td><td style=\"text-align: right;\">     0</td><td style=\"text-align: right;\">     0</td><td style=\"text-align: right;\">     0</td><td style=\"text-align: right;\">     0</td><td style=\"text-align: right;\">     0</td><td style=\"text-align: right;\">     0</td><td style=\"text-align: right;\">     0</td><td style=\"text-align: right;\">0.14902</td><td style=\"text-align: right;\">0.168627 </td><td style=\"text-align: right;\">0.411765 </td><td style=\"text-align: right;\">1        </td><td style=\"text-align: right;\">0.992157 </td><td style=\"text-align: right;\">0.992157 </td><td style=\"text-align: right;\">0.992157</td><td style=\"text-align: right;\">0.992157</td><td style=\"text-align: right;\">0.992157</td><td style=\"text-align: right;\">0.682353</td><td style=\"text-align: right;\">0.0235294</td><td style=\"text-align: right;\">0       </td><td style=\"text-align: right;\">0       </td><td style=\"text-align: right;\">     0</td><td style=\"text-align: right;\">     0</td><td style=\"text-align: right;\">     0</td><td style=\"text-align: right;\">     0</td><td style=\"text-align: right;\">     0</td><td style=\"text-align: right;\">     0</td><td style=\"text-align: right;\">     0</td><td style=\"text-align: right;\">     0</td><td style=\"text-align: right;\">0       </td><td style=\"text-align: right;\">0       </td><td style=\"text-align: right;\">     0</td><td style=\"text-align: right;\">     0</td><td style=\"text-align: right;\">0       </td><td style=\"text-align: right;\">0.168627</td><td style=\"text-align: right;\">0.545098</td><td style=\"text-align: right;\">0.878431</td><td style=\"text-align: right;\">0.886275</td><td style=\"text-align: right;\">0.988235</td><td style=\"text-align: right;\">0.992157</td><td style=\"text-align: right;\">0.988235</td><td style=\"text-align: right;\">0.988235</td><td style=\"text-align: right;\">0.988235</td><td style=\"text-align: right;\">0.988235</td><td style=\"text-align: right;\">0.988235</td><td style=\"text-align: right;\">0.988235</td><td style=\"text-align: right;\">0.619608</td><td style=\"text-align: right;\">0.054902</td><td style=\"text-align: right;\">0      </td><td style=\"text-align: right;\">     0</td><td style=\"text-align: right;\">     0</td><td style=\"text-align: right;\">     0</td><td style=\"text-align: right;\">     0</td><td style=\"text-align: right;\">     0</td><td style=\"text-align: right;\">     0</td><td style=\"text-align: right;\">     0</td><td style=\"text-align: right;\">     0</td></tr>\n",
       "</tbody>\n",
       "</table>"
      ]
     },
     "metadata": {},
     "output_type": "display_data"
    },
    {
     "data": {
      "text/plain": []
     },
     "execution_count": 20,
     "metadata": {},
     "output_type": "execute_result"
    }
   ],
   "source": [
    "frame_train.head(5)"
   ]
  },
  {
   "cell_type": "code",
   "execution_count": null,
   "metadata": {},
   "outputs": [],
   "source": []
  },
  {
   "cell_type": "code",
   "execution_count": 59,
   "metadata": {},
   "outputs": [],
   "source": [
    "from h2o.estimators import H2OAutoEncoderEstimator"
   ]
  },
  {
   "cell_type": "code",
   "execution_count": 60,
   "metadata": {},
   "outputs": [],
   "source": [
    "mod_ae = H2OAutoEncoderEstimator(activation = 'tanh')"
   ]
  },
  {
   "cell_type": "code",
   "execution_count": 62,
   "metadata": {},
   "outputs": [
    {
     "name": "stdout",
     "output_type": "stream",
     "text": [
      "deeplearning Model Build progress: |██████████████████████████████████████| 100%\n"
     ]
    }
   ],
   "source": [
    "mod_ae.train(training_frame=frame_train)"
   ]
  },
  {
   "cell_type": "code",
   "execution_count": 63,
   "metadata": {},
   "outputs": [
    {
     "name": "stdout",
     "output_type": "stream",
     "text": [
      "Model Details\n",
      "=============\n",
      "H2OAutoEncoderEstimator :  Deep Learning\n",
      "Model Key:  DeepLearning_model_python_1623209020200_3\n",
      "\n",
      "\n",
      "Status of Neuron Layers: auto-encoder, gaussian distribution, Quadratic loss, 325,511 weights/biases, 3.8 MB, 497,302 training samples, mini-batch size 1\n"
     ]
    },
    {
     "data": {
      "text/html": [
       "<div>\n",
       "<style scoped>\n",
       "    .dataframe tbody tr th:only-of-type {\n",
       "        vertical-align: middle;\n",
       "    }\n",
       "\n",
       "    .dataframe tbody tr th {\n",
       "        vertical-align: top;\n",
       "    }\n",
       "\n",
       "    .dataframe thead th {\n",
       "        text-align: right;\n",
       "    }\n",
       "</style>\n",
       "<table border=\"1\" class=\"dataframe\">\n",
       "  <thead>\n",
       "    <tr style=\"text-align: right;\">\n",
       "      <th></th>\n",
       "      <th></th>\n",
       "      <th>layer</th>\n",
       "      <th>units</th>\n",
       "      <th>type</th>\n",
       "      <th>dropout</th>\n",
       "      <th>l1</th>\n",
       "      <th>l2</th>\n",
       "      <th>mean_rate</th>\n",
       "      <th>rate_rms</th>\n",
       "      <th>momentum</th>\n",
       "      <th>mean_weight</th>\n",
       "      <th>weight_rms</th>\n",
       "      <th>mean_bias</th>\n",
       "      <th>bias_rms</th>\n",
       "    </tr>\n",
       "  </thead>\n",
       "  <tbody>\n",
       "    <tr>\n",
       "      <th>0</th>\n",
       "      <td></td>\n",
       "      <td>1</td>\n",
       "      <td>711</td>\n",
       "      <td>Input</td>\n",
       "      <td>0</td>\n",
       "      <td></td>\n",
       "      <td></td>\n",
       "      <td></td>\n",
       "      <td></td>\n",
       "      <td></td>\n",
       "      <td></td>\n",
       "      <td></td>\n",
       "      <td></td>\n",
       "      <td></td>\n",
       "    </tr>\n",
       "    <tr>\n",
       "      <th>1</th>\n",
       "      <td></td>\n",
       "      <td>2</td>\n",
       "      <td>200</td>\n",
       "      <td>Tanh</td>\n",
       "      <td>0</td>\n",
       "      <td>0</td>\n",
       "      <td>0</td>\n",
       "      <td>0.157731</td>\n",
       "      <td>0.345563</td>\n",
       "      <td>0</td>\n",
       "      <td>-0.000116092</td>\n",
       "      <td>0.0509603</td>\n",
       "      <td>0.00833792</td>\n",
       "      <td>0.0583447</td>\n",
       "    </tr>\n",
       "    <tr>\n",
       "      <th>2</th>\n",
       "      <td></td>\n",
       "      <td>3</td>\n",
       "      <td>200</td>\n",
       "      <td>Tanh</td>\n",
       "      <td>0</td>\n",
       "      <td>0</td>\n",
       "      <td>0</td>\n",
       "      <td>0.00367596</td>\n",
       "      <td>0.000715744</td>\n",
       "      <td>0</td>\n",
       "      <td>0.000221726</td>\n",
       "      <td>0.0633595</td>\n",
       "      <td>-0.00134838</td>\n",
       "      <td>0.0242269</td>\n",
       "    </tr>\n",
       "    <tr>\n",
       "      <th>3</th>\n",
       "      <td></td>\n",
       "      <td>4</td>\n",
       "      <td>711</td>\n",
       "      <td>Tanh</td>\n",
       "      <td></td>\n",
       "      <td>0</td>\n",
       "      <td>0</td>\n",
       "      <td>0.0130579</td>\n",
       "      <td>0.0137652</td>\n",
       "      <td>0</td>\n",
       "      <td>-0.000125168</td>\n",
       "      <td>0.0503743</td>\n",
       "      <td>0.0303422</td>\n",
       "      <td>0.0474014</td>\n",
       "    </tr>\n",
       "  </tbody>\n",
       "</table>\n",
       "</div>"
      ],
      "text/plain": [
       "     layer  units   type dropout l1 l2   mean_rate     rate_rms momentum  \\\n",
       "0        1    711  Input       0                                           \n",
       "1        2    200   Tanh       0  0  0    0.157731     0.345563        0   \n",
       "2        3    200   Tanh       0  0  0  0.00367596  0.000715744        0   \n",
       "3        4    711   Tanh          0  0   0.0130579    0.0137652        0   \n",
       "\n",
       "   mean_weight weight_rms   mean_bias   bias_rms  \n",
       "0                                                 \n",
       "1 -0.000116092  0.0509603  0.00833792  0.0583447  \n",
       "2  0.000221726  0.0633595 -0.00134838  0.0242269  \n",
       "3 -0.000125168  0.0503743   0.0303422  0.0474014  "
      ]
     },
     "metadata": {},
     "output_type": "display_data"
    },
    {
     "name": "stdout",
     "output_type": "stream",
     "text": [
      "\n",
      "\n",
      "ModelMetricsAutoEncoder: deeplearning\n",
      "** Reported on train data. **\n",
      "\n",
      "MSE: 0.006045404357532608\n",
      "RMSE: 0.07775219840964374\n",
      "\n",
      "Scoring History: \n"
     ]
    },
    {
     "data": {
      "text/html": [
       "<div>\n",
       "<style scoped>\n",
       "    .dataframe tbody tr th:only-of-type {\n",
       "        vertical-align: middle;\n",
       "    }\n",
       "\n",
       "    .dataframe tbody tr th {\n",
       "        vertical-align: top;\n",
       "    }\n",
       "\n",
       "    .dataframe thead th {\n",
       "        text-align: right;\n",
       "    }\n",
       "</style>\n",
       "<table border=\"1\" class=\"dataframe\">\n",
       "  <thead>\n",
       "    <tr style=\"text-align: right;\">\n",
       "      <th></th>\n",
       "      <th></th>\n",
       "      <th>timestamp</th>\n",
       "      <th>duration</th>\n",
       "      <th>training_speed</th>\n",
       "      <th>epochs</th>\n",
       "      <th>iterations</th>\n",
       "      <th>samples</th>\n",
       "      <th>training_rmse</th>\n",
       "      <th>training_mse</th>\n",
       "    </tr>\n",
       "  </thead>\n",
       "  <tbody>\n",
       "    <tr>\n",
       "      <th>0</th>\n",
       "      <td></td>\n",
       "      <td>2021-06-09 04:09:38</td>\n",
       "      <td>1.391 sec</td>\n",
       "      <td>0.00000 obs/sec</td>\n",
       "      <td>0.000000</td>\n",
       "      <td>0</td>\n",
       "      <td>0.0</td>\n",
       "      <td>0.326484</td>\n",
       "      <td>0.106592</td>\n",
       "    </tr>\n",
       "    <tr>\n",
       "      <th>1</th>\n",
       "      <td></td>\n",
       "      <td>2021-06-09 04:10:05</td>\n",
       "      <td>28.356 sec</td>\n",
       "      <td>1561 obs/sec</td>\n",
       "      <td>0.874047</td>\n",
       "      <td>1</td>\n",
       "      <td>41373.0</td>\n",
       "      <td>0.077752</td>\n",
       "      <td>0.006045</td>\n",
       "    </tr>\n",
       "    <tr>\n",
       "      <th>2</th>\n",
       "      <td></td>\n",
       "      <td>2021-06-09 04:10:32</td>\n",
       "      <td>55.480 sec</td>\n",
       "      <td>1560 obs/sec</td>\n",
       "      <td>1.751769</td>\n",
       "      <td>2</td>\n",
       "      <td>82920.0</td>\n",
       "      <td>0.245590</td>\n",
       "      <td>0.060314</td>\n",
       "    </tr>\n",
       "    <tr>\n",
       "      <th>3</th>\n",
       "      <td></td>\n",
       "      <td>2021-06-09 04:10:59</td>\n",
       "      <td>1 min 22.411 sec</td>\n",
       "      <td>1561 obs/sec</td>\n",
       "      <td>2.626027</td>\n",
       "      <td>3</td>\n",
       "      <td>124303.0</td>\n",
       "      <td>0.197500</td>\n",
       "      <td>0.039006</td>\n",
       "    </tr>\n",
       "    <tr>\n",
       "      <th>4</th>\n",
       "      <td></td>\n",
       "      <td>2021-06-09 04:11:28</td>\n",
       "      <td>1 min 51.767 sec</td>\n",
       "      <td>1527 obs/sec</td>\n",
       "      <td>3.501511</td>\n",
       "      <td>4</td>\n",
       "      <td>165744.0</td>\n",
       "      <td>0.152650</td>\n",
       "      <td>0.023302</td>\n",
       "    </tr>\n",
       "    <tr>\n",
       "      <th>5</th>\n",
       "      <td></td>\n",
       "      <td>2021-06-09 04:11:55</td>\n",
       "      <td>2 min 18.741 sec</td>\n",
       "      <td>1534 obs/sec</td>\n",
       "      <td>4.376740</td>\n",
       "      <td>5</td>\n",
       "      <td>207173.0</td>\n",
       "      <td>0.167088</td>\n",
       "      <td>0.027918</td>\n",
       "    </tr>\n",
       "    <tr>\n",
       "      <th>6</th>\n",
       "      <td></td>\n",
       "      <td>2021-06-09 04:12:22</td>\n",
       "      <td>2 min 45.731 sec</td>\n",
       "      <td>1539 obs/sec</td>\n",
       "      <td>5.251400</td>\n",
       "      <td>6</td>\n",
       "      <td>248575.0</td>\n",
       "      <td>0.131374</td>\n",
       "      <td>0.017259</td>\n",
       "    </tr>\n",
       "    <tr>\n",
       "      <th>7</th>\n",
       "      <td></td>\n",
       "      <td>2021-06-09 04:12:49</td>\n",
       "      <td>3 min 12.570 sec</td>\n",
       "      <td>1543 obs/sec</td>\n",
       "      <td>6.126291</td>\n",
       "      <td>7</td>\n",
       "      <td>289988.0</td>\n",
       "      <td>0.159682</td>\n",
       "      <td>0.025498</td>\n",
       "    </tr>\n",
       "    <tr>\n",
       "      <th>8</th>\n",
       "      <td></td>\n",
       "      <td>2021-06-09 04:13:16</td>\n",
       "      <td>3 min 39.622 sec</td>\n",
       "      <td>1546 obs/sec</td>\n",
       "      <td>7.002789</td>\n",
       "      <td>8</td>\n",
       "      <td>331477.0</td>\n",
       "      <td>0.127337</td>\n",
       "      <td>0.016215</td>\n",
       "    </tr>\n",
       "    <tr>\n",
       "      <th>9</th>\n",
       "      <td></td>\n",
       "      <td>2021-06-09 04:13:43</td>\n",
       "      <td>4 min  6.456 sec</td>\n",
       "      <td>1549 obs/sec</td>\n",
       "      <td>7.878927</td>\n",
       "      <td>9</td>\n",
       "      <td>372949.0</td>\n",
       "      <td>0.085750</td>\n",
       "      <td>0.007353</td>\n",
       "    </tr>\n",
       "    <tr>\n",
       "      <th>10</th>\n",
       "      <td></td>\n",
       "      <td>2021-06-09 04:14:10</td>\n",
       "      <td>4 min 33.447 sec</td>\n",
       "      <td>1550 obs/sec</td>\n",
       "      <td>8.754114</td>\n",
       "      <td>10</td>\n",
       "      <td>414376.0</td>\n",
       "      <td>0.299914</td>\n",
       "      <td>0.089949</td>\n",
       "    </tr>\n",
       "    <tr>\n",
       "      <th>11</th>\n",
       "      <td></td>\n",
       "      <td>2021-06-09 04:14:37</td>\n",
       "      <td>5 min  0.365 sec</td>\n",
       "      <td>1551 obs/sec</td>\n",
       "      <td>9.629175</td>\n",
       "      <td>11</td>\n",
       "      <td>455797.0</td>\n",
       "      <td>0.279265</td>\n",
       "      <td>0.077989</td>\n",
       "    </tr>\n",
       "    <tr>\n",
       "      <th>12</th>\n",
       "      <td></td>\n",
       "      <td>2021-06-09 04:15:04</td>\n",
       "      <td>5 min 27.386 sec</td>\n",
       "      <td>1552 obs/sec</td>\n",
       "      <td>10.506010</td>\n",
       "      <td>12</td>\n",
       "      <td>497302.0</td>\n",
       "      <td>0.289244</td>\n",
       "      <td>0.083662</td>\n",
       "    </tr>\n",
       "    <tr>\n",
       "      <th>13</th>\n",
       "      <td></td>\n",
       "      <td>2021-06-09 04:15:04</td>\n",
       "      <td>5 min 27.886 sec</td>\n",
       "      <td>1552 obs/sec</td>\n",
       "      <td>10.506010</td>\n",
       "      <td>12</td>\n",
       "      <td>497302.0</td>\n",
       "      <td>0.077752</td>\n",
       "      <td>0.006045</td>\n",
       "    </tr>\n",
       "  </tbody>\n",
       "</table>\n",
       "</div>"
      ],
      "text/plain": [
       "                timestamp           duration   training_speed     epochs  \\\n",
       "0     2021-06-09 04:09:38          1.391 sec  0.00000 obs/sec   0.000000   \n",
       "1     2021-06-09 04:10:05         28.356 sec     1561 obs/sec   0.874047   \n",
       "2     2021-06-09 04:10:32         55.480 sec     1560 obs/sec   1.751769   \n",
       "3     2021-06-09 04:10:59   1 min 22.411 sec     1561 obs/sec   2.626027   \n",
       "4     2021-06-09 04:11:28   1 min 51.767 sec     1527 obs/sec   3.501511   \n",
       "5     2021-06-09 04:11:55   2 min 18.741 sec     1534 obs/sec   4.376740   \n",
       "6     2021-06-09 04:12:22   2 min 45.731 sec     1539 obs/sec   5.251400   \n",
       "7     2021-06-09 04:12:49   3 min 12.570 sec     1543 obs/sec   6.126291   \n",
       "8     2021-06-09 04:13:16   3 min 39.622 sec     1546 obs/sec   7.002789   \n",
       "9     2021-06-09 04:13:43   4 min  6.456 sec     1549 obs/sec   7.878927   \n",
       "10    2021-06-09 04:14:10   4 min 33.447 sec     1550 obs/sec   8.754114   \n",
       "11    2021-06-09 04:14:37   5 min  0.365 sec     1551 obs/sec   9.629175   \n",
       "12    2021-06-09 04:15:04   5 min 27.386 sec     1552 obs/sec  10.506010   \n",
       "13    2021-06-09 04:15:04   5 min 27.886 sec     1552 obs/sec  10.506010   \n",
       "\n",
       "    iterations   samples  training_rmse  training_mse  \n",
       "0            0       0.0       0.326484      0.106592  \n",
       "1            1   41373.0       0.077752      0.006045  \n",
       "2            2   82920.0       0.245590      0.060314  \n",
       "3            3  124303.0       0.197500      0.039006  \n",
       "4            4  165744.0       0.152650      0.023302  \n",
       "5            5  207173.0       0.167088      0.027918  \n",
       "6            6  248575.0       0.131374      0.017259  \n",
       "7            7  289988.0       0.159682      0.025498  \n",
       "8            8  331477.0       0.127337      0.016215  \n",
       "9            9  372949.0       0.085750      0.007353  \n",
       "10          10  414376.0       0.299914      0.089949  \n",
       "11          11  455797.0       0.279265      0.077989  \n",
       "12          12  497302.0       0.289244      0.083662  \n",
       "13          12  497302.0       0.077752      0.006045  "
      ]
     },
     "metadata": {},
     "output_type": "display_data"
    },
    {
     "name": "stdout",
     "output_type": "stream",
     "text": [
      "\n",
      "Variable Importances: \n"
     ]
    },
    {
     "data": {
      "text/html": [
       "<div>\n",
       "<style scoped>\n",
       "    .dataframe tbody tr th:only-of-type {\n",
       "        vertical-align: middle;\n",
       "    }\n",
       "\n",
       "    .dataframe tbody tr th {\n",
       "        vertical-align: top;\n",
       "    }\n",
       "\n",
       "    .dataframe thead th {\n",
       "        text-align: right;\n",
       "    }\n",
       "</style>\n",
       "<table border=\"1\" class=\"dataframe\">\n",
       "  <thead>\n",
       "    <tr style=\"text-align: right;\">\n",
       "      <th></th>\n",
       "      <th>variable</th>\n",
       "      <th>relative_importance</th>\n",
       "      <th>scaled_importance</th>\n",
       "      <th>percentage</th>\n",
       "    </tr>\n",
       "  </thead>\n",
       "  <tbody>\n",
       "    <tr>\n",
       "      <th>0</th>\n",
       "      <td>C683</td>\n",
       "      <td>1.000000</td>\n",
       "      <td>1.000000</td>\n",
       "      <td>0.001716</td>\n",
       "    </tr>\n",
       "    <tr>\n",
       "      <th>1</th>\n",
       "      <td>C294</td>\n",
       "      <td>0.999189</td>\n",
       "      <td>0.999189</td>\n",
       "      <td>0.001715</td>\n",
       "    </tr>\n",
       "    <tr>\n",
       "      <th>2</th>\n",
       "      <td>C713</td>\n",
       "      <td>0.997597</td>\n",
       "      <td>0.997597</td>\n",
       "      <td>0.001712</td>\n",
       "    </tr>\n",
       "    <tr>\n",
       "      <th>3</th>\n",
       "      <td>C187</td>\n",
       "      <td>0.981643</td>\n",
       "      <td>0.981643</td>\n",
       "      <td>0.001685</td>\n",
       "    </tr>\n",
       "    <tr>\n",
       "      <th>4</th>\n",
       "      <td>C296</td>\n",
       "      <td>0.980435</td>\n",
       "      <td>0.980435</td>\n",
       "      <td>0.001683</td>\n",
       "    </tr>\n",
       "    <tr>\n",
       "      <th>5</th>\n",
       "      <td>C190</td>\n",
       "      <td>0.979125</td>\n",
       "      <td>0.979125</td>\n",
       "      <td>0.001681</td>\n",
       "    </tr>\n",
       "    <tr>\n",
       "      <th>6</th>\n",
       "      <td>C712</td>\n",
       "      <td>0.973194</td>\n",
       "      <td>0.973194</td>\n",
       "      <td>0.001670</td>\n",
       "    </tr>\n",
       "    <tr>\n",
       "      <th>7</th>\n",
       "      <td>C159</td>\n",
       "      <td>0.970314</td>\n",
       "      <td>0.970314</td>\n",
       "      <td>0.001666</td>\n",
       "    </tr>\n",
       "    <tr>\n",
       "      <th>8</th>\n",
       "      <td>C714</td>\n",
       "      <td>0.966141</td>\n",
       "      <td>0.966141</td>\n",
       "      <td>0.001658</td>\n",
       "    </tr>\n",
       "    <tr>\n",
       "      <th>9</th>\n",
       "      <td>C268</td>\n",
       "      <td>0.963841</td>\n",
       "      <td>0.963841</td>\n",
       "      <td>0.001654</td>\n",
       "    </tr>\n",
       "    <tr>\n",
       "      <th>10</th>\n",
       "      <td>C323</td>\n",
       "      <td>0.962400</td>\n",
       "      <td>0.962400</td>\n",
       "      <td>0.001652</td>\n",
       "    </tr>\n",
       "    <tr>\n",
       "      <th>11</th>\n",
       "      <td>C103</td>\n",
       "      <td>0.959398</td>\n",
       "      <td>0.959398</td>\n",
       "      <td>0.001647</td>\n",
       "    </tr>\n",
       "    <tr>\n",
       "      <th>12</th>\n",
       "      <td>C241</td>\n",
       "      <td>0.957187</td>\n",
       "      <td>0.957187</td>\n",
       "      <td>0.001643</td>\n",
       "    </tr>\n",
       "    <tr>\n",
       "      <th>13</th>\n",
       "      <td>C518</td>\n",
       "      <td>0.956454</td>\n",
       "      <td>0.956454</td>\n",
       "      <td>0.001642</td>\n",
       "    </tr>\n",
       "    <tr>\n",
       "      <th>14</th>\n",
       "      <td>C656</td>\n",
       "      <td>0.956313</td>\n",
       "      <td>0.956313</td>\n",
       "      <td>0.001641</td>\n",
       "    </tr>\n",
       "    <tr>\n",
       "      <th>15</th>\n",
       "      <td>C322</td>\n",
       "      <td>0.954424</td>\n",
       "      <td>0.954424</td>\n",
       "      <td>0.001638</td>\n",
       "    </tr>\n",
       "    <tr>\n",
       "      <th>16</th>\n",
       "      <td>C184</td>\n",
       "      <td>0.954092</td>\n",
       "      <td>0.954092</td>\n",
       "      <td>0.001638</td>\n",
       "    </tr>\n",
       "    <tr>\n",
       "      <th>17</th>\n",
       "      <td>C263</td>\n",
       "      <td>0.953069</td>\n",
       "      <td>0.953069</td>\n",
       "      <td>0.001636</td>\n",
       "    </tr>\n",
       "    <tr>\n",
       "      <th>18</th>\n",
       "      <td>C688</td>\n",
       "      <td>0.951536</td>\n",
       "      <td>0.951536</td>\n",
       "      <td>0.001633</td>\n",
       "    </tr>\n",
       "    <tr>\n",
       "      <th>19</th>\n",
       "      <td>C716</td>\n",
       "      <td>0.950904</td>\n",
       "      <td>0.950904</td>\n",
       "      <td>0.001632</td>\n",
       "    </tr>\n",
       "  </tbody>\n",
       "</table>\n",
       "</div>"
      ],
      "text/plain": [
       "   variable  relative_importance  scaled_importance  percentage\n",
       "0      C683             1.000000           1.000000    0.001716\n",
       "1      C294             0.999189           0.999189    0.001715\n",
       "2      C713             0.997597           0.997597    0.001712\n",
       "3      C187             0.981643           0.981643    0.001685\n",
       "4      C296             0.980435           0.980435    0.001683\n",
       "5      C190             0.979125           0.979125    0.001681\n",
       "6      C712             0.973194           0.973194    0.001670\n",
       "7      C159             0.970314           0.970314    0.001666\n",
       "8      C714             0.966141           0.966141    0.001658\n",
       "9      C268             0.963841           0.963841    0.001654\n",
       "10     C323             0.962400           0.962400    0.001652\n",
       "11     C103             0.959398           0.959398    0.001647\n",
       "12     C241             0.957187           0.957187    0.001643\n",
       "13     C518             0.956454           0.956454    0.001642\n",
       "14     C656             0.956313           0.956313    0.001641\n",
       "15     C322             0.954424           0.954424    0.001638\n",
       "16     C184             0.954092           0.954092    0.001638\n",
       "17     C263             0.953069           0.953069    0.001636\n",
       "18     C688             0.951536           0.951536    0.001633\n",
       "19     C716             0.950904           0.950904    0.001632"
      ]
     },
     "metadata": {},
     "output_type": "display_data"
    },
    {
     "name": "stdout",
     "output_type": "stream",
     "text": [
      "\n",
      "See the whole table with table.as_data_frame()\n"
     ]
    },
    {
     "data": {
      "text/plain": []
     },
     "execution_count": 63,
     "metadata": {},
     "output_type": "execute_result"
    }
   ],
   "source": [
    "mod_ae"
   ]
  },
  {
   "cell_type": "code",
   "execution_count": 64,
   "metadata": {},
   "outputs": [
    {
     "name": "stdout",
     "output_type": "stream",
     "text": [
      "deeplearning prediction progress: |███████████████████████████████████████| 100%\n"
     ]
    },
    {
     "data": {
      "text/plain": [
       "(10000, 711)"
      ]
     },
     "execution_count": 64,
     "metadata": {},
     "output_type": "execute_result"
    }
   ],
   "source": [
    "# テストデータに対するスコアリング\n",
    "encoded = mod_ae.predict(frame_test)\n",
    "\n",
    "# predictを実行すると、出力層からのアウトプット（入力値の再現）となる\n",
    "encoded.shape"
   ]
  },
  {
   "cell_type": "code",
   "execution_count": 66,
   "metadata": {},
   "outputs": [
    {
     "data": {
      "text/html": [
       "<table>\n",
       "<thead>\n",
       "<tr><th style=\"text-align: right;\">  Reconstruction.MSE</th></tr>\n",
       "</thead>\n",
       "<tbody>\n",
       "<tr><td style=\"text-align: right;\">          0.00374973</td></tr>\n",
       "<tr><td style=\"text-align: right;\">          0.00930078</td></tr>\n",
       "<tr><td style=\"text-align: right;\">          0.00366314</td></tr>\n",
       "<tr><td style=\"text-align: right;\">          0.00587697</td></tr>\n",
       "<tr><td style=\"text-align: right;\">          0.00460482</td></tr>\n",
       "<tr><td style=\"text-align: right;\">          0.0033758 </td></tr>\n",
       "<tr><td style=\"text-align: right;\">          0.00396493</td></tr>\n",
       "<tr><td style=\"text-align: right;\">          0.00887274</td></tr>\n",
       "<tr><td style=\"text-align: right;\">          0.00803243</td></tr>\n",
       "<tr><td style=\"text-align: right;\">          0.0064605 </td></tr>\n",
       "</tbody>\n",
       "</table>"
      ]
     },
     "metadata": {},
     "output_type": "display_data"
    },
    {
     "data": {
      "text/plain": []
     },
     "execution_count": 66,
     "metadata": {},
     "output_type": "execute_result"
    }
   ],
   "source": [
    "# テストデータに対するスコアリング。異常値スコア（MSE）を取得\n",
    "score_ae = dl_model.anomaly(frame_test)\n",
    "score_ae.head()"
   ]
  },
  {
   "cell_type": "code",
   "execution_count": 67,
   "metadata": {},
   "outputs": [
    {
     "data": {
      "image/png": "[encoded data removed]",
      "text/plain": [
       "<Figure size 432x288 with 1 Axes>"
      ]
     },
     "metadata": {
      "needs_background": "light"
     },
     "output_type": "display_data"
    }
   ],
   "source": [
    "score_ae.hist()"
   ]
  },
  {
   "cell_type": "code",
   "execution_count": 68,
   "metadata": {},
   "outputs": [
    {
     "data": {
      "text/html": [
       "<table>\n",
       "<thead>\n",
       "<tr><th style=\"text-align: right;\">  Probs</th><th style=\"text-align: right;\">  Reconstruction.MSEQuantiles</th></tr>\n",
       "</thead>\n",
       "<tbody>\n",
       "<tr><td style=\"text-align: right;\">  0.01 </td><td style=\"text-align: right;\">                   0.0029367 </td></tr>\n",
       "<tr><td style=\"text-align: right;\">  0.1  </td><td style=\"text-align: right;\">                   0.00356752</td></tr>\n",
       "<tr><td style=\"text-align: right;\">  0.25 </td><td style=\"text-align: right;\">                   0.00417168</td></tr>\n",
       "<tr><td style=\"text-align: right;\">  0.333</td><td style=\"text-align: right;\">                   0.00449456</td></tr>\n",
       "<tr><td style=\"text-align: right;\">  0.5  </td><td style=\"text-align: right;\">                   0.00523841</td></tr>\n",
       "<tr><td style=\"text-align: right;\">  0.667</td><td style=\"text-align: right;\">                   0.00632185</td></tr>\n",
       "<tr><td style=\"text-align: right;\">  0.75 </td><td style=\"text-align: right;\">                   0.00704375</td></tr>\n",
       "<tr><td style=\"text-align: right;\">  0.9  </td><td style=\"text-align: right;\">                   0.00936319</td></tr>\n",
       "<tr><td style=\"text-align: right;\">  0.99 </td><td style=\"text-align: right;\">                   0.0143135 </td></tr>\n",
       "</tbody>\n",
       "</table>"
      ]
     },
     "metadata": {},
     "output_type": "display_data"
    },
    {
     "data": {
      "text/plain": []
     },
     "execution_count": 68,
     "metadata": {},
     "output_type": "execute_result"
    }
   ],
   "source": [
    "score_ae.quantile()"
   ]
  },
  {
   "cell_type": "code",
   "execution_count": null,
   "metadata": {},
   "outputs": [],
   "source": []
  },
  {
   "cell_type": "code",
   "execution_count": null,
   "metadata": {},
   "outputs": [],
   "source": []
  },
  {
   "cell_type": "code",
   "execution_count": null,
   "metadata": {},
   "outputs": [],
   "source": []
  },
  {
   "cell_type": "code",
   "execution_count": null,
   "metadata": {},
   "outputs": [],
   "source": []
  },
  {
   "cell_type": "code",
   "execution_count": null,
   "metadata": {},
   "outputs": [],
   "source": []
  },
  {
   "cell_type": "markdown",
   "metadata": {},
   "source": [
    "#### モデル学習"
   ]
  },
  {
   "cell_type": "code",
   "execution_count": 22,
   "metadata": {},
   "outputs": [],
   "source": [
    "from h2o.estimators import H2ODeepLearningEstimator"
   ]
  },
  {
   "cell_type": "markdown",
   "metadata": {},
   "source": [
    "H2ODeepLearningEstimator\n",
    "- [Doc](https://docs.h2o.ai/h2o/latest-stable/h2o-docs/data-science/deep-learning.html)\n",
    "- [Python API](http://docs.h2o.ai/h2o/latest-stable/h2o-py/docs/modeling.html#h2odeeplearningestimator)"
   ]
  },
  {
   "cell_type": "markdown",
   "metadata": {},
   "source": [
    "H2OAutoEncoderEstimatorで実施しても良いが、H2ODeepLearningEstimatorの引数で`autoencoder = True`と指定するとAutoencoderが実施できる"
   ]
  },
  {
   "cell_type": "code",
   "execution_count": 23,
   "metadata": {},
   "outputs": [],
   "source": [
    "dl_model = H2ODeepLearningEstimator(\n",
    "    seed = 1234,\n",
    "    autoencoder = True,\n",
    "    activation = 'tanh',    # 活性化関数\n",
    "    l2=1e-5,                      # 正則化\n",
    ")"
   ]
  },
  {
   "cell_type": "code",
   "execution_count": 24,
   "metadata": {},
   "outputs": [
    {
     "name": "stdout",
     "output_type": "stream",
     "text": [
      "No model trained yet\n"
     ]
    },
    {
     "data": {
      "text/plain": []
     },
     "execution_count": 24,
     "metadata": {},
     "output_type": "execute_result"
    }
   ],
   "source": [
    "dl_model"
   ]
  },
  {
   "cell_type": "code",
   "execution_count": 26,
   "metadata": {},
   "outputs": [
    {
     "name": "stdout",
     "output_type": "stream",
     "text": [
      "deeplearning Model Build progress: |██████████████████████████████████████| 100%\n"
     ]
    }
   ],
   "source": [
    "dl_model.train(training_frame=frame_train)"
   ]
  },
  {
   "cell_type": "code",
   "execution_count": 27,
   "metadata": {},
   "outputs": [
    {
     "name": "stdout",
     "output_type": "stream",
     "text": [
      "Model Details\n",
      "=============\n",
      "H2ODeepLearningEstimator :  Deep Learning\n",
      "Model Key:  DeepLearning_model_python_1623209020200_1\n",
      "\n",
      "\n",
      "Status of Neuron Layers: auto-encoder, gaussian distribution, Quadratic loss, 325,511 weights/biases, 3.8 MB, 502,287 training samples, mini-batch size 1\n"
     ]
    },
    {
     "data": {
      "text/html": [
       "<div>\n",
       "<style scoped>\n",
       "    .dataframe tbody tr th:only-of-type {\n",
       "        vertical-align: middle;\n",
       "    }\n",
       "\n",
       "    .dataframe tbody tr th {\n",
       "        vertical-align: top;\n",
       "    }\n",
       "\n",
       "    .dataframe thead th {\n",
       "        text-align: right;\n",
       "    }\n",
       "</style>\n",
       "<table border=\"1\" class=\"dataframe\">\n",
       "  <thead>\n",
       "    <tr style=\"text-align: right;\">\n",
       "      <th></th>\n",
       "      <th></th>\n",
       "      <th>layer</th>\n",
       "      <th>units</th>\n",
       "      <th>type</th>\n",
       "      <th>dropout</th>\n",
       "      <th>l1</th>\n",
       "      <th>l2</th>\n",
       "      <th>mean_rate</th>\n",
       "      <th>rate_rms</th>\n",
       "      <th>momentum</th>\n",
       "      <th>mean_weight</th>\n",
       "      <th>weight_rms</th>\n",
       "      <th>mean_bias</th>\n",
       "      <th>bias_rms</th>\n",
       "    </tr>\n",
       "  </thead>\n",
       "  <tbody>\n",
       "    <tr>\n",
       "      <th>0</th>\n",
       "      <td></td>\n",
       "      <td>1</td>\n",
       "      <td>711</td>\n",
       "      <td>Input</td>\n",
       "      <td>0</td>\n",
       "      <td></td>\n",
       "      <td></td>\n",
       "      <td></td>\n",
       "      <td></td>\n",
       "      <td></td>\n",
       "      <td></td>\n",
       "      <td></td>\n",
       "      <td></td>\n",
       "      <td></td>\n",
       "    </tr>\n",
       "    <tr>\n",
       "      <th>1</th>\n",
       "      <td></td>\n",
       "      <td>2</td>\n",
       "      <td>200</td>\n",
       "      <td>Tanh</td>\n",
       "      <td>0</td>\n",
       "      <td>0</td>\n",
       "      <td>1e-05</td>\n",
       "      <td>0.153188</td>\n",
       "      <td>0.340938</td>\n",
       "      <td>0</td>\n",
       "      <td>-5.61297e-05</td>\n",
       "      <td>0.0492487</td>\n",
       "      <td>0.00120635</td>\n",
       "      <td>0.0522181</td>\n",
       "    </tr>\n",
       "    <tr>\n",
       "      <th>2</th>\n",
       "      <td></td>\n",
       "      <td>3</td>\n",
       "      <td>200</td>\n",
       "      <td>Tanh</td>\n",
       "      <td>0</td>\n",
       "      <td>0</td>\n",
       "      <td>1e-05</td>\n",
       "      <td>0.00380569</td>\n",
       "      <td>0.000763971</td>\n",
       "      <td>0</td>\n",
       "      <td>9.04671e-05</td>\n",
       "      <td>0.0633094</td>\n",
       "      <td>-0.000563086</td>\n",
       "      <td>0.0226602</td>\n",
       "    </tr>\n",
       "    <tr>\n",
       "      <th>3</th>\n",
       "      <td></td>\n",
       "      <td>4</td>\n",
       "      <td>711</td>\n",
       "      <td>Tanh</td>\n",
       "      <td></td>\n",
       "      <td>0</td>\n",
       "      <td>1e-05</td>\n",
       "      <td>0.0135354</td>\n",
       "      <td>0.0142152</td>\n",
       "      <td>0</td>\n",
       "      <td>4.73887e-05</td>\n",
       "      <td>0.0502506</td>\n",
       "      <td>0.0295448</td>\n",
       "      <td>0.0469863</td>\n",
       "    </tr>\n",
       "  </tbody>\n",
       "</table>\n",
       "</div>"
      ],
      "text/plain": [
       "     layer  units   type dropout l1     l2   mean_rate     rate_rms momentum  \\\n",
       "0        1    711  Input       0                                               \n",
       "1        2    200   Tanh       0  0  1e-05    0.153188     0.340938        0   \n",
       "2        3    200   Tanh       0  0  1e-05  0.00380569  0.000763971        0   \n",
       "3        4    711   Tanh          0  1e-05   0.0135354    0.0142152        0   \n",
       "\n",
       "   mean_weight weight_rms    mean_bias   bias_rms  \n",
       "0                                                  \n",
       "1 -5.61297e-05  0.0492487   0.00120635  0.0522181  \n",
       "2  9.04671e-05  0.0633094 -0.000563086  0.0226602  \n",
       "3  4.73887e-05  0.0502506    0.0295448  0.0469863  "
      ]
     },
     "metadata": {},
     "output_type": "display_data"
    },
    {
     "name": "stdout",
     "output_type": "stream",
     "text": [
      "\n",
      "\n",
      "ModelMetricsAutoEncoder: deeplearning\n",
      "** Reported on train data. **\n",
      "\n",
      "MSE: 0.006019540481501037\n",
      "RMSE: 0.07758569766072247\n",
      "\n",
      "Scoring History: \n"
     ]
    },
    {
     "data": {
      "text/html": [
       "<div>\n",
       "<style scoped>\n",
       "    .dataframe tbody tr th:only-of-type {\n",
       "        vertical-align: middle;\n",
       "    }\n",
       "\n",
       "    .dataframe tbody tr th {\n",
       "        vertical-align: top;\n",
       "    }\n",
       "\n",
       "    .dataframe thead th {\n",
       "        text-align: right;\n",
       "    }\n",
       "</style>\n",
       "<table border=\"1\" class=\"dataframe\">\n",
       "  <thead>\n",
       "    <tr style=\"text-align: right;\">\n",
       "      <th></th>\n",
       "      <th></th>\n",
       "      <th>timestamp</th>\n",
       "      <th>duration</th>\n",
       "      <th>training_speed</th>\n",
       "      <th>epochs</th>\n",
       "      <th>iterations</th>\n",
       "      <th>samples</th>\n",
       "      <th>training_rmse</th>\n",
       "      <th>training_mse</th>\n",
       "    </tr>\n",
       "  </thead>\n",
       "  <tbody>\n",
       "    <tr>\n",
       "      <th>0</th>\n",
       "      <td></td>\n",
       "      <td>2021-06-09 03:29:18</td>\n",
       "      <td>2.107 sec</td>\n",
       "      <td>0.00000 obs/sec</td>\n",
       "      <td>0.000000</td>\n",
       "      <td>0</td>\n",
       "      <td>0.0</td>\n",
       "      <td>0.326464</td>\n",
       "      <td>0.106579</td>\n",
       "    </tr>\n",
       "    <tr>\n",
       "      <th>1</th>\n",
       "      <td></td>\n",
       "      <td>2021-06-09 03:29:46</td>\n",
       "      <td>29.759 sec</td>\n",
       "      <td>1541 obs/sec</td>\n",
       "      <td>0.884800</td>\n",
       "      <td>1</td>\n",
       "      <td>41882.0</td>\n",
       "      <td>0.077586</td>\n",
       "      <td>0.006020</td>\n",
       "    </tr>\n",
       "    <tr>\n",
       "      <th>2</th>\n",
       "      <td></td>\n",
       "      <td>2021-06-09 03:30:14</td>\n",
       "      <td>57.107 sec</td>\n",
       "      <td>1548 obs/sec</td>\n",
       "      <td>1.767931</td>\n",
       "      <td>2</td>\n",
       "      <td>83685.0</td>\n",
       "      <td>0.247395</td>\n",
       "      <td>0.061204</td>\n",
       "    </tr>\n",
       "    <tr>\n",
       "      <th>3</th>\n",
       "      <td></td>\n",
       "      <td>2021-06-09 03:30:41</td>\n",
       "      <td>1 min 24.365 sec</td>\n",
       "      <td>1552 obs/sec</td>\n",
       "      <td>2.652012</td>\n",
       "      <td>3</td>\n",
       "      <td>125533.0</td>\n",
       "      <td>0.272615</td>\n",
       "      <td>0.074319</td>\n",
       "    </tr>\n",
       "    <tr>\n",
       "      <th>4</th>\n",
       "      <td></td>\n",
       "      <td>2021-06-09 03:31:10</td>\n",
       "      <td>1 min 53.281 sec</td>\n",
       "      <td>1531 obs/sec</td>\n",
       "      <td>3.536052</td>\n",
       "      <td>4</td>\n",
       "      <td>167379.0</td>\n",
       "      <td>0.209563</td>\n",
       "      <td>0.043917</td>\n",
       "    </tr>\n",
       "    <tr>\n",
       "      <th>5</th>\n",
       "      <td></td>\n",
       "      <td>2021-06-09 03:31:38</td>\n",
       "      <td>2 min 20.832 sec</td>\n",
       "      <td>1534 obs/sec</td>\n",
       "      <td>4.420725</td>\n",
       "      <td>5</td>\n",
       "      <td>209255.0</td>\n",
       "      <td>0.190582</td>\n",
       "      <td>0.036322</td>\n",
       "    </tr>\n",
       "    <tr>\n",
       "      <th>6</th>\n",
       "      <td></td>\n",
       "      <td>2021-06-09 03:32:05</td>\n",
       "      <td>2 min 48.076 sec</td>\n",
       "      <td>1538 obs/sec</td>\n",
       "      <td>5.302778</td>\n",
       "      <td>6</td>\n",
       "      <td>251007.0</td>\n",
       "      <td>0.260204</td>\n",
       "      <td>0.067706</td>\n",
       "    </tr>\n",
       "    <tr>\n",
       "      <th>7</th>\n",
       "      <td></td>\n",
       "      <td>2021-06-09 03:32:32</td>\n",
       "      <td>3 min 15.501 sec</td>\n",
       "      <td>1540 obs/sec</td>\n",
       "      <td>6.188148</td>\n",
       "      <td>7</td>\n",
       "      <td>292916.0</td>\n",
       "      <td>0.144940</td>\n",
       "      <td>0.021008</td>\n",
       "    </tr>\n",
       "    <tr>\n",
       "      <th>8</th>\n",
       "      <td></td>\n",
       "      <td>2021-06-09 03:33:00</td>\n",
       "      <td>3 min 42.786 sec</td>\n",
       "      <td>1543 obs/sec</td>\n",
       "      <td>7.072399</td>\n",
       "      <td>8</td>\n",
       "      <td>334772.0</td>\n",
       "      <td>0.191795</td>\n",
       "      <td>0.036785</td>\n",
       "    </tr>\n",
       "    <tr>\n",
       "      <th>9</th>\n",
       "      <td></td>\n",
       "      <td>2021-06-09 03:33:27</td>\n",
       "      <td>4 min 10.186 sec</td>\n",
       "      <td>1544 obs/sec</td>\n",
       "      <td>7.955889</td>\n",
       "      <td>9</td>\n",
       "      <td>376592.0</td>\n",
       "      <td>0.328980</td>\n",
       "      <td>0.108228</td>\n",
       "    </tr>\n",
       "    <tr>\n",
       "      <th>10</th>\n",
       "      <td></td>\n",
       "      <td>2021-06-09 03:33:54</td>\n",
       "      <td>4 min 37.619 sec</td>\n",
       "      <td>1545 obs/sec</td>\n",
       "      <td>8.840055</td>\n",
       "      <td>10</td>\n",
       "      <td>418444.0</td>\n",
       "      <td>0.149238</td>\n",
       "      <td>0.022272</td>\n",
       "    </tr>\n",
       "    <tr>\n",
       "      <th>11</th>\n",
       "      <td></td>\n",
       "      <td>2021-06-09 03:34:22</td>\n",
       "      <td>5 min  4.990 sec</td>\n",
       "      <td>1546 obs/sec</td>\n",
       "      <td>9.724834</td>\n",
       "      <td>11</td>\n",
       "      <td>460325.0</td>\n",
       "      <td>0.150844</td>\n",
       "      <td>0.022754</td>\n",
       "    </tr>\n",
       "    <tr>\n",
       "      <th>12</th>\n",
       "      <td></td>\n",
       "      <td>2021-06-09 03:34:49</td>\n",
       "      <td>5 min 32.553 sec</td>\n",
       "      <td>1546 obs/sec</td>\n",
       "      <td>10.611324</td>\n",
       "      <td>12</td>\n",
       "      <td>502287.0</td>\n",
       "      <td>0.189023</td>\n",
       "      <td>0.035730</td>\n",
       "    </tr>\n",
       "    <tr>\n",
       "      <th>13</th>\n",
       "      <td></td>\n",
       "      <td>2021-06-09 03:34:50</td>\n",
       "      <td>5 min 33.061 sec</td>\n",
       "      <td>1546 obs/sec</td>\n",
       "      <td>10.611324</td>\n",
       "      <td>12</td>\n",
       "      <td>502287.0</td>\n",
       "      <td>0.077586</td>\n",
       "      <td>0.006020</td>\n",
       "    </tr>\n",
       "  </tbody>\n",
       "</table>\n",
       "</div>"
      ],
      "text/plain": [
       "                timestamp           duration   training_speed     epochs  \\\n",
       "0     2021-06-09 03:29:18          2.107 sec  0.00000 obs/sec   0.000000   \n",
       "1     2021-06-09 03:29:46         29.759 sec     1541 obs/sec   0.884800   \n",
       "2     2021-06-09 03:30:14         57.107 sec     1548 obs/sec   1.767931   \n",
       "3     2021-06-09 03:30:41   1 min 24.365 sec     1552 obs/sec   2.652012   \n",
       "4     2021-06-09 03:31:10   1 min 53.281 sec     1531 obs/sec   3.536052   \n",
       "5     2021-06-09 03:31:38   2 min 20.832 sec     1534 obs/sec   4.420725   \n",
       "6     2021-06-09 03:32:05   2 min 48.076 sec     1538 obs/sec   5.302778   \n",
       "7     2021-06-09 03:32:32   3 min 15.501 sec     1540 obs/sec   6.188148   \n",
       "8     2021-06-09 03:33:00   3 min 42.786 sec     1543 obs/sec   7.072399   \n",
       "9     2021-06-09 03:33:27   4 min 10.186 sec     1544 obs/sec   7.955889   \n",
       "10    2021-06-09 03:33:54   4 min 37.619 sec     1545 obs/sec   8.840055   \n",
       "11    2021-06-09 03:34:22   5 min  4.990 sec     1546 obs/sec   9.724834   \n",
       "12    2021-06-09 03:34:49   5 min 32.553 sec     1546 obs/sec  10.611324   \n",
       "13    2021-06-09 03:34:50   5 min 33.061 sec     1546 obs/sec  10.611324   \n",
       "\n",
       "    iterations   samples  training_rmse  training_mse  \n",
       "0            0       0.0       0.326464      0.106579  \n",
       "1            1   41882.0       0.077586      0.006020  \n",
       "2            2   83685.0       0.247395      0.061204  \n",
       "3            3  125533.0       0.272615      0.074319  \n",
       "4            4  167379.0       0.209563      0.043917  \n",
       "5            5  209255.0       0.190582      0.036322  \n",
       "6            6  251007.0       0.260204      0.067706  \n",
       "7            7  292916.0       0.144940      0.021008  \n",
       "8            8  334772.0       0.191795      0.036785  \n",
       "9            9  376592.0       0.328980      0.108228  \n",
       "10          10  418444.0       0.149238      0.022272  \n",
       "11          11  460325.0       0.150844      0.022754  \n",
       "12          12  502287.0       0.189023      0.035730  \n",
       "13          12  502287.0       0.077586      0.006020  "
      ]
     },
     "metadata": {},
     "output_type": "display_data"
    },
    {
     "name": "stdout",
     "output_type": "stream",
     "text": [
      "\n",
      "Variable Importances: \n"
     ]
    },
    {
     "data": {
      "text/html": [
       "<div>\n",
       "<style scoped>\n",
       "    .dataframe tbody tr th:only-of-type {\n",
       "        vertical-align: middle;\n",
       "    }\n",
       "\n",
       "    .dataframe tbody tr th {\n",
       "        vertical-align: top;\n",
       "    }\n",
       "\n",
       "    .dataframe thead th {\n",
       "        text-align: right;\n",
       "    }\n",
       "</style>\n",
       "<table border=\"1\" class=\"dataframe\">\n",
       "  <thead>\n",
       "    <tr style=\"text-align: right;\">\n",
       "      <th></th>\n",
       "      <th>variable</th>\n",
       "      <th>relative_importance</th>\n",
       "      <th>scaled_importance</th>\n",
       "      <th>percentage</th>\n",
       "    </tr>\n",
       "  </thead>\n",
       "  <tbody>\n",
       "    <tr>\n",
       "      <th>0</th>\n",
       "      <td>C713</td>\n",
       "      <td>1.000000</td>\n",
       "      <td>1.000000</td>\n",
       "      <td>0.001829</td>\n",
       "    </tr>\n",
       "    <tr>\n",
       "      <th>1</th>\n",
       "      <td>C689</td>\n",
       "      <td>0.985970</td>\n",
       "      <td>0.985970</td>\n",
       "      <td>0.001804</td>\n",
       "    </tr>\n",
       "    <tr>\n",
       "      <th>2</th>\n",
       "      <td>C714</td>\n",
       "      <td>0.982967</td>\n",
       "      <td>0.982967</td>\n",
       "      <td>0.001798</td>\n",
       "    </tr>\n",
       "    <tr>\n",
       "      <th>3</th>\n",
       "      <td>C688</td>\n",
       "      <td>0.979673</td>\n",
       "      <td>0.979673</td>\n",
       "      <td>0.001792</td>\n",
       "    </tr>\n",
       "    <tr>\n",
       "      <th>4</th>\n",
       "      <td>C658</td>\n",
       "      <td>0.978205</td>\n",
       "      <td>0.978205</td>\n",
       "      <td>0.001789</td>\n",
       "    </tr>\n",
       "    <tr>\n",
       "      <th>5</th>\n",
       "      <td>C715</td>\n",
       "      <td>0.968576</td>\n",
       "      <td>0.968576</td>\n",
       "      <td>0.001772</td>\n",
       "    </tr>\n",
       "    <tr>\n",
       "      <th>6</th>\n",
       "      <td>C716</td>\n",
       "      <td>0.964992</td>\n",
       "      <td>0.964992</td>\n",
       "      <td>0.001765</td>\n",
       "    </tr>\n",
       "    <tr>\n",
       "      <th>7</th>\n",
       "      <td>C436</td>\n",
       "      <td>0.961484</td>\n",
       "      <td>0.961484</td>\n",
       "      <td>0.001759</td>\n",
       "    </tr>\n",
       "    <tr>\n",
       "      <th>8</th>\n",
       "      <td>C431</td>\n",
       "      <td>0.960884</td>\n",
       "      <td>0.960884</td>\n",
       "      <td>0.001758</td>\n",
       "    </tr>\n",
       "    <tr>\n",
       "      <th>9</th>\n",
       "      <td>C687</td>\n",
       "      <td>0.959832</td>\n",
       "      <td>0.959832</td>\n",
       "      <td>0.001756</td>\n",
       "    </tr>\n",
       "    <tr>\n",
       "      <th>10</th>\n",
       "      <td>C709</td>\n",
       "      <td>0.957871</td>\n",
       "      <td>0.957871</td>\n",
       "      <td>0.001752</td>\n",
       "    </tr>\n",
       "    <tr>\n",
       "      <th>11</th>\n",
       "      <td>C377</td>\n",
       "      <td>0.953607</td>\n",
       "      <td>0.953607</td>\n",
       "      <td>0.001744</td>\n",
       "    </tr>\n",
       "    <tr>\n",
       "      <th>12</th>\n",
       "      <td>C210</td>\n",
       "      <td>0.953537</td>\n",
       "      <td>0.953537</td>\n",
       "      <td>0.001744</td>\n",
       "    </tr>\n",
       "    <tr>\n",
       "      <th>13</th>\n",
       "      <td>C297</td>\n",
       "      <td>0.953501</td>\n",
       "      <td>0.953501</td>\n",
       "      <td>0.001744</td>\n",
       "    </tr>\n",
       "    <tr>\n",
       "      <th>14</th>\n",
       "      <td>C102</td>\n",
       "      <td>0.952097</td>\n",
       "      <td>0.952097</td>\n",
       "      <td>0.001742</td>\n",
       "    </tr>\n",
       "    <tr>\n",
       "      <th>15</th>\n",
       "      <td>C710</td>\n",
       "      <td>0.952006</td>\n",
       "      <td>0.952006</td>\n",
       "      <td>0.001741</td>\n",
       "    </tr>\n",
       "    <tr>\n",
       "      <th>16</th>\n",
       "      <td>C685</td>\n",
       "      <td>0.951955</td>\n",
       "      <td>0.951955</td>\n",
       "      <td>0.001741</td>\n",
       "    </tr>\n",
       "    <tr>\n",
       "      <th>17</th>\n",
       "      <td>C352</td>\n",
       "      <td>0.951790</td>\n",
       "      <td>0.951790</td>\n",
       "      <td>0.001741</td>\n",
       "    </tr>\n",
       "    <tr>\n",
       "      <th>18</th>\n",
       "      <td>C296</td>\n",
       "      <td>0.949199</td>\n",
       "      <td>0.949199</td>\n",
       "      <td>0.001736</td>\n",
       "    </tr>\n",
       "    <tr>\n",
       "      <th>19</th>\n",
       "      <td>C295</td>\n",
       "      <td>0.949185</td>\n",
       "      <td>0.949185</td>\n",
       "      <td>0.001736</td>\n",
       "    </tr>\n",
       "  </tbody>\n",
       "</table>\n",
       "</div>"
      ],
      "text/plain": [
       "   variable  relative_importance  scaled_importance  percentage\n",
       "0      C713             1.000000           1.000000    0.001829\n",
       "1      C689             0.985970           0.985970    0.001804\n",
       "2      C714             0.982967           0.982967    0.001798\n",
       "3      C688             0.979673           0.979673    0.001792\n",
       "4      C658             0.978205           0.978205    0.001789\n",
       "5      C715             0.968576           0.968576    0.001772\n",
       "6      C716             0.964992           0.964992    0.001765\n",
       "7      C436             0.961484           0.961484    0.001759\n",
       "8      C431             0.960884           0.960884    0.001758\n",
       "9      C687             0.959832           0.959832    0.001756\n",
       "10     C709             0.957871           0.957871    0.001752\n",
       "11     C377             0.953607           0.953607    0.001744\n",
       "12     C210             0.953537           0.953537    0.001744\n",
       "13     C297             0.953501           0.953501    0.001744\n",
       "14     C102             0.952097           0.952097    0.001742\n",
       "15     C710             0.952006           0.952006    0.001741\n",
       "16     C685             0.951955           0.951955    0.001741\n",
       "17     C352             0.951790           0.951790    0.001741\n",
       "18     C296             0.949199           0.949199    0.001736\n",
       "19     C295             0.949185           0.949185    0.001736"
      ]
     },
     "metadata": {},
     "output_type": "display_data"
    },
    {
     "name": "stdout",
     "output_type": "stream",
     "text": [
      "\n",
      "See the whole table with table.as_data_frame()\n"
     ]
    },
    {
     "data": {
      "text/plain": []
     },
     "execution_count": 27,
     "metadata": {},
     "output_type": "execute_result"
    }
   ],
   "source": [
    "dl_model"
   ]
  },
  {
   "cell_type": "code",
   "execution_count": 58,
   "metadata": {},
   "outputs": [
    {
     "name": "stdout",
     "output_type": "stream",
     "text": [
      "deeplearning prediction progress: |███████████████████████████████████████| 100%\n"
     ]
    },
    {
     "data": {
      "text/plain": [
       "(10000, 711)"
      ]
     },
     "execution_count": 58,
     "metadata": {},
     "output_type": "execute_result"
    }
   ],
   "source": [
    "# テストデータに対するスコアリング\n",
    "encoded = dl_model.predict(frame_test)\n",
    "\n",
    "# predictを実行すると、出力層からのアウトプット（入力値の再現）となる\n",
    "encoded.shape"
   ]
  },
  {
   "cell_type": "code",
   "execution_count": 28,
   "metadata": {},
   "outputs": [
    {
     "data": {
      "text/html": [
       "<table>\n",
       "<thead>\n",
       "<tr><th style=\"text-align: right;\">  Reconstruction.MSE</th></tr>\n",
       "</thead>\n",
       "<tbody>\n",
       "<tr><td style=\"text-align: right;\">          0.00374973</td></tr>\n",
       "<tr><td style=\"text-align: right;\">          0.00930078</td></tr>\n",
       "<tr><td style=\"text-align: right;\">          0.00366314</td></tr>\n",
       "<tr><td style=\"text-align: right;\">          0.00587697</td></tr>\n",
       "<tr><td style=\"text-align: right;\">          0.00460482</td></tr>\n",
       "<tr><td style=\"text-align: right;\">          0.0033758 </td></tr>\n",
       "<tr><td style=\"text-align: right;\">          0.00396493</td></tr>\n",
       "<tr><td style=\"text-align: right;\">          0.00887274</td></tr>\n",
       "<tr><td style=\"text-align: right;\">          0.00803243</td></tr>\n",
       "<tr><td style=\"text-align: right;\">          0.0064605 </td></tr>\n",
       "</tbody>\n",
       "</table>"
      ]
     },
     "metadata": {},
     "output_type": "display_data"
    },
    {
     "data": {
      "text/plain": []
     },
     "execution_count": 28,
     "metadata": {},
     "output_type": "execute_result"
    }
   ],
   "source": [
    "# テストデータに対するスコアリング。異常値スコア（MSE）を取得\n",
    "score_ae = dl_model.anomaly(frame_test)\n",
    "score_ae.head()"
   ]
  },
  {
   "cell_type": "code",
   "execution_count": 29,
   "metadata": {},
   "outputs": [
    {
     "data": {
      "image/png": "[encoded data removed]",
      "text/plain": [
       "<Figure size 432x288 with 1 Axes>"
      ]
     },
     "metadata": {
      "needs_background": "light"
     },
     "output_type": "display_data"
    }
   ],
   "source": [
    "score_ae.hist()"
   ]
  },
  {
   "cell_type": "code",
   "execution_count": 30,
   "metadata": {},
   "outputs": [
    {
     "data": {
      "text/html": [
       "<table>\n",
       "<thead>\n",
       "<tr><th style=\"text-align: right;\">  Probs</th><th style=\"text-align: right;\">  Reconstruction.MSEQuantiles</th></tr>\n",
       "</thead>\n",
       "<tbody>\n",
       "<tr><td style=\"text-align: right;\">  0.01 </td><td style=\"text-align: right;\">                   0.0029367 </td></tr>\n",
       "<tr><td style=\"text-align: right;\">  0.1  </td><td style=\"text-align: right;\">                   0.00356752</td></tr>\n",
       "<tr><td style=\"text-align: right;\">  0.25 </td><td style=\"text-align: right;\">                   0.00417168</td></tr>\n",
       "<tr><td style=\"text-align: right;\">  0.333</td><td style=\"text-align: right;\">                   0.00449456</td></tr>\n",
       "<tr><td style=\"text-align: right;\">  0.5  </td><td style=\"text-align: right;\">                   0.00523841</td></tr>\n",
       "<tr><td style=\"text-align: right;\">  0.667</td><td style=\"text-align: right;\">                   0.00632185</td></tr>\n",
       "<tr><td style=\"text-align: right;\">  0.75 </td><td style=\"text-align: right;\">                   0.00704375</td></tr>\n",
       "<tr><td style=\"text-align: right;\">  0.9  </td><td style=\"text-align: right;\">                   0.00936319</td></tr>\n",
       "<tr><td style=\"text-align: right;\">  0.99 </td><td style=\"text-align: right;\">                   0.0143135 </td></tr>\n",
       "</tbody>\n",
       "</table>"
      ]
     },
     "metadata": {},
     "output_type": "display_data"
    },
    {
     "data": {
      "text/plain": []
     },
     "execution_count": 30,
     "metadata": {},
     "output_type": "execute_result"
    }
   ],
   "source": [
    "score_ae.quantile()"
   ]
  },
  {
   "cell_type": "markdown",
   "metadata": {},
   "source": [
    "### 精度検証"
   ]
  },
  {
   "cell_type": "code",
   "execution_count": 54,
   "metadata": {},
   "outputs": [],
   "source": [
    "from sklearn.metrics import roc_curve, auc, precision_recall_curve\n",
    "import pandas as pd\n",
    "import numpy as np"
   ]
  },
  {
   "cell_type": "code",
   "execution_count": 69,
   "metadata": {
    "scrolled": true
   },
   "outputs": [
    {
     "data": {
      "text/html": [
       "<div>\n",
       "<style scoped>\n",
       "    .dataframe tbody tr th:only-of-type {\n",
       "        vertical-align: middle;\n",
       "    }\n",
       "\n",
       "    .dataframe tbody tr th {\n",
       "        vertical-align: top;\n",
       "    }\n",
       "\n",
       "    .dataframe thead th {\n",
       "        text-align: right;\n",
       "    }\n",
       "</style>\n",
       "<table border=\"1\" class=\"dataframe\">\n",
       "  <thead>\n",
       "    <tr style=\"text-align: right;\">\n",
       "      <th></th>\n",
       "      <th>Reconstruction.MSE</th>\n",
       "      <th>Actual_Label</th>\n",
       "      <th>Actual_AnomalyFlag</th>\n",
       "    </tr>\n",
       "  </thead>\n",
       "  <tbody>\n",
       "    <tr>\n",
       "      <th>0</th>\n",
       "      <td>0.003750</td>\n",
       "      <td>7</td>\n",
       "      <td>0</td>\n",
       "    </tr>\n",
       "    <tr>\n",
       "      <th>1</th>\n",
       "      <td>0.009301</td>\n",
       "      <td>2</td>\n",
       "      <td>0</td>\n",
       "    </tr>\n",
       "    <tr>\n",
       "      <th>2</th>\n",
       "      <td>0.003663</td>\n",
       "      <td>1</td>\n",
       "      <td>1</td>\n",
       "    </tr>\n",
       "    <tr>\n",
       "      <th>3</th>\n",
       "      <td>0.005877</td>\n",
       "      <td>0</td>\n",
       "      <td>1</td>\n",
       "    </tr>\n",
       "    <tr>\n",
       "      <th>4</th>\n",
       "      <td>0.004605</td>\n",
       "      <td>4</td>\n",
       "      <td>0</td>\n",
       "    </tr>\n",
       "  </tbody>\n",
       "</table>\n",
       "</div>"
      ],
      "text/plain": [
       "   Reconstruction.MSE  Actual_Label  Actual_AnomalyFlag\n",
       "0            0.003750             7                   0\n",
       "1            0.009301             2                   0\n",
       "2            0.003663             1                   1\n",
       "3            0.005877             0                   1\n",
       "4            0.004605             4                   0"
      ]
     },
     "execution_count": 69,
     "metadata": {},
     "output_type": "execute_result"
    }
   ],
   "source": [
    "# pandas.DataFrameへ変換（ローカル環境上のオブジェクトにロード）\n",
    "df_res = score_ae['Reconstruction.MSE'].as_data_frame()\n",
    "df_res['Actual_Label'] = y_test                                     # 0,1,2,..,9の元々の正解ラベル\n",
    "df_res['Actual_AnomalyFlag'] = y_test_anomaly       # 0,1が異常（1）、0,1以外が正常（0）とするフラグ\n",
    "\n",
    "df_res.head()"
   ]
  },
  {
   "cell_type": "code",
   "execution_count": 70,
   "metadata": {},
   "outputs": [],
   "source": [
    "actual = df_res['Actual_AnomalyFlag']   # 実測\n",
    "anomaly_score = df_res['Reconstruction.MSE']  # 予測"
   ]
  },
  {
   "cell_type": "code",
   "execution_count": 71,
   "metadata": {},
   "outputs": [
    {
     "data": {
      "text/plain": [
       "[]"
      ]
     },
     "execution_count": 71,
     "metadata": {},
     "output_type": "execute_result"
    },
    {
     "data": {
      "image/png": "[encoded data removed]",
      "text/plain": [
       "<Figure size 1080x72 with 1 Axes>"
      ]
     },
     "metadata": {
      "needs_background": "light"
     },
     "output_type": "display_data"
    }
   ],
   "source": [
    "# 予実プロット\n",
    "plt.figure(figsize=[15,1])\n",
    "plt.scatter(anomaly_score, actual, alpha=0.1)\n",
    "plt.xlabel('anomaly_score')\n",
    "plt.ylabel('actual')\n",
    "plt.plot()"
   ]
  },
  {
   "cell_type": "code",
   "execution_count": null,
   "metadata": {},
   "outputs": [],
   "source": []
  },
  {
   "cell_type": "code",
   "execution_count": 72,
   "metadata": {},
   "outputs": [],
   "source": [
    "fpr, tpr, threshold = roc_curve(actual, anomaly_score)"
   ]
  },
  {
   "cell_type": "code",
   "execution_count": 73,
   "metadata": {},
   "outputs": [
    {
     "data": {
      "text/plain": [
       "0.43004285900601286"
      ]
     },
     "execution_count": 73,
     "metadata": {},
     "output_type": "execute_result"
    }
   ],
   "source": [
    "# AUC\n",
    "auc_value = auc(fpr, tpr)\n",
    "auc_value"
   ]
  },
  {
   "cell_type": "code",
   "execution_count": 74,
   "metadata": {},
   "outputs": [
    {
     "data": {
      "text/plain": [
       "[]"
      ]
     },
     "execution_count": 74,
     "metadata": {},
     "output_type": "execute_result"
    },
    {
     "data": {
      "image/png": "[encoded data removed]",
      "text/plain": [
       "<Figure size 360x360 with 1 Axes>"
      ]
     },
     "metadata": {
      "needs_background": "light"
     },
     "output_type": "display_data"
    }
   ],
   "source": [
    "# ROC曲線\n",
    "plt.figure(figsize=[5,5])\n",
    "plt.plot(fpr, tpr, label=\"AUC:{:.3f}\".format(auc_value))\n",
    "plt.plot(np.arange(0,1.1,0.1), np.arange(0,1.1,0.1), '--', color='gray')    # 斜め４５度線\n",
    "plt.xlabel('FPR')\n",
    "plt.ylabel('TPR(Sensitivity)')\n",
    "plt.legend(loc='lower right')\n",
    "plt.plot()"
   ]
  },
  {
   "cell_type": "code",
   "execution_count": null,
   "metadata": {},
   "outputs": [],
   "source": []
  }
 ],
 "metadata": {
  "kernelspec": {
   "display_name": "Python 3",
   "language": "python",
   "name": "python3"
  },
  "language_info": {
   "codemirror_mode": {
    "name": "ipython",
    "version": 3
   },
   "file_extension": ".py",
   "mimetype": "text/x-python",
   "name": "python",
   "nbconvert_exporter": "python",
   "pygments_lexer": "ipython3",
   "version": "3.6.12"
  }
 },
 "nbformat": 4,
 "nbformat_minor": 4
}
