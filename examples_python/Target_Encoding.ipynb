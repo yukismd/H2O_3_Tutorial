{
 "cells": [
  {
   "cell_type": "markdown",
   "id": "8a2171b4",
   "metadata": {},
   "source": [
    "# Target Encoding"
   ]
  },
  {
   "cell_type": "code",
   "execution_count": 1,
   "id": "3131e066",
   "metadata": {},
   "outputs": [
    {
     "data": {
      "text/plain": [
       "'3.36.0.4'"
      ]
     },
     "execution_count": 1,
     "metadata": {},
     "output_type": "execute_result"
    }
   ],
   "source": [
    "import h2o\n",
    "from h2o.estimators import H2OTargetEncoderEstimator\n",
    "from h2o.estimators.gbm import H2OGradientBoostingEstimator\n",
    "\n",
    "h2o.__version__"
   ]
  },
  {
   "cell_type": "code",
   "execution_count": 2,
   "id": "a15c954e",
   "metadata": {},
   "outputs": [],
   "source": [
    "import pandas as pd"
   ]
  },
  {
   "cell_type": "code",
   "execution_count": 3,
   "id": "607e7fa6",
   "metadata": {},
   "outputs": [
    {
     "name": "stdout",
     "output_type": "stream",
     "text": [
      "Checking whether there is an H2O instance running at http://localhost:54321 ..... not found.\n",
      "Attempting to start a local H2O server...\n",
      "  Java Version: java version \"11.0.9\" 2020-10-20 LTS; Java(TM) SE Runtime Environment 18.9 (build 11.0.9+7-LTS); Java HotSpot(TM) 64-Bit Server VM 18.9 (build 11.0.9+7-LTS, mixed mode)\n",
      "  Starting server from /opt/anaconda3/lib/python3.8/site-packages/h2o/backend/bin/h2o.jar\n",
      "  Ice root: /var/folders/50/glkvvhjx03g22fwy2r0tgylr0000gn/T/tmpn_b_o__h\n",
      "  JVM stdout: /var/folders/50/glkvvhjx03g22fwy2r0tgylr0000gn/T/tmpn_b_o__h/h2o_YShimada_MBP16_started_from_python.out\n",
      "  JVM stderr: /var/folders/50/glkvvhjx03g22fwy2r0tgylr0000gn/T/tmpn_b_o__h/h2o_YShimada_MBP16_started_from_python.err\n",
      "  Server is running at http://127.0.0.1:54321\n",
      "Connecting to H2O server at http://127.0.0.1:54321 ... successful.\n"
     ]
    },
    {
     "data": {
      "text/html": [
       "<div style=\"overflow:auto\"><table style=\"width:50%\"><tr><td>H2O_cluster_uptime:</td>\n",
       "<td>02 secs</td></tr>\n",
       "<tr><td>H2O_cluster_timezone:</td>\n",
       "<td>Asia/Tokyo</td></tr>\n",
       "<tr><td>H2O_data_parsing_timezone:</td>\n",
       "<td>UTC</td></tr>\n",
       "<tr><td>H2O_cluster_version:</td>\n",
       "<td>3.36.0.4</td></tr>\n",
       "<tr><td>H2O_cluster_version_age:</td>\n",
       "<td>2 months and 26 days </td></tr>\n",
       "<tr><td>H2O_cluster_name:</td>\n",
       "<td>H2O_from_python_YShimada_MBP16_3vlam4</td></tr>\n",
       "<tr><td>H2O_cluster_total_nodes:</td>\n",
       "<td>1</td></tr>\n",
       "<tr><td>H2O_cluster_free_memory:</td>\n",
       "<td>8 Gb</td></tr>\n",
       "<tr><td>H2O_cluster_total_cores:</td>\n",
       "<td>16</td></tr>\n",
       "<tr><td>H2O_cluster_allowed_cores:</td>\n",
       "<td>16</td></tr>\n",
       "<tr><td>H2O_cluster_status:</td>\n",
       "<td>locked, healthy</td></tr>\n",
       "<tr><td>H2O_connection_url:</td>\n",
       "<td>http://127.0.0.1:54321</td></tr>\n",
       "<tr><td>H2O_connection_proxy:</td>\n",
       "<td>{\"http\": null, \"https\": null}</td></tr>\n",
       "<tr><td>H2O_internal_security:</td>\n",
       "<td>False</td></tr>\n",
       "<tr><td>Python_version:</td>\n",
       "<td>3.8.3 final</td></tr></table></div>"
      ],
      "text/plain": [
       "--------------------------  -------------------------------------\n",
       "H2O_cluster_uptime:         02 secs\n",
       "H2O_cluster_timezone:       Asia/Tokyo\n",
       "H2O_data_parsing_timezone:  UTC\n",
       "H2O_cluster_version:        3.36.0.4\n",
       "H2O_cluster_version_age:    2 months and 26 days\n",
       "H2O_cluster_name:           H2O_from_python_YShimada_MBP16_3vlam4\n",
       "H2O_cluster_total_nodes:    1\n",
       "H2O_cluster_free_memory:    8 Gb\n",
       "H2O_cluster_total_cores:    16\n",
       "H2O_cluster_allowed_cores:  16\n",
       "H2O_cluster_status:         locked, healthy\n",
       "H2O_connection_url:         http://127.0.0.1:54321\n",
       "H2O_connection_proxy:       {\"http\": null, \"https\": null}\n",
       "H2O_internal_security:      False\n",
       "Python_version:             3.8.3 final\n",
       "--------------------------  -------------------------------------"
      ]
     },
     "metadata": {},
     "output_type": "display_data"
    }
   ],
   "source": [
    "h2o.init()"
   ]
  },
  {
   "cell_type": "markdown",
   "id": "8a72fed2",
   "metadata": {},
   "source": [
    "データに関して: [H2O.ai Blog](https://h2o.ai/blog/driverless-ai-can-help-you-choose-what-you-consume-next/)"
   ]
  },
  {
   "cell_type": "code",
   "execution_count": 4,
   "id": "692e4bef",
   "metadata": {},
   "outputs": [
    {
     "name": "stdout",
     "output_type": "stream",
     "text": [
      "Parse progress: |████████████████████████████████████████████████████████████████| (done) 100%\n"
     ]
    },
    {
     "data": {
      "text/plain": [
       "(1000000, 3)"
      ]
     },
     "execution_count": 4,
     "metadata": {},
     "output_type": "execute_result"
    }
   ],
   "source": [
    "# 学習データ\n",
    "fm_train = h2o.import_file('https://raw.githubusercontent.com/vopani/Recommendation-Datasets/main/movielens20m/movielens_train_sample.csv',\n",
    "                          col_types={'movieId':'enum', 'userId':'enum'})\n",
    "fm_train = fm_train[['movieId', 'userId', 'rating']]\n",
    "fm_train.shape"
   ]
  },
  {
   "cell_type": "code",
   "execution_count": 5,
   "id": "d41fab05",
   "metadata": {},
   "outputs": [
    {
     "name": "stdout",
     "output_type": "stream",
     "text": [
      "Parse progress: |████████████████████████████████████████████████████████████████| (done) 100%\n"
     ]
    },
    {
     "data": {
      "text/plain": [
       "(100000, 3)"
      ]
     },
     "execution_count": 5,
     "metadata": {},
     "output_type": "execute_result"
    }
   ],
   "source": [
    "# テストデータ\n",
    "fm_test = h2o.import_file('https://raw.githubusercontent.com/vopani/Recommendation-Datasets/main/movielens20m/movielens_test_sample.csv',\n",
    "                                                    col_types={'movieId':'enum', 'userId':'enum'})\n",
    "fm_test = fm_test[['movieId', 'userId', 'rating']]\n",
    "fm_test.shape"
   ]
  },
  {
   "cell_type": "code",
   "execution_count": 6,
   "id": "21f8f15f",
   "metadata": {},
   "outputs": [
    {
     "data": {
      "text/html": [
       "<table>\n",
       "<thead>\n",
       "<tr><th style=\"text-align: right;\">  movieId</th><th style=\"text-align: right;\">  userId</th><th style=\"text-align: right;\">  rating</th></tr>\n",
       "</thead>\n",
       "<tbody>\n",
       "<tr><td style=\"text-align: right;\">        1</td><td style=\"text-align: right;\">      91</td><td style=\"text-align: right;\">       4</td></tr>\n",
       "<tr><td style=\"text-align: right;\">        1</td><td style=\"text-align: right;\">     221</td><td style=\"text-align: right;\">       4</td></tr>\n",
       "<tr><td style=\"text-align: right;\">        1</td><td style=\"text-align: right;\">     238</td><td style=\"text-align: right;\">       4</td></tr>\n",
       "<tr><td style=\"text-align: right;\">        1</td><td style=\"text-align: right;\">     280</td><td style=\"text-align: right;\">       4</td></tr>\n",
       "<tr><td style=\"text-align: right;\">        1</td><td style=\"text-align: right;\">     367</td><td style=\"text-align: right;\">       3</td></tr>\n",
       "</tbody>\n",
       "</table>"
      ]
     },
     "metadata": {},
     "output_type": "display_data"
    },
    {
     "data": {
      "text/plain": []
     },
     "execution_count": 6,
     "metadata": {},
     "output_type": "execute_result"
    }
   ],
   "source": [
    "fm_train.head(5)"
   ]
  },
  {
   "cell_type": "code",
   "execution_count": 7,
   "id": "356b727e",
   "metadata": {},
   "outputs": [],
   "source": [
    "y_col = 'rating'\n",
    "X_cols = ['movieId', 'userId']"
   ]
  },
  {
   "cell_type": "code",
   "execution_count": 8,
   "id": "20563118",
   "metadata": {},
   "outputs": [
    {
     "data": {
      "text/html": [
       "<div>\n",
       "<style scoped>\n",
       "    .dataframe tbody tr th:only-of-type {\n",
       "        vertical-align: middle;\n",
       "    }\n",
       "\n",
       "    .dataframe tbody tr th {\n",
       "        vertical-align: top;\n",
       "    }\n",
       "\n",
       "    .dataframe thead th {\n",
       "        text-align: right;\n",
       "    }\n",
       "</style>\n",
       "<table border=\"1\" class=\"dataframe\">\n",
       "  <thead>\n",
       "    <tr style=\"text-align: right;\">\n",
       "      <th></th>\n",
       "      <th>Cols</th>\n",
       "      <th>Type</th>\n",
       "      <th>N_Levels</th>\n",
       "    </tr>\n",
       "  </thead>\n",
       "  <tbody>\n",
       "    <tr>\n",
       "      <th>0</th>\n",
       "      <td>movieId</td>\n",
       "      <td>enum</td>\n",
       "      <td>7972</td>\n",
       "    </tr>\n",
       "    <tr>\n",
       "      <th>1</th>\n",
       "      <td>userId</td>\n",
       "      <td>enum</td>\n",
       "      <td>7759</td>\n",
       "    </tr>\n",
       "  </tbody>\n",
       "</table>\n",
       "</div>"
      ],
      "text/plain": [
       "      Cols  Type  N_Levels\n",
       "0  movieId  enum      7972\n",
       "1   userId  enum      7759"
      ]
     },
     "execution_count": 8,
     "metadata": {},
     "output_type": "execute_result"
    }
   ],
   "source": [
    "# 特徴量（カテゴリカル変数）の水準数 - 学習データ\n",
    "pd.DataFrame({'Cols':fm_train[X_cols].columns, 'Type':fm_train[X_cols].types.values(), 'N_Levels':fm_train[X_cols].nlevels()})"
   ]
  },
  {
   "cell_type": "code",
   "execution_count": 9,
   "id": "0fc3360d",
   "metadata": {},
   "outputs": [
    {
     "data": {
      "text/html": [
       "<div>\n",
       "<style scoped>\n",
       "    .dataframe tbody tr th:only-of-type {\n",
       "        vertical-align: middle;\n",
       "    }\n",
       "\n",
       "    .dataframe tbody tr th {\n",
       "        vertical-align: top;\n",
       "    }\n",
       "\n",
       "    .dataframe thead th {\n",
       "        text-align: right;\n",
       "    }\n",
       "</style>\n",
       "<table border=\"1\" class=\"dataframe\">\n",
       "  <thead>\n",
       "    <tr style=\"text-align: right;\">\n",
       "      <th></th>\n",
       "      <th>Cols</th>\n",
       "      <th>Type</th>\n",
       "      <th>N_Levels</th>\n",
       "    </tr>\n",
       "  </thead>\n",
       "  <tbody>\n",
       "    <tr>\n",
       "      <th>0</th>\n",
       "      <td>movieId</td>\n",
       "      <td>enum</td>\n",
       "      <td>5919</td>\n",
       "    </tr>\n",
       "    <tr>\n",
       "      <th>1</th>\n",
       "      <td>userId</td>\n",
       "      <td>enum</td>\n",
       "      <td>2104</td>\n",
       "    </tr>\n",
       "  </tbody>\n",
       "</table>\n",
       "</div>"
      ],
      "text/plain": [
       "      Cols  Type  N_Levels\n",
       "0  movieId  enum      5919\n",
       "1   userId  enum      2104"
      ]
     },
     "execution_count": 9,
     "metadata": {},
     "output_type": "execute_result"
    }
   ],
   "source": [
    "# 特徴量（カテゴリカル変数）の水準数 - テストデータ\n",
    "pd.DataFrame({'Cols':fm_test[X_cols].columns, 'Type':fm_test[X_cols].types.values(), 'N_Levels':fm_test[X_cols].nlevels()})"
   ]
  },
  {
   "cell_type": "markdown",
   "id": "b5c471c7",
   "metadata": {},
   "source": [
    "テストデータにあって、学習データに無い水準は削除しておく"
   ]
  },
  {
   "cell_type": "code",
   "execution_count": 10,
   "id": "39944571",
   "metadata": {},
   "outputs": [
    {
     "name": "stdout",
     "output_type": "stream",
     "text": [
      "118\n",
      "513\n"
     ]
    }
   ],
   "source": [
    "# テストデータにあって、学習データに無い水準\n",
    "ng_list_movieId = list(set(fm_test['movieId'].categories()) - set(fm_train['movieId'].categories()))\n",
    "print(len(ng_list_movieId))\n",
    "ng_list_userId = list(set(fm_test['userId'].categories()) - set(fm_train['userId'].categories()))\n",
    "print(len(ng_list_userId))"
   ]
  },
  {
   "cell_type": "code",
   "execution_count": 11,
   "id": "d339bef3",
   "metadata": {},
   "outputs": [
    {
     "data": {
      "text/plain": [
       "(34333, 3)"
      ]
     },
     "execution_count": 11,
     "metadata": {},
     "output_type": "execute_result"
    }
   ],
   "source": [
    "fm_test = fm_test[~fm_test['movieId'].isin(ng_list_movieId)]\n",
    "fm_test = fm_test[~fm_test['userId'].isin(ng_list_userId)]\n",
    "fm_test.shape"
   ]
  },
  {
   "cell_type": "markdown",
   "id": "567f1161",
   "metadata": {},
   "source": [
    "## ベースラインモデル\n",
    "カテゴリカルデータをそのままで利用"
   ]
  },
  {
   "cell_type": "markdown",
   "id": "19891a38",
   "metadata": {},
   "source": [
    "categorical_encodingに関して： [ドキュメント](https://docs.h2o.ai/h2o/latest-stable/h2o-docs/data-science/algo-params/categorical_encoding.html)"
   ]
  },
  {
   "cell_type": "code",
   "execution_count": 12,
   "id": "2d15a178",
   "metadata": {},
   "outputs": [
    {
     "name": "stdout",
     "output_type": "stream",
     "text": [
      "gbm Model Build progress: |██████████████████████████████████████████████████████| (done) 100%\n",
      "CPU times: user 161 ms, sys: 38 ms, total: 199 ms\n",
      "Wall time: 4.65 s\n",
      "Model Details\n",
      "=============\n",
      "H2OGradientBoostingEstimator :  Gradient Boosting Machine\n",
      "Model Key:  GBM_model_python_1656200744705_1\n",
      "\n",
      "\n",
      "Model Summary: \n"
     ]
    },
    {
     "data": {
      "text/html": [
       "<div>\n",
       "<style scoped>\n",
       "    .dataframe tbody tr th:only-of-type {\n",
       "        vertical-align: middle;\n",
       "    }\n",
       "\n",
       "    .dataframe tbody tr th {\n",
       "        vertical-align: top;\n",
       "    }\n",
       "\n",
       "    .dataframe thead th {\n",
       "        text-align: right;\n",
       "    }\n",
       "</style>\n",
       "<table border=\"1\" class=\"dataframe\">\n",
       "  <thead>\n",
       "    <tr style=\"text-align: right;\">\n",
       "      <th></th>\n",
       "      <th></th>\n",
       "      <th>number_of_trees</th>\n",
       "      <th>number_of_internal_trees</th>\n",
       "      <th>model_size_in_bytes</th>\n",
       "      <th>min_depth</th>\n",
       "      <th>max_depth</th>\n",
       "      <th>mean_depth</th>\n",
       "      <th>min_leaves</th>\n",
       "      <th>max_leaves</th>\n",
       "      <th>mean_leaves</th>\n",
       "    </tr>\n",
       "  </thead>\n",
       "  <tbody>\n",
       "    <tr>\n",
       "      <th>0</th>\n",
       "      <td></td>\n",
       "      <td>50.0</td>\n",
       "      <td>50.0</td>\n",
       "      <td>63815.0</td>\n",
       "      <td>5.0</td>\n",
       "      <td>5.0</td>\n",
       "      <td>5.0</td>\n",
       "      <td>31.0</td>\n",
       "      <td>32.0</td>\n",
       "      <td>31.94</td>\n",
       "    </tr>\n",
       "  </tbody>\n",
       "</table>\n",
       "</div>"
      ],
      "text/plain": [
       "     number_of_trees  number_of_internal_trees  model_size_in_bytes  \\\n",
       "0               50.0                      50.0              63815.0   \n",
       "\n",
       "   min_depth  max_depth  mean_depth  min_leaves  max_leaves  mean_leaves  \n",
       "0        5.0        5.0         5.0        31.0        32.0        31.94  "
      ]
     },
     "metadata": {},
     "output_type": "display_data"
    },
    {
     "name": "stdout",
     "output_type": "stream",
     "text": [
      "\n",
      "\n",
      "ModelMetricsRegression: gbm\n",
      "** Reported on train data. **\n",
      "\n",
      "MSE: 0.8575576566887294\n",
      "RMSE: 0.9260440900349882\n",
      "MAE: 0.7184197620178461\n",
      "RMSLE: 0.2613434733252129\n",
      "Mean Residual Deviance: 0.8575576566887294\n",
      "\n",
      "ModelMetricsRegression: gbm\n",
      "** Reported on validation data. **\n",
      "\n",
      "MSE: 0.7931498439576165\n",
      "RMSE: 0.8905896046763719\n",
      "MAE: 0.685720138393942\n",
      "RMSLE: 0.25430354132122523\n",
      "Mean Residual Deviance: 0.7931498439576165\n",
      "\n",
      "Scoring History: \n"
     ]
    },
    {
     "data": {
      "text/html": [
       "<div>\n",
       "<style scoped>\n",
       "    .dataframe tbody tr th:only-of-type {\n",
       "        vertical-align: middle;\n",
       "    }\n",
       "\n",
       "    .dataframe tbody tr th {\n",
       "        vertical-align: top;\n",
       "    }\n",
       "\n",
       "    .dataframe thead th {\n",
       "        text-align: right;\n",
       "    }\n",
       "</style>\n",
       "<table border=\"1\" class=\"dataframe\">\n",
       "  <thead>\n",
       "    <tr style=\"text-align: right;\">\n",
       "      <th></th>\n",
       "      <th></th>\n",
       "      <th>timestamp</th>\n",
       "      <th>duration</th>\n",
       "      <th>number_of_trees</th>\n",
       "      <th>training_rmse</th>\n",
       "      <th>training_mae</th>\n",
       "      <th>training_deviance</th>\n",
       "      <th>validation_rmse</th>\n",
       "      <th>validation_mae</th>\n",
       "      <th>validation_deviance</th>\n",
       "    </tr>\n",
       "  </thead>\n",
       "  <tbody>\n",
       "    <tr>\n",
       "      <th>0</th>\n",
       "      <td></td>\n",
       "      <td>2022-06-26 08:46:08</td>\n",
       "      <td>0.038 sec</td>\n",
       "      <td>0.0</td>\n",
       "      <td>1.041483</td>\n",
       "      <td>0.818244</td>\n",
       "      <td>1.084688</td>\n",
       "      <td>1.003806</td>\n",
       "      <td>0.782945</td>\n",
       "      <td>1.007626</td>\n",
       "    </tr>\n",
       "    <tr>\n",
       "      <th>1</th>\n",
       "      <td></td>\n",
       "      <td>2022-06-26 08:46:09</td>\n",
       "      <td>0.955 sec</td>\n",
       "      <td>1.0</td>\n",
       "      <td>1.035621</td>\n",
       "      <td>0.813121</td>\n",
       "      <td>1.072511</td>\n",
       "      <td>0.998687</td>\n",
       "      <td>0.778402</td>\n",
       "      <td>0.997376</td>\n",
       "    </tr>\n",
       "    <tr>\n",
       "      <th>2</th>\n",
       "      <td></td>\n",
       "      <td>2022-06-26 08:46:09</td>\n",
       "      <td>1.303 sec</td>\n",
       "      <td>2.0</td>\n",
       "      <td>1.028956</td>\n",
       "      <td>0.807582</td>\n",
       "      <td>1.058751</td>\n",
       "      <td>0.992554</td>\n",
       "      <td>0.773344</td>\n",
       "      <td>0.985163</td>\n",
       "    </tr>\n",
       "    <tr>\n",
       "      <th>3</th>\n",
       "      <td></td>\n",
       "      <td>2022-06-26 08:46:09</td>\n",
       "      <td>1.415 sec</td>\n",
       "      <td>3.0</td>\n",
       "      <td>1.023458</td>\n",
       "      <td>0.803362</td>\n",
       "      <td>1.047467</td>\n",
       "      <td>0.987637</td>\n",
       "      <td>0.769515</td>\n",
       "      <td>0.975426</td>\n",
       "    </tr>\n",
       "    <tr>\n",
       "      <th>4</th>\n",
       "      <td></td>\n",
       "      <td>2022-06-26 08:46:09</td>\n",
       "      <td>1.501 sec</td>\n",
       "      <td>4.0</td>\n",
       "      <td>1.017987</td>\n",
       "      <td>0.798851</td>\n",
       "      <td>1.036298</td>\n",
       "      <td>0.982710</td>\n",
       "      <td>0.765424</td>\n",
       "      <td>0.965718</td>\n",
       "    </tr>\n",
       "    <tr>\n",
       "      <th>5</th>\n",
       "      <td></td>\n",
       "      <td>2022-06-26 08:46:10</td>\n",
       "      <td>1.567 sec</td>\n",
       "      <td>5.0</td>\n",
       "      <td>1.014830</td>\n",
       "      <td>0.796395</td>\n",
       "      <td>1.029880</td>\n",
       "      <td>0.980004</td>\n",
       "      <td>0.763403</td>\n",
       "      <td>0.960409</td>\n",
       "    </tr>\n",
       "    <tr>\n",
       "      <th>6</th>\n",
       "      <td></td>\n",
       "      <td>2022-06-26 08:46:10</td>\n",
       "      <td>1.630 sec</td>\n",
       "      <td>6.0</td>\n",
       "      <td>1.012157</td>\n",
       "      <td>0.794134</td>\n",
       "      <td>1.024462</td>\n",
       "      <td>0.977749</td>\n",
       "      <td>0.761588</td>\n",
       "      <td>0.955994</td>\n",
       "    </tr>\n",
       "    <tr>\n",
       "      <th>7</th>\n",
       "      <td></td>\n",
       "      <td>2022-06-26 08:46:10</td>\n",
       "      <td>1.691 sec</td>\n",
       "      <td>7.0</td>\n",
       "      <td>1.008906</td>\n",
       "      <td>0.791165</td>\n",
       "      <td>1.017891</td>\n",
       "      <td>0.974624</td>\n",
       "      <td>0.758955</td>\n",
       "      <td>0.949893</td>\n",
       "    </tr>\n",
       "    <tr>\n",
       "      <th>8</th>\n",
       "      <td></td>\n",
       "      <td>2022-06-26 08:46:10</td>\n",
       "      <td>1.753 sec</td>\n",
       "      <td>8.0</td>\n",
       "      <td>1.004970</td>\n",
       "      <td>0.787382</td>\n",
       "      <td>1.009965</td>\n",
       "      <td>0.970767</td>\n",
       "      <td>0.755486</td>\n",
       "      <td>0.942388</td>\n",
       "    </tr>\n",
       "    <tr>\n",
       "      <th>9</th>\n",
       "      <td></td>\n",
       "      <td>2022-06-26 08:46:10</td>\n",
       "      <td>1.815 sec</td>\n",
       "      <td>9.0</td>\n",
       "      <td>1.002657</td>\n",
       "      <td>0.785182</td>\n",
       "      <td>1.005321</td>\n",
       "      <td>0.968530</td>\n",
       "      <td>0.753448</td>\n",
       "      <td>0.938050</td>\n",
       "    </tr>\n",
       "    <tr>\n",
       "      <th>10</th>\n",
       "      <td></td>\n",
       "      <td>2022-06-26 08:46:10</td>\n",
       "      <td>1.875 sec</td>\n",
       "      <td>10.0</td>\n",
       "      <td>0.999808</td>\n",
       "      <td>0.782661</td>\n",
       "      <td>0.999615</td>\n",
       "      <td>0.965899</td>\n",
       "      <td>0.751292</td>\n",
       "      <td>0.932962</td>\n",
       "    </tr>\n",
       "    <tr>\n",
       "      <th>11</th>\n",
       "      <td></td>\n",
       "      <td>2022-06-26 08:46:10</td>\n",
       "      <td>1.932 sec</td>\n",
       "      <td>11.0</td>\n",
       "      <td>0.997772</td>\n",
       "      <td>0.780837</td>\n",
       "      <td>0.995549</td>\n",
       "      <td>0.963831</td>\n",
       "      <td>0.749525</td>\n",
       "      <td>0.928971</td>\n",
       "    </tr>\n",
       "    <tr>\n",
       "      <th>12</th>\n",
       "      <td></td>\n",
       "      <td>2022-06-26 08:46:10</td>\n",
       "      <td>1.995 sec</td>\n",
       "      <td>12.0</td>\n",
       "      <td>0.994767</td>\n",
       "      <td>0.777989</td>\n",
       "      <td>0.989561</td>\n",
       "      <td>0.960930</td>\n",
       "      <td>0.746917</td>\n",
       "      <td>0.923386</td>\n",
       "    </tr>\n",
       "    <tr>\n",
       "      <th>13</th>\n",
       "      <td></td>\n",
       "      <td>2022-06-26 08:46:10</td>\n",
       "      <td>2.056 sec</td>\n",
       "      <td>13.0</td>\n",
       "      <td>0.992302</td>\n",
       "      <td>0.775613</td>\n",
       "      <td>0.984663</td>\n",
       "      <td>0.958463</td>\n",
       "      <td>0.744670</td>\n",
       "      <td>0.918652</td>\n",
       "    </tr>\n",
       "    <tr>\n",
       "      <th>14</th>\n",
       "      <td></td>\n",
       "      <td>2022-06-26 08:46:10</td>\n",
       "      <td>2.112 sec</td>\n",
       "      <td>14.0</td>\n",
       "      <td>0.990842</td>\n",
       "      <td>0.774319</td>\n",
       "      <td>0.981768</td>\n",
       "      <td>0.956750</td>\n",
       "      <td>0.743282</td>\n",
       "      <td>0.915370</td>\n",
       "    </tr>\n",
       "    <tr>\n",
       "      <th>15</th>\n",
       "      <td></td>\n",
       "      <td>2022-06-26 08:46:10</td>\n",
       "      <td>2.183 sec</td>\n",
       "      <td>15.0</td>\n",
       "      <td>0.989175</td>\n",
       "      <td>0.772898</td>\n",
       "      <td>0.978468</td>\n",
       "      <td>0.954986</td>\n",
       "      <td>0.741857</td>\n",
       "      <td>0.911999</td>\n",
       "    </tr>\n",
       "    <tr>\n",
       "      <th>16</th>\n",
       "      <td></td>\n",
       "      <td>2022-06-26 08:46:10</td>\n",
       "      <td>2.241 sec</td>\n",
       "      <td>16.0</td>\n",
       "      <td>0.987298</td>\n",
       "      <td>0.771123</td>\n",
       "      <td>0.974758</td>\n",
       "      <td>0.952929</td>\n",
       "      <td>0.740234</td>\n",
       "      <td>0.908074</td>\n",
       "    </tr>\n",
       "    <tr>\n",
       "      <th>17</th>\n",
       "      <td></td>\n",
       "      <td>2022-06-26 08:46:10</td>\n",
       "      <td>2.362 sec</td>\n",
       "      <td>17.0</td>\n",
       "      <td>0.984731</td>\n",
       "      <td>0.768877</td>\n",
       "      <td>0.969695</td>\n",
       "      <td>0.950012</td>\n",
       "      <td>0.737839</td>\n",
       "      <td>0.902523</td>\n",
       "    </tr>\n",
       "    <tr>\n",
       "      <th>18</th>\n",
       "      <td></td>\n",
       "      <td>2022-06-26 08:46:10</td>\n",
       "      <td>2.416 sec</td>\n",
       "      <td>18.0</td>\n",
       "      <td>0.983165</td>\n",
       "      <td>0.767489</td>\n",
       "      <td>0.966613</td>\n",
       "      <td>0.948377</td>\n",
       "      <td>0.736527</td>\n",
       "      <td>0.899419</td>\n",
       "    </tr>\n",
       "    <tr>\n",
       "      <th>19</th>\n",
       "      <td></td>\n",
       "      <td>2022-06-26 08:46:10</td>\n",
       "      <td>2.475 sec</td>\n",
       "      <td>19.0</td>\n",
       "      <td>0.981080</td>\n",
       "      <td>0.765883</td>\n",
       "      <td>0.962518</td>\n",
       "      <td>0.945969</td>\n",
       "      <td>0.734788</td>\n",
       "      <td>0.894858</td>\n",
       "    </tr>\n",
       "  </tbody>\n",
       "</table>\n",
       "</div>"
      ],
      "text/plain": [
       "                timestamp    duration  number_of_trees  training_rmse  \\\n",
       "0     2022-06-26 08:46:08   0.038 sec              0.0       1.041483   \n",
       "1     2022-06-26 08:46:09   0.955 sec              1.0       1.035621   \n",
       "2     2022-06-26 08:46:09   1.303 sec              2.0       1.028956   \n",
       "3     2022-06-26 08:46:09   1.415 sec              3.0       1.023458   \n",
       "4     2022-06-26 08:46:09   1.501 sec              4.0       1.017987   \n",
       "5     2022-06-26 08:46:10   1.567 sec              5.0       1.014830   \n",
       "6     2022-06-26 08:46:10   1.630 sec              6.0       1.012157   \n",
       "7     2022-06-26 08:46:10   1.691 sec              7.0       1.008906   \n",
       "8     2022-06-26 08:46:10   1.753 sec              8.0       1.004970   \n",
       "9     2022-06-26 08:46:10   1.815 sec              9.0       1.002657   \n",
       "10    2022-06-26 08:46:10   1.875 sec             10.0       0.999808   \n",
       "11    2022-06-26 08:46:10   1.932 sec             11.0       0.997772   \n",
       "12    2022-06-26 08:46:10   1.995 sec             12.0       0.994767   \n",
       "13    2022-06-26 08:46:10   2.056 sec             13.0       0.992302   \n",
       "14    2022-06-26 08:46:10   2.112 sec             14.0       0.990842   \n",
       "15    2022-06-26 08:46:10   2.183 sec             15.0       0.989175   \n",
       "16    2022-06-26 08:46:10   2.241 sec             16.0       0.987298   \n",
       "17    2022-06-26 08:46:10   2.362 sec             17.0       0.984731   \n",
       "18    2022-06-26 08:46:10   2.416 sec             18.0       0.983165   \n",
       "19    2022-06-26 08:46:10   2.475 sec             19.0       0.981080   \n",
       "\n",
       "    training_mae  training_deviance  validation_rmse  validation_mae  \\\n",
       "0       0.818244           1.084688         1.003806        0.782945   \n",
       "1       0.813121           1.072511         0.998687        0.778402   \n",
       "2       0.807582           1.058751         0.992554        0.773344   \n",
       "3       0.803362           1.047467         0.987637        0.769515   \n",
       "4       0.798851           1.036298         0.982710        0.765424   \n",
       "5       0.796395           1.029880         0.980004        0.763403   \n",
       "6       0.794134           1.024462         0.977749        0.761588   \n",
       "7       0.791165           1.017891         0.974624        0.758955   \n",
       "8       0.787382           1.009965         0.970767        0.755486   \n",
       "9       0.785182           1.005321         0.968530        0.753448   \n",
       "10      0.782661           0.999615         0.965899        0.751292   \n",
       "11      0.780837           0.995549         0.963831        0.749525   \n",
       "12      0.777989           0.989561         0.960930        0.746917   \n",
       "13      0.775613           0.984663         0.958463        0.744670   \n",
       "14      0.774319           0.981768         0.956750        0.743282   \n",
       "15      0.772898           0.978468         0.954986        0.741857   \n",
       "16      0.771123           0.974758         0.952929        0.740234   \n",
       "17      0.768877           0.969695         0.950012        0.737839   \n",
       "18      0.767489           0.966613         0.948377        0.736527   \n",
       "19      0.765883           0.962518         0.945969        0.734788   \n",
       "\n",
       "    validation_deviance  \n",
       "0              1.007626  \n",
       "1              0.997376  \n",
       "2              0.985163  \n",
       "3              0.975426  \n",
       "4              0.965718  \n",
       "5              0.960409  \n",
       "6              0.955994  \n",
       "7              0.949893  \n",
       "8              0.942388  \n",
       "9              0.938050  \n",
       "10             0.932962  \n",
       "11             0.928971  \n",
       "12             0.923386  \n",
       "13             0.918652  \n",
       "14             0.915370  \n",
       "15             0.911999  \n",
       "16             0.908074  \n",
       "17             0.902523  \n",
       "18             0.899419  \n",
       "19             0.894858  "
      ]
     },
     "metadata": {},
     "output_type": "display_data"
    },
    {
     "name": "stdout",
     "output_type": "stream",
     "text": [
      "\n",
      "See the whole table with table.as_data_frame()\n",
      "\n",
      "Variable Importances: \n"
     ]
    },
    {
     "data": {
      "text/html": [
       "<div>\n",
       "<style scoped>\n",
       "    .dataframe tbody tr th:only-of-type {\n",
       "        vertical-align: middle;\n",
       "    }\n",
       "\n",
       "    .dataframe tbody tr th {\n",
       "        vertical-align: top;\n",
       "    }\n",
       "\n",
       "    .dataframe thead th {\n",
       "        text-align: right;\n",
       "    }\n",
       "</style>\n",
       "<table border=\"1\" class=\"dataframe\">\n",
       "  <thead>\n",
       "    <tr style=\"text-align: right;\">\n",
       "      <th></th>\n",
       "      <th>variable</th>\n",
       "      <th>relative_importance</th>\n",
       "      <th>scaled_importance</th>\n",
       "      <th>percentage</th>\n",
       "    </tr>\n",
       "  </thead>\n",
       "  <tbody>\n",
       "    <tr>\n",
       "      <th>0</th>\n",
       "      <td>movieId</td>\n",
       "      <td>917004.06250</td>\n",
       "      <td>1.000000</td>\n",
       "      <td>0.767097</td>\n",
       "    </tr>\n",
       "    <tr>\n",
       "      <th>1</th>\n",
       "      <td>userId</td>\n",
       "      <td>278416.46875</td>\n",
       "      <td>0.303615</td>\n",
       "      <td>0.232903</td>\n",
       "    </tr>\n",
       "  </tbody>\n",
       "</table>\n",
       "</div>"
      ],
      "text/plain": [
       "  variable  relative_importance  scaled_importance  percentage\n",
       "0  movieId         917004.06250           1.000000    0.767097\n",
       "1   userId         278416.46875           0.303615    0.232903"
      ]
     },
     "metadata": {},
     "output_type": "display_data"
    },
    {
     "data": {
      "text/plain": []
     },
     "execution_count": 12,
     "metadata": {},
     "output_type": "execute_result"
    }
   ],
   "source": [
    "gbm_baseline = H2OGradientBoostingEstimator(categorical_encoding='auto')\n",
    "%time gbm_baseline.train(x=X_cols, y=y_col, training_frame=fm_train, validation_frame=fm_test)"
   ]
  },
  {
   "cell_type": "markdown",
   "id": "df3660dc",
   "metadata": {},
   "source": [
    "## Target Encodingを実施したモデル"
   ]
  },
  {
   "cell_type": "markdown",
   "id": "99577a9c",
   "metadata": {},
   "source": [
    "[ドキュメント](https://docs.h2o.ai/h2o/latest-stable/h2o-docs/data-science/target-encoding.html)  \n",
    "[API Reference](https://docs.h2o.ai/h2o/latest-stable/h2o-py/docs/modeling.html#h2otargetencoderestimator)"
   ]
  },
  {
   "cell_type": "code",
   "execution_count": 13,
   "id": "5592b443",
   "metadata": {},
   "outputs": [],
   "source": [
    "# Target Encoding用のfoldカラム\n",
    "fold_column = \"kfold_column\"\n",
    "fm_train[fold_column] = fm_train.kfold_column(n_folds=5, seed=123)"
   ]
  },
  {
   "cell_type": "code",
   "execution_count": 14,
   "id": "7bb804bb",
   "metadata": {},
   "outputs": [
    {
     "data": {
      "text/html": [
       "<table>\n",
       "<thead>\n",
       "<tr><th style=\"text-align: right;\">  movieId</th><th style=\"text-align: right;\">  userId</th><th style=\"text-align: right;\">  rating</th><th style=\"text-align: right;\">  kfold_column</th></tr>\n",
       "</thead>\n",
       "<tbody>\n",
       "<tr><td style=\"text-align: right;\">        1</td><td style=\"text-align: right;\">      91</td><td style=\"text-align: right;\">       4</td><td style=\"text-align: right;\">             1</td></tr>\n",
       "<tr><td style=\"text-align: right;\">        1</td><td style=\"text-align: right;\">     221</td><td style=\"text-align: right;\">       4</td><td style=\"text-align: right;\">             1</td></tr>\n",
       "<tr><td style=\"text-align: right;\">        1</td><td style=\"text-align: right;\">     238</td><td style=\"text-align: right;\">       4</td><td style=\"text-align: right;\">             1</td></tr>\n",
       "<tr><td style=\"text-align: right;\">        1</td><td style=\"text-align: right;\">     280</td><td style=\"text-align: right;\">       4</td><td style=\"text-align: right;\">             2</td></tr>\n",
       "<tr><td style=\"text-align: right;\">        1</td><td style=\"text-align: right;\">     367</td><td style=\"text-align: right;\">       3</td><td style=\"text-align: right;\">             1</td></tr>\n",
       "</tbody>\n",
       "</table>"
      ]
     },
     "metadata": {},
     "output_type": "display_data"
    },
    {
     "data": {
      "text/plain": []
     },
     "execution_count": 14,
     "metadata": {},
     "output_type": "execute_result"
    }
   ],
   "source": [
    "fm_train.head(5)"
   ]
  },
  {
   "cell_type": "code",
   "execution_count": 15,
   "id": "85c96e16",
   "metadata": {},
   "outputs": [
    {
     "name": "stdout",
     "output_type": "stream",
     "text": [
      "No model trained yet\n"
     ]
    },
    {
     "data": {
      "text/plain": []
     },
     "execution_count": 15,
     "metadata": {},
     "output_type": "execute_result"
    }
   ],
   "source": [
    "# Target Mean Encoding\n",
    "te = H2OTargetEncoderEstimator(fold_column=fold_column,\n",
    "                                       data_leakage_handling=\"k_fold\",    # k foldを利用したTarget Encoding\n",
    "                                       blending=True,        # 結果（水準別ターゲット変数の平均）に水準内のデータ数で重みつけを実施するかどうか\n",
    "                                       inflection_point=10,         # blending=Trueの場合のパラメータ\n",
    "                                       smoothing=20,            # blending=Trueの場合のパラメータ\n",
    "                                       noise=0.01,            # Over fitを避けるためノイズの付与\n",
    "                                       seed=123)\n",
    "te"
   ]
  },
  {
   "cell_type": "code",
   "execution_count": 16,
   "id": "466141b8",
   "metadata": {},
   "outputs": [
    {
     "name": "stdout",
     "output_type": "stream",
     "text": [
      "targetencoder Model Build progress: |████████████████████████████████████████████| (done) 100%\n",
      "Model Details\n",
      "=============\n",
      "H2OTargetEncoderEstimator :  TargetEncoder\n",
      "Model Key:  TargetEncoder_model_python_1656200744705_2\n",
      "\n",
      "\n",
      "Target Encoder model summary: Summary for target encoder model\n"
     ]
    },
    {
     "data": {
      "text/html": [
       "<div>\n",
       "<style scoped>\n",
       "    .dataframe tbody tr th:only-of-type {\n",
       "        vertical-align: middle;\n",
       "    }\n",
       "\n",
       "    .dataframe tbody tr th {\n",
       "        vertical-align: top;\n",
       "    }\n",
       "\n",
       "    .dataframe thead th {\n",
       "        text-align: right;\n",
       "    }\n",
       "</style>\n",
       "<table border=\"1\" class=\"dataframe\">\n",
       "  <thead>\n",
       "    <tr style=\"text-align: right;\">\n",
       "      <th></th>\n",
       "      <th>original_names</th>\n",
       "      <th>encoded_column_names</th>\n",
       "    </tr>\n",
       "  </thead>\n",
       "  <tbody>\n",
       "    <tr>\n",
       "      <th>0</th>\n",
       "      <td>movieId</td>\n",
       "      <td>movieId_te</td>\n",
       "    </tr>\n",
       "    <tr>\n",
       "      <th>1</th>\n",
       "      <td>userId</td>\n",
       "      <td>userId_te</td>\n",
       "    </tr>\n",
       "  </tbody>\n",
       "</table>\n",
       "</div>"
      ],
      "text/plain": [
       "  original_names encoded_column_names\n",
       "0        movieId           movieId_te\n",
       "1         userId            userId_te"
      ]
     },
     "metadata": {},
     "output_type": "display_data"
    },
    {
     "name": "stdout",
     "output_type": "stream",
     "text": [
      "\n"
     ]
    },
    {
     "data": {
      "text/plain": []
     },
     "execution_count": 16,
     "metadata": {},
     "output_type": "execute_result"
    }
   ],
   "source": [
    "te.train(x=X_cols,\n",
    "              y=y_col,\n",
    "              training_frame=fm_train)"
   ]
  },
  {
   "cell_type": "code",
   "execution_count": 17,
   "id": "c9ccd3e7",
   "metadata": {},
   "outputs": [
    {
     "name": "stdout",
     "output_type": "stream",
     "text": [
      "(1000000, 6)\n",
      "(34333, 5)\n"
     ]
    }
   ],
   "source": [
    "fm_train_te = te.transform(frame=fm_train, as_training=True)\n",
    "print(fm_train_te.shape)\n",
    "fm_test_te = te.transform(frame=fm_test)\n",
    "print(fm_test_te.shape)"
   ]
  },
  {
   "cell_type": "code",
   "execution_count": 18,
   "id": "4125d334",
   "metadata": {},
   "outputs": [
    {
     "data": {
      "text/html": [
       "<table>\n",
       "<thead>\n",
       "<tr><th style=\"text-align: right;\">  movieId_te</th><th style=\"text-align: right;\">  userId_te</th><th style=\"text-align: right;\">  movieId</th><th style=\"text-align: right;\">  userId</th><th style=\"text-align: right;\">  kfold_column</th><th style=\"text-align: right;\">  rating</th></tr>\n",
       "</thead>\n",
       "<tbody>\n",
       "<tr><td style=\"text-align: right;\">     3.75589</td><td style=\"text-align: right;\">    3.50222</td><td style=\"text-align: right;\">        1</td><td style=\"text-align: right;\">      91</td><td style=\"text-align: right;\">             1</td><td style=\"text-align: right;\">       4</td></tr>\n",
       "<tr><td style=\"text-align: right;\">     3.75526</td><td style=\"text-align: right;\">    3.15082</td><td style=\"text-align: right;\">        1</td><td style=\"text-align: right;\">     221</td><td style=\"text-align: right;\">             1</td><td style=\"text-align: right;\">       4</td></tr>\n",
       "<tr><td style=\"text-align: right;\">     3.75843</td><td style=\"text-align: right;\">    3.46522</td><td style=\"text-align: right;\">        1</td><td style=\"text-align: right;\">     238</td><td style=\"text-align: right;\">             1</td><td style=\"text-align: right;\">       4</td></tr>\n",
       "<tr><td style=\"text-align: right;\">     3.76599</td><td style=\"text-align: right;\">    4.04012</td><td style=\"text-align: right;\">        1</td><td style=\"text-align: right;\">     280</td><td style=\"text-align: right;\">             2</td><td style=\"text-align: right;\">       4</td></tr>\n",
       "<tr><td style=\"text-align: right;\">     3.75634</td><td style=\"text-align: right;\">    2.79134</td><td style=\"text-align: right;\">        1</td><td style=\"text-align: right;\">     367</td><td style=\"text-align: right;\">             1</td><td style=\"text-align: right;\">       3</td></tr>\n",
       "</tbody>\n",
       "</table>"
      ]
     },
     "metadata": {},
     "output_type": "display_data"
    },
    {
     "data": {
      "text/plain": []
     },
     "execution_count": 18,
     "metadata": {},
     "output_type": "execute_result"
    }
   ],
   "source": [
    "fm_train_te.head(5)"
   ]
  },
  {
   "cell_type": "code",
   "execution_count": 19,
   "id": "1e6cb613",
   "metadata": {},
   "outputs": [
    {
     "data": {
      "text/html": [
       "<table>\n",
       "<thead>\n",
       "<tr><th style=\"text-align: right;\">  movieId_te</th><th style=\"text-align: right;\">  userId_te</th><th style=\"text-align: right;\">  movieId</th><th style=\"text-align: right;\">  userId</th><th style=\"text-align: right;\">  rating</th></tr>\n",
       "</thead>\n",
       "<tbody>\n",
       "<tr><td style=\"text-align: right;\">     3.74831</td><td style=\"text-align: right;\">    3.74033</td><td style=\"text-align: right;\">        1</td><td style=\"text-align: right;\">    5453</td><td style=\"text-align: right;\">     4  </td></tr>\n",
       "<tr><td style=\"text-align: right;\">     3.74768</td><td style=\"text-align: right;\">    3.84137</td><td style=\"text-align: right;\">        1</td><td style=\"text-align: right;\">    6141</td><td style=\"text-align: right;\">     3.5</td></tr>\n",
       "<tr><td style=\"text-align: right;\">     3.75085</td><td style=\"text-align: right;\">    3.39111</td><td style=\"text-align: right;\">        1</td><td style=\"text-align: right;\">    9796</td><td style=\"text-align: right;\">     3  </td></tr>\n",
       "<tr><td style=\"text-align: right;\">     3.7625 </td><td style=\"text-align: right;\">    4.18745</td><td style=\"text-align: right;\">        1</td><td style=\"text-align: right;\">   16959</td><td style=\"text-align: right;\">     4.5</td></tr>\n",
       "<tr><td style=\"text-align: right;\">     3.74876</td><td style=\"text-align: right;\">    3.27797</td><td style=\"text-align: right;\">        1</td><td style=\"text-align: right;\">   25101</td><td style=\"text-align: right;\">     5  </td></tr>\n",
       "</tbody>\n",
       "</table>"
      ]
     },
     "metadata": {},
     "output_type": "display_data"
    },
    {
     "data": {
      "text/plain": []
     },
     "execution_count": 19,
     "metadata": {},
     "output_type": "execute_result"
    }
   ],
   "source": [
    "fm_test_te.head(5)"
   ]
  },
  {
   "cell_type": "code",
   "execution_count": 20,
   "id": "5c9ea684",
   "metadata": {},
   "outputs": [
    {
     "name": "stdout",
     "output_type": "stream",
     "text": [
      "gbm Model Build progress: |██████████████████████████████████████████████████████| (done) 100%\n",
      "CPU times: user 165 ms, sys: 39 ms, total: 204 ms\n",
      "Wall time: 3.27 s\n",
      "Model Details\n",
      "=============\n",
      "H2OGradientBoostingEstimator :  Gradient Boosting Machine\n",
      "Model Key:  GBM_model_python_1656200744705_3\n",
      "\n",
      "\n",
      "Model Summary: \n"
     ]
    },
    {
     "data": {
      "text/html": [
       "<div>\n",
       "<style scoped>\n",
       "    .dataframe tbody tr th:only-of-type {\n",
       "        vertical-align: middle;\n",
       "    }\n",
       "\n",
       "    .dataframe tbody tr th {\n",
       "        vertical-align: top;\n",
       "    }\n",
       "\n",
       "    .dataframe thead th {\n",
       "        text-align: right;\n",
       "    }\n",
       "</style>\n",
       "<table border=\"1\" class=\"dataframe\">\n",
       "  <thead>\n",
       "    <tr style=\"text-align: right;\">\n",
       "      <th></th>\n",
       "      <th></th>\n",
       "      <th>number_of_trees</th>\n",
       "      <th>number_of_internal_trees</th>\n",
       "      <th>model_size_in_bytes</th>\n",
       "      <th>min_depth</th>\n",
       "      <th>max_depth</th>\n",
       "      <th>mean_depth</th>\n",
       "      <th>min_leaves</th>\n",
       "      <th>max_leaves</th>\n",
       "      <th>mean_leaves</th>\n",
       "    </tr>\n",
       "  </thead>\n",
       "  <tbody>\n",
       "    <tr>\n",
       "      <th>0</th>\n",
       "      <td></td>\n",
       "      <td>50.0</td>\n",
       "      <td>50.0</td>\n",
       "      <td>22736.0</td>\n",
       "      <td>5.0</td>\n",
       "      <td>5.0</td>\n",
       "      <td>5.0</td>\n",
       "      <td>24.0</td>\n",
       "      <td>32.0</td>\n",
       "      <td>31.52</td>\n",
       "    </tr>\n",
       "  </tbody>\n",
       "</table>\n",
       "</div>"
      ],
      "text/plain": [
       "     number_of_trees  number_of_internal_trees  model_size_in_bytes  \\\n",
       "0               50.0                      50.0              22736.0   \n",
       "\n",
       "   min_depth  max_depth  mean_depth  min_leaves  max_leaves  mean_leaves  \n",
       "0        5.0        5.0         5.0        24.0        32.0        31.52  "
      ]
     },
     "metadata": {},
     "output_type": "display_data"
    },
    {
     "name": "stdout",
     "output_type": "stream",
     "text": [
      "\n",
      "\n",
      "ModelMetricsRegression: gbm\n",
      "** Reported on train data. **\n",
      "\n",
      "MSE: 0.6771904114589722\n",
      "RMSE: 0.822915798523137\n",
      "MAE: 0.6245905835832357\n",
      "RMSLE: 0.23147502622315805\n",
      "Mean Residual Deviance: 0.6771904114589722\n",
      "\n",
      "ModelMetricsRegression: gbm\n",
      "** Reported on validation data. **\n",
      "\n",
      "MSE: 0.647307471280479\n",
      "RMSE: 0.8045542065519756\n",
      "MAE: 0.601536669940775\n",
      "RMSLE: 0.2280791208098727\n",
      "Mean Residual Deviance: 0.647307471280479\n",
      "\n",
      "Scoring History: \n"
     ]
    },
    {
     "data": {
      "text/html": [
       "<div>\n",
       "<style scoped>\n",
       "    .dataframe tbody tr th:only-of-type {\n",
       "        vertical-align: middle;\n",
       "    }\n",
       "\n",
       "    .dataframe tbody tr th {\n",
       "        vertical-align: top;\n",
       "    }\n",
       "\n",
       "    .dataframe thead th {\n",
       "        text-align: right;\n",
       "    }\n",
       "</style>\n",
       "<table border=\"1\" class=\"dataframe\">\n",
       "  <thead>\n",
       "    <tr style=\"text-align: right;\">\n",
       "      <th></th>\n",
       "      <th></th>\n",
       "      <th>timestamp</th>\n",
       "      <th>duration</th>\n",
       "      <th>number_of_trees</th>\n",
       "      <th>training_rmse</th>\n",
       "      <th>training_mae</th>\n",
       "      <th>training_deviance</th>\n",
       "      <th>validation_rmse</th>\n",
       "      <th>validation_mae</th>\n",
       "      <th>validation_deviance</th>\n",
       "    </tr>\n",
       "  </thead>\n",
       "  <tbody>\n",
       "    <tr>\n",
       "      <th>0</th>\n",
       "      <td></td>\n",
       "      <td>2022-06-26 08:46:15</td>\n",
       "      <td>0.002 sec</td>\n",
       "      <td>0.0</td>\n",
       "      <td>1.041483</td>\n",
       "      <td>0.818244</td>\n",
       "      <td>1.084688</td>\n",
       "      <td>1.003806</td>\n",
       "      <td>0.782945</td>\n",
       "      <td>1.007626</td>\n",
       "    </tr>\n",
       "    <tr>\n",
       "      <th>1</th>\n",
       "      <td></td>\n",
       "      <td>2022-06-26 08:46:15</td>\n",
       "      <td>0.130 sec</td>\n",
       "      <td>1.0</td>\n",
       "      <td>1.005587</td>\n",
       "      <td>0.787218</td>\n",
       "      <td>1.011206</td>\n",
       "      <td>0.967041</td>\n",
       "      <td>0.750841</td>\n",
       "      <td>0.935168</td>\n",
       "    </tr>\n",
       "    <tr>\n",
       "      <th>2</th>\n",
       "      <td></td>\n",
       "      <td>2022-06-26 08:46:15</td>\n",
       "      <td>0.208 sec</td>\n",
       "      <td>2.0</td>\n",
       "      <td>0.975251</td>\n",
       "      <td>0.761437</td>\n",
       "      <td>0.951115</td>\n",
       "      <td>0.936207</td>\n",
       "      <td>0.724511</td>\n",
       "      <td>0.876484</td>\n",
       "    </tr>\n",
       "    <tr>\n",
       "      <th>3</th>\n",
       "      <td></td>\n",
       "      <td>2022-06-26 08:46:15</td>\n",
       "      <td>0.287 sec</td>\n",
       "      <td>3.0</td>\n",
       "      <td>0.949779</td>\n",
       "      <td>0.740467</td>\n",
       "      <td>0.902080</td>\n",
       "      <td>0.910550</td>\n",
       "      <td>0.703438</td>\n",
       "      <td>0.829101</td>\n",
       "    </tr>\n",
       "    <tr>\n",
       "      <th>4</th>\n",
       "      <td></td>\n",
       "      <td>2022-06-26 08:46:15</td>\n",
       "      <td>0.369 sec</td>\n",
       "      <td>4.0</td>\n",
       "      <td>0.928339</td>\n",
       "      <td>0.722807</td>\n",
       "      <td>0.861813</td>\n",
       "      <td>0.889255</td>\n",
       "      <td>0.686079</td>\n",
       "      <td>0.790775</td>\n",
       "    </tr>\n",
       "    <tr>\n",
       "      <th>5</th>\n",
       "      <td></td>\n",
       "      <td>2022-06-26 08:46:15</td>\n",
       "      <td>0.451 sec</td>\n",
       "      <td>5.0</td>\n",
       "      <td>0.910435</td>\n",
       "      <td>0.707645</td>\n",
       "      <td>0.828893</td>\n",
       "      <td>0.872116</td>\n",
       "      <td>0.671559</td>\n",
       "      <td>0.760587</td>\n",
       "    </tr>\n",
       "    <tr>\n",
       "      <th>6</th>\n",
       "      <td></td>\n",
       "      <td>2022-06-26 08:46:16</td>\n",
       "      <td>0.496 sec</td>\n",
       "      <td>6.0</td>\n",
       "      <td>0.895488</td>\n",
       "      <td>0.694762</td>\n",
       "      <td>0.801898</td>\n",
       "      <td>0.857783</td>\n",
       "      <td>0.658836</td>\n",
       "      <td>0.735792</td>\n",
       "    </tr>\n",
       "    <tr>\n",
       "      <th>7</th>\n",
       "      <td></td>\n",
       "      <td>2022-06-26 08:46:16</td>\n",
       "      <td>0.551 sec</td>\n",
       "      <td>7.0</td>\n",
       "      <td>0.883087</td>\n",
       "      <td>0.683664</td>\n",
       "      <td>0.779842</td>\n",
       "      <td>0.846139</td>\n",
       "      <td>0.648004</td>\n",
       "      <td>0.715951</td>\n",
       "    </tr>\n",
       "    <tr>\n",
       "      <th>8</th>\n",
       "      <td></td>\n",
       "      <td>2022-06-26 08:46:16</td>\n",
       "      <td>0.634 sec</td>\n",
       "      <td>8.0</td>\n",
       "      <td>0.872765</td>\n",
       "      <td>0.674167</td>\n",
       "      <td>0.761719</td>\n",
       "      <td>0.836536</td>\n",
       "      <td>0.638523</td>\n",
       "      <td>0.699792</td>\n",
       "    </tr>\n",
       "    <tr>\n",
       "      <th>9</th>\n",
       "      <td></td>\n",
       "      <td>2022-06-26 08:46:16</td>\n",
       "      <td>0.686 sec</td>\n",
       "      <td>9.0</td>\n",
       "      <td>0.864185</td>\n",
       "      <td>0.666186</td>\n",
       "      <td>0.746816</td>\n",
       "      <td>0.828881</td>\n",
       "      <td>0.630915</td>\n",
       "      <td>0.687043</td>\n",
       "    </tr>\n",
       "    <tr>\n",
       "      <th>10</th>\n",
       "      <td></td>\n",
       "      <td>2022-06-26 08:46:16</td>\n",
       "      <td>0.740 sec</td>\n",
       "      <td>10.0</td>\n",
       "      <td>0.857038</td>\n",
       "      <td>0.659367</td>\n",
       "      <td>0.734515</td>\n",
       "      <td>0.822740</td>\n",
       "      <td>0.624568</td>\n",
       "      <td>0.676901</td>\n",
       "    </tr>\n",
       "    <tr>\n",
       "      <th>11</th>\n",
       "      <td></td>\n",
       "      <td>2022-06-26 08:46:16</td>\n",
       "      <td>0.790 sec</td>\n",
       "      <td>11.0</td>\n",
       "      <td>0.851170</td>\n",
       "      <td>0.653781</td>\n",
       "      <td>0.724491</td>\n",
       "      <td>0.817598</td>\n",
       "      <td>0.619346</td>\n",
       "      <td>0.668466</td>\n",
       "    </tr>\n",
       "    <tr>\n",
       "      <th>12</th>\n",
       "      <td></td>\n",
       "      <td>2022-06-26 08:46:16</td>\n",
       "      <td>0.841 sec</td>\n",
       "      <td>12.0</td>\n",
       "      <td>0.846308</td>\n",
       "      <td>0.649159</td>\n",
       "      <td>0.716237</td>\n",
       "      <td>0.813797</td>\n",
       "      <td>0.615388</td>\n",
       "      <td>0.662265</td>\n",
       "    </tr>\n",
       "    <tr>\n",
       "      <th>13</th>\n",
       "      <td></td>\n",
       "      <td>2022-06-26 08:46:16</td>\n",
       "      <td>0.893 sec</td>\n",
       "      <td>13.0</td>\n",
       "      <td>0.842270</td>\n",
       "      <td>0.645334</td>\n",
       "      <td>0.709419</td>\n",
       "      <td>0.810618</td>\n",
       "      <td>0.612161</td>\n",
       "      <td>0.657102</td>\n",
       "    </tr>\n",
       "    <tr>\n",
       "      <th>14</th>\n",
       "      <td></td>\n",
       "      <td>2022-06-26 08:46:16</td>\n",
       "      <td>0.941 sec</td>\n",
       "      <td>14.0</td>\n",
       "      <td>0.838940</td>\n",
       "      <td>0.642175</td>\n",
       "      <td>0.703820</td>\n",
       "      <td>0.808423</td>\n",
       "      <td>0.609807</td>\n",
       "      <td>0.653547</td>\n",
       "    </tr>\n",
       "    <tr>\n",
       "      <th>15</th>\n",
       "      <td></td>\n",
       "      <td>2022-06-26 08:46:16</td>\n",
       "      <td>0.992 sec</td>\n",
       "      <td>15.0</td>\n",
       "      <td>0.836184</td>\n",
       "      <td>0.639513</td>\n",
       "      <td>0.699204</td>\n",
       "      <td>0.806532</td>\n",
       "      <td>0.607778</td>\n",
       "      <td>0.650494</td>\n",
       "    </tr>\n",
       "    <tr>\n",
       "      <th>16</th>\n",
       "      <td></td>\n",
       "      <td>2022-06-26 08:46:16</td>\n",
       "      <td>1.041 sec</td>\n",
       "      <td>16.0</td>\n",
       "      <td>0.833926</td>\n",
       "      <td>0.637284</td>\n",
       "      <td>0.695433</td>\n",
       "      <td>0.805173</td>\n",
       "      <td>0.606216</td>\n",
       "      <td>0.648303</td>\n",
       "    </tr>\n",
       "    <tr>\n",
       "      <th>17</th>\n",
       "      <td></td>\n",
       "      <td>2022-06-26 08:46:16</td>\n",
       "      <td>1.090 sec</td>\n",
       "      <td>17.0</td>\n",
       "      <td>0.832038</td>\n",
       "      <td>0.635449</td>\n",
       "      <td>0.692288</td>\n",
       "      <td>0.804040</td>\n",
       "      <td>0.604993</td>\n",
       "      <td>0.646481</td>\n",
       "    </tr>\n",
       "    <tr>\n",
       "      <th>18</th>\n",
       "      <td></td>\n",
       "      <td>2022-06-26 08:46:16</td>\n",
       "      <td>1.138 sec</td>\n",
       "      <td>18.0</td>\n",
       "      <td>0.830493</td>\n",
       "      <td>0.633847</td>\n",
       "      <td>0.689719</td>\n",
       "      <td>0.803346</td>\n",
       "      <td>0.603989</td>\n",
       "      <td>0.645364</td>\n",
       "    </tr>\n",
       "    <tr>\n",
       "      <th>19</th>\n",
       "      <td></td>\n",
       "      <td>2022-06-26 08:46:16</td>\n",
       "      <td>1.189 sec</td>\n",
       "      <td>19.0</td>\n",
       "      <td>0.829216</td>\n",
       "      <td>0.632507</td>\n",
       "      <td>0.687599</td>\n",
       "      <td>0.802521</td>\n",
       "      <td>0.603016</td>\n",
       "      <td>0.644040</td>\n",
       "    </tr>\n",
       "  </tbody>\n",
       "</table>\n",
       "</div>"
      ],
      "text/plain": [
       "                timestamp    duration  number_of_trees  training_rmse  \\\n",
       "0     2022-06-26 08:46:15   0.002 sec              0.0       1.041483   \n",
       "1     2022-06-26 08:46:15   0.130 sec              1.0       1.005587   \n",
       "2     2022-06-26 08:46:15   0.208 sec              2.0       0.975251   \n",
       "3     2022-06-26 08:46:15   0.287 sec              3.0       0.949779   \n",
       "4     2022-06-26 08:46:15   0.369 sec              4.0       0.928339   \n",
       "5     2022-06-26 08:46:15   0.451 sec              5.0       0.910435   \n",
       "6     2022-06-26 08:46:16   0.496 sec              6.0       0.895488   \n",
       "7     2022-06-26 08:46:16   0.551 sec              7.0       0.883087   \n",
       "8     2022-06-26 08:46:16   0.634 sec              8.0       0.872765   \n",
       "9     2022-06-26 08:46:16   0.686 sec              9.0       0.864185   \n",
       "10    2022-06-26 08:46:16   0.740 sec             10.0       0.857038   \n",
       "11    2022-06-26 08:46:16   0.790 sec             11.0       0.851170   \n",
       "12    2022-06-26 08:46:16   0.841 sec             12.0       0.846308   \n",
       "13    2022-06-26 08:46:16   0.893 sec             13.0       0.842270   \n",
       "14    2022-06-26 08:46:16   0.941 sec             14.0       0.838940   \n",
       "15    2022-06-26 08:46:16   0.992 sec             15.0       0.836184   \n",
       "16    2022-06-26 08:46:16   1.041 sec             16.0       0.833926   \n",
       "17    2022-06-26 08:46:16   1.090 sec             17.0       0.832038   \n",
       "18    2022-06-26 08:46:16   1.138 sec             18.0       0.830493   \n",
       "19    2022-06-26 08:46:16   1.189 sec             19.0       0.829216   \n",
       "\n",
       "    training_mae  training_deviance  validation_rmse  validation_mae  \\\n",
       "0       0.818244           1.084688         1.003806        0.782945   \n",
       "1       0.787218           1.011206         0.967041        0.750841   \n",
       "2       0.761437           0.951115         0.936207        0.724511   \n",
       "3       0.740467           0.902080         0.910550        0.703438   \n",
       "4       0.722807           0.861813         0.889255        0.686079   \n",
       "5       0.707645           0.828893         0.872116        0.671559   \n",
       "6       0.694762           0.801898         0.857783        0.658836   \n",
       "7       0.683664           0.779842         0.846139        0.648004   \n",
       "8       0.674167           0.761719         0.836536        0.638523   \n",
       "9       0.666186           0.746816         0.828881        0.630915   \n",
       "10      0.659367           0.734515         0.822740        0.624568   \n",
       "11      0.653781           0.724491         0.817598        0.619346   \n",
       "12      0.649159           0.716237         0.813797        0.615388   \n",
       "13      0.645334           0.709419         0.810618        0.612161   \n",
       "14      0.642175           0.703820         0.808423        0.609807   \n",
       "15      0.639513           0.699204         0.806532        0.607778   \n",
       "16      0.637284           0.695433         0.805173        0.606216   \n",
       "17      0.635449           0.692288         0.804040        0.604993   \n",
       "18      0.633847           0.689719         0.803346        0.603989   \n",
       "19      0.632507           0.687599         0.802521        0.603016   \n",
       "\n",
       "    validation_deviance  \n",
       "0              1.007626  \n",
       "1              0.935168  \n",
       "2              0.876484  \n",
       "3              0.829101  \n",
       "4              0.790775  \n",
       "5              0.760587  \n",
       "6              0.735792  \n",
       "7              0.715951  \n",
       "8              0.699792  \n",
       "9              0.687043  \n",
       "10             0.676901  \n",
       "11             0.668466  \n",
       "12             0.662265  \n",
       "13             0.657102  \n",
       "14             0.653547  \n",
       "15             0.650494  \n",
       "16             0.648303  \n",
       "17             0.646481  \n",
       "18             0.645364  \n",
       "19             0.644040  "
      ]
     },
     "metadata": {},
     "output_type": "display_data"
    },
    {
     "name": "stdout",
     "output_type": "stream",
     "text": [
      "\n",
      "See the whole table with table.as_data_frame()\n",
      "\n",
      "Variable Importances: \n"
     ]
    },
    {
     "data": {
      "text/html": [
       "<div>\n",
       "<style scoped>\n",
       "    .dataframe tbody tr th:only-of-type {\n",
       "        vertical-align: middle;\n",
       "    }\n",
       "\n",
       "    .dataframe tbody tr th {\n",
       "        vertical-align: top;\n",
       "    }\n",
       "\n",
       "    .dataframe thead th {\n",
       "        text-align: right;\n",
       "    }\n",
       "</style>\n",
       "<table border=\"1\" class=\"dataframe\">\n",
       "  <thead>\n",
       "    <tr style=\"text-align: right;\">\n",
       "      <th></th>\n",
       "      <th>variable</th>\n",
       "      <th>relative_importance</th>\n",
       "      <th>scaled_importance</th>\n",
       "      <th>percentage</th>\n",
       "    </tr>\n",
       "  </thead>\n",
       "  <tbody>\n",
       "    <tr>\n",
       "      <th>0</th>\n",
       "      <td>movieId_te</td>\n",
       "      <td>1354776.25</td>\n",
       "      <td>1.000000</td>\n",
       "      <td>0.63168</td>\n",
       "    </tr>\n",
       "    <tr>\n",
       "      <th>1</th>\n",
       "      <td>userId_te</td>\n",
       "      <td>789944.25</td>\n",
       "      <td>0.583081</td>\n",
       "      <td>0.36832</td>\n",
       "    </tr>\n",
       "  </tbody>\n",
       "</table>\n",
       "</div>"
      ],
      "text/plain": [
       "     variable  relative_importance  scaled_importance  percentage\n",
       "0  movieId_te           1354776.25           1.000000     0.63168\n",
       "1   userId_te            789944.25           0.583081     0.36832"
      ]
     },
     "metadata": {},
     "output_type": "display_data"
    },
    {
     "data": {
      "text/plain": []
     },
     "execution_count": 20,
     "metadata": {},
     "output_type": "execute_result"
    }
   ],
   "source": [
    "gbm_te = H2OGradientBoostingEstimator(categorical_encoding='auto')\n",
    "%time gbm_te.train(x=['movieId_te', 'userId_te'], y=y_col, training_frame=fm_train_te, validation_frame=fm_test_te)"
   ]
  },
  {
   "cell_type": "markdown",
   "id": "18bf4939",
   "metadata": {},
   "source": [
    "## 結果比較"
   ]
  },
  {
   "cell_type": "code",
   "execution_count": 21,
   "id": "9981604e",
   "metadata": {},
   "outputs": [
    {
     "name": "stdout",
     "output_type": "stream",
     "text": [
      "----- ベースラインモデル -----\n",
      "Train R2: 0.20939663875850412, Train RMSE0.9260440900349882\n",
      "Test R2: 0.2086346072768177, Test RMSE0.8905896046763719\n",
      "----- Target Encodingを実施したモデル -----\n",
      "Train R2: 0.37568161006542455, Train RMSE0.822915798523137\n",
      "Test R2: 0.3541488596070381, Test RMSE0.8045542065519756\n"
     ]
    }
   ],
   "source": [
    "print('----- ベースラインモデル -----')\n",
    "print('Train R2: {}, Train RMSE{}'.format(gbm_baseline.r2(train=True), gbm_baseline.rmse(train=True)))\n",
    "print('Test R2: {}, Test RMSE{}'.format(gbm_baseline.r2(valid=True), gbm_baseline.rmse(valid=True)))\n",
    "\n",
    "print('----- Target Encodingを実施したモデル -----')\n",
    "print('Train R2: {}, Train RMSE{}'.format(gbm_te.r2(train=True), gbm_te.rmse(train=True)))\n",
    "print('Test R2: {}, Test RMSE{}'.format(gbm_te.r2(valid=True), gbm_te.rmse(valid=True)))"
   ]
  },
  {
   "cell_type": "code",
   "execution_count": 22,
   "id": "907bf773",
   "metadata": {},
   "outputs": [
    {
     "name": "stdout",
     "output_type": "stream",
     "text": [
      "H2O session _sid_bb88 closed.\n"
     ]
    },
    {
     "name": "stderr",
     "output_type": "stream",
     "text": [
      "<ipython-input-22-1edf85295eae>:1: H2ODeprecationWarning: Deprecated, use ``h2o.cluster().shutdown()``.\n",
      "  h2o.shutdown()\n"
     ]
    }
   ],
   "source": [
    "h2o.shutdown()"
   ]
  },
  {
   "cell_type": "code",
   "execution_count": null,
   "id": "f1d99a93",
   "metadata": {},
   "outputs": [],
   "source": []
  },
  {
   "cell_type": "markdown",
   "id": "e36a96a0",
   "metadata": {},
   "source": [
    "## H2OTargetEncoderEstimatorのblendingに関して\n",
    "水準内のデータ数に基づいて、目標平均（水準別ターゲット変数の平均）に重みを付ける。 一部の水準のデータ数が少なく、目標平均が信頼できない場合がある。 これを防ぐために、水準における目標平均とグローバル平均の加重平均を取る。"
   ]
  },
  {
   "cell_type": "markdown",
   "id": "94dcaec8",
   "metadata": {},
   "source": [
    "参考：[YouTube - Automatic Feature Engineering with Driverless AI](https://www.youtube.com/watch?v=VMTKcT1iHww)  \n",
    "17:30辺り"
   ]
  },
  {
   "cell_type": "markdown",
   "id": "0045274a",
   "metadata": {},
   "source": [
    "参考によると、ある水準における目標平均は以下：\n",
    "    \n",
    "$$\n",
    "    λ(n~level) * mean(level) + (1-λ(n~level) ) * mean(Global) \\\\\n",
    "$$\n",
    "ここで、\n",
    "$$\n",
    "    λ(n~level) = 1 / 1 + exp(-(n~level - inflection\\_point)/smoothing) \\\\\n",
    "$$\n",
    "ある水準のデータ数（$n~level$）が少なければ、目標平均はグローバル平均に近づく"
   ]
  },
  {
   "cell_type": "code",
   "execution_count": null,
   "id": "c55db30d",
   "metadata": {},
   "outputs": [],
   "source": []
  }
 ],
 "metadata": {
  "kernelspec": {
   "display_name": "Python 3",
   "language": "python",
   "name": "python3"
  },
  "language_info": {
   "codemirror_mode": {
    "name": "ipython",
    "version": 3
   },
   "file_extension": ".py",
   "mimetype": "text/x-python",
   "name": "python",
   "nbconvert_exporter": "python",
   "pygments_lexer": "ipython3",
   "version": "3.8.3"
  }
 },
 "nbformat": 4,
 "nbformat_minor": 5
}
